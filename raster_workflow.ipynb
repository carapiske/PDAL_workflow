{
 "cells": [
  {
   "cell_type": "markdown",
   "id": "6c02ac40-bcd0-4a7d-ab54-887f67ec64de",
   "metadata": {},
   "source": [
    "# Raster Processing Workflow\n",
    "**Cara Piske, Graduate Program of Hydrologic Sciences, 2022; Advisor: Dr. Adrian Harpold**<br>\n",
    "<p>This code processes rasterized LAS files. <br>\n",
    "Lidar data were provided by the Airborne Snow Observatory (ASO), the National Center for Airborne Laser Mapping (NCALM), and Watershed Sciences Inc. (WSI). <br>\n",
    "\n",
    "The goal of this project is to process snow depth to the one-meter spatial scale while maintaining conservative under-canopy estimates. Therefore, little interpolation occurs under-canopy. We follow these protocols in order to obtain a 1-m rasterized product (as opposed to the 3-m rasterized product provided by ASO on the NSIDC data portal). NCALM and WSI flights were obtained through OpenTopography."
   ]
  },
  {
   "cell_type": "code",
   "execution_count": 15,
   "id": "0de1e9e2-c61e-4dfd-bdb4-3bd93eb22ba8",
   "metadata": {},
   "outputs": [],
   "source": [
    "# import necessary packages \n",
    "from osgeo import gdal, ogr, osr\n",
    "import csv\n",
    "import os\n",
    "import subprocess\n",
    "import sys\n",
    "import pdal\n",
    "import matplotlib.pyplot as plt\n",
    "import numpy as np\n",
    "import json\n",
    "import glob\n",
    "import time"
   ]
  },
  {
   "cell_type": "code",
   "execution_count": 1,
   "id": "ae9d2484-c59c-4a4d-a203-285f04543c77",
   "metadata": {},
   "outputs": [],
   "source": [
    "# #make sure we're in the right working directory\n",
    "# os.chdir('pat/to/dir/')\n",
    "# print(os.getcwd())"
   ]
  },
  {
   "cell_type": "markdown",
   "id": "e7971793-1fa3-46c0-a603-92c5c93ea76f",
   "metadata": {},
   "source": [
    "# Pre-Processing"
   ]
  },
  {
   "cell_type": "markdown",
   "id": "7f1d9d9d-a3ef-400e-aa38-19fdd43b4c5b",
   "metadata": {},
   "source": [
    "## Info"
   ]
  },
  {
   "cell_type": "code",
   "execution_count": null,
   "id": "95bd7601-fdc4-4ddf-a08d-508e03ea4084",
   "metadata": {},
   "outputs": [],
   "source": [
    "# # print file info/metadata\n",
    "# raster_filename = 'path/to/raster/file/filename.tif'\n",
    "# gdal_info_command = ['gdalinfo',raster_filename]\n",
    "# subprocess.run(gdal_info_command)"
   ]
  },
  {
   "cell_type": "code",
   "execution_count": 4,
   "id": "fac8897c-01e3-4563-8d4e-4690509c9545",
   "metadata": {},
   "outputs": [],
   "source": [
    "# # Obtain coordinates of file to use to set bounding box of merged files\n",
    "# raster_filename = 'path/to/raster/file/filename.tif'\n",
    "# src = gdal.Open(raster_filename) # open source file\n",
    "# ulx, xres, xskew, uly, yskew, yres  = src.GetGeoTransform() \n",
    "# lrx = ulx + (src.RasterXSize * xres) # lower right x\n",
    "# lry = uly + (src.RasterYSize * yres) # lower right y\n",
    "# src = None # close file"
   ]
  },
  {
   "cell_type": "markdown",
   "id": "f39ac6cb-aa2f-4f57-a9ef-be3ef73581e3",
   "metadata": {},
   "source": [
    "## Merge\n",
    "Merge all files into one raster"
   ]
  },
  {
   "cell_type": "code",
   "execution_count": 11,
   "id": "6c77d3d1-1008-4dcc-91c6-1d4e43dfcf8d",
   "metadata": {},
   "outputs": [],
   "source": [
    "gm = os.path.join('C:\\\\','OSGeo4W64','bin','gdal_merge.py')\n",
    "gdal_calc = os.path.join('C:\\\\','OSGeo4W64','bin','gdal_calc.py')"
   ]
  },
  {
   "cell_type": "markdown",
   "id": "26221a0f-4acd-40cb-bee5-8338cffbf2c3",
   "metadata": {},
   "source": [
    "**All Files in Directory**"
   ]
  },
  {
   "cell_type": "code",
   "execution_count": 5,
   "id": "7cd74787-b838-4d8a-b6ef-ad7cc1202844",
   "metadata": {},
   "outputs": [],
   "source": [
    "# # list all files in directory that match pattern\n",
    "# file_list = glob.glob('path/to/directory/*.tif')\n",
    "# output_merge = 'path/to/filename/filename.tif'"
   ]
  },
  {
   "cell_type": "code",
   "execution_count": null,
   "id": "a8213415-4bf4-4e74-8ee0-f4891827c33b",
   "metadata": {},
   "outputs": [],
   "source": [
    "# # gdal_merge\n",
    "# # use above coordinates or manually set coordinates for ulx, uly, lrx, lry\n",
    "# cmd = [\"gdal_merge.py\", \"-o\", output_merge]#,\"-ul_lr\", str(ulx), str(uly), str(lrx), str(lry)]\n",
    "# cmd.extend(demList)\n",
    "# subprocess.call(cmd)\n",
    "# # OR\n",
    "# # gdal_merge\n",
    "# # use above coordinates or manually set coordinates for ulx, uly, lrx, lry\n",
    "# cmd = [\"python\",gdal_merge, \"-o\", output_merge]#,\"-ul_lr\", str(ulx), str(uly), str(lrx), str(lry)]\n",
    "# cmd.extend(demList)\n",
    "# subprocess.call(cmd)"
   ]
  },
  {
   "cell_type": "markdown",
   "id": "a45fe5ca-7595-41a2-b946-5f1f73b95e3c",
   "metadata": {},
   "source": [
    "## Warp\n",
    "reprojection/warping utility, set the desired output coordinates (if not specified in the warping stage)"
   ]
  },
  {
   "cell_type": "code",
   "execution_count": 6,
   "id": "92fdac1a-8eee-43f6-a941-fd83889d6cce",
   "metadata": {},
   "outputs": [],
   "source": [
    "# # use ts to specify the x and y extents of bounding box (default 1000)\n",
    "# input_tif = 'path/to/filename/filename.tif'\n",
    "# output_tif = 'path/to/filename/filename.tif'\n",
    "# x_ext = 1000\n",
    "# y_ext = 1000\n",
    "# warp_cmd = [\"gdalwarp\",\"-overwrite\", input_tif, output_tif, \"-ts\", str(x_ext),str(y_ext)]\n",
    "# subprocess.call(warp_cmd)"
   ]
  },
  {
   "cell_type": "markdown",
   "id": "fe40161c-f80f-4fa9-b5b7-4c73fa722ccf",
   "metadata": {},
   "source": [
    "# Raster Calculations"
   ]
  },
  {
   "cell_type": "code",
   "execution_count": null,
   "id": "9bf2eb26-a4df-41e8-9e01-d9d5941e9ace",
   "metadata": {},
   "outputs": [],
   "source": [
    "# calc_cmd = ['gdal_calc.py', '-A', 'input_A.tif', '-B', 'input_B.tif',\n",
    "#  '--outfile', 'output_file.tif', '--calc=\"A*B\"','--overwrite']\n",
    "# subprocess.run(calc_cmd)"
   ]
  },
  {
   "cell_type": "markdown",
   "id": "77500e85-5960-4fc4-972f-7ddc6c10a532",
   "metadata": {},
   "source": [
    "## Terrain Variables"
   ]
  },
  {
   "cell_type": "code",
   "execution_count": null,
   "id": "518c8946-1d6e-4a97-a0aa-3936198d5bc9",
   "metadata": {},
   "outputs": [],
   "source": [
    "# gdal_terrain_cmd = ['gdaldem', 'slope', dem_input, slope_output]\n",
    "# subprocess.run(gdal_terrain_cmd)"
   ]
  },
  {
   "cell_type": "markdown",
   "id": "ef6dfd99-b64a-476f-941d-ffa3c6e97729",
   "metadata": {},
   "source": [
    "# ----------------"
   ]
  },
  {
   "cell_type": "markdown",
   "id": "d184dbe9-ba28-4493-b6eb-9facfed03c27",
   "metadata": {},
   "source": [
    "# Workflow Applied\n",
    "We'll apply all tools above"
   ]
  },
  {
   "cell_type": "markdown",
   "id": "3b169377-a4b4-45ac-bda6-8baf69c8d8d1",
   "metadata": {},
   "source": [
    "## Merge"
   ]
  },
  {
   "cell_type": "markdown",
   "id": "e44754da-4c89-4815-b703-b12baf058c5e",
   "metadata": {},
   "source": [
    "I ran into a path issue on the Windows machine and received an error 'OSError: [WinError 193] %1 is not a valid Win32 application'... to fix, we have to specify where the executable is - in this case, it's in our local anaconda, not on the main path "
   ]
  },
  {
   "cell_type": "markdown",
   "id": "664d1373-8ea1-4716-9700-ebb13d9f2155",
   "metadata": {},
   "source": [
    "Took this step out by merging las files in pipeline"
   ]
  },
  {
   "cell_type": "code",
   "execution_count": 20,
   "id": "e0cfe447-8a1e-4109-8dc9-d1fa7c6607a7",
   "metadata": {},
   "outputs": [],
   "source": [
    "pathname = '/Volumes/Piske_lidar/SCB/Sagehen_lidar/ASO/ASO_SCB_20160326/rasterize_test_count'\n",
    "output_merge = '/Volumes/Piske_lidar/SCB/Sagehen_lidar/ASO/ASO_SCB_20160326/rasterize_test_count/ASO_SCB_20160326_rasterizeTiles_hag_count.tif'"
   ]
  },
  {
   "cell_type": "code",
   "execution_count": 21,
   "id": "89a06550-149a-49ae-9314-6ae696869e81",
   "metadata": {
    "tags": []
   },
   "outputs": [
    {
     "name": "stdout",
     "output_type": "stream",
     "text": [
      "0...10...20...30...40...50...60...70...80...90...100 - done.\n"
     ]
    },
    {
     "data": {
      "text/plain": [
       "0"
      ]
     },
     "execution_count": 21,
     "metadata": {},
     "output_type": "execute_result"
    }
   ],
   "source": [
    "merge_command = [\"gdal_merge.py\", \"-o\", output_merge]\n",
    "for path in os.listdir(pathname):\n",
    "    full_path = os.path.join(pathname, path)\n",
    "    if os.path.isfile(full_path):\n",
    "        merge_command.append(full_path)\n",
    "subprocess.call(merge_command)"
   ]
  },
  {
   "cell_type": "code",
   "execution_count": null,
   "id": "1631303a-8ab3-4d85-be27-665d81a0da5b",
   "metadata": {},
   "outputs": [],
   "source": [
    "merge_command = [\"python\", gdal_merge, \"-o\", output_merge]\n",
    "for path in os.listdir(pathname):\n",
    "    full_path = os.path.join(pathname, path)\n",
    "    if os.path.isfile(full_path):\n",
    "        merge_command.append(full_path)\n",
    "subprocess.call(merge_command)"
   ]
  },
  {
   "cell_type": "markdown",
   "id": "8fe0d24c-08e0-4ab9-90bd-11b4f1dd7aaf",
   "metadata": {},
   "source": [
    "## Classify Veg\n",
    "Classify vegetation into tall and open classes"
   ]
  },
  {
   "cell_type": "code",
   "execution_count": 56,
   "id": "69985d36-a987-48b0-bc34-8c84a19e8ae7",
   "metadata": {},
   "outputs": [],
   "source": [
    "strata_neg0pt15_0pt15 = 'SCB/Sagehen_lidar/NCALM/NCALM_SCB_2014/veg_strata/veg_classes/vegStrata_neg0pt15_0pt15.tif'\n",
    "strata_0pt15_2 = 'SCB/Sagehen_lidar/NCALM/NCALM_SCB_2014/veg_strata/veg_classes/vegStrata_0pt15_2.tif'\n",
    "strata_2 = 'SCB/Sagehen_lidar/NCALM/NCALM_SCB_2014/veg_strata/veg_classes/vegStrata_2.tif'\n",
    "strata_2_ground = 'SCB/Sagehen_lidar/NCALM/NCALM_SCB_2014/veg_strata/veg_classes/vegStrata_2_ground.tif'\n",
    "strata_2_nonground = 'SCB/Sagehen_lidar/NCALM/NCALM_SCB_2014/veg_strata/veg_classes/vegStrata_2_nonground.tif'\n",
    "\n",
    "open_strata1_2 = 'SCB/Sagehen_lidar/NCALM/NCALM_SCB_2014/veg_strata/NCALM_open_strata1_2.tif'\n",
    "ncalm_open = 'SCB/Sagehen_lidar/NCALM/NCALM_SCB_2014/veg_strata/NCALM_SCB_2014_open.tif'\n",
    "\n",
    "tall_strata1_2 = 'SCB/Sagehen_lidar/NCALM/NCALM_SCB_2014/veg_strata/NCALM_tall_strata1_2.tif'\n",
    "ncalm_tall = 'SCB/Sagehen_lidar/NCALM/NCALM_SCB_2014/veg_strata/NCALM_SCB_2014_tall.tif'\n",
    "ncalm_tall_100 = 'SCB/Sagehen_lidar/NCALM/NCALM_SCB_2014/veg_strata/NCALM_SCB_2014_tall_100.tif'\n",
    "\n",
    "veg_total = 'SCB/Sagehen_lidar/NCALM/NCALM_SCB_2014/veg_strata/NCALM_SCB_2014_openORtall.tif'\n",
    "veg_classified = 'SCB/Sagehen_lidar/NCALM/NCALM_SCB_2014/veg_strata/NCALM_SCB_2014_vegClassified.tif'"
   ]
  },
  {
   "cell_type": "code",
   "execution_count": 64,
   "id": "2f121da8-d782-4585-ab71-e39df96b4b9d",
   "metadata": {},
   "outputs": [],
   "source": [
    "# open_cmd = ['python', gdal_calc, '-A', strata_neg0pt15_0pt15, '-B', strata_0pt15_2,\n",
    "#  '--outfile', open_strata1_2, '--calc=\"1*logical_and(A>0,B==0)\"','--overwrite']\n",
    "# subprocess.run(open_cmd)\n",
    "\n",
    "# open_cmd = ['python',gdal_calc, '-A', open_strata1_2, '-B', strata_2,\n",
    "#  '--outfile', ncalm_open, '--calc=\"1*logical_and(A==1,B==0)\"','--overwrite'] #'\"--NoDataValue\",'0','--overwrite']\n",
    "# subprocess.run(open_cmd)"
   ]
  },
  {
   "cell_type": "code",
   "execution_count": 57,
   "id": "a13b6082-6181-42ed-aec9-f2ffa3f1ea9c",
   "metadata": {},
   "outputs": [],
   "source": [
    "# tall_cmd = ['python', gdal_calc, '-A', strata_neg0pt15_0pt15, '-B', strata_0pt15_2,\n",
    "#  '--outfile', tall_strata1_2, '--calc=\"1*logical_and(A>=0,B==0)\"','--overwrite']\n",
    "# subprocess.run(tall_cmd)\n",
    "\n",
    "# tall_cmd = ['python',gdal_calc, '-A', tall_strata1_2, '-B', strata_2,\n",
    "#  '--outfile', ncalm_tall, '--calc=\"logical_and(A==1,B>0)\"','--overwrite']\n",
    "# subprocess.run(tall_cmd)\n",
    "\n",
    "# tall_cmd = ['python',gdal_calc, '-A', ncalm_tall,'--outfile', ncalm_tall_100, '--calc=\"A*100\"','--overwrite']\n",
    "# subprocess.run(tall_cmd)"
   ]
  },
  {
   "cell_type": "code",
   "execution_count": 58,
   "id": "d2e57050-28f4-4e37-b52e-16c8860dd7dc",
   "metadata": {},
   "outputs": [],
   "source": [
    "# veg_cmd = ['python',gdal_calc, '-A', ncalm_open, '-B', ncalm_tall,\n",
    "#  '--outfile', veg_total, '--calc=\"1*logical_or(A==1,B==1)\"','--NoDataValue=0','--overwrite']\n",
    "# subprocess.run(veg_cmd)"
   ]
  },
  {
   "cell_type": "code",
   "execution_count": 65,
   "id": "c35a00c3-f712-4b72-b167-3acc02d0ddf8",
   "metadata": {},
   "outputs": [],
   "source": [
    "# veg_cmd = ['python',gdal_calc, '-A', ncalm_open, '-B', ncalm_tall_100,\n",
    "#  '--outfile', veg_classified, '--calc=\"A+B\"','--NoDataValue=0','--overwrite']\n",
    "# subprocess.run(veg_cmd)"
   ]
  },
  {
   "cell_type": "markdown",
   "id": "08468d65-2615-4f9a-8426-8fd21732e78a",
   "metadata": {},
   "source": [
    "## Calculate Snow Depth"
   ]
  },
  {
   "cell_type": "markdown",
   "id": "f694a8a4-699e-4c59-9e2d-cbdae5dd3c40",
   "metadata": {},
   "source": [
    "Time to bring the snow in... <br>\n",
    "For each flight, we have two snow depths, filtered at 3 meters and 5 meters to use for open vs. under canopy <br>\n",
    "We use the general open/short/tall/understory classifications above but refine for each flight"
   ]
  },
  {
   "cell_type": "markdown",
   "id": "b0a3b21d-3592-4f50-ba43-07b8d8df44d5",
   "metadata": {},
   "source": [
    "### Refine Vegetation Classes"
   ]
  },
  {
   "cell_type": "code",
   "execution_count": null,
   "id": "9c5e01a0-ea4c-4755-aebd-869dc3dbcf2a",
   "metadata": {},
   "outputs": [],
   "source": [
    "# snow_depth_LTET3 = 'path/to/snow_depth/less_than_equal_to_3/filename.tif'\n",
    "# snow_depth_LTET5 = 'path/to/snow_depth/less_than_equal_to_5/filename.tif'\n",
    "# flight_spec_short = 'path/to/flight_specific/vegetation_classes/filename.tif'\n",
    "# flight_spec_open = 'path/to/flight_specific/vegetation_classes/filename.tif'\n",
    "# flight_spec_understory = 'path/to/flight_specific/vegetation_classes/filename.tif'\n",
    "# flight_spec_tall = 'path/to/flight_specific/vegetation_classes/filename.tif'"
   ]
  },
  {
   "cell_type": "markdown",
   "id": "ed43b5f3-c429-4229-bffb-f80dcf2a3f57",
   "metadata": {},
   "source": [
    "Refine vegetation classifications based on snow-on flights. We set a threshold of 30 cm so that if the snow-on flight is <30 cm greater than the snow-off flight, we do not keep that short/understory pixel. "
   ]
  },
  {
   "cell_type": "code",
   "execution_count": null,
   "id": "36da9eb0-146b-494b-abb1-af8db5a99e03",
   "metadata": {},
   "outputs": [],
   "source": [
    "# SD_open_cmd = ['python',gdal_calc, '-A', snow_depth_LTET5, '-B', ncalm_short,'-C', CHM_LT1pt5,'--NoDataValue','-9999',\n",
    "#  '--outfile', flight_spec_short, '--calc=\"((A-C)>0.3)*B\"','--overwrite']\n",
    "# subprocess.run(SD_open_cmd)\n",
    "\n",
    "# SD_open_cmd = ['python',gdal_calc, '-A', flight_spec_short, '-B', ncalm_open,'--NoDataValue','0',\n",
    "#     '--outfile', flight_spec_open, '--calc=\"1*logical_or(A>0, B>0)\"','--overwrite']\n",
    "# subprocess.run(SD_open_cmd)\n",
    "\n",
    "# SD_tall_cmd = ['python',gdal_calc, '-A', snow_depth_LTET3, '-B', ncalm_understory,'-C', CHM_LT1pt5,'--NoDataValue','-9999',\n",
    "#  '--outfile', flight_spec_understory, '--calc=\"((A-C)>0.3)*B\"','--overwrite']\n",
    "# subprocess.run(SD_tall_cmd)\n",
    "\n",
    "# SD_tall_cmd = ['python',gdal_calc, '-A', flight_spec_understory, '-B', ncalm_tall,'--NoDataValue','0',\n",
    "#  '--outfile', flight_spec_tall, '--calc=\"1*logical_or(A>0, B>0)\"','--overwrite']\n",
    "# subprocess.run(SD_tall_cmd)"
   ]
  },
  {
   "cell_type": "markdown",
   "id": "8e0e4f0a-9f3a-410a-ae98-bb973f0f8392",
   "metadata": {},
   "source": [
    "### Calculate Snow Depth"
   ]
  },
  {
   "cell_type": "code",
   "execution_count": null,
   "id": "bd739e36-5784-4801-b3e4-907a808480fd",
   "metadata": {},
   "outputs": [],
   "source": [
    "# snow_depth_all_pts = 'path/to/filename.tif'\n",
    "# snow_depth_open = 'path/to/filename.tif'\n",
    "# snow_depth_tall = 'path/to/filename.tif'"
   ]
  },
  {
   "cell_type": "code",
   "execution_count": null,
   "id": "384bb29a-f886-4ef3-9dbe-a9ec3884fb2d",
   "metadata": {},
   "outputs": [],
   "source": [
    "# SD_open_cmd = ['python',gdal_calc, '-A', snow_depth_LTET5, '-B', flight_spec_open,'--NoDataValue','-9999',\n",
    "#  '--outfile', snow_depth_open, '--calc=\"A*B\"','--overwrite']\n",
    "# subprocess.run(SD_open_cmd)\n",
    "\n",
    "# SD_tall_cmd = ['python',gdal_calc, '-A', snow_depth_LTET3, '-B', flight_spec_tall,'--NoDataValue','-9999',\n",
    "#  '--outfile', snow_depth_tall, '--calc=\"A*B\"','--overwrite']\n",
    "# subprocess.run(SD_tall_cmd)\n",
    "\n",
    "# merge_command = [\"python\", gdal_merge, \"-o\", snow_depth_all_pts, snow_depth_open, snow_depth_tall,'-a_nodata','-9999']\n",
    "# subprocess.call(merge_command)"
   ]
  },
  {
   "cell_type": "markdown",
   "id": "e5e7bdc9-3014-44f5-8980-8af00b1ca979",
   "metadata": {},
   "source": [
    "## Filter Data\n",
    "No we filter the snow depths in two critical ways.<br> From Kostadinov et al, 2019 \"by excluding areas\n",
    "and improving the accuracy of the lidar-derived elevation datasets. Slopes greater than 30o and lake/pond water bodies as delineated by the National Hydrography Dataset (high resolution) (https://nhd.usgs.gov/) were excluded from the analysis. We used this slope threshold because the uncertainty in elevation increases dramatically above 30 degrees slope (Takahashi et al., 2005; Tinkham et al., 2012).\""
   ]
  },
  {
   "cell_type": "markdown",
   "id": "0ad25f4a-e0c6-4abe-aced-68fd09c6d8ff",
   "metadata": {},
   "source": [
    "**Filter out water bodies**"
   ]
  },
  {
   "cell_type": "code",
   "execution_count": null,
   "id": "d4992abf-f7d5-48b7-b46f-3876bf0a2b92",
   "metadata": {},
   "outputs": [],
   "source": [
    "# # Filter out all water bodies\n",
    "# input_shp = 'SCB/supporting_files/masks/NHDWaterbody_2018_EPSG26910.shp'"
   ]
  },
  {
   "cell_type": "code",
   "execution_count": null,
   "id": "097d3522-f351-452e-ae88-07c629bd6447",
   "metadata": {},
   "outputs": [],
   "source": [
    "# burn_command = ['gdal_rasterize', '-b', '1', '-burn', '-9999', input_shp, snow_depth_open]\n",
    "# subprocess.call(burn_command)\n",
    "# burn_command = ['gdal_rasterize', '-b', '1', '-burn', '-9999', input_shp, snow_depth_all_pts]\n",
    "# subprocess.call(burn_command)\n",
    "# burn_command = ['gdal_rasterize', '-b', '1', '-burn', '-9999', input_shp, snow_depth_tall]\n",
    "# subprocess.call(burn_command)"
   ]
  },
  {
   "cell_type": "markdown",
   "id": "e2096cef-ea33-4101-9c67-5fc7cc90cea0",
   "metadata": {},
   "source": [
    "**Filter slopes >30 degrees**"
   ]
  },
  {
   "cell_type": "code",
   "execution_count": null,
   "id": "f239b424-0234-4a59-a4fb-fc36dd09597c",
   "metadata": {},
   "outputs": [],
   "source": [
    "# snow_depth_refined = 'path/to/filename.tif'"
   ]
  },
  {
   "cell_type": "code",
   "execution_count": null,
   "id": "cd70c857-d5f1-4406-9ce1-5ee817c07436",
   "metadata": {},
   "outputs": [],
   "source": [
    "# sd_filter_cmd = ['python',gdal_calc, '-A', snow_depth_all_pts,'-B',slope,'--NoDataValue','0',\n",
    "#  '--outfile', snow_depth_refined, '--calc=\"A*(B<=30)\"','--overwrite']\n",
    "# subprocess.run(sd_filter_cmd)"
   ]
  },
  {
   "cell_type": "markdown",
   "id": "82f54f65-398b-4d94-8ccc-f9650b62bd0b",
   "metadata": {},
   "source": []
  },
  {
   "cell_type": "code",
   "execution_count": null,
   "id": "dcafdd8f-c81b-436e-8542-7bbfc26d1ada",
   "metadata": {},
   "outputs": [],
   "source": []
  },
  {
   "cell_type": "code",
   "execution_count": null,
   "id": "f2a23c2e-2aad-4f21-b880-0eca0d5b4403",
   "metadata": {},
   "outputs": [],
   "source": []
  },
  {
   "cell_type": "code",
   "execution_count": null,
   "id": "02b22961-7c41-4353-9456-a7b30aee3d8f",
   "metadata": {},
   "outputs": [],
   "source": []
  },
  {
   "cell_type": "code",
   "execution_count": null,
   "id": "94f73610-9aa3-4c8a-8825-f69a9a2c3db3",
   "metadata": {},
   "outputs": [],
   "source": []
  },
  {
   "cell_type": "code",
   "execution_count": null,
   "id": "a6d58af8-7e8e-4f95-a3cb-c12d1416ad07",
   "metadata": {},
   "outputs": [],
   "source": []
  },
  {
   "cell_type": "code",
   "execution_count": 2,
   "id": "f498ae6d-06b8-4fd8-8085-9c10fce76c98",
   "metadata": {},
   "outputs": [],
   "source": [
    "#open_strata = 'Piske_lidar/SCB/Sagehen_lidar/NCALM/NCALM_SCB_2014/veg_strata/NCALM_SCB_2014_open_crop.tif'\n",
    "#tall_strata = 'Piske_lidar/SCB/Sagehen_lidar/NCALM/NCALM_SCB_2014/veg_strata/NCALM_SCB_2014_tall_crop.tif'\n",
    "ASO_SCB_20160326_vbc = 'SCB/Sagehen_lidar/ASO/ASO_SCB_20160326/corrected_tif/ASO_SCB_20160326_vbc.tif'\n",
    "ASO_SCB_20160417_vbc = 'SCB/Sagehen_lidar/ASO/ASO_SCB_20160417/corrected_tif/ASO_SCB_20160417_vbc.tif'\n",
    "ASO_SCB_20160518_vbc = 'SCB/Sagehen_lidar/ASO/ASO_SCB_20160518/corrected_tif/ASO_SCB_20160518_vbc.tif'\n",
    "NCALM_SCB_20080210_vbc = 'SCB/Sagehen_lidar/NCALM/NCALM_SCB_20080210/corrected_tif/NCALM_SCB_20080210_vbc.tif'\n",
    "\n",
    "ASO_SCB_20160326_SD = 'SCB/Sagehen_lidar/ASO/ASO_SCB_20160326/snow_depth/ASO_SCB_20160326_SD.tif'\n",
    "ASO_SCB_20160417_SD = 'SCB/Sagehen_lidar/ASO/ASO_SCB_20160417/snow_depth/ASO_SCB_20160417_SD.tif'\n",
    "ASO_SCB_20160518_SD = 'SCB/Sagehen_lidar/ASO/ASO_SCB_20160518/snow_depth/ASO_SCB_20160518_SD.tif'\n",
    "NCALM_SCB_20080210_SD = 'SCB/Sagehen_lidar/NCALM/NCALM_SCB_20080210/snow_depth/NCALM_SCB_20080210_SD.tif'\n"
   ]
  },
  {
   "cell_type": "code",
   "execution_count": 72,
   "id": "030382e3-bc32-44d9-afbe-1728abef8f21",
   "metadata": {},
   "outputs": [
    {
     "data": {
      "text/plain": [
       "CompletedProcess(args=['python', 'C:\\\\Users\\\\cpiske\\\\.conda\\\\envs\\\\lidar\\\\Lib\\\\site-packages\\\\osgeo_utils\\\\gdal_calc.py', '-A', 'SCB/Sagehen_lidar/NCALM/NCALM_SCB_2014/veg_strata/NCALM_SCB_2014_openORtall.tif', '-B', 'SCB/Sagehen_lidar/ASO/ASO_SCB_20160326/corrected_tif/ASO_SCB_20160326_vbc.tif', '--outfile', 'SCB/Sagehen_lidar/ASO/ASO_SCB_20160326/snow_depth/ASO_SCB_20160326_SD.tif', '--calc=\"A*B\"', '--overwrite', '--NoDataValue', '-9999'], returncode=0)"
      ]
     },
     "execution_count": 72,
     "metadata": {},
     "output_type": "execute_result"
    }
   ],
   "source": [
    "SD_cmd = ['python',gdal_calc, '-A', veg_total, '-B', ASO_SCB_20160326_vbc,\n",
    " '--outfile', ASO_SCB_20160326_SD, '--calc=\"A*B\"','--overwrite','--NoDataValue','-9999']\n",
    "subprocess.run(SD_cmd)"
   ]
  },
  {
   "cell_type": "code",
   "execution_count": 68,
   "id": "791d1291-4413-4e68-83c8-58e97c0243cb",
   "metadata": {},
   "outputs": [
    {
     "data": {
      "text/plain": [
       "CompletedProcess(args=['python', 'C:\\\\Users\\\\cpiske\\\\.conda\\\\envs\\\\lidar\\\\Lib\\\\site-packages\\\\osgeo_utils\\\\gdal_calc.py', '-A', 'SCB/Sagehen_lidar/NCALM/NCALM_SCB_2014/veg_strata/NCALM_SCB_2014_openORtall.tif', '-B', 'SCB/Sagehen_lidar/ASO/ASO_SCB_20160417/corrected_tif/ASO_SCB_20160417_vbc.tif', '--outfile', 'SCB/Sagehen_lidar/ASO/ASO_SCB_20160417/snow_depth/ASO_SCB_20160417_SD.tif', '--calc=\"A*B\"', '--overwrite', '--NoDataValue', '-9999'], returncode=0)"
      ]
     },
     "execution_count": 68,
     "metadata": {},
     "output_type": "execute_result"
    }
   ],
   "source": [
    "SD_cmd = ['python',gdal_calc, '-A', veg_total, '-B', ASO_SCB_20160417_vbc,\n",
    " '--outfile', ASO_SCB_20160417_SD, '--calc=\"A*B\"','--overwrite','--NoDataValue','-9999']\n",
    "subprocess.run(SD_cmd)"
   ]
  },
  {
   "cell_type": "code",
   "execution_count": 69,
   "id": "b222bac2-9aa1-4c3a-81bf-eb2b4db45ea2",
   "metadata": {},
   "outputs": [
    {
     "data": {
      "text/plain": [
       "CompletedProcess(args=['python', 'C:\\\\Users\\\\cpiske\\\\.conda\\\\envs\\\\lidar\\\\Lib\\\\site-packages\\\\osgeo_utils\\\\gdal_calc.py', '-A', 'SCB/Sagehen_lidar/NCALM/NCALM_SCB_2014/veg_strata/NCALM_SCB_2014_openORtall.tif', '-B', 'SCB/Sagehen_lidar/ASO/ASO_SCB_20160518/corrected_tif/ASO_SCB_20160518_vbc.tif', '--outfile', 'SCB/Sagehen_lidar/ASO/ASO_SCB_20160518/snow_depth/ASO_SCB_20160518_SD.tif', '--calc=\"A*B\"', '--overwrite', '--NoDataValue', '-9999'], returncode=0)"
      ]
     },
     "execution_count": 69,
     "metadata": {},
     "output_type": "execute_result"
    }
   ],
   "source": [
    "SD_cmd = ['python',gdal_calc, '-A', veg_total, '-B', ASO_SCB_20160518_vbc,\n",
    " '--outfile', ASO_SCB_20160518_SD, '--calc=\"A*B\"','--overwrite','--NoDataValue','-9999']\n",
    "subprocess.run(SD_cmd)"
   ]
  },
  {
   "cell_type": "markdown",
   "id": "b0eb961f-03af-44c4-96a4-c8b435fdad46",
   "metadata": {},
   "source": [
    "**NCALM 2008**"
   ]
  },
  {
   "cell_type": "code",
   "execution_count": 3,
   "id": "26cc1ea8-b63b-45bf-89dc-04c6f8ab2ea9",
   "metadata": {},
   "outputs": [],
   "source": [
    "NCALM_SCB_20080210_vbc = 'SCB/Sagehen_lidar/NCALM/NCALM_SCB_20080210/corrected_tif/NCALM_SCB_20080210_vbc.tif'\n",
    "NCALM_SCB_20080210_SD = 'SCB/Sagehen_lidar/NCALM/NCALM_SCB_20080210/snow_depth/NCALM_SCB_20080210_SD.tif'\n",
    "NCALM_SCB_20080210_vbc_crop = 'SCB/Sagehen_lidar/NCALM/NCALM_SCB_20080210/corrected_tif/NCALM_SCB_20080210_vbc_crop.tif'\n",
    "input_shp = 'SCB/supporting_files/masks/NHDWaterbody_2018_EPSG26910.shp'"
   ]
  },
  {
   "cell_type": "code",
   "execution_count": 74,
   "id": "14437b67-eb4f-488d-8686-d38921c5debe",
   "metadata": {},
   "outputs": [
    {
     "data": {
      "text/plain": [
       "CompletedProcess(args=['python', 'C:\\\\Users\\\\cpiske\\\\.conda\\\\envs\\\\lidar\\\\Lib\\\\site-packages\\\\osgeo_utils\\\\gdal_calc.py', '-A', 'SCB/Sagehen_lidar/NCALM/NCALM_SCB_2014/veg_strata/NCALM_SCB_2014_openORtall.tif', '-B', 'SCB/Sagehen_lidar/NCALM/NCALM_SCB_20080210/corrected_tif/NCALM_SCB_20080210_vbc.tif', '--outfile', 'SCB/Sagehen_lidar/NCALM/NCALM_SCB_20080210/snow_depth/NCALM_SCB_20080210_SD.tif', '--calc=\"A*B\"', '--overwrite', '--NoDataValue', '-9999'], returncode=0)"
      ]
     },
     "execution_count": 74,
     "metadata": {},
     "output_type": "execute_result"
    }
   ],
   "source": [
    "SD_cmd = ['python',gdal_calc, '-A', veg_total, '-B', NCALM_SCB_20080210_vbc,\n",
    " '--outfile', NCALM_SCB_20080210_SD, '--calc=\"A*B\"','--overwrite','--NoDataValue','-9999']\n",
    "subprocess.run(SD_cmd)"
   ]
  },
  {
   "cell_type": "code",
   "execution_count": null,
   "id": "9e974d50-bddc-4af8-848a-5f4840612040",
   "metadata": {},
   "outputs": [],
   "source": [
    "gdalwarp -cutline INPUT.shp -crop_to_cutline -dstalpha INPUT.tif OUTPUT.tif\n"
   ]
  },
  {
   "cell_type": "code",
   "execution_count": 4,
   "id": "632162d8-61f2-4b2a-bb8a-4e4d8b85c3d3",
   "metadata": {},
   "outputs": [
    {
     "data": {
      "text/plain": [
       "1"
      ]
     },
     "execution_count": 4,
     "metadata": {},
     "output_type": "execute_result"
    }
   ],
   "source": [
    "warp_cmd = [\"gdalwarp\",'-cutline',input_shp,'-crop_to_cutline', NCALM_SCB_20080210_vbc, NCALM_SCB_20080210_vbc_crop, ]\n",
    "subprocess.call(warp_cmd)"
   ]
  },
  {
   "cell_type": "code",
   "execution_count": null,
   "id": "17a309ac-445b-4b1c-b20d-722b6347d3a7",
   "metadata": {},
   "outputs": [],
   "source": [
    "burn_command = ['gdal_rasterize', '-b', '1', '-burn', '-9999', input_shp, NCALM_SCB_20080210_vbc]\n",
    "subprocess.call(burn_command)"
   ]
  },
  {
   "cell_type": "code",
   "execution_count": null,
   "id": "cc0a0d53-ff32-46ee-bbc1-ba04590c9f34",
   "metadata": {},
   "outputs": [],
   "source": []
  },
  {
   "cell_type": "code",
   "execution_count": null,
   "id": "ddb35d9e-1584-4f49-b47d-514918960d99",
   "metadata": {},
   "outputs": [],
   "source": [
    "# # calculate CHM from DSM and DTM\n",
    "# input_snow_depth = 'SCB/random_forest_data/ASO_sd/ASO_snow_depth_20160417_clp.tif'\n",
    "# input_snow_density = 'SCB/random_forest_data/snowpalm_density/SP_density_20160417_1m.tif'\n",
    "# output_swe = 'SCB/random_forest_data/calc_swe/SWE_20160417.tif'\n",
    "# swe_command = ['gdal_calc.py', '-A', input_snow_depth, '-B', input_snow_density, '--calc=\"A*B\"','--outfile', output_swe]\n",
    "# subprocess.run(swe_command)"
   ]
  }
 ],
 "metadata": {
  "kernelspec": {
   "display_name": "Python 3 (ipykernel)",
   "language": "python",
   "name": "python3"
  },
  "language_info": {
   "codemirror_mode": {
    "name": "ipython",
    "version": 3
   },
   "file_extension": ".py",
   "mimetype": "text/x-python",
   "name": "python",
   "nbconvert_exporter": "python",
   "pygments_lexer": "ipython3",
   "version": "3.9.7"
  }
 },
 "nbformat": 4,
 "nbformat_minor": 5
}
