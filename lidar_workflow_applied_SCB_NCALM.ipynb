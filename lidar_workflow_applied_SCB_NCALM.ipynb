{
 "cells": [
  {
   "cell_type": "markdown",
   "id": "797f557e-435f-49cd-8002-2135758b8c67",
   "metadata": {},
   "source": [
    "# Lidar Processing Workflow\n",
    "**Cara Piske, Graduate Program of Hydrologic Sciences, 2022; Advisor: Dr. Adrian Harpold**<br>\n",
    "This code processes raw lidar point clouds in order to calculate snow depth using PDAL. <br>\n",
    "Lidar data were provided by the Airborne Snow Observatory (ASO), the National Center for Airborne Laser Mapping (NCALM), and Watershed Sciences Inc. (WSI). <br>\n",
    "\n",
    "The goal of this project is to process snow depth to the one-meter spatial scale while maintaining conservative under-canopy estimates. Therefore, little interpolation occurs under-canopy. We follow these protocols in order to obtain a 1-m rasterized product (as opposed to the 3-m rasterized product provided by ASO on the NSIDC data portal). NCALM and WSI flights were obtained through OpenTopography."
   ]
  },
  {
   "cell_type": "markdown",
   "id": "01e7346b-ed91-48fe-912a-4dc9d7b20be4",
   "metadata": {},
   "source": [
    "Start by importing necessary files"
   ]
  },
  {
   "cell_type": "code",
   "execution_count": 2,
   "id": "ef19ecac-1150-469a-9a3f-3eb6f8b1c531",
   "metadata": {},
   "outputs": [],
   "source": [
    "# import necessary files\n",
    "import numpy as np \n",
    "import matplotlib.pyplot as plt\n",
    "import json # where we will save the json files to run a pipeline\n",
    "import os # for file management\n",
    "import subprocess # allows us to run command line commands\n",
    "import pdal # lidar processing package\n",
    "import rasterio\n",
    "import pyproj\n",
    "from osgeo import gdal\n",
    "import pandas as pd\n",
    "import time\n",
    "# packages to copy files\n",
    "from pathlib import Path\n",
    "import shutil\n",
    "import glob\n",
    "# packages to extract wkt from polygon\n",
    "import shapefile\n",
    "import pygeoif\n",
    "# for parallel processing\n",
    "import concurrent.futures\n",
    "from multiprocessing import Pool\n",
    "import csv\n",
    "\n",
    "import re\n",
    "import seaborn as sns\n",
    "import scipy\n",
    "#import seaborn as sns\n",
    "from scipy.interpolate import interp1d\n",
    "from scipy.stats import kde\n",
    "from scipy.stats import gaussian_kde\n",
    "import statsmodels.api as sm\n",
    "\n",
    "# from sklearn import linear_model\n",
    "# from sklearn.metrics import mean_squared_error, r2_score\n",
    "# See lidar_functions.py\n",
    "import lidar_functions"
   ]
  },
  {
   "cell_type": "markdown",
   "id": "afec494a-5f52-4fc5-8ced-a5886f938892",
   "metadata": {},
   "source": [
    "Note that many functions are dependent on specific directory structures. See README"
   ]
  },
  {
   "cell_type": "code",
   "execution_count": 3,
   "id": "11eb2762-4c68-4a8e-a2e0-3c4434606bbf",
   "metadata": {},
   "outputs": [],
   "source": [
    "json_base_path = 'piske_processing/PDAL_workflow/JSON/' # set so that we can redefine json across operating systems"
   ]
  },
  {
   "cell_type": "markdown",
   "id": "1933dbf5-603d-4eac-a4df-8ec90e6278d4",
   "metadata": {},
   "source": [
    "Applied"
   ]
  },
  {
   "cell_type": "code",
   "execution_count": 4,
   "id": "e7a6c326-633d-4550-b011-0f012e2b2825",
   "metadata": {},
   "outputs": [
    {
     "data": {
      "text/plain": [
       "'G:\\\\'"
      ]
     },
     "execution_count": 4,
     "metadata": {},
     "output_type": "execute_result"
    }
   ],
   "source": [
    "# Set current working directory\n",
    "path = '/'\n",
    "#path = '/Volumes/Piske_lidar/'\n",
    "os.chdir(path)\n",
    "os.getcwd() # print to ensure we're in the right directory"
   ]
  },
  {
   "cell_type": "code",
   "execution_count": 5,
   "id": "6c9edcfd-2013-4858-90a5-d9ca09c35507",
   "metadata": {},
   "outputs": [],
   "source": [
    "# All json paths\n",
    "# define all json files\n",
    "filterMergeRasterize_json = json_base_path + 'filterMergeRasterize.json'\n",
    "DEM_json = json_base_path+'DEM_from_las.json' \n",
    "HAG_json = json_base_path + 'HAG_dem.json'\n",
    "clip_json = json_base_path +'clip_to_polygon.json'\n",
    "extract_las_atPoint = json_base_path +'extract_las_atPoint.json'\n",
    "extract_las_atPolygon = json_base_path +'extract_las_atPolygon.json'\n",
    "correct_merge_rasterize_json = json_base_path + 'correct_merge_rasterize.json'"
   ]
  },
  {
   "cell_type": "code",
   "execution_count": 6,
   "id": "263a9457-7964-4bf6-97b5-840177f15ecc",
   "metadata": {},
   "outputs": [],
   "source": [
    "# use same extent as 2016\n",
    "# ([minx, maxx],[miny,maxy])\n",
    "writers_bounds = '([730235.96, 738826.45], [4364741.66, 4372273.16])'"
   ]
  },
  {
   "cell_type": "markdown",
   "id": "c371e470-c770-4b4d-93a4-52d882661c02",
   "metadata": {},
   "source": [
    "# Pre-Processing"
   ]
  },
  {
   "cell_type": "markdown",
   "id": "019afb1c-f0f0-4e99-8072-cdabfaee5be6",
   "metadata": {},
   "source": [
    "## Info"
   ]
  },
  {
   "cell_type": "code",
   "execution_count": null,
   "id": "070c81b6-4579-4cd6-ba46-75b57479e9de",
   "metadata": {},
   "outputs": [],
   "source": []
  },
  {
   "cell_type": "code",
   "execution_count": 48,
   "id": "caff1251-3a50-4fec-9e91-4837b39954f5",
   "metadata": {},
   "outputs": [
    {
     "data": {
      "text/plain": [
       "CompletedProcess(args=['pdal', 'info', 'SCB/Sagehen_lidar/NCALM/NCALM_SCB_2014/NAD83_NAD83_epoch2010/NCALM_SCB_2014_730000_4369000.las', '--metadata'], returncode=0)"
      ]
     },
     "execution_count": 48,
     "metadata": {},
     "output_type": "execute_result"
    }
   ],
   "source": [
    "# define input file\n",
    "input_lid = 'SCB/Sagehen_lidar/NCALM/NCALM_SCB_2014/NAD83_NAD83_epoch2010/NCALM_SCB_2014_730000_4369000.las'\n",
    "pdal_info_cmd = ['pdal','info',input_lid] # general info\n",
    "pdal_metadata_cmd = ['pdal','info',input_lid,'--metadata'] # full file metadata, including details crs\n",
    "subprocess.run(pdal_metadata_cmd)"
   ]
  },
  {
   "cell_type": "code",
   "execution_count": null,
   "id": "fdb7c49b-64ca-4850-aaf3-dc7d5d9ed1ab",
   "metadata": {},
   "outputs": [],
   "source": []
  },
  {
   "cell_type": "code",
   "execution_count": 49,
   "id": "47ecd2f6-067f-4c0a-bba7-86442f1d6c7f",
   "metadata": {},
   "outputs": [
    {
     "data": {
      "text/plain": [
       "{'file_size': 230218687,\n",
       " 'filename': 'SCB/Sagehen_lidar/NCALM/NCALM_SCB_2014/NAD83_NAD83_epoch2010/NCALM_SCB_2014_730000_4369000.las',\n",
       " 'metadata': {'comp_spatialreference': 'COMPD_CS[\"NAD83 / UTM zone 10N + vert:NAD83_2011:m:height:geoid12b\",PROJCS[\"NAD83 / UTM zone 10N\",GEOGCS[\"NAD83\",DATUM[\"North_American_Datum_1983\",SPHEROID[\"GRS 1980\",6378137,298.257222101,AUTHORITY[\"EPSG\",\"7019\"]],AUTHORITY[\"EPSG\",\"6269\"]],PRIMEM[\"Greenwich\",0,AUTHORITY[\"EPSG\",\"8901\"]],UNIT[\"degree\",0.0174532925199433,AUTHORITY[\"EPSG\",\"9122\"]],AUTHORITY[\"EPSG\",\"4269\"]],PROJECTION[\"Transverse_Mercator\"],PARAMETER[\"latitude_of_origin\",0],PARAMETER[\"central_meridian\",-123],PARAMETER[\"scale_factor\",0.9996],PARAMETER[\"false_easting\",500000],PARAMETER[\"false_northing\",0],UNIT[\"metre\",1,AUTHORITY[\"EPSG\",\"9001\"]],AXIS[\"Easting\",EAST],AXIS[\"Northing\",NORTH],AUTHORITY[\"EPSG\",\"26910\"]],VERT_CS[\"vert:NAD83_2011:m:height:geoid12b\",VERT_DATUM[\"unknown\",2005],UNIT[\"metre\",1,AUTHORITY[\"EPSG\",\"9001\"]],AXIS[\"Up\",UP]]]',\n",
       "  'compressed': False,\n",
       "  'copc': False,\n",
       "  'count': 8222056,\n",
       "  'creation_doy': 264,\n",
       "  'creation_year': 2014,\n",
       "  'dataformat_id': 1,\n",
       "  'dataoffset': 1119,\n",
       "  'filesource_id': 0,\n",
       "  'global_encoding': 0,\n",
       "  'global_encoding_base64': 'AAA=',\n",
       "  'gtiff': 'Geotiff_Information:\\n   Version: 1\\n   Key_Revision: 1.0\\n   Tagged_Information:\\n      End_Of_Tags.\\n   Keyed_Information:\\n      GTModelTypeGeoKey (Short,1): ModelTypeProjected\\n      ProjectedCSTypeGeoKey (Short,1): PCS_NAD83_UTM_zone_10N\\n      ProjLinearUnitsGeoKey (Short,1): Linear_Meter\\n      VerticalCSTypeGeoKey (Short,1): Undefined\\n      VerticalCitationGeoKey (Ascii,34): \"vert:NAD83_2011:m:height:geoid12b\"\\n      VerticalUnitsGeoKey (Short,1): Linear_Meter\\n      End_Of_Keys.\\n   End_Of_Geotiff.\\n',\n",
       "  'header_size': 227,\n",
       "  'major_version': 1,\n",
       "  'maxx': 730999.99,\n",
       "  'maxy': 4369999.99,\n",
       "  'maxz': 2475.45,\n",
       "  'minor_version': 2,\n",
       "  'minx': 730000,\n",
       "  'miny': 4369000,\n",
       "  'minz': 2094.97,\n",
       "  'offset_x': 0,\n",
       "  'offset_y': 0,\n",
       "  'offset_z': 0,\n",
       "  'point_length': 28,\n",
       "  'project_id': '00000000-0000-0000-0000-000000000000',\n",
       "  'scale_x': 0.01,\n",
       "  'scale_y': 0.01,\n",
       "  'scale_z': 0.01,\n",
       "  'software_id': 'vdatum v4.3',\n",
       "  'spatialreference': 'COMPD_CS[\"NAD83 / UTM zone 10N + vert:NAD83_2011:m:height:geoid12b\",PROJCS[\"NAD83 / UTM zone 10N\",GEOGCS[\"NAD83\",DATUM[\"North_American_Datum_1983\",SPHEROID[\"GRS 1980\",6378137,298.257222101,AUTHORITY[\"EPSG\",\"7019\"]],AUTHORITY[\"EPSG\",\"6269\"]],PRIMEM[\"Greenwich\",0,AUTHORITY[\"EPSG\",\"8901\"]],UNIT[\"degree\",0.0174532925199433,AUTHORITY[\"EPSG\",\"9122\"]],AUTHORITY[\"EPSG\",\"4269\"]],PROJECTION[\"Transverse_Mercator\"],PARAMETER[\"latitude_of_origin\",0],PARAMETER[\"central_meridian\",-123],PARAMETER[\"scale_factor\",0.9996],PARAMETER[\"false_easting\",500000],PARAMETER[\"false_northing\",0],UNIT[\"metre\",1,AUTHORITY[\"EPSG\",\"9001\"]],AXIS[\"Easting\",EAST],AXIS[\"Northing\",NORTH],AUTHORITY[\"EPSG\",\"26910\"]],VERT_CS[\"vert:NAD83_2011:m:height:geoid12b\",VERT_DATUM[\"unknown\",2005],UNIT[\"metre\",1,AUTHORITY[\"EPSG\",\"9001\"]],AXIS[\"Up\",UP]]]',\n",
       "  'srs': {'compoundwkt': 'COMPD_CS[\"NAD83 / UTM zone 10N + vert:NAD83_2011:m:height:geoid12b\",PROJCS[\"NAD83 / UTM zone 10N\",GEOGCS[\"NAD83\",DATUM[\"North_American_Datum_1983\",SPHEROID[\"GRS 1980\",6378137,298.257222101,AUTHORITY[\"EPSG\",\"7019\"]],AUTHORITY[\"EPSG\",\"6269\"]],PRIMEM[\"Greenwich\",0,AUTHORITY[\"EPSG\",\"8901\"]],UNIT[\"degree\",0.0174532925199433,AUTHORITY[\"EPSG\",\"9122\"]],AUTHORITY[\"EPSG\",\"4269\"]],PROJECTION[\"Transverse_Mercator\"],PARAMETER[\"latitude_of_origin\",0],PARAMETER[\"central_meridian\",-123],PARAMETER[\"scale_factor\",0.9996],PARAMETER[\"false_easting\",500000],PARAMETER[\"false_northing\",0],UNIT[\"metre\",1,AUTHORITY[\"EPSG\",\"9001\"]],AXIS[\"Easting\",EAST],AXIS[\"Northing\",NORTH],AUTHORITY[\"EPSG\",\"26910\"]],VERT_CS[\"vert:NAD83_2011:m:height:geoid12b\",VERT_DATUM[\"unknown\",2005],UNIT[\"metre\",1,AUTHORITY[\"EPSG\",\"9001\"]],AXIS[\"Up\",UP]]]',\n",
       "   'horizontal': 'PROJCS[\"NAD83 / UTM zone 10N\",GEOGCS[\"NAD83\",DATUM[\"North_American_Datum_1983\",SPHEROID[\"GRS 1980\",6378137,298.257222101,AUTHORITY[\"EPSG\",\"7019\"]],AUTHORITY[\"EPSG\",\"6269\"]],PRIMEM[\"Greenwich\",0,AUTHORITY[\"EPSG\",\"8901\"]],UNIT[\"degree\",0.0174532925199433,AUTHORITY[\"EPSG\",\"9122\"]],AUTHORITY[\"EPSG\",\"4269\"]],PROJECTION[\"Transverse_Mercator\"],PARAMETER[\"latitude_of_origin\",0],PARAMETER[\"central_meridian\",-123],PARAMETER[\"scale_factor\",0.9996],PARAMETER[\"false_easting\",500000],PARAMETER[\"false_northing\",0],UNIT[\"metre\",1,AUTHORITY[\"EPSG\",\"9001\"]],AXIS[\"Easting\",EAST],AXIS[\"Northing\",NORTH],AUTHORITY[\"EPSG\",\"26910\"]]',\n",
       "   'isgeocentric': False,\n",
       "   'isgeographic': False,\n",
       "   'prettycompoundwkt': 'COMPD_CS[\"NAD83 / UTM zone 10N + vert:NAD83_2011:m:height:geoid12b\",\\n    PROJCS[\"NAD83 / UTM zone 10N\",\\n        GEOGCS[\"NAD83\",\\n            DATUM[\"North_American_Datum_1983\",\\n                SPHEROID[\"GRS 1980\",6378137,298.257222101,\\n                    AUTHORITY[\"EPSG\",\"7019\"]],\\n                AUTHORITY[\"EPSG\",\"6269\"]],\\n            PRIMEM[\"Greenwich\",0,\\n                AUTHORITY[\"EPSG\",\"8901\"]],\\n            UNIT[\"degree\",0.0174532925199433,\\n                AUTHORITY[\"EPSG\",\"9122\"]],\\n            AUTHORITY[\"EPSG\",\"4269\"]],\\n        PROJECTION[\"Transverse_Mercator\"],\\n        PARAMETER[\"latitude_of_origin\",0],\\n        PARAMETER[\"central_meridian\",-123],\\n        PARAMETER[\"scale_factor\",0.9996],\\n        PARAMETER[\"false_easting\",500000],\\n        PARAMETER[\"false_northing\",0],\\n        UNIT[\"metre\",1,\\n            AUTHORITY[\"EPSG\",\"9001\"]],\\n        AXIS[\"Easting\",EAST],\\n        AXIS[\"Northing\",NORTH],\\n        AUTHORITY[\"EPSG\",\"26910\"]],\\n    VERT_CS[\"vert:NAD83_2011:m:height:geoid12b\",\\n        VERT_DATUM[\"unknown\",2005],\\n        UNIT[\"metre\",1,\\n            AUTHORITY[\"EPSG\",\"9001\"]],\\n        AXIS[\"Up\",UP]]]',\n",
       "   'prettywkt': 'PROJCS[\"NAD83 / UTM zone 10N\",\\n    GEOGCS[\"NAD83\",\\n        DATUM[\"North_American_Datum_1983\",\\n            SPHEROID[\"GRS 1980\",6378137,298.257222101,\\n                AUTHORITY[\"EPSG\",\"7019\"]],\\n            AUTHORITY[\"EPSG\",\"6269\"]],\\n        PRIMEM[\"Greenwich\",0,\\n            AUTHORITY[\"EPSG\",\"8901\"]],\\n        UNIT[\"degree\",0.0174532925199433,\\n            AUTHORITY[\"EPSG\",\"9122\"]],\\n        AUTHORITY[\"EPSG\",\"4269\"]],\\n    PROJECTION[\"Transverse_Mercator\"],\\n    PARAMETER[\"latitude_of_origin\",0],\\n    PARAMETER[\"central_meridian\",-123],\\n    PARAMETER[\"scale_factor\",0.9996],\\n    PARAMETER[\"false_easting\",500000],\\n    PARAMETER[\"false_northing\",0],\\n    UNIT[\"metre\",1,\\n        AUTHORITY[\"EPSG\",\"9001\"]],\\n    AXIS[\"Easting\",EAST],\\n    AXIS[\"Northing\",NORTH],\\n    AUTHORITY[\"EPSG\",\"26910\"]]',\n",
       "   'proj4': '+proj=utm +zone=10 +datum=NAD83 +units=m +vunits=m +no_defs',\n",
       "   'units': {'horizontal': 'metre', 'vertical': 'metre'},\n",
       "   'vertical': 'VERT_CS[\"vert:NAD83_2011:m:height:geoid12b\",VERT_DATUM[\"unknown\",2005],UNIT[\"metre\",1,AUTHORITY[\"EPSG\",\"9001\"]],AXIS[\"Up\",UP]]',\n",
       "   'wkt': 'PROJCS[\"NAD83 / UTM zone 10N\",GEOGCS[\"NAD83\",DATUM[\"North_American_Datum_1983\",SPHEROID[\"GRS 1980\",6378137,298.257222101,AUTHORITY[\"EPSG\",\"7019\"]],AUTHORITY[\"EPSG\",\"6269\"]],PRIMEM[\"Greenwich\",0,AUTHORITY[\"EPSG\",\"8901\"]],UNIT[\"degree\",0.0174532925199433,AUTHORITY[\"EPSG\",\"9122\"]],AUTHORITY[\"EPSG\",\"4269\"]],PROJECTION[\"Transverse_Mercator\"],PARAMETER[\"latitude_of_origin\",0],PARAMETER[\"central_meridian\",-123],PARAMETER[\"scale_factor\",0.9996],PARAMETER[\"false_easting\",500000],PARAMETER[\"false_northing\",0],UNIT[\"metre\",1,AUTHORITY[\"EPSG\",\"9001\"]],AXIS[\"Easting\",EAST],AXIS[\"Northing\",NORTH],AUTHORITY[\"EPSG\",\"26910\"]]'},\n",
       "  'system_id': 'vdatum.noaa.gov',\n",
       "  'vlr_0': {'data': 'AQABAAAABgAABAAAAQABAAAMAAABAB5pBAwAAAEAKSMAEAAAAQAAAAEQsYciAAAAAxAAAAEAKSM=',\n",
       "   'description': 'NOAA_VDATUM datum information',\n",
       "   'record_id': 34735,\n",
       "   'user_id': 'LASF_Projection'},\n",
       "  'vlr_1': {'data': 'dmVydDpOQUQ4M18yMDExOm06aGVpZ2h0Omdlb2lkMTJifA==',\n",
       "   'description': 'GeoTifff ASCII parameters',\n",
       "   'record_id': 34737,\n",
       "   'user_id': 'LASF_Projection'},\n",
       "  'vlr_2': {'data': 'UFJPSkNTWyJOQUQ4MyAvIFVUTSB6b25lIDEwTiIsR0VPR0NTWyJOQUQ4MyIsREFUVU1bIk5vcnRoX0FtZXJpY2FuX0RhdHVtXzE5ODMiLFNQSEVST0lEWyJHUlMgMTk4MCIsNjM3ODEzNywyOTguMjU3MjIyMTAxLEFVVEhPUklUWVsiRVBTRyIsIjcwMTkiXV0sVE9XR1M4NFswLDAsMCwwLDAsMCwwXSxBVVRIT1JJVFlbIkVQU0ciLCI2MjY5Il1dLFBSSU1FTVsiR3JlZW53aWNoIiwwLEFVVEhPUklUWVsiRVBTRyIsIjg5MDEiXV0sVU5JVFsiZGVncmVlIiwwLjAxNzQ1MzI5MjUxOTk0MzMsQVVUSE9SSVRZWyJFUFNHIiwiOTEyMiJdXSxBVVRIT1JJVFlbIkVQU0ciLCI0MjY5Il1dLFBST0pFQ1RJT05bIlRyYW5zdmVyc2VfTWVyY2F0b3IiXSxQQVJBTUVURVJbImxhdGl0dWRlX29mX29yaWdpbiIsMF0sUEFSQU1FVEVSWyJjZW50cmFsX21lcmlkaWFuIiwtMTIzXSxQQVJBTUVURVJbInNjYWxlX2ZhY3RvciIsMC45OTk2XSxQQVJBTUVURVJbImZhbHNlX2Vhc3RpbmciLDUwMDAwMF0sUEFSQU1FVEVSWyJmYWxzZV9ub3J0aGluZyIsMF0sVU5JVFsibWV0cmUiLDEsQVVUSE9SSVRZWyJFUFNHIiwiOTAwMSJdXSxBWElTWyJFYXN0aW5nIixFQVNUXSxBWElTWyJOb3J0aGluZyIsTk9SVEhdLEFVVEhPUklUWVsiRVBTRyIsIjI2OTEwIl1dAA==',\n",
       "   'description': 'OGR variant of OpenGIS WKT SRS',\n",
       "   'record_id': 2112,\n",
       "   'user_id': 'liblas'}},\n",
       " 'now': '2022-06-06T12:10:28-0700',\n",
       " 'pdal_version': '2.4.1 (git-version: Release)',\n",
       " 'reader': 'readers.las'}"
      ]
     },
     "execution_count": 49,
     "metadata": {},
     "output_type": "execute_result"
    }
   ],
   "source": [
    "pdal_info_results = subprocess.run(pdal_metadata_cmd, stdout = subprocess.PIPE) # stout (standard out), PIPE indicates that a new pipe to the child should be created\n",
    "pdal_info_dict = json.loads(pdal_info_results.stdout.decode()) # create dict with metadata info\n",
    "pdal_info_dict # print results"
   ]
  },
  {
   "cell_type": "markdown",
   "id": "2bd7cd5d-0ac8-419c-9d36-fa0589d65e04",
   "metadata": {},
   "source": [
    "Check extents (in order to create bounds for rasterization below)"
   ]
  },
  {
   "cell_type": "code",
   "execution_count": null,
   "id": "fcfa978a-0e82-4d69-81f3-fcc1a59e258c",
   "metadata": {},
   "outputs": [],
   "source": [
    "lidar_folder = 'SCB/Sagehen_lidar/NCALM/NCALM_SCB_2014/NAD83_NAD83_epoch2010/'\n",
    "# lidar_folder = 'SCB/Sagehen_lidar/NCALM/NCALM_SCB_2014/NAD83_NAD83_epoch2010/'\n",
    "onlyfiles = [f for f in os.listdir(lidar_folder) if os.path.isfile(os.path.join(lidar_folder, f))]\n",
    "full_paths = [lidar_folder +f for f in onlyfiles]"
   ]
  },
  {
   "cell_type": "code",
   "execution_count": null,
   "id": "e0990454-2c2d-4b1b-906a-0561933b7954",
   "metadata": {},
   "outputs": [],
   "source": [
    "NCALM_2014_ext = lidar_functions.check_flight_extent(full_paths)\n",
    "# NCALM_snowOff_ext = lidar_functions.check_flight_extent(full_paths)\n",
    "# NCALM_snowOn_ext = lidar_functions.check_flight_extent(full_paths)"
   ]
  },
  {
   "cell_type": "markdown",
   "id": "24082eb7-2bad-41eb-90f0-8f96ac6de7b3",
   "metadata": {},
   "source": [
    "NCALM_snowOn_ext [730260.55, 739529.25, 4364442.12, 4372464.33, 9268.699999999953, 8022.209999999963]<br>\n",
    "NCALM_snowOff_ext [728878.85, 741181.8, 4363699.94, 4373425.02, 12302.95000000007, 9725.079999999143]<br>\n",
    "NCALM_2014 [[730000, 740999.99, 4363000, 4373999.99, 10999.98999999999, 10999.990000000224]]"
   ]
  },
  {
   "cell_type": "code",
   "execution_count": null,
   "id": "8516d352-8076-4ecd-89bd-2ca235b8ba93",
   "metadata": {},
   "outputs": [],
   "source": [
    "print(NCALM_2014_ext)"
   ]
  },
  {
   "cell_type": "markdown",
   "id": "a3d3bb58-6a02-4d92-b557-20fe201d104e",
   "metadata": {},
   "source": [
    "### Convert File Format"
   ]
  },
  {
   "cell_type": "code",
   "execution_count": null,
   "id": "65fab30c-47b0-40ab-9df9-81200ba8dd61",
   "metadata": {},
   "outputs": [],
   "source": [
    "lidar_folder = 'SCB/Sagehen_lidar/NCALM/NCALM_SCB_20220321/las/'\n",
    "output_folder = 'SCB/Sagehen_lidar/NCALM/NCALM_SCB_20220321/laz/'\n",
    "onlyfiles = [f for f in os.listdir(lidar_folder) if os.path.isfile(os.path.join(lidar_folder, f))]\n",
    "full_paths = [lidar_folder +f for f in onlyfiles]\n",
    "for files in onlyfiles:\n",
    "    input_lidar = lidar_folder + files\n",
    "    output_lidar = output_folder + files[:-3]+ 'laz'\n",
    "    pdal_cmd = ['pdal','translate',input_lidar, output_lidar]\n",
    "    subprocess.run(pdal_cmd)"
   ]
  },
  {
   "cell_type": "markdown",
   "id": "ff1066ad-9023-43c1-a6a9-199681166dec",
   "metadata": {},
   "source": [
    "05/18/2016 has the most limited extent, so we'll use those bounds for rasterization."
   ]
  },
  {
   "cell_type": "markdown",
   "id": "4751d94d-d53d-40ce-a8d4-d62adad47b08",
   "metadata": {},
   "source": [
    "## Retile"
   ]
  },
  {
   "cell_type": "code",
   "execution_count": null,
   "id": "ea4032e7-3646-4f0e-9d5e-acc98c7ea589",
   "metadata": {},
   "outputs": [],
   "source": [
    "lidar_folder = 'SCB/Sagehen_lidar/NCALM/NCALM_SCB_2014/NAD83_NAD83_epoch2010/'\n",
    "retile_folder = 'SCB/Sagehen_lidar/NCALM/NCALM_SCB_2014/retile_uo/'\n",
    "onlyfiles = [f for f in os.listdir(lidar_folder) if os.path.isfile(os.path.join(lidar_folder, f))]\n",
    "for files in onlyfiles:\n",
    "    full_path = os.path.join(lidar_folder, files)\n",
    "    output_path = retile_folder+'#' + files\n",
    "    retile_command = ['pdal', 'tile', full_path, output_path, '--length=1000','--buffer=50']\n",
    "    subprocess.run(retile_command)"
   ]
  },
  {
   "cell_type": "markdown",
   "id": "26292a6b-d7e1-4671-8a2c-81b27432469c",
   "metadata": {},
   "source": [
    "## Rename"
   ]
  },
  {
   "cell_type": "code",
   "execution_count": null,
   "id": "fd725789-60cb-4aa6-b79f-dfca7e1ff3f9",
   "metadata": {},
   "outputs": [],
   "source": [
    "lidar_folder = 'SCB/Sagehen_lidar/NCALM/NCALM_SCB_20220321/laz/'\n",
    "tic = time.perf_counter()\n",
    "if __name__ == '__main__':\n",
    "    with concurrent.futures.ProcessPoolExecutor(max_workers=10) as executor:\n",
    "        onlyfiles = [f for f in os.listdir(lidar_folder) if os.path.isfile(os.path.join(lidar_folder, f))]\n",
    "        full_path = [os.path.join(lidar_folder, s) for s in onlyfiles]\n",
    "        executor.map(lidar_functions.rename_llx_lly, full_path) \n",
    "toc = time.perf_counter()"
   ]
  },
  {
   "cell_type": "code",
   "execution_count": null,
   "id": "aa1b2a67-2212-4cd4-94e1-41f66634a893",
   "metadata": {},
   "outputs": [],
   "source": [
    "lidar_folder = 'SCB/Sagehen_lidar/NCALM/NCALM_SCB_20220321/las/'\n",
    "tic = time.perf_counter()\n",
    "if __name__ == '__main__':\n",
    "    with concurrent.futures.ProcessPoolExecutor(max_workers=10) as executor:\n",
    "        onlyfiles = [f for f in os.listdir(lidar_folder) if os.path.isfile(os.path.join(lidar_folder, f))]\n",
    "        full_path = [os.path.join(lidar_folder, s) for s in onlyfiles]\n",
    "        executor.map(lidar_functions.add_str_to_filename, full_path) \n",
    "toc = time.perf_counter()"
   ]
  },
  {
   "cell_type": "markdown",
   "id": "0a97d2d1-e28e-4bed-a4ba-b0363d4434a4",
   "metadata": {},
   "source": [
    "## Save Tile Boundaries"
   ]
  },
  {
   "cell_type": "code",
   "execution_count": null,
   "id": "cbace8bd-7da0-4913-9960-c65f1eca84cd",
   "metadata": {},
   "outputs": [],
   "source": [
    "# one folder\n",
    "tic = time.perf_counter()\n",
    "lidar_folder = 'SCB/Sagehen_lidar/NCALM/NCALM_SCB_20220321/laz/'\n",
    "output_folder = 'SCB/Sagehen_lidar/NCALM/NCALM_SCB_20220321/tindex/original/'\n",
    "if __name__ == '__main__':\n",
    "    with concurrent.futures.ProcessPoolExecutor(max_workers=3) as executor:\n",
    "        onlyfiles = [f for f in os.listdir(lidar_folder) if os.path.isfile(os.path.join(lidar_folder, f))]\n",
    "        full_path = [os.path.join(lidar_folder, s) for s in onlyfiles]\n",
    "        # change depending on directory formats\n",
    "        #output_path = [os.path.join(os.path.basename(lidar_folder),'tindex/tiles/' + s[:-3] + 'sqlite') for s in onlyfiles]\n",
    "        output_path = [output_folder + s[:-3] + 'sqlite' for s in onlyfiles]\n",
    "        executor.map(lidar_functions.create_tindex, full_path, output_path) #running 10 times\n",
    "toc = time.perf_counter()"
   ]
  },
  {
   "cell_type": "markdown",
   "id": "13399307-5a71-472d-9039-262c703e83e7",
   "metadata": {},
   "source": [
    "## Heigh Above Ground"
   ]
  },
  {
   "cell_type": "code",
   "execution_count": null,
   "id": "cf501c4d-8952-462c-9c9a-138e0b7e52eb",
   "metadata": {},
   "outputs": [],
   "source": [
    "# define json path \n",
    "HAG_json = json_base_path + 'HAG_dem.json'\n",
    "# convert all z values to the height above ground \n",
    "target_dem = 'SCB/Sagehen_lidar/NCALM/NCALM_SCB_2014/DEM/NCALM_2014_BE.tif'\n",
    "filter_hag = {\"type\":\"filters.hag_dem\",\n",
    "              \"raster\":target_dem, # full file path of target DEM (.tif)\n",
    "              \"zero_ground\":\"false\"} # Do not assign 0 to ground classified points\n",
    "filter_ferry = {\"type\":\"filters.ferry\",\n",
    "                \"dimensions\":\"HeightAboveGround=>Z\"} # replace all Z dimensions with HAG instead of elevation\n",
    "filter_range = {\"type\":\"filters.range\",\n",
    "                \"limits\":\"Z[-0.2:70]\"} # apply a noise filter\n",
    "pipeline_list = [filter_hag, filter_ferry,filter_range]\n",
    "pipeline_dict = {'pipeline' : pipeline_list}\n",
    "with open(HAG_json, 'w') as out:\n",
    "    json.dump(pipeline_dict, out, indent=4)"
   ]
  },
  {
   "cell_type": "code",
   "execution_count": null,
   "id": "e8c1511e-856a-426e-9794-75b704b146bb",
   "metadata": {},
   "outputs": [],
   "source": [
    "# parallel processing\n",
    "# time = 1.1 min\n",
    "tic = time.perf_counter()\n",
    "input_path = 'SCB/Sagehen_lidar/NCALM/NCALM_SCB_20220321/laz/'\n",
    "output_path = 'SCB/Sagehen_lidar/NCALM/NCALM_SCB_20220321/HAG/'\n",
    "if __name__ == '__main__':\n",
    "    with concurrent.futures.ProcessPoolExecutor(max_workers=3) as executor:\n",
    "        onlyfiles = [f for f in os.listdir(input_path) if os.path.isfile(os.path.join(input_path, f))]\n",
    "        full_path = [input_path + s for s in onlyfiles]\n",
    "        output_path_full = [output_path  + s for s in onlyfiles]\n",
    "        executor.map(lidar_functions.HAG_dem, full_path, output_path_full)"
   ]
  },
  {
   "cell_type": "markdown",
   "id": "29286431-2c43-4818-933f-b8540f2e6663",
   "metadata": {},
   "source": [
    "## Counts"
   ]
  },
  {
   "cell_type": "code",
   "execution_count": 7,
   "id": "baf4f954-2e05-4b66-98b8-b8d0ca8ddabb",
   "metadata": {},
   "outputs": [],
   "source": [
    "count_cmd = json_base_path + 'rasterize_count.json'"
   ]
  },
  {
   "cell_type": "code",
   "execution_count": 16,
   "id": "8422cb76-6eef-4d94-ae5b-77b5e68296b9",
   "metadata": {},
   "outputs": [],
   "source": [
    "# input_path = 'SCB/Sagehen_lidar/NCALM/NCALM_SCB_20220321/laz/'\n",
    "# output_tif = 'SCB/Sagehen_lidar/NCALM/NCALM_SCB_20220321/counts/NCALM_SCB_20220321_counts.tif'\n",
    "# onlyfiles = [f for f in os.listdir(input_path) if os.path.isfile(os.path.join(input_path, f))]\n",
    "# input_list = [input_path + s for s in onlyfiles]\n",
    "input_path = 'SCB/Sagehen_lidar/ASO/ASO_SCB_20160518/HAG/'\n",
    "output_tif = 'SCB/Sagehen_lidar/ASO/ASO_SCB_20160518/counts/ASO_SCB_20160518_counts.tif'\n",
    "onlyfiles = [f for f in os.listdir(input_path) if os.path.isfile(os.path.join(input_path, f))]\n",
    "input_list = [input_path + s for s in onlyfiles]"
   ]
  },
  {
   "cell_type": "code",
   "execution_count": 17,
   "id": "5424c462-8692-4530-bf3b-f867a0e1ed7e",
   "metadata": {},
   "outputs": [],
   "source": [
    "filename_dict = {}\n",
    "tags = ['']*len(input_list)\n",
    "filenames = ['']*len(input_list)\n",
    "for i in range(len(input_list)):\n",
    "    filename_dict['filename_'+str(i)] = {'filename':input_list[i], 'tag':'A_'+str(i)}\n",
    "    tags[i] = 'A_'+str(i)\n",
    "    filenames[i] = filename_dict[list(filename_dict)[i]]"
   ]
  },
  {
   "cell_type": "code",
   "execution_count": 18,
   "id": "b282f5a0-1596-4368-be0e-dd6d6150764f",
   "metadata": {},
   "outputs": [],
   "source": [
    "# merge all las files or stages\n",
    "filter_merge = {\"type\":\"filters.merge\",\n",
    "               \"tag\": \"merged\",\n",
    "               \"inputs\": tags}\n",
    "# filter out the ground points of the tiles\n",
    "filter_range = {\"type\":\"filters.range\",\n",
    "                \"limits\":\"Classification![7:7]\",\n",
    "               \"inputs\":\"merged\",\n",
    "               \"tag\":\"ranged\"}\n",
    "\n",
    "# write merged las to raster\n",
    "writers_gdal= {\"type\": \"writers.gdal\",\n",
    "               'output_type': 'count', \n",
    "              'resolution': '1.0',\n",
    "               'bounds': writers_bounds,\n",
    "              'radius': '0.7',\n",
    "               'filename': output_tif}\n",
    "# Append each stage to a list prior to saving to json \n",
    "pipeline_list = filenames.copy()\n",
    "pipeline_list.append(filter_merge)\n",
    "#pipeline_list.append(filter_range)\n",
    "pipeline_list.append(writers_gdal)\n",
    "pipeline_dict = {'pipeline' : pipeline_list}\n",
    "# save to json\n",
    "with open(count_cmd, 'w') as out:\n",
    "    json.dump(pipeline_dict, out, indent=4)"
   ]
  },
  {
   "cell_type": "code",
   "execution_count": 19,
   "id": "02157315-3dfc-49a0-95b7-35251b39bb81",
   "metadata": {},
   "outputs": [],
   "source": [
    "tic = time.perf_counter()\n",
    "pdal_cmd = ['pdal','pipeline', count_cmd]\n",
    "subprocess.run(pdal_cmd)\n",
    "toc = time.perf_counter()"
   ]
  },
  {
   "cell_type": "markdown",
   "id": "7ad2a53a-72cd-4fe7-8c9f-fe68102cdbc5",
   "metadata": {},
   "source": [
    "# Vertical Bias Correction"
   ]
  },
  {
   "cell_type": "markdown",
   "id": "90ed4fac-e4e5-4c0a-91fc-b9a898b0cc50",
   "metadata": {},
   "source": [
    "## Calculate Bias"
   ]
  },
  {
   "cell_type": "markdown",
   "id": "c9d1b3cb-6e92-402e-a6b9-e1f35d7a82e4",
   "metadata": {},
   "source": [
    "### NCALM 2020\n",
    "These data have some snowfall at the higher elevations, so we'll create a DEM and compare to the 2014 DEM"
   ]
  },
  {
   "cell_type": "code",
   "execution_count": null,
   "id": "68623600-e24b-4b91-9184-3a5dcb71fd32",
   "metadata": {
    "tags": []
   },
   "outputs": [],
   "source": [
    "BE_json = json_base_path+'BE_from_las.json' # define path to json files"
   ]
  },
  {
   "cell_type": "code",
   "execution_count": null,
   "id": "0371189d-82de-4d81-a37f-4091fef346ff",
   "metadata": {},
   "outputs": [],
   "source": [
    "input_path = 'SCB/Sagehen_lidar/NCALM/NCALM_SCB_20201120/laz/'\n",
    "output_tif = 'SCB/Sagehen_lidar/NCALM/NCALM_SCB_20201120/vertical_bias_correction/NCALM_SCB_20201120_BE.tif'\n",
    "onlyfiles = [f for f in os.listdir(input_path) if os.path.isfile(os.path.join(input_path, f))]\n",
    "input_list = [input_path + s for s in onlyfiles]"
   ]
  },
  {
   "cell_type": "code",
   "execution_count": null,
   "id": "62c8c02d-1b3e-4551-a98c-2a7db7632455",
   "metadata": {},
   "outputs": [],
   "source": [
    "filename_dict = {}\n",
    "tags = ['']*len(input_list)\n",
    "filenames = ['']*len(input_list)\n",
    "for i in range(len(input_list)):\n",
    "    filename_dict['filename_'+str(i)] = {'filename':input_list[i], 'tag':'A_'+str(i)}\n",
    "    tags[i] = 'A_'+str(i)\n",
    "    filenames[i] = filename_dict[list(filename_dict)[i]]"
   ]
  },
  {
   "cell_type": "code",
   "execution_count": null,
   "id": "6b0c9c5f-0cfb-4435-a684-02b5497ae7ce",
   "metadata": {},
   "outputs": [],
   "source": [
    "# filter out the ground points of the tiles\n",
    "filter_range = {\"type\":\"filters.range\",\n",
    "                \"limits\":\"Classification[2:2]\"}\n",
    "# merge all las files or stages\n",
    "filter_merge = {\"type\":\"filters.merge\",\n",
    "               \"tag\": \"merged\",\n",
    "               \"inputs\": tags}\n",
    "# write merged las to raster\n",
    "writers_gdal= {\"type\": \"writers.gdal\",\n",
    "               'output_type': 'mean', \n",
    "              'resolution': '1.0',\n",
    "               'bounds': writers_bounds,\n",
    "              'radius': '0.7',\n",
    "               'filename': output_tif}\n",
    "# Append each stage to a list prior to saving to json \n",
    "pipeline_list = filenames.copy()\n",
    "pipeline_list.append(filter_merge)\n",
    "pipeline_list.append(filter_range)\n",
    "pipeline_list.append(writers_gdal)\n",
    "pipeline_dict = {'pipeline' : pipeline_list}\n",
    "# save to json\n",
    "with open(BE_json, 'w') as out:\n",
    "    json.dump(pipeline_dict, out, indent=4)"
   ]
  },
  {
   "cell_type": "code",
   "execution_count": null,
   "id": "df3cc7d2-5a71-400e-bee0-36ddc7ce9e2e",
   "metadata": {},
   "outputs": [],
   "source": [
    "tic = time.perf_counter()\n",
    "pdal_cmd = ['pdal','pipeline', BE_json]\n",
    "subprocess.run(pdal_cmd)\n",
    "toc = time.perf_counter()"
   ]
  },
  {
   "cell_type": "code",
   "execution_count": null,
   "id": "1059eb6d-3691-4c57-9595-f90393f48b93",
   "metadata": {},
   "outputs": [],
   "source": [
    "(toc-tic)/60"
   ]
  },
  {
   "cell_type": "markdown",
   "id": "ebd9c40a-7fc9-40ab-b094-612b111fae15",
   "metadata": {},
   "source": [
    "Now, we can look at the difference between the 2014 and 2020 flight. However, we want to limit this to lower elevations and shallower slopes"
   ]
  },
  {
   "cell_type": "code",
   "execution_count": 317,
   "id": "4baeeadd-6334-4fcd-b4b5-5b92d432bfc0",
   "metadata": {},
   "outputs": [],
   "source": [
    "slope_arr = lidar_functions.raster_to_array('SCB/Sagehen_lidar/NCALM/NCALM_SCB_2014/DEM/SCB/NCALM_2014_slope.tif', -9999)\n",
    "BE_2020_arr = lidar_functions.raster_to_array('SCB/Sagehen_lidar/NCALM/NCALM_SCB_20201120/vertical_bias_correction/NCALM_SCB_20201120_BE.tif', -9999)"
   ]
  },
  {
   "cell_type": "code",
   "execution_count": 309,
   "id": "6aff3a70-f4c9-47e5-bcf1-8e7fb8eae2f9",
   "metadata": {},
   "outputs": [],
   "source": [
    "DEM_2014_arr = lidar_functions.raster_to_array('SCB/Sagehen_lidar/NCALM/NCALM_SCB_2014/DEM/SCB/NCALM_2014_BE.tif', -9999)"
   ]
  },
  {
   "cell_type": "code",
   "execution_count": null,
   "id": "75c231a0-f70c-46cd-beb7-1049c45beb63",
   "metadata": {},
   "outputs": [],
   "source": [
    "#DEM_2014_arr[DEM_2014_arr > 2000] = np.nan\n",
    "# BE_2020_arr[BE_2020_arr>2000] = np.nan"
   ]
  },
  {
   "cell_type": "code",
   "execution_count": 310,
   "id": "60c4f06a-ad49-4292-9a9f-1c43e4d7ff67",
   "metadata": {},
   "outputs": [],
   "source": [
    "#BE_2020_arr = BE_2020_arr + 0.29"
   ]
  },
  {
   "cell_type": "code",
   "execution_count": 318,
   "id": "b74b068e-25d0-49ea-b826-e1d69458516c",
   "metadata": {},
   "outputs": [],
   "source": [
    "diff_2020_2014 = BE_2020_arr - DEM_2014_arr"
   ]
  },
  {
   "cell_type": "code",
   "execution_count": 409,
   "id": "970ef78c-0240-4019-96b7-451fb2c6968e",
   "metadata": {},
   "outputs": [],
   "source": [
    "# clean up arrays\n",
    "BE_2020_arr[BE_2020_arr>3000] = np.nan\n",
    "DEM_2014_arr[DEM_2014_arr>3000] = np.nan\n",
    "\n",
    "snow_off_df = pd.DataFrame({'2020_BE': BE_2020_arr, '2014_DEM': DEM_2014_arr})\n",
    "snow_off_df = snow_off_df.dropna()"
   ]
  },
  {
   "cell_type": "code",
   "execution_count": 425,
   "id": "1b880cea-4768-4c42-97cd-cfb24baf3cc2",
   "metadata": {},
   "outputs": [
    {
     "data": {
      "text/plain": [
       "2676.6090909090913"
      ]
     },
     "execution_count": 425,
     "metadata": {},
     "output_type": "execute_result"
    }
   ],
   "source": [
    "np.max(snow_off_df['2020_BE'])"
   ]
  },
  {
   "cell_type": "code",
   "execution_count": 426,
   "id": "16ccd189-d816-49f0-a28e-bf027ffd1b2e",
   "metadata": {},
   "outputs": [
    {
     "name": "stdout",
     "output_type": "stream",
     "text": [
      "                            OLS Regression Results                            \n",
      "==============================================================================\n",
      "Dep. Variable:                2020_BE   R-squared:                       1.000\n",
      "Model:                            OLS   Adj. R-squared:                  1.000\n",
      "Method:                 Least Squares   F-statistic:                 2.530e+13\n",
      "Date:                Tue, 17 May 2022   Prob (F-statistic):               0.00\n",
      "Time:                        15:07:31   Log-Likelihood:             5.6107e+06\n",
      "No. Observations:            51635470   AIC:                        -1.122e+07\n",
      "Df Residuals:                51635468   BIC:                        -1.122e+07\n",
      "Df Model:                           1                                         \n",
      "Covariance Type:            nonrobust                                         \n",
      "==============================================================================\n",
      "                 coef    std err          t      P>|t|      [0.025      0.975]\n",
      "------------------------------------------------------------------------------\n",
      "const         -0.3253      0.000   -765.349      0.000      -0.326      -0.324\n",
      "2014_DEM       1.0001   1.99e-07   5.03e+06      0.000       1.000       1.000\n",
      "==============================================================================\n",
      "Omnibus:                 43317751.309   Durbin-Watson:                   0.524\n",
      "Prob(Omnibus):                  0.000   Jarque-Bera (JB):     771756423438.069\n",
      "Skew:                          -2.245   Prob(JB):                         0.00\n",
      "Kurtosis:                     601.907   Cond. No.                     3.01e+04\n",
      "==============================================================================\n",
      "\n",
      "Notes:\n",
      "[1] Standard Errors assume that the covariance matrix of the errors is correctly specified.\n",
      "[2] The condition number is large, 3.01e+04. This might indicate that there are\n",
      "strong multicollinearity or other numerical problems.\n"
     ]
    }
   ],
   "source": [
    "# regression\n",
    "Y = snow_off_df['2020_BE']\n",
    "X = snow_off_df['2014_DEM']\n",
    "X = sm.add_constant(X) # adding a constant\n",
    "\n",
    "model = sm.OLS(Y, X).fit()\n",
    "predictions = model.predict(X) \n",
    "\n",
    "print_model = model.summary()\n",
    "print(print_model)"
   ]
  },
  {
   "cell_type": "code",
   "execution_count": 505,
   "id": "8edb63ee-e7e3-4456-be43-50f7d6453da3",
   "metadata": {},
   "outputs": [
    {
     "name": "stdout",
     "output_type": "stream",
     "text": [
      "-0.39117647058833427\n",
      "0.08738636363614205\n",
      "lowest_10th -0.29 mean -0.112 median -0.0808 stdev 0.218\n"
     ]
    }
   ],
   "source": [
    "print(np.nanpercentile((diff_2020_2014), 5))\n",
    "print(np.nanpercentile((diff_2020_2014), 95))\n",
    "lowest_10th = np.nanpercentile(diff_2020_2014,10)\n",
    "mean_hag = np.nanmean((diff_2020_2014))\n",
    "median_hag = np.nanmedian((diff_2020_2014))\n",
    "std_hag = np.nanstd((diff_2020_2014))\n",
    "\n",
    "print(\"lowest_10th\",round(lowest_10th_per,3), \"mean\",round(mean_hag,3), \"median\", round(median_hag,4), 'stdev', round(std_hag,3))"
   ]
  },
  {
   "cell_type": "code",
   "execution_count": 503,
   "id": "14331a08-9bc4-4b94-9c4d-51d286259fa7",
   "metadata": {},
   "outputs": [
    {
     "data": {
      "text/plain": [
       "<matplotlib.lines.Line2D at 0x26823a9fca0>"
      ]
     },
     "execution_count": 503,
     "metadata": {},
     "output_type": "execute_result"
    },
    {
     "data": {
      "image/png": "[encoded data removed]",
      "text/plain": [
       "<Figure size 432x288 with 1 Axes>"
      ]
     },
     "metadata": {
      "needs_background": "light"
     },
     "output_type": "display_data"
    }
   ],
   "source": [
    "plt.hist(diff_2020_2014, bins=25, range=[-1, 1])\n",
    "plt.axvline(0, color='k')"
   ]
  },
  {
   "cell_type": "markdown",
   "id": "5974506f-0990-414e-98db-ad79a9eb29e4",
   "metadata": {},
   "source": [
    "### NCALM 2022\n",
    "The NCALM data uses snow-on field data extracted at points for vertical bias correction. <br>"
   ]
  },
  {
   "cell_type": "markdown",
   "id": "3193839f-8249-4472-93ce-5d9deb64360f",
   "metadata": {},
   "source": [
    "Create json for each individual file"
   ]
  },
  {
   "cell_type": "code",
   "execution_count": null,
   "id": "2fee3fb6-292f-4727-9bb2-f691722e7e72",
   "metadata": {},
   "outputs": [],
   "source": [
    "# name JSON file\n",
    "extract_las_atPoint_json = json_base_path +'extract_las_atPoint.json'\n",
    "\n",
    "# def extract_las_atPoint(filenames, tags, target_point, output_txt):\n",
    "    \n",
    "#     # merge all las files or stages\n",
    "#     filter_merge = {\"type\":\"filters.merge\",\n",
    "#                     \"tag\": \"merged\",\n",
    "#                     \"inputs\": tags}\n",
    "#     # crop\n",
    "#     filter_crop = {'type':'filters.crop',\n",
    "#                    'point':target_point,\n",
    "#                    'distance':3,\n",
    "#                    'inputs':'merged',\n",
    "#                    'tag': 'cropped'}\n",
    "#     # crop\n",
    "#     filter_range = {'type':'filters.range',\n",
    "#                    'limits':'Classification[2:2]',\n",
    "#                    'inputs':'cropped',\n",
    "#                    'tag': 'range'}\n",
    "    \n",
    "#     # write merged las to raster\n",
    "#     writers_gdal = {\"type\":\"writers.text\",\n",
    "#                     \"format\":\"csv\",\n",
    "#                     \"order\":\"Z\",\n",
    "#                     \"write_header\":False,\n",
    "#                     'keep_unspecified':False,\n",
    "#                     'filename':output_txt}\n",
    "#     # Append each stage to a list prior to saving to json \n",
    "#     pipeline_list = filenames.copy()\n",
    "#     pipeline_list.append(filter_merge)\n",
    "\n",
    "#     pipeline_list.append(filter_range)  \n",
    "#     pipeline_list.append(filter_crop)\n",
    "#     pipeline_list.append(writers_gdal)\n",
    "\n",
    "#     pipeline_dict = {'pipeline' : pipeline_list}\n",
    "#     # save to json\n",
    "#     with open(extract_las_atPoint_json, 'w') as out:\n",
    "#         json.dump(pipeline_dict, out, indent=4)\n",
    "#     pdal_cmd = ['pdal','pipeline', extract_las_atPoint_json]\n",
    "#     subprocess.run(pdal_cmd)"
   ]
  },
  {
   "cell_type": "markdown",
   "id": "932ecb5d-477a-4607-91a3-10a2fab1945f",
   "metadata": {},
   "source": [
    "**Load in Field Data**"
   ]
  },
  {
   "cell_type": "code",
   "execution_count": 167,
   "id": "56467508-027c-4fda-b448-bcbed112e845",
   "metadata": {},
   "outputs": [],
   "source": [
    "# Read in ground_truthed data\n",
    "def csv_to_list(input_csv):\n",
    "    src = open(input_csv)\n",
    "    csvreader = csv.reader(src)\n",
    "    header = next(csvreader)\n",
    "    output_list = []\n",
    "    for row in csvreader:\n",
    "        output_list.append(row)\n",
    "    src.close()\n",
    "    return(header, output_list)"
   ]
  },
  {
   "cell_type": "code",
   "execution_count": 168,
   "id": "dc0026e0-8c6f-44fe-b339-aa695bba261e",
   "metadata": {},
   "outputs": [],
   "source": [
    "# extract data from field data\n",
    "field_src = \"SCB/supporting_files/combined_field_snow/Piske_2022_snow/SCB_20220323_depth.csv\"\n",
    "field_header, field_data = csv_to_list(field_src)"
   ]
  },
  {
   "cell_type": "code",
   "execution_count": 169,
   "id": "caaad831-385d-485e-ad87-e3c595f6a904",
   "metadata": {},
   "outputs": [],
   "source": [
    "field_data_df = pd.read_csv(field_src)"
   ]
  },
  {
   "cell_type": "code",
   "execution_count": 173,
   "id": "493e78e3-141a-4af5-a68d-1e1e3aeb6e45",
   "metadata": {},
   "outputs": [
    {
     "data": {
      "text/plain": [
       "732492"
      ]
     },
     "execution_count": 173,
     "metadata": {},
     "output_type": "execute_result"
    }
   ],
   "source": [
    "field_data_df.Easting[50]"
   ]
  },
  {
   "cell_type": "markdown",
   "id": "be160306-b2e6-4340-888b-ec0a45326458",
   "metadata": {},
   "source": [
    "**Create a CSV for Each Field Data Point** <br>\n",
    "CSV contains all lidar values within a 3m radius of the point"
   ]
  },
  {
   "cell_type": "code",
   "execution_count": 7,
   "id": "df4742ce-3bb6-45ad-ae59-855fa60c362d",
   "metadata": {},
   "outputs": [],
   "source": [
    "#input_path = 'SCB/Sagehen_lidar/NCALM/NCALM_SCB_20220321/HAG/'\n",
    "output_path = 'SCB/Sagehen_lidar/NCALM/NCALM_SCB_20220321/vertical_bias_correction/las_vals_target_pts/'\n",
    "#filenames, tags = lidar_functions.create_command_template(input_path)"
   ]
  },
  {
   "cell_type": "code",
   "execution_count": 175,
   "id": "007ccd9d-6bc1-40de-9872-5c3004e70845",
   "metadata": {},
   "outputs": [],
   "source": [
    "# create lists with inputs for function/for loop\n",
    "output_txt = [0]*len(field_data_df)\n",
    "target_point = [0]* len(field_data_df)\n",
    "for i in range(len(field_data_df)):\n",
    "    output_txt[i] = output_path+'field_data_'+str(field_data_df.Easting[i])+\"_\"+str(field_data_df.Northing[i])+'.csv'\n",
    "    target_point[i] = 'POINT('+str(field_data_df.Easting[i])+' '+str(field_data_df.Northing[i])+')'"
   ]
  },
  {
   "cell_type": "code",
   "execution_count": 58,
   "id": "63dde43b-606f-4d94-a50b-fc7135ae6f93",
   "metadata": {},
   "outputs": [],
   "source": [
    "# time = 4 min\n",
    "output_txt = [0]*len(field_data)\n",
    "target_point = [0]* len(field_data)\n",
    "for i in range(len(field_data)):\n",
    "    output_txt[i] = output_path+'field_data_'+str(field_data[i][4])+\"_\"+str(field_data[i][5])+'.csv'\n",
    "    target_point[i] = 'POINT('+field_data[i][4]+' '+field_data[i][5]+')'"
   ]
  },
  {
   "cell_type": "code",
   "execution_count": 11,
   "id": "28ea78b5-5db7-4c90-adbc-578de1ae0385",
   "metadata": {},
   "outputs": [],
   "source": [
    "# # this is not working\n",
    "# # parallel processing\n",
    "# output_txt = [0]*len(field_data)\n",
    "# target_point = [0]* len(field_data)\n",
    "# for i in range(len(field_data)):\n",
    "#     output_txt[i] = output_path+'field_data_'+str(field_data[i][4])+\"_\"+str(field_data[i][5])+'.csv'\n",
    "#     target_point[i] = 'POINT('+field_data[i][4]+' '+field_data[i][5]+')'\n",
    "    \n",
    "# if __name__ == '__main__':\n",
    "#     with concurrent.futures.ProcessPoolExecutor(max_workers=10) as executor:\n",
    "#         executor.map(lidar_functions_adaptable.extract_las_atPoint, target_point, output_txt)"
   ]
  },
  {
   "cell_type": "code",
   "execution_count": 27,
   "id": "26776453-44ea-45f9-83c9-81d000746e9b",
   "metadata": {},
   "outputs": [],
   "source": [
    "# this works!\n",
    "# if we want to parallel process, one option could be to try having the inputs as j (num for target point) and one as output_txt and see if that works... not quite sure why this isn't working\n",
    "for j in range(len(field_data)):\n",
    "    extract_las_atPoint_json = json_base_path +'extract_las_atPoint.json'\n",
    "    # define the input path to the las files\n",
    "    #******\n",
    "    input_path = 'SCB/Sagehen_lidar/NCALM/NCALM_SCB_20220321/HAG/'\n",
    "    onlyfiles = [f for f in os.listdir(input_path) if os.path.isfile(os.path.join(input_path, f))] # make a list of all filenames in directory\n",
    "    input_list_all = [input_path + s for s in onlyfiles] # make a list of full filename paths in directory\n",
    "    # now instead of all files, we take only files that contain the target point (here, we use file names that follow\n",
    "    # the basic file structure that ends with *easing_northing.las\n",
    "    input_list = input_list_all.copy()\n",
    "    for files in input_list_all:\n",
    "        pdal_info_command = ['pdal', 'info', files, '--metadata'] # set up pdal info command\n",
    "        pdal_info_results = subprocess.run(pdal_info_command, stdout = subprocess.PIPE) # stout (standard out), PIPE indicates that a new pipe to the child should be created, execute command\n",
    "        pdal_info_dict = json.loads(pdal_info_results.stdout.decode()) # save metadata to dictionary\n",
    "        minx = int(round(pdal_info_dict['metadata']['minx']))\n",
    "        maxx = int(round(pdal_info_dict['metadata']['maxx']))\n",
    "        miny = int(round(pdal_info_dict['metadata']['miny']))\n",
    "        maxy = int(round(pdal_info_dict['metadata']['maxy']))\n",
    "        if ((miny <= int(target_point[j][-8:-1]) <= maxy) and (minx <= int(target_point[j][-15:-9]) <=  maxx)) == False:\n",
    "            input_list.remove(files)\n",
    "\n",
    "    filename_dict = {} # initiate an empty dict to hold the readers\n",
    "    tags = ['']*len(input_list) # initiate an empty list, size = number of files\n",
    "    filenames = ['']*len(input_list) # repeat\n",
    "    for i in range(len(input_list)): # for each file, create a dictionary element with the values matching json formatting for file merging\n",
    "        if len(input_list) > 1:\n",
    "            filename_dict['filename_'+str(i)] = {'filename':input_list[i], 'tag':'A_'+str(i)}\n",
    "            tags[i] = 'A_'+str(i) # add a tag to the reader stage\n",
    "            filenames[i] = filename_dict[list(filename_dict)[i]] # Add all values to a list\n",
    "        else:\n",
    "            filename_dict['filename_'+str(i)] = {'filename':input_list[i], 'tag':'input_stage'}\n",
    "            filenames[i] = filename_dict[list(filename_dict)[i]]\n",
    "\n",
    "    output_txt = output_path+'field_data_'+str(field_data[j][4])+\"_\"+str(field_data[j][5])+'.csv'\n",
    "    \n",
    "    # merge all las files or stages\n",
    "    filter_merge = {\"type\":\"filters.merge\",\n",
    "                    \"tag\": \"input_stage\",\n",
    "                    \"inputs\": tags}\n",
    "    # crop\n",
    "    filter_crop = {'type':'filters.crop',\n",
    "                   'point':target_point[j],\n",
    "                   'distance':3,\n",
    "                   'inputs':'input_stage',\n",
    "                   'tag': 'cropped'}\n",
    "\n",
    "    # range\n",
    "    filter_range = {'type':'filters.range',\n",
    "                   'limits':'Classification[2:2]',\n",
    "                   'inputs':'cropped',\n",
    "                   'tag': 'range'}            \n",
    "    # write merged las to raster\n",
    "    writers_gdal = {\"type\":\"writers.text\",\n",
    "                    \"format\":\"csv\",\n",
    "                    \"order\":\"Z\",\n",
    "                    \"write_header\":False,\n",
    "                    'keep_unspecified':False,\n",
    "                    'filename':output_txt}\n",
    "    # Append each stage to a list prior to saving to json\n",
    "    if len(input_list) > 1:\n",
    "        pipeline_list = filenames.copy()\n",
    "        pipeline_list.append(filter_merge)\n",
    "        pipeline_list.append(filter_crop)\n",
    "        pipeline_list.append(filter_range)  \n",
    "        pipeline_list.append(writers_gdal)\n",
    "        pipeline_dict = {'pipeline' : pipeline_list}\n",
    "    else:\n",
    "        pipeline_list = filenames.copy()\n",
    "        pipeline_list.append(filter_crop)\n",
    "        pipeline_list.append(filter_range)  \n",
    "        pipeline_list.append(writers_gdal)\n",
    "        pipeline_dict = {'pipeline' : pipeline_list}\n",
    "    # save to json\n",
    "    with open(extract_las_atPoint_json, 'w') as out:\n",
    "        json.dump(pipeline_dict, out, indent=4)\n",
    "    pdal_cmd = ['pdal','pipeline', extract_las_atPoint_json]\n",
    "    subprocess.run(pdal_cmd)"
   ]
  },
  {
   "cell_type": "markdown",
   "id": "e778efce-f0a0-4d10-970d-99cf609f1a25",
   "metadata": {},
   "source": [
    "**Load Data**"
   ]
  },
  {
   "cell_type": "code",
   "execution_count": 382,
   "id": "cf21b891-2b16-4b8b-b0a5-209888375c3f",
   "metadata": {},
   "outputs": [],
   "source": [
    "# load files into a dictionary\n",
    "NCALM_2022_vbc_dict = {}\n",
    "input_path = 'SCB/Sagehen_lidar/NCALM/NCALM_SCB_20220321/vertical_bias_correction/las_vals_target_pts/'\n",
    "onlyfiles = [f for f in os.listdir(input_path) if os.path.isfile(os.path.join(input_path, f))]\n",
    "for files in onlyfiles:\n",
    "    txt_path = input_path + files\n",
    "    txt_arr = np.loadtxt(txt_path)\n",
    "    NCALM_2022_vbc_dict[files[:-4]] = txt_arr"
   ]
  },
  {
   "cell_type": "code",
   "execution_count": 188,
   "id": "ffcb9221-81bf-4c4d-8cd6-c199bcf696d8",
   "metadata": {},
   "outputs": [
    {
     "data": {
      "text/plain": [
       "736998"
      ]
     },
     "execution_count": 188,
     "metadata": {},
     "output_type": "execute_result"
    }
   ],
   "source": [
    "int(keys_list[0][-14:-8])"
   ]
  },
  {
   "cell_type": "markdown",
   "id": "9efb63c2-5391-4226-bd58-d211ed8ddd4a",
   "metadata": {},
   "source": [
    "**Calculate Vertical Bias** <br>\n",
    "Save to dictionary so that we can plot hists and df for ease"
   ]
  },
  {
   "cell_type": "code",
   "execution_count": 47,
   "id": "6ee09f13-32c8-400e-8e2e-864741d075d3",
   "metadata": {},
   "outputs": [],
   "source": [
    "NCALM_2022_error_dict = {}\n",
    "keys_list = list(NCALM_2022_vbc_dict.keys())\n",
    "for i in range(len(keys_list)):\n",
    "    easting =  field_data[i][4]\n",
    "    # add data to field data dataframe\n",
    "    for j in range(len(keys_list)):\n",
    "        if easting in keys_list[j]:\n",
    "            NCALM_2022_error_dict[keys_list[j]] = float(field_data[i][3]) - NCALM_2022_vbc_dict[keys_list[i]]"
   ]
  },
  {
   "cell_type": "code",
   "execution_count": 238,
   "id": "c4dcef57-708b-4848-9a66-f8d4e728990e",
   "metadata": {},
   "outputs": [
    {
     "data": {
      "text/plain": [
       "numpy.ndarray"
      ]
     },
     "execution_count": 238,
     "metadata": {},
     "output_type": "execute_result"
    }
   ],
   "source": [
    "type(NCALM_2022_vbc_dict[keys_list[0]])"
   ]
  },
  {
   "cell_type": "code",
   "execution_count": 251,
   "id": "d3f35de1-fc2f-40c6-bc1c-4db21f651656",
   "metadata": {},
   "outputs": [],
   "source": [
    "x = float(field_data_df['Depth_m'][field_data_df.Easting == 737013])"
   ]
  },
  {
   "cell_type": "code",
   "execution_count": 249,
   "id": "f15db220-e292-429f-9e9a-40ee7f6d9c53",
   "metadata": {},
   "outputs": [
    {
     "data": {
      "text/plain": [
       "3    0.37\n",
       "Name: Depth_m, dtype: float64"
      ]
     },
     "execution_count": 249,
     "metadata": {},
     "output_type": "execute_result"
    }
   ],
   "source": [
    "field_data_df['Depth_m'][field_data_df.Easting == easting]"
   ]
  },
  {
   "cell_type": "code",
   "execution_count": 451,
   "id": "f25523cf-5c1d-4938-9da4-2b50e5a2c2f4",
   "metadata": {},
   "outputs": [],
   "source": [
    "NCALM_2022_error_dict = {}\n",
    "keys_list = list(NCALM_2022_vbc_dict.keys())\n",
    "field_data_df['ncalm_mean'] = np.nan\n",
    "for i in range(len(keys_list)):\n",
    "    # get the easting value from the filename\n",
    "    easting =  int(keys_list[i][-14:-8])\n",
    "    NCALM_2022_error_dict[keys_list[i]] = NCALM_2022_vbc_dict[keys_list[i]] - float(field_data_df['Depth_m'][field_data_df.Easting == easting])\n",
    "    # add data to field data dataframe\n",
    "    mask = field_data_df.Easting == easting\n",
    "    field_data_df.loc[mask, 'ncalm_mean'] = np.mean(NCALM_2022_vbc_dict[keys_list[i]])\n",
    "    field_data_df.loc[mask, 'ncalm_field_mean'] = np.mean(NCALM_2022_error_dict[keys_list[i]])\n",
    "    field_data_df.loc[mask, 'ncalm_field_median'] = np.median(NCALM_2022_error_dict[keys_list[i]])\n",
    "    field_data_df.loc[mask, 'ncalm_field_std'] = np.std(NCALM_2022_error_dict[keys_list[i]])\n",
    "    field_data_df.loc[mask, 'ncalm_field_low10per'] = np.nanpercentile(NCALM_2022_error_dict[keys_list[i]],10)\n",
    "    field_data_df.loc[mask, 'ncalm_field_5per'] = np.nanpercentile(NCALM_2022_error_dict[keys_list[i]],5)\n",
    "    field_data_df.loc[mask, 'ncalm_field_95per'] = np.nanpercentile(NCALM_2022_error_dict[keys_list[i]],95)"
   ]
  },
  {
   "cell_type": "code",
   "execution_count": 459,
   "id": "ddd27e86-4e8c-41d2-bd89-f6a5077f24c0",
   "metadata": {},
   "outputs": [
    {
     "name": "stdout",
     "output_type": "stream",
     "text": [
      "Median Difference NCALM 2022 - Field Data:  0.04800000000000004\n",
      "Average Difference NCALM 2022 - Field Data:  0.07772549019607845\n",
      "5th to 95th Percentile of Corrected distribution:  -0.259 0.508\n"
     ]
    }
   ],
   "source": [
    "med_med = np.nanmedian(field_data_df.ncalm_field_median)\n",
    "avg_low10per = np.nanmean(field_data_df.ncalm_field_low10per)\n",
    "avg_mean = np.nanmean(field_data_df.ncalm_field_median)\n",
    "avg_5per = np.nanmean(field_data_df.ncalm_field_low10per)\n",
    "avg_95per = np.nanmean(field_data_df.ncalm_field_low10per)\n",
    "\n",
    "\n",
    "percentile_5th = np.nanpercentile(field_data_df.ncalm_field_median,5)\n",
    "percentile_95th = np.nanpercentile(field_data_df.ncalm_field_median,95)\n",
    "\n",
    "print('Median Difference NCALM 2022 - Field Data: ', med_med)\n",
    "print('Average Difference NCALM 2022 - Field Data: ', avg_mean)\n",
    "print('5th to 95th Percentile of Corrected distribution: ', round(percentile_5th,3), round(percentile_95th,3))\n"
   ]
  },
  {
   "cell_type": "code",
   "execution_count": 460,
   "id": "02f295fe-a593-43b5-a4ee-4874dd86b8b2",
   "metadata": {},
   "outputs": [
    {
     "data": {
      "text/plain": [
       "<matplotlib.lines.Line2D at 0x268239dbe50>"
      ]
     },
     "execution_count": 460,
     "metadata": {},
     "output_type": "execute_result"
    },
    {
     "data": {
      "image/png": "[encoded data removed]",
      "text/plain": [
       "<Figure size 432x288 with 1 Axes>"
      ]
     },
     "metadata": {
      "needs_background": "light"
     },
     "output_type": "display_data"
    }
   ],
   "source": [
    "plt.hist(field_data_df.ncalm_field_median-0.048, bins = 30)\n",
    "plt.axvline(0, color='k')"
   ]
  },
  {
   "cell_type": "code",
   "execution_count": null,
   "id": "07b96d60-e09e-4cda-b4f7-b0815b5da271",
   "metadata": {},
   "outputs": [],
   "source": []
  },
  {
   "cell_type": "code",
   "execution_count": 386,
   "id": "4b6dc373-2439-4cb9-98ac-0d1532af3d99",
   "metadata": {},
   "outputs": [
    {
     "data": {
      "image/png": "[encoded data removed]",
      "text/plain": [
       "<Figure size 2880x1800 with 50 Axes>"
      ]
     },
     "metadata": {
      "needs_background": "light"
     },
     "output_type": "display_data"
    }
   ],
   "source": [
    "NCALM_2008_error_plot, axs = plt.subplots(10, 5, figsize =(40,25));\n",
    "#NCALM_2008_error_plot.suptitle('NCALM 2008 Lidar Depth Distributions Around Ground Truth') # add title to entire figure\n",
    "\n",
    "k = 0\n",
    "for i in range(5):\n",
    "    for j in range(10):\n",
    "        g = sns.histplot(ax = axs[j,i], data = NCALM_2022_error_dict[keys_list[k]])\n",
    "        easting = int(keys_list[k][-14:-8])\n",
    "        med = float(field_data_df['ncalm_field_median'][field_data_df.Easting == easting])\n",
    "        lowest_10 = float(field_data_df['ncalm_field_low10per'][field_data_df.Easting == easting])\n",
    "        g.axvline(lowest_10, color='red')\n",
    "        g.axvline(med, color = 'k')\n",
    "        axs[j,i].set(yticklabels = [], title='', xlabel = ' ',ylabel ='') #str(float(field_data_df['ELEV_M'][field_data_df.Easting == easting]))\n",
    "        k=k+1"
   ]
  },
  {
   "cell_type": "code",
   "execution_count": 385,
   "id": "1f649fc1-b73b-4c2d-a6f1-ab9550b82afb",
   "metadata": {},
   "outputs": [],
   "source": [
    "elev_bins_set = ([1900,2000,2100,2200,2300,2400])\n",
    "field_data_df['elev_bins'] = pd.cut(field_data_df['ELEV_M'], bins=elev_bins_set, right = False,include_lowest= True)"
   ]
  },
  {
   "cell_type": "code",
   "execution_count": 334,
   "id": "d7c3c6c8-1fd5-4720-8b09-bdeac943a299",
   "metadata": {},
   "outputs": [
    {
     "data": {
      "image/png": "[encoded data removed]",
      "text/plain": [
       "<Figure size 1080x576 with 1 Axes>"
      ]
     },
     "metadata": {
      "needs_background": "light"
     },
     "output_type": "display_data"
    }
   ],
   "source": [
    "elev_diff_box, axes = plt.subplots(1,1,figsize=(15, 8), sharey=False) # create a figure axis\n",
    "\n",
    "sns.boxplot(ax=axes, data=field_data_df, x='elev_bins', y=\"ncalm_field_median\",showfliers = False) #, hue = 'nness_bins'\n",
    "axes.set_xlabel('Elevation (m)', fontsize = 16)\n",
    "axes.set_ylabel('Median NCALM 2022 - Field Data Points', fontsize = 16)\n",
    "axes.set_xticklabels(axes.get_xticklabels(),rotation = 45, fontsize = 12);\n",
    "#plt.legend(bbox_to_anchor=(1.02, 0.55), loc='upper left', borderaxespad=0, title= 'Gap Size (m)');\n",
    "\n",
    "#elev_SWE_box.savefig('SCB/stats/figures/elev_SWE_0326_box.png',transparent=True,bbox_inches='tight')"
   ]
  },
  {
   "cell_type": "markdown",
   "id": "91e5bcbb-8274-4847-b129-d1c92bb3cb58",
   "metadata": {},
   "source": [
    "## Correct and Rasterize\n",
    "In this case we know that the May flight has the most limited extent. One way to check for this would be to use a similar code to "
   ]
  },
  {
   "cell_type": "markdown",
   "id": "9c2c62f9-3899-4e8b-bb1b-aa3edd84ab35",
   "metadata": {},
   "source": [
    "Start with snow-on because it's straightforward <br>\n",
    "\n",
    "1. all vbc values <br>\n",
    "2. vbc values <=5 <br>\n",
    "3. vbc values <=3"
   ]
  },
  {
   "cell_type": "code",
   "execution_count": 29,
   "id": "a60dcefd-7390-4041-844c-da5c58049da4",
   "metadata": {},
   "outputs": [],
   "source": [
    "correct_merge_rasterize_json = json_base_path + 'correct_merge_rasterize.json'"
   ]
  },
  {
   "cell_type": "code",
   "execution_count": 30,
   "id": "822e3cdd-58ac-48a0-b748-663ea519090d",
   "metadata": {
    "tags": []
   },
   "outputs": [],
   "source": [
    "def correct_rasterize(filenames, tags, target_assign, range_limits, writers_bounds, output_tif):\n",
    "\n",
    "    # merge all las files or stages\n",
    "    filter_merge = {\"type\":\"filters.merge\",\n",
    "                   \"tag\": \"merged\",\n",
    "                   \"inputs\": tags}\n",
    "    # filter out the ground points of the tiles\n",
    "    filter_assign = {'type': 'filters.assign',\n",
    "                     'value':\"Z=\"+target_assign,\n",
    "                     'inputs':'merged',\n",
    "                     'tag':'corrected'}\n",
    "    # filter out the ground points of the tiles\n",
    "    # filter_range = {'type': 'filters.range',\n",
    "    #                  'limits':\"Z[0.15:5]\",\n",
    "    #                  'inputs':'corrected',\n",
    "    #                  'tag':'ranged'}\n",
    "    filter_range = {'type': 'filters.range',\n",
    "                     'limits':range_limits,\n",
    "                     'inputs':'corrected',\n",
    "                     'tag':'ranged'}\n",
    "    # write merged las to raster\n",
    "    writers_gdal= {\"type\": \"writers.gdal\",\n",
    "                   'output_type': 'mean',\n",
    "                  'resolution': '1.0',\n",
    "                  'radius': '0.7',\n",
    "                   'bounds': writers_bounds,\n",
    "                   'filename':output_tif}\n",
    "    # Append each stage to a list prior to saving to json \n",
    "    pipeline_list = filenames.copy()\n",
    "    pipeline_list.append(filter_merge)\n",
    "    pipeline_list.append(filter_assign)\n",
    "    pipeline_list.append(filter_range)\n",
    "    pipeline_list.append(writers_gdal)\n",
    "\n",
    "    pipeline_dict = {'pipeline' : pipeline_list}\n",
    "    return(pipeline_dict)\n"
   ]
  },
  {
   "cell_type": "code",
   "execution_count": 466,
   "id": "bb980f62-9d55-40a9-99cc-1136f519df41",
   "metadata": {},
   "outputs": [
    {
     "data": {
      "text/plain": [
       "CompletedProcess(args=['pdal', 'pipeline', 'piske_processing/PDAL_workflow/JSON/correct_merge_rasterize.json'], returncode=0)"
      ]
     },
     "execution_count": 466,
     "metadata": {},
     "output_type": "execute_result"
    }
   ],
   "source": [
    "tic = time.perf_counter()\n",
    "pdal_cmd = ['pdal','pipeline', correct_merge_rasterize_json]\n",
    "subprocess.run(pdal_cmd)"
   ]
  },
  {
   "cell_type": "code",
   "execution_count": 467,
   "id": "610713da-8325-4929-8208-4228ac1fdfe6",
   "metadata": {},
   "outputs": [
    {
     "data": {
      "text/plain": [
       "1418.0822845000075"
      ]
     },
     "execution_count": 467,
     "metadata": {},
     "output_type": "execute_result"
    }
   ],
   "source": [
    "toc = time.perf_counter()\n",
    "toc-tic"
   ]
  },
  {
   "cell_type": "code",
   "execution_count": 468,
   "id": "a95e82e5-cbcb-4ed5-a3ca-235e36867483",
   "metadata": {},
   "outputs": [
    {
     "data": {
      "text/plain": [
       "23.63470474166679"
      ]
     },
     "execution_count": 468,
     "metadata": {},
     "output_type": "execute_result"
    }
   ],
   "source": [
    "(toc-tic)/60"
   ]
  },
  {
   "cell_type": "code",
   "execution_count": 33,
   "id": "ea3c9439-5269-4964-94e3-40a61bb02147",
   "metadata": {},
   "outputs": [],
   "source": [
    "input_path = 'SCB/Sagehen_lidar/NCALM/NCALM_SCB_20220321/HAG/'\n",
    "filenames, tags = lidar_functions.create_command_template(input_path)\n",
    "output_tif = 'SCB/Sagehen_lidar/NCALM/NCALM_SCB_20220321/corrected_tif/NCALM_SCB_20220321_ground_vbc_3.tif'\n",
    "writers_bounds = '([730235.96, 738826.45], [4364741.66, 4372273.16])'\n",
    "target_assign = 'Z-0.048'\n",
    "range_limits ='Classification[2:2], Z[:3]'"
   ]
  },
  {
   "cell_type": "code",
   "execution_count": 34,
   "id": "5bf0e619-06be-4a43-8787-2af0adbfe63c",
   "metadata": {},
   "outputs": [],
   "source": [
    "pipeline_dict = correct_rasterize(filenames, tags, target_assign, range_limits, writers_bounds, output_tif)\n",
    " # save to json\n",
    "with open(correct_merge_rasterize_json, 'w') as out:\n",
    "    json.dump(pipeline_dict, out, indent=4)"
   ]
  },
  {
   "cell_type": "code",
   "execution_count": 37,
   "id": "071c9686-69b9-4956-900a-0113c1abef42",
   "metadata": {},
   "outputs": [
    {
     "data": {
      "text/plain": [
       "CompletedProcess(args=['pdal', 'pipeline', 'piske_processing/PDAL_workflow/JSON/correct_merge_rasterize.json'], returncode=0)"
      ]
     },
     "execution_count": 37,
     "metadata": {},
     "output_type": "execute_result"
    }
   ],
   "source": [
    "tic = time.perf_counter()\n",
    "pdal_cmd = ['pdal','pipeline', correct_merge_rasterize_json]\n",
    "subprocess.run(pdal_cmd)"
   ]
  },
  {
   "cell_type": "code",
   "execution_count": 38,
   "id": "15dd35ac-1b80-42b2-b612-c096bc2c6a58",
   "metadata": {},
   "outputs": [],
   "source": [
    "toc = time.perf_counter()"
   ]
  },
  {
   "cell_type": "code",
   "execution_count": 42,
   "id": "3fc5b5f7-34ca-4513-804d-8015c1800b46",
   "metadata": {},
   "outputs": [],
   "source": [
    "input_path = 'SCB/Sagehen_lidar/NCALM/NCALM_SCB_20220321/HAG/'\n",
    "filenames, tags = lidar_functions.create_command_template(input_path)\n",
    "output_tif = 'SCB/Sagehen_lidar/NCALM/NCALM_SCB_20220321/corrected_tif/NCALM_SCB_20220321_ground_vbc_5.tif'\n",
    "writers_bounds = '([730235.96, 738826.45], [4364741.66, 4372273.16])'\n",
    "target_assign = 'Z-0.048'\n",
    "range_limits ='Classification[2:2], Z[:5]'\n",
    "pipeline_dict = correct_rasterize(filenames, tags, target_assign, range_limits, writers_bounds, output_tif)\n",
    " # save to json\n",
    "with open(correct_merge_rasterize_json, 'w') as out:\n",
    "    json.dump(pipeline_dict, out, indent=4)"
   ]
  },
  {
   "cell_type": "code",
   "execution_count": 43,
   "id": "6d34f70c-949b-460c-b7b7-1b6e9e24ded7",
   "metadata": {},
   "outputs": [
    {
     "data": {
      "text/plain": [
       "CompletedProcess(args=['pdal', 'pipeline', 'piske_processing/PDAL_workflow/JSON/correct_merge_rasterize.json'], returncode=0)"
      ]
     },
     "execution_count": 43,
     "metadata": {},
     "output_type": "execute_result"
    }
   ],
   "source": [
    "tic = time.perf_counter()\n",
    "pdal_cmd = ['pdal','pipeline', correct_merge_rasterize_json]\n",
    "subprocess.run(pdal_cmd)"
   ]
  },
  {
   "cell_type": "code",
   "execution_count": 44,
   "id": "f7662739-6e4f-4b04-8937-a0c96e530dfc",
   "metadata": {},
   "outputs": [],
   "source": [
    "toc = time.perf_counter()"
   ]
  },
  {
   "cell_type": "code",
   "execution_count": 45,
   "id": "32df4440-fb78-4c50-a82b-11fd5f23f697",
   "metadata": {},
   "outputs": [],
   "source": [
    "input_path = 'SCB/Sagehen_lidar/NCALM/NCALM_SCB_20220321/HAG/'\n",
    "filenames, tags = lidar_functions.create_command_template(input_path)\n",
    "output_tif = 'SCB/Sagehen_lidar/NCALM/NCALM_SCB_20220321/corrected_tif/NCALM_SCB_20220321_ground_vbc.tif'\n",
    "writers_bounds = '([730235.96, 738826.45], [4364741.66, 4372273.16])'\n",
    "target_assign = 'Z-0.048'\n",
    "range_limits ='Classification[2:2]'\n",
    "pipeline_dict = correct_rasterize(filenames, tags, target_assign, range_limits, writers_bounds, output_tif)\n",
    " # save to json\n",
    "with open(correct_merge_rasterize_json, 'w') as out:\n",
    "    json.dump(pipeline_dict, out, indent=4)"
   ]
  },
  {
   "cell_type": "code",
   "execution_count": 46,
   "id": "28cbeca2-6606-4f9d-b8ce-8347d45c3c04",
   "metadata": {},
   "outputs": [
    {
     "data": {
      "text/plain": [
       "CompletedProcess(args=['pdal', 'pipeline', 'piske_processing/PDAL_workflow/JSON/correct_merge_rasterize.json'], returncode=0)"
      ]
     },
     "execution_count": 46,
     "metadata": {},
     "output_type": "execute_result"
    }
   ],
   "source": [
    "tic = time.perf_counter()\n",
    "pdal_cmd = ['pdal','pipeline', correct_merge_rasterize_json]\n",
    "subprocess.run(pdal_cmd)"
   ]
  },
  {
   "cell_type": "code",
   "execution_count": 47,
   "id": "e36660b6-10c4-45fa-a888-f337a4146e00",
   "metadata": {},
   "outputs": [],
   "source": [
    "toc = time.perf_counter()"
   ]
  },
  {
   "cell_type": "markdown",
   "id": "4b466837-460a-4f8b-9202-f81a226fa651",
   "metadata": {},
   "source": [
    "# Snow-Off Processing"
   ]
  },
  {
   "cell_type": "code",
   "execution_count": 6,
   "id": "545daba5-b1e4-487c-a0cf-f16b317284b0",
   "metadata": {},
   "outputs": [
    {
     "data": {
      "text/plain": [
       "'([730235.96, 738826.45], [4364741.66, 4372273.16])'"
      ]
     },
     "execution_count": 6,
     "metadata": {},
     "output_type": "execute_result"
    }
   ],
   "source": [
    "writers_bounds"
   ]
  },
  {
   "cell_type": "code",
   "execution_count": 10,
   "id": "24f04675-a114-4c79-b9a6-8bd0ec645a21",
   "metadata": {},
   "outputs": [],
   "source": [
    "# This function allows us to change the json pipeline depending on the files\n",
    "# the final output of a subprocess that uses this pipeline will be one raster with 1x1m pixels, each containing the number of returns (counts) of the specified lidar height strata\n",
    "# e.g. if the range_limit is Z[-0.15:0.15), each pixel will give us the number of returns between -0.15 and 0.15 in elevation (HAG in this case)\n",
    "# The goal of this function is to return a json pipeline with specific Z limits\n",
    "# input: filenames - see: lidar_functions.create_command_template\n",
    "# input: target_assign - if you need to perform a vertical bias correction on the snow-off flight, insert a string with the correction function (e.g. 'Z+0.05' if you need to add 0.05 to each lidar point), if no correction is necessary\n",
    "# insert \"Z+0\" [str]\n",
    "# input: writers_bounds - '([minx, maxx], [miny, maxy])';  e.g.'([730235.96, 738826.45], [4364741.66, 4372273.16])' [str]\n",
    "# input: range_limits: Z limits for output file\n",
    "def create_vegetation_heigh_strata(filenames, tags, target_assign, writers_bounds, range_limits, output_tif): \n",
    "    # merge all las files or stages\n",
    "    filter_merge = {\"type\":\"filters.merge\",\n",
    "                   \"tag\": \"merged\",\n",
    "                   \"inputs\": tags}\n",
    "    # bias correct files\n",
    "    filter_assign = {'type': 'filters.assign',\n",
    "                     'value':\"Z=\"+target_assign,\n",
    "                     'inputs':'merged',\n",
    "                     'tag':'corrected'}\n",
    "    # filter out the ground points of the tiles\n",
    "    filter_range = {\"type\":\"filters.range\",\n",
    "                    \"limits\":range_limits,\n",
    "                   'inputs':'corrected',\n",
    "                   'tag':'filtered'}\n",
    "    # write merged las to raster\n",
    "    writers_gdal= {\"type\": \"writers.gdal\",\n",
    "                   'output_type': 'count',\n",
    "                  'resolution': '1.0',\n",
    "                  'radius': '0.7',\n",
    "                   'bounds': writers_bounds,\n",
    "                   'filename':output_tif}\n",
    "    # Append each stage to a list prior to saving to json \n",
    "    pipeline_list = filenames.copy()\n",
    "    pipeline_list.append(filter_merge)\n",
    "    pipeline_list.append(filter_assign)\n",
    "    pipeline_list.append(filter_range)\n",
    "    pipeline_list.append(writers_gdal)\n",
    "\n",
    "    pipeline_dict = {'pipeline' : pipeline_list}\n",
    "    return(pipeline_dict)"
   ]
  },
  {
   "cell_type": "markdown",
   "id": "aa814a07-3c70-4bc8-b6d3-3b35f3336c30",
   "metadata": {},
   "source": [
    "### Vegetation Strata"
   ]
  },
  {
   "cell_type": "markdown",
   "id": "c7cba995-877a-4a96-a828-784ec57aade0",
   "metadata": {},
   "source": [
    "**Combined Pipeline Method**\n",
    "Vegetation Height Strata:<br>\n",
    "[-0.15:0.15), used to determine open sites<br>\n",
    "[0.15:1.5), if there are returns in this region, we can look into weather there is short vegetation or understory here<br>\n",
    "[1.5:3), we remove all pixels with returns here, classified as \"low branches or significant shrub/grass/ground-veg\"<br>\n",
    "[3:), this is our threshold for \"tall\" vegetation<br>"
   ]
  },
  {
   "cell_type": "markdown",
   "id": "6632aa19-1102-416b-9808-bf98e090202e",
   "metadata": {},
   "source": [
    "Constant inputs"
   ]
  },
  {
   "cell_type": "code",
   "execution_count": 24,
   "id": "fa124ce7-908c-4981-947b-57d296be799a",
   "metadata": {},
   "outputs": [],
   "source": [
    "# this remains the same for all heigh strata\n",
    "input_path = 'SCB/Sagehen_lidar/NCALM/NCALM_SCB_20201120/HAG/'\n",
    "filenames, tags = lidar_functions.create_command_template(input_path)\n",
    "target_assign = \"Z+0.08\""
   ]
  },
  {
   "cell_type": "markdown",
   "id": "fcc9c3d2-3bf5-42cd-b474-ceff62df638e",
   "metadata": {},
   "source": [
    "Variable inputs"
   ]
  },
  {
   "cell_type": "code",
   "execution_count": null,
   "id": "ce9e1e3e-99e4-4754-ba52-85aafa2aaa0a",
   "metadata": {},
   "outputs": [],
   "source": []
  },
  {
   "cell_type": "markdown",
   "id": "affa2d1e-ec24-4471-bbba-8f9ce409f0a5",
   "metadata": {},
   "source": [
    "[-0.15:0.15)"
   ]
  },
  {
   "cell_type": "code",
   "execution_count": 14,
   "id": "46661102-1599-4842-93bc-2362a24652fe",
   "metadata": {},
   "outputs": [],
   "source": [
    "# specify name of the json pipeline file\n",
    "filterMergeRasterize_json = json_base_path+'filterMergeRasterize_neg0pt15_0pt15.json'\n",
    "# specify output tif file path\n",
    "output_tif = 'SCB/Sagehen_lidar/NCALM/NCALM_SCB_20201120/canopy_metrics/veg_height_strata/vegStrata_neg0pt15_0pt1.tif'\n",
    "# heigh strata range limits\n",
    "range_limits = 'Z[-0.15:0.15)'\n",
    "# create pipline\n",
    "pipeline_dict = create_vegetation_heigh_strata(filenames, tags, target_assign, writers_bounds, range_limits, output_tif)\n",
    "# save to json\n",
    "with open(filterMergeRasterize_json, 'w') as out:\n",
    "    json.dump(pipeline_dict, out, indent=4)\n"
   ]
  },
  {
   "cell_type": "code",
   "execution_count": 16,
   "id": "726d027f-9649-4699-b13b-46b63ada0404",
   "metadata": {},
   "outputs": [],
   "source": [
    "tic = time.perf_counter()"
   ]
  },
  {
   "cell_type": "code",
   "execution_count": 17,
   "id": "855423f8-f07b-43be-b2b0-a488a1a29d4b",
   "metadata": {},
   "outputs": [
    {
     "data": {
      "text/plain": [
       "CompletedProcess(args=['pdal', 'pipeline', 'piske_processing/PDAL_workflow/JSON/filterMergeRasterize_neg0pt15_0pt15.json'], returncode=0)"
      ]
     },
     "execution_count": 17,
     "metadata": {},
     "output_type": "execute_result"
    }
   ],
   "source": [
    "pdal_cmd = ['pdal','pipeline', filterMergeRasterize_json]\n",
    "subprocess.run(pdal_cmd)"
   ]
  },
  {
   "cell_type": "code",
   "execution_count": 18,
   "id": "f56415b1-e839-49b9-b0dc-fa97d04d77c6",
   "metadata": {},
   "outputs": [],
   "source": [
    "toc = time.perf_counter()"
   ]
  },
  {
   "cell_type": "code",
   "execution_count": 19,
   "id": "bb2e0cea-ef0f-4cfe-a48c-66e24719aab3",
   "metadata": {},
   "outputs": [
    {
     "data": {
      "text/plain": [
       "16.56809745"
      ]
     },
     "execution_count": 19,
     "metadata": {},
     "output_type": "execute_result"
    }
   ],
   "source": [
    "(toc-tic)/60"
   ]
  },
  {
   "cell_type": "markdown",
   "id": "f69dd8f3-4367-44f8-a55d-374faabecf66",
   "metadata": {},
   "source": [
    "[0.15:1.5)"
   ]
  },
  {
   "cell_type": "code",
   "execution_count": 14,
   "id": "eadcf9c0-3e3a-4dc6-a5ca-2b09366f7089",
   "metadata": {},
   "outputs": [
    {
     "data": {
      "text/plain": [
       "CompletedProcess(args=['pdal', 'pipeline', 'piske_processing/PDAL_workflow/JSON/filterMergeRasterize_0pt15_1pt5.json'], returncode=0)"
      ]
     },
     "execution_count": 14,
     "metadata": {},
     "output_type": "execute_result"
    }
   ],
   "source": [
    "# specify name of the json pipeline file\n",
    "filterMergeRasterize_json = json_base_path+'filterMergeRasterize_0pt15_1pt5.json'\n",
    "# specify output tif file path\n",
    "output_tif = 'SCB/Sagehen_lidar/NCALM/NCALM_SCB_20201120/canopy_metrics/veg_height_strata/vegStrata_0pt15_1pt5.tif'\n",
    "# heigh strata range limits\n",
    "range_limits = 'Z[0.15:1.5)'\n",
    "# create pipline\n",
    "pipeline_dict = create_vegetation_heigh_strata(filenames, tags, target_assign, writers_bounds, range_limits, output_tif)\n",
    "# save to json\n",
    "with open(filterMergeRasterize_json, 'w') as out:\n",
    "    json.dump(pipeline_dict, out, indent=4)\n",
    "pdal_cmd = ['pdal','pipeline', filterMergeRasterize_json]\n",
    "subprocess.run(pdal_cmd)"
   ]
  },
  {
   "cell_type": "markdown",
   "id": "a860a364-3f14-4183-bd3a-db3e4d693fbf",
   "metadata": {},
   "source": [
    "[1.5:3)"
   ]
  },
  {
   "cell_type": "code",
   "execution_count": 25,
   "id": "7e04b848-0edb-4cb4-90d8-00a0acfff457",
   "metadata": {},
   "outputs": [
    {
     "data": {
      "text/plain": [
       "CompletedProcess(args=['pdal', 'pipeline', 'piske_processing/PDAL_workflow/JSON/filterMergeRasterize_1pt5_3.json'], returncode=0)"
      ]
     },
     "execution_count": 25,
     "metadata": {},
     "output_type": "execute_result"
    }
   ],
   "source": [
    "# specify name of the json pipeline file\n",
    "filterMergeRasterize_json = json_base_path+'filterMergeRasterize_1pt5_3.json'\n",
    "# specify output tif file path\n",
    "output_tif = 'SCB/Sagehen_lidar/NCALM/NCALM_SCB_20201120/canopy_metrics/veg_height_strata/vegStrata_1pt5_3.tif'\n",
    "# heigh strata range limits\n",
    "range_limits = 'Z[1.5:3)'\n",
    "# create pipline\n",
    "pipeline_dict = create_vegetation_heigh_strata(filenames, tags, target_assign, writers_bounds, range_limits, output_tif)\n",
    "# save to json\n",
    "with open(filterMergeRasterize_json, 'w') as out:\n",
    "    json.dump(pipeline_dict, out, indent=4)\n",
    "pdal_cmd = ['pdal','pipeline', filterMergeRasterize_json]\n",
    "subprocess.run(pdal_cmd)"
   ]
  },
  {
   "cell_type": "markdown",
   "id": "a8a0a9b1-ea27-4368-91ef-315bf14bc788",
   "metadata": {},
   "source": [
    "[3:)"
   ]
  },
  {
   "cell_type": "code",
   "execution_count": 27,
   "id": "b70a74ac-4449-4f3a-bb3c-54f0ce4fffda",
   "metadata": {},
   "outputs": [
    {
     "data": {
      "text/plain": [
       "CompletedProcess(args=['pdal', 'pipeline', 'piske_processing/PDAL_workflow/JSON/filterMergeRasterize_3.json'], returncode=0)"
      ]
     },
     "execution_count": 27,
     "metadata": {},
     "output_type": "execute_result"
    }
   ],
   "source": [
    "# specify name of the json pipeline file\n",
    "# this remains the same for all heigh strata\n",
    "input_path = 'SCB/Sagehen_lidar/NCALM/NCALM_SCB_20201120/HAG/'\n",
    "filenames, tags = lidar_functions.create_command_template(input_path)\n",
    "target_assign = \"Z+0.08\"\n",
    "\n",
    "filterMergeRasterize_json = json_base_path+'filterMergeRasterize_3.json'\n",
    "# specify output tif file path\n",
    "output_tif = 'SCB/Sagehen_lidar/NCALM/NCALM_SCB_20201120/canopy_metrics/veg_height_strata/vegStrata_3.tif'\n",
    "# heigh strata range limits\n",
    "range_limits = 'Z[3:)'\n",
    "# create pipline\n",
    "pipeline_dict = create_vegetation_heigh_strata(filenames, tags, target_assign, writers_bounds, range_limits, output_tif)\n",
    "# save to json\n",
    "with open(filterMergeRasterize_json, 'w') as out:\n",
    "    json.dump(pipeline_dict, out, indent=4)\n",
    "pdal_cmd = ['pdal','pipeline', filterMergeRasterize_json]\n",
    "subprocess.run(pdal_cmd)"
   ]
  },
  {
   "cell_type": "code",
   "execution_count": null,
   "id": "a6eee961-41c0-47e1-b6b3-f7a492816548",
   "metadata": {},
   "outputs": [],
   "source": []
  },
  {
   "cell_type": "markdown",
   "id": "c4a0bf40-98c0-423a-8b6a-a1a587782508",
   "metadata": {},
   "source": [
    "### Create CHM"
   ]
  },
  {
   "cell_type": "markdown",
   "id": "747e3961-714c-49fd-bbd5-022c07a0b8d6",
   "metadata": {},
   "source": [
    "Note that there are two CHMs for these data. One is based off all points, another is limited to possible short/understory vegetation (<1.5m)"
   ]
  },
  {
   "cell_type": "code",
   "execution_count": 49,
   "id": "a3107c9e-e6db-46b8-96f6-d10b3a5d49ab",
   "metadata": {
    "tags": []
   },
   "outputs": [],
   "source": [
    "CHM_json = json_base_path+'CHM_from_las.json' # define path to json files\n",
    "CHM_json_LT1pt5 = json_base_path+'CHM_from_las_LT1pt5.json' # define path to json files"
   ]
  },
  {
   "cell_type": "code",
   "execution_count": 50,
   "id": "8b1a911e-a30c-47d0-b961-4d5b8818a145",
   "metadata": {},
   "outputs": [],
   "source": [
    "input_path = 'SCB/Sagehen_lidar/NCALM/NCALM_SCB_20201120/HAG/'\n",
    "output_tif = 'SCB/Sagehen_lidar/NCALM/NCALM_SCB_20201120/canopy_metrics/veg_structure/CHM/NCALM_SCB_2020_CHM_LT1pt5.tif'\n",
    "onlyfiles = [f for f in os.listdir(input_path) if os.path.isfile(os.path.join(input_path, f))]\n",
    "input_list = [input_path + s for s in onlyfiles]\n",
    "target_assign = \"Z+0.081\""
   ]
  },
  {
   "cell_type": "code",
   "execution_count": 51,
   "id": "ae874a5e-2129-4105-98da-fae42d42026a",
   "metadata": {},
   "outputs": [],
   "source": [
    "filename_dict = {}\n",
    "tags = ['']*len(input_list)\n",
    "filenames = ['']*len(input_list)\n",
    "for i in range(len(input_list)):\n",
    "    filename_dict['filename_'+str(i)] = {'filename':input_list[i], 'tag':'A_'+str(i)}\n",
    "    tags[i] = 'A_'+str(i)\n",
    "    filenames[i] = filename_dict[list(filename_dict)[i]]"
   ]
  },
  {
   "cell_type": "code",
   "execution_count": 52,
   "id": "d6e395af-92d2-4f0f-b405-4538474b09bf",
   "metadata": {},
   "outputs": [
    {
     "data": {
      "text/plain": [
       "'([730235.96, 738826.45], [4364741.66, 4372273.16])'"
      ]
     },
     "execution_count": 52,
     "metadata": {},
     "output_type": "execute_result"
    }
   ],
   "source": [
    "writers_bounds"
   ]
  },
  {
   "cell_type": "code",
   "execution_count": 53,
   "id": "93c5a436-3444-4b72-8fd0-bb837b12087d",
   "metadata": {},
   "outputs": [],
   "source": [
    "# merge all las files or stages\n",
    "filter_merge = {\"type\":\"filters.merge\",\n",
    "               \"tag\": \"merged\",\n",
    "               \"inputs\": tags}\n",
    "filter_assign = {'type': 'filters.assign',\n",
    "                'value':\"Z=\"+target_assign,\n",
    "                'inputs':'merged',\n",
    "                'tag':'corrected'}\n",
    "filter_range = {'type': 'filters.range',\n",
    "                'limits': 'Z[-0.15:1.5]',\n",
    "                'inputs':'corrected',\n",
    "                'tag':'ranged'}\n",
    "# write merged las to raster\n",
    "writers_gdal= {\"type\": \"writers.gdal\",\n",
    "               'output_type': 'max', \n",
    "              'resolution': '1.0',\n",
    "               'bounds': writers_bounds,\n",
    "              'radius': '0.7',\n",
    "               'filename': output_tif}\n",
    "# Append each stage to a list prior to saving to json \n",
    "pipeline_list = filenames.copy()\n",
    "pipeline_list.append(filter_merge)\n",
    "pipeline_list.append(filter_assign)\n",
    "pipeline_list.append(filter_range)\n",
    "pipeline_list.append(writers_gdal)\n",
    "pipeline_dict = {'pipeline' : pipeline_list}\n",
    "# save to json\n",
    "# with open(CHM_json, 'w') as out:\n",
    "#     json.dump(pipeline_dict, out, indent=4)\n",
    "with open(CHM_json_LT1pt5, 'w') as out:\n",
    "    json.dump(pipeline_dict, out, indent=4)"
   ]
  },
  {
   "cell_type": "code",
   "execution_count": 54,
   "id": "762b779c-8d65-4b9d-ab1b-240eb55fcbeb",
   "metadata": {},
   "outputs": [],
   "source": [
    "tic = time.perf_counter()"
   ]
  },
  {
   "cell_type": "code",
   "execution_count": 55,
   "id": "7c666f24-f4ec-419d-b056-b8e3c3557ab3",
   "metadata": {},
   "outputs": [
    {
     "data": {
      "text/plain": [
       "CompletedProcess(args=['pdal', 'pipeline', 'piske_processing/PDAL_workflow/JSON/CHM_from_las_LT1pt5.json'], returncode=0)"
      ]
     },
     "execution_count": 55,
     "metadata": {},
     "output_type": "execute_result"
    }
   ],
   "source": [
    "pdal_cmd = ['pdal','pipeline', CHM_json_LT1pt5]\n",
    "subprocess.run(pdal_cmd)"
   ]
  },
  {
   "cell_type": "code",
   "execution_count": 56,
   "id": "872d681c-e0ab-4278-863d-04927bb403e6",
   "metadata": {},
   "outputs": [],
   "source": [
    "toc = time.perf_counter()"
   ]
  },
  {
   "cell_type": "code",
   "execution_count": 57,
   "id": "5fa43794-5cd5-4afd-8a32-a06882b7d96a",
   "metadata": {},
   "outputs": [
    {
     "data": {
      "text/plain": [
       "17.891041734999938"
      ]
     },
     "execution_count": 57,
     "metadata": {},
     "output_type": "execute_result"
    }
   ],
   "source": [
    "(toc-tic)/60"
   ]
  },
  {
   "cell_type": "code",
   "execution_count": null,
   "id": "7a443183-06d5-4db9-a404-8956b7f7c522",
   "metadata": {},
   "outputs": [],
   "source": []
  },
  {
   "cell_type": "code",
   "execution_count": 20,
   "id": "98e23c2c-c617-4a41-a56e-4fa137ecef08",
   "metadata": {
    "tags": []
   },
   "outputs": [],
   "source": [
    "CHM_json = json_base_path+'CHM_from_las.json' # define path to json files\n"
   ]
  },
  {
   "cell_type": "code",
   "execution_count": 21,
   "id": "f41527cb-5917-4f27-8016-7f2eb62c678e",
   "metadata": {},
   "outputs": [],
   "source": [
    "input_path = 'SCB/Sagehen_lidar/NCALM/NCALM_SCB_20201120/HAG/'\n",
    "output_tif = 'SCB/Sagehen_lidar/NCALM/NCALM_SCB_20201120/canopy_metrics/veg_structure/CHM/NCALM_SCB_2020_CHM.tif'\n",
    "onlyfiles = [f for f in os.listdir(input_path) if os.path.isfile(os.path.join(input_path, f))]\n",
    "input_list = [input_path + s for s in onlyfiles]\n",
    "target_assign = \"Z+0.081\""
   ]
  },
  {
   "cell_type": "code",
   "execution_count": 22,
   "id": "bc15f30f-a191-4701-a497-d062a64c0bb6",
   "metadata": {},
   "outputs": [],
   "source": [
    "filename_dict = {}\n",
    "tags = ['']*len(input_list)\n",
    "filenames = ['']*len(input_list)\n",
    "for i in range(len(input_list)):\n",
    "    filename_dict['filename_'+str(i)] = {'filename':input_list[i], 'tag':'A_'+str(i)}\n",
    "    tags[i] = 'A_'+str(i)\n",
    "    filenames[i] = filename_dict[list(filename_dict)[i]]"
   ]
  },
  {
   "cell_type": "code",
   "execution_count": 16,
   "id": "3dee6202-e691-4a77-b559-512dfb359071",
   "metadata": {},
   "outputs": [
    {
     "data": {
      "text/plain": [
       "'([730235.96, 738826.45], [4364741.66, 4372273.16])'"
      ]
     },
     "execution_count": 16,
     "metadata": {},
     "output_type": "execute_result"
    }
   ],
   "source": [
    "writers_bounds"
   ]
  },
  {
   "cell_type": "code",
   "execution_count": 23,
   "id": "72fe08c0-695f-4426-ab1a-fef51c3f1244",
   "metadata": {},
   "outputs": [],
   "source": [
    "# merge all las files or stages\n",
    "filter_merge = {\"type\":\"filters.merge\",\n",
    "               \"tag\": \"merged\",\n",
    "               \"inputs\": tags}\n",
    "filter_assign = {'type': 'filters.assign',\n",
    "                'value':\"Z=\"+target_assign,\n",
    "                'inputs':'merged',\n",
    "                'tag':'corrected'}\n",
    "filter_range = {'type': 'filters.range',\n",
    "                'limits': 'Z[-0.15:70]',\n",
    "                'inputs':'corrected',\n",
    "                'tag':'ranged'}\n",
    "# write merged las to raster\n",
    "writers_gdal= {\"type\": \"writers.gdal\",\n",
    "               'output_type': 'max', \n",
    "              'resolution': '1.0',\n",
    "               'bounds': writers_bounds,\n",
    "              'radius': '0.7',\n",
    "               'filename': output_tif}\n",
    "# Append each stage to a list prior to saving to json \n",
    "pipeline_list = filenames.copy()\n",
    "pipeline_list.append(filter_merge)\n",
    "pipeline_list.append(filter_assign)\n",
    "pipeline_list.append(filter_range)\n",
    "pipeline_list.append(writers_gdal)\n",
    "pipeline_dict = {'pipeline' : pipeline_list}\n",
    "# save to json\n",
    "# with open(CHM_json, 'w') as out:\n",
    "#     json.dump(pipeline_dict, out, indent=4)\n",
    "with open(CHM_json, 'w') as out:\n",
    "    json.dump(pipeline_dict, out, indent=4)"
   ]
  },
  {
   "cell_type": "code",
   "execution_count": 18,
   "id": "a8e3a489-8ba8-4689-8c27-951c06211cb3",
   "metadata": {},
   "outputs": [],
   "source": [
    "tic = time.perf_counter()"
   ]
  },
  {
   "cell_type": "code",
   "execution_count": null,
   "id": "50b07397-fd76-49cb-8c2f-8cf11283f8b5",
   "metadata": {},
   "outputs": [],
   "source": [
    "pdal_cmd = ['pdal','pipeline', CHM_json]\n",
    "subprocess.run(pdal_cmd)"
   ]
  },
  {
   "cell_type": "code",
   "execution_count": 20,
   "id": "44f4d683-1bea-4742-81c2-a3e392c4a8c1",
   "metadata": {},
   "outputs": [],
   "source": [
    "toc = time.perf_counter()"
   ]
  },
  {
   "cell_type": "code",
   "execution_count": 21,
   "id": "5610c256-5cbe-4bb7-92ff-4ed5024a8f8c",
   "metadata": {},
   "outputs": [
    {
     "data": {
      "text/plain": [
       "21.333165216666657"
      ]
     },
     "execution_count": 21,
     "metadata": {},
     "output_type": "execute_result"
    }
   ],
   "source": [
    "(toc-tic)/60"
   ]
  },
  {
   "cell_type": "markdown",
   "id": "bfac687d-5aaa-4425-b145-57563ede8392",
   "metadata": {},
   "source": [
    "# Assign projections\n",
    "Outputs are automatically assigned a CRS EPSG 26910 but they should be 6339... Very minor but best practice to keep consistent"
   ]
  },
  {
   "cell_type": "code",
   "execution_count": null,
   "id": "09f188ae-84c0-4cc5-961e-265668138157",
   "metadata": {},
   "outputs": [],
   "source": []
  },
  {
   "cell_type": "code",
   "execution_count": null,
   "id": "279b1ba6-5116-4429-9047-8d4b4c5e51d2",
   "metadata": {},
   "outputs": [],
   "source": []
  },
  {
   "cell_type": "code",
   "execution_count": null,
   "id": "92da61f1-41d9-47ff-b7c1-262507606865",
   "metadata": {},
   "outputs": [],
   "source": []
  },
  {
   "cell_type": "markdown",
   "id": "efe8463e-2c0e-4d0d-b2a7-1b132a8e1f4e",
   "metadata": {},
   "source": [
    "**Move to Raster workflow**"
   ]
  },
  {
   "cell_type": "code",
   "execution_count": null,
   "id": "36d7c02d-8c3c-46da-87aa-c0c52e11a61e",
   "metadata": {},
   "outputs": [],
   "source": []
  },
  {
   "cell_type": "markdown",
   "id": "3a658118-ad67-41a7-97e2-7d64913b8d80",
   "metadata": {},
   "source": [
    "# ------------------------------"
   ]
  },
  {
   "cell_type": "code",
   "execution_count": null,
   "id": "f221a885-025a-44c5-a762-a9fdafc5a11f",
   "metadata": {},
   "outputs": [],
   "source": []
  },
  {
   "cell_type": "code",
   "execution_count": null,
   "id": "706a4c5e-29e3-4dce-93b0-3639e61925d6",
   "metadata": {},
   "outputs": [],
   "source": []
  },
  {
   "cell_type": "code",
   "execution_count": null,
   "id": "7c740714-5881-4763-bcb2-b2387741f477",
   "metadata": {},
   "outputs": [],
   "source": []
  },
  {
   "cell_type": "code",
   "execution_count": null,
   "id": "abbd18c8-82e0-4a86-b878-9a53710554f2",
   "metadata": {},
   "outputs": [],
   "source": []
  },
  {
   "cell_type": "code",
   "execution_count": null,
   "id": "26833f00-aa67-426b-8e20-c1c3eff46862",
   "metadata": {},
   "outputs": [],
   "source": []
  },
  {
   "cell_type": "code",
   "execution_count": null,
   "id": "56715656-b594-4285-9b2a-5a875aaabd01",
   "metadata": {},
   "outputs": [],
   "source": []
  },
  {
   "cell_type": "markdown",
   "id": "33e66bb1-b42b-445d-af25-de4b376c9652",
   "metadata": {},
   "source": [
    "# Extras"
   ]
  },
  {
   "cell_type": "markdown",
   "id": "1bf738b4-4eae-41dc-9cc8-898b177ac071",
   "metadata": {},
   "source": [
    "## File format conversions"
   ]
  },
  {
   "cell_type": "markdown",
   "id": "be10eab7-1dc5-4561-9ff8-dbabb55abf57",
   "metadata": {},
   "source": [
    "### Convert .las to .txt\n",
    "see: https://pdal.io/stages/writers.text.html"
   ]
  },
  {
   "cell_type": "code",
   "execution_count": null,
   "id": "486c745d-b984-41bc-a04a-b54dcfbbaf18",
   "metadata": {},
   "outputs": [],
   "source": []
  },
  {
   "cell_type": "code",
   "execution_count": null,
   "id": "069497d0-a99b-4952-bfa2-3af3d3c0ef5d",
   "metadata": {},
   "outputs": [],
   "source": [
    "# set up json file commands\n",
    "output_txt = '/Volumes/cpiske/lidar_processing/python_scripts/PDAL/test_las/mcc_part_b_tile_004_000Test.asc'\n",
    "output_json = 'lidar_processing/python_scripts/PDAL_workflow/JSON/las_to_txt.json'\n",
    "\n",
    "# create a pipeline and save to a json file \n",
    "\n",
    "filter_dict = {'type':'readers.las',\n",
    "               'override_srs': \"EPSG:4326\",\n",
    "              'filename': input_las} # we are reading in a las file\n",
    "rasterize_dict = {'type':'writers.las',\n",
    "'format':'geojson',\n",
    "'order':'X,Y,Z',\n",
    "'keep_unspecified':'false',\n",
    "'filename':output_txt}\n",
    "\n",
    "\n",
    "pipeline_list = [filter_dict, rasterize_dict]\n",
    "pipeline_dict = {'pipeline' : pipeline_list}\n",
    "with open(output_json, 'w') as out:\n",
    "    json.dump(pipeline_dict, out, indent=4)\n"
   ]
  },
  {
   "cell_type": "code",
   "execution_count": null,
   "id": "9f570972-2f18-40d1-b4d2-06f0ed5ec7bb",
   "metadata": {},
   "outputs": [],
   "source": [
    "json_path = 'lidar_processing/python_scripts/PDAL/JSON/las_to_txt.json'\n",
    "pdal_commands = ['pdal', 'pipeline', json_path]\n",
    "subprocess.run(pdal_commands)"
   ]
  },
  {
   "cell_type": "markdown",
   "id": "142a3a30-1ae6-481b-96ac-f95a1f6f4ddc",
   "metadata": {},
   "source": [
    "### .laz to .las"
   ]
  },
  {
   "cell_type": "code",
   "execution_count": null,
   "id": "efe33f9e-84de-49ea-a538-0cd37b7f7877",
   "metadata": {
    "tags": []
   },
   "outputs": [],
   "source": [
    "# # set up json file commands\n",
    "# input_laz = 'lidar_processing/python_scripts/PDAL/test_las/ASO_USCAMB20180425f1a1_180425_1_dem_filter.laz'\n",
    "# output_las = 'lidar_processing/python_scripts/PDAL/test_las/ASO_USCAMB20180425f1a1_180425_1_dem_filter.las'\n",
    "# output_json = 'lidar_processing/python_scripts/PDAL/JSON/laz_to_las.json'\n",
    "\n",
    "# # create a pipeline and save to a json file \n",
    "\n",
    "# filter_dict = {'type':'readers.las',\n",
    "#                'filename': input_las} # we are reading in a las file\n",
    "# translate_dict = {'type':'writers.las',\n",
    "#                   \"a_srs\": \"EPSG:4326\",\n",
    "#                   'filename':output_las}\n",
    "\n",
    "\n",
    "# pipeline_list = [filter_dict, translate_dict]\n",
    "# pipeline_dict = {'pipeline' : pipeline_list}\n",
    "# with open(output_json, 'w') as out:\n",
    "#     json.dump(pipeline_dict, out, indent=4)\n"
   ]
  },
  {
   "cell_type": "code",
   "execution_count": null,
   "id": "bbb37c88-c5d9-4859-91ab-5c35e53bd514",
   "metadata": {},
   "outputs": [],
   "source": []
  },
  {
   "cell_type": "code",
   "execution_count": null,
   "id": "efe40151-4f3c-4fc8-acc0-ff2e092d788b",
   "metadata": {
    "tags": []
   },
   "outputs": [],
   "source": [
    "# json_path = 'lidar_processing/python_scripts/PDAL/JSON/laz_to_las.json'\n",
    "# pdal_commands = ['pdal', 'pipeline', json_path]\n",
    "# subprocess.run(pdal_commands)"
   ]
  },
  {
   "cell_type": "markdown",
   "id": "ea292cbb-156e-4be0-9fa8-62560bd55feb",
   "metadata": {
    "toc-hr-collapsed": true
   },
   "source": [
    "# Raster Caluclations"
   ]
  },
  {
   "cell_type": "code",
   "execution_count": null,
   "id": "66b90302-4ff2-461e-84b4-28f68e90575f",
   "metadata": {},
   "outputs": [],
   "source": [
    "for i in [0,1,2,3,4,5]:\n",
    "    apr_elev = 'lidar_processing/PDAL_testFiles_tutorials/test_las/SCB/rasterize/ASO_20160417/mcc_part_b_tile_004_00'+str(i)+'.tif'\n",
    "    may_elev = 'lidar_processing/PDAL_testFiles_tutorials/test_las/SCB/rasterize/ASO_20160518/mcc_part_b_tile_004_00'+str(i)+'.tif'\n",
    "    output = 'lidar_processing/PDAL_testFiles_tutorials/test_las/SCB/raster_subtract/mcc_part_b_tile_004_00'+str(i)+'.tif'\n",
    "    raster_sub = ['gdal_calc.py', '-a', apr_elev, '-b', may_elev, '--calc=\"a - b\"', '--outfile', output]\n",
    "    subprocess.run(raster_sub)"
   ]
  },
  {
   "cell_type": "markdown",
   "id": "ef95aabd-bd70-47a0-be17-993b89088961",
   "metadata": {},
   "source": [
    "# Theo Code"
   ]
  },
  {
   "cell_type": "code",
   "execution_count": null,
   "id": "784a85fc-2834-4d0d-81a9-19f790b08678",
   "metadata": {},
   "outputs": [],
   "source": [
    "input_las = 'SCB/kost_lidar_data/ASO_2016/2016_05_18/WGS84_G1762_to_NAD83_NAVD88/mcc_part_b_tile_004_000.las'\n",
    "\n",
    "z_min = 0.15\n",
    "z_max = 2\n",
    "z_range = 'Z[' + str(z_min) + ':' + str(z_max) + ']'\n",
    "output_raster = 'lidar_processing/python_scripts/PDAL/test_file/mcc_part_b_tile_004_000.tif'\n",
    "output_json = 'lidar_processing/python_scripts/PDAL/JSON/las_to_tif.json'\n",
    "resolution = 0.01\n",
    "\n",
    "filter_dict = {'type':'filters.range', 'limits':z_range}\n",
    "rasterize_dict = {'filename':output_raster,\n",
    "'gdaldriver':'GTiff',\n",
    "'output_type':'count',\n",
    "'resolution':resolution,\n",
    "'type': 'writers.gdal'}\n",
    "\n",
    "\n",
    "pipeline_list = [input_las, filter_dict, rasterize_dict]\n",
    "pipeline_dict = {'pipeline' : pipeline_list}\n",
    "with open(output_json, 'w') as out:\n",
    "    json.dump(pipeline_dict, out, indent=4)\n"
   ]
  },
  {
   "cell_type": "code",
   "execution_count": null,
   "id": "1929f364-00c7-482e-8d5f-537652eed3cc",
   "metadata": {},
   "outputs": [],
   "source": [
    "input_las = 'SCB/kost_lidar_data/ASO_2016/2016_05_18/WGS84_G1762_to_NAD83_NAVD88/mcc_part_b_tile_004_000.las'\n",
    "\n",
    "# z_min = 0.15\n",
    "# z_max = 2\n",
    "# z_range = 'Z[' + str(z_min) + ':' + str(z_max) + ']'\n",
    "output_raster = 'lidar_processing/python_scripts/PDAL/test_file/mcc_part_b_tile_004_000.asc'\n",
    "output_json = 'lidar_processing/python_scripts/PDAL/JSON/las_to_asc.json'\n",
    "resolution = 0.01\n",
    "\n",
    "filter_dict = {'type':'filters.range', 'limits':z_range}\n",
    "rasterize_dict = {'filename':output_raster,\n",
    "'gdaldriver':'XYZ',\n",
    "'output_type':'count',\n",
    "'resolution':resolution,\n",
    "'type': 'writers.gdal'}\n",
    "\n",
    "\n",
    "pipeline_list = [input_las, filter_dict, rasterize_dict]\n",
    "pipeline_dict = {'pipeline' : pipeline_list}\n",
    "with open(output_json, 'w') as out:\n",
    "    json.dump(pipeline_dict, out, indent=4)\n"
   ]
  },
  {
   "cell_type": "markdown",
   "id": "2a4f6338-edab-4c85-8941-b05d63584dd8",
   "metadata": {},
   "source": [
    "sudo docker run -v path_to_laz_folder:/input 0b pdal info /input/test.laz\n",
    "\n",
    "where path_to_laz_folder is the path to the LAS/LAZ file (you just need the folder path, not the file path).\n",
    "\n",
    ":/input is the new folder that will be created in your Docker container that will hold your point cloud.\n",
    "\n",
    "0b is just the image id of pdal\n",
    "\n",
    "/input/test.laz is the path to the point cloud in the Docker container.\n"
   ]
  },
  {
   "cell_type": "code",
   "execution_count": null,
   "id": "a941783e-828f-4226-a25a-b772a51d12d0",
   "metadata": {},
   "outputs": [],
   "source": [
    "path_to_laz_folder = 'lidar_processing/python_scripts/PDAL/test_las'\n"
   ]
  },
  {
   "cell_type": "code",
   "execution_count": null,
   "id": "4aee8f9b-8d85-490a-a3cd-22d4b06bb646",
   "metadata": {},
   "outputs": [],
   "source": [
    "sudo docker run -v path_to_laz_folder:/input 0b pdal info /input/test.laz\n"
   ]
  },
  {
   "cell_type": "code",
   "execution_count": null,
   "id": "ac352849-3336-4cd7-b7d4-2f0c2a2c79fe",
   "metadata": {},
   "outputs": [],
   "source": [
    "import json\n",
    "import subprocess\n",
    "import pdal\n",
    "\n",
    "def assemblePipeline(input_las, list_of_dicts):\n",
    "    pipeline_list = [input_las]\n",
    "    pipeline_list.extend(list_of_dicts)\n",
    "    pipeline_dict = {'pipeline' : pipeline_list}\n",
    "    return pipeline_dict\n",
    "\n",
    "def makeHeightFilter(height, buffer):\n",
    "    z_min = height - buffer/2\n",
    "    z_max = height + buffer/2\n",
    "    z_range = 'Z[' + str(z_min) + ':' + str(z_max) + ']'\n",
    "    heightDict = {'type':'filters.range', 'limits':z_range}\n",
    "    return heightDict\n",
    "\n",
    "def makeRasterizeFilter(output_raster, resolution, epsg):\n",
    "    rasterize_dict = {'filename':output_raster,\n",
    "                      'gdaldriver':'GTiff',\n",
    "                      'output_type':'count',\n",
    "                      'resolution':resolution,\n",
    "                      'override_srs' : epsg,\n",
    "                      'type': 'writers.gdal'}\n",
    "    return rasterize_dict\n",
    "\n",
    "def convertTifForPIL(input_raster, output_raster, epsg):\n",
    "    ''' GDAL bindings are an alien concept to me, so I gave up and used\n",
    "        subprocess.'''\n",
    "    commands = ['gdal_translate', input_raster, output_raster, '-ot', 'Byte', '-a_srs', epsg]\n",
    "    subprocess.run(commands)\n",
    "\n",
    "\n",
    "def buildHeightSlice(input_las, height, buffer, output_raster, resolution, epsg, json_path=None):\n",
    "    filter_dict = makeHeightFilter(height, buffer)\n",
    "    rasterize_dict = makeRasterizeFilter(output_raster, resolution, epsg)\n",
    "    filter_list = [filter_dict, rasterize_dict]\n",
    "    pipeline_dict = assemblePipeline(input_las, filter_list)\n",
    "\n",
    "    if json_path is not None:\n",
    "        with open(json_path, 'w') as out:\n",
    "            json.dump(pipeline_dict, out, indent=4)\n",
    "        pdal_commands = ['pdal', 'pipeline', json_path]\n",
    "        subprocess.run(pdal_commands)\n",
    "    else:\n",
    "        pdal_commands = json.dumps(pipeline_dict)\n",
    "        pipeline = pdal.Pipeline(pdal_commands)\n",
    "        pipeline.execute()\n",
    "\n",
    "input_las = '/Users/theo/data/las/TLS_0244_20180612_01_v003_30m_clip_height_norm.las'\n",
    "height = 1.37\n",
    "buffer = 0.05\n",
    "z_min = height - buffer/2\n",
    "z_max = height + buffer/2\n",
    "z_range = 'Z[' + str(z_min) + ':' + str(z_max) + ']'\n",
    "temp_raster = '/Users/theo/Pictures/almost_cool.tif'\n",
    "final_raster = '/Users/theo/Pictures/cool.tif'\n",
    "resolution = 0.01\n",
    "epsg = 'EPSG:3310'\n",
    "\n",
    "buildHeightSlice(input_las, height, buffer, temp_raster, resolution, epsg)\n",
    "convertTifForPIL(temp_raster, final_raster, epsg)"
   ]
  },
  {
   "cell_type": "code",
   "execution_count": null,
   "id": "6d188910-a9a7-4c6c-b164-8a163c1d5445",
   "metadata": {},
   "outputs": [],
   "source": [
    "import json\n",
    "import subprocess\n",
    "import pdal\n",
    "import argparse\n",
    "\n",
    "# Create flags for the user to utilize.\n",
    "parser = argparse.ArgumentParser(description=\"Generate JSON pipeline to generate DTM from a point cloud.\")\n",
    "      \n",
    "required = parser.add_argument_group('Required arguments')\n",
    "required.add_argument('-crs', '--coordinate_system', required=True, action='store', help=\"EPSG code.\")\n",
    "required.add_argument('-i', '--infile', required=True, action='store', help=\"Input path to point cloud\")\n",
    "required.add_argument('-o', '--outfile', required=True, action='store', help=\"Output path.\")\n",
    "args = parser.parse_args()\n",
    "\n",
    "def generateJSON(infile, list_of_dicts):\n",
    "    pipeline_list = [infile]\n",
    "    pipeline_list.extend(list_of_dicts)\n",
    "    pipeline_dict = {'pipeline': pipeline_list}\n",
    "    with open(\"pipeline.json\", 'w') as out:\n",
    "        json.dump(pipeline_dict, out, indent=4)\n",
    "\n",
    "def generateDTM(epsg, infile, outfile):\n",
    "    reproject_dict = {\"type\": \"filters.reprojection\",\n",
    "                      \"out_srs\": \"EPSG:{}\".format(epsg)}\n",
    "    reclassify_zero_dict = {\"type\": \"filters.assign\",\n",
    "                       \"assignment\": \"Classification[:]=0\"}\n",
    "    elm_dict = {\"type\": \"filters.elm\"}\n",
    "    outlier_dict = {\"type\": \"filters.outlier\"}\n",
    "    smrf_dict = {\"type\": \"filters.smrf\", \"ignore\": \"Classification[7:7]\",\n",
    "                 \"slope\": 0.2, \"window\": 16, \"threshold\": 0.45, \"scalar\": 1.2}\n",
    "    range_dict = {\"type\":\"filters.range\", \"limits\":\"Classification[2:2]\"}\n",
    "    output_dict = {\"filename\": outfile, \"gdaldriver\": \"GTiff\", \"output_type\": \"all\", \"resolution\": 0.01, \"type\": \"writers.gdal\"}\n",
    "    list_of_dicts = list([reproject_dict, reclassify_zero_dict, elm_dict, outlier_dict, smrf_dict, range_dict, output_dict])\n",
    "    generateJSON(infile, list_of_dicts)\n",
    "    pdal_cmds = ['pdal', 'pipeline', 'pipeline.json']\n",
    "    subprocess.run(pdal_cmds)\n",
    "    \n",
    "generateDTM(args.coordinate_system, args.infile, args.outfile)"
   ]
  },
  {
   "cell_type": "markdown",
   "id": "0efcfb16-ecfc-4ce2-8a5e-6bf2974c4510",
   "metadata": {},
   "source": [
    "# More helpful things"
   ]
  },
  {
   "cell_type": "markdown",
   "id": "84929bbc-a6c6-49ad-bfc5-9789fe5dd577",
   "metadata": {},
   "source": [
    "### Get stats of a dataset\n",
    "see: https://www.spatialised.net/lidar-qa-with-pdal-part-1/"
   ]
  },
  {
   "cell_type": "code",
   "execution_count": null,
   "id": "fa7713f5-fbfd-412c-8488-04489fa868db",
   "metadata": {},
   "outputs": [],
   "source": [
    "# name JSON file\n",
    "\n",
    "stats_json = 'lidar_processing/python_scripts/PDAL_workflow/JSON/stats.json'"
   ]
  },
  {
   "cell_type": "code",
   "execution_count": null,
   "id": "9cc3f4a2-adf9-4d2e-a62e-a2a538437396",
   "metadata": {},
   "outputs": [],
   "source": [
    "reader_las = {\"type\":\"readers.las\",\n",
    "              \"filename\": input_las_stats}\n",
    "filter_stats = {\"type\":\"filters.stats\",\n",
    "                \"dimensions\":\"Z\",\n",
    "                \"global\":\"Z\",\n",
    "                \"advanced\":\"true\"}\n",
    "pipeline_list = [reader_las, filter_stats]\n",
    "#pipeline_dict = {reader_las, filter_stats}\n",
    "# with open(stats_json, 'w') as out:\n",
    "#     json.dump(pipeline_dict, out, indent=4)\n"
   ]
  },
  {
   "cell_type": "code",
   "execution_count": null,
   "id": "8ff5cfca-34a5-471d-8b40-bef477ef6438",
   "metadata": {},
   "outputs": [],
   "source": [
    "pipeline_list"
   ]
  },
  {
   "cell_type": "code",
   "execution_count": null,
   "id": "94a58e53-92c7-47c2-b75b-f9c9466b9e2d",
   "metadata": {},
   "outputs": [],
   "source": [
    "pipeline = pdal.Pipeline(json.dumps(pipeline_list))\n",
    "pipeline.execute()"
   ]
  },
  {
   "cell_type": "code",
   "execution_count": null,
   "id": "722c7605-47f2-4698-bec0-f2aa20a26f4a",
   "metadata": {
    "tags": []
   },
   "outputs": [],
   "source": [
    "json.loads(pipeline.metadata)[\"metadata\"][\"filters.stats\"][\"statistic\"]"
   ]
  },
  {
   "cell_type": "markdown",
   "id": "6c67b19a-0d9f-4b10-ad08-ccf9593fa659",
   "metadata": {},
   "source": [
    "## Navigating folders/files"
   ]
  },
  {
   "cell_type": "markdown",
   "id": "67984138-2046-46f9-9187-26121ac09dca",
   "metadata": {},
   "source": [
    "**create list of files/folders with a wildcard (*)**"
   ]
  },
  {
   "cell_type": "code",
   "execution_count": null,
   "id": "b8b23dd1-01e1-46d4-81e7-b9e5be2df38b",
   "metadata": {},
   "outputs": [],
   "source": [
    "# ex. list all files in folder4 that end in .laz = folder1/folder2/folder3/folder4/*.laz\n",
    "# ex. list all folders named folder3 in folder 1 = foler1/*/folder3\n",
    "# ex. list all list all contents in folder2 = folder2/* - note just folder 2, no subdirectories\n",
    "glob_cmd = 'path'\n",
    "glob_exe = glob.glob(file_glob_cmd)"
   ]
  },
  {
   "cell_type": "markdown",
   "id": "124af7f3-340e-4a3d-8b74-fbff724635f2",
   "metadata": {},
   "source": [
    "**create a list with all directories/subdirectories on a path**"
   ]
  },
  {
   "cell_type": "code",
   "execution_count": null,
   "id": "316d4080-2f26-48b8-b908-992955d0200f",
   "metadata": {},
   "outputs": [],
   "source": [
    "all_folders = [x[0] for x in os.walk('path')]"
   ]
  },
  {
   "cell_type": "markdown",
   "id": "1ddee80f-1c7f-46e1-a8e8-2cee82ac6f02",
   "metadata": {},
   "source": [
    "**create a list with all directories/subdirectories on a path with specific folders**"
   ]
  },
  {
   "cell_type": "code",
   "execution_count": null,
   "id": "2fb7ef3c-3534-4566-9a4d-63ce9bcd074d",
   "metadata": {},
   "outputs": [],
   "source": [
    "all_folders = [x[0] for x in os.walk('path')]\n",
    "index_pos_list = [ i for i in range(len(all_folders)) if all_folders[i][-6:] == 'retile' ] # must change this to meet requirements\n",
    "full_list = [all_folders[i] for i in index_pos_list]"
   ]
  },
  {
   "cell_type": "markdown",
   "id": "507fb6c4-a80d-4b97-8533-1852b3a8e992",
   "metadata": {},
   "source": [
    "**get name of the directory just above one listed**"
   ]
  },
  {
   "cell_type": "code",
   "execution_count": null,
   "id": "ea8cc0c9-4dcb-44e7-a72f-8586c6828636",
   "metadata": {},
   "outputs": [],
   "source": [
    "subdirname = os.path.basename(os.path.dirname('path'))"
   ]
  },
  {
   "cell_type": "markdown",
   "id": "141720ac-a112-4891-b727-3e4999ed4298",
   "metadata": {},
   "source": [
    "**create a list with only filenames**"
   ]
  },
  {
   "cell_type": "code",
   "execution_count": null,
   "id": "5412acaf-9f08-430c-8ce2-ca0027d4d129",
   "metadata": {},
   "outputs": [],
   "source": [
    "onlyfiles = [f for f in os.listdir('path') if os.path.isfile(os.path.join('path', f))]"
   ]
  },
  {
   "cell_type": "markdown",
   "id": "9d80f4b2-ebb0-4eb2-9a39-58d554be97b0",
   "metadata": {},
   "source": [
    "**create a list with full file paths**"
   ]
  },
  {
   "cell_type": "code",
   "execution_count": null,
   "id": "dfc96133-4087-4aca-a90b-302487a803e2",
   "metadata": {},
   "outputs": [],
   "source": [
    "full_path = ['path' + '/' + s for s in onlyfiles]"
   ]
  },
  {
   "cell_type": "markdown",
   "id": "5b8a6064-f348-405d-bf7d-5e8c8f7bfd81",
   "metadata": {},
   "source": [
    "## Parallel Processing"
   ]
  },
  {
   "cell_type": "code",
   "execution_count": null,
   "id": "215beb4e-46bb-4271-b452-6849510f3a36",
   "metadata": {},
   "outputs": [],
   "source": [
    "# time = 142.5\n",
    "tic = time.perf_counter()\n",
    "list(map(function, args));\n",
    "toc = time.perf_counter()"
   ]
  },
  {
   "cell_type": "code",
   "execution_count": null,
   "id": "0a4ca6cc-9fb5-48ce-8146-b41150dd9674",
   "metadata": {},
   "outputs": [],
   "source": [
    "# time = 53 s\n",
    "tic = time.perf_counter()\n",
    "if __name__ == \"__main__\":\n",
    "    pool = Pool(3)\n",
    "    pool.map(function, arg)\n",
    "    pool.close()\n",
    "toc = time.perf_counter()"
   ]
  },
  {
   "cell_type": "code",
   "execution_count": null,
   "id": "920e3ba6-7d5f-4a00-b563-ee2a53074b87",
   "metadata": {},
   "outputs": [],
   "source": [
    "# time = very fast? .06s\n",
    "tic = time.perf_counter()\n",
    "if __name__ == \"__main__\":\n",
    "    executor = concurrent.futures.ThreadPoolExecutor(max_workers=3)\n",
    "    executor.map(function, arg)\n",
    "toc = time.perf_counter()"
   ]
  },
  {
   "cell_type": "code",
   "execution_count": null,
   "id": "bb4c6986-5a20-472a-a5bd-4a854161ff30",
   "metadata": {},
   "outputs": [],
   "source": [
    "# time = 0.22\n",
    "tic = time.perf_counter()\n",
    "if __name__ == \"__main__\":\n",
    "    executor = concurrent.futures.ProcessPoolExecutor(max_workers=3)\n",
    "    executor.map(function, arg)\n",
    "toc = time.perf_counter()"
   ]
  },
  {
   "cell_type": "code",
   "execution_count": null,
   "id": "d1f97306-b0c1-4b9d-8b1e-5bd95d1732c6",
   "metadata": {},
   "outputs": [],
   "source": []
  }
 ],
 "metadata": {
  "kernelspec": {
   "display_name": "Python 3 (ipykernel)",
   "language": "python",
   "name": "python3"
  },
  "language_info": {
   "codemirror_mode": {
    "name": "ipython",
    "version": 3
   },
   "file_extension": ".py",
   "mimetype": "text/x-python",
   "name": "python",
   "nbconvert_exporter": "python",
   "pygments_lexer": "ipython3",
   "version": "3.9.7"
  }
 },
 "nbformat": 4,
 "nbformat_minor": 5
}
