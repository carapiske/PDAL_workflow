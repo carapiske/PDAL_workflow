{
 "cells": [
  {
   "cell_type": "markdown",
   "id": "797f557e-435f-49cd-8002-2135758b8c67",
   "metadata": {},
   "source": [
    "Fall 2021<br>\n",
    "Modified from Theo Hartsook from NRES 782 <br>\n",
    "Goal: create JSON pipelines to save las files <br>\n",
    "\n",
    "See: http://www.asprs.org/wp-content/uploads/2019/07/LAS_1_4_r15.pdf page 19 for classification information\n"
   ]
  },
  {
   "cell_type": "markdown",
   "id": "704551bb-6e47-4c22-94d3-17ecd020e91a",
   "metadata": {},
   "source": [
    "**ASPRS Standard Point Classes (Point Data Record Formats 6-10):**"
   ]
  },
  {
   "cell_type": "markdown",
   "id": "0d24c11a-f3b9-4d59-a4a0-7e84f03d19d2",
   "metadata": {
    "tags": []
   },
   "source": [
    "0 Created, Never Classified See note4 <br>\n",
    "1 Unclassified<br>\n",
    "2 Ground<br>\n",
    "3 Low Vegetation<br>\n",
    "4 Medium Vegetation<br>\n",
    "5 High Vegetation<br>\n",
    "6 Building<br>\n",
    "7 Low Point (Noise)<br>\n",
    "8 Reserved<br>\n",
    "9 Water<br>\n",
    "10 Rail<br>\n",
    "11 Road Surface<br>\n",
    "12 Reserved<br>\n",
    "13 Wire – Guard (Shield)<br>\n",
    "14 Wire – Conductor (Phase)<br>\n",
    "15 Transmission Tower<br>\n",
    "16 Wire-Structure Connector e.g., insulators<br>\n",
    "17 Bridge Deck<br>\n",
    "18 High Noise<br>\n",
    "19 Overhead Structure e.g., conveyors, mining equipment, traffic\n",
    "lights<br>\n",
    "20 Ignored Ground e.g., breakline proximity<br>\n",
    "21 Snow<br>\n",
    "22 Temporal Exclusion Features excluded due to changes over\n",
    "time between data sources – e.g., water\n",
    "levels, landslides, permafrost<br>\n",
    "23-63 Reserved<br>\n",
    "64-255 User Definable<br>"
   ]
  },
  {
   "cell_type": "code",
   "execution_count": 1,
   "id": "ef19ecac-1150-469a-9a3f-3eb6f8b1c531",
   "metadata": {},
   "outputs": [],
   "source": [
    "# import necessary files\n",
    "import numpy as np\n",
    "import matplotlib.pyplot as plt\n",
    "import json # where we will save the json files to run a pipeline\n",
    "import os \n",
    "import subprocess # allows us to run command line commands\n",
    "import pdal\n",
    "import rasterio\n",
    "import pyproj\n",
    "from osgeo import gdal\n",
    "import glob\n",
    "import time\n",
    "# packages to copy files\n",
    "from pathlib import Path\n",
    "import shutil\n",
    "# packages to extract wkt from polygon\n",
    "import shapefile\n",
    "import pygeoif\n",
    "# for parallel processing\n",
    "import concurrent.futures\n",
    "from multiprocessing import Pool\n",
    "\n",
    "from lidar_functions import rename_llx_lly\n",
    "from lidar_functions import add_str_to_filename\n",
    "from lidar_functions import create_tindex\n",
    "from lidar_functions import copy_las_by_ext_ICB\n",
    "#os.chdir('/')\n",
    "# file directory path on bigger computer:\n",
    "# '\\\\\\Harpold-lab1pc\\\\f\\\\lidar'"
   ]
  },
  {
   "cell_type": "code",
   "execution_count": null,
   "id": "f442d69a-e864-48f9-8b83-220066133090",
   "metadata": {},
   "outputs": [],
   "source": []
  },
  {
   "cell_type": "code",
   "execution_count": 5,
   "id": "dfd00aac-03ba-4d6d-a022-bbfad350854f",
   "metadata": {},
   "outputs": [
    {
     "data": {
      "text/plain": [
       "'/Volumes'"
      ]
     },
     "execution_count": 5,
     "metadata": {},
     "output_type": "execute_result"
    }
   ],
   "source": [
    "os.chdir('/Volumes')\n",
    "os.getcwd()"
   ]
  },
  {
   "cell_type": "code",
   "execution_count": null,
   "id": "cb3e5234-2041-4632-b4fa-e043a256b2a9",
   "metadata": {},
   "outputs": [],
   "source": [
    "# # test docker\n",
    "# sudo docker run -v /Users/carapiske/Desktop/test_las:/input pdal/pdal touch /input/hey.txt"
   ]
  },
  {
   "cell_type": "markdown",
   "id": "6436eea6-1aef-403f-a7be-0d4195cbdd8f",
   "metadata": {},
   "source": [
    "# Info\n",
    "Generally, we can either use our local pdal package or pull from a docker image. We'll practice both below but prefer the docker method"
   ]
  },
  {
   "cell_type": "code",
   "execution_count": null,
   "id": "9543319e-0eda-43ef-a141-457ac3cae151",
   "metadata": {},
   "outputs": [],
   "source": [
    "os.chdir('/Volumes')"
   ]
  },
  {
   "cell_type": "code",
   "execution_count": 19,
   "id": "1bd070bb-1da4-4689-bd04-755e0eb7cac1",
   "metadata": {
    "tags": []
   },
   "outputs": [],
   "source": [
    "# define a test file (in this case: /mcc_part_b_tile_004_000.las)\n",
    "\n",
    "#input_path = r'PDAL_testFiles_tutorials/test_las/SCB/NCALM_testFiles/ot_736000_4366000.laz' #'PDAL_testFiles_tutorials/test_las/SCB/NCALM_testFiles' # define input las path (not filename)\n",
    "input_las = 'lidar_processing/PDAL_testFiles_tutorials/test_las/SCB/reproject/ASO_to_NAVD88/20160326/729777_4364928.laz'\n",
    "input_las = \"lidar_processing/PDAL_testFiles_tutorials/test_las/SCB/reproject/ASO_to_NAD83/20160326/730287_4369426.laz\"\n",
    "input_las = 'Piske_lidar/MRB/Merced_lidar/Watershed_Sciences/WSI_MRB_20111017/ICB_tiles/WSI_MRB_20111017_270676_4174714.laz'\n",
    "#nput_las = 'PDAL_testFiles_tutorials/test_las/SCB/NCALM_testFiles/ot_736000_4363000.laz'\n",
    "#input_las_test = \"PDAL_testFiles_tutorials/test_las/SCB/reproject/NCALM2014_toWGS84/ot_736000_4363000.laz\"\n",
    "#input_las = r'PDAL_testFiles_tutorials/test_las/SCB/NCALM_testFiles/ot_736000_4366000.laz'#'lidar_processing/PDAL_testFiles_tutorials/test_las/ncalm_2014_732000_4373000.las' # define input las full file path\n",
    "#input_path_docker = input_path + ':/input'\n",
    "#input_las = \"lidar_processing/PDAL_testFiles_tutorials/test_las/SCB/ASO_testFiles/WGS84/20160518/736236_4366272.las\"\n",
    "input_las_docker = '/input/'+'/mcc_part_b_tile_004_000.las'\n",
    "# input_path = 'PDAL_testFiles_tutorials/test_las/SCB/NCALM_testFiles' #'PDAL_testFiles_tutorials/test_las/SCB/NCALM_testFiles' # define input las path (not filename)\n",
    "# input_las = 'PDAL_testFiles_tutorials/test_las/SCB/NCALM_testFiles/ot_736000_4363000.laz'#'lidar_processing/PDAL_testFiles_tutorials/test_las/ncalm_2014_732000_4373000.las' # define input las full file path\n",
    "# input_path_docker = input_path + ':/input'\n",
    "# input_las_docker = '/input/'+'/ot_736000_4363000.laz'"
   ]
  },
  {
   "cell_type": "markdown",
   "id": "32ee9d55-d48f-4228-a49d-76b7f83e8370",
   "metadata": {},
   "source": [
    "windows"
   ]
  },
  {
   "cell_type": "code",
   "execution_count": 20,
   "id": "d14bbb37-641b-4e3f-aa87-9db0f38987bb",
   "metadata": {
    "tags": []
   },
   "outputs": [],
   "source": [
    "# # define a test file (in this case: /mcc_part_b_tile_004_000.las)\n",
    "# input_path = 'lidar_processing\\\\PDAL_testFiles_tutorials\\\\test_las' # define input las path (not filename)\n",
    "# input_las = 'lidar_processing\\\\PDAL_testFiles_tutorials\\\\test_las\\\\ASO\\\\ICB\\\\USCAMB20140324f1a1_-_Scanner_2_-_140324_203340_2_-_originalpoints_dem_filter.las'#'lidar_processing/PDAL_testFiles_tutorials/test_las/ncalm_2014_732000_4373000.las' # define input las full file path\n",
    "\n",
    "# input_path_docker = input_path + ':\\\\input'\n",
    "# input_las_docker = '\\\\input\\\\'+'USCAMB20140324f1a1_-_Scanner_2_-_140324_203340_2_-_originalpoints_dem_filter.las'"
   ]
  },
  {
   "cell_type": "code",
   "execution_count": 26,
   "id": "c62765df-4543-4b80-be76-259bb530efb2",
   "metadata": {},
   "outputs": [],
   "source": [
    "input_las = 'Piske_lidar/MRB/Merced_lidar/Watershed_Sciences/WSI_MRB_20111017/laz/37119E4108.laz'\n",
    "pdal_info_command = ['pdal', 'info', input_las]\n",
    "#pdal_info_command_Docker = ['docker', 'run', '-v', input_path_docker, 'pdal/pdal', 'pdal', 'info', input_las_docker]\n",
    "pdal_metadata_command = ['pdal', 'info', input_las, '--metadata']"
   ]
  },
  {
   "cell_type": "code",
   "execution_count": 28,
   "id": "d2a26c94-966d-4b79-b8ef-19f25652e078",
   "metadata": {
    "tags": []
   },
   "outputs": [],
   "source": [
    "subprocess.run(pdal_metadata_command)"
   ]
  },
  {
   "cell_type": "code",
   "execution_count": null,
   "id": "c24a51df-0a74-4628-8c16-bdaa094c1eff",
   "metadata": {},
   "outputs": [],
   "source": [
    "# # terminal command using docker\n",
    "# subprocess.run(['docker', 'run', '-v', '/Users/carapiske/Desktop/test_las:/input', 'pdal/pdal', 'pdal', 'info', '/input/mcc_part_b_tile_004_000.las'])\n",
    "# # or \n",
    "# subprocess.run(pdal_info_command_Docker)\n",
    "# # or use local pdal\n",
    "# subprocess.run(pdal_info_command)"
   ]
  },
  {
   "cell_type": "code",
   "execution_count": null,
   "id": "41ce21a8-7035-4261-a81e-83b58a9e26cb",
   "metadata": {},
   "outputs": [],
   "source": [
    "pdal_info_results = subprocess.run(pdal_metadata_command, stdout = subprocess.PIPE) # stout (standard out), PIPE indicates that a new pipe to the child should be created\n",
    "pdal_info_dict = json.loads(pdal_info_results.stdout.decode())"
   ]
  },
  {
   "cell_type": "code",
   "execution_count": null,
   "id": "aff8ceab-adf5-4af4-80c3-2a5ea3af8f39",
   "metadata": {},
   "outputs": [],
   "source": [
    "pdal_info_dict['metadata']['minx'] - pdal_info_dict['metadata']['maxx']"
   ]
  },
  {
   "cell_type": "markdown",
   "id": "adaa2852-9e99-4e2f-ab6e-d1ee311ec38c",
   "metadata": {},
   "source": [
    "# Retiling"
   ]
  },
  {
   "cell_type": "code",
   "execution_count": null,
   "id": "2f7b38f3-9fe8-4ff7-86b1-68ec585bc56c",
   "metadata": {},
   "outputs": [],
   "source": [
    "#docker run -v %cd%/input:/input -v %cd%/output:/output a8 pdal tile -i /input/*.las -o /output/ltbmu_tile#.las --length 500"
   ]
  },
  {
   "cell_type": "code",
   "execution_count": null,
   "id": "84755a16-6c56-4a92-839f-5f6d09e1bf44",
   "metadata": {},
   "outputs": [],
   "source": [
    "retile_input_path = 'lidar_processing/PDAL_testFiles_tutorials/test_las/ICB/ASO_417/*.laz'\n",
    "retile_output_path = 'lidar_processing/PDAL_testFiles_tutorials/test_las/ICB/ASO_retile/#.laz'\n",
    "retile_command = ['pdal', 'tile', retile_input_path,retile_output_path, '--length=1000','--buffer=50']\n",
    "subprocess.run(retile_command)"
   ]
  },
  {
   "cell_type": "code",
   "execution_count": null,
   "id": "ecea19f0-ba6c-4df2-8dcc-a31e1a8b0cc2",
   "metadata": {},
   "outputs": [],
   "source": [
    "retile_command = ['pdal', 'tile', \"lidar_processing/PDAL_testFiles_tutorials/test_las/SCB/ASO_testFiles/WGS84/20160518/*.las\", 'lidar_processing/PDAL_testFiles_tutorials/test_las/SCB/retile/ASO_20160518/retile_#.las','--length=1000','--buffer=50']\n",
    "subprocess.run(retile_command)"
   ]
  },
  {
   "cell_type": "code",
   "execution_count": null,
   "id": "6fb648a5-0ed2-45a0-8892-27a3bf3c5eed",
   "metadata": {},
   "outputs": [],
   "source": [
    "# 7 min \n",
    "tic = time.perf_counter()\n",
    "retile_command = ['pdal', 'tile', \"lidar_processing/PDAL_testFiles_tutorials/test_las/SCB/NCALM_testFiles/*.laz\", 'lidar_processing/PDAL_testFiles_tutorials/test_las/SCB/retile/NCALM_2014_buff100/retile_#.laz','--length=1000','--buffer=50']\n",
    "toc = time.perf_counter()"
   ]
  },
  {
   "cell_type": "code",
   "execution_count": null,
   "id": "cdb7737a-51ce-4717-a716-6f2bd64a6db9",
   "metadata": {},
   "outputs": [],
   "source": [
    "all_folders = [x[0] for x in os.walk('Piske_lidar/MRB/Merced_lidar/')]\n",
    "# list indices of all folders that are called laz\n",
    "index_pos_list = [ i for i in range(len(all_folders)) if (all_folders[i][-3:] == 'laz' or all_folders[i][-3:] == 'las') ]\n",
    "# save only those files \n",
    "laz_list = [all_folders[i] for i in index_pos_list]\n",
    "for las_folders in laz_list:\n",
    "    input_file_wildcard = las_folders + '/'+'*.'+ las_folders[-3:]\n",
    "    output_path = las_folders[:-3] + '/'+'retile/retile_#' + '.' + las_folders[-3:]\n",
    "    retile_command = ['pdal', 'tile', input_file_wildcard, output_path,'--length=1000','--buffer=50']\n",
    "    subprocess.run(retile_command)"
   ]
  },
  {
   "cell_type": "code",
   "execution_count": null,
   "id": "c32b5af6-c07f-4f29-8c52-165f32edbd8a",
   "metadata": {},
   "outputs": [],
   "source": [
    "all_folders = [x[0] for x in os.walk('Piske_lidar/SCB/Sagehen_lidar/')]\n",
    "# list indices of all folders that are called laz\n",
    "index_pos_list = [ i for i in range(len(all_folders)) if (all_folders[i][-3:] == 'laz' or all_folders[i][-3:] == 'las') ]\n",
    "# save only those files \n",
    "laz_list = [all_folders[i] for i in index_pos_list]\n",
    "for las_folders in laz_list:\n",
    "    input_file_wildcard = las_folders + '/'+'*.'+ las_folders[-3:]\n",
    "    output_path = las_folders[:-3] + '/'+'retile/retile_#' + '.' + las_folders[-3:]\n",
    "    retile_command = ['pdal', 'tile', input_file_wildcard, output_path,'--length=1000','--buffer=50']\n",
    "    subprocess.run(retile_command)"
   ]
  },
  {
   "cell_type": "markdown",
   "id": "03d29947-d28b-4f15-a15f-ba45ace15a23",
   "metadata": {},
   "source": [
    "## Rename"
   ]
  },
  {
   "cell_type": "code",
   "execution_count": null,
   "id": "0a08ac24-eb5f-4486-8da8-0c4f47e6ce95",
   "metadata": {},
   "outputs": [],
   "source": [
    "# rename a file with the lower left x and y defined as the corner point of the bounding box (add resolution/2 to get the center point of the box) \n",
    "# input - full lidar file path (i.e. 'lidar_files/filename.laz'), str\n",
    "def rename_llx_lly2(full_path):\n",
    "    pdal_info_command = ['pdal', 'info', full_path, '--metadata'] # set up pdal command\n",
    "    pdal_info_results = subprocess.run(pdal_info_command, stdout = subprocess.PIPE) # stout (standard out), PIPE indicates that a new pipe to the child should be created, execute command\n",
    "    pdal_info_dict = json.loads(pdal_info_results.stdout.decode()) # save metadata to dict\n",
    "    pathname = os.path.dirname(os.path.realpath(full_path)) # isolate only pathname (i.e. 'lidar/lidar_files')\n",
    "    name = pathname + '/' + str(round(pdal_info_dict['metadata']['minx'])) +\"_\"+ str(round(pdal_info_dict['metadata']['miny']))+full_path[-4:] # create string with full pathname and llx and lly from dict\n",
    "    os.rename(full_path, name) # rename file"
   ]
  },
  {
   "cell_type": "code",
   "execution_count": null,
   "id": "761a2f81-6bcf-4388-ad5f-de698c216f50",
   "metadata": {},
   "outputs": [],
   "source": [
    "# rename a file with additional metadata at the beginning of the filename\n",
    "# flight organization, watershed, date of flight (i.e. ASO_ICB_20140423)\n",
    "# additional text will be taken from the flight directory name, could hardcode additional string instead of using folder name\n",
    "# input - full lidar file path (i.e. 'lidar/lidar_files/filename.laz'), str\n",
    "def add_str_to_filename2(full_path):\n",
    "    filename = os.path.basename(full_path) # isolate only filename (i.e 'filename.laz')\n",
    "    pathname = os.path.dirname(os.path.realpath(full_path)) # isolate only path name (i.e. 'lidar/lidar_files')\n",
    "    add_str = os.path.normpath(pathname) # split up the path name (i.e. full path)\n",
    "    add_str = [i for i in add_str.split(os.sep) if (i.startswith('ASO_') or i.startswith('NCALM_') or i.startswith('WSI_'))] # (i.e. 'ASO_SCB_2016')\n",
    "    rename = pathname + '/'+ add_str[0] + '_'+ filename # add string to full pathname \n",
    "    os.rename(full_path, rename) # rename file"
   ]
  },
  {
   "cell_type": "code",
   "execution_count": null,
   "id": "bf8a6166-4d4d-4841-be9b-e7b1bb5715eb",
   "metadata": {},
   "outputs": [],
   "source": [
    "# # single file\n",
    "# rename_llx_lly2('filepath.laz')\n",
    "# add_str_to_filename2('new_filepath.laz')"
   ]
  },
  {
   "cell_type": "code",
   "execution_count": null,
   "id": "8091998d-2b7c-4464-9c19-a60d31292def",
   "metadata": {},
   "outputs": [],
   "source": [
    "# # time = 46s\n",
    "# tic = time.perf_counter()\n",
    "# pathname = 'Piske_lidar/MRB/Merced_lidar/ASO/ASO_Merced_point_cloud_20200413_20200414/USCAMB20200414f2/retile/'\n",
    "# for filepath in glob.iglob('Piske_lidar/MRB/Merced_lidar/ASO/ASO_Merced_point_cloud_20200413_20200414/USCAMB20200414f2/retile/*.laz'):\n",
    "#     pdal_info_command = ['pdal', 'info', filepath, '--metadata']\n",
    "#     pdal_info_results = subprocess.run(pdal_info_command, stdout = subprocess.PIPE) # stout (standard out), PIPE indicates that a new pipe to the child should be created\n",
    "#     pdal_info_dict = json.loads(pdal_info_results.stdout.decode())\n",
    "#     name = pathname+str(round(pdal_info_dict['metadata']['minx'])) +\"_\"+ str(round(pdal_info_dict['metadata']['miny']))+\".laz\"\n",
    "#     os.rename(filepath, name)\n",
    "# toc = time.perf_counter()"
   ]
  },
  {
   "cell_type": "code",
   "execution_count": 14,
   "id": "bbd0ae99-19b7-4f85-8bf9-23808207d96d",
   "metadata": {},
   "outputs": [],
   "source": [
    "all_folders = [x[0] for x in os.walk('Piske_lidar/SCB/Sagehen_lidar')]\n",
    "# list indices of all folders that are called laz\n",
    "index_pos_list = [ i for i in range(len(all_folders)) if all_folders[i][-6:] == 'retile' ]\n",
    "# save only those files \n",
    "retile_list = [all_folders[i] for i in index_pos_list]"
   ]
  },
  {
   "cell_type": "code",
   "execution_count": 16,
   "id": "9b8d91c7-3f53-43af-b450-58f160d3361d",
   "metadata": {},
   "outputs": [],
   "source": [
    "#time = 4.14\n",
    "tic = time.perf_counter()\n",
    "for lidar_folder in retile_list:\n",
    "    if __name__ == \"__main__\":\n",
    "        onlyfiles = [f for f in os.listdir(lidar_folder) if os.path.isfile(os.path.join(lidar_folder, f))]\n",
    "        full_path = [lidar_folder + '/' + s for s in onlyfiles]\n",
    "        executor = concurrent.futures.ThreadPoolExecutor(max_workers=3)\n",
    "        executor.map(rename_llx_lly, full_path)\n",
    "toc = time.perf_counter()"
   ]
  },
  {
   "cell_type": "code",
   "execution_count": 18,
   "id": "3d0999a0-40d6-4b8c-8831-7afb7b078dfd",
   "metadata": {},
   "outputs": [],
   "source": [
    "#time = 5.8\n",
    "tic = time.perf_counter()\n",
    "for lidar_folder in retile_list:\n",
    "    if __name__ == \"__main__\":\n",
    "        onlyfiles = [f for f in os.listdir(lidar_folder) if os.path.isfile(os.path.join(lidar_folder, f))]\n",
    "        full_path = [lidar_folder + '/' + s for s in onlyfiles]\n",
    "        executor = concurrent.futures.ThreadPoolExecutor(max_workers=3)\n",
    "        executor.map(add_str_to_filename, full_path)\n",
    "toc = time.perf_counter()"
   ]
  },
  {
   "cell_type": "code",
   "execution_count": null,
   "id": "41501307-73f9-4fc8-a433-88d14116110c",
   "metadata": {},
   "outputs": [],
   "source": []
  },
  {
   "cell_type": "code",
   "execution_count": null,
   "id": "8cecddcd-fbbc-414a-b12e-f9435bdf822a",
   "metadata": {},
   "outputs": [],
   "source": []
  },
  {
   "cell_type": "code",
   "execution_count": 24,
   "id": "34761132-e4b5-41e4-a051-d6d2ca703288",
   "metadata": {
    "tags": []
   },
   "outputs": [],
   "source": [
    "# time = \n",
    "tic = time.perf_counter()\n",
    "if __name__ == \"__main__\":\n",
    "    executor = concurrent.futures.ThreadPoolExecutor(max_workers=3)\n",
    "    executor.map(add_str_to_filename, full_path)\n",
    "toc = time.perf_counter()"
   ]
  },
  {
   "cell_type": "code",
   "execution_count": null,
   "id": "6d593196-6d25-4bc3-a8a7-e6b1e380b306",
   "metadata": {},
   "outputs": [],
   "source": [
    "# time = \n",
    "tic = time.perf_counter()\n",
    "if __name__ == \"__main__\":\n",
    "    executor = concurrent.futures.ThreadPoolExecutor(max_workers=3)\n",
    "    executor.map(add_str_to_filename, full_path)\n",
    "toc = time.perf_counter()"
   ]
  },
  {
   "cell_type": "code",
   "execution_count": null,
   "id": "46cf0ec9-717e-4eaa-9819-1585d703b6c7",
   "metadata": {},
   "outputs": [],
   "source": []
  },
  {
   "cell_type": "code",
   "execution_count": null,
   "id": "c1536aa9-7252-4f12-a1f1-2fb1d5f38a95",
   "metadata": {},
   "outputs": [],
   "source": []
  },
  {
   "cell_type": "code",
   "execution_count": null,
   "id": "2dcbf891-f5c7-42f6-9748-676a1d97db34",
   "metadata": {},
   "outputs": [],
   "source": [
    "tic = time.perf_counter()\n",
    "all_folders = [x[0] for x in os.walk('Piske_lidar/MRB/Merced_lidar/')]\n",
    "# list indices of all folders that are called laz\n",
    "index_pos_list = [ i for i in range(len(all_folders)) if all_folders[i][-6:] == 'retile' ]\n",
    "# save only those files \n",
    "retile_list = [all_folders[i] for i in index_pos_list]\n",
    "for lidar_folder in retile_list:\n",
    "    if __name__ == '__main__':\n",
    "        with concurrent.futures.ProcessPoolExecutor(max_workers=3) as executor:\n",
    "            onlyfiles = [f for f in os.listdir(lidar_folder) if os.path.isfile(os.path.join(lidar_folder, f))]\n",
    "            full_path = [lidar_folder + '/' + s for s in onlyfiles]\n",
    "            executor.map(lidar_function.rename_retiles, full_path) #running 10 times\n",
    "toc = time.perf_counter()"
   ]
  },
  {
   "cell_type": "code",
   "execution_count": null,
   "id": "40dbf7bc-6a4f-4fa7-8c08-ecf4decca7c7",
   "metadata": {},
   "outputs": [],
   "source": [
    "# folder_path = retile_list[0]\n",
    "# onlyfiles = [f for f in os.listdir(folder_path) if os.path.isfile(os.path.join(folder_path, f))]\n",
    "# full_path = [folder_path + '/' + s for s in onlyfiles]\n",
    "# rename = [folder_path + '/ASO_MRB_' + folder_path[-15:-7] +'_' + s for s in onlyfiles]\n",
    "# list(map(os.rename, full_path, rename))"
   ]
  },
  {
   "cell_type": "code",
   "execution_count": null,
   "id": "0db68bd4-5d8e-4829-a39e-9502ed0adcdd",
   "metadata": {},
   "outputs": [],
   "source": []
  },
  {
   "cell_type": "code",
   "execution_count": null,
   "id": "d0b6ccc1-75d4-4748-80d3-c6ba9bdfe7d5",
   "metadata": {},
   "outputs": [],
   "source": []
  },
  {
   "cell_type": "code",
   "execution_count": null,
   "id": "2de41fed-229b-4b93-980d-9b8e17e62e4f",
   "metadata": {},
   "outputs": [],
   "source": []
  },
  {
   "cell_type": "code",
   "execution_count": null,
   "id": "c3d3df06-9d47-421c-b863-4e9b5f8bef34",
   "metadata": {},
   "outputs": [],
   "source": [
    "all_folders = [x[0] for x in os.walk('Piske_lidar/MRB/Merced_lidar/ASO/')]\n",
    "for folders in all_folders:\n",
    "    # list indices of all folders that are called laz\n",
    "    index_pos_list = [ i for i in range(len(all_folders)) if all_folders[i][-6:] == 'retile' ]\n",
    "    # save only those files \n",
    "    retile_list = [all_folders[i] for i in index_pos_list]\n",
    "    for lidar_folder in retile_list:\n",
    "        rename_retiles(lidar_folder)"
   ]
  },
  {
   "cell_type": "code",
   "execution_count": null,
   "id": "306550de-3925-4208-a013-8f0e3155ba8c",
   "metadata": {},
   "outputs": [],
   "source": []
  },
  {
   "cell_type": "code",
   "execution_count": null,
   "id": "6df3a6b2-0240-4f92-b90f-f69c20b6d7fe",
   "metadata": {},
   "outputs": [],
   "source": [
    "# name = str(round(pdal_info_dict['metadata']['minx'])) +\"_\"+ str(round(pdal_info_dict['metadata']['miny']))\n"
   ]
  },
  {
   "cell_type": "code",
   "execution_count": null,
   "id": "0945f54d-d535-483a-a6e5-f5a7470f8664",
   "metadata": {},
   "outputs": [],
   "source": [
    "tic = time.perf_counter()\n",
    "# list all folders in directory\n",
    "all_folders = [x[0] for x in os.walk('Piske_lidar/MRB/Merced_lidar/')]\n",
    "# list indices of all folders that are called laz\n",
    "index_pos_list = [ i for i in range(len(all_folders)) if all_folders[i][-6:] == 'retile' ]\n",
    "# save only those files \n",
    "laz_list = [all_folders[i] for i in index_pos_list]\n",
    "for folders in laz_list:\n",
    "    pathname = folders + '/'\n",
    "    output_pathname = folders[:-3] + 'tif' + '/'\n",
    "    onlyfiles = [f for f in os.listdir(pathname) if os.path.isfile(os.path.join(pathname, f))]\n",
    "    for file in onlyfiles:\n",
    "        input_las = pathname + file\n",
    "        writer = '--writers.gdal.filename='+output_pathname+file[:-4]+\".tif\"\n",
    "        reader = '--readers.las.filename='+pathname+file\n",
    "        rasterize_command = ['pdal', 'pipeline', rasterize_json_count, writer, reader]\n",
    "        subprocess.run(rasterize_command)\n",
    "toc = time.perf_counter()"
   ]
  },
  {
   "cell_type": "markdown",
   "id": "4192a006-96c8-4f98-be10-3c3c7b3b5200",
   "metadata": {},
   "source": [
    "## Save tile boundaries"
   ]
  },
  {
   "cell_type": "code",
   "execution_count": null,
   "id": "f8700fa7-5eb7-4315-ae71-8a8f8e1e7c2b",
   "metadata": {},
   "outputs": [],
   "source": [
    "# input: lidar_folder - path to folder containing lidar files\n",
    "def create_tindex2(lidar_folder):\n",
    "    onlyfiles = [f for f in os.listdir(lidar_folder) if os.path.isfile(os.path.join(lidar_folder, f))] # list files\n",
    "    for file in onlyfiles:\n",
    "        input_las = lidar_folder + '/' + file # save string containing full path of lidar file\n",
    "        output_sqlite = lidar_folder[:-6] + 'tindex/tiles/' + file[:-3] + 'sqlite'\n",
    "        boundary_cmd = ['pdal', 'tindex', 'create', '--tindex', output_sqlite, '--filespec', input_las, '-f', 'SQLite']\n",
    "        subprocess.run(boundary_cmd)"
   ]
  },
  {
   "cell_type": "code",
   "execution_count": null,
   "id": "95e4cc2f-6a00-4fde-9a32-c4b5e3605ee8",
   "metadata": {},
   "outputs": [],
   "source": [
    "# time = \n",
    "tic = time.perf_counter()\n",
    "if __name__ == \"__main__\":\n",
    "    executor = concurrent.futures.ThreadPoolExecutor(max_workers=3)\n",
    "    executor.map(add_str_to_filename, full_path)\n",
    "toc = time.perf_counter()"
   ]
  },
  {
   "cell_type": "code",
   "execution_count": 3,
   "id": "3a4da578-3701-4184-be2f-8829a2c24504",
   "metadata": {},
   "outputs": [],
   "source": [
    "tic = time.perf_counter()\n",
    "all_folders = [x[0] for x in os.walk('Piske_lidar/MRB/Merced_lidar/')]\n",
    "# list indices of all folders that are called laz\n",
    "index_pos_list = [ i for i in range(len(all_folders)) if all_folders[i][-6:] == 'retile' ]\n",
    "# save only those files \n",
    "retile_list = [all_folders[i] for i in index_pos_list]"
   ]
  },
  {
   "cell_type": "code",
   "execution_count": 12,
   "id": "8b114d34-9297-463a-be82-7c23909bddb6",
   "metadata": {},
   "outputs": [],
   "source": [
    "all_folders = [x[0] for x in os.walk('Piske_lidar/MRB/Merced_lidar/')]\n",
    "# list indices of all folders that are called laz\n",
    "index_pos_list = [ i for i in range(len(all_folders)) if all_folders[i][-6:] == 'retile' ]\n",
    "# save only those files \n",
    "retile_list = [all_folders[i] for i in index_pos_list]\n",
    "onlyfiles = [f for f in os.listdir(retile_list[0]) if os.path.isfile(os.path.join(retile_list[0], f))]\n",
    "full_path = [retile_list[0] + '/' + s for s in onlyfiles]\n",
    "output_path = [retile_list[0][:-6] + 'tindex/' + s[:-3] + 'sqlite' for s in onlyfiles]"
   ]
  },
  {
   "cell_type": "code",
   "execution_count": 10,
   "id": "84409860-6b38-4487-bbc8-e679a9c2d2ac",
   "metadata": {},
   "outputs": [],
   "source": [
    "tic = time.perf_counter()\n",
    "all_folders = [x[0] for x in os.walk('Piske_lidar/SCB/Sagehen_lidar/')]\n",
    "# list indices of all folders that are called laz\n",
    "index_pos_list = [ i for i in range(len(all_folders)) if all_folders[i][-6:] == 'retile' ]\n",
    "# save only those files \n",
    "retile_list = [all_folders[i] for i in index_pos_list]\n",
    "for lidar_folder in retile_list:\n",
    "    if __name__ == '__main__':\n",
    "        with concurrent.futures.ProcessPoolExecutor(max_workers=3) as executor:\n",
    "            onlyfiles = [f for f in os.listdir(lidar_folder) if os.path.isfile(os.path.join(lidar_folder, f))]\n",
    "            full_path = [lidar_folder + '/' + s for s in onlyfiles]\n",
    "            output_path = [lidar_folder[:-6] + 'tindex/' + s[:-3] + 'sqlite' for s in onlyfiles]\n",
    "            executor.map(create_tindex, full_path, output_path) #running 10 times\n",
    "toc = time.perf_counter()"
   ]
  },
  {
   "cell_type": "code",
   "execution_count": null,
   "id": "0585ac24-bdc0-467e-b00f-b5c962379d08",
   "metadata": {},
   "outputs": [],
   "source": []
  },
  {
   "cell_type": "code",
   "execution_count": null,
   "id": "60b54f57-2b34-4562-b4fc-1afc27c0607b",
   "metadata": {},
   "outputs": [],
   "source": []
  },
  {
   "cell_type": "code",
   "execution_count": null,
   "id": "3039207e-c1b2-4e7a-b28c-6727584f5632",
   "metadata": {},
   "outputs": [],
   "source": [
    "# pathname to basin lidar directory\n",
    "pathname = 'Piske_lidar/MRB/Merced_lidar'\n",
    "# save list of all folders\n",
    "all_folders = [x[0] for x in os.walk(pathname)]\n",
    "# list indices of all folders that are called retile\n",
    "index_pos_list = [ i for i in range(len(all_folders)) if (all_folders[i][-6:] == 'retile') ]\n",
    "# list only folders containing the lidar files\n",
    "laz_list = [all_folders[i] for i in index_pos_list]\n",
    "\n",
    "with concurrent.futures.ProcessPoolExecutor(max_workers=3) as executor:\n",
    "    executor.map(create_tindex, laz_list) #this is only returning results (not future objects),  however returns results in order that they were started"
   ]
  },
  {
   "cell_type": "code",
   "execution_count": null,
   "id": "638bd850-7ab7-424f-9d26-c978daa4acb5",
   "metadata": {},
   "outputs": [],
   "source": []
  },
  {
   "cell_type": "code",
   "execution_count": null,
   "id": "6e4e3e91-b7e0-4015-8a98-225915ae8e25",
   "metadata": {},
   "outputs": [],
   "source": [
    "pathname = r'cpiske/lidar_processing/PDAL_testFiles_tutorials/test_las/ICB/ASO_retile/'\n",
    "output_pathname = 'cpiske/lidar_processing/PDAL_testFiles_tutorials/test_las/ICB/ASO_tindex/'\n",
    "onlyfiles = [f for f in os.listdir(pathname) if os.path.isfile(os.path.join(pathname, f))]\n",
    "for file in onlyfiles:\n",
    "    input_las = pathname + file\n",
    "    output_sqlite = output_pathname + file[:-4] + '.sqlite'\n",
    "    boundary_cmd = ['pdal', 'tindex', 'create', '--tindex', output_sqlite, '--filespec', input_las, '-f', 'SQLite']\n",
    "    subprocess.run(boundary_cmd)"
   ]
  },
  {
   "cell_type": "markdown",
   "id": "997da5b9-e0f1-4f0b-861a-ccc97b47152e",
   "metadata": {},
   "source": [
    "Save tiles of all lidar files in lidar ssd"
   ]
  },
  {
   "cell_type": "code",
   "execution_count": null,
   "id": "76b318b9-ab49-4fe0-b03b-d122f5e61411",
   "metadata": {},
   "outputs": [],
   "source": [
    "# Change directory to access ssd\n",
    "os.chdir('/Volumes')\n",
    "os.getcwd()"
   ]
  },
  {
   "cell_type": "code",
   "execution_count": null,
   "id": "2a53e68f-6273-452c-b2d2-97421e6cbafd",
   "metadata": {},
   "outputs": [],
   "source": [
    "pathname = r'Piske_lidar/SCB/lidar/ASO/ASO_20160326/laz/'\n",
    "output_pathname = 'Piske_lidar/SCB/lidar/ASO/ASO_20160326/sqlite/'\n",
    "onlyfiles = [f for f in os.listdir(pathname) if os.path.isfile(os.path.join(pathname, f))]\n",
    "for file in onlyfiles:\n",
    "    input_las = pathname + file\n",
    "    output_sqlite = output_pathname + file[:-4] + '.sqlite'\n",
    "    boundary_cmd = ['pdal', 'tindex', 'create', '--tindex', output_sqlite, '--filespec', input_las, '-f', 'SQLite']\n",
    "    subprocess.run(boundary_cmd)"
   ]
  },
  {
   "cell_type": "code",
   "execution_count": null,
   "id": "e8a7ea80-a51e-4e0b-b386-be55b8a4ba51",
   "metadata": {},
   "outputs": [],
   "source": []
  },
  {
   "cell_type": "code",
   "execution_count": null,
   "id": "32935664-9b09-42fc-8117-098cae21e29e",
   "metadata": {},
   "outputs": [],
   "source": []
  },
  {
   "cell_type": "code",
   "execution_count": null,
   "id": "23ee447e-92c9-48bd-b5c5-6ff084891ca2",
   "metadata": {},
   "outputs": [],
   "source": [
    "# tic = time.perf_counter()\n",
    "# # list all folders in directory\n",
    "# all_folders = [x[0] for x in os.walk('Piske_lidar/MRB/Merced_lidar/NCALM/')]\n",
    "# # list indices of all folders that are called laz\n",
    "# index_pos_list = [ i for i in range(len(all_folders)) if all_folders[i][-3:] == 'laz' ]\n",
    "# # save only those files \n",
    "# laz_list = [all_folders[i] for i in index_pos_list]\n",
    "# for folders in laz_list:\n",
    "#     pathname = folders + '/'\n",
    "#     output_pathname = folders[:-3] + 'sqlite' + '/'\n",
    "#     onlyfiles = [f for f in os.listdir(pathname) if os.path.isfile(os.path.join(pathname, f))]\n",
    "#     for file in onlyfiles:\n",
    "#         input_las = pathname + file\n",
    "#         output_sqlite = output_pathname + file[:-4] + '.sqlite'\n",
    "#         boundary_cmd = ['pdal', 'tindex', 'create', '--tindex', output_sqlite, '--filespec', input_las, '-f', 'SQLite']\n",
    "#         subprocess.run(boundary_cmd)\n",
    "# toc = time.perf_counter()"
   ]
  },
  {
   "cell_type": "markdown",
   "id": "c71a2070-2c2d-4f4d-acc7-2982914f2b81",
   "metadata": {},
   "source": [
    "## Copy files"
   ]
  },
  {
   "cell_type": "code",
   "execution_count": 52,
   "id": "f073a7f7-f2cb-4bfc-a220-5261c4a03627",
   "metadata": {},
   "outputs": [],
   "source": [
    "# copy file based on llx and lly into output filename. Note that this function relies on the assumption that files follow the structure \n",
    "# input_las 'folder1/folder2/folder3a/filename.laz' and output_las 'folder1/folder2/folder3b/filename.laz'\n",
    "# if files are held in a different file structure, code must be changed to accomodate change\n",
    "# input - full path to a las file\n",
    "def copy_las_by_ext_ICB2(full_path):\n",
    "    pdal_info_command = ['pdal', 'info', full_path, '--metadata'] # set up pdal command\n",
    "    pdal_info_results = subprocess.run(pdal_info_command, stdout = subprocess.PIPE) # stout (standard out), PIPE indicates that a new pipe to the child should be created, execute command\n",
    "    pdal_info_dict = json.loads(pdal_info_results.stdout.decode()) # save metadata to dict\n",
    "    minx = round(pdal_info_dict['metadata']['minx'])\n",
    "    miny = round(pdal_info_dict['metadata']['miny'])\n",
    "    if (minx <= 288000 and minx >= 265000):\n",
    "        if (miny >= 4165000 and miny<= 4180000):\n",
    "            input_las = full_path\n",
    "            output_las = os.path.dirname(os.path.realpath(os.path.dirname(os.path.realpath(full_path)))) + '/' + os.path.basename(full_path)\n",
    "            pdal_copy_cmd = ['pdal','translate', input_las, output_las]\n",
    "            subprocess.run(pdal_copy_cmd)\n"
   ]
  },
  {
   "cell_type": "code",
   "execution_count": 9,
   "id": "1f78ecbd-88af-42d9-9ad0-fa217cfb4cbe",
   "metadata": {},
   "outputs": [],
   "source": [
    "tic = time.perf_counter()\n",
    "all_folders = [x[0] for x in os.walk('Piske_lidar/MRB/Merced_lidar/ASO')]\n",
    "# list indices of all folders that are called laz\n",
    "index_pos_list = [ i for i in range(len(all_folders)) if all_folders[i][-6:] == 'retile' ]\n",
    "# save only those files \n",
    "retile_list = [all_folders[i] for i in index_pos_list]\n",
    "for lidar_folder in retile_list:\n",
    "    if __name__ == '__main__':\n",
    "        with concurrent.futures.ProcessPoolExecutor(max_workers=3) as executor:\n",
    "            onlyfiles = [f for f in os.listdir(lidar_folder) if os.path.isfile(os.path.join(lidar_folder, f))]\n",
    "            full_path = [lidar_folder + '/' + s for s in onlyfiles]\n",
    "            executor.map(copy_las_by_ext_ICB, full_path) #running 10 times\n",
    "toc = time.perf_counter()"
   ]
  },
  {
   "cell_type": "markdown",
   "id": "2cc08c8f-e7f2-430a-b8d3-7649064e1287",
   "metadata": {},
   "source": [
    "# Datum Conversions"
   ]
  },
  {
   "cell_type": "markdown",
   "id": "913244f4-51c7-4c8a-ae9c-9f1ed0ccdaab",
   "metadata": {},
   "source": [
    "## Horizontal Datum Conversion"
   ]
  },
  {
   "cell_type": "code",
   "execution_count": null,
   "id": "5b77dbfe-5199-4a43-9231-2b022fe93509",
   "metadata": {},
   "outputs": [],
   "source": [
    "horizontal_datum_conversion = 'lidar_processing/python_scripts/PDAL_workflow/JSON/horizontal_datum_conversion.json'"
   ]
  },
  {
   "cell_type": "markdown",
   "id": "6962fcd5-d9c1-4404-bcf5-caa6e154e838",
   "metadata": {},
   "source": [
    "From PDAL library: https://pdal.io/tutorial/grid-shift.html"
   ]
  },
  {
   "cell_type": "code",
   "execution_count": null,
   "id": "c5003bc4-f36a-4e4c-96f3-5534d0b46fc6",
   "metadata": {
    "tags": []
   },
   "outputs": [],
   "source": [
    "# {\n",
    "#     \"pipeline\": \n",
    "#         [\n",
    "#             {\n",
    "#                  \"type\": \"readers.las\",\n",
    "#                  \"filename\": \"#\"\n",
    "#             },\n",
    "#             {\n",
    "#                  \"type\": \"filters.reprojection\",\n",
    "#                  \"in_srs\": \"EPSG:2193\",\n",
    "#                  \"out_srs\": \"EPSG:2193\"\n",
    "#             },\n",
    "#             {\n",
    "#                  \"type\": \"writers.las\",\n",
    "#                  \"filename\": \"#\",\n",
    "#                  \"a_srs\": \"EPSG:2193\", \n",
    "#                  \"forward\": \"all\"\n",
    "#             }\n",
    "#         ]\n",
    "# }"
   ]
  },
  {
   "cell_type": "code",
   "execution_count": null,
   "id": "7cb3d599-0898-4f70-9035-6a8d5bea7657",
   "metadata": {},
   "outputs": [],
   "source": [
    "# input_las\n",
    "# output_las = \"lidar_processing/PDAL_testFiles_tutorials/test_las/SCB/reproject/20160518_toNAD83/736236_4366272.las\""
   ]
  },
  {
   "cell_type": "code",
   "execution_count": null,
   "id": "e1f9c4d1-c848-4788-873c-b65fe7b70f5e",
   "metadata": {
    "tags": []
   },
   "outputs": [],
   "source": [
    "# reader_dict = {\"type\":\"readers.las\",\n",
    "#                \"filename\":input_las,\n",
    "#               \"spatialreference\":\"EPSG:26910\"}\n",
    "\n",
    "# reproject_dict = {\"type\":\"filters.reprojection\",\n",
    "#         \"in_srs\":\"EPSG:26910\",\n",
    "#         \"out_srs\":\"EPSG:4326\"}\n",
    "# writer_dict = {\"type\":\"writers.las\",\n",
    "#         \"filename\":output_las}\n",
    "\n",
    "# pipeline_list = [reader_dict, reproject_dict, writer_dict]\n",
    "# pipeline_dict = {'pipeline' : pipeline_list}\n",
    "# with open(test_datum_conversion, 'w') as out:\n",
    "#     json.dump(pipeline_dict, out, indent=4)\n",
    "\n"
   ]
  },
  {
   "cell_type": "code",
   "execution_count": null,
   "id": "be52d0f5-f44e-4273-a2b5-6b7939d0521b",
   "metadata": {},
   "outputs": [],
   "source": [
    "reader_dict = {\"type\":\"readers.las\"}\n",
    "\n",
    "reproject_dict = {\"type\":\"filters.reprojection\",\"out_srs\":\"EPSG:26910\"} #\"in_srs\":\"EPSG:8999\"\n",
    "writer_dict = {\"type\":\"writers.las\",\n",
    "               \"a_srs\":\"EPSG:26910\",\n",
    "               \"scale_x\":0.00000001,\n",
    "               \"scale_y\":0.00000001,\n",
    "              \"offset_x\":\"auto\",\n",
    "              \"offset_y\":\"auto\"}\n",
    "\n",
    "pipeline_list = [reader_dict, reproject_dict, writer_dict]\n",
    "pipeline_dict = {'pipeline' : pipeline_list}\n",
    "with open(horizontal_datum_conversion, 'w') as out:\n",
    "    json.dump(pipeline_dict, out, indent=4)\n"
   ]
  },
  {
   "cell_type": "code",
   "execution_count": null,
   "id": "820da99a-637f-438d-bb6d-cfbd5a8bde28",
   "metadata": {},
   "outputs": [],
   "source": [
    "reader_dict = {\"type\":\"readers.las\",\n",
    "              \"filename\":input_reproj_hor}\n",
    "\n",
    "reproject_dict = {\"type\":\"filters.reprojection\",\n",
    "                  \"in_srs\":\"+proj=utm +zone=10 +datum=WGS84 +units=m +no_defs\",\n",
    "                  \"out_srs\":\"EPSG:26910\"} #\"in_srs\":\"EPSG:8999\"\n",
    "writer_dict = {\"type\":\"writers.las\",\n",
    "               \"a_srs\":\"EPSG:26910\",\n",
    "              #  \"scale_x\":0.00000001,\n",
    "              #  \"scale_y\":0.00000001,\n",
    "              # \"offset_x\":\"auto\",\n",
    "              # \"offset_y\":\"auto\",\n",
    "              \"filename\":output_reproj_hor}\n",
    "\n",
    "pipeline_list = [reader_dict, reproject_dict, writer_dict]\n",
    "pipeline_dict = {'pipeline' : pipeline_list}\n",
    "with open(horizontal_datum_conversion, 'w') as out:\n",
    "    json.dump(pipeline_dict, out, indent=4)"
   ]
  },
  {
   "cell_type": "code",
   "execution_count": null,
   "id": "46b8c795-8a92-45bf-b384-4e2545ef7301",
   "metadata": {},
   "outputs": [],
   "source": [
    "input_reproj_hor = 'lidar_processing/PDAL_testFiles_tutorials/test_las/SCB/reproject/ASO_to_NAVD88/mcc_part_b_tile_000_002.laz'\n",
    "output_reproj_hor = 'lidar_processing/PDAL_testFiles_tutorials/test_las/SCB/reproject/ASO_to_NAVD88/test1/apr_test_hor.laz'"
   ]
  },
  {
   "cell_type": "code",
   "execution_count": null,
   "id": "8b55da94-69fa-462b-92f6-34b221cddda8",
   "metadata": {},
   "outputs": [],
   "source": [
    "# Single Files\n",
    "reader = '--readers.las.filename='+input_reproj_hor\n",
    "writer = '--writers.gdal.filename='+output_reproj_hor\n",
    "horizontal_conversion_cmd = ['pdal', 'pipeline', horizontal_datum_conversion]\n",
    "subprocess.run(horizontal_conversion_cmd)"
   ]
  },
  {
   "cell_type": "code",
   "execution_count": null,
   "id": "ea68d94f-6d5f-4571-9cc6-40e70e24cd1e",
   "metadata": {},
   "outputs": [],
   "source": []
  },
  {
   "cell_type": "code",
   "execution_count": null,
   "id": "b143082f-4f07-4cdb-a809-8e4c05763422",
   "metadata": {},
   "outputs": [],
   "source": []
  },
  {
   "cell_type": "code",
   "execution_count": null,
   "id": "e00f6cbd-eb6e-4a04-a4d0-65dcbf5292b9",
   "metadata": {},
   "outputs": [],
   "source": [
    "# converts one file\n",
    "pdal_commands = ['pdal', 'translate', input_reproj_hor, output_reproj_hor, '--json', horizontal_datum_conversion]\n",
    "subprocess.run(pdal_commands)"
   ]
  },
  {
   "cell_type": "code",
   "execution_count": null,
   "id": "8f36233a-b5db-4120-af33-53dd0e9176af",
   "metadata": {},
   "outputs": [],
   "source": [
    "# # converts one file\n",
    "# pdal_commands = ['pdal', 'translate', input_las, output_las, '--json', test_datum_conversion]\n",
    "# subprocess.run(pdal_commands)"
   ]
  },
  {
   "cell_type": "code",
   "execution_count": null,
   "id": "c704d619-668a-4d25-938b-b3b782bf7301",
   "metadata": {},
   "outputs": [],
   "source": [
    "# # converts all the files in a folder\n",
    "# pathname = 'path_to_folder'\n",
    "# output_pathname = \"path_to_folder\"\n",
    "# onlyfiles = [f for f in os.listdir(pathname) if os.path.isfile(os.path.join(pathname, f))]\n",
    "# for file in onlyfiles:\n",
    "#     input_las = pathname + file\n",
    "#     output_las = output_pathname + file\n",
    "#     pdal_commands = ['pdal', 'translate', input_las, output_las, '--json', horizontal_datum_conversion]\n",
    "#     subprocess.run(pdal_commands)"
   ]
  },
  {
   "cell_type": "code",
   "execution_count": null,
   "id": "66d187fc-c890-4f3f-a95e-ca6231333060",
   "metadata": {},
   "outputs": [],
   "source": [
    "# convert datums of all three ASO flights\n",
    "ASO_paths = glob.glob(\"lidar_processing/PDAL_testFiles_tutorials/test_las/SCB/retile/ASO*/\", recursive = True) #create list with only the ASO retiled folders\n",
    "for paths in ASO_paths: # for each flight\n",
    "    # name output using indices of the date in the filename\n",
    "    output_pathname = \"lidar_processing/PDAL_testFiles_tutorials/test_las/SCB/reproject/ASO_to_NAD83/\"+ paths[-9:-1]\n",
    "    onlyfiles = [f for f in os.listdir(paths) if os.path.isfile(os.path.join(paths, f))] #create list with only the ASO retiled files\n",
    "    for file in onlyfiles:    # for each file within the date's retiled output\n",
    "        input_las = paths + file # the input las file is the ASO flight path + the tile's filename\n",
    "        output_las = output_pathname + file # the output las is the same filename\n",
    "        pdal_commands = ['pdal', 'translate', input_las, output_las, '--json', horizontal_datum_conversion]\n",
    "        subprocess.run(pdal_commands)"
   ]
  },
  {
   "cell_type": "markdown",
   "id": "7d367333-36ed-4375-be85-292e1cb5504c",
   "metadata": {},
   "source": [
    "## Vertical Datum Conversion\n",
    "using output of code above"
   ]
  },
  {
   "cell_type": "code",
   "execution_count": null,
   "id": "1d5f05af-5ed3-408b-b691-f84649fa958a",
   "metadata": {},
   "outputs": [],
   "source": [
    "vertical_datum_json = \"lidar_processing/python_scripts/PDAL_workflow/JSON/vertical_datum_conversion.json\""
   ]
  },
  {
   "cell_type": "code",
   "execution_count": null,
   "id": "53dd3ccc-bcf2-468d-9725-dafd82787f2a",
   "metadata": {},
   "outputs": [],
   "source": [
    "reader_dict = {\"type\":\"readers.las\",\n",
    "              \"filename\":input_las_reproj}\n",
    "\n",
    "reproject_dict = {\"type\":\"filters.reprojection\",\n",
    "                  \"in_srs\": \"EPSG:26910\",\n",
    "                  \"out_srs\":\"+init=EPSG:26910 +geoidgrids=/Volumes/cpiske/lidar_processing/PDAL_testFiles_tutorials/test_las/SCB/reproject/g2012bu5.gtx +t_epoch=2014.441\"}\n",
    "                  #\"out_srs\":\"+init=epsg:26910 +geoidgrids=/Volumes/cpiske/lidar_processing/PDAL_testFiles_tutorials/test_las/SCB/reproject/g2012bu5.gtx\"} # change 6339 to 26910\n",
    "\n",
    "writer_dict = {\"type\":\"writers.las\",\n",
    "               \"a_srs\":\"EPSG:26910+5703\",\n",
    "              \"filename\":output_las_reproj}\n",
    "#\"a_srs\":\"EPSG:5703\"}  slightly shifted horizontally?5498\n",
    "\n",
    "pipeline_list = [reader_dict, reproject_dict, writer_dict]\n",
    "pipeline_dict = {'pipeline' : pipeline_list}\n",
    "with open(vertical_datum_json, 'w') as out:\n",
    "    json.dump(pipeline_dict, out, indent=4)\n"
   ]
  },
  {
   "cell_type": "code",
   "execution_count": null,
   "id": "57644130-451b-49a9-90d9-ec322b99eabb",
   "metadata": {},
   "outputs": [],
   "source": [
    "# converts single file\n",
    "input_las_reproj = 'lidar_processing/PDAL_testFiles_tutorials/test_las/SCB/reproject/ASO_to_NAVD88/test1/apr_test_hor.laz'\n",
    "output_las_reproj = 'lidar_processing/PDAL_testFiles_tutorials/test_las/SCB/reproject/ASO_to_NAVD88/test1/apr_test_vert.laz'"
   ]
  },
  {
   "cell_type": "code",
   "execution_count": null,
   "id": "7360f6de-a55a-4d57-be83-55d55d9e8d61",
   "metadata": {},
   "outputs": [],
   "source": [
    "vertical_datum_conversion = ['pdal', 'pipeline', vertical_datum_json]\n",
    "subprocess.run(vertical_datum_conversion)"
   ]
  },
  {
   "cell_type": "code",
   "execution_count": null,
   "id": "0fc17c1e-6639-48a3-918b-75bab54872ad",
   "metadata": {},
   "outputs": [],
   "source": [
    "# # converts all the files in a folder\n",
    "# pathname = 'path_to_folder'\n",
    "# output_pathname = \"path_to_folder\"\n",
    "# onlyfiles = [f for f in os.listdir(pathname) if os.path.isfile(os.path.join(pathname, f))]\n",
    "# for file in onlyfiles:\n",
    "#     input_las = pathname + file\n",
    "#     output_las = output_pathname + file\n",
    "#     pdal_commands = ['pdal', 'translate', input_las, output_las, '--json', vertical_datum_json]\n",
    "#     subprocess.run(pdal_commands)"
   ]
  },
  {
   "cell_type": "code",
   "execution_count": null,
   "id": "e38d436e-7ca3-4dd4-b9e0-8d469a4b40f1",
   "metadata": {},
   "outputs": [],
   "source": [
    "# tic = time.perf_counter()\n",
    "# # convert datums of all three ASO flights - will get warnings about deprecated crs\n",
    "# ASO_paths_vert = glob.glob(\"lidar_processing/PDAL_testFiles_tutorials/test_las/SCB/reproject/ASO_to_NAD83/*/\", recursive = True) #create list with only the ASO retiled folders\n",
    "# for paths in ASO_paths: # for each flight\n",
    "#     # name output using indices of the date in the filename\n",
    "#     output_pathname = \"lidar_processing/PDAL_testFiles_tutorials/test_las/SCB/reproject/ASO_to_NAVD88/\"+ paths[-9:]\n",
    "#     onlyfiles = [f for f in os.listdir(paths) if os.path.isfile(os.path.join(paths, f))] #create list with only the ASO retiled files\n",
    "#     for file in onlyfiles:    # for each file within the date's retiled output\n",
    "#         input_las = paths + file # the input las file is the ASO flight path + the tile's filename\n",
    "#         output_las = output_pathname + file # the output las is the same filename\n",
    "#         pdal_commands = ['pdal', 'translate', input_las, output_las, '--json', vertical_datum_json]\n",
    "#         subprocess.run(pdal_commands)\n",
    "# toc = time.perf_counter() # 51 min"
   ]
  },
  {
   "cell_type": "code",
   "execution_count": null,
   "id": "7b70694f-85f2-4bf5-87ba-36c0c9bf8b99",
   "metadata": {},
   "outputs": [],
   "source": []
  },
  {
   "cell_type": "markdown",
   "id": "3608299f-146c-46d5-84bf-2e4d9425eb40",
   "metadata": {},
   "source": [
    "# Ground Filter\n",
    "Modified from https://pdal.io/tutorial/ground-filters.html <br>\n",
    "Bradley Chambers"
   ]
  },
  {
   "cell_type": "code",
   "execution_count": null,
   "id": "00b0bd05-cff5-4913-9f47-09ba51b355bb",
   "metadata": {},
   "outputs": [],
   "source": [
    "# name JSON file\n",
    "gf_json = 'lidar_processing/python_scripts/PDAL_workflow/JSON/ground_filter_tutorial.json'"
   ]
  },
  {
   "cell_type": "code",
   "execution_count": null,
   "id": "3a1c3714-9583-458e-9b08-f8fbe7b257c7",
   "metadata": {},
   "outputs": [],
   "source": [
    "# name JSON file\n",
    "output_json = 'lidar_processing/python_scripts/PDAL_workflow/JSON/ground_filter_tutorial.json'\n",
    "\n",
    "# create a pipeline and save to a json file \n",
    "#last_val = True\n",
    "filter_dict_reproj = {'type':'filters.reprojection', #PDAL’s default parameters are specified in meters, and individual filter stages typically assume that units are at least uniform in X, Y, and Z. Because data will not always be provided in this way, PDAL pipelines should account for any data reprojections and parameter scaling that are required from one dataset to the next\n",
    "                      'in_srs':'EPSG:26910',\n",
    "                      'out_srs': \"EPSG:26910\",}\n",
    "\n",
    "filter_dict_assign = {'type':'filters.assign', # set the value of a dimension for all points to a provided value that pass a range filter\n",
    "                      \"assignment\":\"Classification[:]=0\"} #  single option has been provided that specifies the dimension, range, and value to assign. In this case, we are stating that we would like to apply a value of 0 to the Classification dimension for every point\n",
    "\n",
    "filter_dict_elm = {'type':'filters.elm'} # identify low noise points that can adversely affect ground segmentation algorithms, automatically assigns value of 7 \n",
    "\n",
    "filter_dict_outlier = {'type':'filters.outlier'} #  two methods of outlier detection at the moment: radius and statistical. Both aim to identify points that are isolated and likely arise from noise sources, classify values as 7\n",
    "# classify ground points\n",
    "filter_dict_smrf = {\"type\":\"filters.smrf\",\n",
    "                    \"ignore\":\"Classification[7:7]\"}#, # ignore outliers\n",
    "                    #\"slope\":0.3,\n",
    "                    #\"window\":16,\n",
    "                    #\"threshold\":0.15,\n",
    "                    #\"scalar\":1.2}\n",
    "\n",
    "filter_dict_range = {\"type\":\"filters.range\",\n",
    "                    \"limits\":\"Classification[2:2]\"}\n",
    "#output_las = \"lidar_processing/python_scripts/PDAL/test_las/ncalm_2014_732000_4373000_GFtutorial.las\"\n",
    "\n",
    "\n",
    "pipeline_list = [filter_dict_reproj,filter_dict_assign,filter_dict_elm, filter_dict_outlier, filter_dict_smrf, filter_dict_range]\n",
    "pipeline_dict = {'pipeline' : pipeline_list}\n",
    "with open(gf_json, 'w') as out:\n",
    "    json.dump(pipeline_dict, out, indent=4)"
   ]
  },
  {
   "cell_type": "code",
   "execution_count": null,
   "id": "9c33c74d-d2ea-4494-aa21-59b5836da496",
   "metadata": {},
   "outputs": [],
   "source": [
    "pdal_commands = ['pdal', 'translate', 'lidar_processing/PDAL_testFiles_tutorials/test_las/SCB/NCALM_testFiles/ot_736000_4363000.laz', \"lidar_processing/PDAL_testFiles_tutorials/test_las/SCB/ground_filtered/NCALM/test/ot_736000_4363000.laz\", '--json', output_json]\n",
    "subprocess.run(pdal_commands)"
   ]
  },
  {
   "cell_type": "code",
   "execution_count": null,
   "id": "404e5c4f-3325-4e90-9e92-73979151f60d",
   "metadata": {},
   "outputs": [],
   "source": [
    "pathname = 'lidar_processing/PDAL_testFiles_tutorials/test_las/SCB/retile/NCALM_2014/'\n",
    "output_pathname = \"lidar_processing/PDAL_testFiles_tutorials/test_las/SCB/ground_filtered/NCALM/\"\n",
    "onlyfiles = [f for f in os.listdir(pathname) if os.path.isfile(os.path.join(pathname, f))]\n",
    "for file in onlyfiles:\n",
    "    input_las = pathname + file\n",
    "    output_las = output_pathname + file\n",
    "    pdal_commands = ['pdal', 'translate', input_las, output_las, '--json', gf_json]\n",
    "    subprocess.run(pdal_commands)"
   ]
  },
  {
   "cell_type": "code",
   "execution_count": null,
   "id": "72aa2cbe-3e21-4a22-918e-2da81451d6a3",
   "metadata": {},
   "outputs": [],
   "source": [
    "#gf_tutorial_command = ['pdal', 'translate', input_las, output_las, '--json', 'lidar_processing/python_scripts/PDAL_workflow/JSON/ground_filter_tutorial.json']"
   ]
  },
  {
   "cell_type": "code",
   "execution_count": null,
   "id": "48bc4693-cf8e-4ddb-9a0c-e0e5d8db0bb9",
   "metadata": {},
   "outputs": [],
   "source": [
    "#subprocess.run(gf_tutorial_command)"
   ]
  },
  {
   "cell_type": "code",
   "execution_count": null,
   "id": "cc668165-6065-417a-8496-36077246f227",
   "metadata": {},
   "outputs": [],
   "source": [
    "# for i in [0, 1, 2, 3, 4, 5]:\n",
    "#     input_las = 'lidar_processing/PDAL_testFiles_tutorials/test_las/SCB/ASO_testFiles/NAD83_NAVD88/20160518/mcc_part_b_tile_004_00'+str(i) + '.las'\n",
    "#     output_las = 'lidar_processing/PDAL_testFiles_tutorials/test_las/SCB/ground_filtered/ASO_20160518/mcc_part_b_tile_004_00'+str(i)+'.las'\n",
    "#     gf_tutorial_command = ['pdal', 'translate', input_las, output_las, '--json', 'lidar_processing/python_scripts/PDAL_workflow/JSON/ground_filter_tutorial.json']\n",
    "#     subprocess.run(gf_tutorial_command)"
   ]
  },
  {
   "cell_type": "markdown",
   "id": "4f5d8d12-ab95-4eae-82ea-4c9cc49ad718",
   "metadata": {},
   "source": [
    "### Pre-classified ground filter"
   ]
  },
  {
   "cell_type": "code",
   "execution_count": null,
   "id": "b188f6d2-0f8d-4aab-90c4-e86f024ef402",
   "metadata": {},
   "outputs": [],
   "source": [
    "range_json = 'lidar_processing/python_scripts/PDAL_workflow/JSON/ground_filter_preClassified.json'\n",
    "filter_range = {\"type\":\"filters.range\",\n",
    "                \"limits\":\"Classification[2:2]\"}\n",
    "pipeline_list = [filter_range]\n",
    "pipeline_dict = {'pipeline' : pipeline_list}\n",
    "with open(range_json, 'w') as out:\n",
    "    json.dump(pipeline_dict, out, indent=4)"
   ]
  },
  {
   "cell_type": "code",
   "execution_count": null,
   "id": "0aea2950-4175-4d41-976a-4cebe29a9709",
   "metadata": {},
   "outputs": [],
   "source": [
    "input_las = 'lidar_processing/PDAL_testFiles_tutorials/test_las/ICB/ncalm_18/merged.laz'\n",
    "output_las = 'lidar_processing/PDAL_testFiles_tutorials/test_las/ICB/ncalm_18_gf/ncalm_gf.laz'"
   ]
  },
  {
   "cell_type": "code",
   "execution_count": null,
   "id": "a611e7d2-02f1-497c-b16a-bad4ad7c2e31",
   "metadata": {},
   "outputs": [],
   "source": [
    "range_cmd = ['pdal', 'translate', input_las,  output_las, '--json',range_json]\n",
    "subprocess.run(range_cmd)"
   ]
  },
  {
   "cell_type": "markdown",
   "id": "a96d8471-c3d2-4d8c-8399-80123ec762f3",
   "metadata": {},
   "source": [
    "# Clip to Polygon"
   ]
  },
  {
   "cell_type": "markdown",
   "id": "0e9c65aa-b334-4894-8d1d-1897eb04b52c",
   "metadata": {},
   "source": [
    "## Move files\n",
    "Make a copy of road covered tiles. <br>\n",
    "The spatial extents of the road polygon are 738382,4371452 : 738686,4372063 <br>\n",
    "chose only files with a min x > 737000 and a min y > 4370000"
   ]
  },
  {
   "cell_type": "code",
   "execution_count": null,
   "id": "f5818571-a968-43f1-9514-6ef591da593a",
   "metadata": {},
   "outputs": [],
   "source": [
    "# defining source and destination\n",
    "# paths\n",
    "src = 'lidar_processing/PDAL_testFiles_tutorials/test_las/SCB/reproject/ASO_to_NAVD88/20160518/*.las'\n",
    "trg = 'lidar_processing/PDAL_testFiles_tutorials/test_las/SCB/clipped/ASO_20160518'\n",
    "file_paths = glob.glob(src)\n",
    "\n",
    "for files in file_paths:\n",
    "    filename = os.path.basename(files)\n",
    "    if int(files[-18:-12]) > 737000 and int(files[-11:-4]) > 4370000:\n",
    "    # copying the files to the\n",
    "    # destination directory\n",
    "        shutil.copy2(files, trg)"
   ]
  },
  {
   "cell_type": "markdown",
   "id": "d86d7eee-ca20-4316-8770-9caf004b2983",
   "metadata": {},
   "source": [
    "## Merge\n",
    "Merge files over the road"
   ]
  },
  {
   "cell_type": "code",
   "execution_count": null,
   "id": "c9f6826d-3347-4e0a-8417-9b5d02ab6d06",
   "metadata": {},
   "outputs": [],
   "source": [
    "output_fname = 'lidar_processing/PDAL_testFiles_tutorials/test_las/ICB/ncalm_18/merged.laz'# set output filename\n",
    "input_path = 'lidar_processing/PDAL_testFiles_tutorials/test_las/ICB/ncalm_18/*.laz' # define path of input files\n",
    "input_fname = glob.glob(input_path) # save to list\n",
    "pdal_merge_command = input_fname\n",
    "pdal_merge_command.insert(len(pdal_merge_command),output_fname) # insert output file to list\n",
    "#pdal_merge_command.insert(0,'-f')\n",
    "pdal_merge_command.insert(0,'merge')\n",
    "pdal_merge_command.insert(0,'pdal')"
   ]
  },
  {
   "cell_type": "code",
   "execution_count": null,
   "id": "7e970b1c-5350-4c14-8f57-b150354f3b22",
   "metadata": {},
   "outputs": [],
   "source": [
    "#pdal_merge_command = ['pdal','merge', '-f',input_fname]\n",
    "subprocess.run(pdal_merge_command)"
   ]
  },
  {
   "cell_type": "markdown",
   "id": "bc9bd53f-151f-4372-a350-b0508ebdd129",
   "metadata": {},
   "source": [
    "## Clip"
   ]
  },
  {
   "cell_type": "code",
   "execution_count": null,
   "id": "e4dff30f-58d1-4fde-a8f7-fbc43e6d52c6",
   "metadata": {},
   "outputs": [],
   "source": [
    "# name JSON file\n",
    "clip_json = 'lidar_processing/python_scripts/PDAL_workflow/JSON/clip_to_geometries.json'"
   ]
  },
  {
   "cell_type": "code",
   "execution_count": null,
   "id": "4fa11d72-f70c-41b5-9fde-1e6b9d78ebf0",
   "metadata": {},
   "outputs": [],
   "source": [
    "# extract wkt from hwy 89 polygon\n",
    "hwy89 = shapefile.Reader(\"SCB/bounding_box/hwy89_poly.shp\")\n",
    "geom=[]\n",
    "for s in hwy89.shapes():\n",
    "    geom.append(pygeoif.geometry.as_shape(s)) \n",
    "poly_base = pygeoif.MultiPolygon(geom)"
   ]
  },
  {
   "cell_type": "code",
   "execution_count": null,
   "id": "2c812914-fe1f-4e42-ac6b-9d536fcb52c9",
   "metadata": {},
   "outputs": [],
   "source": [
    "# create a pipeline and save to a json file \n",
    "filter_crop = {'type':'filters.crop',\n",
    "                 'polygon':poly_base.wkt}\n",
    "pipeline_list = [filter_crop]\n",
    "pipeline_dict = {'pipeline' : pipeline_list}\n",
    "with open(clip_json, 'w') as out:\n",
    "    json.dump(pipeline_dict, out, indent=4)"
   ]
  },
  {
   "cell_type": "code",
   "execution_count": null,
   "id": "73dfc3f7-20f5-44f3-a084-4281a567be60",
   "metadata": {},
   "outputs": [],
   "source": [
    "input_las = 'lidar_processing/PDAL_testFiles_tutorials/test_las/SCB/clipped/NCALM_2014/merged.laz'\n",
    "output_las = 'lidar_processing/PDAL_testFiles_tutorials/test_las/SCB/clipped/NCALM_2014/NCALM_2014_clipped.laz'"
   ]
  },
  {
   "cell_type": "code",
   "execution_count": null,
   "id": "9d09b842-a504-4bab-8c81-8af8d202f3c7",
   "metadata": {},
   "outputs": [],
   "source": [
    "pdal_commands = ['pdal', 'translate', input_las, output_las, '--json', clip_json]\n",
    "subprocess.run(pdal_commands)"
   ]
  },
  {
   "cell_type": "markdown",
   "id": "ac510a23-ebbd-4fc6-80b6-176f87ffe69b",
   "metadata": {},
   "source": [
    "## HAG\n",
    "\n",
    "pipeline json file isn't working to add a dimension but the regular writers option does work"
   ]
  },
  {
   "cell_type": "code",
   "execution_count": null,
   "id": "3e7ce4a1-cd8b-45be-999f-cdbfcd189415",
   "metadata": {},
   "outputs": [],
   "source": [
    "# name JSON file\n",
    "hag_json = 'lidar_processing/python_scripts/PDAL_workflow/JSON/height_above_ground.json'\n",
    "dem_tif = 'SCB/NCALM_2014_bulk_be/NCALM_2014_be/east_HD1_241.TIF'"
   ]
  },
  {
   "cell_type": "code",
   "execution_count": null,
   "id": "6c66db3a-6c39-49ad-bf3f-014cd494b060",
   "metadata": {},
   "outputs": [],
   "source": [
    "# this works best with the ferry filter as it allows files to be specified at the command line\n",
    "# if we want to add a dimension using a writer filter, files must be specified within the pipeline\n",
    "reader_las = {\"type\":\"readers.las\",\n",
    "             \"filename\":input_las_hag}\n",
    "filter_hag = {\"type\":\"filters.hag_dem\",\n",
    "              \"raster\":dem_tif,\n",
    "              \"zero_ground\":\"false\"}\n",
    "filter_writer = {\"type\":\"writers.las\",\n",
    "                 \"extra_dims\":\"HeightAboveGround=float32\",\n",
    "                \"filename\":output_las_hag}\n",
    "filter_ferry = {\"type\":\"filters.ferry\",\n",
    "                \"dimensions\":\"HeightAboveGround=>Z\"}\n",
    "pipeline_list = [reader_las, filter_hag, filter_ferry]\n",
    "pipeline_dict = {'pipeline' : pipeline_list}\n",
    "with open(hag_json, 'w') as out:\n",
    "    json.dump(pipeline_dict, out, indent=4)"
   ]
  },
  {
   "cell_type": "code",
   "execution_count": null,
   "id": "950a33c5-b1ab-41a1-ba2e-3412efb89542",
   "metadata": {},
   "outputs": [],
   "source": [
    "# # this works\n",
    "# output_las_hag = 'lidar_processing/PDAL_testFiles_tutorials/test_las/SCB/vertical_bias/rasterize/ASO_20160417_hag_newDim.laz'\n",
    "# hag_addDim = ['pdal', 'translate', input_las_hag, output_las_hag, 'hag_dem', '--filters.hag_dem.raster=SCB/NCALM_2014_bulk_be/NCALM_2014_be/east_HD1_241.TIF', '--writers.las.extra_dims=HeightAboveGround=float32']\n",
    "# subprocess.run(hag_addDim)"
   ]
  },
  {
   "cell_type": "code",
   "execution_count": null,
   "id": "ca8b41a0-d437-4220-a366-79c6eb3f654a",
   "metadata": {},
   "outputs": [],
   "source": [
    "# converts single file\n",
    "input_las_hag = 'lidar_processing/PDAL_testFiles_tutorials/test_las/SCB/clipped/ASO_20160518/ASO_20160518_clipped.las'\n",
    "output_las_hag = 'lidar_processing/PDAL_testFiles_tutorials/test_las/SCB/vertical_bias/ASO_20160518/ASO_20160518_hag.las'\n",
    "pdal_commands = ['pdal', 'translate', input_las_hag, output_las_hag, '--json', hag_json]\n",
    "subprocess.run(pdal_commands)"
   ]
  },
  {
   "cell_type": "code",
   "execution_count": null,
   "id": "e88ae247-0f7d-4029-8912-7024bfc3b841",
   "metadata": {},
   "outputs": [],
   "source": []
  },
  {
   "cell_type": "markdown",
   "id": "0624558b-84f7-41c6-90ad-420c4354ec39",
   "metadata": {},
   "source": [
    "## Calculate lowest 10th percentile"
   ]
  },
  {
   "cell_type": "markdown",
   "id": "ff835d6a-2fc7-45de-aa3a-98e3118dc39f",
   "metadata": {},
   "source": [
    "### Convert file to text"
   ]
  },
  {
   "cell_type": "code",
   "execution_count": null,
   "id": "eead7b62-a6bb-4356-aecc-f92013047563",
   "metadata": {},
   "outputs": [],
   "source": [
    "writer_text_json = 'lidar_processing/python_scripts/PDAL_workflow/JSON/writer_text.json'"
   ]
  },
  {
   "cell_type": "code",
   "execution_count": null,
   "id": "64228275-2c32-4fb3-932e-8673d50640e6",
   "metadata": {},
   "outputs": [],
   "source": [
    "reader_las = {\"type\":\"readers.las\",\n",
    "              \"filename\":input_las_txt}\n",
    "writer_text = {\"type\":\"writers.text\",\n",
    "               \"format\":\"csv\",\n",
    "               \"order\":\"Z\",\n",
    "               \"keep_unspecified\":\"false\",\n",
    "               \"filename\":output_las_txt}\n",
    "pipeline_list = [reader_las, writer_text]\n",
    "pipeline_dict = {'pipeline' : pipeline_list}\n",
    "with open(writer_text_json, 'w') as out:\n",
    "    json.dump(pipeline_dict, out, indent=4)"
   ]
  },
  {
   "cell_type": "code",
   "execution_count": null,
   "id": "19d14d31-27f4-43a6-aafb-c0022bf6fa81",
   "metadata": {},
   "outputs": [],
   "source": [
    "# either use this with files specified in the pipeline\n",
    "txt_cmd = ['pdal','pipeline',writer_text_json]\n",
    "subprocess.run(txt_cmd)"
   ]
  },
  {
   "cell_type": "markdown",
   "id": "4f9f46e6-7e8d-456c-bdfb-2f2640f748b9",
   "metadata": {},
   "source": [
    "We'll use this workflow for now"
   ]
  },
  {
   "cell_type": "code",
   "execution_count": null,
   "id": "67c5e7c1-507a-4d9c-850b-c258f787bc06",
   "metadata": {},
   "outputs": [],
   "source": [
    "# or use this with no pipeline\n",
    "input_las_txt = output_las_hag\n",
    "output_las_txt = 'lidar_processing/PDAL_testFiles_tutorials/test_las/SCB/vertical_bias/ASO_20160518/ASO_20160518_hag.csv'\n",
    "txt_cmd = ['pdal', 'translate', input_las_txt, output_las_txt, '-w', 'writers.text', '--writers.text.format=csv','--writers.text.order=Z','--writers.text.keep_unspecified=false']\n",
    "subprocess.run(txt_cmd)"
   ]
  },
  {
   "cell_type": "markdown",
   "id": "ff93bcd6-1f96-4a80-8d7a-ba68c5f79c54",
   "metadata": {},
   "source": [
    "### read text and calculate lowest 10th percentile"
   ]
  },
  {
   "cell_type": "code",
   "execution_count": null,
   "id": "ac807cac-b300-4f45-99fb-28636e73f866",
   "metadata": {},
   "outputs": [],
   "source": [
    "# # input - path to csv file\n",
    "# def calculate_vertical_bias(input_text_file):\n",
    "#     hag_arr = np.loadtxt(output_las_txt,skiprows=1)\n",
    "#     lowest_10th_per = np.nanpercentile(hag_arr, 10)\n",
    "#     mean_hag = np.nanmean(hag_arr)\n",
    "#     median_hag = np.nanmedian(hag_arr)\n",
    "#     stats = [\"lowest_10th\",lowest_10th_per, \"mean\",mean_hag, \"median\", median_hag]\n",
    "#     return(stats)"
   ]
  },
  {
   "cell_type": "code",
   "execution_count": null,
   "id": "bbe0cd43-447f-40c8-9bd1-73711bfbe4cd",
   "metadata": {},
   "outputs": [],
   "source": [
    "ASO_20160326_hwy89_stats = calculate_vertical_bias(output_las_txt)\n",
    "ASO_20160417_hwy89_stats = calculate_vertical_bias(output_las_txt)\n",
    "ASO_20160518_hwy89_stats = calculate_vertical_bias(output_las_txt)"
   ]
  },
  {
   "cell_type": "code",
   "execution_count": null,
   "id": "c724eab8-e366-4c29-a3d0-33d69b753df8",
   "metadata": {},
   "outputs": [],
   "source": [
    "NCALM_2014_hwy89_stats = calculate_vertical_bias(output_las_txt)\n",
    "NCALM_2014_hwy89_stats"
   ]
  },
  {
   "cell_type": "code",
   "execution_count": null,
   "id": "6670984d-73d8-462e-b036-31e6d3dd2015",
   "metadata": {},
   "outputs": [],
   "source": [
    "print(ASO_20160326_hwy89_stats)\n",
    "print(ASO_20160417_hwy89_stats)\n",
    "print(ASO_20160518_hwy89_stats)"
   ]
  },
  {
   "cell_type": "code",
   "execution_count": null,
   "id": "6dfe977b-b130-447f-a776-6a97a1aa9836",
   "metadata": {},
   "outputs": [],
   "source": [
    "# input_las - las file clipped to the road\n",
    "# output_path - path to output files\n",
    "# base_name - string, typically flight name\n",
    "def calculate_vertical_bias(input_las, output_path, base_name):\n",
    "    # compute height above DEM (hag)\n",
    "    input_las_hag = input_las\n",
    "    output_las_hag = output_path + base_name +'_hag'+input_las[-4:]\n",
    "    subprocess.run(['pdal', 'translate', input_las_hag, output_las_hag, '--json', hag_json])\n",
    "    # convert height only to txt file\n",
    "    input_las_txt = output_las_hag\n",
    "    output_las_txt = output_path + base_name +'_hag.csv'\n",
    "    txt_cmd = ['pdal', 'translate', input_las_txt, output_las_txt, '-w', 'writers.text', '--writers.text.format=csv','--writers.text.order=Z','--writers.text.keep_unspecified=false']\n",
    "    subprocess.run(txt_cmd)\n",
    "    # calculate stats\n",
    "    hag_arr = np.loadtxt(output_las_txt,skiprows=1)\n",
    "    lowest_10th_per = np.nanpercentile(hag_arr, 10)\n",
    "    mean_hag = np.nanmean(hag_arr)\n",
    "    median_hag = np.nanmedian(hag_arr)\n",
    "    stats = [\"lowest_10th\",lowest_10th_per, \"mean\",mean_hag, \"median\", median_hag]\n",
    "    return(stats)"
   ]
  },
  {
   "cell_type": "code",
   "execution_count": null,
   "id": "97306190-379a-4642-8ada-38353dd14bf6",
   "metadata": {},
   "outputs": [],
   "source": [
    "ASO_20160326_hwy89_stats = calculate_vertical_bias('lidar_processing/PDAL_testFiles_tutorials/test_las/SCB/clipped/ASO_20160326/ASO_20160326_clipped.laz', 'lidar_processing/PDAL_testFiles_tutorials/test_las/SCB/vertical_bias/ASO_20160326/', 'ASO_2060326')\n",
    "ASO_20160417_hwy89_stats = calculate_vertical_bias('lidar_processing/PDAL_testFiles_tutorials/test_las/SCB/clipped/ASO_20160417/ASO_20160417_clipped.laz', 'lidar_processing/PDAL_testFiles_tutorials/test_las/SCB/vertical_bias/ASO_20160417/', 'ASO_2060417')\n",
    "ASO_20160518_hwy89_stats = calculate_vertical_bias('lidar_processing/PDAL_testFiles_tutorials/test_las/SCB/clipped/ASO_20160518/ASO_20160518_clipped.las', 'lidar_processing/PDAL_testFiles_tutorials/test_las/SCB/vertical_bias/ASO_20160518/', 'ASO_2060518')\n",
    "NCALM_2014_hwy89_stats = calculate_vertical_bias('lidar_processing/PDAL_testFiles_tutorials/test_las/SCB/clipped/NCALM_2014/NCALM_2014_clipped.laz', 'lidar_processing/PDAL_testFiles_tutorials/test_las/SCB/vertical_bias/NCALM_2014/', 'NCALM_2014')\n"
   ]
  },
  {
   "cell_type": "code",
   "execution_count": null,
   "id": "71d539e5-dac9-4ccb-bf1e-68bcd79fefe0",
   "metadata": {},
   "outputs": [],
   "source": [
    "print(ASO_20160326_hwy89_stats)\n",
    "print(ASO_20160417_hwy89_stats)\n",
    "print(ASO_20160518_hwy89_stats)\n",
    "print(NCALM_2014_hwy89_stats)"
   ]
  },
  {
   "cell_type": "markdown",
   "id": "be8d4de4-992b-45d8-8595-85fa88beaa84",
   "metadata": {},
   "source": [
    "## Correct ASO files"
   ]
  },
  {
   "cell_type": "code",
   "execution_count": null,
   "id": "32163a7c-524e-4db3-a827-9e59b11c027f",
   "metadata": {},
   "outputs": [],
   "source": [
    "assign_json = 'lidar_processing/python_scripts/PDAL_workflow/JSON/assign.json'\n",
    "filter_assign = {\"type\":\"filters.assign\",\n",
    "                 \"value\":\"Z = Z + output_stats[1]\"}\n",
    "pipeline_list = [filter_assign]\n",
    "pipeline_dict = {'pipeline' : pipeline_list}\n",
    "with open(assign_json, 'w') as out:\n",
    "    json.dump(pipeline_dict, out, indent=4)"
   ]
  },
  {
   "cell_type": "markdown",
   "id": "0d1051c8-91d9-4f5a-ac1f-264802882b41",
   "metadata": {},
   "source": [
    "# Vegetation Classifications"
   ]
  },
  {
   "cell_type": "markdown",
   "id": "81614cae-04f2-4b5e-ac6c-bddedfe0ad9d",
   "metadata": {},
   "source": [
    "## HAG"
   ]
  },
  {
   "cell_type": "code",
   "execution_count": null,
   "id": "fab65f9a-5992-49ae-8593-a29fdd88646c",
   "metadata": {},
   "outputs": [],
   "source": [
    "HAG_json = 'lidar_processing/python_scripts/PDAL_workflow/JSON/heigh_above_ground_vegStrata.json'"
   ]
  },
  {
   "cell_type": "code",
   "execution_count": null,
   "id": "10ca73ed-543d-4024-a9fe-8dfa8331795d",
   "metadata": {},
   "outputs": [],
   "source": [
    "# convert all z values to the height above ground \n",
    "filter_hag = {\"type\":\"filters.hag_dem\",\n",
    "              \"raster\":'SCB/NCALM_2014_bulk_be/NCALM_2014_be/merge/mergedDEM.tif',\n",
    "              \"zero_ground\":\"false\"}\n",
    "filter_ferry = {\"type\":\"filters.ferry\",\n",
    "                \"dimensions\":\"HeightAboveGround=>Z\"}\n",
    "pipeline_list = [filter_hag, filter_ferry]\n",
    "pipeline_dict = {'pipeline' : pipeline_list}\n",
    "with open(HAG_json, 'w') as out:\n",
    "    json.dump(pipeline_dict, out, indent=4)"
   ]
  },
  {
   "cell_type": "code",
   "execution_count": null,
   "id": "29bf20f6-87b2-4c2e-9e5a-3805f6d26a89",
   "metadata": {},
   "outputs": [],
   "source": [
    "pathname = \"lidar_processing/PDAL_testFiles_tutorials/test_las/SCB/NCALM_testFiles/laz/\"\n",
    "output_pathname = \"lidar_processing/PDAL_testFiles_tutorials/test_las/SCB/veg_classes_originalNCALM/HAG/\"\n",
    "onlyfiles = [f for f in os.listdir(pathname) if os.path.isfile(os.path.join(pathname, f))]"
   ]
  },
  {
   "cell_type": "code",
   "execution_count": null,
   "id": "1ca7e00f-9986-4dd0-af5f-c8675054d9d1",
   "metadata": {},
   "outputs": [],
   "source": [
    "# multiple files\n",
    "pathname = \"lidar_processing/PDAL_testFiles_tutorials/test_las/SCB/NCALM_testFiles/laz/\"\n",
    "output_pathname = \"lidar_processing/PDAL_testFiles_tutorials/test_las/SCB/veg_classes_originalNCALM/HAG/\"\n",
    "onlyfiles = [f for f in os.listdir(pathname) if os.path.isfile(os.path.join(pathname, f))]\n",
    "for file in onlyfiles:\n",
    "    input_las = pathname + file\n",
    "    output_las = output_pathname + file\n",
    "    HAG_cmd = ['pdal', 'translate',input_las, output_las, '--json', HAG_json]\n",
    "    subprocess.run(HAG_cmd)"
   ]
  },
  {
   "cell_type": "markdown",
   "id": "a258e327-f92a-4f57-9d24-c216f1f89230",
   "metadata": {},
   "source": [
    "## Filter By Veg Strata\n",
    "Note that there are no ground points above 2m"
   ]
  },
  {
   "cell_type": "code",
   "execution_count": null,
   "id": "e64d4c4d-c510-45e1-9dc6-affc6e0a7bc6",
   "metadata": {},
   "outputs": [],
   "source": [
    "range_json = 'lidar_processing/python_scripts/PDAL_workflow/JSON/filter_range_neg0pt15_0pt15.json'\n",
    "filter_range = {\"type\":\"filters.range\",\n",
    "                \"limits\":\"Z[-0.15:0.15)\"}\n",
    "pipeline_list = [filter_range]\n",
    "pipeline_dict = {'pipeline' : pipeline_list}\n",
    "with open(range_json, 'w') as out:\n",
    "    json.dump(pipeline_dict, out, indent=4)"
   ]
  },
  {
   "cell_type": "code",
   "execution_count": null,
   "id": "5edde846-02f4-4983-821a-c76e1db03cf4",
   "metadata": {},
   "outputs": [],
   "source": [
    "tic = time.perf_counter()\n",
    "pathname = \"lidar_processing/PDAL_testFiles_tutorials/test_las/SCB/NCALM_testFiles/laz/\"\n",
    "output_pathname = 'lidar_processing/PDAL_testFiles_tutorials/test_las/SCB/veg_classes_originalNCALM/nonground/laz/'\n",
    "onlyfiles = [f for f in os.listdir(pathname) if os.path.isfile(os.path.join(pathname, f))]\n",
    "for file in onlyfiles:\n",
    "    input_las = pathname + file\n",
    "    output_las = output_pathname + file\n",
    "    strata_cmd = ['pdal', 'translate', input_las,  output_las, '--json',range_json]\n",
    "    subprocess.run(strata_cmd)\n",
    "toc = time.perf_counter()"
   ]
  },
  {
   "cell_type": "code",
   "execution_count": null,
   "id": "c1c0dd42-a603-4517-b5c5-c4e1e84a4099",
   "metadata": {},
   "outputs": [],
   "source": [
    "filter_range_2_nonground = 'lidar_processing/python_scripts/PDAL_workflow/JSON/filter_range_2_nonground.json'\n",
    "filter_range_2_ground = 'lidar_processing/python_scripts/PDAL_workflow/JSON/filter_range_2_ground.json'\n",
    "filter_range_2 = 'lidar_processing/python_scripts/PDAL_workflow/JSON/filter_range_2.json'\n",
    "filter_range_neg0pt15_0pt15 = 'lidar_processing/python_scripts/PDAL_workflow/JSON/filter_range_neg0pt15_0pt15.json'\n",
    "filter_range_0pt15_2 = 'lidar_processing/python_scripts/PDAL_workflow/JSON/filter_range_0pt15_2.json'"
   ]
  },
  {
   "cell_type": "code",
   "execution_count": null,
   "id": "233094f8-12fe-4785-bd9e-c10d542bf483",
   "metadata": {},
   "outputs": [],
   "source": [
    "tic = time.perf_counter()\n",
    "# 209.884854397038\n",
    "pathname = \"lidar_processing/PDAL_testFiles_tutorials/test_las/SCB/veg_classes_originalNCALM/HAG/\"\n",
    "output_pathname = 'lidar_processing/PDAL_testFiles_tutorials/test_las/SCB/veg_classes_originalNCALM/veg_strata_0pt15_2/'\n",
    "onlyfiles = [f for f in os.listdir(pathname) if os.path.isfile(os.path.join(pathname, f))]\n",
    "for file in onlyfiles:\n",
    "    input_las = pathname + file\n",
    "    output_las = output_pathname + file\n",
    "    strata_cmd = ['pdal', 'translate', input_las,  output_las, '--json',filter_range_0pt15_2]\n",
    "    subprocess.run(strata_cmd)\n",
    "toc = time.perf_counter()"
   ]
  },
  {
   "cell_type": "code",
   "execution_count": null,
   "id": "f44dd87c-ad3a-4256-a5ee-6c79ac364493",
   "metadata": {},
   "outputs": [],
   "source": [
    "toc-tic"
   ]
  },
  {
   "cell_type": "code",
   "execution_count": null,
   "id": "6f3218d6-762f-4ba4-b1c0-b76501977d1b",
   "metadata": {},
   "outputs": [],
   "source": [
    "tic = time.perf_counter()\n",
    "pathname = \"lidar_processing/PDAL_testFiles_tutorials/test_las/SCB/veg_classes_originalNCALM/HAG/\"\n",
    "output_pathname = 'lidar_processing/PDAL_testFiles_tutorials/test_las/SCB/veg_classes_originalNCALM/veg_strata_2_ground/'\n",
    "onlyfiles = [f for f in os.listdir(pathname) if os.path.isfile(os.path.join(pathname, f))]\n",
    "for file in onlyfiles:\n",
    "    input_las = pathname + file\n",
    "    output_las = output_pathname + file\n",
    "    strata_cmd = ['pdal', 'translate', input_las,  output_las, '--json',filter_range_2_ground]\n",
    "    subprocess.run(strata_cmd)\n",
    "toc = time.perf_counter()"
   ]
  },
  {
   "cell_type": "code",
   "execution_count": null,
   "id": "f80ca443-f301-4146-a93c-24bb0cbc2193",
   "metadata": {},
   "outputs": [],
   "source": [
    "toc-tic"
   ]
  },
  {
   "cell_type": "code",
   "execution_count": null,
   "id": "fc96f4c4-5fe3-4798-92b6-471325c4aea7",
   "metadata": {},
   "outputs": [],
   "source": [
    "tic = time.perf_counter()\n",
    "pathname = \"lidar_processing/PDAL_testFiles_tutorials/test_las/SCB/veg_classes_originalNCALM/HAG/\"\n",
    "output_pathname = 'lidar_processing/PDAL_testFiles_tutorials/test_las/SCB/veg_classes_originalNCALM/veg_strata_2_nonground/'\n",
    "onlyfiles = [f for f in os.listdir(pathname) if os.path.isfile(os.path.join(pathname, f))]\n",
    "for file in onlyfiles:\n",
    "    input_las = pathname + file\n",
    "    output_las = output_pathname + file\n",
    "    strata_cmd = ['pdal', 'translate', input_las,  output_las, '--json',filter_range_2_nonground]\n",
    "    subprocess.run(strata_cmd)\n",
    "toc = time.perf_counter()"
   ]
  },
  {
   "cell_type": "code",
   "execution_count": null,
   "id": "96fe8114-e7e5-44c0-933e-4d9caa19a42c",
   "metadata": {},
   "outputs": [],
   "source": [
    "toc-tic"
   ]
  },
  {
   "cell_type": "code",
   "execution_count": null,
   "id": "b83e18e0-b955-4388-955d-5d4ecf0de9ba",
   "metadata": {},
   "outputs": [],
   "source": [
    "tic = time.perf_counter()\n",
    "pathname = \"lidar_processing/PDAL_testFiles_tutorials/test_las/SCB/veg_classes_originalNCALM/HAG/\"\n",
    "output_pathname = 'lidar_processing/PDAL_testFiles_tutorials/test_las/SCB/veg_classes_originalNCALM/veg_strata_neg0pt15_0pt15/'\n",
    "onlyfiles = [f for f in os.listdir(pathname) if os.path.isfile(os.path.join(pathname, f))]\n",
    "for file in onlyfiles:\n",
    "    input_las = pathname + file\n",
    "    output_las = output_pathname + file\n",
    "    strata_cmd = ['pdal', 'translate', input_las,  output_las, '--json',filter_range_neg0pt15_0pt15]\n",
    "    subprocess.run(strata_cmd)\n",
    "toc = time.perf_counter()"
   ]
  },
  {
   "cell_type": "code",
   "execution_count": null,
   "id": "08c4a099-1a04-405e-8b1f-bbf829474906",
   "metadata": {},
   "outputs": [],
   "source": [
    "toc-tic"
   ]
  },
  {
   "cell_type": "code",
   "execution_count": null,
   "id": "f23b1069-58a7-453e-bce9-f382c367357f",
   "metadata": {},
   "outputs": [],
   "source": [
    "tic = time.perf_counter()\n",
    "pathname = \"lidar_processing/PDAL_testFiles_tutorials/test_las/SCB/veg_classes_originalNCALM/HAG/\"\n",
    "output_pathname = 'lidar_processing/PDAL_testFiles_tutorials/test_las/SCB/veg_classes_originalNCALM/veg_strate_2/'\n",
    "onlyfiles = [f for f in os.listdir(pathname) if os.path.isfile(os.path.join(pathname, f))]\n",
    "for file in onlyfiles:\n",
    "    input_las = pathname + file\n",
    "    output_las = output_pathname + file\n",
    "    strata_cmd = ['pdal', 'translate', input_las,  output_las, '--json',filter_range_2]\n",
    "    subprocess.run(strata_cmd)\n",
    "toc = time.perf_counter()"
   ]
  },
  {
   "cell_type": "code",
   "execution_count": null,
   "id": "a77e827d-d5f1-4a90-a45a-5097ad47ac71",
   "metadata": {},
   "outputs": [],
   "source": [
    "toc-tic"
   ]
  },
  {
   "cell_type": "code",
   "execution_count": null,
   "id": "1f3ce268-d347-4c5f-b7b2-391a13ea9319",
   "metadata": {},
   "outputs": [],
   "source": [
    "# pathname = \"lidar_processing/PDAL_testFiles_tutorials/test_las/SCB/veg_classes/HAG/\"\n",
    "# output_pathname = 'lidar_processing/PDAL_testFiles_tutorials/test_las/SCB/veg_classes/veg_strata_neg0pt15_0pt15/'\n",
    "# onlyfiles = [f for f in os.listdir(pathname) if os.path.isfile(os.path.join(pathname, f))]\n",
    "# for file in onlyfiles:\n",
    "#     input_las = pathname + file\n",
    "#     output_las = output_pathname + file\n",
    "#     strata_neg0pt15_0pt15_cmd = ['pdal', 'translate', '-i', input_las, '-o', output_las, '-f', 'range', '--filters.range.limits=\"Z[-0.15:0.15)\"']\n",
    "#     subprocess.run(strata_neg0pt15_0pt15_cmd)"
   ]
  },
  {
   "cell_type": "markdown",
   "id": "9597edf1-6d46-4850-ac9c-fe5d127ccaa9",
   "metadata": {},
   "source": [
    "# Rasterize"
   ]
  },
  {
   "cell_type": "code",
   "execution_count": null,
   "id": "a1b7e4d8-b390-460f-b479-23c7a453b4a3",
   "metadata": {},
   "outputs": [],
   "source": [
    "rasterize_json_mean = 'lidar_processing/python_scripts/PDAL_workflow/JSON/las_to_tif_mean.json'\n",
    "rasterize_json_count = 'lidar_processing/python_scripts/PDAL_workflow/JSON/las_to_tif_count.json'\n"
   ]
  },
  {
   "cell_type": "code",
   "execution_count": null,
   "id": "bd96eb00-56a3-4761-b030-1f60ff06c41a",
   "metadata": {},
   "outputs": [],
   "source": [
    "# name JSON file\n",
    "rasterize_json = 'lidar_processing/python_scripts/PDAL_workflow/JSON/las_to_tif_count.json'\n",
    "# input_las = 'lidar_processing/python_scripts/PDAL/test_las/mcc_part_b_tile_004_000.las' # define input las full file path\n",
    "# output_las = 'lidar_processing/python_scripts/PDAL/test_las/mcc_part_b_tile_004_000_GFtutorial.las' # define input las full file path\n",
    "\n",
    "# create a pipeline and save to a json file \n",
    "reader_dict = {'type':'readers.las'}\n",
    "filter_gdal= {\"type\": \"writers.gdal\",\n",
    "              'output_type': 'count',\n",
    "              'resolution': '1.0',\n",
    "              'radius': '0.7'}\n",
    "#output_dtm = \"lidar_processing/python_scripts/PDAL/test_file/ncalm_2014_732000_4373000_DTMtutorial.tif\"\n",
    "\n",
    "\n",
    "pipeline_list = [reader_dict,filter_gdal]\n",
    "pipeline_dict = {'pipeline' : pipeline_list}\n",
    "with open(rasterize_json, 'w') as out:\n",
    "    json.dump(pipeline_dict, out, indent=4)"
   ]
  },
  {
   "cell_type": "code",
   "execution_count": null,
   "id": "8b82d358-955e-457f-9e31-211431b05aa8",
   "metadata": {},
   "outputs": [],
   "source": [
    "output_raster_filepath = 'lidar_processing/PDAL_testFiles_tutorials/test_las/SCB/vertical_bias/rasterize/ASO_20160417a.tif'\n",
    "input_las_filepath = 'lidar_processing/PDAL_testFiles_tutorials/test_las/SCB/vertical_bias/rasterize/ASO_20160417b.laz'\n",
    "#input_las_filepath = 'lidar_processing/PDAL_testFiles_tutorials/test_las/SCB/clipped/ASO_20160417/ASO_20160417_clipped.laz'"
   ]
  },
  {
   "cell_type": "code",
   "execution_count": null,
   "id": "3e3b7dc3-1a2e-4879-9498-fd167d731f57",
   "metadata": {},
   "outputs": [],
   "source": [
    "# Single Files\n",
    "writer = '--writers.gdal.filename='+output_raster_filepath\n",
    "reader = '--readers.las.filename='+input_las_filepath\n",
    "rasterize_command = ['pdal', 'pipeline', rasterize_json, writer, reader]\n",
    "subprocess.run(rasterize_command)"
   ]
  },
  {
   "cell_type": "code",
   "execution_count": null,
   "id": "85d72f3d-29a5-42b3-9df1-933d05b81eff",
   "metadata": {},
   "outputs": [],
   "source": []
  },
  {
   "cell_type": "code",
   "execution_count": null,
   "id": "e33264e7-0beb-452d-8e18-41f0fccfbbba",
   "metadata": {},
   "outputs": [],
   "source": [
    "# multiple files\n",
    "tic = time.perf_counter()\n",
    "pathname = \"lidar_processing/PDAL_testFiles_tutorials/test_las/SCB/veg_classes_originalNCALM/nonground/laz/\"\n",
    "output_pathname = \"lidar_processing/PDAL_testFiles_tutorials/test_las/SCB/veg_classes_originalNCALM/nonground/tif/\"\n",
    "onlyfiles = [f for f in os.listdir(pathname) if os.path.isfile(os.path.join(pathname, f))]\n",
    "for file in onlyfiles:\n",
    "    writer = '--writers.gdal.filename='+output_pathname+file[:-4]+\".tif\"\n",
    "    reader = '--readers.las.filename='+pathname+file\n",
    "    rasterize_command = ['pdal', 'pipeline', rasterize_json_count, writer, reader]\n",
    "    subprocess.run(rasterize_command)\n",
    "toc = time.perf_counter()"
   ]
  },
  {
   "cell_type": "code",
   "execution_count": null,
   "id": "8308658f-09da-48fc-8b41-2de21fdc7bd2",
   "metadata": {},
   "outputs": [],
   "source": [
    "tic = time.perf_counter()\n",
    "# list all folders in directory\n",
    "all_folders = [x[0] for x in os.walk('lidar_processing/PDAL_testFiles_tutorials/test_las/SCB/veg_classes_originalNCALM/')]\n",
    "# list indices of all folders that are called laz\n",
    "index_pos_list = [ i for i in range(len(all_folders)) if all_folders[i][-3:] == 'laz' ]\n",
    "# save only those files \n",
    "laz_list = [all_folders[i] for i in index_pos_list]\n",
    "for folders in laz_list:\n",
    "    pathname = folders + '/'\n",
    "    output_pathname = folders[:-3] + 'tif' + '/'\n",
    "    onlyfiles = [f for f in os.listdir(pathname) if os.path.isfile(os.path.join(pathname, f))]\n",
    "    for file in onlyfiles:\n",
    "        input_las = pathname + file\n",
    "        writer = '--writers.gdal.filename='+output_pathname+file[:-4]+\".tif\"\n",
    "        reader = '--readers.las.filename='+pathname+file\n",
    "        rasterize_command = ['pdal', 'pipeline', rasterize_json_count, writer, reader]\n",
    "        subprocess.run(rasterize_command)\n",
    "toc = time.perf_counter()"
   ]
  },
  {
   "cell_type": "code",
   "execution_count": null,
   "id": "60b537da-e9c0-4641-b5e6-72cb42d9d95b",
   "metadata": {},
   "outputs": [],
   "source": []
  },
  {
   "cell_type": "code",
   "execution_count": null,
   "id": "a6202624-d505-48c7-9014-862e788b8e57",
   "metadata": {},
   "outputs": [],
   "source": []
  },
  {
   "cell_type": "markdown",
   "id": "23f5d449-10d8-4292-bf09-9a9220e7e77f",
   "metadata": {},
   "source": [
    "test script"
   ]
  },
  {
   "cell_type": "code",
   "execution_count": null,
   "id": "f3e6caa9-6398-4bf8-a45c-553e0b6fbd0a",
   "metadata": {
    "tags": []
   },
   "outputs": [],
   "source": [
    "# # name JSON file\n",
    "# rasterize_json = 'lidar_processing/python_scripts/PDAL_workflow/JSON/las_to_tif.json'\n",
    "# # input_las = 'lidar_processing/python_scripts/PDAL/test_las/mcc_part_b_tile_004_000.las' # define input las full file path\n",
    "# # output_las = 'lidar_processing/python_scripts/PDAL/test_las/mcc_part_b_tile_004_000_GFtutorial.las' # define input las full file path\n",
    "\n",
    "# # create a pipeline and save to a json file \n",
    "# reader_dict = {'type':'readers.las'}\n",
    "# filter_gdal= {\"type\": \"writers.gdal\",\n",
    "#               'gdaldriver':'GTiff',\n",
    "#               'output_type': 'mean',\n",
    "#               'resolution': 1.0}\n",
    "# #output_dtm = \"lidar_processing/python_scripts/PDAL/test_file/ncalm_2014_732000_4373000_DTMtutorial.tif\"\n",
    "\n",
    "\n",
    "# pipeline_list = [reader_dict,filter_gdal]\n",
    "# pipeline_dict = {'pipeline' : pipeline_list}\n",
    "# with open(rasterize_json, 'w') as out:\n",
    "#     json.dump(pipeline_dict, out, indent=4)"
   ]
  },
  {
   "cell_type": "code",
   "execution_count": null,
   "id": "71454a15-b713-4bcd-9797-5e93319d58e2",
   "metadata": {
    "tags": []
   },
   "outputs": [],
   "source": [
    "# See below for better solution\n",
    "\n",
    "# pathname = \"lidar_processing/PDAL_testFiles_tutorials/test_las/SCB/ground_filtered/NCALM/\"\n",
    "# output_pathname = \"lidar_processing/PDAL_testFiles_tutorials/test_las/SCB/rasterize/NCALM/\"\n",
    "# onlyfiles = [f for f in os.listdir(pathname) if os.path.isfile(os.path.join(pathname, f))]\n",
    "# for file in onlyfiles:\n",
    "#     input_las = pathname + file\n",
    "#     output_las = output_pathname + file[:-4]+\".tif\"\n",
    "#     pdal_commands = ['pdal', 'translate', input_las, output_las, '--writers.gdal.resolution=1','--writers.gdal.output_type=mean']\n",
    "#     subprocess.run(pdal_commands)"
   ]
  },
  {
   "cell_type": "code",
   "execution_count": null,
   "id": "e65164a2-650a-480c-991c-a5dbc49935cd",
   "metadata": {
    "tags": []
   },
   "outputs": [],
   "source": [
    "# didn't work because the pipeline wants an input/output\n",
    "\n",
    "# pathname = \"lidar_processing/PDAL_testFiles_tutorials/test_las/SCB/ground_filtered/NCALM/\"\n",
    "# output_pathname = \"lidar_processing/PDAL_testFiles_tutorials/test_las/SCB/rasterize/NCALM/\"\n",
    "# onlyfiles = [f for f in os.listdir(pathname) if os.path.isfile(os.path.join(pathname, f))]\n",
    "# for file in onlyfiles:\n",
    "#     input_las = pathname + file\n",
    "#     output_las = output_pathname + file[:-4]+\".tif\"\n",
    "#     pdal_commands = ['pdal', 'translate', input_las, output_las, '--json', rasterize_json]\n",
    "#     subprocess.run(pdal_commands)"
   ]
  },
  {
   "cell_type": "code",
   "execution_count": null,
   "id": "8dd2d4ef-b5e5-4182-8148-d014cf3eb22b",
   "metadata": {
    "tags": []
   },
   "outputs": [],
   "source": [
    "# test new formatting\n",
    "# input_las = 'lidar_processing/PDAL_testFiles_tutorials/test_las/SCB/ground_filtered/ASO_20160417/mcc_part_b_tile_004_000.las'\n",
    "# output_las = 'lidar_processing/PDAL_testFiles_tutorials/test_las/SCB/rasterize/ASO_20160417/mcc_part_b_tile_004_000.tif'\n",
    "# writer = '--writers.gdal.filename=lidar_processing/PDAL_testFiles_tutorials/test_las/SCB/rasterize/ASO_20160417/mcc_part_b_tile_004_000.tif'\n",
    "# reader = '--readers.las.filename=lidar_processing/PDAL_testFiles_tutorials/test_las/SCB/ground_filtered/ASO_20160417/mcc_part_b_tile_004_000.las'\n",
    "# rasterize_command = ['pdal', 'pipeline', 'lidar_processing/python_scripts/PDAL_workflow/JSON/las_to_tif.json', writer, reader]"
   ]
  },
  {
   "cell_type": "code",
   "execution_count": null,
   "id": "df25617c-7e4b-4c21-9337-36c2f2b9a426",
   "metadata": {
    "tags": []
   },
   "outputs": [],
   "source": [
    "# test on ASO data\n",
    "# for i in [0, 1, 2, 3, 4, 5]:\n",
    "#     writer = '--writers.gdal.filename=lidar_processing/PDAL_testFiles_tutorials/test_las/SCB/rasterize/ASO_20160518/mcc_part_b_tile_004_00'+str(i)+'.tif'\n",
    "#     reader = '--readers.las.filename=lidar_processing/PDAL_testFiles_tutorials/test_las/SCB/ground_filtered/ASO_20160518/mcc_part_b_tile_004_00'+str(i)+'.las'\n",
    "#     rasterize_command = ['pdal', 'pipeline', 'lidar_processing/python_scripts/PDAL_workflow/JSON/las_to_tif.json', writer, reader]\n",
    "#     subprocess.run(rasterize_command)"
   ]
  },
  {
   "cell_type": "markdown",
   "id": "8eb1fb84-4b06-4418-acf2-f871e4c3999f",
   "metadata": {},
   "source": [
    "### Clipping Geometries\n",
    "The goal of this portion of the code is to clip the raster based on the control areas (in the case of SCB, hwy 89)<br>\n",
    "See: https://pdal.io/tutorial/clipping/index.html#clipping"
   ]
  },
  {
   "cell_type": "code",
   "execution_count": null,
   "id": "c2abb94d-8dc7-43b6-9d5e-371d5cbbc903",
   "metadata": {},
   "outputs": [],
   "source": [
    "[\n",
    "    \"autzen.laz\",\n",
    "    {\n",
    "      \"type\":\"filters.overlay\",\n",
    "      \"dimension\":\"Classification\",\n",
    "      \"datasource\":\"attributes.vrt\",\n",
    "      \"layer\":\"OGRGeoJSON\",\n",
    "      \"column\":\"CLS\"\n",
    "    },\n",
    "    {\n",
    "      \"type\":\"filters.range\",\n",
    "      \"limits\":\"Classification[5:5]\"\n",
    "    },\n",
    "    \"output.las\"\n",
    "]"
   ]
  },
  {
   "cell_type": "code",
   "execution_count": null,
   "id": "49b57bfb-5914-4deb-8a50-ef9d334f2d7b",
   "metadata": {},
   "outputs": [],
   "source": [
    "# name JSON file\n",
    "clipping_json = 'lidar_processing/python_scripts/PDAL_workflow/JSON/clip_las_to_shp.json'\n",
    "\n",
    "filter_overlay_dict = {\"type\":\"filters.overlay\",\n",
    "                       \"dimension\":\"Classification\",\n",
    "                       \"datasource\":\"SCB/bounding_box/hwy89_poly.shp\",\n",
    "                       \"column\":\"OBJECTID\"}\n",
    "filter_range_dict = {\"type\":\"filters.range\",\n",
    "                     \"limits\":\"Classification[4193:4193]\"}\n",
    "\n",
    "pipeline_list = [filter_overlay_dict,filter_range_dict]\n",
    "with open(clipping_json, 'w') as out:\n",
    "    json.dump(pipeline_dict, out, indent=4)"
   ]
  },
  {
   "cell_type": "code",
   "execution_count": null,
   "id": "b802830c-14f8-4a7c-be1d-194a0978bcc9",
   "metadata": {},
   "outputs": [],
   "source": [
    "pathname = 'lidar_processing/PDAL_testFiles_tutorials/test_las/SCB/reproject/20160518_toNAD83/toNAVD88/'\n",
    "output_pathname = \"lidar_processing/PDAL_testFiles_tutorials/test_las/SCB/ground_filtered/ASO_20160518/reproj_NAD83_NAVD88/\"\n",
    "onlyfiles = [f for f in os.listdir(pathname) if os.path.isfile(os.path.join(pathname, f))]\n",
    "pdal_clip = ['pdal', 'translate', input_las, output_las, '--json', output_json]\n",
    "subprocess.run(pdal_clip)"
   ]
  },
  {
   "cell_type": "markdown",
   "id": "1bf738b4-4eae-41dc-9cc8-898b177ac071",
   "metadata": {},
   "source": [
    "# File format conversions"
   ]
  },
  {
   "cell_type": "markdown",
   "id": "be10eab7-1dc5-4561-9ff8-dbabb55abf57",
   "metadata": {},
   "source": [
    "## Convert .las to .txt\n",
    "see: https://pdal.io/stages/writers.text.html"
   ]
  },
  {
   "cell_type": "code",
   "execution_count": null,
   "id": "486c745d-b984-41bc-a04a-b54dcfbbaf18",
   "metadata": {},
   "outputs": [],
   "source": []
  },
  {
   "cell_type": "code",
   "execution_count": null,
   "id": "069497d0-a99b-4952-bfa2-3af3d3c0ef5d",
   "metadata": {},
   "outputs": [],
   "source": [
    "# set up json file commands\n",
    "output_txt = '/Volumes/cpiske/lidar_processing/python_scripts/PDAL/test_las/mcc_part_b_tile_004_000Test.asc'\n",
    "output_json = 'lidar_processing/python_scripts/PDAL_workflow/JSON/las_to_txt.json'\n",
    "\n",
    "# create a pipeline and save to a json file \n",
    "\n",
    "filter_dict = {'type':'readers.las',\n",
    "               'override_srs': \"EPSG:4326\",\n",
    "              'filename': input_las} # we are reading in a las file\n",
    "rasterize_dict = {'type':'writers.las',\n",
    "'format':'geojson',\n",
    "'order':'X,Y,Z',\n",
    "'keep_unspecified':'false',\n",
    "'filename':output_txt}\n",
    "\n",
    "\n",
    "pipeline_list = [filter_dict, rasterize_dict]\n",
    "pipeline_dict = {'pipeline' : pipeline_list}\n",
    "with open(output_json, 'w') as out:\n",
    "    json.dump(pipeline_dict, out, indent=4)\n"
   ]
  },
  {
   "cell_type": "code",
   "execution_count": null,
   "id": "9f570972-2f18-40d1-b4d2-06f0ed5ec7bb",
   "metadata": {},
   "outputs": [],
   "source": [
    "json_path = 'lidar_processing/python_scripts/PDAL/JSON/las_to_txt.json'\n",
    "pdal_commands = ['pdal', 'pipeline', json_path]\n",
    "subprocess.run(pdal_commands)"
   ]
  },
  {
   "cell_type": "markdown",
   "id": "142a3a30-1ae6-481b-96ac-f95a1f6f4ddc",
   "metadata": {},
   "source": [
    "### .laz to .las"
   ]
  },
  {
   "cell_type": "code",
   "execution_count": null,
   "id": "efe33f9e-84de-49ea-a538-0cd37b7f7877",
   "metadata": {
    "tags": []
   },
   "outputs": [],
   "source": [
    "# # set up json file commands\n",
    "# input_laz = 'lidar_processing/python_scripts/PDAL/test_las/ASO_USCAMB20180425f1a1_180425_1_dem_filter.laz'\n",
    "# output_las = 'lidar_processing/python_scripts/PDAL/test_las/ASO_USCAMB20180425f1a1_180425_1_dem_filter.las'\n",
    "# output_json = 'lidar_processing/python_scripts/PDAL/JSON/laz_to_las.json'\n",
    "\n",
    "# # create a pipeline and save to a json file \n",
    "\n",
    "# filter_dict = {'type':'readers.las',\n",
    "#                'filename': input_las} # we are reading in a las file\n",
    "# translate_dict = {'type':'writers.las',\n",
    "#                   \"a_srs\": \"EPSG:4326\",\n",
    "#                   'filename':output_las}\n",
    "\n",
    "\n",
    "# pipeline_list = [filter_dict, translate_dict]\n",
    "# pipeline_dict = {'pipeline' : pipeline_list}\n",
    "# with open(output_json, 'w') as out:\n",
    "#     json.dump(pipeline_dict, out, indent=4)\n"
   ]
  },
  {
   "cell_type": "code",
   "execution_count": null,
   "id": "bbb37c88-c5d9-4859-91ab-5c35e53bd514",
   "metadata": {},
   "outputs": [],
   "source": []
  },
  {
   "cell_type": "code",
   "execution_count": null,
   "id": "efe40151-4f3c-4fc8-acc0-ff2e092d788b",
   "metadata": {
    "tags": []
   },
   "outputs": [],
   "source": [
    "# json_path = 'lidar_processing/python_scripts/PDAL/JSON/laz_to_las.json'\n",
    "# pdal_commands = ['pdal', 'pipeline', json_path]\n",
    "# subprocess.run(pdal_commands)"
   ]
  },
  {
   "cell_type": "markdown",
   "id": "ea292cbb-156e-4be0-9fa8-62560bd55feb",
   "metadata": {},
   "source": [
    "# Raster Caluclations"
   ]
  },
  {
   "cell_type": "code",
   "execution_count": null,
   "id": "66b90302-4ff2-461e-84b4-28f68e90575f",
   "metadata": {},
   "outputs": [],
   "source": [
    "for i in [0,1,2,3,4,5]:\n",
    "    apr_elev = 'lidar_processing/PDAL_testFiles_tutorials/test_las/SCB/rasterize/ASO_20160417/mcc_part_b_tile_004_00'+str(i)+'.tif'\n",
    "    may_elev = 'lidar_processing/PDAL_testFiles_tutorials/test_las/SCB/rasterize/ASO_20160518/mcc_part_b_tile_004_00'+str(i)+'.tif'\n",
    "    output = 'lidar_processing/PDAL_testFiles_tutorials/test_las/SCB/raster_subtract/mcc_part_b_tile_004_00'+str(i)+'.tif'\n",
    "    raster_sub = ['gdal_calc.py', '-a', apr_elev, '-b', may_elev, '--calc=\"a - b\"', '--outfile', output]\n",
    "    subprocess.run(raster_sub)"
   ]
  },
  {
   "cell_type": "markdown",
   "id": "ef95aabd-bd70-47a0-be17-993b89088961",
   "metadata": {},
   "source": [
    "# Theo Code"
   ]
  },
  {
   "cell_type": "code",
   "execution_count": null,
   "id": "784a85fc-2834-4d0d-81a9-19f790b08678",
   "metadata": {},
   "outputs": [],
   "source": [
    "input_las = 'SCB/kost_lidar_data/ASO_2016/2016_05_18/WGS84_G1762_to_NAD83_NAVD88/mcc_part_b_tile_004_000.las'\n",
    "\n",
    "z_min = 0.15\n",
    "z_max = 2\n",
    "z_range = 'Z[' + str(z_min) + ':' + str(z_max) + ']'\n",
    "output_raster = 'lidar_processing/python_scripts/PDAL/test_file/mcc_part_b_tile_004_000.tif'\n",
    "output_json = 'lidar_processing/python_scripts/PDAL/JSON/las_to_tif.json'\n",
    "resolution = 0.01\n",
    "\n",
    "filter_dict = {'type':'filters.range', 'limits':z_range}\n",
    "rasterize_dict = {'filename':output_raster,\n",
    "'gdaldriver':'GTiff',\n",
    "'output_type':'count',\n",
    "'resolution':resolution,\n",
    "'type': 'writers.gdal'}\n",
    "\n",
    "\n",
    "pipeline_list = [input_las, filter_dict, rasterize_dict]\n",
    "pipeline_dict = {'pipeline' : pipeline_list}\n",
    "with open(output_json, 'w') as out:\n",
    "    json.dump(pipeline_dict, out, indent=4)\n"
   ]
  },
  {
   "cell_type": "code",
   "execution_count": null,
   "id": "1929f364-00c7-482e-8d5f-537652eed3cc",
   "metadata": {},
   "outputs": [],
   "source": [
    "input_las = 'SCB/kost_lidar_data/ASO_2016/2016_05_18/WGS84_G1762_to_NAD83_NAVD88/mcc_part_b_tile_004_000.las'\n",
    "\n",
    "# z_min = 0.15\n",
    "# z_max = 2\n",
    "# z_range = 'Z[' + str(z_min) + ':' + str(z_max) + ']'\n",
    "output_raster = 'lidar_processing/python_scripts/PDAL/test_file/mcc_part_b_tile_004_000.asc'\n",
    "output_json = 'lidar_processing/python_scripts/PDAL/JSON/las_to_asc.json'\n",
    "resolution = 0.01\n",
    "\n",
    "filter_dict = {'type':'filters.range', 'limits':z_range}\n",
    "rasterize_dict = {'filename':output_raster,\n",
    "'gdaldriver':'XYZ',\n",
    "'output_type':'count',\n",
    "'resolution':resolution,\n",
    "'type': 'writers.gdal'}\n",
    "\n",
    "\n",
    "pipeline_list = [input_las, filter_dict, rasterize_dict]\n",
    "pipeline_dict = {'pipeline' : pipeline_list}\n",
    "with open(output_json, 'w') as out:\n",
    "    json.dump(pipeline_dict, out, indent=4)\n"
   ]
  },
  {
   "cell_type": "markdown",
   "id": "2a4f6338-edab-4c85-8941-b05d63584dd8",
   "metadata": {},
   "source": [
    "sudo docker run -v path_to_laz_folder:/input 0b pdal info /input/test.laz\n",
    "\n",
    "where path_to_laz_folder is the path to the LAS/LAZ file (you just need the folder path, not the file path).\n",
    "\n",
    ":/input is the new folder that will be created in your Docker container that will hold your point cloud.\n",
    "\n",
    "0b is just the image id of pdal\n",
    "\n",
    "/input/test.laz is the path to the point cloud in the Docker container.\n"
   ]
  },
  {
   "cell_type": "code",
   "execution_count": null,
   "id": "a941783e-828f-4226-a25a-b772a51d12d0",
   "metadata": {},
   "outputs": [],
   "source": [
    "path_to_laz_folder = 'lidar_processing/python_scripts/PDAL/test_las'\n"
   ]
  },
  {
   "cell_type": "code",
   "execution_count": null,
   "id": "4aee8f9b-8d85-490a-a3cd-22d4b06bb646",
   "metadata": {},
   "outputs": [],
   "source": [
    "sudo docker run -v path_to_laz_folder:/input 0b pdal info /input/test.laz\n"
   ]
  },
  {
   "cell_type": "code",
   "execution_count": null,
   "id": "ac352849-3336-4cd7-b7d4-2f0c2a2c79fe",
   "metadata": {},
   "outputs": [],
   "source": [
    "import json\n",
    "import subprocess\n",
    "import pdal\n",
    "\n",
    "def assemblePipeline(input_las, list_of_dicts):\n",
    "    pipeline_list = [input_las]\n",
    "    pipeline_list.extend(list_of_dicts)\n",
    "    pipeline_dict = {'pipeline' : pipeline_list}\n",
    "    return pipeline_dict\n",
    "\n",
    "def makeHeightFilter(height, buffer):\n",
    "    z_min = height - buffer/2\n",
    "    z_max = height + buffer/2\n",
    "    z_range = 'Z[' + str(z_min) + ':' + str(z_max) + ']'\n",
    "    heightDict = {'type':'filters.range', 'limits':z_range}\n",
    "    return heightDict\n",
    "\n",
    "def makeRasterizeFilter(output_raster, resolution, epsg):\n",
    "    rasterize_dict = {'filename':output_raster,\n",
    "                      'gdaldriver':'GTiff',\n",
    "                      'output_type':'count',\n",
    "                      'resolution':resolution,\n",
    "                      'override_srs' : epsg,\n",
    "                      'type': 'writers.gdal'}\n",
    "    return rasterize_dict\n",
    "\n",
    "def convertTifForPIL(input_raster, output_raster, epsg):\n",
    "    ''' GDAL bindings are an alien concept to me, so I gave up and used\n",
    "        subprocess.'''\n",
    "    commands = ['gdal_translate', input_raster, output_raster, '-ot', 'Byte', '-a_srs', epsg]\n",
    "    subprocess.run(commands)\n",
    "\n",
    "\n",
    "def buildHeightSlice(input_las, height, buffer, output_raster, resolution, epsg, json_path=None):\n",
    "    filter_dict = makeHeightFilter(height, buffer)\n",
    "    rasterize_dict = makeRasterizeFilter(output_raster, resolution, epsg)\n",
    "    filter_list = [filter_dict, rasterize_dict]\n",
    "    pipeline_dict = assemblePipeline(input_las, filter_list)\n",
    "\n",
    "    if json_path is not None:\n",
    "        with open(json_path, 'w') as out:\n",
    "            json.dump(pipeline_dict, out, indent=4)\n",
    "        pdal_commands = ['pdal', 'pipeline', json_path]\n",
    "        subprocess.run(pdal_commands)\n",
    "    else:\n",
    "        pdal_commands = json.dumps(pipeline_dict)\n",
    "        pipeline = pdal.Pipeline(pdal_commands)\n",
    "        pipeline.execute()\n",
    "\n",
    "input_las = '/Users/theo/data/las/TLS_0244_20180612_01_v003_30m_clip_height_norm.las'\n",
    "height = 1.37\n",
    "buffer = 0.05\n",
    "z_min = height - buffer/2\n",
    "z_max = height + buffer/2\n",
    "z_range = 'Z[' + str(z_min) + ':' + str(z_max) + ']'\n",
    "temp_raster = '/Users/theo/Pictures/almost_cool.tif'\n",
    "final_raster = '/Users/theo/Pictures/cool.tif'\n",
    "resolution = 0.01\n",
    "epsg = 'EPSG:3310'\n",
    "\n",
    "buildHeightSlice(input_las, height, buffer, temp_raster, resolution, epsg)\n",
    "convertTifForPIL(temp_raster, final_raster, epsg)"
   ]
  },
  {
   "cell_type": "code",
   "execution_count": null,
   "id": "6d188910-a9a7-4c6c-b164-8a163c1d5445",
   "metadata": {},
   "outputs": [],
   "source": [
    "import json\n",
    "import subprocess\n",
    "import pdal\n",
    "import argparse\n",
    "\n",
    "# Create flags for the user to utilize.\n",
    "parser = argparse.ArgumentParser(description=\"Generate JSON pipeline to generate DTM from a point cloud.\")\n",
    "      \n",
    "required = parser.add_argument_group('Required arguments')\n",
    "required.add_argument('-crs', '--coordinate_system', required=True, action='store', help=\"EPSG code.\")\n",
    "required.add_argument('-i', '--infile', required=True, action='store', help=\"Input path to point cloud\")\n",
    "required.add_argument('-o', '--outfile', required=True, action='store', help=\"Output path.\")\n",
    "args = parser.parse_args()\n",
    "\n",
    "def generateJSON(infile, list_of_dicts):\n",
    "    pipeline_list = [infile]\n",
    "    pipeline_list.extend(list_of_dicts)\n",
    "    pipeline_dict = {'pipeline': pipeline_list}\n",
    "    with open(\"pipeline.json\", 'w') as out:\n",
    "        json.dump(pipeline_dict, out, indent=4)\n",
    "\n",
    "def generateDTM(epsg, infile, outfile):\n",
    "    reproject_dict = {\"type\": \"filters.reprojection\",\n",
    "                      \"out_srs\": \"EPSG:{}\".format(epsg)}\n",
    "    reclassify_zero_dict = {\"type\": \"filters.assign\",\n",
    "                       \"assignment\": \"Classification[:]=0\"}\n",
    "    elm_dict = {\"type\": \"filters.elm\"}\n",
    "    outlier_dict = {\"type\": \"filters.outlier\"}\n",
    "    smrf_dict = {\"type\": \"filters.smrf\", \"ignore\": \"Classification[7:7]\",\n",
    "                 \"slope\": 0.2, \"window\": 16, \"threshold\": 0.45, \"scalar\": 1.2}\n",
    "    range_dict = {\"type\":\"filters.range\", \"limits\":\"Classification[2:2]\"}\n",
    "    output_dict = {\"filename\": outfile, \"gdaldriver\": \"GTiff\", \"output_type\": \"all\", \"resolution\": 0.01, \"type\": \"writers.gdal\"}\n",
    "    list_of_dicts = list([reproject_dict, reclassify_zero_dict, elm_dict, outlier_dict, smrf_dict, range_dict, output_dict])\n",
    "    generateJSON(infile, list_of_dicts)\n",
    "    pdal_cmds = ['pdal', 'pipeline', 'pipeline.json']\n",
    "    subprocess.run(pdal_cmds)\n",
    "    \n",
    "generateDTM(args.coordinate_system, args.infile, args.outfile)"
   ]
  },
  {
   "cell_type": "markdown",
   "id": "0efcfb16-ecfc-4ce2-8a5e-6bf2974c4510",
   "metadata": {},
   "source": [
    "# More helpful things"
   ]
  },
  {
   "cell_type": "markdown",
   "id": "84929bbc-a6c6-49ad-bfc5-9789fe5dd577",
   "metadata": {},
   "source": [
    "### Get stats of a dataset\n",
    "see: https://www.spatialised.net/lidar-qa-with-pdal-part-1/"
   ]
  },
  {
   "cell_type": "code",
   "execution_count": null,
   "id": "fa7713f5-fbfd-412c-8488-04489fa868db",
   "metadata": {},
   "outputs": [],
   "source": [
    "# name JSON file\n",
    "\n",
    "stats_json = 'lidar_processing/python_scripts/PDAL_workflow/JSON/stats.json'"
   ]
  },
  {
   "cell_type": "code",
   "execution_count": null,
   "id": "9cc3f4a2-adf9-4d2e-a62e-a2a538437396",
   "metadata": {},
   "outputs": [],
   "source": [
    "reader_las = {\"type\":\"readers.las\",\n",
    "              \"filename\": input_las_stats}\n",
    "filter_stats = {\"type\":\"filters.stats\",\n",
    "                \"dimensions\":\"Z\",\n",
    "                \"global\":\"Z\",\n",
    "                \"advanced\":\"true\"}\n",
    "pipeline_list = [reader_las, filter_stats]\n",
    "#pipeline_dict = {reader_las, filter_stats}\n",
    "# with open(stats_json, 'w') as out:\n",
    "#     json.dump(pipeline_dict, out, indent=4)\n"
   ]
  },
  {
   "cell_type": "code",
   "execution_count": null,
   "id": "8ff5cfca-34a5-471d-8b40-bef477ef6438",
   "metadata": {},
   "outputs": [],
   "source": [
    "pipeline_list"
   ]
  },
  {
   "cell_type": "code",
   "execution_count": null,
   "id": "94a58e53-92c7-47c2-b75b-f9c9466b9e2d",
   "metadata": {},
   "outputs": [],
   "source": [
    "pipeline = pdal.Pipeline(json.dumps(pipeline_list))\n",
    "pipeline.execute()"
   ]
  },
  {
   "cell_type": "code",
   "execution_count": null,
   "id": "722c7605-47f2-4698-bec0-f2aa20a26f4a",
   "metadata": {
    "tags": []
   },
   "outputs": [],
   "source": [
    "json.loads(pipeline.metadata)[\"metadata\"][\"filters.stats\"][\"statistic\"]"
   ]
  },
  {
   "cell_type": "markdown",
   "id": "6c67b19a-0d9f-4b10-ad08-ccf9593fa659",
   "metadata": {},
   "source": [
    "## Navigating folders/files"
   ]
  },
  {
   "cell_type": "markdown",
   "id": "67984138-2046-46f9-9187-26121ac09dca",
   "metadata": {},
   "source": [
    "**create list of files/folders with a wildcard (*)**"
   ]
  },
  {
   "cell_type": "code",
   "execution_count": 40,
   "id": "b8b23dd1-01e1-46d4-81e7-b9e5be2df38b",
   "metadata": {},
   "outputs": [],
   "source": [
    "# ex. list all files in folder4 that end in .laz = folder1/folder2/folder3/folder4/*.laz\n",
    "# ex. list all folders named folder3 in folder 1 = foler1/*/folder3\n",
    "# ex. list all list all contents in folder2 = folder2/* - note just folder 2, no subdirectories\n",
    "glob_cmd = 'path'\n",
    "glob_exe = glob.glob(file_glob_cmd)"
   ]
  },
  {
   "cell_type": "markdown",
   "id": "124af7f3-340e-4a3d-8b74-fbff724635f2",
   "metadata": {},
   "source": [
    "**create a list with all directories/subdirectories on a path**"
   ]
  },
  {
   "cell_type": "code",
   "execution_count": null,
   "id": "316d4080-2f26-48b8-b908-992955d0200f",
   "metadata": {},
   "outputs": [],
   "source": [
    "all_folders = [x[0] for x in os.walk('path')]"
   ]
  },
  {
   "cell_type": "markdown",
   "id": "1ddee80f-1c7f-46e1-a8e8-2cee82ac6f02",
   "metadata": {},
   "source": [
    "**create a list with all directories/subdirectories on a path with specific folders**"
   ]
  },
  {
   "cell_type": "code",
   "execution_count": 52,
   "id": "2fb7ef3c-3534-4566-9a4d-63ce9bcd074d",
   "metadata": {},
   "outputs": [],
   "source": [
    "all_folders = [x[0] for x in os.walk('path')]\n",
    "index_pos_list = [ i for i in range(len(all_folders)) if all_folders[i][-6:] == 'retile' ] # must change this to meet requirements\n",
    "full_list = [all_folders[i] for i in index_pos_list]"
   ]
  },
  {
   "cell_type": "markdown",
   "id": "507fb6c4-a80d-4b97-8533-1852b3a8e992",
   "metadata": {},
   "source": [
    "**get name of the directory just above one listed**"
   ]
  },
  {
   "cell_type": "code",
   "execution_count": 38,
   "id": "ea8cc0c9-4dcb-44e7-a72f-8586c6828636",
   "metadata": {},
   "outputs": [],
   "source": [
    "subdirname = os.path.basename(os.path.dirname('path'))"
   ]
  },
  {
   "cell_type": "markdown",
   "id": "141720ac-a112-4891-b727-3e4999ed4298",
   "metadata": {},
   "source": [
    "**create a list with only filenames**"
   ]
  },
  {
   "cell_type": "code",
   "execution_count": null,
   "id": "5412acaf-9f08-430c-8ce2-ca0027d4d129",
   "metadata": {},
   "outputs": [],
   "source": [
    "onlyfiles = [f for f in os.listdir('path') if os.path.isfile(os.path.join('path', f))]"
   ]
  },
  {
   "cell_type": "markdown",
   "id": "9d80f4b2-ebb0-4eb2-9a39-58d554be97b0",
   "metadata": {},
   "source": [
    "**create a list with full file paths**"
   ]
  },
  {
   "cell_type": "code",
   "execution_count": 47,
   "id": "dfc96133-4087-4aca-a90b-302487a803e2",
   "metadata": {},
   "outputs": [],
   "source": [
    "full_path = ['path' + '/' + s for s in onlyfiles]"
   ]
  },
  {
   "cell_type": "markdown",
   "id": "5b8a6064-f348-405d-bf7d-5e8c8f7bfd81",
   "metadata": {},
   "source": [
    "## Parallel Processing"
   ]
  },
  {
   "cell_type": "code",
   "execution_count": null,
   "id": "215beb4e-46bb-4271-b452-6849510f3a36",
   "metadata": {},
   "outputs": [],
   "source": [
    "# time = 142.5\n",
    "tic = time.perf_counter()\n",
    "list(map(function, args));\n",
    "toc = time.perf_counter()"
   ]
  },
  {
   "cell_type": "code",
   "execution_count": null,
   "id": "0a4ca6cc-9fb5-48ce-8146-b41150dd9674",
   "metadata": {},
   "outputs": [],
   "source": [
    "# time = 53 s\n",
    "tic = time.perf_counter()\n",
    "if __name__ == \"__main__\":\n",
    "    pool = Pool(3)\n",
    "    pool.map(function, arg)\n",
    "    pool.close()\n",
    "toc = time.perf_counter()"
   ]
  },
  {
   "cell_type": "code",
   "execution_count": null,
   "id": "920e3ba6-7d5f-4a00-b563-ee2a53074b87",
   "metadata": {},
   "outputs": [],
   "source": [
    "# time = very fast? .06s\n",
    "tic = time.perf_counter()\n",
    "if __name__ == \"__main__\":\n",
    "    executor = concurrent.futures.ThreadPoolExecutor(max_workers=3)\n",
    "    executor.map(function, arg)\n",
    "toc = time.perf_counter()"
   ]
  },
  {
   "cell_type": "code",
   "execution_count": null,
   "id": "bb4c6986-5a20-472a-a5bd-4a854161ff30",
   "metadata": {},
   "outputs": [],
   "source": [
    "# time = 0.22\n",
    "tic = time.perf_counter()\n",
    "if __name__ == \"__main__\":\n",
    "    executor = concurrent.futures.ProcessPoolExecutor(max_workers=3)\n",
    "    executor.map(function, arg)\n",
    "toc = time.perf_counter()"
   ]
  },
  {
   "cell_type": "code",
   "execution_count": null,
   "id": "d1f97306-b0c1-4b9d-8b1e-5bd95d1732c6",
   "metadata": {},
   "outputs": [],
   "source": []
  }
 ],
 "metadata": {
  "kernelspec": {
   "display_name": "Python 3 (ipykernel)",
   "language": "python",
   "name": "python3"
  },
  "language_info": {
   "codemirror_mode": {
    "name": "ipython",
    "version": 3
   },
   "file_extension": ".py",
   "mimetype": "text/x-python",
   "name": "python",
   "nbconvert_exporter": "python",
   "pygments_lexer": "ipython3",
   "version": "3.10.2"
  }
 },
 "nbformat": 4,
 "nbformat_minor": 5
}
