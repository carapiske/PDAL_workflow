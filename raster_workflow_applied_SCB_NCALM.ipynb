{
 "cells": [
  {
   "cell_type": "markdown",
   "id": "6c02ac40-bcd0-4a7d-ab54-887f67ec64de",
   "metadata": {},
   "source": [
    "# Raster Processing Workflow\n",
    "**Cara Piske, Graduate Program of Hydrologic Sciences, 2022; Advisor: Dr. Adrian Harpold**<br>\n",
    "<p>This code processes rasterized LAS files. <br>\n",
    "Lidar data were provided by the Airborne Snow Observatory (ASO), the National Center for Airborne Laser Mapping (NCALM), and Watershed Sciences Inc. (WSI). <br>\n",
    "\n",
    "The goal of this project is to process snow depth to the one-meter spatial scale while maintaining conservative under-canopy estimates. Therefore, little interpolation occurs under-canopy. We follow these protocols in order to obtain a 1-m rasterized product (as opposed to the 3-m rasterized product provided by ASO on the NSIDC data portal). NCALM and WSI flights were obtained through OpenTopography."
   ]
  },
  {
   "cell_type": "code",
   "execution_count": 1,
   "id": "0de1e9e2-c61e-4dfd-bdb4-3bd93eb22ba8",
   "metadata": {},
   "outputs": [],
   "source": [
    "# import necessary packages \n",
    "from osgeo import gdal, ogr, osr\n",
    "import csv\n",
    "import os\n",
    "import subprocess\n",
    "import sys\n",
    "import pdal\n",
    "import matplotlib.pyplot as plt\n",
    "import numpy as np\n",
    "import json\n",
    "import glob\n",
    "import time\n",
    "# competing paths on our PC \n",
    "gdal_merge = os.path.join('C:\\\\','Users','cpiske','.conda','envs','lidar','Lib','site-packages','osgeo_utils','gdal_merge.py')\n",
    "gdal_calc = os.path.join('C:\\\\','Users','cpiske','.conda','envs','lidar','Lib','site-packages','osgeo_utils','gdal_calc.py')\n",
    "gdal_warp = os.path.join('C:\\\\','Users','cpiske','.conda','envs','lidar','Lib','site-packages','osgeo_utils','gdal_warp.py')\n",
    "gdal_polygonize = os.path.join('C:\\\\','Users','cpiske','.conda','envs','lidar','Lib','site-packages','osgeo_utils','gdal_polygonize.py')\n",
    "gdal_proximity = os.path.join('C:\\\\','Users','cpiske','.conda','envs','lidar','Lib','site-packages','osgeo_utils','gdal_proximity.py')"
   ]
  },
  {
   "cell_type": "code",
   "execution_count": 2,
   "id": "ae9d2484-c59c-4a4d-a203-285f04543c77",
   "metadata": {},
   "outputs": [
    {
     "name": "stdout",
     "output_type": "stream",
     "text": [
      "G:\\\n"
     ]
    }
   ],
   "source": [
    "#make sure we're in the right working directory\n",
    "os.chdir('/')\n",
    "print(os.getcwd())"
   ]
  },
  {
   "cell_type": "markdown",
   "id": "0653e6f5-8d3e-4bfa-884e-19b51db23a72",
   "metadata": {},
   "source": [
    "## Classify DEM"
   ]
  },
  {
   "cell_type": "markdown",
   "id": "ca4fe84e-dbd4-45fa-8e68-49dbb8cc1166",
   "metadata": {},
   "source": [
    "### Slope and Aspect"
   ]
  },
  {
   "cell_type": "code",
   "execution_count": 3,
   "id": "fd7e7631-c4a4-4b5b-aebf-fb97d3b26339",
   "metadata": {},
   "outputs": [
    {
     "data": {
      "text/plain": [
       "CompletedProcess(args=['gdaldem', 'aspect', 'SCB/Sagehen_lidar/NCALM/NCALM_SCB_2014/DEM/SCB/NCALM_2014_BE.tif', 'SCB/Sagehen_lidar/NCALM/NCALM_SCB_2014/DEM/SCB/NCALM_2014_aspect.tif'], returncode=0)"
      ]
     },
     "execution_count": 3,
     "metadata": {},
     "output_type": "execute_result"
    }
   ],
   "source": [
    "DEM = 'SCB/Sagehen_lidar/NCALM/NCALM_SCB_2014/DEM/SCB/NCALM_2014_BE.tif'\n",
    "slope = 'SCB/Sagehen_lidar/NCALM/NCALM_SCB_2014/DEM/SCB/NCALM_2014_slope.tif'\n",
    "aspect = 'SCB/Sagehen_lidar/NCALM/NCALM_SCB_2014/DEM/SCB/NCALM_2014_aspect.tif'\n",
    "gdal_terrain_cmd = ['gdaldem', 'slope', DEM, slope]\n",
    "subprocess.run(gdal_terrain_cmd)\n",
    "gdal_terrain_cmd = ['gdaldem', 'aspect', DEM, aspect]\n",
    "subprocess.run(gdal_terrain_cmd)"
   ]
  },
  {
   "cell_type": "markdown",
   "id": "28d60b0a-3194-46ac-a931-c37eabd73068",
   "metadata": {},
   "source": [
    "### Northness"
   ]
  },
  {
   "cell_type": "code",
   "execution_count": 4,
   "id": "ef713559-ccc4-4ef4-ab4e-2efbe42ea98e",
   "metadata": {},
   "outputs": [],
   "source": [
    "nness = 'SCB/Sagehen_lidar/NCALM/NCALM_SCB_2014/DEM/ASO_2016/NCALM_2014_Nness.tif'"
   ]
  },
  {
   "cell_type": "code",
   "execution_count": 5,
   "id": "b4470350-cf1d-4413-ab56-d8e26960fa28",
   "metadata": {},
   "outputs": [],
   "source": [
    "# open slope and aspect as arrays\n",
    "slope_ras = gdal.Open(slope) # open the file \n",
    "aspect_ras = gdal.Open(aspect) # open the file \n",
    "# save spatial data\n",
    "gt = slope_ras.GetGeoTransform()\n",
    "proj = slope_ras.GetProjection()\n",
    "\n",
    "slope_arr = slope_ras.GetRasterBand(1).ReadAsArray() #read the first raster band (in this case we know we are only working with single bands) and read to a 2D array\n",
    "aspect_arr = aspect_ras.GetRasterBand(1).ReadAsArray() #read the first raster band (in this case we know we are only working with single bands) and read to a 2D array\n",
    "\n",
    "slope_ras = aspect_ras = None # close rasters"
   ]
  },
  {
   "cell_type": "code",
   "execution_count": 6,
   "id": "efd46c64-d8fa-47dc-8ace-f31eeffa5d1f",
   "metadata": {},
   "outputs": [],
   "source": [
    "# Manipulate rasters and run raster calculations\n",
    "slope_arr[slope_arr == -9999] = np.nan # assign nans \n",
    "aspect_arr[aspect_arr == -9999] = np.nan\n",
    "\n",
    "slope_rad = np.radians(slope_arr) # convert degrees to radians\n",
    "aspect_rad = np.radians(aspect_arr)\n",
    "\n",
    "# see Tennant et al.(cos(aspect)*slope), 2017; Kirchner et al., 2014 (cos(aspect)*sin(slope)); Safa et al. (cos(aspect)*sin(slope), 2020; Molotch et al., 2004 (cos(aspect)*sin(slope)); Broxton et al, (calculated differently)\n",
    "northness_arr = np.cos(aspect_rad)*np.sin(slope_rad) # calculate northness"
   ]
  },
  {
   "cell_type": "code",
   "execution_count": 327,
   "id": "f8df3411-0a1c-48ae-bfa8-ce195de6715a",
   "metadata": {},
   "outputs": [],
   "source": [
    "# # save to raster\n",
    "# # export\n",
    "# driver = gdal.GetDriverByName(\"GTiff\")\n",
    "# driver.Register()\n",
    "# outds = driver.Create(nness, xsize = northness_arr.shape[1],\n",
    "#                       ysize = northness_arr.shape[0], bands = 1, \n",
    "#                       eType = gdal.GDT_Float32)\n",
    "# outds.SetGeoTransform(gt)\n",
    "# outds.SetProjection(proj)\n",
    "# outband = outds.GetRasterBand(1)\n",
    "# outband.WriteArray(northness_arr)\n",
    "# outband.SetNoDataValue(np.nan)\n",
    "# outband.FlushCache()\n",
    "\n",
    "# # close your datasets and bands!!!\n",
    "# outband = None\n",
    "# outds = None"
   ]
  },
  {
   "cell_type": "markdown",
   "id": "8fe0d24c-08e0-4ab9-90bd-11b4f1dd7aaf",
   "metadata": {
    "tags": []
   },
   "source": [
    "## Classify Vegetation\n",
    "We use vegetation classifications based on specific strata. See: https://docs.google.com/document/d/1-HndVgydwBWQGCzLMCvowkY_Idll0IDog-vd3OrTiio/edit?usp=sharing"
   ]
  },
  {
   "cell_type": "code",
   "execution_count": 17,
   "id": "69985d36-a987-48b0-bc34-8c84a19e8ae7",
   "metadata": {},
   "outputs": [],
   "source": [
    "# Number of Returns in each HAG strata\n",
    "strata_neg0pt15_0pt15 = 'SCB/Sagehen_lidar/NCALM/NCALM_SCB_20201120/canopy_metrics/veg_height_strata/vegStrata_neg0pt15_0pt15.tif'\n",
    "strata_0pt15_1pt5 = 'SCB/Sagehen_lidar/NCALM/NCALM_SCB_20201120/canopy_metrics/veg_height_strata/vegStrata_0pt15_1pt5.tif'\n",
    "strata_1pt5_3 = 'SCB/Sagehen_lidar/NCALM/NCALM_SCB_20201120/canopy_metrics/veg_height_strata/vegStrata_1pt5_3.tif'\n",
    "strata_3 = 'SCB/Sagehen_lidar/NCALM/NCALM_SCB_20201120/canopy_metrics/veg_height_strata/vegStrata_3.tif'\n",
    "# Filter based off criteria for vegetation classes, files are binary\n",
    "NOR_neg0pt15_0pt15_GT0 = 'SCB/Sagehen_lidar/NCALM/NCALM_SCB_20201120/canopy_metrics/counts_filtered/NOR_neg0pt15_0pt15_GT0.tif'\n",
    "NOR_neg0pt15_0pt15_GTET0 = 'SCB/Sagehen_lidar/NCALM/NCALM_SCB_20201120/canopy_metrics/counts_filtered/NOR_neg0pt15_0pt15_GTET0.tif'\n",
    "NOR_0pt15_1pt5_GT0 = 'SCB/Sagehen_lidar/NCALM/NCALM_SCB_20201120/canopy_metrics/counts_filtered/NOR_0pt15_1pt5_GT0.tif'\n",
    "NOR_0pt15_1pt5_ET0 = 'SCB/Sagehen_lidar/NCALM/NCALM_SCB_20201120/canopy_metrics/counts_filtered/NOR_0pt15_1pt5_ET0.tif'\n",
    "NOR_1pt5_3_ET0 = 'SCB/Sagehen_lidar/NCALM/NCALM_SCB_20201120/canopy_metrics/counts_filtered/NOR_1pt5_3_ET0.tif'\n",
    "NOR_3_ET0 = 'SCB/Sagehen_lidar/NCALM/NCALM_SCB_20201120/canopy_metrics/counts_filtered/NOR_3_ET0.tif'\n",
    "NOR_3_GT0 = 'SCB/Sagehen_lidar/NCALM/NCALM_SCB_20201120/canopy_metrics/counts_filtered/NOR_GT0.tif'\n",
    "# Vegetation Classes, files are binary\n",
    "ncalm_open = 'SCB/Sagehen_lidar/NCALM/NCALM_SCB_20201120/canopy_metrics/NCALM_SCB_2020_open.tif'\n",
    "ncalm_tall = 'SCB/Sagehen_lidar/NCALM/NCALM_SCB_20201120/canopy_metrics/NCALM_SCB_2020_tall.tif'\n",
    "ncalm_short = 'SCB/Sagehen_lidar/NCALM/NCALM_SCB_20201120/canopy_metrics/NCALM_SCB_2020_short.tif'\n",
    "ncalm_understory = 'SCB/Sagehen_lidar/NCALM/NCALM_SCB_20201120/canopy_metrics/NCALM_SCB_2020_understory.tif'\n",
    "\n",
    "ncalm_short_HAG = 'SCB/Sagehen_lidar/NCALM/NCALM_SCB_20201120/canopy_metrics/NCALM_SCB_2020_short_HAG.tif'\n",
    "ncalm_understory_HAG = 'SCB/Sagehen_lidar/NCALM/NCALM_SCB_20201120/canopy_metrics/NCALM_SCB_2020_understory_HAG.tif'\n",
    "\n",
    "CHM_LT1pt5 = 'SCB/Sagehen_lidar/NCALM/NCALM_SCB_2014/CHM/NCALM_2014_CHM_LT1pt5.tif'\n",
    "# veg_OpenTall = 'SCB/Sagehen_lidar/NCALM/NCALM_SCB_2014/veg_strata/NCALM_SCB_2014_tallORopen.tif'\n",
    "# veg_total = 'SCB/Sagehen_lidar/NCALM/NCALM_SCB_2014/veg_strata/NCALM_SCB_2014_shortORtallORopen.tif'\n",
    "\n",
    "veg_classified = 'SCB/Sagehen_lidar/NCALM/NCALM_SCB_2014/veg_strata/NCALM_SCB_2014_vegClassified.tif'"
   ]
  },
  {
   "cell_type": "markdown",
   "id": "dc567f29-51ed-41c3-899d-fd7b288de314",
   "metadata": {},
   "source": [
    "We'll start off by looking at the number of returns in each height strata and filtering based off of our criteria. <br>"
   ]
  },
  {
   "cell_type": "code",
   "execution_count": null,
   "id": "c946dbca-77ee-4559-9616-3106ed909cf4",
   "metadata": {},
   "outputs": [],
   "source": [
    "# nor_filtered_cmd = ['python', gdal_calc, '-A', strata_neg0pt15_0pt15, '--outfile', NOR_neg0pt15_0pt15_GT0, '--calc=\"A>0\"','--overwrite']\n",
    "# nor_filtered_cmd = ['python', gdal_calc, '-A', strata_neg0pt15_0pt15, '--outfile', NOR_neg0pt15_0pt15_GTET0, '--calc=\"A>=0\"','--overwrite']\n",
    "# nor_filtered_cmd = ['python', gdal_calc, '-A', strata_0pt15_1pt5, '--outfile', NOR_0pt15_1pt5_GT0, '--calc=\"A>0\"','--overwrite']\n",
    "# nor_filtered_cmd = ['python', gdal_calc, '-A', strata_0pt15_1pt5, '--outfile', NOR_0pt15_1pt5_ET0, '--calc=\"A==0\"','--overwrite']\n",
    "# nor_filtered_cmd = ['python', gdal_calc, '-A', strata_1pt5_3, '--outfile', NOR_1pt5_3_ET0, '--calc=\"A==0\"','--overwrite']\n",
    "# nor_filtered_cmd = ['python', gdal_calc, '-A', strata_3, '--outfile', NOR_3_ET0, '--calc=\"A==0\"','--overwrite']\n",
    "# nor_filtered_cmd = ['python', gdal_calc, '-A', strata_3, '--outfile', NOR_3_GT0, '--calc=\"A>0\"','--overwrite']\n",
    "\n",
    "# subprocess.run(nor_filtered_cmd)"
   ]
  },
  {
   "cell_type": "markdown",
   "id": "7b750455-c1ca-4970-ab8b-304031b57304",
   "metadata": {},
   "source": [
    "### Open, Tall, Short Veg, Understory\n",
    "After filtering based of strata criteria, we can classify the snow-off flight into vegetation classifications. <br> \n"
   ]
  },
  {
   "cell_type": "code",
   "execution_count": 188,
   "id": "2f121da8-d782-4585-ab71-e39df96b4b9d",
   "metadata": {},
   "outputs": [
    {
     "data": {
      "text/plain": [
       "CompletedProcess(args=['python', 'C:\\\\Users\\\\cpiske\\\\.conda\\\\envs\\\\lidar\\\\Lib\\\\site-packages\\\\osgeo_utils\\\\gdal_calc.py', '-A', 'SCB/Sagehen_lidar/NCALM/NCALM_SCB_2014/veg_strata/veg_classes/nor_filtered/NOR_neg0pt15_0pt15_GTET0.tif', '-B', 'SCB/Sagehen_lidar/NCALM/NCALM_SCB_2014/veg_strata/veg_classes/nor_filtered/NOR_0pt15_1pt5_GT0.tif', '-C', 'SCB/Sagehen_lidar/NCALM/NCALM_SCB_2014/veg_strata/veg_classes/nor_filtered/NOR_1pt5_3_ET0.tif', '-D', 'SCB/Sagehen_lidar/NCALM/NCALM_SCB_2014/veg_strata/veg_classes/nor_filtered/NOR_3_ET0.tif', '--NoDataValue', '-9999', '--outfile', 'SCB/Sagehen_lidar/NCALM/NCALM_SCB_2014/veg_strata/NCALM_SCB_2014_short.tif', '--calc=\"A*B*C*D\"', '--overwrite'], returncode=0)"
      ]
     },
     "execution_count": 188,
     "metadata": {},
     "output_type": "execute_result"
    }
   ],
   "source": [
    "# open_cmd = ['python', gdal_calc, '-A', NOR_neg0pt15_0pt15_GTET0, '-B', NOR_0pt15_1pt5_ET0,'-C',NOR_1pt5_3_ET0,'-D',NOR_3_ET0,'--NoDataValue','-9999',\n",
    "#  '--outfile', ncalm_open, '--calc=\"A*B*C*D\"','--overwrite']\n",
    "# subprocess.run(open_cmd)\n",
    "\n",
    "# tall_cmd = ['python', gdal_calc, '-A', NOR_neg0pt15_0pt15_GT0, '-B', NOR_0pt15_1pt5_ET0,'-C',NOR_1pt5_3_ET0,'-D',NOR_3_GT0,'--NoDataValue','-9999',\n",
    "#  '--outfile', ncalm_tall, '--calc=\"A*B*C*D\"','--overwrite']\n",
    "# subprocess.run(tall_cmd)\n",
    "\n",
    "# short_cmd = ['python', gdal_calc, '-A', NOR_neg0pt15_0pt15_GTET0, '-B', NOR_0pt15_1pt5_GT0,'-C',NOR_1pt5_3_ET0,'-D',NOR_3_ET0,'--NoDataValue','-9999',\n",
    "#  '--outfile', ncalm_short, '--calc=\"A*B*C*D\"','--overwrite']\n",
    "# subprocess.run(short_cmd)\n",
    "\n",
    "# understory_cmd = ['python', gdal_calc, '-A', NOR_neg0pt15_0pt15_GTET0, '-B', NOR_0pt15_1pt5_GT0,'-C',NOR_1pt5_3_ET0,'-D',NOR_3_GT0,'--NoDataValue','-9999',\n",
    "#  '--outfile', ncalm_understory, '--calc=\"A*B*C*D\"','--overwrite']\n",
    "# subprocess.run(understory_cmd)"
   ]
  },
  {
   "cell_type": "markdown",
   "id": "669673eb-2783-4cd6-ac83-cb4e162fd81a",
   "metadata": {},
   "source": [
    "Now let's extract the HAG values at potential short/understory locations"
   ]
  },
  {
   "cell_type": "code",
   "execution_count": 135,
   "id": "c085f97b-2088-4ce4-9a76-ef3a9fb6272f",
   "metadata": {},
   "outputs": [],
   "source": [
    "NCALM_2014_CHM_LT1pt5 = 'SCB/Sagehen_lidar/NCALM/NCALM_SCB_2014/CHM/NCALM_2014_CHM_LT1pt5.tif'"
   ]
  },
  {
   "cell_type": "code",
   "execution_count": 573,
   "id": "4488fcfb-5f05-428d-aed6-6ae914ab8ea2",
   "metadata": {},
   "outputs": [],
   "source": [
    "# short_cmd = ['python', gdal_calc, '-A', ncalm_short, '-B', CHM_LT1pt5,\n",
    "#  '--outfile', ncalm_short_HAG, '--calc=\"B*A\"','--overwrite',]\n",
    "# subprocess.run(short_cmd)\n",
    "\n",
    "# understory_cmd = ['python', gdal_calc, '-A', ncalm_understory, '-B', CHM_LT1pt5,'--NoDataValue','-9999',\n",
    "#  '--outfile', ncalm_understory_HAG, '--calc=\"B*(A==1)\"','--overwrite']\n",
    "# subprocess.run(understory_cmd)"
   ]
  },
  {
   "cell_type": "code",
   "execution_count": 172,
   "id": "87a73fd8-6451-49ac-b545-d5e290691c89",
   "metadata": {},
   "outputs": [],
   "source": [
    "# veg_classified_cmd = ['python', gdal_calc, '-A', ncalm_short, '-B', ncalm_tall,'-C',ncalm_short,'-D',ncalm_understory,'--NoDataValue','-9999',\n",
    "#  '--outfile', veg_classified, '--calc=\"1*A+2*B+3*C+4*D\"','--overwrite']\n",
    "# subprocess.run(veg_classified_cmd)\n"
   ]
  },
  {
   "cell_type": "code",
   "execution_count": null,
   "id": "ddb35d9e-1584-4f49-b47d-514918960d99",
   "metadata": {},
   "outputs": [],
   "source": [
    "# # calculate CHM from DSM and DTM\n",
    "# input_snow_depth = 'SCB/random_forest_data/ASO_sd/ASO_snow_depth_20160417_clp.tif'\n",
    "# input_snow_density = 'SCB/random_forest_data/snowpalm_density/SP_density_20160417_1m.tif'\n",
    "# output_swe = 'SCB/random_forest_data/calc_swe/SWE_20160417.tif'\n",
    "# swe_command = ['gdal_calc.py', '-A', input_snow_depth, '-B', input_snow_density, '--calc=\"A*B\"','--outfile', output_swe]\n",
    "# subprocess.run(swe_command)"
   ]
  },
  {
   "cell_type": "code",
   "execution_count": 20,
   "id": "cd58c642-6e98-4c58-bbb1-24c520dc4857",
   "metadata": {},
   "outputs": [
    {
     "data": {
      "text/plain": [
       "CompletedProcess(args=['python', 'C:\\\\Users\\\\cpiske\\\\.conda\\\\envs\\\\lidar\\\\Lib\\\\site-packages\\\\osgeo_utils\\\\gdal_calc.py', '-A', 'SCB/Sagehen_lidar/NCALM/NCALM_SCB_2014/veg_strata/NCALM_SCB_2014_tall.tif', '-B', 'SCB/Sagehen_lidar/NCALM/NCALM_SCB_2014/veg_strata/NCALM_SCB_2014_understory.tif', '--outfile', 'SCB/Sagehen_lidar/NCALM/NCALM_SCB_2014/veg_strata/NCALM_SCB_2014_tallORunderstory.tif', '--calc=\"B+A\"', '--overwrite', '--NoDataValue', '-9999'], returncode=0)"
      ]
     },
     "execution_count": 20,
     "metadata": {},
     "output_type": "execute_result"
    }
   ],
   "source": [
    "# tall or understory\n",
    "\n",
    "tall_cmd = ['python', gdal_calc, '-A', ncalm_tall, '-B', ncalm_understory,\n",
    " '--outfile', ncalm_tallORunderstory, '--calc=\"B+A\"','--overwrite','--NoDataValue','-9999']\n",
    "subprocess.run(tall_cmd)"
   ]
  },
  {
   "cell_type": "code",
   "execution_count": 576,
   "id": "410e24e9-854a-4f34-b677-bf23c52d4c83",
   "metadata": {},
   "outputs": [],
   "source": [
    "# short_cmd = ['python', gdal_calc, '-A', ncalm_open, '-B', ncalm_short,\n",
    "#  '--outfile', ncalm_shortORopen, '--calc=\"B+A\"','--overwrite',]\n",
    "# subprocess.run(short_cmd)"
   ]
  },
  {
   "cell_type": "markdown",
   "id": "a744e545-1d1e-4646-99a5-6dd2b4ff38ca",
   "metadata": {},
   "source": [
    "### Characterize Veg"
   ]
  },
  {
   "cell_type": "code",
   "execution_count": 10,
   "id": "f6af6d50-fbed-4df8-9fa1-c2b577632543",
   "metadata": {},
   "outputs": [],
   "source": [
    "# Filter out all water bodies\n",
    "input_shp = 'SCB/supporting_files/masks/NHDWaterbody_2018_EPSG26910.shp'"
   ]
  },
  {
   "cell_type": "code",
   "execution_count": 31,
   "id": "85300aa4-162c-42c9-b996-99a16c2e060a",
   "metadata": {},
   "outputs": [],
   "source": [
    "ncalm_tallORunderstory = 'SCB/Sagehen_lidar/NCALM/NCALM_SCB_2014/veg_strata/NCALM_SCB_2014_tallORunderstory.tif'\n",
    "dist_to_nearest_canopy = 'SCB/Sagehen_lidar/NCALM/NCALM_SCB_2014/veg_strata/veg_characteristics/NCALM_SCB_2014_DNC.tif'\n",
    "dist_to_nearest_canopy_30m = 'SCB/Sagehen_lidar/NCALM/NCALM_SCB_2014/veg_strata/veg_characteristics/NCALM_SCB_2014_DNC_30m.tif'\n",
    "dist_to_nearest_canopy_10m = 'SCB/Sagehen_lidar/NCALM/NCALM_SCB_2014/veg_strata/veg_characteristics/NCALM_SCB_2014_DNC_10m.tif'\n",
    "\n",
    "clump_size = 'SCB/Sagehen_lidar/NCALM/NCALM_SCB_2014/veg_strata/veg_characteristics/NCALM_SCB_2014_clumpSize.tif'\n",
    "clump_size_30 = 'SCB/Sagehen_lidar/NCALM/NCALM_SCB_2014/veg_strata/veg_characteristics/NCALM_SCB_2014_clumpSize_30m.tif'\n",
    "clump_size_10 = 'SCB/Sagehen_lidar/NCALM/NCALM_SCB_2014/veg_strata/veg_characteristics/NCALM_SCB_2014_clumpSize_10m.tif'"
   ]
  },
  {
   "cell_type": "code",
   "execution_count": 21,
   "id": "16987d75-4dc9-4a16-a42e-b5573313edad",
   "metadata": {},
   "outputs": [
    {
     "data": {
      "text/plain": [
       "0"
      ]
     },
     "execution_count": 21,
     "metadata": {},
     "output_type": "execute_result"
    }
   ],
   "source": [
    "# extract vegetation cover (average height and density) across the watershed\n",
    "proximity_cmd = ['python',gdal_proximity, ncalm_tallORunderstory, dist_to_nearest_canopy,'-values','1','-nodata','-9999']\n",
    "subprocess.run(proximity_cmd)\n",
    "burn_command = ['gdal_rasterize', '-b', '1', '-burn', '-9999', input_shp, dist_to_nearest_canopy]\n",
    "subprocess.call(burn_command)"
   ]
  },
  {
   "cell_type": "code",
   "execution_count": 22,
   "id": "0b4b5c99-62a6-4ff7-bd07-db6aec28ebf8",
   "metadata": {},
   "outputs": [
    {
     "data": {
      "text/plain": [
       "0"
      ]
     },
     "execution_count": 22,
     "metadata": {},
     "output_type": "execute_result"
    }
   ],
   "source": [
    "# extract vegetation cover (average height and density) across the watershed\n",
    "proximity_cmd = ['python',gdal_proximity, ncalm_tallORunderstory, clump_size,'-values','0','-nodata','-9999']\n",
    "subprocess.run(proximity_cmd)\n",
    "burn_command = ['gdal_rasterize', '-b', '1', '-burn', '-9999', input_shp, clump_size]\n",
    "subprocess.call(burn_command)"
   ]
  },
  {
   "cell_type": "code",
   "execution_count": 26,
   "id": "9925f160-7a75-492b-9cdb-af7240320f77",
   "metadata": {},
   "outputs": [],
   "source": [
    "ncalm_fVEG = 'SCB/Sagehen_lidar/NCALM/NCALM_SCB_2014/veg_strata/veg_characteristics/NCALM_SCB_2014_fVEG_10m.tif'"
   ]
  },
  {
   "cell_type": "code",
   "execution_count": 29,
   "id": "2e0d070c-d95b-46bb-a8d1-f3beac8229bc",
   "metadata": {},
   "outputs": [
    {
     "data": {
      "text/plain": [
       "0"
      ]
     },
     "execution_count": 29,
     "metadata": {},
     "output_type": "execute_result"
    }
   ],
   "source": [
    "# # use ts to specify the x and y extents of bounding box (default 1000)\n",
    "warp_cmd = [\"gdalwarp\",\"-overwrite\", ncalm_tallORunderstory, ncalm_fVEG, \"-tr\", str(10),str(10),'-srcnodata','-9999','-r','average','-dstnodata','-9999']\n",
    "subprocess.call(warp_cmd)"
   ]
  },
  {
   "cell_type": "code",
   "execution_count": 32,
   "id": "cf42d632-334b-4642-8385-222625f6e7a1",
   "metadata": {},
   "outputs": [
    {
     "data": {
      "text/plain": [
       "0"
      ]
     },
     "execution_count": 32,
     "metadata": {},
     "output_type": "execute_result"
    }
   ],
   "source": [
    "# # use ts to specify the x and y extents of bounding box (default 1000)\n",
    "# warp_cmd = [\"gdalwarp\",\"-overwrite\", clump_size, clump_size_30, \"-tr\", str(30),str(30),'-srcnodata','-9999','-r','average','-dstnodata','-9999']\n",
    "warp_cmd = [\"gdalwarp\",\"-overwrite\", clump_size, clump_size_10, \"-tr\", str(10),str(10),'-srcnodata','-9999','-r','average','-dstnodata','-9999']\n",
    "\n",
    "subprocess.call(warp_cmd)"
   ]
  },
  {
   "cell_type": "code",
   "execution_count": 33,
   "id": "2af1de98-261f-4bc6-8017-ae664caaddf2",
   "metadata": {},
   "outputs": [
    {
     "data": {
      "text/plain": [
       "0"
      ]
     },
     "execution_count": 33,
     "metadata": {},
     "output_type": "execute_result"
    }
   ],
   "source": [
    "# # use ts to specify the x and y extents of bounding box (default 1000)\n",
    "# warp_cmd = [\"gdalwarp\",\"-overwrite\", dist_to_nearest_canopy, dist_to_nearest_canopy_30m, \"-tr\", str(30),str(30),'-srcnodata','-9999','-r','average','-dstnodata','-9999']\n",
    "warp_cmd = [\"gdalwarp\",\"-overwrite\", dist_to_nearest_canopy, dist_to_nearest_canopy_10m, \"-tr\", str(10),str(10),'-srcnodata','-9999','-r','average','-dstnodata','-9999']\n",
    "\n",
    "subprocess.call(warp_cmd)"
   ]
  },
  {
   "cell_type": "markdown",
   "id": "08468d65-2615-4f9a-8426-8fd21732e78a",
   "metadata": {},
   "source": [
    "## Calculate Snow Depth"
   ]
  },
  {
   "cell_type": "markdown",
   "id": "48b0cb74-973f-4f9a-899d-223d761b7b53",
   "metadata": {},
   "source": [
    "Time to bring the snow in... <br>\n",
    "For each flight, we have two snow depths, filtered at 3 meters and 5 meters to use for open vs. under canopy <br>\n",
    "We use the general open/short/tall/understory classifications above but refine for each flight"
   ]
  },
  {
   "cell_type": "markdown",
   "id": "1e6e7f46-06ae-4b30-9c5f-1e00c94cd801",
   "metadata": {},
   "source": [
    "### Refine Vegetation Classes"
   ]
  },
  {
   "cell_type": "code",
   "execution_count": 345,
   "id": "f498ae6d-06b8-4fd8-8085-9c10fce76c98",
   "metadata": {},
   "outputs": [],
   "source": [
    "# snow_depth_LTET3 = 'SCB/Sagehen_lidar/ASO/ASO_SCB_20160518/corrected_tif/ASO_SCB_20160518_vbc_3.tif'\n",
    "# snow_depth_LTET5 = 'SCB/Sagehen_lidar/ASO/ASO_SCB_20160518/corrected_tif/ASO_SCB_20160518_vbc_5.tif'\n",
    "# flight_spec_short = 'SCB/Sagehen_lidar/ASO/ASO_SCB_20160518/veg_classes/ASO_SCB_20160518_short.tif'\n",
    "# flight_spec_open = 'SCB/Sagehen_lidar/ASO/ASO_SCB_20160518/veg_classes/ASO_SCB_20160518_open.tif'\n",
    "# flight_spec_understory = 'SCB/Sagehen_lidar/ASO/ASO_SCB_20160518/veg_classes/ASO_SCB_20160518_understory.tif'\n",
    "# flight_spec_tall = 'SCB/Sagehen_lidar/ASO/ASO_SCB_20160518/veg_classes/ASO_SCB_20160518_tall.tif'"
   ]
  },
  {
   "cell_type": "code",
   "execution_count": 383,
   "id": "3e3d796b-0f61-4bc2-ba61-e3e56953ecec",
   "metadata": {},
   "outputs": [],
   "source": [
    "# snow_depth_LTET3 = 'SCB/Sagehen_lidar/NCALM/NCALM_SCB_20080210/corrected_tif/NCALM_SCB_20080210_vbc_3.tif'\n",
    "# snow_depth_LTET5 = 'SCB/Sagehen_lidar/NCALM/NCALM_SCB_20080210/corrected_tif/NCALM_SCB_20080210_vbc_5.tif'\n",
    "# flight_spec_short = 'SCB/Sagehen_lidar/NCALM/NCALM_SCB_20080210/veg_classes/NCALM_SCB_20080210_short.tif'\n",
    "# flight_spec_open = 'SCB/Sagehen_lidar/NCALM/NCALM_SCB_20080210/veg_classes/NCALM_SCB_20080210_open.tif'\n",
    "# flight_spec_understory = 'SCB/Sagehen_lidar/NCALM/NCALM_SCB_20080210/veg_classes/NCALM_SCB_20080210_understory.tif'\n",
    "# flight_spec_tall = 'SCB/Sagehen_lidar/NCALM/NCALM_SCB_20080210/veg_classes/NCALM_SCB_20080210_tall.tif'"
   ]
  },
  {
   "cell_type": "markdown",
   "id": "f826cddd-fe1e-449c-8ac3-530781d7bd88",
   "metadata": {},
   "source": [
    "Refine vegetation classifications based on snow-on flights. We set a threshold of 30 cm so that if the snow-on flight is <30 cm greater than the snow-off flight, we do not keep that short/understory pixel. "
   ]
  },
  {
   "cell_type": "code",
   "execution_count": 384,
   "id": "b8eaac95-5b1e-45ff-8f95-bc3b307e99fe",
   "metadata": {},
   "outputs": [
    {
     "data": {
      "text/plain": [
       "CompletedProcess(args=['python', 'C:\\\\Users\\\\cpiske\\\\.conda\\\\envs\\\\lidar\\\\Lib\\\\site-packages\\\\osgeo_utils\\\\gdal_calc.py', '-A', 'SCB/Sagehen_lidar/NCALM/NCALM_SCB_20080210/veg_classes/NCALM_SCB_20080210_understory.tif', '-B', 'SCB/Sagehen_lidar/NCALM/NCALM_SCB_2014/veg_strata/NCALM_SCB_2014_tall.tif', '--NoDataValue', '0', '--outfile', 'SCB/Sagehen_lidar/NCALM/NCALM_SCB_20080210/veg_classes/NCALM_SCB_20080210_tall.tif', '--calc=\"1*logical_or(A>0, B>0)\"', '--overwrite'], returncode=0)"
      ]
     },
     "execution_count": 384,
     "metadata": {},
     "output_type": "execute_result"
    }
   ],
   "source": [
    "SD_open_cmd = ['python',gdal_calc, '-A', snow_depth_LTET5, '-B', ncalm_short,'-C', CHM_LT1pt5,'--NoDataValue','-9999',\n",
    " '--outfile', flight_spec_short, '--calc=\"((A-C)>0.3)*B\"','--overwrite']\n",
    "subprocess.run(SD_open_cmd)\n",
    "\n",
    "SD_open_cmd = ['python',gdal_calc, '-A', flight_spec_short, '-B', ncalm_open,'--NoDataValue','0',\n",
    "    '--outfile', flight_spec_open, '--calc=\"1*logical_or(A>0, B>0)\"','--overwrite']\n",
    "subprocess.run(SD_open_cmd)\n",
    "\n",
    "SD_tall_cmd = ['python',gdal_calc, '-A', snow_depth_LTET3, '-B', ncalm_understory,'-C', CHM_LT1pt5,'--NoDataValue','-9999',\n",
    " '--outfile', flight_spec_understory, '--calc=\"((A-C)>0.3)*B\"','--overwrite']\n",
    "subprocess.run(SD_tall_cmd)\n",
    "\n",
    "SD_tall_cmd = ['python',gdal_calc, '-A', flight_spec_understory, '-B', ncalm_tall,'--NoDataValue','0',\n",
    " '--outfile', flight_spec_tall, '--calc=\"1*logical_or(A>0, B>0)\"','--overwrite']\n",
    "subprocess.run(SD_tall_cmd)"
   ]
  },
  {
   "cell_type": "code",
   "execution_count": 385,
   "id": "ad682a46-250d-4094-881e-0e6375e3b666",
   "metadata": {},
   "outputs": [],
   "source": [
    "toc = time.perf_counter()"
   ]
  },
  {
   "cell_type": "markdown",
   "id": "26fab49d-eb59-4015-bc43-32b740003526",
   "metadata": {},
   "source": [
    "### Calculate Snow Depth"
   ]
  },
  {
   "cell_type": "code",
   "execution_count": 386,
   "id": "682f44eb-df3b-4f5a-b17a-61b261014ba1",
   "metadata": {},
   "outputs": [],
   "source": [
    "tic=time.perf_counter()"
   ]
  },
  {
   "cell_type": "code",
   "execution_count": 348,
   "id": "c3f2a51b-9901-4216-9a5e-12226f1a2844",
   "metadata": {},
   "outputs": [],
   "source": [
    "# snow_depth_all_pts = 'SCB/Sagehen_lidar/ASO/ASO_SCB_20160518/snow_depth/ASO_SCB_20160518_SD_all.tif'\n",
    "# snow_depth_open = 'SCB/Sagehen_lidar/ASO/ASO_SCB_20160518/snow_depth/ASO_SCB_20160518_SD_open.tif'\n",
    "# snow_depth_tall = 'SCB/Sagehen_lidar/ASO/ASO_SCB_20160518/snow_depth/ASO_SCB_20160518_SD_tall.tif'"
   ]
  },
  {
   "cell_type": "code",
   "execution_count": 387,
   "id": "99152668-b344-43f1-91bc-0df95870f316",
   "metadata": {},
   "outputs": [],
   "source": [
    "snow_depth_all_pts = 'SCB/Sagehen_lidar/NCALM/NCALM_SCB_20080210/snow_depth/NCALM_SCB_20080210_SD_all.tif'\n",
    "snow_depth_open = 'SCB/Sagehen_lidar/NCALM/NCALM_SCB_20080210/snow_depth/NCALM_SCB_20080210_SD_open.tif'\n",
    "snow_depth_tall = 'SCB/Sagehen_lidar/NCALM/NCALM_SCB_20080210/snow_depth/NCALM_SCB_20080210_SD_tall.tif'"
   ]
  },
  {
   "cell_type": "code",
   "execution_count": 388,
   "id": "c71b24d1-4997-47cf-bade-5b495d422400",
   "metadata": {},
   "outputs": [
    {
     "data": {
      "text/plain": [
       "0"
      ]
     },
     "execution_count": 388,
     "metadata": {},
     "output_type": "execute_result"
    }
   ],
   "source": [
    "SD_open_cmd = ['python',gdal_calc, '-A', snow_depth_LTET5, '-B', flight_spec_open,'--NoDataValue','-9999',\n",
    " '--outfile', snow_depth_open, '--calc=\"A*B\"','--overwrite']\n",
    "subprocess.run(SD_open_cmd)\n",
    "\n",
    "SD_tall_cmd = ['python',gdal_calc, '-A', snow_depth_LTET3, '-B', flight_spec_tall,'--NoDataValue','-9999',\n",
    " '--outfile', snow_depth_tall, '--calc=\"A*B\"','--overwrite']\n",
    "subprocess.run(SD_tall_cmd)\n",
    "\n",
    "merge_command = [\"python\", gdal_merge, \"-o\", snow_depth_all_pts, snow_depth_open, snow_depth_tall,'-a_nodata','-9999']\n",
    "subprocess.call(merge_command)"
   ]
  },
  {
   "cell_type": "markdown",
   "id": "b7e189ad-e44a-4a85-9bee-5be07882e930",
   "metadata": {},
   "source": [
    "## Filter Data\n",
    "No we filter the snow depths in two critical ways.<br> From Kostadinov et al, 2019 \"by excluding areas\n",
    "and improving the accuracy of the lidar-derived elevation datasets. Slopes greater than 30o and lake/pond water bodies as delineated by the National Hydrography Dataset (high resolution) (https://nhd.usgs.gov/) were excluded from the analysis. We used this slope threshold because the uncertainty in elevation increases dramatically above 30 degrees slope (Takahashi et al., 2005; Tinkham et al., 2012).\""
   ]
  },
  {
   "cell_type": "code",
   "execution_count": 9,
   "id": "df34702f-9e04-4aa2-b769-0feeba2414e5",
   "metadata": {},
   "outputs": [],
   "source": [
    "# Filter out all water bodies\n",
    "input_shp = 'SCB/supporting_files/masks/NHDWaterbody_2018_EPSG26910.shp'"
   ]
  },
  {
   "cell_type": "code",
   "execution_count": 509,
   "id": "698bf6aa-416a-403b-b33b-e73036487e3c",
   "metadata": {},
   "outputs": [],
   "source": [
    "# input_tif = 'SCB/Sagehen_lidar/NCALM/NCALM_SCB_2014/veg_strata/veg_characteristics/NCALM_SCB_2014_DNC.tif'"
   ]
  },
  {
   "cell_type": "code",
   "execution_count": 511,
   "id": "21f1683b-5bab-4019-a065-90790912f1f2",
   "metadata": {},
   "outputs": [],
   "source": [
    "# burn_command = ['gdal_rasterize', '-b', '1', '-burn', '-9999', input_shp, input_tif]\n",
    "# subprocess.call(burn_command)"
   ]
  },
  {
   "cell_type": "code",
   "execution_count": null,
   "id": "17a309ac-445b-4b1c-b20d-722b6347d3a7",
   "metadata": {},
   "outputs": [
    {
     "data": {
      "text/plain": [
       "0"
      ]
     },
     "execution_count": 390,
     "metadata": {},
     "output_type": "execute_result"
    }
   ],
   "source": [
    "burn_command = ['gdal_rasterize', '-b', '1', '-burn', '-9999', input_shp, snow_depth_open]\n",
    "subprocess.call(burn_command)\n",
    "burn_command = ['gdal_rasterize', '-b', '1', '-burn', '-9999', input_shp, snow_depth_all_pts]\n",
    "subprocess.call(burn_command)\n",
    "burn_command = ['gdal_rasterize', '-b', '1', '-burn', '-9999', input_shp, snow_depth_tall]\n",
    "subprocess.call(burn_command)"
   ]
  },
  {
   "cell_type": "code",
   "execution_count": null,
   "id": "cc0a0d53-ff32-46ee-bbc1-ba04590c9f34",
   "metadata": {},
   "outputs": [],
   "source": [
    "# snow_depth_all_pts = 'SCB/Sagehen_lidar/ASO/ASO_SCB_20160326/snow_depth/ASO_SCB_20160326_SD_all.tif'\n",
    "# snow_depth_filSlope = 'SCB/Sagehen_lidar/ASO/ASO_SCB_20160326/snow_depth/ASO_SCB_20160326_SD_filSlope.tif'\n",
    "# snow_depth_refined = 'SCB/Sagehen_lidar/ASO/ASO_SCB_20160326/snow_depth/ASO_SCB_20160326_SD.tif'"
   ]
  },
  {
   "cell_type": "code",
   "execution_count": null,
   "id": "2910ec61-9e70-4034-97a9-e6230a090a4b",
   "metadata": {},
   "outputs": [],
   "source": [
    "snow_depth_all_pts = 'SCB/Sagehen_lidar/NCALM/NCALM_SCB_20080210/snow_depth/NCALM_SCB_20080210_SD_all.tif'\n",
    "snow_depth_filSlope = 'SCB/Sagehen_lidar/NCALM/NCALM_SCB_20080210/snow_depth/NCALM_SCB_20080210_SD_filSlope.tif'\n",
    "snow_depth_refined = 'SCB/Sagehen_lidar/NCALM/NCALM_SCB_20080210/snow_depth/NCALM_SCB_20080210_SD.tif'"
   ]
  },
  {
   "cell_type": "code",
   "execution_count": 398,
   "id": "c86cc612-ecde-4a4f-bd4a-d92223fd0aea",
   "metadata": {},
   "outputs": [
    {
     "data": {
      "text/plain": [
       "CompletedProcess(args=['python', 'C:\\\\Users\\\\cpiske\\\\.conda\\\\envs\\\\lidar\\\\Lib\\\\site-packages\\\\osgeo_utils\\\\gdal_calc.py', '-A', 'SCB/Sagehen_lidar/NCALM/NCALM_SCB_20080210/snow_depth/NCALM_SCB_20080210_SD_all.tif', '-B', 'SCB/Sagehen_lidar/NCALM/NCALM_SCB_2014/DEM/SCB/NCALM_2014_slope.tif', '--NoDataValue', '0', '--outfile', 'SCB/Sagehen_lidar/NCALM/NCALM_SCB_20080210/snow_depth/NCALM_SCB_20080210_SD_filSlope.tif', '--calc=\"A*(B<=30)\"', '--overwrite'], returncode=0)"
      ]
     },
     "execution_count": 398,
     "metadata": {},
     "output_type": "execute_result"
    }
   ],
   "source": [
    "sd_filter_cmd = ['python',gdal_calc, '-A', snow_depth_all_pts,'-B',slope,'--NoDataValue','0',\n",
    " '--outfile', snow_depth_filSlope, '--calc=\"A*(B<=30)\"','--overwrite']\n",
    "subprocess.run(sd_filter_cmd)"
   ]
  },
  {
   "cell_type": "code",
   "execution_count": 401,
   "id": "f71798b7-80d6-4bb0-8747-85e365eaedb4",
   "metadata": {},
   "outputs": [
    {
     "data": {
      "text/plain": [
       "CompletedProcess(args=['python', 'C:\\\\Users\\\\cpiske\\\\.conda\\\\envs\\\\lidar\\\\Lib\\\\site-packages\\\\osgeo_utils\\\\gdal_calc.py', '-A', 'SCB/Sagehen_lidar/NCALM/NCALM_SCB_20080210/snow_depth/NCALM_SCB_20080210_SD_filSlope.tif', '--NoDataValue', '-9999', '--outfile', 'SCB/Sagehen_lidar/NCALM/NCALM_SCB_20080210/snow_depth/NCALM_SCB_20080210_SD.tif', '--calc=\"A*(A>=0.15)\"', '--overwrite'], returncode=0)"
      ]
     },
     "execution_count": 401,
     "metadata": {},
     "output_type": "execute_result"
    }
   ],
   "source": [
    "sd_filter_cmd = ['python',gdal_calc, '-A', snow_depth_filSlope,'--NoDataValue','-9999',\n",
    " '--outfile', snow_depth_refined, '--calc=\"A*(A>=0.15)\"','--overwrite']\n",
    "subprocess.run(sd_filter_cmd)"
   ]
  },
  {
   "cell_type": "markdown",
   "id": "ddffb195-d173-4615-8920-c5539ec42de9",
   "metadata": {},
   "source": [
    "### Create Vegetation Buffer\n",
    "for statistical analysis later"
   ]
  },
  {
   "cell_type": "code",
   "execution_count": 466,
   "id": "dc00ca09-f0ea-487e-85c7-61923e5017db",
   "metadata": {},
   "outputs": [],
   "source": [
    "src_tall = 'SCB/Sagehen_lidar/ASO/ASO_SCB_20160326/veg_classes/ASO_SCB_20160326_tall.tif'\n",
    "buffer_tall = 'SCB/Sagehen_lidar/ASO/ASO_SCB_20160326/veg_classes/ASO_SCB_20160326_tall_buffered.tif'"
   ]
  },
  {
   "cell_type": "code",
   "execution_count": 435,
   "id": "1cedfe71-74c9-4021-a038-4ab2bde8ac3a",
   "metadata": {},
   "outputs": [],
   "source": [
    "# src_tall = 'SCB/Sagehen_lidar/NCALM/NCALM_SCB_20080210/veg_classes/NCALM_SCB_20080210_tall.tif'\n",
    "# buffer_tall = 'SCB/Sagehen_lidar/NCALM/NCALM_SCB_20080210/veg_classes/NCALM_SCB_20080210_tall_buffered.tif'"
   ]
  },
  {
   "cell_type": "code",
   "execution_count": 436,
   "id": "9f27ec24-7be8-415b-b193-d603c5dc37de",
   "metadata": {},
   "outputs": [
    {
     "data": {
      "text/plain": [
       "CompletedProcess(args=['python', 'C:\\\\Users\\\\cpiske\\\\.conda\\\\envs\\\\lidar\\\\Lib\\\\site-packages\\\\osgeo_utils\\\\gdal_proximity.py', 'SCB/Sagehen_lidar/NCALM/NCALM_SCB_20080210/veg_classes/NCALM_SCB_20080210_tall.tif', 'SCB/Sagehen_lidar/NCALM/NCALM_SCB_20080210/veg_classes/NCALM_SCB_20080210_tall_buffered.tif', '-values', '1', '-maxdist', '1', '-nodata', '1', '-fixed-buf-val', '0'], returncode=0)"
      ]
     },
     "execution_count": 436,
     "metadata": {},
     "output_type": "execute_result"
    }
   ],
   "source": [
    "proximity_cmd = ['python',gdal_proximity, src_tall, buffer_tall,'-values','1','-maxdist','1','-nodata','1','-fixed-buf-val','0']\n",
    "subprocess.run(proximity_cmd)"
   ]
  },
  {
   "cell_type": "code",
   "execution_count": 467,
   "id": "6410edb6-141c-409d-aa3b-d04106c1fdb4",
   "metadata": {},
   "outputs": [],
   "source": [
    "src_open = 'SCB/Sagehen_lidar/ASO/ASO_SCB_20160326/veg_classes/ASO_SCB_20160326_open.tif'\n",
    "buffer_open = 'SCB/Sagehen_lidar/ASO/ASO_SCB_20160326/veg_classes/ASO_SCB_20160326_open_buffered.tif'"
   ]
  },
  {
   "cell_type": "code",
   "execution_count": 468,
   "id": "da92f3fc-0a7b-49c6-ac2f-c2ca45a2a5a1",
   "metadata": {},
   "outputs": [],
   "source": [
    "# src_open = 'SCB/Sagehen_lidar/NCALM/NCALM_SCB_20080210/veg_classes/NCALM_SCB_20080210_open.tif'\n",
    "# buffer_open = 'SCB/Sagehen_lidar/NCALM/NCALM_SCB_20080210/veg_classes/NCALM_SCB_20080210_open_buffered.tif'"
   ]
  },
  {
   "cell_type": "code",
   "execution_count": 469,
   "id": "4f4e5e28-c882-4402-87f2-4e2a7212d6a2",
   "metadata": {},
   "outputs": [
    {
     "data": {
      "text/plain": [
       "CompletedProcess(args=['python', 'C:\\\\Users\\\\cpiske\\\\.conda\\\\envs\\\\lidar\\\\Lib\\\\site-packages\\\\osgeo_utils\\\\gdal_calc.py', '-A', 'SCB/Sagehen_lidar/ASO/ASO_SCB_20160326/veg_classes/ASO_SCB_20160326_open.tif', '-B', 'SCB/Sagehen_lidar/ASO/ASO_SCB_20160326/veg_classes/ASO_SCB_20160326_tall_buffered.tif', '--NoDataValue', '0', '--outfile', 'SCB/Sagehen_lidar/ASO/ASO_SCB_20160326/veg_classes/ASO_SCB_20160326_open_buffered.tif', '--calc=\"A*B\"', '--overwrite'], returncode=0)"
      ]
     },
     "execution_count": 469,
     "metadata": {},
     "output_type": "execute_result"
    }
   ],
   "source": [
    "buffer_cmd = ['python',gdal_calc, '-A', src_open,'-B',buffer_tall,'--NoDataValue','0',\n",
    " '--outfile', buffer_open, '--calc=\"A*B\"','--overwrite']\n",
    "subprocess.run(buffer_cmd)"
   ]
  },
  {
   "cell_type": "markdown",
   "id": "c1fea5d1-71d6-45aa-85a1-799d67077a4e",
   "metadata": {},
   "source": [
    "## Calculate SWE"
   ]
  },
  {
   "cell_type": "markdown",
   "id": "94fd2f2f-78fc-4093-9b6b-b17d46e2b393",
   "metadata": {},
   "source": [
    "Start by making sure our density rasters align with snow depth rasters <br>\n",
    "from the Lidar Processing workflow we can extract our bounds: '730235.96, 738826.45,4364741.66,4372273.16'"
   ]
  },
  {
   "cell_type": "markdown",
   "id": "51b967d4-3083-4cae-995b-d85fc9f39ce2",
   "metadata": {},
   "source": [
    "### Align Rasters"
   ]
  },
  {
   "cell_type": "code",
   "execution_count": 440,
   "id": "8ec48284-fdac-4b5c-8e09-fbab41d88fe8",
   "metadata": {},
   "outputs": [],
   "source": [
    "input_density = 'SCB/Sagehen_lidar/ASO/ASO_SCB_20160518/snow_density/20160518_1m.tif'\n",
    "output_density = 'SCB/Sagehen_lidar/ASO/ASO_SCB_20160518/snow_density/ASO_SCB_20160518_snowDensity.tif'"
   ]
  },
  {
   "cell_type": "code",
   "execution_count": 441,
   "id": "d7d6b660-6daf-40e2-8b69-3216fb3937dd",
   "metadata": {},
   "outputs": [],
   "source": [
    "# input_density = 'SCB/Sagehen_lidar/NCALM/NCALM_SCB_20080210/snow_density/density_20080210_1m.tif'\n",
    "# output_density = 'SCB/Sagehen_lidar/NCALM/NCALM_SCB_20080210/snow_density/NCALM_SCB_20080210_snowDensity.tif'"
   ]
  },
  {
   "cell_type": "code",
   "execution_count": 442,
   "id": "8f9ef0f5-8857-43dd-88c0-20262bfa4814",
   "metadata": {},
   "outputs": [
    {
     "data": {
      "text/plain": [
       "0"
      ]
     },
     "execution_count": 442,
     "metadata": {},
     "output_type": "execute_result"
    }
   ],
   "source": [
    "warp_cmd = [\"gdalwarp\",\"-overwrite\", input_density, output_density, \"-te\", '730235.96', '4364741.66', '738826.9599999999627471', '4372273.16', '-tr','1','1','-dstnodata','0']\n",
    "subprocess.call(warp_cmd)"
   ]
  },
  {
   "cell_type": "markdown",
   "id": "aecb947b-6d35-4b9f-a2c1-4c1f28c34eaf",
   "metadata": {},
   "source": [
    "### Calculate SWE"
   ]
  },
  {
   "cell_type": "code",
   "execution_count": 487,
   "id": "c3965366-e8e3-4a89-a7ca-80cd11363e72",
   "metadata": {},
   "outputs": [],
   "source": [
    "input_snow_depth =  'SCB/Sagehen_lidar/ASO/ASO_SCB_20160326/snow_depth/ASO_SCB_20160326_SD.tif'\n",
    "input_snow_depth_open=  'SCB/Sagehen_lidar/ASO/ASO_SCB_20160326/snow_depth/ASO_SCB_20160326_SD_open.tif'\n",
    "input_snow_depth_tall =  'SCB/Sagehen_lidar/ASO/ASO_SCB_20160326/snow_depth/ASO_SCB_20160326_SD_tall.tif'\n",
    "\n",
    "input_snow_density = 'SCB/Sagehen_lidar/ASO/ASO_SCB_20160326/snow_density/ASO_SCB_20160326_snowDensity.tif'\n",
    "\n",
    "output_SWE =  'SCB/Sagehen_lidar/ASO/ASO_SCB_20160326/SWE/ASO_SCB_20160326_SWE.tif'\n",
    "output_SWE_open =  'SCB/Sagehen_lidar/ASO/ASO_SCB_20160326/SWE/ASO_SCB_20160326_SWE_open.tif'\n",
    "output_SWE_tall =  'SCB/Sagehen_lidar/ASO/ASO_SCB_20160326/SWE/ASO_SCB_20160326_SWE_tall.tif'"
   ]
  },
  {
   "cell_type": "code",
   "execution_count": 532,
   "id": "f7454d65-b21f-415e-aafd-7ec2336cb525",
   "metadata": {},
   "outputs": [],
   "source": [
    "# input_snow_depth =  'SCB/Sagehen_lidar/NCALM/NCALM_SCB_20080210/snow_depth/NCALM_SCB_20080210_SD.tif'\n",
    "# input_snow_depth_open =  'SCB/Sagehen_lidar/NCALM/NCALM_SCB_20080210/snow_depth/NCALM_SCB_20080210_SD_open.tif'\n",
    "# input_snow_depth_tall =  'SCB/Sagehen_lidar/NCALM/NCALM_SCB_20080210/snow_depth/NCALM_SCB_20080210_SD_tall.tif'\n",
    "\n",
    "# input_snow_density = 'SCB/Sagehen_lidar/NCALM/NCALM_SCB_20080210/snow_density/NCALM_SCB_20080210_snowDensity.tif'\n",
    "\n",
    "# output_SWE =  'SCB/Sagehen_lidar/NCALM/NCALM_SCB_20080210/SWE/NCALM_SCB_20080210_SWE.tif'\n",
    "# output_SWE_open =  'SCB/Sagehen_lidar/NCALM/NCALM_SCB_20080210/SWE/NCALM_SCB_20080210_SWE_open.tif'\n",
    "# output_SWE_tall =  'SCB/Sagehen_lidar/NCALM/NCALM_SCB_20080210/SWE/NCALM_SCB_20080210_SWE_tall.tif'"
   ]
  },
  {
   "cell_type": "code",
   "execution_count": 533,
   "id": "8e27f99e-876d-4c41-819c-ed8d5aa919aa",
   "metadata": {},
   "outputs": [
    {
     "data": {
      "text/plain": [
       "CompletedProcess(args=['python', 'C:\\\\Users\\\\cpiske\\\\.conda\\\\envs\\\\lidar\\\\Lib\\\\site-packages\\\\osgeo_utils\\\\gdal_calc.py', '-A', 'SCB/Sagehen_lidar/NCALM/NCALM_SCB_20080210/snow_depth/NCALM_SCB_20080210_SD_tall.tif', '-B', 'SCB/Sagehen_lidar/NCALM/NCALM_SCB_20080210/snow_density/NCALM_SCB_20080210_snowDensity.tif', '--NoDataValue', '-9999', '--outfile', 'SCB/Sagehen_lidar/NCALM/NCALM_SCB_20080210/SWE/NCALM_SCB_20080210_SWE_tall.tif', '--calc=\"A*B*100\"', '--overwrite'], returncode=0)"
      ]
     },
     "execution_count": 533,
     "metadata": {},
     "output_type": "execute_result"
    }
   ],
   "source": [
    "swe_cmd = ['python',gdal_calc, '-A', input_snow_depth,'-B',input_snow_density,'--NoDataValue','-9999',\n",
    " '--outfile', output_SWE, '--calc=\"A*B*100\"','--overwrite']\n",
    "subprocess.run(swe_cmd)\n",
    "\n",
    "swe_open_cmd = ['python',gdal_calc, '-A', input_snow_depth_open,'-B',input_snow_density,'--NoDataValue','-9999',\n",
    " '--outfile', output_SWE_open, '--calc=\"A*B*100\"','--overwrite']\n",
    "subprocess.run(swe_open_cmd)\n",
    "\n",
    "swe_tall_cmd = ['python',gdal_calc, '-A', input_snow_depth_tall,'-B',input_snow_density,'--NoDataValue','-9999',\n",
    " '--outfile', output_SWE_tall, '--calc=\"A*B*100\"','--overwrite']\n",
    "subprocess.run(swe_tall_cmd)"
   ]
  },
  {
   "cell_type": "markdown",
   "id": "88251533-3525-443a-9d7c-369582bd655d",
   "metadata": {},
   "source": [
    "#### Apply Buffer Zones"
   ]
  },
  {
   "cell_type": "code",
   "execution_count": 534,
   "id": "ffde070e-4f15-4b6b-afbd-eeb0d7bb74a0",
   "metadata": {},
   "outputs": [],
   "source": [
    "# input_SWE =  'SCB/Sagehen_lidar/ASO/ASO_SCB_20160326/SWE/ASO_SCB_20160326_SWE.tif'\n",
    "# buffer_open = 'SCB/Sagehen_lidar/ASO/ASO_SCB_20160326/veg_classes/ASO_SCB_20160326_open_buffered.tif'\n",
    "# SWE_open_buffered =  'SCB/Sagehen_lidar/ASO/ASO_SCB_20160326/SWE/ASO_SCB_20160326_SWE_open_buffered.tif'"
   ]
  },
  {
   "cell_type": "code",
   "execution_count": 535,
   "id": "b031eca5-a4b3-4cf4-9af0-1fd7685e674f",
   "metadata": {},
   "outputs": [],
   "source": [
    "input_SWE =  'SCB/Sagehen_lidar/NCALM/NCALM_SCB_20080210/SWE/NCALM_SCB_20080210_SWE.tif'\n",
    "buffer_open = 'SCB/Sagehen_lidar/NCALM/NCALM_SCB_20080210/veg_classes/NCALM_SCB_20080210_open_buffered.tif'\n",
    "SWE_open_buffered =  'SCB/Sagehen_lidar/NCALM/NCALM_SCB_20080210/SWE/NCALM_SCB_20080210_SWE_open_buffered.tif'"
   ]
  },
  {
   "cell_type": "code",
   "execution_count": 536,
   "id": "2350b334-845d-4d02-a56d-39a1f471c1df",
   "metadata": {},
   "outputs": [
    {
     "data": {
      "text/plain": [
       "CompletedProcess(args=['python', 'C:\\\\Users\\\\cpiske\\\\.conda\\\\envs\\\\lidar\\\\Lib\\\\site-packages\\\\osgeo_utils\\\\gdal_calc.py', '-A', 'SCB/Sagehen_lidar/NCALM/NCALM_SCB_20080210/SWE/NCALM_SCB_20080210_SWE.tif', '-B', 'SCB/Sagehen_lidar/NCALM/NCALM_SCB_20080210/veg_classes/NCALM_SCB_20080210_open_buffered.tif', '--NoDataValue', '-9999', '--outfile', 'SCB/Sagehen_lidar/NCALM/NCALM_SCB_20080210/SWE/NCALM_SCB_20080210_SWE_open_buffered.tif', '--calc=\"A*B\"', '--overwrite'], returncode=0)"
      ]
     },
     "execution_count": 536,
     "metadata": {},
     "output_type": "execute_result"
    }
   ],
   "source": [
    "swe_open_cmd = ['python',gdal_calc, '-A', input_SWE,'-B',buffer_open,'--NoDataValue','-9999',\n",
    " '--outfile', SWE_open_buffered, '--calc=\"A*B\"','--overwrite']\n",
    "subprocess.run(swe_open_cmd)"
   ]
  },
  {
   "cell_type": "markdown",
   "id": "b48c7f4f-2e9c-4fc2-be3a-562d1e750747",
   "metadata": {},
   "source": [
    "### Resample"
   ]
  },
  {
   "cell_type": "code",
   "execution_count": 553,
   "id": "79f3fbd2-9366-435b-9b10-7b64adb57eee",
   "metadata": {},
   "outputs": [],
   "source": [
    "# input_tif = 'SCB/Sagehen_lidar/ASO/ASO_SCB_20160518/SWE/ASO_SCB_20160518_SWE_open_buffered.tif'\n",
    "# output_tif = 'SCB/Sagehen_lidar/ASO/ASO_SCB_20160518/SWE/ASO_SCB_20160518_SWE_open_buffered_30m.tif'\n",
    "input_tree_tif = 'SCB/Sagehen_lidar/ASO/ASO_SCB_20160326/SWE/ASO_SCB_20160326_SWE_tall.tif'\n",
    "output_tree_tif = 'SCB/Sagehen_lidar/ASO/ASO_SCB_20160326/SWE/ASO_SCB_20160326_SWE_tall_30m.tif'"
   ]
  },
  {
   "cell_type": "code",
   "execution_count": 571,
   "id": "aec19fe3-203b-4bec-9780-07afffff72fe",
   "metadata": {},
   "outputs": [],
   "source": [
    "# open_input_tif = 'SCB/Sagehen_lidar/NCALM/NCALM_SCB_20080210/SWE/NCALM_SCB_20080210_SWE_open_buffered.tif'\n",
    "# open_output_tif = 'SCB/Sagehen_lidar/NCALM/NCALM_SCB_20080210/SWE/NCALM_SCB_20080210_SWE_open_buffered_30m.tif'\n",
    "input_tif = 'SCB/Sagehen_lidar/NCALM/NCALM_SCB_20080210/SWE/NCALM_SCB_20080210_SWE.tif'\n",
    "output_tif = 'SCB/Sagehen_lidar/NCALM/NCALM_SCB_20080210/SWE/NCALM_SCB_20080210_SWE_30m.tif'"
   ]
  },
  {
   "cell_type": "code",
   "execution_count": 572,
   "id": "53caee04-1aa2-4cb9-a8b3-ce38cd04e38c",
   "metadata": {},
   "outputs": [
    {
     "data": {
      "text/plain": [
       "0"
      ]
     },
     "execution_count": 572,
     "metadata": {},
     "output_type": "execute_result"
    }
   ],
   "source": [
    "warp_cmd = [\"gdalwarp\",\"-overwrite\", input_tif, output_tif, \"-tr\", str(30),str(30),'-srcnodata','-9999','-dstnodata','-9999','-r','average']\n",
    "subprocess.call(warp_cmd)"
   ]
  },
  {
   "cell_type": "markdown",
   "id": "098c37a1-7a7f-44dc-9c84-542e0c449413",
   "metadata": {},
   "source": [
    "2008"
   ]
  },
  {
   "cell_type": "code",
   "execution_count": 38,
   "id": "a26b4880-a317-48ac-9365-156d028c725a",
   "metadata": {},
   "outputs": [],
   "source": [
    "# open_input_tif = 'SCB/Sagehen_lidar/NCALM/NCALM_SCB_20080210/SWE/NCALM_SCB_20080210_SWE_open_buffered.tif'\n",
    "# open_output_tif = 'SCB/Sagehen_lidar/NCALM/NCALM_SCB_20080210/SWE/NCALM_SCB_20080210_SWE_open_buffered_10m.tif'\n",
    "# input_tif = 'SCB/Sagehen_lidar/NCALM/NCALM_SCB_20080210/SWE/NCALM_SCB_20080210_SWE.tif'\n",
    "# output_tif = 'SCB/Sagehen_lidar/NCALM/NCALM_SCB_20080210/SWE/NCALM_SCB_20080210_SWE_10m.tif'\n",
    "# input_tif = 'SCB/Sagehen_lidar/NCALM/NCALM_SCB_20080210/SWE/NCALM_SCB_20080210_SWE_tall.tif'\n",
    "# output_tif = 'SCB/Sagehen_lidar/NCALM/NCALM_SCB_20080210/SWE/NCALM_SCB_20080210_SWE_tall_10m.tif'"
   ]
  },
  {
   "cell_type": "markdown",
   "id": "00cfff4f-6151-443b-ad10-64e46035b99a",
   "metadata": {},
   "source": [
    "2016"
   ]
  },
  {
   "cell_type": "code",
   "execution_count": 24,
   "id": "7b0b6507-f26f-4e01-bf5d-48e99ba241c0",
   "metadata": {},
   "outputs": [],
   "source": [
    "# input_tif = 'SCB/Sagehen_lidar/ASO/ASO_SCB_20160417/SWE/ASO_SCB_20160417_SWE.tif'\n",
    "# output_tif = 'SCB/Sagehen_lidar/ASO/ASO_SCB_20160417/SWE/ASO_SCB_20160417_SWE_10m.tif'\n",
    "# input_tif = 'SCB/Sagehen_lidar/ASO/ASO_SCB_20160417/SWE/ASO_SCB_20160417_SWE_open_buffered.tif'\n",
    "# output_tif = 'SCB/Sagehen_lidar/ASO/ASO_SCB_20160417/SWE/ASO_SCB_20160417_SWE_open_buffered_10m.tif'\n",
    "# input_tif = 'SCB/Sagehen_lidar/ASO/ASO_SCB_20160417/SWE/ASO_SCB_20160417_SWE_tall.tif'\n",
    "# output_tif = 'SCB/Sagehen_lidar/ASO/ASO_SCB_20160417/SWE/ASO_SCB_20160417_SWE_tall_10m.tif'"
   ]
  },
  {
   "cell_type": "markdown",
   "id": "07f2c723-1550-4e4d-9a04-869fede5c86d",
   "metadata": {},
   "source": [
    "Terrain"
   ]
  },
  {
   "cell_type": "code",
   "execution_count": 36,
   "id": "c2470247-7f3a-4dfe-8f92-3a99c80ee632",
   "metadata": {},
   "outputs": [],
   "source": [
    "input_tif = 'SCB/Sagehen_lidar/NCALM/NCALM_SCB_2014/DEM/SCB/NCALM_2014_BE.tif'\n",
    "output_tif = 'SCB/Sagehen_lidar/NCALM/NCALM_SCB_2014/DEM/SCB/NCALM_2014_BE_10m.tif'\n",
    "\n",
    "input_tif = 'SCB/Sagehen_lidar/NCALM/NCALM_SCB_2014/DEM/SCB/NCALM_2014_Nness.tif'\n",
    "output_tif = 'SCB/Sagehen_lidar/NCALM/NCALM_SCB_2014/DEM/SCB/NCALM_2014_Nness_10m.tif'"
   ]
  },
  {
   "cell_type": "code",
   "execution_count": 39,
   "id": "3cc2cec5-e652-476b-b93f-beba6c40b3df",
   "metadata": {},
   "outputs": [
    {
     "data": {
      "text/plain": [
       "0"
      ]
     },
     "execution_count": 39,
     "metadata": {},
     "output_type": "execute_result"
    }
   ],
   "source": [
    "warp_cmd = [\"gdalwarp\",\"-overwrite\", input_tif, output_tif, \"-tr\", str(10),str(10),'-srcnodata','-9999','-dstnodata','-9999','-r','average']\n",
    "subprocess.call(warp_cmd)"
   ]
  },
  {
   "cell_type": "code",
   "execution_count": 37,
   "id": "05d2e0c3-9ac6-47e1-8a76-aabd4b1c2cbc",
   "metadata": {},
   "outputs": [
    {
     "data": {
      "text/plain": [
       "0"
      ]
     },
     "execution_count": 37,
     "metadata": {},
     "output_type": "execute_result"
    }
   ],
   "source": [
    "warp_cmd = [\"gdalwarp\",\"-overwrite\", input_tif, output_tif, \"-tr\", str(10),str(10),'-srcnodata','-9999','-dstnodata','-9999','-r','average']\n",
    "subprocess.call(warp_cmd)"
   ]
  },
  {
   "cell_type": "code",
   "execution_count": null,
   "id": "dba99ef6-a1ca-413b-bf60-5683a429cdc6",
   "metadata": {},
   "outputs": [],
   "source": []
  }
 ],
 "metadata": {
  "kernelspec": {
   "display_name": "Python 3 (ipykernel)",
   "language": "python",
   "name": "python3"
  },
  "language_info": {
   "codemirror_mode": {
    "name": "ipython",
    "version": 3
   },
   "file_extension": ".py",
   "mimetype": "text/x-python",
   "name": "python",
   "nbconvert_exporter": "python",
   "pygments_lexer": "ipython3",
   "version": "3.9.7"
  }
 },
 "nbformat": 4,
 "nbformat_minor": 5
}
