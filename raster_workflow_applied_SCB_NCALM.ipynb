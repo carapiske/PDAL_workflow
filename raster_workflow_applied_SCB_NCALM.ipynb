{
 "cells": [
  {
   "cell_type": "markdown",
   "id": "6c02ac40-bcd0-4a7d-ab54-887f67ec64de",
   "metadata": {},
   "source": [
    "# Raster Processing Workflow\n",
    "**Cara Piske, Graduate Program of Hydrologic Sciences, 2022; Advisor: Dr. Adrian Harpold**<br>\n",
    "<p>This code processes rasterized LAS files. <br>\n",
    "Lidar data were provided by the Airborne Snow Observatory (ASO), the National Center for Airborne Laser Mapping (NCALM), and Watershed Sciences Inc. (WSI). <br>\n",
    "\n",
    "The goal of this project is to process snow depth to the one-meter spatial scale while maintaining conservative under-canopy estimates. Therefore, little interpolation occurs under-canopy. We follow these protocols in order to obtain a 1-m rasterized product (as opposed to the 3-m rasterized product provided by ASO on the NSIDC data portal). NCALM and WSI flights were obtained through OpenTopography."
   ]
  },
  {
   "cell_type": "code",
   "execution_count": 1,
   "id": "0de1e9e2-c61e-4dfd-bdb4-3bd93eb22ba8",
   "metadata": {},
   "outputs": [],
   "source": [
    "# import necessary packages \n",
    "from osgeo import gdal, ogr, osr\n",
    "import csv\n",
    "import os\n",
    "import subprocess\n",
    "import sys\n",
    "import pdal\n",
    "import matplotlib.pyplot as plt\n",
    "import numpy as np\n",
    "import json\n",
    "import glob\n",
    "import time\n",
    "#import pycrown\n",
    "# competing paths on our PC \n",
    "gdal_merge = os.path.join('C:\\\\','Users','cpiske','.conda','envs','lidar','Lib','site-packages','osgeo_utils','gdal_merge.py')\n",
    "gdal_calc = os.path.join('C:\\\\','Users','cpiske','.conda','envs','lidar','Lib','site-packages','osgeo_utils','gdal_calc.py')\n",
    "gdal_warp = os.path.join('C:\\\\','Users','cpiske','.conda','envs','lidar','Lib','site-packages','osgeo_utils','gdal_warp.py')\n",
    "gdal_polygonize = os.path.join('C:\\\\','Users','cpiske','.conda','envs','lidar','Lib','site-packages','osgeo_utils','gdal_polygonize.py')\n",
    "gdal_proximity = os.path.join('C:\\\\','Users','cpiske','.conda','envs','lidar','Lib','site-packages','osgeo_utils','gdal_proximity.py')"
   ]
  },
  {
   "cell_type": "code",
   "execution_count": 2,
   "id": "ae9d2484-c59c-4a4d-a203-285f04543c77",
   "metadata": {},
   "outputs": [
    {
     "name": "stdout",
     "output_type": "stream",
     "text": [
      "G:\\\n"
     ]
    }
   ],
   "source": [
    "#make sure we're in the right working directory\n",
    "os.chdir('/')\n",
    "print(os.getcwd())"
   ]
  },
  {
   "cell_type": "code",
   "execution_count": null,
   "id": "70e38e49-ab23-4ab0-b272-906f2e619082",
   "metadata": {},
   "outputs": [],
   "source": []
  },
  {
   "cell_type": "markdown",
   "id": "815b8722-79d6-4306-a701-fdf424d1743d",
   "metadata": {
    "tags": []
   },
   "source": [
    "## Classify Vegetation\n",
    "We use vegetation classifications based on specific strata. See: https://docs.google.com/document/d/1-HndVgydwBWQGCzLMCvowkY_Idll0IDog-vd3OrTiio/edit?usp=sharing"
   ]
  },
  {
   "cell_type": "code",
   "execution_count": 20,
   "id": "fa2d1c56-e6e7-4395-9164-af59ba88220c",
   "metadata": {
    "tags": []
   },
   "outputs": [],
   "source": [
    "# assign var names\n",
    "# Number of Returns in each HAG strata\n",
    "strata_neg0pt15_0pt15 = 'SCB/Sagehen_lidar/NCALM/NCALM_SCB_20201120/canopy_metrics/veg_height_strata/vegStrata_neg0pt15_0pt15.tif'\n",
    "strata_0pt15_1pt5 = 'SCB/Sagehen_lidar/NCALM/NCALM_SCB_20201120/canopy_metrics/veg_height_strata/vegStrata_0pt15_1pt5.tif'\n",
    "strata_1pt5_3 = 'SCB/Sagehen_lidar/NCALM/NCALM_SCB_20201120/canopy_metrics/veg_height_strata/vegStrata_1pt5_3.tif'\n",
    "strata_3 = 'SCB/Sagehen_lidar/NCALM/NCALM_SCB_20201120/canopy_metrics/veg_height_strata/vegStrata_3.tif'\n",
    "# Filter based off criteria for vegetation classes, files are binary\n",
    "counts_filtered_path = 'SCB/Sagehen_lidar/NCALM/NCALM_SCB_20201120/canopy_metrics/veg_height_strata/counts_filtered/'\n",
    "strata_neg0pt15_0pt15_GT0 = counts_filtered_path + 'strata_neg0pt15_0pt15_GT0.tif'\n",
    "strata_neg0pt15_0pt15_GTET0 = counts_filtered_path + 'strata_neg0pt15_0pt15_GTET0.tif'\n",
    "strata_0pt15_1pt5_GT0 = counts_filtered_path + 'strata_0pt15_1pt5_GT0.tif'\n",
    "strata_0pt15_1pt5_ET0 = counts_filtered_path + 'strata_0pt15_1pt5_ET0.tif'\n",
    "strata_1pt5_3_ET0 = counts_filtered_path + 'strata_1pt5_3_ET0.tif'\n",
    "strata_3_GT0 = counts_filtered_path + 'strata_3_GT0.tif'\n",
    "strata_3_ET0 = counts_filtered_path + 'strata_3_ET0.tif'\n",
    "\n",
    "# Vegetation Classes, files are binary\n",
    "ncalm_open = 'SCB/Sagehen_lidar/NCALM/NCALM_SCB_20201120/canopy_metrics/veg_classes/NCALM_SCB_20201120_open.tif'\n",
    "ncalm_tall = 'SCB/Sagehen_lidar/NCALM/NCALM_SCB_20201120/canopy_metrics/veg_classes/NCALM_SCB_20201120_tall.tif'\n",
    "ncalm_short = 'SCB/Sagehen_lidar/NCALM/NCALM_SCB_20201120/canopy_metrics/veg_classes/NCALM_SCB_20201120_short.tif'\n",
    "ncalm_understory = 'SCB/Sagehen_lidar/NCALM/NCALM_SCB_20201120/canopy_metrics/veg_classes/NCALM_SCB_20201120_understory.tif'\n",
    "\n",
    "ncalm_tallORunderstory = 'SCB/Sagehen_lidar/NCALM/NCALM_SCB_20201120/canopy_metrics/veg_classes/NCALM_SCB_20201120_tallORunderstory.tif'\n",
    "ncalm_openORshort = 'SCB/Sagehen_lidar/NCALM/NCALM_SCB_20201120/canopy_metrics/veg_classes/NCALM_SCB_20201120_openORshort.tif'\n",
    "\n",
    "ncalm_short_HAG = 'SCB/Sagehen_lidar/NCALM/NCALM_SCB_20201120/canopy_metrics/veg_classes/NCALM_SCB_20201120_short_HAG.tif'\n",
    "ncalm_understory_HAG = 'SCB/Sagehen_lidar/NCALM/NCALM_SCB_20201120/canopy_metrics/veg_classes/NCALM_SCB_20201120_understory_HAG.tif'\n",
    "\n",
    "CHM_LT1pt5 = 'SCB/Sagehen_lidar/NCALM/NCALM_SCB_20201120/canopy_metrics/veg_structure/CHM/NCALM_SCB_20201120_CHM_LT1pt5.tif'\n",
    "CHM = 'SCB/Sagehen_lidar/NCALM/NCALM_SCB_20201120/canopy_metrics/veg_structure/CHM/NCALM_SCB_20201120_CHM.tif'\n",
    "\n",
    "# veg_OpenTall = 'SCB/Sagehen_lidar/NCALM/NCALM_SCB_20201120/veg_strata/NCALM_SCB_20201120_tallORopen.tif'\n",
    "# veg_total = 'SCB/Sagehen_lidar/NCALM/NCALM_SCB_20201120/veg_strata/NCALM_SCB_20201120_shortORtallORopen.tif'\n",
    "\n",
    "veg_classified = 'SCB/Sagehen_lidar/NCALM/NCALM_SCB_20201120/canopy_metrics/veg_classes/NCALM_SCB_20201120_vegClassified.tif'"
   ]
  },
  {
   "cell_type": "markdown",
   "id": "78ba61cc-16cd-422a-a367-f7acf1ddfb0f",
   "metadata": {},
   "source": [
    "We'll start off by looking at the number of returns in each height strata and filtering based off of our criteria. <br>"
   ]
  },
  {
   "cell_type": "code",
   "execution_count": 4,
   "id": "65b985a3-f0b3-4192-91ec-bf8bd51030ea",
   "metadata": {},
   "outputs": [],
   "source": [
    "# nor_filtered_cmd_a = ['python', gdal_calc, '-A', strata_neg0pt15_0pt15, '--outfile', strata_neg0pt15_0pt15_GT0, '--calc=\"A>0\"','--overwrite']\n",
    "# nor_filtered_cmd_b = ['python', gdal_calc, '-A', strata_neg0pt15_0pt15, '--outfile', strata_neg0pt15_0pt15_GTET0, '--calc=\"A>=0\"','--overwrite']\n",
    "# nor_filtered_cmd_c = ['python', gdal_calc, '-A', strata_0pt15_1pt5, '--outfile', strata_0pt15_1pt5_GT0, '--calc=\"A>0\"','--overwrite']\n",
    "# nor_filtered_cmd_d = ['python', gdal_calc, '-A', strata_0pt15_1pt5, '--outfile', strata_0pt15_1pt5_ET0, '--calc=\"A==0\"','--overwrite']\n",
    "# nor_filtered_cmd_e = ['python', gdal_calc, '-A', strata_1pt5_3, '--outfile', strata_1pt5_3_ET0, '--calc=\"A==0\"','--overwrite']\n",
    "# nor_filtered_cmd_f = ['python', gdal_calc, '-A', strata_3, '--outfile', strata_3_ET0, '--calc=\"A==0\"','--overwrite']\n",
    "# nor_filtered_cmd_g = ['python', gdal_calc, '-A', strata_3, '--outfile', strata_3_GT0, '--calc=\"A>0\"','--overwrite']\n",
    "\n",
    "# subprocess.run(nor_filtered_cmd_a)\n",
    "# subprocess.run(nor_filtered_cmd_b)\n",
    "# subprocess.run(nor_filtered_cmd_c)\n",
    "# subprocess.run(nor_filtered_cmd_d)\n",
    "# subprocess.run(nor_filtered_cmd_e)\n",
    "# subprocess.run(nor_filtered_cmd_f)\n",
    "# subprocess.run(nor_filtered_cmd_g)"
   ]
  },
  {
   "cell_type": "markdown",
   "id": "8da919e8-3b59-4a1c-b267-6e77f93766f0",
   "metadata": {},
   "source": [
    "### Open, Tall, Short Veg, Understory\n",
    "After filtering based of strata criteria, we can classify the snow-off flight into vegetation classifications. <br> \n"
   ]
  },
  {
   "cell_type": "code",
   "execution_count": 7,
   "id": "83879183-8b90-4919-9947-8dd40ed89c37",
   "metadata": {},
   "outputs": [
    {
     "data": {
      "text/plain": [
       "CompletedProcess(args=['python', 'C:\\\\Users\\\\cpiske\\\\.conda\\\\envs\\\\lidar\\\\Lib\\\\site-packages\\\\osgeo_utils\\\\gdal_calc.py', '-A', 'SCB/Sagehen_lidar/NCALM/NCALM_SCB_20201120/canopy_metrics/veg_height_strata/counts_filtered/strata_neg0pt15_0pt15_GTET0.tif', '-B', 'SCB/Sagehen_lidar/NCALM/NCALM_SCB_20201120/canopy_metrics/veg_height_strata/counts_filtered/strata_0pt15_1pt5_GT0.tif', '-C', 'SCB/Sagehen_lidar/NCALM/NCALM_SCB_20201120/canopy_metrics/veg_height_strata/counts_filtered/strata_1pt5_3_ET0.tif', '-D', 'SCB/Sagehen_lidar/NCALM/NCALM_SCB_20201120/canopy_metrics/veg_height_strata/counts_filtered/strata_3_GT0.tif', '--NoDataValue', '0', '--outfile', 'SCB/Sagehen_lidar/NCALM/NCALM_SCB_20201120/canopy_metrics/veg_classes/NCALM_SCB_20201120_understory.tif', '--calc=\"A*B*C*D\"', '--overwrite'], returncode=0)"
      ]
     },
     "execution_count": 7,
     "metadata": {},
     "output_type": "execute_result"
    }
   ],
   "source": [
    "# it's necessary for the NaN to be 0 here because we eventually multiply these rasters by snow rasters and \n",
    "# we don't want artificial 0's\n",
    "open_cmd = ['python', gdal_calc, '-A', strata_neg0pt15_0pt15_GT0, '-B', strata_0pt15_1pt5_ET0,'-C',strata_1pt5_3_ET0,'-D',strata_3_ET0,'--NoDataValue','0',\n",
    " '--outfile', ncalm_open, '--calc=\"A*B*C*D\"','--overwrite']\n",
    "subprocess.run(open_cmd)\n",
    "\n",
    "tall_cmd = ['python', gdal_calc, '-A', strata_neg0pt15_0pt15_GTET0, '-B', strata_0pt15_1pt5_ET0,'-C',strata_1pt5_3_ET0,'-D',strata_3_GT0,'--NoDataValue','0',\n",
    " '--outfile', ncalm_tall, '--calc=\"A*B*C*D\"','--overwrite']\n",
    "subprocess.run(tall_cmd)\n",
    "\n",
    "short_cmd = ['python', gdal_calc, '-A', strata_neg0pt15_0pt15_GTET0, '-B', strata_0pt15_1pt5_GT0,'-C',strata_1pt5_3_ET0,'-D',strata_3_ET0,'--NoDataValue','0',\n",
    " '--outfile', ncalm_short, '--calc=\"A*B*C*D\"','--overwrite']\n",
    "subprocess.run(short_cmd)\n",
    "\n",
    "understory_cmd = ['python', gdal_calc, '-A', strata_neg0pt15_0pt15_GTET0, '-B', strata_0pt15_1pt5_GT0,'-C',strata_1pt5_3_ET0,'-D',strata_3_GT0,'--NoDataValue','0',\n",
    " '--outfile', ncalm_understory, '--calc=\"A*B*C*D\"','--overwrite']\n",
    "subprocess.run(understory_cmd)"
   ]
  },
  {
   "cell_type": "code",
   "execution_count": null,
   "id": "bc535681-e395-405d-bd94-ce1dbca0bbd5",
   "metadata": {},
   "outputs": [],
   "source": [
    "# Not necessary\n",
    "# # now we want nan to be -9999\n",
    "# open_cmd = ['python', gdal_calc, '-A', strata_neg0pt15_0pt15_GT0, '-B', strata_0pt15_1pt5_ET0,'-C',strata_1pt5_3_ET0,'-D',strata_3_ET0,'--NoDataValue','-9999',\n",
    "#  '--outfile', ncalm_open_nan9999, '--calc=\"A*B*C*D\"','--overwrite']\n",
    "# subprocess.run(open_cmd)\n",
    "\n",
    "# tall_cmd = ['python', gdal_calc, '-A', strata_neg0pt15_0pt15_GTET0, '-B', strata_0pt15_1pt5_ET0,'-C',strata_1pt5_3_ET0,'-D',strata_3_GT0,'--NoDataValue','-9999',\n",
    "#  '--outfile', ncalm_tall_nan9999, '--calc=\"A*B*C*D\"','--overwrite']\n",
    "# subprocess.run(tall_cmd)\n",
    "\n",
    "# short_cmd = ['python', gdal_calc, '-A', strata_neg0pt15_0pt15_GTET0, '-B', strata_0pt15_1pt5_GT0,'-C',strata_1pt5_3_ET0,'-D',strata_3_ET0,'--NoDataValue','-9999',\n",
    "#  '--outfile', ncalm_short_nan9999, '--calc=\"A*B*C*D\"','--overwrite']\n",
    "# subprocess.run(short_cmd)\n",
    "\n",
    "# understory_cmd = ['python', gdal_calc, '-A', strata_neg0pt15_0pt15_GTET0, '-B', strata_0pt15_1pt5_GT0,'-C',strata_1pt5_3_ET0,'-D',strata_3_GT0,'--NoDataValue','-9999',\n",
    "#  '--outfile', ncalm_understory_nan9999, '--calc=\"A*B*C*D\"','--overwrite']\n",
    "# subprocess.run(understory_cmd)"
   ]
  },
  {
   "cell_type": "markdown",
   "id": "f7e2c852-39e9-48df-9091-5ca867f661de",
   "metadata": {},
   "source": [
    "Now let's extract the HAG values at potential short/understory locations"
   ]
  },
  {
   "cell_type": "code",
   "execution_count": 12,
   "id": "c5b12364-31a5-4588-85d7-a08323b25ecf",
   "metadata": {},
   "outputs": [
    {
     "data": {
      "text/plain": [
       "CompletedProcess(args=['python', 'C:\\\\Users\\\\cpiske\\\\.conda\\\\envs\\\\lidar\\\\Lib\\\\site-packages\\\\osgeo_utils\\\\gdal_calc.py', '-A', 'SCB/Sagehen_lidar/NCALM/NCALM_SCB_20201120/canopy_metrics/veg_classes/NCALM_SCB_20201120_short.tif', '-B', 'SCB/Sagehen_lidar/NCALM/NCALM_SCB_20201120/canopy_metrics/veg_structure/CHM/NCALM_SCB_20201120_CHM_LT1pt5.tif', '--outfile', 'SCB/Sagehen_lidar/NCALM/NCALM_SCB_20201120/canopy_metrics/NCALM_SCB_20201120_short_HAG.tif', '--calc=\"B*A\"', '--overwrite', '--NoDataValue', '-9999'], returncode=0)"
      ]
     },
     "execution_count": 12,
     "metadata": {},
     "output_type": "execute_result"
    }
   ],
   "source": [
    "short_cmd = ['python', gdal_calc, '-A', ncalm_short, '-B', CHM_LT1pt5,\n",
    " '--outfile', ncalm_short_HAG, '--calc=\"B*A\"','--overwrite','--NoDataValue','-9999']\n",
    "subprocess.run(short_cmd)\n",
    "\n",
    "understory_cmd = ['python', gdal_calc, '-A', ncalm_understory, '-B', CHM_LT1pt5,'--NoDataValue','-9999',\n",
    " '--outfile', ncalm_understory_HAG, '--calc=\"A*B\"','--overwrite']\n",
    "subprocess.run(understory_cmd)"
   ]
  },
  {
   "cell_type": "code",
   "execution_count": 23,
   "id": "c7b4f07b-398c-419d-975f-0bc586167bbe",
   "metadata": {
    "tags": []
   },
   "outputs": [
    {
     "data": {
      "text/plain": [
       "CompletedProcess(args=['python', 'C:\\\\Users\\\\cpiske\\\\.conda\\\\envs\\\\lidar\\\\Lib\\\\site-packages\\\\osgeo_utils\\\\gdal_calc.py', '-A', 'SCB/Sagehen_lidar/NCALM/NCALM_SCB_20201120/canopy_metrics/veg_classes/NCALM_SCB_20201120_tall.tif', '-B', 'SCB/Sagehen_lidar/NCALM/NCALM_SCB_20201120/canopy_metrics/veg_classes/NCALM_SCB_20201120_understory.tif', '--outfile', 'SCB/Sagehen_lidar/NCALM/NCALM_SCB_20201120/canopy_metrics/veg_classes/NCALM_SCB_20201120_tallORunderstory.tif', '--calc=\"B+A\"', '--overwrite', '--hideNoData', '--NoDataValue', '0'], returncode=0)"
      ]
     },
     "execution_count": 23,
     "metadata": {},
     "output_type": "execute_result"
    }
   ],
   "source": [
    "# tall or understory\n",
    "tall_cmd = ['python', gdal_calc, '-A', ncalm_tall, '-B', ncalm_understory,\n",
    " '--outfile', ncalm_tallORunderstory, '--calc=\"B+A\"','--overwrite','--hideNoData','--NoDataValue','0']\n",
    "subprocess.run(tall_cmd)"
   ]
  },
  {
   "cell_type": "code",
   "execution_count": 24,
   "id": "c5ea0743-51d3-4261-85fe-d6936eb767ae",
   "metadata": {},
   "outputs": [
    {
     "data": {
      "text/plain": [
       "CompletedProcess(args=['python', 'C:\\\\Users\\\\cpiske\\\\.conda\\\\envs\\\\lidar\\\\Lib\\\\site-packages\\\\osgeo_utils\\\\gdal_calc.py', '-A', 'SCB/Sagehen_lidar/NCALM/NCALM_SCB_20201120/canopy_metrics/veg_classes/NCALM_SCB_20201120_open.tif', '-B', 'SCB/Sagehen_lidar/NCALM/NCALM_SCB_20201120/canopy_metrics/veg_classes/NCALM_SCB_20201120_short.tif', '--outfile', 'SCB/Sagehen_lidar/NCALM/NCALM_SCB_20201120/canopy_metrics/veg_classes/NCALM_SCB_20201120_openORshort.tif', '--calc=\"B+A\"', '--overwrite', '--NoDataValue', '0'], returncode=0)"
      ]
     },
     "execution_count": 24,
     "metadata": {},
     "output_type": "execute_result"
    }
   ],
   "source": [
    "# short or open\n",
    "short_cmd = ['python', gdal_calc, '-A', ncalm_open, '-B', ncalm_short,\n",
    " '--outfile', ncalm_openORshort, '--calc=\"B+A\"','--overwrite','--NoDataValue','0']\n",
    "subprocess.run(short_cmd)"
   ]
  },
  {
   "cell_type": "code",
   "execution_count": 34,
   "id": "d3828909-121d-4feb-b903-f299aed388ef",
   "metadata": {},
   "outputs": [
    {
     "data": {
      "text/plain": [
       "CompletedProcess(args=['python', 'C:\\\\Users\\\\cpiske\\\\.conda\\\\envs\\\\lidar\\\\Lib\\\\site-packages\\\\osgeo_utils\\\\gdal_calc.py', '-A', 'SCB/Sagehen_lidar/NCALM/NCALM_SCB_20201120/canopy_metrics/veg_classes/NCALM_SCB_20201120_open.tif', '-B', 'SCB/Sagehen_lidar/NCALM/NCALM_SCB_20201120/canopy_metrics/veg_classes/NCALM_SCB_20201120_short.tif', '-C', 'SCB/Sagehen_lidar/NCALM/NCALM_SCB_20201120/canopy_metrics/veg_classes/NCALM_SCB_20201120_understory.tif', '-D', 'SCB/Sagehen_lidar/NCALM/NCALM_SCB_20201120/canopy_metrics/veg_classes/NCALM_SCB_20201120_tall.tif', '--outfile', 'SCB/Sagehen_lidar/NCALM/NCALM_SCB_20201120/canopy_metrics/veg_classes/NCALM_SCB_20201120_vegClassified.tif', '--calc=\"A+(2*B)+(3*C)+(4*D)\"', '--overwrite', '--hideNoData', '--NoDataValue', '-9999'], returncode=0)"
      ]
     },
     "execution_count": 34,
     "metadata": {},
     "output_type": "execute_result"
    }
   ],
   "source": [
    "# classify all veg\n",
    "\n",
    "veg_cmd = ['python', gdal_calc, '-A', ncalm_open, '-B', ncalm_short, '-C', ncalm_understory, '-D', ncalm_tall,\n",
    " '--outfile', veg_classified, '--calc=\"A+(2*B)+(3*C)+(4*D)\"','--overwrite', '--hideNoData','--NoDataValue','-9999']\n",
    "subprocess.run(veg_cmd)"
   ]
  },
  {
   "cell_type": "markdown",
   "id": "0f8134ef-3d6c-4ade-8922-a85fc45258db",
   "metadata": {},
   "source": [
    "#### Filter\n",
    "water bodies"
   ]
  },
  {
   "cell_type": "code",
   "execution_count": 35,
   "id": "a0a20a65-d4fb-4e43-ac33-74ac2d9b4dd8",
   "metadata": {},
   "outputs": [],
   "source": [
    "input_shp = 'SCB/supporting_files/masks/NHDWaterbody_2018_EPSG26910.shp'\n",
    "input_list = [ncalm_open, ncalm_tall, ncalm_short, ncalm_understory, ncalm_tallORunderstory, ncalm_openORshort]\n",
    "for input_tif in input_list:\n",
    "    burn_command = ['gdal_rasterize', '-b', '1', '-burn', '0', input_shp, input_tif]\n",
    "    subprocess.call(burn_command)\n",
    "\n",
    "input_listb = [ncalm_short_HAG, ncalm_understory_HAG, veg_classified]\n",
    "for input_tif in input_listb:\n",
    "    burn_command = ['gdal_rasterize', '-b', '1', '-burn', '0', input_shp, input_tif]\n",
    "    subprocess.call(burn_command)"
   ]
  },
  {
   "cell_type": "markdown",
   "id": "e831eb12-d80f-421f-811a-b66c01af985b",
   "metadata": {},
   "source": [
    "### Characterize Veg"
   ]
  },
  {
   "cell_type": "code",
   "execution_count": 36,
   "id": "243de11b-6a49-410e-b815-9440ea085c71",
   "metadata": {},
   "outputs": [],
   "source": [
    "# Filter out all water bodies\n",
    "input_shp = 'SCB/supporting_files/masks/NHDWaterbody_2018_EPSG26910.shp'"
   ]
  },
  {
   "cell_type": "code",
   "execution_count": 37,
   "id": "bbee2d95-f50a-4319-9c31-7384ac6daf48",
   "metadata": {},
   "outputs": [],
   "source": [
    "#ncalm_tallORunderstory = 'SCB/Sagehen_lidar/NCALM/NCALM_SCB_20201120/canopy_metrics/veg_classes/NCALM_SCB_20201120_tallORunderstory.tif'\n",
    "dist_to_nearest_canopy = 'SCB/Sagehen_lidar/NCALM/NCALM_SCB_20201120/canopy_metrics/veg_structure/NCALM_SCB_20201120_DNC.tif'\n",
    "dist_to_nearest_canopy_30 = 'SCB/Sagehen_lidar/NCALM/NCALM_SCB_20201120/canopy_metrics/veg_structure/NCALM_SCB_20201120_DNC_30m.tif'\n",
    "dist_to_nearest_canopy_10 = 'SCB/Sagehen_lidar/NCALM/NCALM_SCB_20201120/canopy_metrics/veg_structure/NCALM_SCB_2020_DNC_10m.tif'\n",
    "\n",
    "clump_size = 'SCB/Sagehen_lidar/NCALM/NCALM_SCB_20201120/canopy_metrics/veg_structure/NCALM_SCB_20201120_clumpSize.tif'\n",
    "clump_size_30 = 'SCB/Sagehen_lidar/NCALM/NCALM_SCB_20201120/canopy_metrics/veg_structure/NCALM_SCB_20201120_clumpSize_30m.tif'\n",
    "clump_size_10 = 'SCB/Sagehen_lidar/NCALM/NCALM_SCB_20201120/canopy_metrics/veg_structure/NCALM_SCB_20201120_clumpSize_10m.tif'"
   ]
  },
  {
   "cell_type": "markdown",
   "id": "6d413b15-ab5d-445c-a8aa-6b1ab33065f2",
   "metadata": {},
   "source": [
    "#### DNC"
   ]
  },
  {
   "cell_type": "code",
   "execution_count": 38,
   "id": "aa402a41-ffb1-45a0-9885-adcbe9fa1b44",
   "metadata": {},
   "outputs": [
    {
     "data": {
      "text/plain": [
       "CompletedProcess(args=['python', 'C:\\\\Users\\\\cpiske\\\\.conda\\\\envs\\\\lidar\\\\Lib\\\\site-packages\\\\osgeo_utils\\\\gdal_proximity.py', 'SCB/Sagehen_lidar/NCALM/NCALM_SCB_20201120/canopy_metrics/veg_classes/NCALM_SCB_20201120_tallORunderstory.tif', 'SCB/Sagehen_lidar/NCALM/NCALM_SCB_20201120/canopy_metrics/veg_structure/NCALM_SCB_20201120_DNC.tif', '-values', '1', '-nodata', '-9999'], returncode=0)"
      ]
     },
     "execution_count": 38,
     "metadata": {},
     "output_type": "execute_result"
    }
   ],
   "source": [
    "# extract vegetation cover (average height and density) across the watershed\n",
    "proximity_cmd = ['python',gdal_proximity, ncalm_tallORunderstory, dist_to_nearest_canopy,'-values','1','-nodata','-9999']\n",
    "subprocess.run(proximity_cmd)"
   ]
  },
  {
   "cell_type": "code",
   "execution_count": 39,
   "id": "093e2dc6-d0d7-4812-bdb8-ba0fd4693795",
   "metadata": {},
   "outputs": [
    {
     "data": {
      "text/plain": [
       "0"
      ]
     },
     "execution_count": 39,
     "metadata": {},
     "output_type": "execute_result"
    }
   ],
   "source": [
    "burn_command = ['gdal_rasterize', '-b', '1', '-burn', '-9999', input_shp, dist_to_nearest_canopy]\n",
    "subprocess.call(burn_command)"
   ]
  },
  {
   "cell_type": "code",
   "execution_count": 40,
   "id": "5fa59204-33a0-4598-8480-8038397583e3",
   "metadata": {},
   "outputs": [
    {
     "data": {
      "text/plain": [
       "0"
      ]
     },
     "execution_count": 40,
     "metadata": {},
     "output_type": "execute_result"
    }
   ],
   "source": [
    "# extract vegetation cover (average height and density) across the watershed\n",
    "# 'python',gdal_proximity\n",
    "proximity_cmd = ['python',gdal_proximity, strata_3, clump_size,'-values','0','-nodata','-9999']\n",
    "subprocess.run(proximity_cmd)\n",
    "burn_command = ['gdal_rasterize', '-b', '1', '-burn', '-9999', input_shp, clump_size]\n",
    "subprocess.call(burn_command)"
   ]
  },
  {
   "cell_type": "code",
   "execution_count": 41,
   "id": "7bb113ae-f825-4592-bf76-17ad5134d9b5",
   "metadata": {},
   "outputs": [
    {
     "data": {
      "text/plain": [
       "0"
      ]
     },
     "execution_count": 41,
     "metadata": {},
     "output_type": "execute_result"
    }
   ],
   "source": [
    "warp_cmd = [\"gdalwarp\",\"-overwrite\", clump_size, clump_size_30, \"-tr\", str(30),str(30),'-srcnodata','-9999','-r','average','-dstnodata','-9999']\n",
    "subprocess.call(warp_cmd)"
   ]
  },
  {
   "cell_type": "code",
   "execution_count": 42,
   "id": "2225ed6a-10ce-49b5-bd3c-3b357bdc8c5d",
   "metadata": {},
   "outputs": [
    {
     "data": {
      "text/plain": [
       "0"
      ]
     },
     "execution_count": 42,
     "metadata": {},
     "output_type": "execute_result"
    }
   ],
   "source": [
    "warp_cmd = [\"gdalwarp\",\"-overwrite\", dist_to_nearest_canopy, dist_to_nearest_canopy_30, \"-tr\", str(30),str(30),'-srcnodata','-9999','-r','average','-dstnodata','-9999']\n",
    "subprocess.call(warp_cmd)"
   ]
  },
  {
   "cell_type": "markdown",
   "id": "4458ee95-aa14-40da-ac4e-edbded756f31",
   "metadata": {},
   "source": [
    "#### fVeg and canopy density"
   ]
  },
  {
   "cell_type": "code",
   "execution_count": 47,
   "id": "2da3d514-117b-49f0-90c3-303c11196078",
   "metadata": {},
   "outputs": [],
   "source": [
    "ncalm_fVEG_30m = 'SCB/Sagehen_lidar/NCALM/NCALM_SCB_20201120/canopy_metrics/veg_structure/fVeg/NCALM_SCB_20201120_fVEG_30m.tif'\n",
    "\n",
    "ncalm_CHM = 'SCB/Sagehen_lidar/NCALM/NCALM_SCB_20201120/canopy_metrics/veg_structure/CHM/NCALM_SCB_20201120_CHM.tif'\n",
    "ncalm_CHM_gt3 = 'SCB/Sagehen_lidar/NCALM/NCALM_SCB_20201120/canopy_metrics/veg_structure/CHM/NCALM_SCB_20201120_CHM_gt3_binary.tif'\n",
    "ncalm_CHM_gt3_sum_30m = 'SCB/Sagehen_lidar/NCALM/NCALM_SCB_20201120/canopy_metrics/veg_structure/CHM/NCALM_SCB_20201120_CHM_gt3_sum_30m.tif'\n",
    "\n",
    "ncalm_canopy_density_30m = 'SCB/Sagehen_lidar/NCALM/NCALM_SCB_20201120/canopy_metrics/veg_structure/fVeg/NCALM_SCB_20201120_canopy_density_30m.tif'\n",
    "ncalm_canopy_density = 'SCB/Sagehen_lidar/NCALM/NCALM_SCB_20201120/canopy_metrics/veg_structure/fVeg/NCALM_SCB_20201120_canopy_density.tif'\n",
    "\n",
    "strata_3_30m = 'SCB/Sagehen_lidar/NCALM/NCALM_SCB_20201120/canopy_metrics/veg_height_strata/vegStrata_3_30m.tif'\n",
    "\n",
    "counts_total = 'SCB/Sagehen_lidar/NCALM/NCALM_SCB_20201120/counts/NCALM_SCB_20201120_counts.tif'\n",
    "counts_total_GT0 = 'SCB/Sagehen_lidar/NCALM/NCALM_SCB_20201120/counts/NCALM_SCB_20201120_counts_GT0.tif'\n",
    "counts_total_GT0_30 = 'SCB/Sagehen_lidar/NCALM/NCALM_SCB_20201120/counts/NCALM_SCB_20201120_counts_GT0_30m.tif'\n",
    "counts_total_30 = 'SCB/Sagehen_lidar/NCALM/NCALM_SCB_20201120/counts/NCALM_SCB_20201120_counts_30m.tif'"
   ]
  },
  {
   "cell_type": "code",
   "execution_count": 48,
   "id": "79e40f1d-6286-4b5e-b2ba-5881e7268d2e",
   "metadata": {},
   "outputs": [
    {
     "data": {
      "text/plain": [
       "CompletedProcess(args=['python', 'C:\\\\Users\\\\cpiske\\\\.conda\\\\envs\\\\lidar\\\\Lib\\\\site-packages\\\\osgeo_utils\\\\gdal_calc.py', '-A', 'SCB/Sagehen_lidar/NCALM/NCALM_SCB_20201120/counts/NCALM_SCB_20201120_counts.tif', '--NoDataValue', '0', '--outfile', 'SCB/Sagehen_lidar/NCALM/NCALM_SCB_20201120/counts/NCALM_SCB_20201120_counts_GT0.tif', '--calc=\"A*(A>0)\"', '--overwrite'], returncode=0)"
      ]
     },
     "execution_count": 48,
     "metadata": {},
     "output_type": "execute_result"
    }
   ],
   "source": [
    "# We need a raster containing a logical for count values gt 0 because there are locations where the count=0\n",
    "# and we don't want to divide by 0\n",
    "veg_cmd = ['python',gdal_calc, '-A', counts_total,'--NoDataValue','0',\n",
    " '--outfile', counts_total_GT0, '--calc=\"A*(A>0)\"','--overwrite']\n",
    "subprocess.run(veg_cmd)"
   ]
  },
  {
   "cell_type": "code",
   "execution_count": 49,
   "id": "b61e9060-388b-4be1-b686-cb7bad82bf23",
   "metadata": {},
   "outputs": [
    {
     "data": {
      "text/plain": [
       "CompletedProcess(args=['python', 'C:\\\\Users\\\\cpiske\\\\.conda\\\\envs\\\\lidar\\\\Lib\\\\site-packages\\\\osgeo_utils\\\\gdal_calc.py', '-A', 'SCB/Sagehen_lidar/NCALM/NCALM_SCB_20201120/counts/NCALM_SCB_20201120_counts_GT0.tif', '-B', 'SCB/Sagehen_lidar/NCALM/NCALM_SCB_20201120/canopy_metrics/veg_height_strata/vegStrata_3.tif', '--NoDataValue', '-9999', '--outfile', 'SCB/Sagehen_lidar/NCALM/NCALM_SCB_20201120/canopy_metrics/veg_structure/fVeg/NCALM_SCB_20201120_canopy_density.tif', '--calc=\"B/A\"', '--overwrite'], returncode=0)"
      ]
     },
     "execution_count": 49,
     "metadata": {},
     "output_type": "execute_result"
    }
   ],
   "source": [
    "veg_cmd = ['python',gdal_calc, '-A', counts_total_GT0, '-B', strata_3,'--NoDataValue','-9999',\n",
    " '--outfile', ncalm_canopy_density, '--calc=\"B/A\"','--overwrite']\n",
    "subprocess.run(veg_cmd)"
   ]
  },
  {
   "cell_type": "code",
   "execution_count": 50,
   "id": "0d1273eb-7195-47bd-a7f4-91dc73b9a1cb",
   "metadata": {},
   "outputs": [
    {
     "data": {
      "text/plain": [
       "CompletedProcess(args=['python', 'C:\\\\Users\\\\cpiske\\\\.conda\\\\envs\\\\lidar\\\\Lib\\\\site-packages\\\\osgeo_utils\\\\gdal_calc.py', '-A', 'SCB/Sagehen_lidar/NCALM/NCALM_SCB_20201120/counts/NCALM_SCB_20201120_counts_30m.tif', '--NoDataValue', '0', '--outfile', 'SCB/Sagehen_lidar/NCALM/NCALM_SCB_20201120/counts/NCALM_SCB_20201120_counts_GT0_30m.tif', '--calc=\"A*(A>0)\"', '--overwrite'], returncode=0)"
      ]
     },
     "execution_count": 50,
     "metadata": {},
     "output_type": "execute_result"
    }
   ],
   "source": [
    "# # use ts to specify the x and y extents of bounding box (default 1000)\n",
    "warp_cmd = [\"gdalwarp\",\"-overwrite\", counts_total, counts_total_30, \"-tr\", str(30),str(30),'-srcnodata','-9999','-r','sum','-dstnodata','-9999']\n",
    "subprocess.call(warp_cmd)\n",
    "# calculate canopy density\n",
    "veg_cmd = ['python',gdal_calc, '-A', counts_total_30,'--NoDataValue','0',\n",
    " '--outfile', counts_total_GT0_30, '--calc=\"A*(A>0)\"','--overwrite']\n",
    "subprocess.run(veg_cmd)"
   ]
  },
  {
   "cell_type": "code",
   "execution_count": 51,
   "id": "052c4f11-d09a-4603-862b-15c429d374c0",
   "metadata": {},
   "outputs": [
    {
     "data": {
      "text/plain": [
       "0"
      ]
     },
     "execution_count": 51,
     "metadata": {},
     "output_type": "execute_result"
    }
   ],
   "source": [
    "warp_cmd = [\"gdalwarp\",\"-overwrite\", strata_3, strata_3_30m, \"-tr\", str(30),str(30),'-srcnodata','-9999','-r','sum','-dstnodata','-9999']\n",
    "subprocess.call(warp_cmd)"
   ]
  },
  {
   "cell_type": "code",
   "execution_count": 52,
   "id": "e4b5f6b7-6df6-43b0-97ab-ee6b1d39c47b",
   "metadata": {},
   "outputs": [
    {
     "data": {
      "text/plain": [
       "CompletedProcess(args=['python', 'C:\\\\Users\\\\cpiske\\\\.conda\\\\envs\\\\lidar\\\\Lib\\\\site-packages\\\\osgeo_utils\\\\gdal_calc.py', '-A', 'SCB/Sagehen_lidar/NCALM/NCALM_SCB_20201120/counts/NCALM_SCB_20201120_counts_GT0_30m.tif', '-B', 'SCB/Sagehen_lidar/NCALM/NCALM_SCB_20201120/canopy_metrics/veg_height_strata/vegStrata_3_30m.tif', '--NoDataValue', '-9999', '--outfile', 'SCB/Sagehen_lidar/NCALM/NCALM_SCB_20201120/canopy_metrics/veg_structure/fVeg/NCALM_SCB_20201120_canopy_density_30m.tif', '--calc=\"B/A\"', '--overwrite'], returncode=0)"
      ]
     },
     "execution_count": 52,
     "metadata": {},
     "output_type": "execute_result"
    }
   ],
   "source": [
    "calc_cmd = ['python',gdal_calc, '-A', counts_total_GT0_30, '-B', strata_3_30m,'--NoDataValue','-9999',\n",
    " '--outfile', ncalm_canopy_density_30m, '--calc=\"B/A\"','--overwrite']\n",
    "subprocess.run(calc_cmd)"
   ]
  },
  {
   "cell_type": "markdown",
   "id": "19f1f7fa-580e-431d-8ed3-d20cd5fe27de",
   "metadata": {},
   "source": [
    "**fVEG**"
   ]
  },
  {
   "cell_type": "code",
   "execution_count": 53,
   "id": "039d5c69-ef4f-421f-bb22-ab844040840e",
   "metadata": {},
   "outputs": [
    {
     "data": {
      "text/plain": [
       "CompletedProcess(args=['python', 'C:\\\\Users\\\\cpiske\\\\.conda\\\\envs\\\\lidar\\\\Lib\\\\site-packages\\\\osgeo_utils\\\\gdal_calc.py', '-A', 'SCB/Sagehen_lidar/NCALM/NCALM_SCB_20201120/canopy_metrics/veg_structure/CHM/NCALM_SCB_20201120_CHM.tif', '--NoDataValue', '-9999', '--outfile', 'SCB/Sagehen_lidar/NCALM/NCALM_SCB_20201120/canopy_metrics/veg_structure/CHM/NCALM_SCB_20201120_CHM_gt3_binary.tif', '--calc=\"A>=3\"', '--overwrite'], returncode=0)"
      ]
     },
     "execution_count": 53,
     "metadata": {},
     "output_type": "execute_result"
    }
   ],
   "source": [
    "fVeg_cmd = ['python',gdal_calc, '-A', ncalm_CHM, '--NoDataValue','-9999',\n",
    " '--outfile', ncalm_CHM_gt3, '--calc=\"A>=3\"','--overwrite']\n",
    "subprocess.run(fVeg_cmd)"
   ]
  },
  {
   "cell_type": "code",
   "execution_count": 54,
   "id": "585ab423-dbba-481e-be3b-97a6052e0186",
   "metadata": {},
   "outputs": [
    {
     "data": {
      "text/plain": [
       "0"
      ]
     },
     "execution_count": 54,
     "metadata": {},
     "output_type": "execute_result"
    }
   ],
   "source": [
    "# # use ts to specify the x and y extents of bounding box (default 1000)\n",
    "# warp_cmd = [\"gdalwarp\",\"-overwrite\", clump_size, clump_size_30, \"-tr\", str(30),str(30),'-srcnodata','-9999','-r','average','-dstnodata','-9999']\n",
    "warp_cmd = [\"gdalwarp\",\"-overwrite\", ncalm_CHM_gt3, ncalm_CHM_gt3_sum_30m, \"-tr\", str(30),str(30),'-srcnodata','-9999','-r','sum','-dstnodata','-9999']\n",
    "\n",
    "subprocess.call(warp_cmd)"
   ]
  },
  {
   "cell_type": "code",
   "execution_count": 55,
   "id": "0c4f7020-090c-4604-a540-6cc3e85dbd4b",
   "metadata": {},
   "outputs": [
    {
     "data": {
      "text/plain": [
       "CompletedProcess(args=['python', 'C:\\\\Users\\\\cpiske\\\\.conda\\\\envs\\\\lidar\\\\Lib\\\\site-packages\\\\osgeo_utils\\\\gdal_calc.py', '-A', 'SCB/Sagehen_lidar/NCALM/NCALM_SCB_20201120/canopy_metrics/veg_structure/CHM/NCALM_SCB_20201120_CHM_gt3_sum_30m.tif', '--NoDataValue', '-9999', '--outfile', 'SCB/Sagehen_lidar/NCALM/NCALM_SCB_20201120/canopy_metrics/veg_structure/fVeg/NCALM_SCB_20201120_fVEG_30m.tif', '--calc=\"A/(30*30)\"', '--overwrite'], returncode=0)"
      ]
     },
     "execution_count": 55,
     "metadata": {},
     "output_type": "execute_result"
    }
   ],
   "source": [
    "# # use ts to specify the x and y extents of bounding box (default 1000)\n",
    "# warp_cmd = [\"gdalwarp\",\"-overwrite\", dist_to_nearest_canopy, dist_to_nearest_canopy_30m, \"-tr\", str(30),str(30),'-srcnodata','-9999','-r','average','-dstnodata','-9999']\n",
    "fVeg_cmd = ['python',gdal_calc, '-A', ncalm_CHM_gt3_sum_30m, '--NoDataValue','-9999',\n",
    " '--outfile', ncalm_fVEG_30m, '--calc=\"A/(30*30)\"','--overwrite']\n",
    "subprocess.run(fVeg_cmd)\n"
   ]
  },
  {
   "cell_type": "markdown",
   "id": "976bfd5b-cc59-497b-96a0-9d77e46c18b0",
   "metadata": {},
   "source": [
    "#### TAO"
   ]
  },
  {
   "cell_type": "markdown",
   "id": "fc071f7e-aa2f-442b-9667-ee7fb8c7d711",
   "metadata": {},
   "source": [
    "See: produce_canopy_metrics.Rmd for TAO delineation <br>\n",
    "Right now, this workflow uses QGIS to convert the TAO delineation from a csv-shp-tif, this could be done here as well (see: https://geopandas.org/en/stable/docs/user_guide/io.html) <br>\n",
    "\n",
    "There are multiple metrics we derive from this product, one is average height/30m pixel, the other is canopy density/30m pixel"
   ]
  },
  {
   "cell_type": "code",
   "execution_count": 64,
   "id": "e5d1c0ba-4ebb-495b-af53-550f3175b7bf",
   "metadata": {},
   "outputs": [],
   "source": [
    "TAO_ras = 'SCB/Sagehen_lidar/NCALM/NCALM_SCB_20201120/canopy_metrics/veg_structure/TAO/NCALM_SCB_20201120_TAO.tif' \n",
    "counts_ras = 'SCB/Sagehen_lidar/NCALM/NCALM_SCB_20201120/canopy_metrics/veg_structure/TAO/NCALM_SCB_20201120_TAO_counts_30m.tif' \n",
    "avg_height_ras = 'SCB/Sagehen_lidar/NCALM/NCALM_SCB_20201120/canopy_metrics/veg_structure/TAO/NCALM_SCB_20201120_avg_TOA_height_30m.tif'\n",
    "max_height_ras = 'SCB/Sagehen_lidar/NCALM/NCALM_SCB_20201120/canopy_metrics/veg_structure/TAO/NCALM_SCB_20201120_max_TOA_height_30m.tif'\n",
    "\n",
    "TAO_ras_binary = 'SCB/Sagehen_lidar/NCALM/NCALM_SCB_20201120/canopy_metrics/veg_structure/TAO/NCALM_SCB_20201120_TAO_binary.tif'\n",
    "TAO_density = 'SCB/Sagehen_lidar/NCALM/NCALM_SCB_20201120/canopy_metrics/veg_structure/TAO/NCALM_SCB_20201120_TAO_density_30m.tif'\n",
    "\n",
    "LAI = 'SCB/Sagehen_lidar/NCALM/NCALM_SCB_20201120/canopy_metrics/veg_structure/NCALM_SCB_20201120_LAI_index_30m.tif'\n"
   ]
  },
  {
   "cell_type": "code",
   "execution_count": 57,
   "id": "2d7a004b-f6ea-4415-a768-f8f72eff7acb",
   "metadata": {},
   "outputs": [
    {
     "data": {
      "text/plain": [
       "CompletedProcess(args=['python', 'C:\\\\Users\\\\cpiske\\\\.conda\\\\envs\\\\lidar\\\\Lib\\\\site-packages\\\\osgeo_utils\\\\gdal_calc.py', '-A', 'SCB/Sagehen_lidar/NCALM/NCALM_SCB_20201120/canopy_metrics/veg_structure/TAO/NCALM_SCB_20201120_TAO.tif', '--NoDataValue', '-9999', '--outfile', 'SCB/Sagehen_lidar/NCALM/NCALM_SCB_20201120/canopy_metrics/veg_structure/TAO/NCALM_SCB_20201120_TAO_binary.tif', '--calc=\"1*A>0\"', '--overwrite'], returncode=0)"
      ]
     },
     "execution_count": 57,
     "metadata": {},
     "output_type": "execute_result"
    }
   ],
   "source": [
    "fVeg_cmd = ['python',gdal_calc, '-A', TAO_ras, '--NoDataValue','-9999',\n",
    " '--outfile', TAO_ras_binary, '--calc=\"1*A>0\"','--overwrite']\n",
    "subprocess.run(fVeg_cmd)"
   ]
  },
  {
   "cell_type": "code",
   "execution_count": 58,
   "id": "8d41541a-09cf-41fe-a92a-be1a8edd8788",
   "metadata": {},
   "outputs": [
    {
     "data": {
      "text/plain": [
       "0"
      ]
     },
     "execution_count": 58,
     "metadata": {},
     "output_type": "execute_result"
    }
   ],
   "source": [
    "warp_cmd = [\"gdalwarp\",\"-overwrite\", TAO_ras_binary, counts_ras, \"-tr\", str(30),str(30),'-srcnodata','-9999','-dstnodata','-9999','-r','sum','-t_srs','EPSG:26910']\n",
    "subprocess.call(warp_cmd)"
   ]
  },
  {
   "cell_type": "code",
   "execution_count": 60,
   "id": "1b6dff82-b909-493a-b63e-4e9cb05da183",
   "metadata": {},
   "outputs": [
    {
     "data": {
      "text/plain": [
       "0"
      ]
     },
     "execution_count": 60,
     "metadata": {},
     "output_type": "execute_result"
    }
   ],
   "source": [
    "warp_cmd = [\"gdalwarp\",\"-overwrite\", TAO_ras, avg_height_ras, \"-tr\", str(30),str(30),'-srcnodata','-9999','-dstnodata','-9999','-r','average','-t_srs','EPSG:26910']\n",
    "subprocess.call(warp_cmd)"
   ]
  },
  {
   "cell_type": "code",
   "execution_count": 61,
   "id": "6cd3366f-79e5-4bed-85bf-fd5398172d97",
   "metadata": {},
   "outputs": [
    {
     "data": {
      "text/plain": [
       "0"
      ]
     },
     "execution_count": 61,
     "metadata": {},
     "output_type": "execute_result"
    }
   ],
   "source": [
    "warp_cmd = [\"gdalwarp\",\"-overwrite\", TAO_ras, max_height_ras, \"-tr\", str(30),str(30),'-srcnodata','-9999','-dstnodata','-9999','-r','max','-t_srs','EPSG:26910']\n",
    "subprocess.call(warp_cmd)"
   ]
  },
  {
   "cell_type": "code",
   "execution_count": 62,
   "id": "e2b11474-eb68-4d83-8d46-a41207ee793f",
   "metadata": {},
   "outputs": [
    {
     "data": {
      "text/plain": [
       "CompletedProcess(args=['python', 'C:\\\\Users\\\\cpiske\\\\.conda\\\\envs\\\\lidar\\\\Lib\\\\site-packages\\\\osgeo_utils\\\\gdal_calc.py', '-A', 'SCB/Sagehen_lidar/NCALM/NCALM_SCB_20201120/canopy_metrics/veg_structure/TAO/NCALM_SCB_20201120_TAO_counts_30m.tif', '--NoDataValue', '-9999', '--outfile', 'SCB/Sagehen_lidar/NCALM/NCALM_SCB_20201120/canopy_metrics/veg_structure/NCALM_SCB_20201120_TAO_density_30m.tif', '--calc=\"A/(30*30)\"', '--overwrite'], returncode=0)"
      ]
     },
     "execution_count": 62,
     "metadata": {},
     "output_type": "execute_result"
    }
   ],
   "source": [
    "fVeg_cmd = ['python',gdal_calc, '-A', counts_ras, '--NoDataValue','-9999',\n",
    " '--outfile', TAO_density, '--calc=\"A/(30*30)\"','--overwrite']\n",
    "subprocess.run(fVeg_cmd)"
   ]
  },
  {
   "cell_type": "markdown",
   "id": "610c05c2-e1c0-48ec-8bbe-129add828c6f",
   "metadata": {},
   "source": [
    "#### Openness\n",
    "\n",
    "Normalize open index by number of trees"
   ]
  },
  {
   "cell_type": "code",
   "execution_count": 69,
   "id": "8117c6ac-0bff-4e62-989a-431517ade671",
   "metadata": {},
   "outputs": [],
   "source": [
    "openness_ind = 'SCB/Sagehen_lidar/NCALM/NCALM_SCB_20201120/canopy_metrics/veg_structure/NCALM_SCB_20201120_DNC_avgTAOheight_30m.tif'\n",
    "DNC_30m = 'SCB/Sagehen_lidar/NCALM/NCALM_SCB_20201120/canopy_metrics/veg_structure/NCALM_SCB_20201120_DNC_30m.tif'\n",
    "avg_TAO_height = 'SCB/Sagehen_lidar/NCALM/NCALM_SCB_20201120/canopy_metrics/veg_structure/TAO/NCALM_SCB_20201120_avg_TOA_height_30m.tif'"
   ]
  },
  {
   "cell_type": "code",
   "execution_count": 80,
   "id": "12c6d8ad-d00d-4a86-80af-2348134baa1b",
   "metadata": {},
   "outputs": [
    {
     "data": {
      "text/plain": [
       "CompletedProcess(args=['python', 'C:\\\\Users\\\\cpiske\\\\.conda\\\\envs\\\\lidar\\\\Lib\\\\site-packages\\\\osgeo_utils\\\\gdal_calc.py', '-A', 'SCB/Sagehen_lidar/NCALM/NCALM_SCB_20201120/canopy_metrics/veg_structure/NCALM_SCB_20201120_DNC_30m.tif', '-B', 'SCB/Sagehen_lidar/NCALM/NCALM_SCB_20201120/canopy_metrics/veg_structure/TAO/NCALM_SCB_20201120_avg_TOA_height_30m.tif', '--NoDataValue', '-9999', '--outfile', 'SCB/Sagehen_lidar/NCALM/NCALM_SCB_20201120/canopy_metrics/veg_structure/NCALM_SCB_20201120_DNC_avgTAOheight_30m.tif', '--calc=\"A*2/B\"', '--overwrite'], returncode=0)"
      ]
     },
     "execution_count": 80,
     "metadata": {},
     "output_type": "execute_result"
    }
   ],
   "source": [
    "veg_cmd = ['python', gdal_calc, '-A', DNC_30m,'-B', avg_TAO_height, '--NoDataValue','-9999',\n",
    " '--outfile', openness_ind, '--calc=\"A*2/B\"','--overwrite']\n",
    "subprocess.run(veg_cmd)"
   ]
  },
  {
   "cell_type": "markdown",
   "id": "40b9de95-ba07-4c29-a0f4-6a8d0ff5fd01",
   "metadata": {},
   "source": [
    "#### LAI'"
   ]
  },
  {
   "cell_type": "code",
   "execution_count": 127,
   "id": "4576cf03-da52-4cd3-8675-fee19b6eaa48",
   "metadata": {},
   "outputs": [],
   "source": [
    "LAI = 'SCB/Sagehen_lidar/NCALM/NCALM_SCB_20201120/canopy_metrics/veg_structure/NCALM_SCB_20201120_LAI_prime.tif'\n",
    "LAI_30 = 'SCB/Sagehen_lidar/NCALM/NCALM_SCB_20201120/canopy_metrics/veg_structure/NCALM_SCB_20201120_LAI_prime_30m.tif'"
   ]
  },
  {
   "cell_type": "code",
   "execution_count": 72,
   "id": "dfe69018-cc1f-4e7e-8376-0d12708d1196",
   "metadata": {},
   "outputs": [],
   "source": [
    "# dertmine which value to use to scale for max veg height\n",
    "ncalm_CHM = 'SCB/Sagehen_lidar/NCALM/NCALM_SCB_20201120/canopy_metrics/veg_structure/CHM/NCALM_SCB_20201120_CHM.tif'\n",
    "CHM_ras = gdal.Open(ncalm_CHM) # open the file \n",
    "CHM_arr = CHM_ras.GetRasterBand(1).ReadAsArray() #read the first raster band (in this case we know we are only working with single bands) and read to a 2D array\n",
    "CHM_ras = None # close rasters"
   ]
  },
  {
   "cell_type": "code",
   "execution_count": 73,
   "id": "40c8407d-0fb8-480a-a7ad-2970a0b60589",
   "metadata": {},
   "outputs": [
    {
     "name": "stdout",
     "output_type": "stream",
     "text": [
      "30.981\n"
     ]
    }
   ],
   "source": [
    "print(np.percentile(CHM_arr,99))"
   ]
  },
  {
   "cell_type": "code",
   "execution_count": 74,
   "id": "68b6b386-d2a8-4162-8611-7f3d1993621f",
   "metadata": {},
   "outputs": [
    {
     "data": {
      "text/plain": [
       "CompletedProcess(args=['python', 'C:\\\\Users\\\\cpiske\\\\.conda\\\\envs\\\\lidar\\\\Lib\\\\site-packages\\\\osgeo_utils\\\\gdal_calc.py', '-A', 'SCB/Sagehen_lidar/NCALM/NCALM_SCB_20201120/canopy_metrics/veg_structure/fVeg/NCALM_SCB_20201120_canopy_density.tif', '-B', 'SCB/Sagehen_lidar/NCALM/NCALM_SCB_20201120/canopy_metrics/veg_structure/CHM/NCALM_SCB_20201120_CHM.tif', '--NoDataValue', '-9999', '--outfile', 'SCB/Sagehen_lidar/NCALM/NCALM_SCB_20201120/canopy_metrics/veg_structure/NCALM_20201120_LAI_prime.tif', '--calc=\"A*(B/30.981)\"', '--overwrite'], returncode=0)"
      ]
     },
     "execution_count": 74,
     "metadata": {},
     "output_type": "execute_result"
    }
   ],
   "source": [
    "veg_cmd = ['python',gdal_calc, '-A', ncalm_canopy_density,'-B',ncalm_CHM, '--NoDataValue','-9999',\n",
    " '--outfile', LAI, '--calc=\"A*(B/30.981)\"','--overwrite']\n",
    "subprocess.run(veg_cmd)"
   ]
  },
  {
   "cell_type": "code",
   "execution_count": 129,
   "id": "78650b79-d86b-433e-8b08-0b50c9cb8c1d",
   "metadata": {},
   "outputs": [
    {
     "data": {
      "text/plain": [
       "0"
      ]
     },
     "execution_count": 129,
     "metadata": {},
     "output_type": "execute_result"
    }
   ],
   "source": [
    "warp_cmd = [\"gdalwarp\",\"-overwrite\", LAI, LAI_30, \"-tr\", str(30),str(30),'-srcnodata','-9999','-dstnodata','-9999','-r','average','-t_srs','EPSG:6339']\n",
    "subprocess.call(warp_cmd)"
   ]
  },
  {
   "cell_type": "markdown",
   "id": "99804953-4f69-40e9-80bc-9d1fa90fb905",
   "metadata": {},
   "source": [
    "#### Vegetation Buffer\n",
    "Create universal buffer"
   ]
  },
  {
   "cell_type": "code",
   "execution_count": 77,
   "id": "4fd5c86a-faf3-4801-ac2b-8bf8a0d2daa1",
   "metadata": {
    "tags": []
   },
   "outputs": [],
   "source": [
    "ncalm_tall = 'SCB/Sagehen_lidar/NCALM/NCALM_SCB_20201120/canopy_metrics/veg_classes/NCALM_SCB_20201120_tall.tif'\n",
    "ncalm_buffer_tall_2020 = 'SCB/Sagehen_lidar/NCALM/NCALM_SCB_20201120/canopy_metrics/veg_classes/NCALM_SCB_20201120_tall_buffered.tif'\n",
    "\n",
    "buffer_open_2020 = 'SCB/Sagehen_lidar/NCALM/NCALM_SCB_20201120/canopy_metrics/veg_classes/NCALM_SCB_20201120_open_buffered.tif'\n",
    "buffer_open_2020_30_sum = 'SCB/Sagehen_lidar/NCALM/NCALM_SCB_20201120/canopy_metrics/veg_classes/NCALM_SCB_20201120_open_buffered_sum_30m.tif'"
   ]
  },
  {
   "cell_type": "code",
   "execution_count": 76,
   "id": "a725944a-52c3-4234-a640-f22ee7b02dc3",
   "metadata": {
    "tags": []
   },
   "outputs": [
    {
     "data": {
      "text/plain": [
       "CompletedProcess(args=['python', 'C:\\\\Users\\\\cpiske\\\\.conda\\\\envs\\\\lidar\\\\Lib\\\\site-packages\\\\osgeo_utils\\\\gdal_proximity.py', 'SCB/Sagehen_lidar/NCALM/NCALM_SCB_20201120/canopy_metrics/veg_classes/NCALM_SCB_20201120_tall.tif', 'SCB/Sagehen_lidar/NCALM/NCALM_SCB_20201120/canopy_metrics/veg_classes/NCALM_SCB_20201120_tall_buffered.tif', '-values', '1', '-maxdist', '1', '-nodata', '1', '-fixed-buf-val', '0'], returncode=0)"
      ]
     },
     "execution_count": 76,
     "metadata": {},
     "output_type": "execute_result"
    }
   ],
   "source": [
    "proximity_cmd = ['python',gdal_proximity, ncalm_tall, ncalm_buffer_tall_2020,'-values','1','-maxdist','1','-nodata','1','-fixed-buf-val','0']\n",
    "subprocess.run(proximity_cmd)"
   ]
  },
  {
   "cell_type": "code",
   "execution_count": 78,
   "id": "610738aa-3f9b-4c20-95cd-bf988c310a05",
   "metadata": {
    "tags": []
   },
   "outputs": [
    {
     "data": {
      "text/plain": [
       "CompletedProcess(args=['python', 'C:\\\\Users\\\\cpiske\\\\.conda\\\\envs\\\\lidar\\\\Lib\\\\site-packages\\\\osgeo_utils\\\\gdal_calc.py', '-A', 'SCB/Sagehen_lidar/NCALM/NCALM_SCB_20201120/canopy_metrics/veg_classes/NCALM_SCB_20201120_openORshort.tif', '-B', 'SCB/Sagehen_lidar/NCALM/NCALM_SCB_20201120/canopy_metrics/veg_classes/NCALM_SCB_20201120_tall_buffered.tif', '--NoDataValue', '0', '--outfile', 'SCB/Sagehen_lidar/NCALM/NCALM_SCB_20201120/canopy_metrics/veg_classes/NCALM_SCB_20201120_open_buffered.tif', '--calc=\"A*B\"', '--overwrite'], returncode=0)"
      ]
     },
     "execution_count": 78,
     "metadata": {},
     "output_type": "execute_result"
    }
   ],
   "source": [
    "buffer_cmd = ['python',gdal_calc, '-A', ncalm_openORshort,'-B',ncalm_buffer_tall_2020,'--NoDataValue','0',\n",
    " '--outfile', buffer_open_2020, '--calc=\"A*B\"','--overwrite']\n",
    "subprocess.run(buffer_cmd)"
   ]
  },
  {
   "cell_type": "code",
   "execution_count": 79,
   "id": "2536773c-5304-4b7f-86f2-ca04a3c91ee0",
   "metadata": {},
   "outputs": [
    {
     "data": {
      "text/plain": [
       "0"
      ]
     },
     "execution_count": 79,
     "metadata": {},
     "output_type": "execute_result"
    }
   ],
   "source": [
    "warp_cmd = [\"gdalwarp\",\"-overwrite\", buffer_open_2020, buffer_open_2020_30_sum, \"-te\", '730235.96', '4364741.66', '738826.9599999999627471', '4372273.16', '-tr','30','30','-dstnodata','-9999','-r','sum']\n",
    "subprocess.call(warp_cmd)"
   ]
  },
  {
   "cell_type": "code",
   "execution_count": null,
   "id": "f393eb2d-920a-4b89-b046-8bea30634da5",
   "metadata": {},
   "outputs": [],
   "source": []
  },
  {
   "cell_type": "code",
   "execution_count": null,
   "id": "63b265b5-4c01-4bb8-a30b-3cb19da0fff1",
   "metadata": {},
   "outputs": [],
   "source": []
  },
  {
   "cell_type": "markdown",
   "id": "f9c4d465-6e31-4368-bfbb-2cf1a7634451",
   "metadata": {},
   "source": [
    "## Calculate Snow Depth"
   ]
  },
  {
   "cell_type": "markdown",
   "id": "5e162ba7-3260-48b9-bba1-6eaaf9eab807",
   "metadata": {},
   "source": [
    "Time to bring the snow in... <br>\n",
    "For each flight, we have two snow depths, filtered at 3 meters and 5 meters to use for open vs. under canopy <br>\n",
    "We use the general open/short/tall/understory classifications above but refine for each flight"
   ]
  },
  {
   "cell_type": "markdown",
   "id": "2dac852a-ba0f-4e56-bdbc-4330e8e9ef5a",
   "metadata": {},
   "source": [
    "### Define flight/date\n",
    "We're not quite at the level where we want to create a large all-encompassing function, but adjusting consistent file-naming practices so that we can run processes without having to change whole paths is really helpful."
   ]
  },
  {
   "cell_type": "code",
   "execution_count": 165,
   "id": "3808df0a-1c01-4b77-956a-2df901e1d812",
   "metadata": {},
   "outputs": [],
   "source": [
    "flight = 'NCALM'\n",
    "date = '20220321'"
   ]
  },
  {
   "cell_type": "code",
   "execution_count": 167,
   "id": "52a98e6c-917a-49d0-831d-b12421b6f1a0",
   "metadata": {},
   "outputs": [],
   "source": [
    "tic = time.perf_counter()"
   ]
  },
  {
   "cell_type": "markdown",
   "id": "fc6e6741-8ae7-4c3b-952a-01b520ac5daa",
   "metadata": {
    "tags": []
   },
   "source": [
    "### Filter Data\n",
    "No we filter the snow depths in two critical ways.<br> From Kostadinov et al, 2019 \"by excluding areas\n",
    "and improving the accuracy of the lidar-derived elevation datasets. Slopes greater than 30o and lake/pond water bodies as delineated by the National Hydrography Dataset (high resolution) (https://nhd.usgs.gov/) were excluded from the analysis. We used this slope threshold because the uncertainty in elevation increases dramatically above 30 degrees slope (Takahashi et al., 2005; Tinkham et al., 2012).\""
   ]
  },
  {
   "cell_type": "markdown",
   "id": "54908d60-0f98-4603-9da4-660cd0d23ef1",
   "metadata": {},
   "source": [
    "#### Slope and Water Bodies"
   ]
  },
  {
   "cell_type": "code",
   "execution_count": 168,
   "id": "52ba0a37-fb34-472d-aefb-ff76cbed545b",
   "metadata": {
    "tags": []
   },
   "outputs": [],
   "source": [
    "# Filter out all water bodies and slopes >30 degrees\n",
    "input_shp = 'SCB/supporting_files/masks/NHDWaterbody_2018_EPSG26910.shp'\n",
    "slope_30 = 'SCB/Sagehen_lidar/NCALM/NCALM_SCB_2014/DEM/SCB/NCALM_2014_slope_LT30.tif'\n",
    "\n",
    "counts = 'SCB/Sagehen_lidar/NCALM/NCALM_SCB_20201120/counts/NCALM_SCB_20201120_counts.tif'\n",
    "counts_GT10 = 'SCB/Sagehen_lidar/NCALM/NCALM_SCB_20201120/counts/NCALM_SCB_20201120_counts_GT10.tif'"
   ]
  },
  {
   "cell_type": "code",
   "execution_count": 204,
   "id": "fba129ca-48d3-4694-900a-b3c97039a53c",
   "metadata": {
    "tags": []
   },
   "outputs": [],
   "source": [
    "base_name = flight+'_SCB_'+date\n",
    "snow_depth_LTET3 = 'SCB/Sagehen_lidar/'+flight+'/'+base_name+'/corrected_tif/'+base_name+'_vbc_3.tif'\n",
    "snow_depth_LTET3_fil = 'SCB/Sagehen_lidar/'+flight+'/'+base_name+'/corrected_tif/'+base_name+'_vbc_3_fil.tif'\n",
    "snow_depth_LTET5 = 'SCB/Sagehen_lidar/'+flight+'/'+base_name+'/corrected_tif/'+base_name+'_vbc_5.tif'\n",
    "snow_depth_LTET5_fil = 'SCB/Sagehen_lidar/'+flight+'/'+base_name+'/corrected_tif/'+base_name+'_vbc_5_fil.tif'"
   ]
  },
  {
   "cell_type": "code",
   "execution_count": 170,
   "id": "613d727f-9f30-4e9f-935b-744fea9914d0",
   "metadata": {
    "tags": []
   },
   "outputs": [],
   "source": [
    "input_tif = snow_depth_LTET3\n",
    "input_tif_b = snow_depth_LTET5"
   ]
  },
  {
   "cell_type": "code",
   "execution_count": 171,
   "id": "a92e127c-6f74-468b-9104-e9da0dabbd64",
   "metadata": {
    "tags": []
   },
   "outputs": [
    {
     "data": {
      "text/plain": [
       "0"
      ]
     },
     "execution_count": 171,
     "metadata": {},
     "output_type": "execute_result"
    }
   ],
   "source": [
    "burn_command = ['gdal_rasterize', '-b', '1', '-burn', '-9999', input_shp, input_tif]\n",
    "subprocess.call(burn_command)"
   ]
  },
  {
   "cell_type": "code",
   "execution_count": 172,
   "id": "d32b7e9c-5d5f-4641-b4fc-5f4daa4dd2ba",
   "metadata": {
    "tags": []
   },
   "outputs": [
    {
     "data": {
      "text/plain": [
       "0"
      ]
     },
     "execution_count": 172,
     "metadata": {},
     "output_type": "execute_result"
    }
   ],
   "source": [
    "burn_command = ['gdal_rasterize', '-b', '1', '-burn', '-9999', input_shp, input_tif_b]\n",
    "subprocess.call(burn_command)"
   ]
  },
  {
   "cell_type": "code",
   "execution_count": 173,
   "id": "73b33905-87a3-4eda-ad28-2b4ff748be5d",
   "metadata": {},
   "outputs": [
    {
     "data": {
      "text/plain": [
       "CompletedProcess(args=['python', 'C:\\\\Users\\\\cpiske\\\\.conda\\\\envs\\\\lidar\\\\Lib\\\\site-packages\\\\osgeo_utils\\\\gdal_calc.py', '-A', 'SCB/Sagehen_lidar/NCALM/NCALM_SCB_20201120/counts/NCALM_SCB_20201120_counts.tif', '--NoDataValue', '0', '--outfile', 'SCB/Sagehen_lidar/NCALM/NCALM_SCB_20201120/counts/NCALM_SCB_20201120_counts_GT10.tif', '--calc=\"A>10\"', '--overwrite'], returncode=0)"
      ]
     },
     "execution_count": 173,
     "metadata": {},
     "output_type": "execute_result"
    }
   ],
   "source": [
    "# define a counts filter\n",
    "cound_cmd = ['python',gdal_calc, '-A', counts,'--NoDataValue','0',\n",
    " '--outfile', counts_GT10, '--calc=\"A>10\"','--overwrite']\n",
    "subprocess.run(cound_cmd)"
   ]
  },
  {
   "cell_type": "code",
   "execution_count": 174,
   "id": "68692eac-7356-4914-aeef-63a512f024cb",
   "metadata": {
    "tags": []
   },
   "outputs": [
    {
     "data": {
      "text/plain": [
       "CompletedProcess(args=['python', 'C:\\\\Users\\\\cpiske\\\\.conda\\\\envs\\\\lidar\\\\Lib\\\\site-packages\\\\osgeo_utils\\\\gdal_calc.py', '-A', 'SCB/Sagehen_lidar/NCALM/NCALM_SCB_20220321/corrected_tif/NCALM_SCB_20220321_vbc_5.tif', '-B', 'SCB/Sagehen_lidar/NCALM/NCALM_SCB_2014/DEM/SCB/NCALM_2014_slope_LT30.tif', '-C', 'SCB/Sagehen_lidar/NCALM/NCALM_SCB_20201120/counts/NCALM_SCB_20201120_counts_GT10.tif', '--NoDataValue', '-9999', '--outfile', 'SCB/Sagehen_lidar/NCALM/NCALM_SCB_20220321/corrected_tif/NCALM_SCB_20220321_vbc_5_fil.tif', '--calc=\"A*B*C*(A>=0.15)\"', '--overwrite'], returncode=0)"
      ]
     },
     "execution_count": 174,
     "metadata": {},
     "output_type": "execute_result"
    }
   ],
   "source": [
    "# in this case it's okay that the logical will output a value of 0 for each point <.15 because\n",
    "# the assumption is that those points are 0 and NAns are not included in the calculations\n",
    "sd_filter_cmd = ['python',gdal_calc, '-A', snow_depth_LTET3,'-B',slope_30,'-C',counts_GT10,'--NoDataValue','-9999',\n",
    " '--outfile', snow_depth_LTET3_fil, '--calc=\"A*B*C*(A>=0.15)\"','--overwrite']\n",
    "subprocess.run(sd_filter_cmd)\n",
    "\n",
    "sd_filter_cmd = ['python',gdal_calc, '-A', snow_depth_LTET5,'-B',slope_30,'-C',counts_GT10,'--NoDataValue','-9999',\n",
    " '--outfile', snow_depth_LTET5_fil, '--calc=\"A*B*C*(A>=0.15)\"','--overwrite']\n",
    "subprocess.run(sd_filter_cmd)"
   ]
  },
  {
   "cell_type": "markdown",
   "id": "7c35c39a-4222-479d-9f30-6fb89fcb7bdc",
   "metadata": {},
   "source": [
    "### Refine Vegetation Classes"
   ]
  },
  {
   "cell_type": "code",
   "execution_count": 205,
   "id": "32bb6028-c14a-466f-aeec-65db66008591",
   "metadata": {
    "tags": []
   },
   "outputs": [],
   "source": [
    "base_name = flight+'_SCB_'+date\n",
    "\n",
    "snow_depth_LTET3_fil = 'SCB/Sagehen_lidar/'+flight+'/'+base_name+'/corrected_tif/'+base_name+'_vbc_3_fil.tif'\n",
    "snow_depth_LTET5_fil = 'SCB/Sagehen_lidar/'+flight+'/'+base_name+'/corrected_tif/'+base_name+'_vbc_5_fil.tif'\n",
    "flight_spec_short = 'SCB/Sagehen_lidar/'+flight+'/'+base_name+'/veg_classes/'+base_name+'_short.tif'\n",
    "flight_spec_open = 'SCB/Sagehen_lidar/'+flight+'/'+base_name+'/veg_classes/'+base_name+'_open.tif'\n",
    "flight_spec_understory = 'SCB/Sagehen_lidar/'+flight+'/'+base_name+'/veg_classes/'+base_name+'_understory.tif'\n",
    "flight_spec_tall = 'SCB/Sagehen_lidar/'+flight+'/'+base_name+'/veg_classes/'+base_name+'_tall.tif'"
   ]
  },
  {
   "cell_type": "markdown",
   "id": "ef86dd78-9c5c-4ff8-83e4-4b3f29a91796",
   "metadata": {},
   "source": [
    "Refine vegetation classifications based on snow-on flights. We set a threshold of 30 cm so that if the snow-on flight is <30 cm greater than the snow-off flight, we do not keep that short/understory pixel. "
   ]
  },
  {
   "cell_type": "code",
   "execution_count": 206,
   "id": "7e70078a-de28-4d78-a33e-3562d708b5eb",
   "metadata": {},
   "outputs": [
    {
     "data": {
      "text/plain": [
       "CompletedProcess(args=['python', 'C:\\\\Users\\\\cpiske\\\\.conda\\\\envs\\\\lidar\\\\Lib\\\\site-packages\\\\osgeo_utils\\\\gdal_calc.py', '-A', 'SCB/Sagehen_lidar/NCALM/NCALM_SCB_20220321/veg_classes/NCALM_SCB_20220321_ground_understory.tif', '-B', 'SCB/Sagehen_lidar/NCALM/NCALM_SCB_20201120/canopy_metrics/veg_classes/NCALM_SCB_20201120_tall.tif', '--hideNoData', '--NoDataValue', '0', '--outfile', 'SCB/Sagehen_lidar/NCALM/NCALM_SCB_20220321/veg_classes/NCALM_SCB_20220321_ground_tall.tif', '--calc=\"1*logical_or(A>0, B>0)\"', '--overwrite'], returncode=0)"
      ]
     },
     "execution_count": 206,
     "metadata": {},
     "output_type": "execute_result"
    }
   ],
   "source": [
    "# nodata has to be 0 because of the multiplying step below\n",
    "SD_open_cmd = ['python',gdal_calc, '-A', snow_depth_LTET5_fil, '-B', ncalm_short,'-C', CHM_LT1pt5,'--NoDataValue','0',\n",
    " '--outfile', flight_spec_short, '--calc=\"((A-C)>0.3)*B\"','--overwrite']\n",
    "subprocess.run(SD_open_cmd)\n",
    "\n",
    "SD_open_cmd = ['python',gdal_calc, '-A', flight_spec_short, '-B', ncalm_open,'--hideNoData','--NoDataValue','0',\n",
    "    '--outfile', flight_spec_open, '--calc=\"1*logical_or(A>0, B>0)\"','--overwrite']\n",
    "subprocess.run(SD_open_cmd)\n",
    "\n",
    "SD_tall_cmd = ['python',gdal_calc, '-A', snow_depth_LTET3_fil, '-B', ncalm_understory,'-C', CHM_LT1pt5,'--NoDataValue','0',\n",
    " '--outfile', flight_spec_understory, '--calc=\"((A-C)>0.3)*B\"','--overwrite']\n",
    "subprocess.run(SD_tall_cmd)\n",
    "\n",
    "SD_tall_cmd = ['python',gdal_calc, '-A', flight_spec_understory, '-B', ncalm_tall,'--hideNoData','--NoDataValue','0',\n",
    " '--outfile', flight_spec_tall, '--calc=\"1*logical_or(A>0, B>0)\"','--overwrite']\n",
    "subprocess.run(SD_tall_cmd)"
   ]
  },
  {
   "cell_type": "markdown",
   "id": "0adfeb92-049f-4bf7-8a58-96390150b3d7",
   "metadata": {},
   "source": [
    "### Calculate Snow Depth"
   ]
  },
  {
   "cell_type": "code",
   "execution_count": 132,
   "id": "aca37f5c-fe41-421c-b912-e791f001a497",
   "metadata": {},
   "outputs": [],
   "source": [
    "# # do not use this cell\n",
    "# snow_depth_all_pts = 'SCB/Sagehen_lidar/ASO/ASO_SCB_20160326/snow_depth/ASO_SCB_20160326_SD.tif'\n",
    "# snow_depth_refined = 'SCB/Sagehen_lidar/ASO/ASO_SCB_20160326/snow_depth/ASO_SCB_20160326_SD.tif'\n",
    "# snow_depth_refined_binary = 'SCB/Sagehen_lidar/ASO/ASO_SCB_20160326/snow_depth/ASO_SCB_20160326_SD_binary.tif'\n",
    "# snow_depth_refined_binary_30 = 'SCB/Sagehen_lidar/ASO/ASO_SCB_20160326/snow_depth/ASO_SCB_20160326_SD_binary_30m.tif'"
   ]
  },
  {
   "cell_type": "code",
   "execution_count": 207,
   "id": "3ecc0852-c272-4b4a-9588-c920e2c45240",
   "metadata": {
    "tags": []
   },
   "outputs": [],
   "source": [
    "\n",
    "base_name = flight+\"_SCB_\"+date\n",
    "snow_depth_all_pts = 'SCB/Sagehen_lidar/'+flight+'/'+base_name+'/snow_depth/'+base_name+'_SD.tif'\n",
    "snow_depth = 'SCB/Sagehen_lidar/'+flight+'/'+base_name+'/snow_depth/'+base_name+'_SD.tif'\n",
    "snow_depth_open = 'SCB/Sagehen_lidar/'+flight+'/'+base_name+'/snow_depth/'+base_name+'_SD_open.tif'\n",
    "snow_depth_tall = 'SCB/Sagehen_lidar/'+flight+'/'+base_name+'/snow_depth/'+base_name+'_SD_tall.tif'\n",
    "\n",
    "snow_depth_binary = 'SCB/Sagehen_lidar/'+flight+'/'+base_name+'/snow_depth/'+base_name+'_SD_binary.tif'\n",
    "snow_depth_binary_30 = 'SCB/Sagehen_lidar/'+flight+'/'+base_name+'/snow_depth/'+base_name+'_SD_binarySum_30m.tif'\n",
    "snow_depth_binary_open_30 = 'SCB/Sagehen_lidar/'+flight+'/'+base_name+'/snow_depth/'+base_name+'_SD_open_binarySum_30m.tif'\n",
    "snow_depth_binary_tall_30 = 'SCB/Sagehen_lidar/'+flight+'/'+base_name+'/snow_depth/'+base_name+'_SD_tall_binarySum_30m.tif'\n",
    "snow_depth_binary_open_tall_30 = 'SCB/Sagehen_lidar/'+flight+'/'+base_name+'/snow_depth/'+base_name+'_SD_open_tall_binarySum_30m.tif'\n",
    "\n",
    "snow_depth_binaryDen_30 = 'SCB/Sagehen_lidar/'+flight+'/'+base_name+'/snow_depth/'+base_name+'_SD_binaryDen_30m.tif'\n"
   ]
  },
  {
   "cell_type": "code",
   "execution_count": 208,
   "id": "1353b3d8-f607-4006-91e1-ae0f989216fd",
   "metadata": {
    "tags": []
   },
   "outputs": [
    {
     "data": {
      "text/plain": [
       "CompletedProcess(args=['python', 'C:\\\\Users\\\\cpiske\\\\.conda\\\\envs\\\\lidar\\\\Lib\\\\site-packages\\\\osgeo_utils\\\\gdal_calc.py', '-A', 'SCB/Sagehen_lidar/NCALM/NCALM_SCB_20220321/corrected_tif/NCALM_SCB_20220321_ground_vbc_5_fil.tif', '-B', 'SCB/Sagehen_lidar/NCALM/NCALM_SCB_20220321/veg_classes/NCALM_SCB_20220321_ground_open.tif', '--NoDataValue', '-9999', '--outfile', 'SCB/Sagehen_lidar/NCALM/NCALM_SCB_20220321/snow_depth/NCALM_SCB_20220321_ground_SD_open.tif', '--calc=\"A*B*(A>0.15)\"', '--overwrite'], returncode=0)"
      ]
     },
     "execution_count": 208,
     "metadata": {},
     "output_type": "execute_result"
    }
   ],
   "source": [
    "SD_open_cmd = ['python', gdal_calc, '-A', snow_depth_LTET5_fil, '-B', flight_spec_open,'--NoDataValue','-9999',\n",
    " '--outfile', snow_depth_open, '--calc=\"A*B*(A>0.15)\"','--overwrite']\n",
    "subprocess.run(SD_open_cmd)"
   ]
  },
  {
   "cell_type": "code",
   "execution_count": 209,
   "id": "c7a60330-eb63-4129-af91-30caaec50827",
   "metadata": {
    "tags": []
   },
   "outputs": [
    {
     "data": {
      "text/plain": [
       "CompletedProcess(args=['python', 'C:\\\\Users\\\\cpiske\\\\.conda\\\\envs\\\\lidar\\\\Lib\\\\site-packages\\\\osgeo_utils\\\\gdal_calc.py', '-A', 'SCB/Sagehen_lidar/NCALM/NCALM_SCB_20220321/corrected_tif/NCALM_SCB_20220321_ground_vbc_3_fil.tif', '-B', 'SCB/Sagehen_lidar/NCALM/NCALM_SCB_20220321/veg_classes/NCALM_SCB_20220321_ground_tall.tif', '--NoDataValue', '-9999', '--outfile', 'SCB/Sagehen_lidar/NCALM/NCALM_SCB_20220321/snow_depth/NCALM_SCB_20220321_ground_SD_tall.tif', '--calc=\"A*B*(A>0.15)\"', '--overwrite'], returncode=0)"
      ]
     },
     "execution_count": 209,
     "metadata": {},
     "output_type": "execute_result"
    }
   ],
   "source": [
    "SD_tall_cmd = ['python', gdal_calc, '-A', snow_depth_LTET3_fil, '-B', flight_spec_tall,'--NoDataValue','-9999',\n",
    " '--outfile', snow_depth_tall, '--calc=\"A*B*(A>0.15)\"','--overwrite']\n",
    "subprocess.run(SD_tall_cmd)"
   ]
  },
  {
   "cell_type": "code",
   "execution_count": 210,
   "id": "a7642a33-a946-49f4-846c-207501cb85fb",
   "metadata": {
    "tags": []
   },
   "outputs": [
    {
     "data": {
      "text/plain": [
       "0"
      ]
     },
     "execution_count": 210,
     "metadata": {},
     "output_type": "execute_result"
    }
   ],
   "source": [
    "merge_command = [\"python\", gdal_merge, \"-o\", snow_depth_all_pts, snow_depth_open, snow_depth_tall,'-n','-9999','-a_nodata','-9999']\n",
    "subprocess.call(merge_command)"
   ]
  },
  {
   "cell_type": "code",
   "execution_count": null,
   "id": "13a8cd35-4712-41f8-864f-f4a208bb60f7",
   "metadata": {},
   "outputs": [],
   "source": []
  },
  {
   "cell_type": "code",
   "execution_count": 211,
   "id": "cf229be9-7013-4d7a-8fa0-6d5dae991aed",
   "metadata": {
    "tags": []
   },
   "outputs": [
    {
     "data": {
      "text/plain": [
       "CompletedProcess(args=['python', 'C:\\\\Users\\\\cpiske\\\\.conda\\\\envs\\\\lidar\\\\Lib\\\\site-packages\\\\osgeo_utils\\\\gdal_calc.py', '-A', 'SCB/Sagehen_lidar/NCALM/NCALM_SCB_20220321/snow_depth/NCALM_SCB_20220321_ground_SD.tif', '--NoDataValue', '0', '--outfile', 'SCB/Sagehen_lidar/NCALM/NCALM_SCB_20220321/snow_depth/NCALM_SCB_20220321_ground_SD_binary.tif', '--calc=\"A>0\"', '--overwrite'], returncode=0)"
      ]
     },
     "execution_count": 211,
     "metadata": {},
     "output_type": "execute_result"
    }
   ],
   "source": [
    "# Create a binary file (snow=1, no snow=0)\n",
    "sd_filter_cmd = ['python',gdal_calc, '-A', snow_depth_all_pts,'--NoDataValue','0',\n",
    " '--outfile', snow_depth_binary, '--calc=\"A>0\"','--overwrite']\n",
    "subprocess.run(sd_filter_cmd)"
   ]
  },
  {
   "cell_type": "code",
   "execution_count": 212,
   "id": "b59e709e-53f6-4e68-b01c-145abde0d1c5",
   "metadata": {
    "tags": []
   },
   "outputs": [
    {
     "data": {
      "text/plain": [
       "0"
      ]
     },
     "execution_count": 212,
     "metadata": {},
     "output_type": "execute_result"
    }
   ],
   "source": [
    "# resample\n",
    "warp_cmd = [\"gdalwarp\",\"-overwrite\", snow_depth_binary, snow_depth_binary_30, \"-te\", '730235.96', '4364741.66', '738826.9599999999627471', '4372273.16', '-tr','30','30','-srcnodata','0','-dstnodata','-9999','-r','sum']\n",
    "subprocess.call(warp_cmd)"
   ]
  },
  {
   "cell_type": "code",
   "execution_count": 213,
   "id": "0983f9fb-ec7c-4c18-95f8-6967f99e9c68",
   "metadata": {},
   "outputs": [
    {
     "data": {
      "text/plain": [
       "0"
      ]
     },
     "execution_count": 213,
     "metadata": {},
     "output_type": "execute_result"
    }
   ],
   "source": [
    "# resample\n",
    "warp_cmd = [\"gdalwarp\",\"-overwrite\", flight_spec_tall, snow_depth_binary_tall_30, \"-te\", '730235.96', '4364741.66', '738826.9599999999627471', '4372273.16', '-tr','30','30','-srcnodata','0','-dstnodata','-9999','-r','sum']\n",
    "subprocess.call(warp_cmd)"
   ]
  },
  {
   "cell_type": "code",
   "execution_count": 214,
   "id": "7def582b-07fd-487a-a01f-8538b809c1f9",
   "metadata": {},
   "outputs": [
    {
     "data": {
      "text/plain": [
       "0"
      ]
     },
     "execution_count": 214,
     "metadata": {},
     "output_type": "execute_result"
    }
   ],
   "source": [
    "warp_cmd = [\"gdalwarp\",\"-overwrite\", flight_spec_open, snow_depth_binary_open_30, \"-te\", '730235.96', '4364741.66', '738826.9599999999627471', '4372273.16', '-tr','30','30','-srcnodata','0','-dstnodata','-9999','-r','sum']\n",
    "subprocess.call(warp_cmd)"
   ]
  },
  {
   "cell_type": "code",
   "execution_count": 215,
   "id": "486fe5c3-afd1-4593-921d-31864dfe5efe",
   "metadata": {},
   "outputs": [
    {
     "data": {
      "text/plain": [
       "CompletedProcess(args=['python', 'C:\\\\Users\\\\cpiske\\\\.conda\\\\envs\\\\lidar\\\\Lib\\\\site-packages\\\\osgeo_utils\\\\gdal_calc.py', '-A', 'SCB/Sagehen_lidar/NCALM/NCALM_SCB_20220321/snow_depth/NCALM_SCB_20220321_ground_SD_open_binarySum_30m.tif', '-B', 'SCB/Sagehen_lidar/NCALM/NCALM_SCB_20220321/snow_depth/NCALM_SCB_20220321_ground_SD_tall_binarySum_30m.tif', '--NoDataValue', '-9999', '--outfile', 'SCB/Sagehen_lidar/NCALM/NCALM_SCB_20220321/snow_depth/NCALM_SCB_20220321_ground_SD_open_tall_binarySum_30m.tif', '--calc=\"A-B\"', '--overwrite'], returncode=0)"
      ]
     },
     "execution_count": 215,
     "metadata": {},
     "output_type": "execute_result"
    }
   ],
   "source": [
    "snow_cmd = ['python', gdal_calc, '-A', snow_depth_binary_open_30, '-B', snow_depth_binary_tall_30,'--NoDataValue','-9999',\n",
    " '--outfile', snow_depth_binary_open_tall_30, '--calc=\"A-B\"','--overwrite']\n",
    "subprocess.run(snow_cmd)"
   ]
  },
  {
   "cell_type": "code",
   "execution_count": 216,
   "id": "8ba918f6-9d91-4f08-aaff-5a2ec4f3076f",
   "metadata": {
    "tags": []
   },
   "outputs": [
    {
     "data": {
      "text/plain": [
       "CompletedProcess(args=['python', 'C:\\\\Users\\\\cpiske\\\\.conda\\\\envs\\\\lidar\\\\Lib\\\\site-packages\\\\osgeo_utils\\\\gdal_calc.py', '-A', 'SCB/Sagehen_lidar/NCALM/NCALM_SCB_20220321/snow_depth/NCALM_SCB_20220321_ground_SD_binarySum_30m.tif', '--NoDataValue', '-9999', '--outfile', 'SCB/Sagehen_lidar/NCALM/NCALM_SCB_20220321/snow_depth/NCALM_SCB_20220321_ground_SD_binaryDen_30m.tif', '--calc=\"A/900\"', '--overwrite'], returncode=0)"
      ]
     },
     "execution_count": 216,
     "metadata": {},
     "output_type": "execute_result"
    }
   ],
   "source": [
    "binary_cmd = ['python',gdal_calc, '-A', snow_depth_binary_30,'--NoDataValue','-9999',\n",
    " '--outfile', snow_depth_binaryDen_30, '--calc=\"A/900\"','--overwrite']\n",
    "subprocess.run(binary_cmd)"
   ]
  },
  {
   "cell_type": "markdown",
   "id": "2b2c1719-3bf5-49aa-8fd5-59eff80517c8",
   "metadata": {},
   "source": [
    "### Create Vegetation Buffer\n",
    "for statistical analysis later <br>\n",
    "We start with a tall buffer. Starting with the fligth specific tall/open classifications. Search for the values of 1 in the tall raster and classify each value according to it's proximity to the neaerest 1 - however, in this case, the max distance is 1 (creating a 1m buffer around each tree) and values within 1m are assigedn a value of 0. All other pixels are given a value of 1. <br>\n",
    "This let's us create an \"open buffered\" raster by multiplying our open raster with the new tall buffer. i.e. anywhere the pixel is open (==1) and the tall buffer indicates an open area (==1)"
   ]
  },
  {
   "cell_type": "code",
   "execution_count": 217,
   "id": "94540f31-3a5d-4224-91c8-e3dac9316ed1",
   "metadata": {
    "tags": []
   },
   "outputs": [],
   "source": [
    "src_tall = 'SCB/Sagehen_lidar/'+flight+'/'+base_name+'/veg_classes/'+base_name+'_tall.tif'\n",
    "buffer_tall = 'SCB/Sagehen_lidar/'+flight+'/'+base_name+'/veg_classes/'+base_name+'_tall_buffered.tif'\n",
    "\n",
    "src_open = 'SCB/Sagehen_lidar/'+flight+'/'+base_name+'/veg_classes/'+base_name+'_open.tif'\n",
    "buffer_open = 'SCB/Sagehen_lidar/'+flight+'/'+base_name+'/veg_classes/'+base_name+'_open_buffered.tif'\n",
    "buffer_open_30 = 'SCB/Sagehen_lidar/'+flight+'/'+base_name+'/veg_classes/'+base_name+'_open_buffered_sum_30m.tif'"
   ]
  },
  {
   "cell_type": "code",
   "execution_count": 218,
   "id": "1771f7ac-a02a-4c26-a6e9-71ffd4f6cbd3",
   "metadata": {
    "tags": []
   },
   "outputs": [
    {
     "data": {
      "text/plain": [
       "CompletedProcess(args=['python', 'C:\\\\Users\\\\cpiske\\\\.conda\\\\envs\\\\lidar\\\\Lib\\\\site-packages\\\\osgeo_utils\\\\gdal_proximity.py', 'SCB/Sagehen_lidar/NCALM/NCALM_SCB_20220321/veg_classes/NCALM_SCB_20220321_ground_tall.tif', 'SCB/Sagehen_lidar/NCALM/NCALM_SCB_20220321/veg_classes/NCALM_SCB_20220321_ground_tall_buffered.tif', '-values', '1', '-maxdist', '1', '-nodata', '1', '-fixed-buf-val', '0'], returncode=0)"
      ]
     },
     "execution_count": 218,
     "metadata": {},
     "output_type": "execute_result"
    }
   ],
   "source": [
    "proximity_cmd = ['python',gdal_proximity, src_tall, buffer_tall,'-values','1','-maxdist','1','-nodata','1','-fixed-buf-val','0']\n",
    "subprocess.run(proximity_cmd)"
   ]
  },
  {
   "cell_type": "code",
   "execution_count": 219,
   "id": "f52442fe-7792-4576-9e2d-a57254ac43ff",
   "metadata": {
    "tags": []
   },
   "outputs": [
    {
     "data": {
      "text/plain": [
       "CompletedProcess(args=['python', 'C:\\\\Users\\\\cpiske\\\\.conda\\\\envs\\\\lidar\\\\Lib\\\\site-packages\\\\osgeo_utils\\\\gdal_calc.py', '-A', 'SCB/Sagehen_lidar/NCALM/NCALM_SCB_20220321/veg_classes/NCALM_SCB_20220321_ground_open.tif', '-B', 'SCB/Sagehen_lidar/NCALM/NCALM_SCB_20220321/veg_classes/NCALM_SCB_20220321_ground_tall_buffered.tif', '--NoDataValue', '0', '--outfile', 'SCB/Sagehen_lidar/NCALM/NCALM_SCB_20220321/veg_classes/NCALM_SCB_20220321_ground_open_buffered.tif', '--calc=\"A*B\"', '--overwrite'], returncode=0)"
      ]
     },
     "execution_count": 219,
     "metadata": {},
     "output_type": "execute_result"
    }
   ],
   "source": [
    "buffer_cmd = ['python',gdal_calc, '-A', src_open,'-B',buffer_tall,'--NoDataValue','0',\n",
    " '--outfile', buffer_open, '--calc=\"A*B\"','--overwrite']\n",
    "subprocess.run(buffer_cmd)"
   ]
  },
  {
   "cell_type": "code",
   "execution_count": 220,
   "id": "1a11682d-fb31-4af1-90a4-e39b61e570a1",
   "metadata": {},
   "outputs": [
    {
     "data": {
      "text/plain": [
       "0"
      ]
     },
     "execution_count": 220,
     "metadata": {},
     "output_type": "execute_result"
    }
   ],
   "source": [
    "warp_cmd = [\"gdalwarp\",\"-overwrite\", buffer_open, buffer_open_30, \"-te\", '730235.96', '4364741.66', '738826.9599999999627471', '4372273.16', '-tr','30','30','-dstnodata','-9999','-r','sum']\n",
    "subprocess.call(warp_cmd)"
   ]
  },
  {
   "cell_type": "markdown",
   "id": "c31fff92-fa9a-4d38-b0ab-f32cb545bacf",
   "metadata": {},
   "source": [
    "## Calculate SWE"
   ]
  },
  {
   "cell_type": "markdown",
   "id": "f0008446-49ad-4166-903a-c5e1fc895215",
   "metadata": {},
   "source": [
    "Start by making sure our density rasters align with snow depth rasters <br>\n",
    "from the Lidar Processing workflow we can extract our bounds: '730235.96, 738826.45,4364741.66,4372273.16'"
   ]
  },
  {
   "cell_type": "markdown",
   "id": "48676585-6329-4864-bb52-9dd3dde85f79",
   "metadata": {},
   "source": [
    "### Align Rasters"
   ]
  },
  {
   "cell_type": "code",
   "execution_count": 221,
   "id": "3429fd49-fed9-448e-bdd7-2e376b4d86ce",
   "metadata": {
    "tags": []
   },
   "outputs": [],
   "source": [
    "\n",
    "base_name = flight+'_SCB_'+date\n",
    "input_density = 'SCB/Sagehen_lidar/'+flight+'/'+base_name+'/snow_density/'+'snowPALM_SCB_'+date+'_snowDensity.tif'\n",
    "output_density = 'SCB/Sagehen_lidar/'+flight+'/'+base_name+'/snow_density/'+'snowPALM_SCB_'+date+'_snowDensity_warp.tif'\n",
    "\n",
    "# for now we'll use 03/26/2016 data\n",
    "# input_snow_density = 'SCB/Sagehen_lidar/NCALM/NCALM_SCB_20220321/snow_density/snowPALM_SCB_20160326_snowDensity_warp.tif'"
   ]
  },
  {
   "cell_type": "code",
   "execution_count": 192,
   "id": "86d61d8e-f8cc-4037-9a94-d88dd1768871",
   "metadata": {
    "tags": []
   },
   "outputs": [],
   "source": [
    "# # nodata is 0 to account for strange model outputs (i.e. we don't want SWE=0 where density =0)\n",
    "# warp_cmd = [\"gdalwarp\",\"-overwrite\", input_density, output_density, \"-te\", '730235.96', '4364741.66', '738826.9599999999627471', '4372273.16', '-tr','1','1','-dstnodata','0']\n",
    "# subprocess.call(warp_cmd)"
   ]
  },
  {
   "cell_type": "markdown",
   "id": "ec28c4aa-d346-4af3-8efd-666385bb036f",
   "metadata": {},
   "source": [
    "### Calculate SWE"
   ]
  },
  {
   "cell_type": "code",
   "execution_count": 222,
   "id": "fe7312c5-f70a-475d-82e4-1e14f5b1c936",
   "metadata": {
    "tags": []
   },
   "outputs": [],
   "source": [
    "base_name = flight+'_SCB_'+date\n",
    "res = '30'\n",
    "input_snow_depth = 'SCB/Sagehen_lidar/'+flight+'/'+base_name+'/snow_depth/'+base_name+'_SD.tif'\n",
    "input_snow_depth_open = 'SCB/Sagehen_lidar/'+flight+'/'+base_name+'/snow_depth/'+base_name+'_SD_open.tif'\n",
    "input_snow_depth_tall = 'SCB/Sagehen_lidar/'+flight+'/'+base_name+'/snow_depth/'+base_name+'_SD_tall.tif'\n",
    "\n",
    "input_snow_density = 'SCB/Sagehen_lidar/'+flight+'/'+base_name+'/snow_density/'+'snowPALM_SCB_'+date+'_snowDensity_warp.tif'\n",
    "\n",
    "output_SWE =  'SCB/Sagehen_lidar/'+flight+'/'+base_name+'/SWE/'+base_name+'_SWE.tif'\n",
    "output_SWE_30 =  'SCB/Sagehen_lidar/'+flight+'/'+base_name+'/SWE/'+base_name+'_SWE_30m.tif'\n",
    "output_SWE_open =  'SCB/Sagehen_lidar/'+flight+'/'+base_name+'/SWE/'+base_name+'_SWE_open.tif'\n",
    "output_SWE_open_30 =  'SCB/Sagehen_lidar/'+flight+'/'+base_name+'/SWE/'+base_name+'_SWE_open_30m.tif'\n",
    "output_SWE_tall =  'SCB/Sagehen_lidar/'+flight+'/'+base_name+'/SWE/'+base_name+'_SWE_tall.tif'\n",
    "output_SWE_tall_30 =  'SCB/Sagehen_lidar/'+flight+'/'+base_name+'/SWE/'+base_name+'_SWE_tall_30m.tif'"
   ]
  },
  {
   "cell_type": "code",
   "execution_count": 223,
   "id": "223454c5-54c7-427c-a25f-c96016bad15b",
   "metadata": {
    "tags": []
   },
   "outputs": [
    {
     "data": {
      "text/plain": [
       "CompletedProcess(args=['python', 'C:\\\\Users\\\\cpiske\\\\.conda\\\\envs\\\\lidar\\\\Lib\\\\site-packages\\\\osgeo_utils\\\\gdal_calc.py', '-A', 'SCB/Sagehen_lidar/NCALM/NCALM_SCB_20220321/snow_depth/NCALM_SCB_20220321_ground_SD_tall.tif', '-B', 'SCB/Sagehen_lidar/NCALM/NCALM_SCB_20220321/snow_density/snowPALM_SCB_20220321_snowDensity_warp.tif', '--NoDataValue', '-9999', '--outfile', 'SCB/Sagehen_lidar/NCALM/NCALM_SCB_20220321/SWE/NCALM_SCB_20220321_ground_SWE_tall.tif', '--calc=\"A*B*100\"', '--overwrite'], returncode=0)"
      ]
     },
     "execution_count": 223,
     "metadata": {},
     "output_type": "execute_result"
    }
   ],
   "source": [
    "swe_cmd = ['python',gdal_calc, '-A', input_snow_depth,'-B',input_snow_density,'--NoDataValue','-9999',\n",
    " '--outfile', output_SWE, '--calc=\"A*B*100\"','--overwrite']\n",
    "subprocess.run(swe_cmd)\n",
    "\n",
    "swe_open_cmd = ['python',gdal_calc, '-A', input_snow_depth_open,'-B',input_snow_density,'--NoDataValue','-9999',\n",
    " '--outfile', output_SWE_open, '--calc=\"A*B*100\"','--overwrite']\n",
    "subprocess.run(swe_open_cmd)\n",
    "\n",
    "swe_tall_cmd = ['python',gdal_calc, '-A', input_snow_depth_tall,'-B',input_snow_density,'--NoDataValue','-9999',\n",
    " '--outfile', output_SWE_tall, '--calc=\"A*B*100\"','--overwrite']\n",
    "subprocess.run(swe_tall_cmd)"
   ]
  },
  {
   "cell_type": "code",
   "execution_count": 224,
   "id": "61d338a8-c3ac-4833-ad33-8f69924e4207",
   "metadata": {},
   "outputs": [
    {
     "data": {
      "text/plain": [
       "0"
      ]
     },
     "execution_count": 224,
     "metadata": {},
     "output_type": "execute_result"
    }
   ],
   "source": [
    "# resample\n",
    "warp_cmd = [\"gdalwarp\",\"-overwrite\", output_SWE, output_SWE_30, \"-te\", '730235.96', '4364741.66', '738826.9599999999627471', '4372273.16', '-tr',res,res,'-dstnodata','-9999','-r','average']\n",
    "subprocess.call(warp_cmd)"
   ]
  },
  {
   "cell_type": "code",
   "execution_count": 225,
   "id": "0acf3dce-2d25-4b33-9c66-1a4cab54edfc",
   "metadata": {},
   "outputs": [
    {
     "data": {
      "text/plain": [
       "0"
      ]
     },
     "execution_count": 225,
     "metadata": {},
     "output_type": "execute_result"
    }
   ],
   "source": [
    "# resample\n",
    "warp_cmd = [\"gdalwarp\",\"-overwrite\", output_SWE_open, output_SWE_open_30, \"-te\", '730235.96', '4364741.66', '738826.9599999999627471', '4372273.16', '-tr',res,res,'-dstnodata','-9999','-r','average']\n",
    "subprocess.call(warp_cmd)\n",
    "warp_cmd = [\"gdalwarp\",\"-overwrite\", output_SWE_tall, output_SWE_tall_30, \"-te\", '730235.96', '4364741.66', '738826.9599999999627471', '4372273.16', '-tr',res,res,'-dstnodata','-9999','-r','average']\n",
    "subprocess.call(warp_cmd)"
   ]
  },
  {
   "cell_type": "markdown",
   "id": "6eea1302-44fd-4092-af9d-34dc85770f68",
   "metadata": {},
   "source": [
    "#### Apply Buffer Zones"
   ]
  },
  {
   "cell_type": "code",
   "execution_count": 226,
   "id": "a545e050-d9eb-4753-85d7-76c3f6ce5f79",
   "metadata": {
    "tags": []
   },
   "outputs": [],
   "source": [
    "\n",
    "base_name = flight + '_SCB_' + date\n",
    "res = '30'\n",
    "input_SWE = 'SCB/Sagehen_lidar/'+flight+'/'+base_name+'/SWE/'+base_name+'_SWE.tif'\n",
    "buffer_open = 'SCB/Sagehen_lidar/'+flight+'/'+base_name+'/veg_classes/'+base_name+'_open_buffered.tif'\n",
    "SWE_open_buffered =  'SCB/Sagehen_lidar/'+flight+'/'+base_name+'/SWE/'+base_name+'_SWE_open_buffered.tif'\n",
    "SWE_open_buffered_30 =  'SCB/Sagehen_lidar/'+flight+'/'+base_name+'/SWE/'+base_name+'_SWE_open_buffered_30m.tif'"
   ]
  },
  {
   "cell_type": "code",
   "execution_count": 227,
   "id": "f473a4a2-9c81-4f8e-bf36-7797e0de8372",
   "metadata": {
    "tags": []
   },
   "outputs": [
    {
     "data": {
      "text/plain": [
       "CompletedProcess(args=['python', 'C:\\\\Users\\\\cpiske\\\\.conda\\\\envs\\\\lidar\\\\Lib\\\\site-packages\\\\osgeo_utils\\\\gdal_calc.py', '-A', 'SCB/Sagehen_lidar/NCALM/NCALM_SCB_20220321/SWE/NCALM_SCB_20220321_ground_SWE.tif', '-B', 'SCB/Sagehen_lidar/NCALM/NCALM_SCB_20220321/veg_classes/NCALM_SCB_20220321_ground_open_buffered.tif', '--NoDataValue', '-9999', '--outfile', 'SCB/Sagehen_lidar/NCALM/NCALM_SCB_20220321/SWE/NCALM_SCB_20220321_ground_SWE_open_buffered.tif', '--calc=\"A*B\"', '--overwrite'], returncode=0)"
      ]
     },
     "execution_count": 227,
     "metadata": {},
     "output_type": "execute_result"
    }
   ],
   "source": [
    "swe_open_cmd = ['python',gdal_calc, '-A', input_SWE,'-B',buffer_open,'--NoDataValue','-9999',\n",
    " '--outfile', SWE_open_buffered, '--calc=\"A*B\"','--overwrite']\n",
    "subprocess.run(swe_open_cmd)"
   ]
  },
  {
   "cell_type": "code",
   "execution_count": 228,
   "id": "7d6b9a0d-c365-4ea0-bec1-74fb008795fd",
   "metadata": {
    "tags": []
   },
   "outputs": [
    {
     "data": {
      "text/plain": [
       "0"
      ]
     },
     "execution_count": 228,
     "metadata": {},
     "output_type": "execute_result"
    }
   ],
   "source": [
    "warp_cmd = [\"gdalwarp\",\"-overwrite\", SWE_open_buffered, SWE_open_buffered_30, \"-te\", '730235.96', '4364741.66', '738826.9599999999627471', '4372273.16', '-tr',res,res,'-dstnodata','-9999','-r','average']\n",
    "subprocess.call(warp_cmd)"
   ]
  },
  {
   "cell_type": "code",
   "execution_count": 229,
   "id": "e6aaac0e-8994-4217-a321-1c8925af1f6e",
   "metadata": {},
   "outputs": [
    {
     "data": {
      "text/plain": [
       "0"
      ]
     },
     "execution_count": 229,
     "metadata": {},
     "output_type": "execute_result"
    }
   ],
   "source": [
    "warp_cmd = [\"gdalwarp\",\"-overwrite\", SWE_open_buffered, SWE_open_buffered_30, \"-te\", '730235.96', '4364741.66', '738826.9599999999627471', '4372273.16', '-tr',res,res,'-dstnodata','-9999','-r','average']\n",
    "subprocess.call(warp_cmd)"
   ]
  },
  {
   "cell_type": "code",
   "execution_count": 201,
   "id": "a915adaf-282d-4f14-96af-26ccc525bf6a",
   "metadata": {},
   "outputs": [],
   "source": [
    "toc = time.perf_counter()"
   ]
  },
  {
   "cell_type": "code",
   "execution_count": 202,
   "id": "82246fb7-4e3c-4312-bf49-215bb0564de9",
   "metadata": {},
   "outputs": [
    {
     "data": {
      "text/plain": [
       "8.070846448333274"
      ]
     },
     "execution_count": 202,
     "metadata": {},
     "output_type": "execute_result"
    }
   ],
   "source": [
    "(toc-tic)/60"
   ]
  },
  {
   "cell_type": "code",
   "execution_count": null,
   "id": "4eb06792-4432-4f1d-ace0-721bf5e493a8",
   "metadata": {},
   "outputs": [],
   "source": []
  }
 ],
 "metadata": {
  "kernelspec": {
   "display_name": "Python 3 (ipykernel)",
   "language": "python",
   "name": "python3"
  },
  "language_info": {
   "codemirror_mode": {
    "name": "ipython",
    "version": 3
   },
   "file_extension": ".py",
   "mimetype": "text/x-python",
   "name": "python",
   "nbconvert_exporter": "python",
   "pygments_lexer": "ipython3",
   "version": "3.9.7"
  }
 },
 "nbformat": 4,
 "nbformat_minor": 5
}
