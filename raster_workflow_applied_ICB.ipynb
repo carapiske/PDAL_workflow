{
 "cells": [
  {
   "cell_type": "markdown",
   "id": "6c02ac40-bcd0-4a7d-ab54-887f67ec64de",
   "metadata": {},
   "source": [
    "# Raster Processing Workflow\n",
    "**Cara Piske, Graduate Program of Hydrologic Sciences, 2022; Advisor: Dr. Adrian Harpold**<br>\n",
    "<p>This code processes rasterized LAS files. <br>\n",
    "Lidar data were provided by the Airborne Snow Observatory (ASO), the National Center for Airborne Laser Mapping (NCALM), and Watershed Sciences Inc. (WSI). <br>\n",
    "\n",
    "The goal of this project is to process snow depth to the one-meter spatial scale while maintaining conservative under-canopy estimates. Therefore, little interpolation occurs under-canopy. We follow these protocols in order to obtain a 1-m rasterized product (as opposed to the 3-m rasterized product provided by ASO on the NSIDC data portal). NCALM and WSI flights were obtained through OpenTopography."
   ]
  },
  {
   "cell_type": "code",
   "execution_count": 4,
   "id": "0de1e9e2-c61e-4dfd-bdb4-3bd93eb22ba8",
   "metadata": {},
   "outputs": [],
   "source": [
    "# import necessary packages \n",
    "from osgeo import gdal, ogr, osr\n",
    "import csv\n",
    "import os\n",
    "import subprocess\n",
    "import sys\n",
    "import pdal\n",
    "import matplotlib.pyplot as plt\n",
    "import numpy as np\n",
    "import json\n",
    "import glob\n",
    "import time\n",
    "# competing paths on our PC \n",
    "gdal_merge = os.path.join('C:\\\\','Users','cpiske','.conda','envs','lidar','Lib','site-packages','osgeo_utils','gdal_merge.py')\n",
    "gdal_calc = os.path.join('C:\\\\','Users','cpiske','.conda','envs','lidar','Lib','site-packages','osgeo_utils','gdal_calc.py')\n",
    "gdal_warp = os.path.join('C:\\\\','Users','cpiske','.conda','envs','lidar','Lib','site-packages','osgeo_utils','gdal_warp.py')\n",
    "gdal_polygonize = os.path.join('C:\\\\','Users','cpiske','.conda','envs','lidar','Lib','site-packages','osgeo_utils','gdal_polygonize.py')\n",
    "gdal_proximity = os.path.join('C:\\\\','Users','cpiske','.conda','envs','lidar','Lib','site-packages','osgeo_utils','gdal_proximity.py')"
   ]
  },
  {
   "cell_type": "code",
   "execution_count": 5,
   "id": "ae9d2484-c59c-4a4d-a203-285f04543c77",
   "metadata": {},
   "outputs": [
    {
     "name": "stdout",
     "output_type": "stream",
     "text": [
      "G:\\\n"
     ]
    }
   ],
   "source": [
    "#make sure we're in the right working directory\n",
    "os.chdir('/')\n",
    "print(os.getcwd())"
   ]
  },
  {
   "cell_type": "markdown",
   "id": "6da9a6af-f41e-4a5d-a8b6-e80662b6688d",
   "metadata": {},
   "source": [
    "## Info"
   ]
  },
  {
   "cell_type": "code",
   "execution_count": null,
   "id": "db6212b0-1fa4-426c-8069-5a2ef1ef59fa",
   "metadata": {},
   "outputs": [],
   "source": [
    "counts_total = 'MRB/Merced_lidar/NCALM/NCALM_MRB_20180921/counts/NCALM_MRB_20180921_counts.tif'"
   ]
  },
  {
   "cell_type": "code",
   "execution_count": 8,
   "id": "8055bafb-2e2e-4e60-83fc-f1be6514a60e",
   "metadata": {},
   "outputs": [],
   "source": [
    "# open slope and aspect as arrays\n",
    "counts_ras = gdal.Open(counts_total) # open the file \n",
    "counts_arr = counts_ras.GetRasterBand(1).ReadAsArray() #read the first raster band (in this case we know we are only working with single bands) and read to a 2D array\n",
    "\n",
    "counts_ras = None # close rasters"
   ]
  },
  {
   "cell_type": "code",
   "execution_count": 16,
   "id": "e169c6e2-ebeb-4ef4-98bb-e10c6648f914",
   "metadata": {},
   "outputs": [
    {
     "data": {
      "text/plain": [
       "31.0"
      ]
     },
     "execution_count": 16,
     "metadata": {},
     "output_type": "execute_result"
    }
   ],
   "source": [
    "counts_arr[counts_arr == 0] = np.nan\n",
    "np.nanmedian(counts_arr)"
   ]
  },
  {
   "cell_type": "markdown",
   "id": "1fabfed6-9c14-4ead-afe3-fb843688a0db",
   "metadata": {},
   "source": [
    "## ISNOBAL Density\n",
    "Derive density product from ISNOBAL"
   ]
  },
  {
   "cell_type": "markdown",
   "id": "4d61c1b9-0be3-459d-8552-9ef476bebef5",
   "metadata": {},
   "source": [
    "**April 29 2021**"
   ]
  },
  {
   "cell_type": "code",
   "execution_count": null,
   "id": "8ff11dc8-8b9b-44b0-8d19-5cd6884f1445",
   "metadata": {},
   "outputs": [],
   "source": [
    "ASO_SWE_50 = 'MRB/supporting_files/ASO_snowDepth_SWE/SWE/ASO_50M_SWE_USCAMB_20180425.tif'\n",
    "ASO_SD_50 = 'MRB/supporting_files/ASO_snowDepth_SWE/Depth/ASO_50M_SD_USCAMB_20180425.tif'\n",
    "ASO_density_50 = 'MRB/supporting_files/ASO_snowDepth_SWE/Density/ASO_MRB_20180425_density_50m.tif'"
   ]
  },
  {
   "cell_type": "code",
   "execution_count": null,
   "id": "b7030386-2676-4582-88ad-33bdd21cba18",
   "metadata": {},
   "outputs": [],
   "source": [
    "density_cmd = ['python', gdal_calc, '-A', ASO_SWE_50, '-B', ASO_SD_50,'--NoDataValue','-9999',\n",
    " '--outfile', ASO_density_50, '--calc=\"A/B\"','--overwrite']\n",
    "subprocess.run(density_cmd)"
   ]
  },
  {
   "cell_type": "markdown",
   "id": "cd604f3f-fa6d-40c7-a916-f9196c72d316",
   "metadata": {},
   "source": [
    "## Merge"
   ]
  },
  {
   "cell_type": "code",
   "execution_count": null,
   "id": "fb334be6-ad9f-438c-843d-8855e9103676",
   "metadata": {},
   "outputs": [],
   "source": [
    "# list all files in directory that match pattern\n",
    "file_list = glob.glob('MRB/Merced_lidar/NCALM/NCALM_MRB_20180921/CHM_lt1pt5/*.tif')\n",
    "output_merge = 'MRB/Merced_lidar/NCALM/NCALM_MRB_20180921/CHM_merge/NCALM_MRB_20180921_CHM_LT1pt5.tif'\n",
    "# gdal_merge\n",
    "# use above coordinates or manually set coordinates for ulx, uly, lrx, lry\n",
    "# cmd = [\"gdal_merge.py\", \"-o\", output_merge]#,\"-ul_lr\", str(ulx), str(uly), str(lrx), str(lry)]\n",
    "# cmd.extend(file_list)\n",
    "# subprocess.call(cmd)\n",
    "# OR\n",
    "# gdal_merge\n",
    "# use above coordinates or manually set coordinates for ulx, uly, lrx, lry\n",
    "cmd = [\"python\",gdal_merge, \"-o\", output_merge]#,\"-ul_lr\", str(ulx), str(uly), str(lrx), str(lry)]\n",
    "cmd.extend(file_list)\n",
    "subprocess.call(cmd)"
   ]
  },
  {
   "cell_type": "code",
   "execution_count": null,
   "id": "25a5eee5-3201-4f04-976f-ab94243be947",
   "metadata": {},
   "outputs": [],
   "source": [
    "# list all files in directory that match pattern\n",
    "file_list = glob.glob('MRB/Merced_lidar/ASO/ASO_MRB_20210429/corrected_tif/*.tif')\n",
    "output_merge = 'MRB/Merced_lidar/ASO/ASO_MRB_20210429/corrected_tif_merge/ASO_MRB_20210429_vbc.tif'\n",
    "# gdal_merge\n",
    "# use above coordinates or manually set coordinates for ulx, uly, lrx, lry\n",
    "# cmd = [\"gdal_merge.py\", \"-o\", output_merge]#,\"-ul_lr\", str(ulx), str(uly), str(lrx), str(lry)]\n",
    "# cmd.extend(file_list)\n",
    "# subprocess.call(cmd)\n",
    "# OR\n",
    "# gdal_merge\n",
    "# use above coordinates or manually set coordinates for ulx, uly, lrx, lry\n",
    "cmd = [\"python\",gdal_merge, \"-o\", output_merge]#,\"-ul_lr\", str(ulx), str(uly), str(lrx), str(lry)]\n",
    "cmd.extend(file_list)\n",
    "subprocess.call(cmd)"
   ]
  },
  {
   "cell_type": "code",
   "execution_count": null,
   "id": "7923a575-5bc5-4a06-b0e7-0c50b928c445",
   "metadata": {},
   "outputs": [],
   "source": []
  },
  {
   "cell_type": "markdown",
   "id": "0653e6f5-8d3e-4bfa-884e-19b51db23a72",
   "metadata": {},
   "source": [
    "## Classify DEM"
   ]
  },
  {
   "cell_type": "code",
   "execution_count": null,
   "id": "292795d8-bf8e-443f-8921-d801c9da3be7",
   "metadata": {},
   "outputs": [],
   "source": []
  },
  {
   "cell_type": "code",
   "execution_count": null,
   "id": "da7fa100-7c81-4cde-be3c-2b0f33ecc946",
   "metadata": {},
   "outputs": [],
   "source": []
  },
  {
   "cell_type": "markdown",
   "id": "ca4fe84e-dbd4-45fa-8e68-49dbb8cc1166",
   "metadata": {},
   "source": [
    "### Slope and Aspect"
   ]
  },
  {
   "cell_type": "code",
   "execution_count": null,
   "id": "fd7e7631-c4a4-4b5b-aebf-fb97d3b26339",
   "metadata": {},
   "outputs": [],
   "source": [
    "DEM = 'MRB/Merced_lidar/NCALM/NCALM_MRB_20180921/DEM/NCALM_MRB_20180921_BE.tif'\n",
    "slope = 'MRB/Merced_lidar/NCALM/NCALM_MRB_20180921/DEM/NCALM_MRB_20180921_slope.tif'\n",
    "aspect = 'MRB/Merced_lidar/NCALM/NCALM_MRB_20180921/DEM/NCALM_MRB_20180921_aspect.tif'\n",
    "gdal_terrain_cmd = ['gdaldem', 'slope', DEM, slope]\n",
    "subprocess.run(gdal_terrain_cmd)\n",
    "gdal_terrain_cmd = ['gdaldem', 'aspect', DEM, aspect]\n",
    "subprocess.run(gdal_terrain_cmd)"
   ]
  },
  {
   "cell_type": "markdown",
   "id": "28d60b0a-3194-46ac-a931-c37eabd73068",
   "metadata": {},
   "source": [
    "### Northness"
   ]
  },
  {
   "cell_type": "code",
   "execution_count": null,
   "id": "ef713559-ccc4-4ef4-ab4e-2efbe42ea98e",
   "metadata": {},
   "outputs": [],
   "source": [
    "nness = 'MRB/Merced_lidar/NCALM/NCALM_MRB_20180921/DEM/NCALM_MRB_20180921_nness.tif'"
   ]
  },
  {
   "cell_type": "code",
   "execution_count": null,
   "id": "b4470350-cf1d-4413-ab56-d8e26960fa28",
   "metadata": {},
   "outputs": [],
   "source": [
    "# open slope and aspect as arrays\n",
    "slope_ras = gdal.Open(slope) # open the file \n",
    "aspect_ras = gdal.Open(aspect) # open the file \n",
    "# save spatial data\n",
    "gt = slope_ras.GetGeoTransform()\n",
    "proj = slope_ras.GetProjection()\n",
    "\n",
    "slope_arr = slope_ras.GetRasterBand(1).ReadAsArray() #read the first raster band (in this case we know we are only working with single bands) and read to a 2D array\n",
    "aspect_arr = aspect_ras.GetRasterBand(1).ReadAsArray() #read the first raster band (in this case we know we are only working with single bands) and read to a 2D array\n",
    "\n",
    "slope_ras = aspect_ras = None # close rasters"
   ]
  },
  {
   "cell_type": "code",
   "execution_count": null,
   "id": "efd46c64-d8fa-47dc-8ace-f31eeffa5d1f",
   "metadata": {},
   "outputs": [],
   "source": [
    "# Manipulate rasters and run raster calculations\n",
    "slope_arr[slope_arr == -9999] = np.nan # assign nans \n",
    "aspect_arr[aspect_arr == -9999] = np.nan\n",
    "\n",
    "slope_rad = np.radians(slope_arr) # convert degrees to radians\n",
    "aspect_rad = np.radians(aspect_arr)\n",
    "\n",
    "# see Tennant et al.(cos(aspect)*slope), 2017; Kirchner et al., 2014 (cos(aspect)*sin(slope)); Safa et al. (cos(aspect)*sin(slope), 2020; Molotch et al., 2004 (cos(aspect)*sin(slope)); Broxton et al, (calculated differently)\n",
    "northness_arr = np.cos(aspect_rad)*np.sin(slope_rad) # calculate northness"
   ]
  },
  {
   "cell_type": "code",
   "execution_count": null,
   "id": "f8df3411-0a1c-48ae-bfa8-ce195de6715a",
   "metadata": {},
   "outputs": [],
   "source": [
    "# save to raster\n",
    "# export\n",
    "driver = gdal.GetDriverByName(\"GTiff\")\n",
    "driver.Register()\n",
    "outds = driver.Create(nness, xsize = northness_arr.shape[1],\n",
    "                      ysize = northness_arr.shape[0], bands = 1, \n",
    "                      eType = gdal.GDT_Float32)\n",
    "outds.SetGeoTransform(gt)\n",
    "outds.SetProjection(proj)\n",
    "outband = outds.GetRasterBand(1)\n",
    "outband.WriteArray(northness_arr)\n",
    "outband.SetNoDataValue(np.nan)\n",
    "outband.FlushCache()\n",
    "\n",
    "# close your datasets and bands!!!\n",
    "outband = None\n",
    "outds = None"
   ]
  },
  {
   "cell_type": "code",
   "execution_count": null,
   "id": "e2e111ad-4495-4d33-932e-7cd185bf5db4",
   "metadata": {},
   "outputs": [],
   "source": []
  },
  {
   "cell_type": "markdown",
   "id": "8fe0d24c-08e0-4ab9-90bd-11b4f1dd7aaf",
   "metadata": {
    "tags": []
   },
   "source": [
    "## Classify Vegetation\n",
    "We use vegetation classifications based on specific strata. See: https://docs.google.com/document/d/1-HndVgydwBWQGCzLMCvowkY_Idll0IDog-vd3OrTiio/edit?usp=sharing"
   ]
  },
  {
   "cell_type": "code",
   "execution_count": 4,
   "id": "69985d36-a987-48b0-bc34-8c84a19e8ae7",
   "metadata": {},
   "outputs": [],
   "source": [
    "# Number of Returns in each HAG strata\n",
    "strata_neg0pt15_0pt15 = 'MRB/Merced_lidar/NCALM/NCALM_MRB_20180921/veg_strata/veg_classes/vegStrata_neg0pt15_0pt15.tif'\n",
    "strata_0pt15_1pt5 = 'MRB/Merced_lidar/NCALM/NCALM_MRB_20180921/veg_strata/veg_classes/vegStrata_0pt15_1pt5.tif'\n",
    "strata_1pt5_3 = 'MRB/Merced_lidar/NCALM/NCALM_MRB_20180921/veg_strata/veg_classes/vegStrata_1pt5_3.tif'\n",
    "strata_3 = 'MRB/Merced_lidar/NCALM/NCALM_MRB_20180921/veg_strata/veg_classes/vegStrata_3.tif'\n",
    "# Filter based off criteria for vegetation classes, files are binary\n",
    "NOR_neg0pt15_0pt15_GT0 = 'MRB/Merced_lidar/NCALM/NCALM_MRB_20180921/veg_strata/veg_classes/nor_filtered/NOR_neg0pt15_0pt15_GT0.tif'\n",
    "NOR_neg0pt15_0pt15_GTET0 = 'MRB/Merced_lidar/NCALM/NCALM_MRB_20180921/veg_strata/veg_classes/nor_filtered/NOR_neg0pt15_0pt15_GTET0.tif'\n",
    "NOR_0pt15_1pt5_GT0 = 'MRB/Merced_lidar/NCALM/NCALM_MRB_20180921/veg_strata/veg_classes/nor_filtered/NOR_0pt15_1pt5_GT0.tif'\n",
    "NOR_0pt15_1pt5_ET0 = 'MRB/Merced_lidar/NCALM/NCALM_MRB_20180921/veg_strata/veg_classes/nor_filtered/NOR_0pt15_1pt5_ET0.tif'\n",
    "NOR_1pt5_3_ET0 = 'MRB/Merced_lidar/NCALM/NCALM_MRB_20180921/veg_strata/veg_classes/nor_filtered/NOR_1pt5_3_ET0.tif'\n",
    "NOR_3_ET0 = 'MRB/Merced_lidar/NCALM/NCALM_MRB_20180921/veg_strata/veg_classes/nor_filtered/NOR_3_ET0.tif'\n",
    "NOR_3_GT0 = 'MRB/Merced_lidar/NCALM/NCALM_MRB_20180921/veg_strata/veg_classes/nor_filtered/NOR_GT0.tif'\n",
    "# Vegetation Classes, files are binary\n",
    "ncalm_open = 'MRB/Merced_lidar/NCALM/NCALM_MRB_20180921/veg_strata/veg_classes/NCALM_MRB_20180921_open.tif'\n",
    "ncalm_tall = 'MRB/Merced_lidar/NCALM/NCALM_MRB_20180921/veg_strata/veg_classes/NCALM_MRB_20180921_tall.tif'\n",
    "ncalm_short = 'MRB/Merced_lidar/NCALM/NCALM_MRB_20180921/veg_strata/veg_classes/NCALM_MRB_20180921_short.tif'\n",
    "ncalm_understory = 'MRB/Merced_lidar/NCALM/NCALM_MRB_20180921/veg_strata/veg_classes/NCALM_MRB_20180921_understory.tif'\n",
    "\n",
    "ncalm_short_HAG = 'MRB/Merced_lidar/NCALM/NCALM_MRB_20180921/veg_strata/veg_classes/NCALM_MRB_20180921_short_HAG.tif'\n",
    "ncalm_understory_HAG = 'MRB/Merced_lidar/NCALM/NCALM_MRB_20180921/veg_strata/veg_classes/NCALM_MRB_20180921_understory_HAG.tif'\n",
    "\n",
    "CHM_LT1pt5 = 'MRB/Merced_lidar/NCALM/NCALM_MRB_20180921/CHM_merge/NCALM_MRB_20180921_CHM_LT1pt5_clip.tif'\n",
    "# veg_OpenTall = 'MRB/Merced_lidar/NCALM/NCALM_MRB_20180921/veg_strata/veg_classes/NCALM_SCB_2014_tallORopen.tif'\n",
    "# veg_total = 'MRB/Merced_lidar/NCALM/NCALM_MRB_20180921/veg_strata/veg_classes/NCALM_SCB_2014_shortORtallORopen.tif'\n",
    "\n",
    "veg_classified = 'MRB/Merced_lidar/NCALM/NCALM_MRB_20180921/veg_strata/veg_classes/NCALM_MRB_20180921_vegClassified.tif'"
   ]
  },
  {
   "cell_type": "markdown",
   "id": "dc567f29-51ed-41c3-899d-fd7b288de314",
   "metadata": {},
   "source": [
    "We'll start off by looking at the number of returns in each height strata and filtering based off of our criteria. <br>"
   ]
  },
  {
   "cell_type": "code",
   "execution_count": null,
   "id": "c946dbca-77ee-4559-9616-3106ed909cf4",
   "metadata": {},
   "outputs": [],
   "source": [
    "# nor_filtered_cmd = ['python', gdal_calc, '-A', strata_neg0pt15_0pt15, '--outfile', NOR_neg0pt15_0pt15_GT0, '--calc=\"A>0\"','--overwrite']\n",
    "# nor_filtered_cmd = ['python', gdal_calc, '-A', strata_neg0pt15_0pt15, '--outfile', NOR_neg0pt15_0pt15_GTET0, '--calc=\"A>=0\"','--overwrite']\n",
    "# nor_filtered_cmd = ['python', gdal_calc, '-A', strata_0pt15_1pt5, '--outfile', NOR_0pt15_1pt5_GT0, '--calc=\"A>0\"','--overwrite']\n",
    "# nor_filtered_cmd = ['python', gdal_calc, '-A', strata_0pt15_1pt5, '--outfile', NOR_0pt15_1pt5_ET0, '--calc=\"A==0\"','--overwrite']\n",
    "# nor_filtered_cmd = ['python', gdal_calc, '-A', strata_1pt5_3, '--outfile', NOR_1pt5_3_ET0, '--calc=\"A==0\"','--overwrite']\n",
    "# nor_filtered_cmd = ['python', gdal_calc, '-A', strata_3, '--outfile', NOR_3_ET0, '--calc=\"A==0\"','--overwrite']\n",
    "# nor_filtered_cmd = ['python', gdal_calc, '-A', strata_3, '--outfile', NOR_3_GT0, '--calc=\"A>0\"','--overwrite']\n",
    "\n",
    "subprocess.run(nor_filtered_cmd)"
   ]
  },
  {
   "cell_type": "markdown",
   "id": "7b750455-c1ca-4970-ab8b-304031b57304",
   "metadata": {},
   "source": [
    "After filtering based of strata criteria, we can classify the snow-off flight into vegetation classifications. <br> \n",
    "**Open**, **Tall**, **Short Vegetation in the Open**, **All Understory Under Tall Vegetation**"
   ]
  },
  {
   "cell_type": "code",
   "execution_count": null,
   "id": "2f121da8-d782-4585-ab71-e39df96b4b9d",
   "metadata": {},
   "outputs": [],
   "source": [
    "open_cmd = ['python', gdal_calc, '-A', NOR_neg0pt15_0pt15_GTET0, '-B', NOR_0pt15_1pt5_ET0,'-C',NOR_1pt5_3_ET0,'-D',NOR_3_ET0,'--NoDataValue','-9999',\n",
    " '--outfile', ncalm_open, '--calc=\"A*B*C*D\"','--overwrite']\n",
    "subprocess.run(open_cmd)\n",
    "\n",
    "tall_cmd = ['python', gdal_calc, '-A', NOR_neg0pt15_0pt15_GT0, '-B', NOR_0pt15_1pt5_ET0,'-C',NOR_1pt5_3_ET0,'-D',NOR_3_GT0,'--NoDataValue','-9999',\n",
    " '--outfile', ncalm_tall, '--calc=\"A*B*C*D\"','--overwrite']\n",
    "subprocess.run(tall_cmd)\n",
    "\n",
    "short_cmd = ['python', gdal_calc, '-A', NOR_neg0pt15_0pt15_GTET0, '-B', NOR_0pt15_1pt5_GT0,'-C',NOR_1pt5_3_ET0,'-D',NOR_3_ET0,'--NoDataValue','-9999',\n",
    " '--outfile', ncalm_short, '--calc=\"A*B*C*D\"','--overwrite']\n",
    "subprocess.run(short_cmd)\n",
    "\n",
    "understory_cmd = ['python', gdal_calc, '-A', NOR_neg0pt15_0pt15_GTET0, '-B', NOR_0pt15_1pt5_GT0,'-C',NOR_1pt5_3_ET0,'-D',NOR_3_GT0,'--NoDataValue','-9999',\n",
    " '--outfile', ncalm_understory, '--calc=\"A*B*C*D\"','--overwrite']\n",
    "subprocess.run(understory_cmd)"
   ]
  },
  {
   "cell_type": "code",
   "execution_count": null,
   "id": "1d959fd1-b53c-4c72-85c9-332646630e88",
   "metadata": {},
   "outputs": [],
   "source": [
    "understory_cmd = ['python', gdal_calc, '-A', NOR_neg0pt15_0pt15_GTET0, '-B', NOR_0pt15_1pt5_GT0,'-C',NOR_1pt5_3_ET0,'-D',NOR_3_GT0,'--NoDataValue','-9999',\n",
    " '--outfile', ncalm_understory, '--calc=\"A*B*C*D\"','--overwrite']\n",
    "subprocess.run(understory_cmd)"
   ]
  },
  {
   "cell_type": "markdown",
   "id": "669673eb-2783-4cd6-ac83-cb4e162fd81a",
   "metadata": {},
   "source": [
    "Now let's extract the HAG values at potential short/understory locations"
   ]
  },
  {
   "cell_type": "code",
   "execution_count": null,
   "id": "c085f97b-2088-4ce4-9a76-ef3a9fb6272f",
   "metadata": {},
   "outputs": [],
   "source": [
    "#NCALM_2014_CHM_LT1pt5 = 'SCB/Sagehen_lidar/NCALM/NCALM_SCB_2014/CHM/NCALM_2014_CHM_LT1pt5.tif'"
   ]
  },
  {
   "cell_type": "code",
   "execution_count": null,
   "id": "5e83859a-4222-4aa4-be53-ac214fdf4be6",
   "metadata": {},
   "outputs": [],
   "source": [
    "ncalm_short"
   ]
  },
  {
   "cell_type": "code",
   "execution_count": null,
   "id": "4488fcfb-5f05-428d-aed6-6ae914ab8ea2",
   "metadata": {},
   "outputs": [],
   "source": [
    "short_cmd = ['python', gdal_calc, '-A', ncalm_short, '-B', CHM_LT1pt5,\n",
    " '--outfile', ncalm_short_HAG, '--calc=\"B*A\"','--overwrite',]\n",
    "subprocess.run(short_cmd)\n",
    "\n",
    "understory_cmd = ['python', gdal_calc, '-A', ncalm_understory, '-B', CHM_LT1pt5,'--NoDataValue','-9999',\n",
    " '--outfile', ncalm_understory_HAG, '--calc=\"B*(A==1)\"','--overwrite']\n",
    "subprocess.run(understory_cmd)"
   ]
  },
  {
   "cell_type": "code",
   "execution_count": null,
   "id": "87a73fd8-6451-49ac-b545-d5e290691c89",
   "metadata": {},
   "outputs": [],
   "source": [
    "# veg_classified_cmd = ['python', gdal_calc, '-A', ncalm_short, '-B', ncalm_tall,'-C',ncalm_short,'-D',ncalm_understory,'--NoDataValue','-9999',\n",
    "#  '--outfile', veg_classified, '--calc=\"1*A+2*B+3*C+4*D\"','--overwrite']\n",
    "# subprocess.run(veg_classified_cmd)"
   ]
  },
  {
   "cell_type": "code",
   "execution_count": null,
   "id": "ddb35d9e-1584-4f49-b47d-514918960d99",
   "metadata": {},
   "outputs": [],
   "source": [
    "# # calculate CHM from DSM and DTM\n",
    "# input_snow_depth = 'SCB/random_forest_data/ASO_sd/ASO_snow_depth_20160417_clp.tif'\n",
    "# input_snow_density = 'SCB/random_forest_data/snowpalm_density/SP_density_20160417_1m.tif'\n",
    "# output_swe = 'SCB/random_forest_data/calc_swe/SWE_20160417.tif'\n",
    "# swe_command = ['gdal_calc.py', '-A', input_snow_depth, '-B', input_snow_density, '--calc=\"A*B\"','--outfile', output_swe]\n",
    "# subprocess.run(swe_command)"
   ]
  },
  {
   "cell_type": "code",
   "execution_count": null,
   "id": "3ee54f19-5f95-4ee7-99b7-c475b8123ef1",
   "metadata": {},
   "outputs": [],
   "source": []
  },
  {
   "cell_type": "code",
   "execution_count": null,
   "id": "90398f7b-f089-4d60-b94d-ce8ca59896c4",
   "metadata": {},
   "outputs": [],
   "source": []
  },
  {
   "cell_type": "code",
   "execution_count": null,
   "id": "c7d47b30-bf53-4fd3-9c16-bd410770b1d8",
   "metadata": {},
   "outputs": [],
   "source": []
  },
  {
   "cell_type": "markdown",
   "id": "552e212b-6385-48bd-8c4a-46c112d365d6",
   "metadata": {},
   "source": [
    "### Characterize Veg"
   ]
  },
  {
   "cell_type": "code",
   "execution_count": 10,
   "id": "fa992238-79f7-4665-9fad-8e6fec068184",
   "metadata": {},
   "outputs": [],
   "source": [
    "# Filter out all water bodies\n",
    "##input_shp = 'SCB/supporting_files/masks/NHDWaterbody_2018_EPSG26910.shp'"
   ]
  },
  {
   "cell_type": "code",
   "execution_count": 22,
   "id": "c42d29c7-824c-4748-bcbb-8f74b4b8b784",
   "metadata": {},
   "outputs": [],
   "source": [
    "counts_total = 'MRB/Merced_lidar/NCALM/NCALM_MRB_20180921/counts/NCALM_MRB_20180921_counts_all.tif'\n",
    "counts_2m = 'MRB/Merced_lidar/NCALM/NCALM_MRB_20180921/counts/NCALM_MRB_20180921_counts_gt2m_all.tif'\n",
    "\n",
    "# dist_to_nearest_canopy = 'SCB/Sagehen_lidar/NCALM/NCALM_SCB_2014/veg_strata/veg_characteristics/NCALM_SCB_2014_DNC.tif'\n",
    "# dist_to_nearest_canopy_30m = 'SCB/Sagehen_lidar/NCALM/NCALM_SCB_2014/veg_strata/veg_characteristics/NCALM_SCB_2014_DNC_30m.tif'\n",
    "\n",
    "# clump_size = 'SCB/Sagehen_lidar/NCALM/NCALM_SCB_2014/veg_strata/veg_characteristics/NCALM_SCB_2014_clumpSize.tif'\n",
    "# clump_size_30 = 'SCB/Sagehen_lidar/NCALM/NCALM_SCB_2014/veg_strata/veg_characteristics/NCALM_SCB_2014_clumpSize_30m.tif'"
   ]
  },
  {
   "cell_type": "code",
   "execution_count": null,
   "id": "5b52293a-3f12-42d1-b49f-7527060cbe14",
   "metadata": {},
   "outputs": [],
   "source": []
  },
  {
   "cell_type": "code",
   "execution_count": 21,
   "id": "55493d92-730f-4b76-b856-2c168430408f",
   "metadata": {},
   "outputs": [
    {
     "data": {
      "text/plain": [
       "0"
      ]
     },
     "execution_count": 21,
     "metadata": {},
     "output_type": "execute_result"
    }
   ],
   "source": [
    "# extract vegetation cover (average height and density) across the watershed\n",
    "proximity_cmd = ['python',gdal_proximity, ncalm_tallORunderstory, dist_to_nearest_canopy,'-values','1','-nodata','-9999']\n",
    "subprocess.run(proximity_cmd)\n",
    "burn_command = ['gdal_rasterize', '-b', '1', '-burn', '-9999', input_shp, dist_to_nearest_canopy]\n",
    "subprocess.call(burn_command)"
   ]
  },
  {
   "cell_type": "code",
   "execution_count": 22,
   "id": "81230f5b-46fd-4f71-aabc-f22fa56ff373",
   "metadata": {},
   "outputs": [
    {
     "data": {
      "text/plain": [
       "0"
      ]
     },
     "execution_count": 22,
     "metadata": {},
     "output_type": "execute_result"
    }
   ],
   "source": [
    "# extract vegetation cover (average height and density) across the watershed\n",
    "proximity_cmd = ['python',gdal_proximity, ncalm_tallORunderstory, clump_size,'-values','0','-nodata','-9999']\n",
    "subprocess.run(proximity_cmd)\n",
    "burn_command = ['gdal_rasterize', '-b', '1', '-burn', '-9999', input_shp, clump_size]\n",
    "subprocess.call(burn_command)"
   ]
  },
  {
   "cell_type": "code",
   "execution_count": 23,
   "id": "85ca5b76-4df7-458b-b4a5-bd4b35af52de",
   "metadata": {},
   "outputs": [],
   "source": [
    "ncalm_fVEG = 'MRB/Merced_lidar/NCALM/NCALM_MRB_20180921/veg_strata/veg_characteristics/NCALM_MRB_20180921_fVeg_all.tif'"
   ]
  },
  {
   "cell_type": "code",
   "execution_count": 24,
   "id": "158a694e-1d8c-46ae-903b-b2d386e52c9b",
   "metadata": {},
   "outputs": [
    {
     "data": {
      "text/plain": [
       "CompletedProcess(args=['python', 'C:\\\\Users\\\\cpiske\\\\.conda\\\\envs\\\\lidar\\\\Lib\\\\site-packages\\\\osgeo_utils\\\\gdal_calc.py', '-A', 'MRB/Merced_lidar/NCALM/NCALM_MRB_20180921/counts/NCALM_MRB_20180921_counts_gt2m_all.tif', '-B', 'MRB/Merced_lidar/NCALM/NCALM_MRB_20180921/counts/NCALM_MRB_20180921_counts_all.tif', '--NoDataValue', '-9999', '--outfile', 'MRB/Merced_lidar/NCALM/NCALM_MRB_20180921/veg_strata/veg_characteristics/NCALM_MRB_20180921_fVeg_all.tif', '--calc=\"A/B\"', '--overwrite'], returncode=0)"
      ]
     },
     "execution_count": 24,
     "metadata": {},
     "output_type": "execute_result"
    }
   ],
   "source": [
    "fveg_cmd = ['python', gdal_calc, '-A', counts_2m, '-B', counts_total,'--NoDataValue','-9999',\n",
    " '--outfile', ncalm_fVEG, '--calc=\"A/B\"','--overwrite']\n",
    "subprocess.run(fveg_cmd)"
   ]
  },
  {
   "cell_type": "code",
   "execution_count": 24,
   "id": "81643d8b-cc35-4560-8f42-137be1f53072",
   "metadata": {},
   "outputs": [
    {
     "data": {
      "text/plain": [
       "0"
      ]
     },
     "execution_count": 24,
     "metadata": {},
     "output_type": "execute_result"
    }
   ],
   "source": [
    "# # use ts to specify the x and y extents of bounding box (default 1000)\n",
    "warp_cmd = [\"gdalwarp\",\"-overwrite\", ncalm_tallORunderstory, ncalm_fVEG, \"-tr\", str(30),str(30),'-srcnodata','-9999','-r','average','-dstnodata','-9999']\n",
    "subprocess.call(warp_cmd)"
   ]
  },
  {
   "cell_type": "code",
   "execution_count": 29,
   "id": "93868acb-2494-4090-959a-54099e9d7d58",
   "metadata": {},
   "outputs": [
    {
     "data": {
      "text/plain": [
       "0"
      ]
     },
     "execution_count": 29,
     "metadata": {},
     "output_type": "execute_result"
    }
   ],
   "source": [
    "# # use ts to specify the x and y extents of bounding box (default 1000)\n",
    "warp_cmd = [\"gdalwarp\",\"-overwrite\", clump_size, clump_size_30, \"-tr\", str(30),str(30),'-srcnodata','-9999','-r','average','-dstnodata','-9999']\n",
    "subprocess.call(warp_cmd)"
   ]
  },
  {
   "cell_type": "code",
   "execution_count": 31,
   "id": "c23b8d5d-4d79-4ddd-9dc9-ddd1d168050b",
   "metadata": {},
   "outputs": [
    {
     "data": {
      "text/plain": [
       "0"
      ]
     },
     "execution_count": 31,
     "metadata": {},
     "output_type": "execute_result"
    }
   ],
   "source": [
    "# # use ts to specify the x and y extents of bounding box (default 1000)\n",
    "warp_cmd = [\"gdalwarp\",\"-overwrite\", dist_to_nearest_canopy, dist_to_nearest_canopy_30m, \"-tr\", str(30),str(30),'-srcnodata','-9999','-r','average','-dstnodata','-9999']\n",
    "subprocess.call(warp_cmd)"
   ]
  },
  {
   "cell_type": "markdown",
   "id": "08468d65-2615-4f9a-8426-8fd21732e78a",
   "metadata": {},
   "source": [
    "## Calculate Snow Depth"
   ]
  },
  {
   "cell_type": "markdown",
   "id": "48b0cb74-973f-4f9a-899d-223d761b7b53",
   "metadata": {},
   "source": [
    "Time to bring the snow in... <br>\n",
    "For each flight, we have two snow depths, filtered at 3 meters and 5 meters to use for open vs. under canopy <br>\n",
    "We use the general open/short/tall/understory classifications above but refine for each flight"
   ]
  },
  {
   "cell_type": "markdown",
   "id": "1e6e7f46-06ae-4b30-9c5f-1e00c94cd801",
   "metadata": {},
   "source": [
    "### Refine Vegetation Classes"
   ]
  },
  {
   "cell_type": "code",
   "execution_count": 6,
   "id": "3e3d796b-0f61-4bc2-ba61-e3e56953ecec",
   "metadata": {},
   "outputs": [],
   "source": [
    "snow_depth = 'MRB/Merced_lidar/ASO/ASO_MRB_20180425/corrected_tif_merge/ASO_MRB_20180425_vbc.tif'\n",
    "snow_depth_LTET3 = 'MRB/Merced_lidar/ASO/ASO_MRB_20180425/corrected_tif_merge/ASO_MRB_20180425_vbc_3.tif'\n",
    "snow_depth_LTET5 = 'MRB/Merced_lidar/ASO/ASO_MRB_20180425/corrected_tif_merge/ASO_MRB_20180425_vbc_5.tif'\n",
    "flight_spec_short = 'MRB/Merced_lidar/ASO/ASO_MRB_20180425/veg_classes/ASO_MRB_20180425_short.tif'\n",
    "flight_spec_open = 'MRB/Merced_lidar/ASO/ASO_MRB_20180425/veg_classes/ASO_MRB_20180425_open.tif'\n",
    "flight_spec_understory = 'MRB/Merced_lidar/ASO/ASO_MRB_20180425/veg_classes/ASO_MRB_20180425_understory.tif'\n",
    "flight_spec_tall = 'MRB/Merced_lidar/ASO/ASO_MRB_20180425/veg_classes/ASO_MRB_20180425_tall.tif'"
   ]
  },
  {
   "cell_type": "markdown",
   "id": "f826cddd-fe1e-449c-8ac3-530781d7bd88",
   "metadata": {},
   "source": [
    "Refine vegetation classifications based on snow-on flights. We set a threshold of 30 cm so that if the snow-on flight is <30 cm greater than the snow-off flight, we do not keep that short/understory pixel. "
   ]
  },
  {
   "cell_type": "code",
   "execution_count": 8,
   "id": "b8eaac95-5b1e-45ff-8f95-bc3b307e99fe",
   "metadata": {},
   "outputs": [
    {
     "data": {
      "text/plain": [
       "CompletedProcess(args=['python', 'C:\\\\Users\\\\cpiske\\\\.conda\\\\envs\\\\lidar\\\\Lib\\\\site-packages\\\\osgeo_utils\\\\gdal_calc.py', '-A', 'MRB/Merced_lidar/ASO/ASO_MRB_20180425/corrected_tif_merge/ASO_MRB_20180425_vbc_5.tif', '-B', 'MRB/Merced_lidar/NCALM/NCALM_MRB_20180921/veg_strata/veg_classes/NCALM_MRB_20180921_short.tif', '-C', 'MRB/Merced_lidar/NCALM/NCALM_MRB_20180921/CHM_merge/NCALM_MRB_20180921_CHM_LT1pt5_clip.tif', '--NoDataValue', '-9999', '--outfile', 'MRB/Merced_lidar/ASO/ASO_MRB_20180425/veg_classes/ASO_MRB_20180425_short.tif', '--calc=\"((A-C)>0.3)*B\"', '--overwrite'], returncode=1)"
      ]
     },
     "execution_count": 8,
     "metadata": {},
     "output_type": "execute_result"
    }
   ],
   "source": [
    "SD_open_cmd = ['python',gdal_calc, '-A', snow_depth_LTET5, '-B', ncalm_short,'-C', CHM_LT1pt5,'--NoDataValue','-9999',\n",
    " '--outfile', flight_spec_short, '--calc=\"((A-C)>0.3)*B\"','--overwrite']\n",
    "subprocess.run(SD_open_cmd)\n",
    "\n",
    "# SD_open_cmd = ['python',gdal_calc, '-A', flight_spec_short, '-B', ncalm_open,'--NoDataValue','0',\n",
    "#     '--outfile', flight_spec_open, '--calc=\"1*logical_or(A>0, B>0)\"','--overwrite']\n",
    "# subprocess.run(SD_open_cmd)\n",
    "\n",
    "# SD_tall_cmd = ['python',gdal_calc, '-A', snow_depth_LTET3, '-B', ncalm_understory,'-C', CHM_LT1pt5,'--NoDataValue','-9999',\n",
    "#  '--outfile', flight_spec_understory, '--calc=\"((A-C)>0.3)*B\"','--overwrite']\n",
    "# subprocess.run(SD_tall_cmd)\n",
    "\n",
    "# SD_tall_cmd = ['python',gdal_calc, '-A', flight_spec_understory, '-B', ncalm_tall,'--NoDataValue','0',\n",
    "#  '--outfile', flight_spec_tall, '--calc=\"1*logical_or(A>0, B>0)\"','--overwrite']\n",
    "# subprocess.run(SD_tall_cmd)"
   ]
  },
  {
   "cell_type": "markdown",
   "id": "26fab49d-eb59-4015-bc43-32b740003526",
   "metadata": {},
   "source": [
    "### Calculate Snow Depth"
   ]
  },
  {
   "cell_type": "code",
   "execution_count": null,
   "id": "682f44eb-df3b-4f5a-b17a-61b261014ba1",
   "metadata": {},
   "outputs": [],
   "source": [
    "tic=time.perf_counter()"
   ]
  },
  {
   "cell_type": "code",
   "execution_count": null,
   "id": "c3f2a51b-9901-4216-9a5e-12226f1a2844",
   "metadata": {},
   "outputs": [],
   "source": [
    "# snow_depth_all_pts = 'SCB/Sagehen_lidar/ASO/ASO_SCB_20160518/snow_depth/ASO_SCB_20160518_SD_all.tif'\n",
    "# snow_depth_open = 'SCB/Sagehen_lidar/ASO/ASO_SCB_20160518/snow_depth/ASO_SCB_20160518_SD_open.tif'\n",
    "# snow_depth_tall = 'SCB/Sagehen_lidar/ASO/ASO_SCB_20160518/snow_depth/ASO_SCB_20160518_SD_tall.tif'"
   ]
  },
  {
   "cell_type": "code",
   "execution_count": null,
   "id": "99152668-b344-43f1-91bc-0df95870f316",
   "metadata": {},
   "outputs": [],
   "source": [
    "snow_depth_all_pts = 'SCB/Sagehen_lidar/NCALM/NCALM_SCB_20080210/snow_depth/NCALM_SCB_20080210_SD_all.tif'\n",
    "snow_depth_open = 'SCB/Sagehen_lidar/NCALM/NCALM_SCB_20080210/snow_depth/NCALM_SCB_20080210_SD_open.tif'\n",
    "snow_depth_tall = 'SCB/Sagehen_lidar/NCALM/NCALM_SCB_20080210/snow_depth/NCALM_SCB_20080210_SD_tall.tif'"
   ]
  },
  {
   "cell_type": "code",
   "execution_count": null,
   "id": "c71b24d1-4997-47cf-bade-5b495d422400",
   "metadata": {},
   "outputs": [],
   "source": [
    "SD_open_cmd = ['python',gdal_calc, '-A', snow_depth_LTET5, '-B', flight_spec_open,'--NoDataValue','-9999',\n",
    " '--outfile', snow_depth_open, '--calc=\"A*B\"','--overwrite']\n",
    "subprocess.run(SD_open_cmd)\n",
    "\n",
    "SD_tall_cmd = ['python',gdal_calc, '-A', snow_depth_LTET3, '-B', flight_spec_tall,'--NoDataValue','-9999',\n",
    " '--outfile', snow_depth_tall, '--calc=\"A*B\"','--overwrite']\n",
    "subprocess.run(SD_tall_cmd)\n",
    "\n",
    "merge_command = [\"python\", gdal_merge, \"-o\", snow_depth_all_pts, snow_depth_open, snow_depth_tall,'-a_nodata','-9999']\n",
    "subprocess.call(merge_command)"
   ]
  },
  {
   "cell_type": "markdown",
   "id": "b7e189ad-e44a-4a85-9bee-5be07882e930",
   "metadata": {},
   "source": [
    "## Filter Data\n",
    "No we filter the snow depths in two critical ways.<br> From Kostadinov et al, 2019 \"by excluding areas\n",
    "and improving the accuracy of the lidar-derived elevation datasets. Slopes greater than 30o and lake/pond water bodies as delineated by the National Hydrography Dataset (high resolution) (https://nhd.usgs.gov/) were excluded from the analysis. We used this slope threshold because the uncertainty in elevation increases dramatically above 30 degrees slope (Takahashi et al., 2005; Tinkham et al., 2012).\""
   ]
  },
  {
   "cell_type": "code",
   "execution_count": null,
   "id": "df34702f-9e04-4aa2-b769-0feeba2414e5",
   "metadata": {},
   "outputs": [],
   "source": [
    "# Filter out all water bodies\n",
    "input_shp = 'SCB/supporting_files/masks/NHDWaterbody_2018_EPSG26910.shp'"
   ]
  },
  {
   "cell_type": "code",
   "execution_count": null,
   "id": "17a309ac-445b-4b1c-b20d-722b6347d3a7",
   "metadata": {},
   "outputs": [],
   "source": [
    "burn_command = ['gdal_rasterize', '-b', '1', '-burn', '-9999', input_shp, snow_depth_open]\n",
    "subprocess.call(burn_command)\n",
    "burn_command = ['gdal_rasterize', '-b', '1', '-burn', '-9999', input_shp, snow_depth_all_pts]\n",
    "subprocess.call(burn_command)\n",
    "burn_command = ['gdal_rasterize', '-b', '1', '-burn', '-9999', input_shp, snow_depth_tall]\n",
    "subprocess.call(burn_command)"
   ]
  },
  {
   "cell_type": "code",
   "execution_count": null,
   "id": "cc0a0d53-ff32-46ee-bbc1-ba04590c9f34",
   "metadata": {},
   "outputs": [],
   "source": [
    "# snow_depth_all_pts = 'SCB/Sagehen_lidar/ASO/ASO_SCB_20160326/snow_depth/ASO_SCB_20160326_SD_all.tif'\n",
    "# snow_depth_filSlope = 'SCB/Sagehen_lidar/ASO/ASO_SCB_20160326/snow_depth/ASO_SCB_20160326_SD_filSlope.tif'\n",
    "# snow_depth_refined = 'SCB/Sagehen_lidar/ASO/ASO_SCB_20160326/snow_depth/ASO_SCB_20160326_SD.tif'"
   ]
  },
  {
   "cell_type": "code",
   "execution_count": null,
   "id": "2910ec61-9e70-4034-97a9-e6230a090a4b",
   "metadata": {},
   "outputs": [],
   "source": [
    "snow_depth_all_pts = 'SCB/Sagehen_lidar/NCALM/NCALM_SCB_20080210/snow_depth/NCALM_SCB_20080210_SD_all.tif'\n",
    "snow_depth_filSlope = 'SCB/Sagehen_lidar/NCALM/NCALM_SCB_20080210/snow_depth/NCALM_SCB_20080210_SD_filSlope.tif'\n",
    "snow_depth_refined = 'SCB/Sagehen_lidar/NCALM/NCALM_SCB_20080210/snow_depth/NCALM_SCB_20080210_SD.tif'"
   ]
  },
  {
   "cell_type": "code",
   "execution_count": null,
   "id": "c86cc612-ecde-4a4f-bd4a-d92223fd0aea",
   "metadata": {},
   "outputs": [],
   "source": [
    "sd_filter_cmd = ['python',gdal_calc, '-A', snow_depth_all_pts,'-B',slope,'--NoDataValue','0',\n",
    " '--outfile', snow_depth_filSlope, '--calc=\"A*(B<=30)\"','--overwrite']\n",
    "subprocess.run(sd_filter_cmd)"
   ]
  },
  {
   "cell_type": "code",
   "execution_count": null,
   "id": "f71798b7-80d6-4bb0-8747-85e365eaedb4",
   "metadata": {},
   "outputs": [],
   "source": [
    "sd_filter_cmd = ['python',gdal_calc, '-A', snow_depth_filSlope,'--NoDataValue','-9999',\n",
    " '--outfile', snow_depth_refined, '--calc=\"A*(A>=0.15)\"','--overwrite']\n",
    "subprocess.run(sd_filter_cmd)"
   ]
  },
  {
   "cell_type": "markdown",
   "id": "c1fea5d1-71d6-45aa-85a1-799d67077a4e",
   "metadata": {},
   "source": [
    "## Calculate SWE"
   ]
  },
  {
   "cell_type": "markdown",
   "id": "94fd2f2f-78fc-4093-9b6b-b17d46e2b393",
   "metadata": {},
   "source": [
    "Start by making sure our density rasters align with snow depth rasters <br>\n",
    "from the Lidar Processing workflow we can extract our bounds: '730235.96, 738826.45,4364741.66,4372273.16'"
   ]
  },
  {
   "cell_type": "code",
   "execution_count": null,
   "id": "8ec48284-fdac-4b5c-8e09-fbab41d88fe8",
   "metadata": {},
   "outputs": [],
   "source": [
    "# input_density = 'SCB/Sagehen_lidar/ASO/ASO_SCB_20160518/snow_density/20160518_1m.tif'\n",
    "# output_density = 'SCB/Sagehen_lidar/ASO/ASO_SCB_20160518/snow_density/ASO_SCB_20160518_snowDensity.tif'"
   ]
  },
  {
   "cell_type": "code",
   "execution_count": null,
   "id": "d7d6b660-6daf-40e2-8b69-3216fb3937dd",
   "metadata": {},
   "outputs": [],
   "source": [
    "input_density = 'SCB/Sagehen_lidar/NCALM/NCALM_SCB_20080210/snow_density/density_20080210_1m.tif'\n",
    "output_density = 'SCB/Sagehen_lidar/NCALM/NCALM_SCB_20080210/snow_density/NCALM_SCB_20080210_snowDensity.tif'"
   ]
  },
  {
   "cell_type": "code",
   "execution_count": null,
   "id": "78650e7a-5497-4466-bca1-1799a50cb8a9",
   "metadata": {},
   "outputs": [],
   "source": []
  },
  {
   "cell_type": "code",
   "execution_count": null,
   "id": "8f9ef0f5-8857-43dd-88c0-20262bfa4814",
   "metadata": {},
   "outputs": [],
   "source": [
    "warp_cmd = [\"gdalwarp\",\"-overwrite\", input_density, output_density, \"-te\", '730235.96', '4364741.66', '738826.9599999999627471', '4372273.16', '-tr','1','1']\n",
    "subprocess.call(warp_cmd)"
   ]
  },
  {
   "cell_type": "code",
   "execution_count": null,
   "id": "c3965366-e8e3-4a89-a7ca-80cd11363e72",
   "metadata": {},
   "outputs": [],
   "source": [
    "input_snow_depth =  'SCB/Sagehen_lidar/ASO/ASO_SCB_20160518/snow_depth/ASO_SCB_20160518_SD.tif'\n",
    "input_snow_density = 'SCB/Sagehen_lidar/ASO/ASO_SCB_20160518/snow_density/ASO_SCB_20160518_snowDensity.tif'\n",
    "output_SWE =  'SCB/Sagehen_lidar/ASO/ASO_SCB_20160518/SWE/ASO_SCB_20160518_SD.tif'"
   ]
  },
  {
   "cell_type": "code",
   "execution_count": null,
   "id": "f7454d65-b21f-415e-aafd-7ec2336cb525",
   "metadata": {},
   "outputs": [],
   "source": [
    "# input_snow_depth =  'SCB/Sagehen_lidar/NCALM/NCALM_SCB_20080210/snow_depth/NCALM_SCB_20080210_SD.tif'\n",
    "# input_snow_density = 'SCB/Sagehen_lidar/NCALM/NCALM_SCB_20080210/snow_density/NCALM_SCB_20080210_snowDensity.tif'\n",
    "# output_SWE =  'SCB/Sagehen_lidar/NCALM/NCALM_SCB_20080210/SWE/NCALM_SCB_20080210_SD.tif'"
   ]
  },
  {
   "cell_type": "code",
   "execution_count": null,
   "id": "8e27f99e-876d-4c41-819c-ed8d5aa919aa",
   "metadata": {},
   "outputs": [],
   "source": [
    "swe_cmd = ['python',gdal_calc, '-A', input_snow_depth,'-B',input_snow_density,'--NoDataValue','-9999',\n",
    " '--outfile', output_SWE, '--calc=\"A*B*100\"','--overwrite']\n",
    "subprocess.run(swe_cmd)"
   ]
  },
  {
   "cell_type": "code",
   "execution_count": null,
   "id": "121c1600-59f5-4e00-8eec-fb51e7ee1bdd",
   "metadata": {},
   "outputs": [],
   "source": []
  },
  {
   "cell_type": "code",
   "execution_count": null,
   "id": "d4724177-38ab-4282-bf14-1580409afce6",
   "metadata": {},
   "outputs": [],
   "source": [
    "268000.8400000000256114,4167000.7099999999627471 : 278302.8400000000256114,4178356.7099999999627471"
   ]
  },
  {
   "cell_type": "code",
   "execution_count": 64,
   "id": "367f2a2b-d39a-46ab-95f1-67e3040e1b0d",
   "metadata": {},
   "outputs": [],
   "source": [
    "input_tif = 'MRB/Merced_lidar/ASO/ASO_MRB_20180425/snow_depth/ASO_MRB_20180425_SD.tif'\n",
    "output_tif = 'MRB/Merced_lidar/ASO/ASO_MRB_20180425/snow_depth/ASO_MRB_20180425_SD_30m.tif'"
   ]
  },
  {
   "cell_type": "code",
   "execution_count": 65,
   "id": "032722e1-c99c-4f03-bef9-ee302d8b5b6b",
   "metadata": {},
   "outputs": [
    {
     "data": {
      "text/plain": [
       "0"
      ]
     },
     "execution_count": 65,
     "metadata": {},
     "output_type": "execute_result"
    }
   ],
   "source": [
    "warp_cmd = [\"gdalwarp\",\"-overwrite\", input_tif, output_tif, \"-te\", '268000.84', '4167000.70', '278302.84', '4178356.70', '-tr','30','30','-r','average']\n",
    "subprocess.call(warp_cmd)"
   ]
  },
  {
   "cell_type": "code",
   "execution_count": null,
   "id": "fa35df62-1906-4cbd-a4b0-d46e16f11e12",
   "metadata": {},
   "outputs": [],
   "source": []
  },
  {
   "cell_type": "markdown",
   "id": "224cc33d-2c7b-4640-86dd-87be516bed19",
   "metadata": {},
   "source": [
    "## Crop"
   ]
  },
  {
   "cell_type": "code",
   "execution_count": 29,
   "id": "f5b64607-1863-4de9-9459-81f09a7c07b1",
   "metadata": {},
   "outputs": [],
   "source": [
    "input_shp = 'MRB/Merced_lidar/NCALM/NCALM_MRB_20180921/clipping_boundary/NCALM_MRB_20180921_clipping_boundary.shp'\n",
    "# input_tif = 'MRB/Merced_lidar/NCALM/NCALM_MRB_20180921/CHM/NCALM_MRB_20180921_CHM_all.tif'\n",
    "# output_tif = 'MRB/Merced_lidar/NCALM/NCALM_MRB_20180921/CHM/NCALM_MRB_20180921_CHM.tif'\n",
    "input_tif = 'MRB/Merced_lidar/NCALM/NCALM_MRB_20180921/CHM/NCALM_MRB_20180921_CHM_all.tif'\n",
    "output_tif = 'MRB/Merced_lidar/NCALM/NCALM_MRB_20180921/CHM/NCALM_MRB_20180921_CHM.tif'"
   ]
  },
  {
   "cell_type": "code",
   "execution_count": 30,
   "id": "7097f24c-edab-45ac-887c-17325794922d",
   "metadata": {},
   "outputs": [
    {
     "data": {
      "text/plain": [
       "0"
      ]
     },
     "execution_count": 30,
     "metadata": {},
     "output_type": "execute_result"
    }
   ],
   "source": [
    "warp_cmd = [\"gdalwarp\",\"-dstnodata\",'-9999','-cutline', input_shp, input_tif,output_tif]\n",
    "subprocess.call(warp_cmd)"
   ]
  },
  {
   "cell_type": "code",
   "execution_count": 27,
   "id": "f2492747-fce4-4450-b8bb-02a2ac933ce7",
   "metadata": {},
   "outputs": [],
   "source": [
    "input_tif = 'MRB/Merced_lidar/NCALM/NCALM_MRB_20180921/DEM/NCALM_MRB_20180921_BE_all.tif'\n",
    "output_tif = 'MRB/Merced_lidar/NCALM/NCALM_MRB_20180921/DEM/NCALM_MRB_20180921_BE.tif'"
   ]
  },
  {
   "cell_type": "code",
   "execution_count": 28,
   "id": "dade124e-027e-44ce-b4ee-2bda65ff7bc3",
   "metadata": {},
   "outputs": [
    {
     "data": {
      "text/plain": [
       "0"
      ]
     },
     "execution_count": 28,
     "metadata": {},
     "output_type": "execute_result"
    }
   ],
   "source": [
    "warp_cmd = [\"gdalwarp\",\"-dstnodata\",'-9999','-cutline', input_shp, input_tif,output_tif]\n",
    "subprocess.call(warp_cmd)"
   ]
  },
  {
   "cell_type": "code",
   "execution_count": null,
   "id": "ea792453-445e-4c3f-b0a8-380be02b3111",
   "metadata": {},
   "outputs": [],
   "source": []
  },
  {
   "cell_type": "markdown",
   "id": "47e5c684-6b9c-405d-b769-9fced6916902",
   "metadata": {},
   "source": [
    "# Array Approach"
   ]
  },
  {
   "cell_type": "code",
   "execution_count": 32,
   "id": "3b1dbe77-efe9-4169-afc2-ad102b7ce58a",
   "metadata": {},
   "outputs": [],
   "source": [
    "# necessary files\n",
    "CHM_LT1pt5 = gdal.Open('MRB/Merced_lidar/NCALM/NCALM_MRB_20180921/CHM_merge/NCALM_MRB_20180921_CHM_LT1pt5_clip_b.tif')\n",
    "ncalm_open = gdal.Open('MRB/Merced_lidar/NCALM/NCALM_MRB_20180921/veg_strata/veg_classes/NCALM_MRB_20180921_open_clip.tif')\n",
    "ncalm_tall = gdal.Open('MRB/Merced_lidar/NCALM/NCALM_MRB_20180921/veg_strata/veg_classes/NCALM_MRB_20180921_tall_clip.tif')\n",
    "ncalm_short = gdal.Open('MRB/Merced_lidar/NCALM/NCALM_MRB_20180921/veg_strata/veg_classes/NCALM_MRB_20180921_short_clip.tif')\n",
    "ncalm_understory = gdal.Open('MRB/Merced_lidar/NCALM/NCALM_MRB_20180921/veg_strata/veg_classes/NCALM_MRB_20180921_understory_clip.tif')\n",
    "#\n",
    "ASO_2020_5 = gdal.Open('MRB/Merced_lidar/ASO/ASO_MRB_20200413/corrected_tif_merge/ASO_MRB_20200413_vbc_5.tif')\n",
    "ASO_2020_3 = gdal.Open('MRB/Merced_lidar/ASO/ASO_MRB_20200413/corrected_tif_merge/ASO_MRB_20200413_vbc_3.tif')\n",
    "ASO_2020_understory = 'MRB/Merced_lidar/ASO/ASO_MRB_20200413/veg_classes/ASO_MRB_20200413_understory.tif'\n",
    "ASO_2020_tall = 'MRB/Merced_lidar/ASO/ASO_MRB_20200413/veg_classes/ASO_MRB_20200413_tall.tif'\n",
    "ASO_2020_short = 'MRB/Merced_lidar/ASO/ASO_MRB_20200413/veg_classes/ASO_MRB_20200413_short.tif'\n",
    "ASO_2020_open = 'MRB/Merced_lidar/ASO/ASO_MRB_20200413/veg_classes/ASO_MRB_20200413_open.tif'\n",
    "ASO_2020_SD_open = 'MRB/Merced_lidar/ASO/ASO_MRB_20200413/snow_depth/ASO_MRB_20200413_sd_open.tif'\n",
    "ASO_2020_SD_tall = 'MRB/Merced_lidar/ASO/ASO_MRB_20200413/snow_depth/ASO_MRB_20200413_sd_tall.tif'\n",
    "ASO_2020_SD = 'MRB/Merced_lidar/ASO/ASO_MRB_20200413/snow_depth/ASO_MRB_20200413_sd.tif'"
   ]
  },
  {
   "cell_type": "code",
   "execution_count": 33,
   "id": "0feb9ce6-d8dc-4e9a-b48d-a1b7524c4318",
   "metadata": {},
   "outputs": [],
   "source": [
    "CHM_LT1pt5_arr = CHM_LT1pt5.GetRasterBand(1).ReadAsArray()\n",
    "ncalm_open_arr = ncalm_open.GetRasterBand(1).ReadAsArray()\n",
    "ncalm_tall_arr = ncalm_tall.GetRasterBand(1).ReadAsArray()\n",
    "ncalm_short_arr = ncalm_short.GetRasterBand(1).ReadAsArray()\n",
    "ncalm_understory_arr = ncalm_understory.GetRasterBand(1).ReadAsArray()\n",
    "ASO_2020_5_arr = ASO_2020_5.GetRasterBand(1).ReadAsArray()\n",
    "ASO_2020_3_arr = ASO_2020_3.GetRasterBand(1).ReadAsArray()"
   ]
  },
  {
   "cell_type": "code",
   "execution_count": 34,
   "id": "7e630123-c37b-4886-bb3a-6fa480a3293c",
   "metadata": {},
   "outputs": [],
   "source": [
    "CHM_LT1pt5 = None\n",
    "ncalm_open = None\n",
    "ncalm_tall = None\n",
    "ncalm_short = None\n",
    "ncalm_understory = None\n",
    "ASO_2020_5 = None\n",
    "ASO_2020_3 = None"
   ]
  },
  {
   "cell_type": "code",
   "execution_count": 36,
   "id": "8819b274-c642-45b4-ae8c-1fe615861792",
   "metadata": {},
   "outputs": [],
   "source": [
    "ASO_2020_short = (ASO_2020_5_arr - CHM_LT1pt5_arr) > 0.3\n",
    "ASO_2020_open = (ASO_2020_short == 1)|(ncalm_open_arr == 1)\n",
    "ASO_2020_understory = (ASO_2020_3_arr - CHM_LT1pt5_arr) > 0.3\n",
    "ASO_2020_tall = (ASO_2020_understory == 1)|(ncalm_tall_arr == 1)"
   ]
  },
  {
   "cell_type": "code",
   "execution_count": 39,
   "id": "4e4e4801-c980-4ac1-bfff-fb1f6b84cab1",
   "metadata": {},
   "outputs": [],
   "source": [
    "ASO_2020_SD_open = ASO_2020_open*ASO_2020_5_arr\n",
    "ASO_2020_SD_tall = ASO_2020_tall*ASO_2020_3_arr\n",
    "ASO_2020_SD = ASO_2020_open + ASO_2020_tall"
   ]
  },
  {
   "cell_type": "code",
   "execution_count": null,
   "id": "c2b4b7a3-8c91-41d9-af82-c1431eec8484",
   "metadata": {},
   "outputs": [],
   "source": []
  },
  {
   "cell_type": "code",
   "execution_count": null,
   "id": "0ce5f56d-7bcc-4a79-9878-a09b57328f64",
   "metadata": {},
   "outputs": [],
   "source": [
    "# calculate the average between the two. clip out that section, merge"
   ]
  },
  {
   "cell_type": "code",
   "execution_count": null,
   "id": "ed08c70d-55db-488f-868f-dba3895d9e3e",
   "metadata": {},
   "outputs": [],
   "source": []
  }
 ],
 "metadata": {
  "kernelspec": {
   "display_name": "Python 3 (ipykernel)",
   "language": "python",
   "name": "python3"
  },
  "language_info": {
   "codemirror_mode": {
    "name": "ipython",
    "version": 3
   },
   "file_extension": ".py",
   "mimetype": "text/x-python",
   "name": "python",
   "nbconvert_exporter": "python",
   "pygments_lexer": "ipython3",
   "version": "3.9.7"
  }
 },
 "nbformat": 4,
 "nbformat_minor": 5
}
