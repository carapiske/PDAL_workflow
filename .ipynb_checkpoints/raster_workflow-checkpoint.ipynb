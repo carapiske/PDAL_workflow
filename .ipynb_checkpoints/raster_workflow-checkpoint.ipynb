{
 "cells": [
  {
   "cell_type": "markdown",
   "id": "6c02ac40-bcd0-4a7d-ab54-887f67ec64de",
   "metadata": {},
   "source": [
    "# Raster Processing Workflow\n",
    "**Cara Piske, Graduate Program of Hydrologic Sciences, 2022; Advisor: Dr. Adrian Harpold**<br>\n",
    "<p>This code processes rasterized LAS files. <br>\n",
    "Lidar data were provided by the Airborne Snow Observatory (ASO), the National Center for Airborne Laser Mapping (NCALM), and Watershed Sciences Inc. (WSI). <br>\n",
    "\n",
    "The goal of this project is to process snow depth to the one-meter spatial scale while maintaining conservative under-canopy estimates. Therefore, little interpolation occurs under-canopy. We follow these protocols in order to obtain a 1-m rasterized product (as opposed to the 3-m rasterized product provided by ASO on the NSIDC data portal). NCALM and WSI flights were obtained through OpenTopography."
   ]
  },
  {
   "cell_type": "code",
   "execution_count": 15,
   "id": "0de1e9e2-c61e-4dfd-bdb4-3bd93eb22ba8",
   "metadata": {},
   "outputs": [],
   "source": [
    "# import necessary packages \n",
    "from osgeo import gdal, ogr, osr\n",
    "import csv\n",
    "import os\n",
    "import subprocess\n",
    "import sys\n",
    "import pdal\n",
    "import matplotlib.pyplot as plt\n",
    "import numpy as np\n",
    "import json\n",
    "import glob\n",
    "import time\n",
    "#gdal_merge = os.path.join('C:\\\\','Users','cpiske','.conda','envs','lidar','Lib','site-packages','osgeo_utils','gdal_merge.py')\n",
    "#gdal_calc = os.path.join('C:\\\\','Users','cpiske','.conda','envs','lidar','Lib','site-packages','osgeo_utils','gdal_calc.py')\n",
    "#gdal_warp = os.path.join('C:\\\\','Users','cpiske','.conda','envs','lidar','Lib','site-packages','osgeo_utils','gdal_warp.py')"
   ]
  },
  {
   "cell_type": "code",
   "execution_count": 16,
   "id": "ae9d2484-c59c-4a4d-a203-285f04543c77",
   "metadata": {},
   "outputs": [
    {
     "name": "stdout",
     "output_type": "stream",
     "text": [
      "/\n"
     ]
    }
   ],
   "source": [
    "#make sure we're in the right working directory\n",
    "os.chdir('/')\n",
    "print(os.getcwd())"
   ]
  },
  {
   "cell_type": "markdown",
   "id": "e7971793-1fa3-46c0-a603-92c5c93ea76f",
   "metadata": {},
   "source": [
    "# Pre-Processing"
   ]
  },
  {
   "cell_type": "markdown",
   "id": "7f1d9d9d-a3ef-400e-aa38-19fdd43b4c5b",
   "metadata": {},
   "source": [
    "## Info"
   ]
  },
  {
   "cell_type": "code",
   "execution_count": null,
   "id": "95bd7601-fdc4-4ddf-a08d-508e03ea4084",
   "metadata": {},
   "outputs": [],
   "source": [
    "# # print file info/metadata\n",
    "# raster_filename = 'path/to/raster/file/filename.tif'\n",
    "# gdal_info_command = ['gdalinfo',raster_filename]\n",
    "# subprocess.run(gdal_info_command)"
   ]
  },
  {
   "cell_type": "code",
   "execution_count": 4,
   "id": "fac8897c-01e3-4563-8d4e-4690509c9545",
   "metadata": {},
   "outputs": [],
   "source": [
    "# # Obtain coordinates of file to use to set bounding box of merged files\n",
    "# raster_filename = 'path/to/raster/file/filename.tif'\n",
    "# src = gdal.Open(raster_filename) # open source file\n",
    "# ulx, xres, xskew, uly, yskew, yres  = src.GetGeoTransform() \n",
    "# lrx = ulx + (src.RasterXSize * xres) # lower right x\n",
    "# lry = uly + (src.RasterYSize * yres) # lower right y\n",
    "# src = None # close file"
   ]
  },
  {
   "cell_type": "markdown",
   "id": "f39ac6cb-aa2f-4f57-a9ef-be3ef73581e3",
   "metadata": {},
   "source": [
    "## Merge\n",
    "Merge all files into one raster"
   ]
  },
  {
   "cell_type": "code",
   "execution_count": 11,
   "id": "6c77d3d1-1008-4dcc-91c6-1d4e43dfcf8d",
   "metadata": {},
   "outputs": [],
   "source": [
    "gm = os.path.join('C:\\\\','OSGeo4W64','bin','gdal_merge.py')\n",
    "gdal_calc = os.path.join('C:\\\\','OSGeo4W64','bin','gdal_calc.py')"
   ]
  },
  {
   "cell_type": "markdown",
   "id": "26221a0f-4acd-40cb-bee5-8338cffbf2c3",
   "metadata": {},
   "source": [
    "**All Files in Directory**"
   ]
  },
  {
   "cell_type": "code",
   "execution_count": 5,
   "id": "7cd74787-b838-4d8a-b6ef-ad7cc1202844",
   "metadata": {},
   "outputs": [],
   "source": [
    "# # list all files in directory that match pattern\n",
    "# file_list = glob.glob('path/to/directory/*.tif')\n",
    "# output_merge = 'path/to/filename/filename.tif'"
   ]
  },
  {
   "cell_type": "code",
   "execution_count": null,
   "id": "a8213415-4bf4-4e74-8ee0-f4891827c33b",
   "metadata": {},
   "outputs": [],
   "source": [
    "# # gdal_merge\n",
    "# # use above coordinates or manually set coordinates for ulx, uly, lrx, lry\n",
    "# cmd = [\"gdal_merge.py\", \"-o\", output_merge]#,\"-ul_lr\", str(ulx), str(uly), str(lrx), str(lry)]\n",
    "# cmd.extend(demList)\n",
    "# subprocess.call(cmd)"
   ]
  },
  {
   "cell_type": "markdown",
   "id": "a45fe5ca-7595-41a2-b946-5f1f73b95e3c",
   "metadata": {},
   "source": [
    "## Warp\n",
    "reprojection/warping utility, set the desired output coordinates (if not specified in the warping stage)"
   ]
  },
  {
   "cell_type": "code",
   "execution_count": 6,
   "id": "92fdac1a-8eee-43f6-a941-fd83889d6cce",
   "metadata": {},
   "outputs": [],
   "source": [
    "# # use ts to specify the x and y extents of bounding box (default 1000)\n",
    "# input_tif = 'path/to/filename/filename.tif'\n",
    "# output_tif = 'path/to/filename/filename.tif'\n",
    "# x_ext = 1000\n",
    "# y_ext = 1000\n",
    "# warp_cmd = [\"gdalwarp\",\"-overwrite\", input_tif, output_tif, \"-ts\", str(x_ext),str(y_ext)]\n",
    "# subprocess.call(warp_cmd)"
   ]
  },
  {
   "cell_type": "markdown",
   "id": "fe40161c-f80f-4fa9-b5b7-4c73fa722ccf",
   "metadata": {},
   "source": [
    "# Raster Calculations"
   ]
  },
  {
   "cell_type": "code",
   "execution_count": null,
   "id": "9bf2eb26-a4df-41e8-9e01-d9d5941e9ace",
   "metadata": {},
   "outputs": [],
   "source": [
    "# calc_cmd = ['gdal_calc.py', '-A', 'input_A.tif', '-B', 'input_B.tif',\n",
    "#  '--outfile', 'output_file.tif', '--calc=\"A*B\"','--overwrite']\n",
    "# subprocess.run(calc_cmd)"
   ]
  },
  {
   "cell_type": "markdown",
   "id": "ef6dfd99-b64a-476f-941d-ffa3c6e97729",
   "metadata": {},
   "source": [
    "# ----------------"
   ]
  },
  {
   "cell_type": "markdown",
   "id": "d184dbe9-ba28-4493-b6eb-9facfed03c27",
   "metadata": {},
   "source": [
    "# Workflow Applied\n",
    "We'll apply all tools above"
   ]
  },
  {
   "cell_type": "markdown",
   "id": "3b169377-a4b4-45ac-bda6-8baf69c8d8d1",
   "metadata": {},
   "source": [
    "## Merge"
   ]
  },
  {
   "cell_type": "markdown",
   "id": "e44754da-4c89-4815-b703-b12baf058c5e",
   "metadata": {},
   "source": [
    "I ran into a path issue on the Windows machine and received an error 'OSError: [WinError 193] %1 is not a valid Win32 application'... to fix, we have to specify where the executable is - in this case, it's in our local anaconda, not on the main path "
   ]
  },
  {
   "cell_type": "markdown",
   "id": "664d1373-8ea1-4716-9700-ebb13d9f2155",
   "metadata": {},
   "source": [
    "Took this step out by merging las files in pipeline"
   ]
  },
  {
   "cell_type": "code",
   "execution_count": 20,
   "id": "e0cfe447-8a1e-4109-8dc9-d1fa7c6607a7",
   "metadata": {},
   "outputs": [],
   "source": [
    "pathname = '/Volumes/Piske_lidar/SCB/Sagehen_lidar/ASO/ASO_SCB_20160326/rasterize_test_count'\n",
    "output_merge = '/Volumes/Piske_lidar/SCB/Sagehen_lidar/ASO/ASO_SCB_20160326/rasterize_test_count/ASO_SCB_20160326_rasterizeTiles_hag_count.tif'"
   ]
  },
  {
   "cell_type": "code",
   "execution_count": 21,
   "id": "89a06550-149a-49ae-9314-6ae696869e81",
   "metadata": {
    "tags": []
   },
   "outputs": [
    {
     "name": "stdout",
     "output_type": "stream",
     "text": [
      "0...10...20...30...40...50...60...70...80...90...100 - done.\n"
     ]
    },
    {
     "data": {
      "text/plain": [
       "0"
      ]
     },
     "execution_count": 21,
     "metadata": {},
     "output_type": "execute_result"
    }
   ],
   "source": [
    "merge_command = [\"gdal_merge.py\", \"-o\", output_merge]\n",
    "for path in os.listdir(pathname):\n",
    "    full_path = os.path.join(pathname, path)\n",
    "    if os.path.isfile(full_path):\n",
    "        merge_command.append(full_path)\n",
    "subprocess.call(merge_command)"
   ]
  },
  {
   "cell_type": "code",
   "execution_count": null,
   "id": "1631303a-8ab3-4d85-be27-665d81a0da5b",
   "metadata": {},
   "outputs": [],
   "source": [
    "merge_command = [\"python\", gdal_merge, \"-o\", output_merge]\n",
    "for path in os.listdir(pathname):\n",
    "    full_path = os.path.join(pathname, path)\n",
    "    if os.path.isfile(full_path):\n",
    "        merge_command.append(full_path)\n",
    "subprocess.call(merge_command)"
   ]
  },
  {
   "cell_type": "markdown",
   "id": "8fe0d24c-08e0-4ab9-90bd-11b4f1dd7aaf",
   "metadata": {},
   "source": [
    "## Classify Veg\n",
    "Classify vegetation into tall and open classes"
   ]
  },
  {
   "cell_type": "code",
   "execution_count": 56,
   "id": "69985d36-a987-48b0-bc34-8c84a19e8ae7",
   "metadata": {},
   "outputs": [],
   "source": [
    "strata_neg0pt15_0pt15 = 'SCB/Sagehen_lidar/NCALM/NCALM_SCB_2014/veg_strata/veg_classes/vegStrata_neg0pt15_0pt15.tif'\n",
    "strata_0pt15_2 = 'SCB/Sagehen_lidar/NCALM/NCALM_SCB_2014/veg_strata/veg_classes/vegStrata_0pt15_2.tif'\n",
    "strata_2 = 'SCB/Sagehen_lidar/NCALM/NCALM_SCB_2014/veg_strata/veg_classes/vegStrata_2.tif'\n",
    "strata_2_ground = 'SCB/Sagehen_lidar/NCALM/NCALM_SCB_2014/veg_strata/veg_classes/vegStrata_2_ground.tif'\n",
    "strata_2_nonground = 'SCB/Sagehen_lidar/NCALM/NCALM_SCB_2014/veg_strata/veg_classes/vegStrata_2_nonground.tif'\n",
    "\n",
    "open_strata1_2 = 'SCB/Sagehen_lidar/NCALM/NCALM_SCB_2014/veg_strata/NCALM_open_strata1_2.tif'\n",
    "ncalm_open = 'SCB/Sagehen_lidar/NCALM/NCALM_SCB_2014/veg_strata/NCALM_SCB_2014_open.tif'\n",
    "\n",
    "tall_strata1_2 = 'SCB/Sagehen_lidar/NCALM/NCALM_SCB_2014/veg_strata/NCALM_tall_strata1_2.tif'\n",
    "ncalm_tall = 'SCB/Sagehen_lidar/NCALM/NCALM_SCB_2014/veg_strata/NCALM_SCB_2014_tall.tif'\n",
    "ncalm_tall_100 = 'SCB/Sagehen_lidar/NCALM/NCALM_SCB_2014/veg_strata/NCALM_SCB_2014_tall_100.tif'\n",
    "\n",
    "veg_total = 'SCB/Sagehen_lidar/NCALM/NCALM_SCB_2014/veg_strata/NCALM_SCB_2014_openORtall.tif'\n",
    "veg_classified = 'SCB/Sagehen_lidar/NCALM/NCALM_SCB_2014/veg_strata/NCALM_SCB_2014_vegClassified.tif'"
   ]
  },
  {
   "cell_type": "code",
   "execution_count": 64,
   "id": "2f121da8-d782-4585-ab71-e39df96b4b9d",
   "metadata": {},
   "outputs": [],
   "source": [
    "# open_cmd = ['python', gdal_calc, '-A', strata_neg0pt15_0pt15, '-B', strata_0pt15_2,\n",
    "#  '--outfile', open_strata1_2, '--calc=\"1*logical_and(A>0,B==0)\"','--overwrite']\n",
    "# subprocess.run(open_cmd)\n",
    "\n",
    "# open_cmd = ['python',gdal_calc, '-A', open_strata1_2, '-B', strata_2,\n",
    "#  '--outfile', ncalm_open, '--calc=\"1*logical_and(A==1,B==0)\"','--overwrite'] #'\"--NoDataValue\",'0','--overwrite']\n",
    "# subprocess.run(open_cmd)"
   ]
  },
  {
   "cell_type": "code",
   "execution_count": 57,
   "id": "a13b6082-6181-42ed-aec9-f2ffa3f1ea9c",
   "metadata": {},
   "outputs": [],
   "source": [
    "# tall_cmd = ['python', gdal_calc, '-A', strata_neg0pt15_0pt15, '-B', strata_0pt15_2,\n",
    "#  '--outfile', tall_strata1_2, '--calc=\"1*logical_and(A>=0,B==0)\"','--overwrite']\n",
    "# subprocess.run(tall_cmd)\n",
    "\n",
    "# tall_cmd = ['python',gdal_calc, '-A', tall_strata1_2, '-B', strata_2,\n",
    "#  '--outfile', ncalm_tall, '--calc=\"logical_and(A==1,B>0)\"','--overwrite']\n",
    "# subprocess.run(tall_cmd)\n",
    "\n",
    "# tall_cmd = ['python',gdal_calc, '-A', ncalm_tall,'--outfile', ncalm_tall_100, '--calc=\"A*100\"','--overwrite']\n",
    "# subprocess.run(tall_cmd)"
   ]
  },
  {
   "cell_type": "code",
   "execution_count": 58,
   "id": "d2e57050-28f4-4e37-b52e-16c8860dd7dc",
   "metadata": {},
   "outputs": [],
   "source": [
    "# veg_cmd = ['python',gdal_calc, '-A', ncalm_open, '-B', ncalm_tall,\n",
    "#  '--outfile', veg_total, '--calc=\"1*logical_or(A==1,B==1)\"','--NoDataValue=0','--overwrite']\n",
    "# subprocess.run(veg_cmd)"
   ]
  },
  {
   "cell_type": "code",
   "execution_count": 65,
   "id": "c35a00c3-f712-4b72-b167-3acc02d0ddf8",
   "metadata": {},
   "outputs": [],
   "source": [
    "# veg_cmd = ['python',gdal_calc, '-A', ncalm_open, '-B', ncalm_tall_100,\n",
    "#  '--outfile', veg_classified, '--calc=\"A+B\"','--NoDataValue=0','--overwrite']\n",
    "# subprocess.run(veg_cmd)"
   ]
  },
  {
   "cell_type": "markdown",
   "id": "08468d65-2615-4f9a-8426-8fd21732e78a",
   "metadata": {},
   "source": [
    "## Calculate Snow Depth"
   ]
  },
  {
   "cell_type": "code",
   "execution_count": 71,
   "id": "f498ae6d-06b8-4fd8-8085-9c10fce76c98",
   "metadata": {},
   "outputs": [],
   "source": [
    "#open_strata = 'Piske_lidar/SCB/Sagehen_lidar/NCALM/NCALM_SCB_2014/veg_strata/NCALM_SCB_2014_open_crop.tif'\n",
    "#tall_strata = 'Piske_lidar/SCB/Sagehen_lidar/NCALM/NCALM_SCB_2014/veg_strata/NCALM_SCB_2014_tall_crop.tif'\n",
    "ASO_SCB_20160326_vbc = 'SCB/Sagehen_lidar/ASO/ASO_SCB_20160326/corrected_tif/ASO_SCB_20160326_vbc.tif'\n",
    "ASO_SCB_20160417_vbc = 'SCB/Sagehen_lidar/ASO/ASO_SCB_20160417/corrected_tif/ASO_SCB_20160417_vbc.tif'\n",
    "ASO_SCB_20160518_vbc = 'SCB/Sagehen_lidar/ASO/ASO_SCB_20160518/corrected_tif/ASO_SCB_20160518_vbc.tif'\n",
    "\n",
    "ASO_SCB_20160326_SD = 'SCB/Sagehen_lidar/ASO/ASO_SCB_20160326/snow_depth/ASO_SCB_20160326_SD.tif'\n",
    "ASO_SCB_20160417_SD = 'SCB/Sagehen_lidar/ASO/ASO_SCB_20160417/snow_depth/ASO_SCB_20160417_SD.tif'\n",
    "ASO_SCB_20160518_SD = 'SCB/Sagehen_lidar/ASO/ASO_SCB_20160518/snow_depth/ASO_SCB_20160518_SD.tif'\n"
   ]
  },
  {
   "cell_type": "code",
   "execution_count": 72,
   "id": "030382e3-bc32-44d9-afbe-1728abef8f21",
   "metadata": {},
   "outputs": [
    {
     "data": {
      "text/plain": [
       "CompletedProcess(args=['python', 'C:\\\\Users\\\\cpiske\\\\.conda\\\\envs\\\\lidar\\\\Lib\\\\site-packages\\\\osgeo_utils\\\\gdal_calc.py', '-A', 'SCB/Sagehen_lidar/NCALM/NCALM_SCB_2014/veg_strata/NCALM_SCB_2014_openORtall.tif', '-B', 'SCB/Sagehen_lidar/ASO/ASO_SCB_20160326/corrected_tif/ASO_SCB_20160326_vbc.tif', '--outfile', 'SCB/Sagehen_lidar/ASO/ASO_SCB_20160326/snow_depth/ASO_SCB_20160326_SD.tif', '--calc=\"A*B\"', '--overwrite', '--NoDataValue', '-9999'], returncode=0)"
      ]
     },
     "execution_count": 72,
     "metadata": {},
     "output_type": "execute_result"
    }
   ],
   "source": [
    "SD_cmd = ['python',gdal_calc, '-A', veg_total, '-B', ASO_SCB_20160326_vbc,\n",
    " '--outfile', ASO_SCB_20160326_SD, '--calc=\"A*B\"','--overwrite','--NoDataValue','-9999']\n",
    "subprocess.run(SD_cmd)"
   ]
  },
  {
   "cell_type": "code",
   "execution_count": 68,
   "id": "791d1291-4413-4e68-83c8-58e97c0243cb",
   "metadata": {},
   "outputs": [
    {
     "data": {
      "text/plain": [
       "CompletedProcess(args=['python', 'C:\\\\Users\\\\cpiske\\\\.conda\\\\envs\\\\lidar\\\\Lib\\\\site-packages\\\\osgeo_utils\\\\gdal_calc.py', '-A', 'SCB/Sagehen_lidar/NCALM/NCALM_SCB_2014/veg_strata/NCALM_SCB_2014_openORtall.tif', '-B', 'SCB/Sagehen_lidar/ASO/ASO_SCB_20160417/corrected_tif/ASO_SCB_20160417_vbc.tif', '--outfile', 'SCB/Sagehen_lidar/ASO/ASO_SCB_20160417/snow_depth/ASO_SCB_20160417_SD.tif', '--calc=\"A*B\"', '--overwrite', '--NoDataValue', '-9999'], returncode=0)"
      ]
     },
     "execution_count": 68,
     "metadata": {},
     "output_type": "execute_result"
    }
   ],
   "source": [
    "SD_cmd = ['python',gdal_calc, '-A', veg_total, '-B', ASO_SCB_20160417_vbc,\n",
    " '--outfile', ASO_SCB_20160417_SD, '--calc=\"A*B\"','--overwrite','--NoDataValue','-9999']\n",
    "subprocess.run(SD_cmd)"
   ]
  },
  {
   "cell_type": "code",
   "execution_count": 69,
   "id": "b222bac2-9aa1-4c3a-81bf-eb2b4db45ea2",
   "metadata": {},
   "outputs": [
    {
     "data": {
      "text/plain": [
       "CompletedProcess(args=['python', 'C:\\\\Users\\\\cpiske\\\\.conda\\\\envs\\\\lidar\\\\Lib\\\\site-packages\\\\osgeo_utils\\\\gdal_calc.py', '-A', 'SCB/Sagehen_lidar/NCALM/NCALM_SCB_2014/veg_strata/NCALM_SCB_2014_openORtall.tif', '-B', 'SCB/Sagehen_lidar/ASO/ASO_SCB_20160518/corrected_tif/ASO_SCB_20160518_vbc.tif', '--outfile', 'SCB/Sagehen_lidar/ASO/ASO_SCB_20160518/snow_depth/ASO_SCB_20160518_SD.tif', '--calc=\"A*B\"', '--overwrite', '--NoDataValue', '-9999'], returncode=0)"
      ]
     },
     "execution_count": 69,
     "metadata": {},
     "output_type": "execute_result"
    }
   ],
   "source": [
    "SD_cmd = ['python',gdal_calc, '-A', veg_total, '-B', ASO_SCB_20160518_vbc,\n",
    " '--outfile', ASO_SCB_20160518_SD, '--calc=\"A*B\"','--overwrite','--NoDataValue','-9999']\n",
    "subprocess.run(SD_cmd)"
   ]
  },
  {
   "cell_type": "markdown",
   "id": "b0eb961f-03af-44c4-96a4-c8b435fdad46",
   "metadata": {},
   "source": [
    "**NCALM 2008**"
   ]
  },
  {
   "cell_type": "code",
   "execution_count": 3,
   "id": "26cc1ea8-b63b-45bf-89dc-04c6f8ab2ea9",
   "metadata": {},
   "outputs": [],
   "source": [
    "NCALM_SCB_20080210_vbc = 'SCB/Sagehen_lidar/NCALM/NCALM_SCB_20080210/corrected_tif/NCALM_SCB_20080210_vbc.tif'\n",
    "NCALM_SCB_20080210_SD = 'SCB/Sagehen_lidar/NCALM/NCALM_SCB_20080210/snow_depth/NCALM_SCB_20080210_SD.tif'\n",
    "NCALM_SCB_20080210_vbc_crop = 'SCB/Sagehen_lidar/NCALM/NCALM_SCB_20080210/corrected_tif/NCALM_SCB_20080210_vbc_crop.tif'\n",
    "input_shp = 'SCB/supporting_files/masks/NHDWaterbody_2018_EPSG26910.shp'"
   ]
  },
  {
   "cell_type": "code",
   "execution_count": 74,
   "id": "14437b67-eb4f-488d-8686-d38921c5debe",
   "metadata": {},
   "outputs": [
    {
     "data": {
      "text/plain": [
       "CompletedProcess(args=['python', 'C:\\\\Users\\\\cpiske\\\\.conda\\\\envs\\\\lidar\\\\Lib\\\\site-packages\\\\osgeo_utils\\\\gdal_calc.py', '-A', 'SCB/Sagehen_lidar/NCALM/NCALM_SCB_2014/veg_strata/NCALM_SCB_2014_openORtall.tif', '-B', 'SCB/Sagehen_lidar/NCALM/NCALM_SCB_20080210/corrected_tif/NCALM_SCB_20080210_vbc.tif', '--outfile', 'SCB/Sagehen_lidar/NCALM/NCALM_SCB_20080210/snow_depth/NCALM_SCB_20080210_SD.tif', '--calc=\"A*B\"', '--overwrite', '--NoDataValue', '-9999'], returncode=0)"
      ]
     },
     "execution_count": 74,
     "metadata": {},
     "output_type": "execute_result"
    }
   ],
   "source": [
    "SD_cmd = ['python',gdal_calc, '-A', veg_total, '-B', NCALM_SCB_20080210_vbc,\n",
    " '--outfile', NCALM_SCB_20080210_SD, '--calc=\"A*B\"','--overwrite','--NoDataValue','-9999']\n",
    "subprocess.run(SD_cmd)"
   ]
  },
  {
   "cell_type": "code",
   "execution_count": null,
   "id": "9e974d50-bddc-4af8-848a-5f4840612040",
   "metadata": {},
   "outputs": [],
   "source": [
    "gdalwarp -cutline INPUT.shp -crop_to_cutline -dstalpha INPUT.tif OUTPUT.tif\n"
   ]
  },
  {
   "cell_type": "code",
   "execution_count": 4,
   "id": "632162d8-61f2-4b2a-bb8a-4e4d8b85c3d3",
   "metadata": {},
   "outputs": [
    {
     "data": {
      "text/plain": [
       "1"
      ]
     },
     "execution_count": 4,
     "metadata": {},
     "output_type": "execute_result"
    }
   ],
   "source": [
    "warp_cmd = [\"gdalwarp\",'-cutline',input_shp,'-crop_to_cutline', NCALM_SCB_20080210_vbc, NCALM_SCB_20080210_vbc_crop, ]\n",
    "subprocess.call(warp_cmd)"
   ]
  },
  {
   "cell_type": "code",
   "execution_count": null,
   "id": "17a309ac-445b-4b1c-b20d-722b6347d3a7",
   "metadata": {},
   "outputs": [],
   "source": [
    "burn_command = ['gdal_rasterize', '-b', '1', '-burn', '-9999', input_shp, NCALM_SCB_20080210_vbc]\n",
    "subprocess.call(burn_command)"
   ]
  },
  {
   "cell_type": "code",
   "execution_count": null,
   "id": "cc0a0d53-ff32-46ee-bbc1-ba04590c9f34",
   "metadata": {},
   "outputs": [],
   "source": []
  },
  {
   "cell_type": "code",
   "execution_count": null,
   "id": "ddb35d9e-1584-4f49-b47d-514918960d99",
   "metadata": {},
   "outputs": [],
   "source": [
    "# # calculate CHM from DSM and DTM\n",
    "# input_snow_depth = 'SCB/random_forest_data/ASO_sd/ASO_snow_depth_20160417_clp.tif'\n",
    "# input_snow_density = 'SCB/random_forest_data/snowpalm_density/SP_density_20160417_1m.tif'\n",
    "# output_swe = 'SCB/random_forest_data/calc_swe/SWE_20160417.tif'\n",
    "# swe_command = ['gdal_calc.py', '-A', input_snow_depth, '-B', input_snow_density, '--calc=\"A*B\"','--outfile', output_swe]\n",
    "# subprocess.run(swe_command)"
   ]
  }
 ],
 "metadata": {
  "kernelspec": {
   "display_name": "Python 3 (ipykernel)",
   "language": "python",
   "name": "python3"
  },
  "language_info": {
   "codemirror_mode": {
    "name": "ipython",
    "version": 3
   },
   "file_extension": ".py",
   "mimetype": "text/x-python",
   "name": "python",
   "nbconvert_exporter": "python",
   "pygments_lexer": "ipython3",
   "version": "3.10.2"
  }
 },
 "nbformat": 4,
 "nbformat_minor": 5
}
