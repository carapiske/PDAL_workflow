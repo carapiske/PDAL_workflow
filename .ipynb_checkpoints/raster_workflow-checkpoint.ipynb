{
 "cells": [
  {
   "cell_type": "markdown",
   "id": "6c02ac40-bcd0-4a7d-ab54-887f67ec64de",
   "metadata": {},
   "source": [
    "# Raster Processing Workflow\n",
    "**Cara Piske, Graduate Program of Hydrologic Sciences, 2022; Advisor: Dr. Adrian Harpold**<br>\n",
    "<p>This code processes rasterized LAS files. <br>\n",
    "Lidar data were provided by the Airborne Snow Observatory (ASO), the National Center for Airborne Laser Mapping (NCALM), and Watershed Sciences Inc. (WSI). <br>\n",
    "\n",
    "The goal of this project is to process snow depth to the one-meter spatial scale while maintaining conservative under-canopy estimates. Therefore, little interpolation occurs under-canopy. We follow these protocols in order to obtain a 1-m rasterized product (as opposed to the 3-m rasterized product provided by ASO on the NSIDC data portal). NCALM and WSI flights were obtained through OpenTopography."
   ]
  },
  {
   "cell_type": "code",
   "execution_count": 1,
   "id": "0de1e9e2-c61e-4dfd-bdb4-3bd93eb22ba8",
   "metadata": {},
   "outputs": [],
   "source": [
    "# import necessary packages \n",
    "from osgeo import gdal, ogr, osr\n",
    "import csv\n",
    "import os\n",
    "import subprocess\n",
    "import sys\n",
    "import pdal\n",
    "import matplotlib.pyplot as plt\n",
    "import numpy as np\n",
    "import json\n",
    "import glob\n",
    "import time\n",
    "gdal_merge = os.path.join('C:\\\\','Users','cpiske','.conda','envs','lidar','Lib','site-packages','osgeo_utils','gdal_merge.py')\n",
    "gdal_calc = os.path.join('C:\\\\','Users','cpiske','.conda','envs','lidar','Lib','site-packages','osgeo_utils','gdal_calc.py')"
   ]
  },
  {
   "cell_type": "code",
   "execution_count": 2,
   "id": "ae9d2484-c59c-4a4d-a203-285f04543c77",
   "metadata": {},
   "outputs": [
    {
     "name": "stdout",
     "output_type": "stream",
     "text": [
      "G:\\\n"
     ]
    }
   ],
   "source": [
    "#make sure we're in the right working directory\n",
    "os.chdir('/')\n",
    "print(os.getcwd())"
   ]
  },
  {
   "cell_type": "markdown",
   "id": "e7971793-1fa3-46c0-a603-92c5c93ea76f",
   "metadata": {},
   "source": [
    "# Pre-Processing"
   ]
  },
  {
   "cell_type": "markdown",
   "id": "7f1d9d9d-a3ef-400e-aa38-19fdd43b4c5b",
   "metadata": {},
   "source": [
    "## Info"
   ]
  },
  {
   "cell_type": "code",
   "execution_count": null,
   "id": "95bd7601-fdc4-4ddf-a08d-508e03ea4084",
   "metadata": {},
   "outputs": [],
   "source": [
    "# # print file info/metadata\n",
    "# raster_filename = 'path/to/raster/file/filename.tif'\n",
    "# gdal_info_command = ['gdalinfo',raster_filename]\n",
    "# subprocess.run(gdal_info_command)"
   ]
  },
  {
   "cell_type": "code",
   "execution_count": 4,
   "id": "fac8897c-01e3-4563-8d4e-4690509c9545",
   "metadata": {},
   "outputs": [],
   "source": [
    "# # Obtain coordinates of file to use to set bounding box of merged files\n",
    "# raster_filename = 'path/to/raster/file/filename.tif'\n",
    "# src = gdal.Open(raster_filename) # open source file\n",
    "# ulx, xres, xskew, uly, yskew, yres  = src.GetGeoTransform() \n",
    "# lrx = ulx + (src.RasterXSize * xres) # lower right x\n",
    "# lry = uly + (src.RasterYSize * yres) # lower right y\n",
    "# src = None # close file"
   ]
  },
  {
   "cell_type": "markdown",
   "id": "f39ac6cb-aa2f-4f57-a9ef-be3ef73581e3",
   "metadata": {},
   "source": [
    "## Merge\n",
    "Merge all files into one raster"
   ]
  },
  {
   "cell_type": "code",
   "execution_count": 177,
   "id": "6c77d3d1-1008-4dcc-91c6-1d4e43dfcf8d",
   "metadata": {},
   "outputs": [],
   "source": [
    "gm = os.path.join('C:\\\\','OSGeo4W64','bin','gdal_merge.py')\n",
    "gdal_calc = os.path.join('C:\\\\','OSGeo4W64','bin','gdal_calc.py')"
   ]
  },
  {
   "cell_type": "markdown",
   "id": "26221a0f-4acd-40cb-bee5-8338cffbf2c3",
   "metadata": {},
   "source": [
    "**All Files in Directory**"
   ]
  },
  {
   "cell_type": "code",
   "execution_count": 5,
   "id": "7cd74787-b838-4d8a-b6ef-ad7cc1202844",
   "metadata": {},
   "outputs": [],
   "source": [
    "# # list all files in directory that match pattern\n",
    "# file_list = glob.glob('path/to/directory/*.tif')\n",
    "# output_merge = 'path/to/filename/filename.tif'"
   ]
  },
  {
   "cell_type": "code",
   "execution_count": null,
   "id": "a8213415-4bf4-4e74-8ee0-f4891827c33b",
   "metadata": {},
   "outputs": [],
   "source": [
    "# # gdal_merge\n",
    "# # use above coordinates or manually set coordinates for ulx, uly, lrx, lry\n",
    "# cmd = [\"gdal_merge.py\", \"-o\", output_merge]#,\"-ul_lr\", str(ulx), str(uly), str(lrx), str(lry)]\n",
    "# cmd.extend(demList)\n",
    "# subprocess.call(cmd)"
   ]
  },
  {
   "cell_type": "markdown",
   "id": "a45fe5ca-7595-41a2-b946-5f1f73b95e3c",
   "metadata": {},
   "source": [
    "## Warp\n",
    "reprojection/warping utility, set the desired output coordinates (if not specified in the warping stage)"
   ]
  },
  {
   "cell_type": "code",
   "execution_count": 6,
   "id": "92fdac1a-8eee-43f6-a941-fd83889d6cce",
   "metadata": {},
   "outputs": [],
   "source": [
    "# # use ts to specify the x and y extents of bounding box (default 1000)\n",
    "# input_tif = 'path/to/filename/filename.tif'\n",
    "# output_tif = 'path/to/filename/filename.tif'\n",
    "# x_ext = 1000\n",
    "# y_ext = 1000\n",
    "# warp_cmd = [\"gdalwarp\",\"-overwrite\", input_tif, output_tif, \"-ts\", str(x_ext),str(y_ext)]\n",
    "# subprocess.call(warp_cmd)"
   ]
  },
  {
   "cell_type": "markdown",
   "id": "fe40161c-f80f-4fa9-b5b7-4c73fa722ccf",
   "metadata": {},
   "source": [
    "# Raster Calculations"
   ]
  },
  {
   "cell_type": "code",
   "execution_count": null,
   "id": "9bf2eb26-a4df-41e8-9e01-d9d5941e9ace",
   "metadata": {},
   "outputs": [],
   "source": [
    "# calc_cmd = ['gdal_calc.py', '-A', 'input_A.tif', '-B', 'input_B.tif',\n",
    "#  '--outfile', 'output_file.tif', '--calc=\"A*B\"','--overwrite']\n",
    "# subprocess.run(calc_cmd)"
   ]
  },
  {
   "cell_type": "markdown",
   "id": "d184dbe9-ba28-4493-b6eb-9facfed03c27",
   "metadata": {},
   "source": [
    "# Workflow Applied\n",
    "We'll apply all tools above"
   ]
  },
  {
   "cell_type": "markdown",
   "id": "3b169377-a4b4-45ac-bda6-8baf69c8d8d1",
   "metadata": {},
   "source": [
    "## Merge"
   ]
  },
  {
   "cell_type": "markdown",
   "id": "e44754da-4c89-4815-b703-b12baf058c5e",
   "metadata": {},
   "source": [
    "I ran into a path issue on the Windows machine and received an error 'OSError: [WinError 193] %1 is not a valid Win32 application'... to fix, we have to specify where the executable is - in this case, it's in our local anaconda, not on the main path "
   ]
  },
  {
   "cell_type": "code",
   "execution_count": 280,
   "id": "d4cc6269-5d42-4f8d-89d0-7fcaabe1eaee",
   "metadata": {},
   "outputs": [],
   "source": [
    "pathname = 'SCB/Sagehen_lidar/NCALM/NCALM_SCB_2014/veg_strata/vegStrat_neg0pt15_0pt15/tif'\n",
    "output_merge = 'SCB/Sagehen_lidar/NCALM/NCALM_SCB_2014/veg_strata/vegStrat_neg0pt15_0pt15/vegStrat_neg0pt15_0pt15.tif'"
   ]
  },
  {
   "cell_type": "code",
   "execution_count": 278,
   "id": "e0cfe447-8a1e-4109-8dc9-d1fa7c6607a7",
   "metadata": {},
   "outputs": [],
   "source": [
    "pathname = 'SCB/Sagehen_lidar/NCALM/NCALM_SCB_2014/ground_filtered_tif'\n",
    "output_merge = 'SCB/Sagehen_lidar/NCALM/NCALM_SCB_2014/DEM/vegStrat_neg0pt15_0pt15.tif'"
   ]
  },
  {
   "cell_type": "code",
   "execution_count": null,
   "id": "89a06550-149a-49ae-9314-6ae696869e81",
   "metadata": {
    "tags": []
   },
   "outputs": [],
   "source": [
    "merge_command = [\"python\", gdal_merge, \"-o\", output_merge]\n",
    "for path in os.listdir(pathname):\n",
    "    full_path = os.path.join(pathname, path)\n",
    "    if os.path.isfile(full_path):\n",
    "        merge_command.append(full_path)\n",
    "subprocess.call(merge_command)"
   ]
  },
  {
   "cell_type": "code",
   "execution_count": 276,
   "id": "9a1d5f45-82ef-4e7f-847e-c5a28fc661fc",
   "metadata": {},
   "outputs": [],
   "source": [
    "pathname = 'SCB/Sagehen_lidar/NCALM/NCALM_SCB_2014/ground_filtered_tif'\n",
    "output_merge = 'SCB/Sagehen_lidar/NCALM/NCALM_SCB_2014/DEM/2014_BE.tif'"
   ]
  },
  {
   "cell_type": "markdown",
   "id": "cf5b70da-f62f-4006-9b0b-2e7274d0035b",
   "metadata": {},
   "source": [
    "## Compare File Extents\n",
    "Compare file extents so that we can re-merge files to correct extents"
   ]
  },
  {
   "cell_type": "markdown",
   "id": "594dbef0-7a7d-4760-ac45-d8ef4c4cc935",
   "metadata": {},
   "source": [
    "Applied"
   ]
  },
  {
   "cell_type": "code",
   "execution_count": 130,
   "id": "b151b5ef-f6c0-42de-a41d-9258739bcea0",
   "metadata": {},
   "outputs": [],
   "source": [
    "# Check Size of rasters \n",
    "raster_filename = 'SCB/Sagehen_lidar/ASO/ASO_SCB_20160518/corrected_tif/ASO_SCB_20160518_merge.tif'\n",
    "src = gdal.Open(raster_filename) # open source file\n",
    "ASO_SCB_20160518_RasterSize = [src.RasterXSize, src.RasterYSize]\n",
    "src = None # close file"
   ]
  },
  {
   "cell_type": "code",
   "execution_count": 131,
   "id": "092da202-6b36-4cfd-9ad3-0d8f52979fc4",
   "metadata": {},
   "outputs": [
    {
     "name": "stdout",
     "output_type": "stream",
     "text": [
      "[11002, 11002]\n",
      "[11002, 11002]\n",
      "[11002, 11002]\n",
      "[11406, 8905]\n",
      "[8591, 7533]\n",
      "[8592, 7533]\n"
     ]
    }
   ],
   "source": [
    "print(vegStrat_neg0pt15_0pt15_RasterSize)\n",
    "print(vegStrat_0pt15_2_RasterSize)\n",
    "print(vegStrat_2_RasterSize)\n",
    "print(ASO_SCB_20160326_RasterSize)\n",
    "print(ASO_SCB_20160417_RasterSize)\n",
    "print(ASO_SCB_20160518_RasterSize)"
   ]
  },
  {
   "cell_type": "markdown",
   "id": "d1d6e57d-3482-4125-a83a-bfb454c899da",
   "metadata": {},
   "source": [
    "We see that the ASO files have the most limited extents, so we'll use their geotransform info to re-merge all other files"
   ]
  },
  {
   "cell_type": "markdown",
   "id": "1117d054-b838-42dc-87e4-ee4cf4bf1f68",
   "metadata": {},
   "source": [
    "## Merge 2"
   ]
  },
  {
   "cell_type": "markdown",
   "id": "8d55ad65-6737-42a9-b357-a9a2313f977b",
   "metadata": {},
   "source": [
    "### Get Geotransform"
   ]
  },
  {
   "cell_type": "code",
   "execution_count": 132,
   "id": "2dd1993f-eec6-42f4-b02a-7dbed83afd33",
   "metadata": {},
   "outputs": [],
   "source": [
    "# Obtain coordinates of file to use to set bounding box of merged files\n",
    "raster_filename = 'SCB/Sagehen_lidar/ASO/ASO_SCB_20160518/corrected_tif/ASO_SCB_20160518_merge.tif'\n",
    "src = gdal.Open(raster_filename) # open source file\n",
    "ulx, xres, xskew, uly, yskew, yres  = src.GetGeoTransform() \n",
    "lrx = ulx + (src.RasterXSize * xres) # lower right x\n",
    "lry = uly + (src.RasterYSize * yres) # lower right y\n",
    "src = None # close file"
   ]
  },
  {
   "cell_type": "code",
   "execution_count": null,
   "id": "5d2070f6-c231-4fe6-96dc-f5ce410ac51b",
   "metadata": {},
   "outputs": [],
   "source": []
  },
  {
   "cell_type": "markdown",
   "id": "22b949c4-e9ec-42bd-9ac0-9aca57b17e3f",
   "metadata": {},
   "source": [
    "### Warp"
   ]
  },
  {
   "cell_type": "code",
   "execution_count": 235,
   "id": "034c8349-3f4a-452e-b44e-06dd83cff3c9",
   "metadata": {},
   "outputs": [],
   "source": [
    "output_merge = 'SCB/Sagehen_lidar/NCALM/NCALM_SCB_2014/veg_strata/vegStrat_neg0pt15_0pt15/NCALM_SCB_2014_vegStrat_neg0pt15_0pt15.tif'\n",
    "output_warp = 'SCB/Sagehen_lidar/NCALM/NCALM_SCB_2014/veg_strata/vegStrat_neg0pt15_0pt15/NCALM_SCB_2014_vegStrat_neg0pt15_0pt15_warp.tif'"
   ]
  },
  {
   "cell_type": "code",
   "execution_count": 236,
   "id": "be2ab430-60ef-41a5-8a12-7027648e147f",
   "metadata": {},
   "outputs": [
    {
     "data": {
      "text/plain": [
       "0"
      ]
     },
     "execution_count": 236,
     "metadata": {},
     "output_type": "execute_result"
    }
   ],
   "source": [
    "# use ts to specify the x and y extents of bounding box (default 1000)\n",
    "x_ext = ASO_SCB_20160518_RasterSize[0]\n",
    "y_ext = ASO_SCB_20160518_RasterSize[1]\n",
    "warp_cmd = [\"gdalwarp\",\"-overwrite\", output_merge, output_warp, \"-te\",str(ulx),str(lry),str(lrx),str(uly)]\n",
    "subprocess.call(warp_cmd)"
   ]
  },
  {
   "cell_type": "markdown",
   "id": "8fe0d24c-08e0-4ab9-90bd-11b4f1dd7aaf",
   "metadata": {},
   "source": [
    "## Classify Veg\n",
    "Classify vegetation into tall and open classes"
   ]
  },
  {
   "cell_type": "code",
   "execution_count": 237,
   "id": "69985d36-a987-48b0-bc34-8c84a19e8ae7",
   "metadata": {},
   "outputs": [],
   "source": [
    "strata_neg0pt15_0pt15 = 'SCB/Sagehen_lidar/NCALM/NCALM_SCB_2014/veg_strata/vegStrat_neg0pt15_0pt15/NCALM_SCB_2014_vegStrat_neg0pt15_0pt15_warp.tif'\n",
    "strata_0pt15_2 = 'SCB/Sagehen_lidar/NCALM/NCALM_SCB_2014/veg_strata/vegStrat_0pt15_2/NCALM_SCB_2014_vegStrat_0pt15_2_warp.tif'\n",
    "strata_2 = 'SCB/Sagehen_lidar/NCALM/NCALM_SCB_2014/veg_strata/vegStrat_2/NCALM_SCB_2014_vegStrat_2_warp.tif'\n",
    "open_strata1_2 = 'SCB/Sagehen_lidar/NCALM/NCALM_SCB_2014/veg_strata/NCALM_open_strata1_2.tif'\n",
    "ncalm_open = 'SCB/Sagehen_lidar/NCALM/NCALM_SCB_2014/veg_strata/NCALM_SCB_2014_open.tif'\n",
    "tall_strata1_2 = 'SCB/Sagehen_lidar/NCALM/NCALM_SCB_2014/veg_strata/NCALM_tall_strata1_2.tif'\n",
    "ncalm_tall = 'SCB/Sagehen_lidar/NCALM/NCALM_SCB_2014/veg_strata/NCALM_SCB_2014_tall.tif'\n",
    "veg_total = 'SCB/Sagehen_lidar/NCALM/NCALM_SCB_2014/veg_strata/NCALM_SCB_2014_openORtall.tif'\n",
    "veg_totalb = 'SCB/Sagehen_lidar/NCALM/NCALM_SCB_2014/veg_strata/NCALM_SCB_2014_openORtallb.tif'"
   ]
  },
  {
   "cell_type": "code",
   "execution_count": 242,
   "id": "2f121da8-d782-4585-ab71-e39df96b4b9d",
   "metadata": {},
   "outputs": [
    {
     "data": {
      "text/plain": [
       "CompletedProcess(args=['python', 'C:\\\\Users\\\\cpiske\\\\.conda\\\\envs\\\\lidar\\\\Lib\\\\site-packages\\\\osgeo_utils\\\\gdal_calc.py', '-A', 'SCB/Sagehen_lidar/NCALM/NCALM_SCB_2014/veg_strata/NCALM_open_strata1_2.tif', '-B', 'SCB/Sagehen_lidar/NCALM/NCALM_SCB_2014/veg_strata/vegStrat_2/NCALM_SCB_2014_vegStrat_2_warp.tif', '--outfile', 'SCB/Sagehen_lidar/NCALM/NCALM_SCB_2014/veg_strata/NCALM_SCB_2014_open.tif', '--calc=\"1*logical_and(A==1,B==0)\"', '--NoDataValue', '0', '--overwrite'], returncode=0)"
      ]
     },
     "execution_count": 242,
     "metadata": {},
     "output_type": "execute_result"
    }
   ],
   "source": [
    "# open_cmd = ['python', gdal_calc, '-A', strata_neg0pt15_0pt15, '-B', strata_0pt15_2,\n",
    "#  '--outfile', open_strata1_2, '--calc=\"1*logical_and(A>0,B==0)\"','--overwrite']\n",
    "# subprocess.run(open_cmd)\n",
    "\n",
    "open_cmd = ['python',gdal_calc, '-A', open_strata1_2, '-B', strata_2,\n",
    " '--outfile', ncalm_open, '--calc=\"1*logical_and(A==1,B==0)\"',\"--NoDataValue\",'0','--overwrite']\n",
    "subprocess.run(open_cmd)"
   ]
  },
  {
   "cell_type": "code",
   "execution_count": 243,
   "id": "a13b6082-6181-42ed-aec9-f2ffa3f1ea9c",
   "metadata": {},
   "outputs": [
    {
     "data": {
      "text/plain": [
       "CompletedProcess(args=['python', 'C:\\\\Users\\\\cpiske\\\\.conda\\\\envs\\\\lidar\\\\Lib\\\\site-packages\\\\osgeo_utils\\\\gdal_calc.py', '-A', 'SCB/Sagehen_lidar/NCALM/NCALM_SCB_2014/veg_strata/NCALM_tall_strata1_2.tif', '-B', 'SCB/Sagehen_lidar/NCALM/NCALM_SCB_2014/veg_strata/vegStrat_2/NCALM_SCB_2014_vegStrat_2_warp.tif', '--outfile', 'SCB/Sagehen_lidar/NCALM/NCALM_SCB_2014/veg_strata/NCALM_SCB_2014_tall.tif', '--calc=\"1*logical_and(A==1,B>0)\"', '--NoDataValue', '0', '--overwrite'], returncode=0)"
      ]
     },
     "execution_count": 243,
     "metadata": {},
     "output_type": "execute_result"
    }
   ],
   "source": [
    "# tall_cmd = ['python', gdal_calc, '-A', strata_neg0pt15_0pt15, '-B', strata_0pt15_2,\n",
    "#  '--outfile', tall_strata1_2, '--calc=\"1*logical_and(A>=0,B==0)\"','--overwrite']\n",
    "# subprocess.run(tall_cmd)\n",
    "\n",
    "tall_cmd = ['python',gdal_calc, '-A', tall_strata1_2, '-B', strata_2,\n",
    " '--outfile', ncalm_tall, '--calc=\"1*logical_and(A==1,B>0)\"',\"--NoDataValue\",'0','--overwrite']\n",
    "subprocess.run(tall_cmd)"
   ]
  },
  {
   "cell_type": "code",
   "execution_count": 240,
   "id": "d2e57050-28f4-4e37-b52e-16c8860dd7dc",
   "metadata": {},
   "outputs": [
    {
     "data": {
      "text/plain": [
       "CompletedProcess(args=['python', 'C:\\\\Users\\\\cpiske\\\\.conda\\\\envs\\\\lidar\\\\Lib\\\\site-packages\\\\osgeo_utils\\\\gdal_calc.py', '-A', 'SCB/Sagehen_lidar/NCALM/NCALM_SCB_2014/veg_strata/NCALM_SCB_2014_open.tif', '-B', 'SCB/Sagehen_lidar/NCALM/NCALM_SCB_2014/veg_strata/NCALM_SCB_2014_tall.tif', '--outfile', 'SCB/Sagehen_lidar/NCALM/NCALM_SCB_2014/veg_strata/NCALM_SCB_2014_openORtall.tif', '--calc=\"1*logical_or(A==1,B==1)\"', '--NoDataValue', '0', '--overwrite'], returncode=0)"
      ]
     },
     "execution_count": 240,
     "metadata": {},
     "output_type": "execute_result"
    }
   ],
   "source": [
    "veg_cmd = ['python',gdal_calc, '-A', ncalm_open, '-B', ncalm_tall,\n",
    " '--outfile', veg_total, '--calc=\"1*logical_or(A==1,B==1)\"',\"--NoDataValue\",'0','--overwrite']\n",
    "subprocess.run(veg_cmd)"
   ]
  },
  {
   "cell_type": "code",
   "execution_count": 199,
   "id": "c35a00c3-f712-4b72-b167-3acc02d0ddf8",
   "metadata": {},
   "outputs": [
    {
     "data": {
      "text/plain": [
       "CompletedProcess(args=['python', 'C:\\\\Users\\\\cpiske\\\\.conda\\\\envs\\\\lidar\\\\Lib\\\\site-packages\\\\osgeo_utils\\\\gdal_calc.py', '-A', 'SCB/Sagehen_lidar/NCALM/NCALM_SCB_2014/veg_strata/NCALM_SCB_2014_openORtall.tif', '--outfile', 'SCB/Sagehen_lidar/NCALM/NCALM_SCB_2014/veg_strata/NCALM_SCB_2014_openORtallb.tif', '--calc=\"((A==0)+1)*-9999\"', '--overwrite'], returncode=0)"
      ]
     },
     "execution_count": 199,
     "metadata": {},
     "output_type": "execute_result"
    }
   ],
   "source": [
    "veg_cmd = ['python',gdal_calc, '-A', veg_total,'--outfile', veg_totalb, '--calc=\"((A==0)+1)*-9999\"','--overwrite']\n",
    "subprocess.run(veg_cmd)"
   ]
  },
  {
   "cell_type": "markdown",
   "id": "08468d65-2615-4f9a-8426-8fd21732e78a",
   "metadata": {},
   "source": [
    "## Calculate Snow Depth"
   ]
  },
  {
   "cell_type": "code",
   "execution_count": 252,
   "id": "f498ae6d-06b8-4fd8-8085-9c10fce76c98",
   "metadata": {},
   "outputs": [],
   "source": [
    "#open_strata = 'Piske_lidar/SCB/Sagehen_lidar/NCALM/NCALM_SCB_2014/veg_strata/NCALM_SCB_2014_open_crop.tif'\n",
    "#tall_strata = 'Piske_lidar/SCB/Sagehen_lidar/NCALM/NCALM_SCB_2014/veg_strata/NCALM_SCB_2014_tall_crop.tif'\n",
    "ASO_SCB_20160326_SD_open = 'SCB/Sagehen_lidar/ASO/ASO_SCB_20160326/snow_depth/ASO_SCB_20160326_sd_open.tif'\n",
    "ASO_SCB_20160326_SD_tall = 'SCB/Sagehen_lidar/ASO/ASO_SCB_20160326/snow_depth/ASO_SCB_20160326_sd_tall.tif'\n",
    "ASO_SCB_20160326_SD = 'SCB/Sagehen_lidar/ASO/ASO_SCB_20160326/corrected_tif/ASO_SCB_20160326_warp.tif'\n",
    "ASO_SCB_20160326_SD_filtered = 'SCB/Sagehen_lidar/ASO/ASO_SCB_20160326/snow_depth/ASO_SCB_20160326_SD.tif'\n",
    "\n",
    "ASO_SCB_20160417_SD_open = 'SCB/Sagehen_lidar/ASO/ASO_SCB_20160417/snow_depth/ASO_SCB_20160417_sd_open.tif'\n",
    "ASO_SCB_20160417_SD_tall = 'SCB/Sagehen_lidar/ASO/ASO_SCB_20160417/snow_depth/ASO_SCB_20160417_sd_tall.tif'\n",
    "ASO_SCB_20160417_SD = 'SCB/Sagehen_lidar/ASO/ASO_SCB_20160417/corrected_tif/ASO_SCB_20160417_warp.tif'\n",
    "ASO_SCB_20160417_SD_filtered = 'SCB/Sagehen_lidar/ASO/ASO_SCB_20160417/corrected_tif/ASO_SCB_20160417_SD.tif'\n",
    "\n",
    "ASO_SCB_20160518_SD_open = 'SCB/Sagehen_lidar/ASO/ASO_SCB_20160518/snow_depth/ASO_SCB_20160518_sd_open.tif'\n",
    "ASO_SCB_20160518_SD_tall = 'SCB/Sagehen_lidar/ASO/ASO_SCB_20160518/snow_depth/ASO_SCB_20160518_sd_tall.tif'\n",
    "ASO_SCB_20160518_SD = 'SCB/Sagehen_lidar/ASO/ASO_SCB_20160518/corrected_tif/ASO_SCB_20160518_merge.tif'\n",
    "ASO_SCB_20160518_SD_filtered = 'SCB/Sagehen_lidar/ASO/ASO_SCB_20160518/corrected_tif/ASO_SCB_20160518_SD.tif'"
   ]
  },
  {
   "cell_type": "code",
   "execution_count": 253,
   "id": "030382e3-bc32-44d9-afbe-1728abef8f21",
   "metadata": {},
   "outputs": [
    {
     "data": {
      "text/plain": [
       "CompletedProcess(args=['python', 'C:\\\\Users\\\\cpiske\\\\.conda\\\\envs\\\\lidar\\\\Lib\\\\site-packages\\\\osgeo_utils\\\\gdal_calc.py', '-A', 'SCB/Sagehen_lidar/NCALM/NCALM_SCB_2014/veg_strata/NCALM_SCB_2014_open.tif', '-B', 'SCB/Sagehen_lidar/ASO/ASO_SCB_20160518/corrected_tif/ASO_SCB_20160518_merge.tif', '--outfile', 'SCB/Sagehen_lidar/ASO/ASO_SCB_20160518/snow_depth/ASO_SCB_20160518_sd_open.tif', '--calc=\"B*(A==1)\"', '--overwrite', '--NoDataValue', '-9999'], returncode=0)"
      ]
     },
     "execution_count": 253,
     "metadata": {},
     "output_type": "execute_result"
    }
   ],
   "source": [
    "open_cmd = ['python',gdal_calc, '-A', ncalm_open, '-B', ASO_SCB_20160518_SD,\n",
    " '--outfile', ASO_SCB_20160518_SD_open, '--calc=\"B*(A==1)\"','--overwrite','--NoDataValue','-9999']\n",
    "subprocess.run(open_cmd)"
   ]
  },
  {
   "cell_type": "code",
   "execution_count": 249,
   "id": "791d1291-4413-4e68-83c8-58e97c0243cb",
   "metadata": {},
   "outputs": [
    {
     "data": {
      "text/plain": [
       "CompletedProcess(args=['python', 'C:\\\\Users\\\\cpiske\\\\.conda\\\\envs\\\\lidar\\\\Lib\\\\site-packages\\\\osgeo_utils\\\\gdal_calc.py', '-A', 'SCB/Sagehen_lidar/NCALM/NCALM_SCB_2014/veg_strata/NCALM_SCB_2014_tall.tif', '-B', 'SCB/Sagehen_lidar/ASO/ASO_SCB_20160417/corrected_tif/ASO_SCB_20160417_warp.tif', '--outfile', 'SCB/Sagehen_lidar/ASO/ASO_SCB_20160417/snow_depth/ASO_SCB_20160417_sd_tall.tif', '--calc=\"B*(A==1)\"', '--overwrite', '--NoDataValue', '-9999'], returncode=0)"
      ]
     },
     "execution_count": 249,
     "metadata": {},
     "output_type": "execute_result"
    }
   ],
   "source": [
    "tall_cmd = ['python',gdal_calc, '-A', ncalm_tall, '-B', ASO_SCB_20160518_SD,\n",
    " '--outfile', ASO_SCB_20160518_SD_tall, '--calc=\"B*(A==1)\"','--overwrite','--NoDataValue','-9999']\n",
    "subprocess.run(tall_cmd)"
   ]
  },
  {
   "cell_type": "code",
   "execution_count": 255,
   "id": "b222bac2-9aa1-4c3a-81bf-eb2b4db45ea2",
   "metadata": {},
   "outputs": [
    {
     "data": {
      "text/plain": [
       "CompletedProcess(args=['python', 'C:\\\\Users\\\\cpiske\\\\.conda\\\\envs\\\\lidar\\\\Lib\\\\site-packages\\\\osgeo_utils\\\\gdal_calc.py', '-A', 'SCB/Sagehen_lidar/ASO/ASO_SCB_20160417/corrected_tif/ASO_SCB_20160417_warp.tif', '-B', 'SCB/Sagehen_lidar/NCALM/NCALM_SCB_2014/veg_strata/NCALM_SCB_2014_openORtall.tif', '--outfile', 'SCB/Sagehen_lidar/ASO/ASO_SCB_20160417/corrected_tif/ASO_SCB_20160417_SD.tif', '--calc=\"A*B\"', '--overwrite', '--NoDataValue', '-9999'], returncode=0)"
      ]
     },
     "execution_count": 255,
     "metadata": {},
     "output_type": "execute_result"
    }
   ],
   "source": [
    "SD_filtered = ['python',gdal_calc, '-A', ASO_SCB_20160417_SD, '-B', veg_total,\n",
    " '--outfile', ASO_SCB_20160417_SD_filtered, '--calc=\"A*B\"','--overwrite','--NoDataValue','-9999']\n",
    "subprocess.run(SD_filtered)"
   ]
  },
  {
   "cell_type": "code",
   "execution_count": null,
   "id": "6709db96-2193-4cb9-8fc8-f41cfaa11444",
   "metadata": {},
   "outputs": [],
   "source": []
  },
  {
   "cell_type": "code",
   "execution_count": null,
   "id": "26cc1ea8-b63b-45bf-89dc-04c6f8ab2ea9",
   "metadata": {},
   "outputs": [],
   "source": []
  },
  {
   "cell_type": "code",
   "execution_count": null,
   "id": "14437b67-eb4f-488d-8686-d38921c5debe",
   "metadata": {},
   "outputs": [],
   "source": []
  },
  {
   "cell_type": "code",
   "execution_count": null,
   "id": "9e974d50-bddc-4af8-848a-5f4840612040",
   "metadata": {},
   "outputs": [],
   "source": []
  },
  {
   "cell_type": "code",
   "execution_count": null,
   "id": "632162d8-61f2-4b2a-bb8a-4e4d8b85c3d3",
   "metadata": {},
   "outputs": [],
   "source": []
  },
  {
   "cell_type": "code",
   "execution_count": null,
   "id": "17a309ac-445b-4b1c-b20d-722b6347d3a7",
   "metadata": {},
   "outputs": [],
   "source": []
  },
  {
   "cell_type": "code",
   "execution_count": null,
   "id": "cc0a0d53-ff32-46ee-bbc1-ba04590c9f34",
   "metadata": {},
   "outputs": [],
   "source": []
  },
  {
   "cell_type": "code",
   "execution_count": null,
   "id": "ddb35d9e-1584-4f49-b47d-514918960d99",
   "metadata": {},
   "outputs": [],
   "source": [
    "# # calculate CHM from DSM and DTM\n",
    "# input_snow_depth = 'SCB/random_forest_data/ASO_sd/ASO_snow_depth_20160417_clp.tif'\n",
    "# input_snow_density = 'SCB/random_forest_data/snowpalm_density/SP_density_20160417_1m.tif'\n",
    "# output_swe = 'SCB/random_forest_data/calc_swe/SWE_20160417.tif'\n",
    "# swe_command = ['gdal_calc.py', '-A', input_snow_depth, '-B', input_snow_density, '--calc=\"A*B\"','--outfile', output_swe]\n",
    "# subprocess.run(swe_command)"
   ]
  }
 ],
 "metadata": {
  "kernelspec": {
   "display_name": "Python 3 (ipykernel)",
   "language": "python",
   "name": "python3"
  },
  "language_info": {
   "codemirror_mode": {
    "name": "ipython",
    "version": 3
   },
   "file_extension": ".py",
   "mimetype": "text/x-python",
   "name": "python",
   "nbconvert_exporter": "python",
   "pygments_lexer": "ipython3",
   "version": "3.9.7"
  }
 },
 "nbformat": 4,
 "nbformat_minor": 5
}
