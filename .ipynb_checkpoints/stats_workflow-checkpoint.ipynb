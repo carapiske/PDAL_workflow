{
 "cells": [
  {
   "cell_type": "markdown",
   "id": "8f7665fc-a5d0-4c5f-952b-05e121d2b099",
   "metadata": {},
   "source": [
    "# Stats Workflow"
   ]
  },
  {
   "cell_type": "markdown",
   "id": "86d95bc7-78bb-4286-b698-5daef9a8f721",
   "metadata": {},
   "source": [
    "**Cara Piske, Graduate Program of Hydrologic Sciences, 2022; Advisor: Dr. Adrian Harpold**<br>\n",
    "This code processes lidar-derived rasters to evaluate the difference between snow properties (SWE) in under vs. open canopy classifications. <br>\n",
    "Lidar data were provided by the Airborne Snow Observatory (ASO), the National Center for Airborne Laser Mapping (NCALM), and Watershed Sciences Inc. (WSI). <br>\n",
    "\n",
    "See: Varhola, A., Coops, N. C., Weiler, M., & Moore, R. D. (2010). Forest canopy effects on snow accumulation and ablation: An integrative review of empirical results. In Journal of Hydrology (Vol. 392, Issues 3–4, pp. 219–233). Elsevier. https://doi.org/10.1016/j.jhydrol.2010.08.009 <br>\n",
    "and<br>\n",
    "Kostadinov, T. S., Schumer, R., Hausner, M., Bormann, K. J., Gaffney, R., McGwire, K., Painter, T. H., Tyler, S., & Harpold, A. A. (2019). Watershed-scale mapping of fractional snow cover under conifer forest canopy using lidar. Remote Sensing of Environment, 222, 34–49. https://doi.org/10.1016/j.rse.2018.11.037"
   ]
  },
  {
   "cell_type": "code",
   "execution_count": 2,
   "id": "44641e61-94ba-425b-8dbb-c03c980326d9",
   "metadata": {},
   "outputs": [],
   "source": [
    "\n",
    "# import necessary packages \n",
    "from osgeo import gdal, ogr, osr\n",
    "import csv\n",
    "import os\n",
    "import subprocess\n",
    "import sys\n",
    "import pdal\n",
    "import matplotlib.pyplot as plt\n",
    "import numpy as np\n",
    "import json\n",
    "import glob\n",
    "import time\n",
    "import pandas as pd\n",
    "import seaborn as sns\n",
    "from sklearn import linear_model\n",
    "from sklearn.metrics import mean_squared_error, r2_score\n",
    "import subprocess\n",
    "import statsmodels.api as sm\n",
    "\n",
    "# competing paths on our PC \n",
    "gdal_merge = os.path.join('C:\\\\','Users','cpiske','.conda','envs','lidar','Lib','site-packages','osgeo_utils','gdal_merge.py')\n",
    "gdal_calc = os.path.join('C:\\\\','Users','cpiske','.conda','envs','lidar','Lib','site-packages','osgeo_utils','gdal_calc.py')\n",
    "gdal_warp = os.path.join('C:\\\\','Users','cpiske','.conda','envs','lidar','Lib','site-packages','osgeo_utils','gdal_warp.py')\n",
    "gdal_polygonize = os.path.join('C:\\\\','Users','cpiske','.conda','envs','lidar','Lib','site-packages','osgeo_utils','gdal_polygonize.py')\n",
    "gdal_proximity = os.path.join('C:\\\\','Users','cpiske','.conda','envs','lidar','Lib','site-packages','osgeo_utils','gdal_proximity.py')"
   ]
  },
  {
   "cell_type": "code",
   "execution_count": 3,
   "id": "6909eff9-99d8-470d-b310-0f2ddf7f3512",
   "metadata": {},
   "outputs": [
    {
     "name": "stdout",
     "output_type": "stream",
     "text": [
      "G:\\\n"
     ]
    }
   ],
   "source": [
    "#make sure we're in the right working directory\n",
    "os.chdir('/')\n",
    "print(os.getcwd())"
   ]
  },
  {
   "cell_type": "markdown",
   "id": "40f6b10c-b033-4aee-8427-a0dca0132441",
   "metadata": {},
   "source": [
    "## Load Data"
   ]
  },
  {
   "cell_type": "code",
   "execution_count": null,
   "id": "460becec-fe0c-410d-9032-825bccb4901a",
   "metadata": {},
   "outputs": [],
   "source": [
    "# input - path = str. i.e. 'SCB/kane_veg_metrics/departure/14_withholes/departure_wh_clip2dem.tif'\n",
    "# input - nd_value = int. no data value\n",
    "# output - raster_arr = 1D array of raster values (maintaining columns)\n",
    "def raster_to_array(path, nd_value):\n",
    "    raster = gdal.Open(path) # open the file \n",
    "    raster_arr = raster.GetRasterBand(1).ReadAsArray() #read the first raster band (in this case we know we are only working with single bands) and read to a 2D array\n",
    "    if raster_arr.dtype == 'int32':\n",
    "        raster_arr = raster_arr.astype(float)\n",
    "    raster_arr[raster_arr == nd_value] = np.nan # where the raster is equal to the provided no data value, set values to Nan\n",
    "    raster_arr_flat = raster_arr.flatten() # flatten the array (row-wise)\n",
    "    raster = None\n",
    "    return raster_arr_flat"
   ]
  },
  {
   "cell_type": "code",
   "execution_count": null,
   "id": "116ea77c-c3bb-456d-b711-dbecefc98b60",
   "metadata": {},
   "outputs": [],
   "source": []
  },
  {
   "cell_type": "markdown",
   "id": "389e1532-7199-460c-a25c-dc9f4ea4ad89",
   "metadata": {},
   "source": [
    "# Vegetation and Terrain"
   ]
  },
  {
   "cell_type": "markdown",
   "id": "e57551eb-d423-4f53-ba6e-bd4082d002df",
   "metadata": {},
   "source": [
    "### Load Data- Create DataFrame"
   ]
  },
  {
   "cell_type": "code",
   "execution_count": null,
   "id": "468796d6-b184-4fe8-b2b5-d80a9f97ec5a",
   "metadata": {},
   "outputs": [],
   "source": [
    "# terrain variables\n",
    "DEM_arr = raster_to_array('SCB/Sagehen_lidar/NCALM/NCALM_SCB_2014/DEM/SCB/NCALM_2014_BE_30m.tif', -9999)\n",
    "#slope_arr = raster_to_array('SCB/Sagehen_lidar/NCALM/NCALM_SCB_2014/DEM/SCB/NCALM_2014_slope_30m.tif', -9999)\n",
    "nness_arr = raster_to_array('SCB/Sagehen_lidar/NCALM/NCALM_SCB_2014/DEM/SCB/NCALM_2014_nness_30m.tif', -9999)"
   ]
  },
  {
   "cell_type": "code",
   "execution_count": null,
   "id": "035473fd-00e1-4fe8-ba3b-459770db7a53",
   "metadata": {},
   "outputs": [],
   "source": [
    "# vegetation variables\n",
    "fVEG_arr = raster_to_array('SCB/Sagehen_lidar/NCALM/NCALM_SCB_2014/canopy_metrics/veg_structure/fVeg/NCALM_SCB_2014_fVEG_30m.tif', -9999)\n",
    "DNC_arr = raster_to_array('SCB/Sagehen_lidar/NCALM/NCALM_SCB_2014/veg_strata/veg_characteristics/NCALM_SCB_2014_DNC_30m.tif', -9999)\n",
    "clump_arr = raster_to_array('SCB/Sagehen_lidar/NCALM/NCALM_SCB_2014/veg_strata/veg_characteristics/NCALM_SCB_2014_clumpSize_30m.tif', -9999)"
   ]
  },
  {
   "cell_type": "markdown",
   "id": "debba53d-e2b0-485f-853f-8ddd98c40ae3",
   "metadata": {},
   "source": [
    "#### Define bins"
   ]
  },
  {
   "cell_type": "code",
   "execution_count": null,
   "id": "ca2ffad5-fbdc-446f-bb31-0d39088a7a51",
   "metadata": {},
   "outputs": [],
   "source": [
    "terain_veg_dict = pd.DataFrame({\n",
    "    \"elev\": DEM_arr,\n",
    "    \"nness\": nness_arr,\n",
    "    \"slope\": slope_arr,\n",
    "    \"fVeg\": fVEG_arr,\n",
    "    \"DNC\": DNC_arr,\n",
    "    'clump':clump_arr\n",
    "})\n",
    "elev_bins_set = ([1800,2000,2100,2200,2300,2400,2800])\n",
    "nness_bins_set = ([-0.6,-0.3,0,0.3,0.6])\n",
    "fVEG_bins_set = ([0,0.2,0.4,0.6,0.8,1.0]) # ([0,0.25,0.5, 0.75, 1.0])\n",
    "DNC_bins_set = ([0,5,10,15,20])\n",
    "clump_bins_set = ([0, 0.5, 1, 1.5, 2])"
   ]
  },
  {
   "cell_type": "code",
   "execution_count": null,
   "id": "3b10aa6a-3999-47e8-a7f8-9abef227c04d",
   "metadata": {},
   "outputs": [],
   "source": [
    "terain_veg_dict['nness_bins'] = pd.cut(terain_veg_dict['nness'], bins=nness_bins_set, right = False,include_lowest= True)\n",
    "terain_veg_dict['elev_bins'] = pd.cut(terain_veg_dict['elev'], bins=elev_bins_set, right = False,include_lowest= True)\n",
    "terain_veg_dict['fVeg_bins'] = pd.cut(terain_veg_dict['fVeg'], bins=fVEG_bins_set, right = False,include_lowest= True)\n",
    "terain_veg_dict['DNC_bins'] = pd.cut(terain_veg_dict['DNC'], bins=DNC_bins_set, right = False,include_lowest= True)\n",
    "terain_veg_dict['clump_bins'] = pd.cut(terain_veg_dict['clump'], bins=clump_bins_set, right = False,include_lowest= True)"
   ]
  },
  {
   "cell_type": "markdown",
   "id": "eba7cf9f-c818-4af1-a272-7dad04578ea0",
   "metadata": {},
   "source": [
    "#### Plot"
   ]
  },
  {
   "cell_type": "code",
   "execution_count": null,
   "id": "2f5bf6c2-c2ee-4bc2-b678-1764f5a75b01",
   "metadata": {},
   "outputs": [],
   "source": [
    "fVEG_box, axes = plt.subplots(1,1,figsize=(15, 8), sharey=False) # create a figure axis\n",
    "# we want a scatterplot\n",
    "# specify figure axis (ax=axes)\n",
    "# data = dataframe name, x = dataframe column name, y = dataframe column name\n",
    "# hue = color values by variable, marker = specify style, s = size of marker, palette = color palette\n",
    "\n",
    "sns.boxplot(ax=axes, data=snow_veg_terrain_df, x='elev_bins', y=\"NCALM_2014_northness\", hue = 'coreGap_bins',showfliers = False,palette = 'Greens') #, hue = 'nness_bins'\n",
    "axes.set_title('Elevation vs. Northness', fontsize = 20)\n",
    "axes.set_xlabel('Elevation (m)', fontsize = 16)\n",
    "axes.set_ylabel('Northness', fontsize = 16)\n",
    "axes.set_xticklabels(axes.get_xticklabels(),rotation = 45, fontsize = 12);\n",
    "plt.legend(bbox_to_anchor=(1.02, 0.55), loc='upper left', borderaxespad=0, title= 'Gap Size (m)');\n",
    "\n",
    "fVEG_box.savefig('SCB/stats/figures/nness_elev_GapSize.png',transparent=True,bbox_inches='tight')"
   ]
  },
  {
   "cell_type": "markdown",
   "id": "7ae86e80-931a-4cc0-b9e3-2959e833b94b",
   "metadata": {},
   "source": [
    "**Elevation, Nness, Slope**"
   ]
  },
  {
   "cell_type": "code",
   "execution_count": null,
   "id": "01a2e1c8-8a40-48cf-9c16-3c97e1fa7fab",
   "metadata": {},
   "outputs": [],
   "source": [
    "# plot elevation vs. snow depth and fsca (mean)\n",
    "terrain_hist, axs = plt.subplots(1, 3, figsize =(15,4));\n",
    "axs[0].hist(terain_veg_dict['elev']); axs[0].set_xlabel('Elevation (m)'); axs[0].set_ylabel('Frequency')\n",
    "axs[1].hist(terain_veg_dict['slope']); axs[1].set_xlabel('Slope (deg)')\n",
    "axs[2].hist(terain_veg_dict['nness']); axs[2].set_xlabel('Northness')\n",
    "#terrain_hist.savefig('lidar_processing/python_scripts/snow_departure_project/figures/terrain_variable_histogram.png')"
   ]
  },
  {
   "cell_type": "code",
   "execution_count": null,
   "id": "8b094b50-4260-468d-9a60-daac7e7943d7",
   "metadata": {},
   "outputs": [],
   "source": [
    "terain_veg_dict.columns"
   ]
  },
  {
   "cell_type": "code",
   "execution_count": null,
   "id": "67a7ce5c-e0b0-490e-964b-8fe872618330",
   "metadata": {},
   "outputs": [],
   "source": [
    "np.nanmean(terain_veg_dict.fVeg)"
   ]
  },
  {
   "cell_type": "code",
   "execution_count": null,
   "id": "33fdda8d-37be-4d03-9ae8-f7e9668fdb1b",
   "metadata": {},
   "outputs": [],
   "source": [
    "# plot elevation vs. snow depth and fsca (mean)\n",
    "veg_hist, axs = plt.subplots(1, 3, figsize =(15,4));\n",
    "axs[0].hist(terain_veg_dict['fVeg']); axs[0].set_xlabel('Fraction of Vegetation'); axs[0].set_ylabel('Frequency')\n",
    "axs[1].hist(terain_veg_dict['DNC']); axs[1].set_xlabel('Distance to Nearest Canopy')\n",
    "axs[2].hist(terain_veg_dict['clump']); axs[2].set_xlabel('Clump Size')\n",
    "#terrain_hist.savefig('lidar_processing/python_scripts/snow_departure_project/figures/terrain_variable_histogram.png')"
   ]
  },
  {
   "cell_type": "code",
   "execution_count": null,
   "id": "1ab66e08-5dfd-470f-a718-ed8874b7d3ff",
   "metadata": {},
   "outputs": [],
   "source": [
    "elev nness fveg"
   ]
  },
  {
   "cell_type": "code",
   "execution_count": null,
   "id": "d1cd07aa-5c3b-41a6-9c9a-71ff3116e166",
   "metadata": {
    "tags": []
   },
   "outputs": [],
   "source": [
    "elev_nness_fveg_fig, axes = plt.subplots(1,1,figsize=(8, 4), sharey=False) # create a figure axis\n",
    "sns.boxplot(ax=axes, data=terain_veg_dict, x='elev_bins', y=\"nness\", hue = 'fVeg_bins', showfliers = False,palette = 'Greens') #, hue = 'nness_bins'\n",
    "axes.set_title('Elevation vs. Northness', fontsize = 9); axes.set_xlabel('Elevation (m)', fontsize = 9); axes.set_ylabel('Northness', fontsize = 9)\n",
    "axes.set_xticklabels(axes.get_xticklabels(),rotation = 45, fontsize = 9)\n",
    "plt.legend(bbox_to_anchor=(1.02, 0.55), loc='upper left', borderaxespad=0, title= 'fVeg')\n",
    "#elev_nness_slope_fig.savefig('AGU/box_figs/terrain_veg/nness_elev_GapSize.png',transparent=True,bbox_inches='tight')"
   ]
  },
  {
   "cell_type": "markdown",
   "id": "1c12d083-d0fd-47a5-8759-88a2497a1522",
   "metadata": {},
   "source": [
    "terrain vs fveg"
   ]
  },
  {
   "cell_type": "code",
   "execution_count": null,
   "id": "6f961dda-65f1-4eeb-abfb-c49caac53672",
   "metadata": {
    "tags": []
   },
   "outputs": [],
   "source": [
    "nness_fveg_box, axes = plt.subplots(2,1,figsize=(10, 5), sharey=False) # create a figure axis\n",
    "sns.boxplot(ax=axes[0], data=terain_veg_dict, x='nness_bins', y=\"fVeg\", palette = 'Greens') #, hue = 'nness_bins'\n",
    "axes[0].set_title('nness vs. fVeg'); #axes.set(xlabel = 'Vegetation Departure',ylabel = 'Northness'); axes.set_xticklabels(axes.get_xticklabels(),rotation = 45);\n",
    "#dep_nness_box.savefig('lidar_processing/python_scripts/snow_departure_project/figures/dep_nness_box.png')\n",
    "sns.boxplot(ax=axes[1], data=terain_veg_dict, x='elev_bins', y=\"fVeg\", palette = 'Greens') #, hue = 'nness_bins'\n",
    "axes[1].set_title('elev vs. fVeg');"
   ]
  },
  {
   "cell_type": "markdown",
   "id": "5f7c8dfb-b219-4412-8ef5-c2eecebbb091",
   "metadata": {},
   "source": [
    "# Delta Change in Snowpack Properties\n",
    "We'll start off using only our best estimate of snowpack accumulation, which is the earliest flight available from each year. <br>"
   ]
  },
  {
   "cell_type": "markdown",
   "id": "7db071e3-93ac-4609-b74f-9e5cd5e59d18",
   "metadata": {},
   "source": [
    "## Accumulation\n",
    "Calculated as the difference between open and tall snowpack"
   ]
  },
  {
   "cell_type": "markdown",
   "id": "74156fde-d3db-4bfd-bed5-78f30ce8acf8",
   "metadata": {},
   "source": [
    "### Load Data - Create Dataframe"
   ]
  },
  {
   "cell_type": "code",
   "execution_count": null,
   "id": "d303c99e-183a-4a91-8d77-71837d339734",
   "metadata": {
    "tags": []
   },
   "outputs": [],
   "source": [
    "# Start with the ASO flight\n",
    "ASO_0326_open = 'SCB/Sagehen_lidar/ASO/ASO_SCB_20160326/SWE/ASO_SCB_20160326_SWE_open_buffered_30m.tif'\n",
    "ASO_0326_tall = 'SCB/Sagehen_lidar/ASO/ASO_SCB_20160326/SWE/ASO_SCB_20160326_SWE_tall_30m.tif'\n",
    "ASO_0326_all = 'SCB/Sagehen_lidar/ASO/ASO_SCB_20160326/SWE/ASO_SCB_20160326_SWE_30m.tif'\n",
    "ASO_delta_acc_raw = 'SCB/stats/delta_accumulation_rasters/ASO_20160326_deltaAccumulation_raw.tif'\n",
    "ASO_delta_acc_abs = 'SCB/stats/delta_accumulation_rasters/ASO_20160326_deltaAccumulation_abs.tif'\n",
    "ASO_delta_acc = 'SCB/stats/delta_accumulation_rasters/ASO_20160326_deltaAccumulation.tif'\n",
    "ASO_delta_acc_tall = 'SCB/stats/delta_accumulation_rasters/ASO_20160326_deltaAccumulation_tallRef.tif'\n",
    "\n",
    "\n",
    "NCALM_2008_open = 'SCB/Sagehen_lidar/NCALM/NCALM_SCB_20080210/SWE/NCALM_SCB_20080210_SWE_open_buffered_30m.tif'\n",
    "NCALM_2008_tall = 'SCB/Sagehen_lidar/NCALM/NCALM_SCB_20080210/SWE/NCALM_SCB_20080210_SWE_tall_30m.tif'\n",
    "NCALM_2008_all = 'SCB/Sagehen_lidar/NCALM/NCALM_SCB_20080210/SWE/NCALM_SCB_20080210_SWE_30m.tif'\n",
    "NCALM_delta_acc = 'SCB/stats/delta_accumulation_rasters/NCALM_20080210_deltaAccumulation.tif'\n",
    "NCALM_delta_acc_raw = 'SCB/stats/delta_accumulation_rasters/NCALM_20080210_deltaAccumulation_raw.tif'\n",
    "NCALM_delta_acc_abs = 'SCB/stats/delta_accumulation_rasters/NCALM_20080210_deltaAccumulation_abs.tif'\n",
    "\n",
    "NCALM_delta_acc_tall = 'SCB/stats/delta_accumulation_rasters/NCALM_20080210_deltaAccumulation_tallRef.tif'"
   ]
  },
  {
   "cell_type": "code",
   "execution_count": null,
   "id": "ede84e47-cf4f-4f8f-857a-2c571c536ed6",
   "metadata": {},
   "outputs": [],
   "source": [
    "# snowpalm data\n",
    "snowpalm = np.loadtxt('SCB/supporting_files/snowPALM/Sagehen_varhola_data.csv', skiprows=1,delimiter=\",\")"
   ]
  },
  {
   "cell_type": "code",
   "execution_count": null,
   "id": "e36d9e0a-4a13-46e2-b84f-b3c305948e91",
   "metadata": {},
   "outputs": [],
   "source": [
    "snowpalm_df = pd.DataFrame()\n",
    "snowpalm_df['fVeg'] = snowpalm[:,0]\n",
    "snowpalm_df['delta_acc_2016'] = snowpalm[:,1]"
   ]
  },
  {
   "cell_type": "code",
   "execution_count": null,
   "id": "61f4e01a-5ce3-4c61-9c56-bd782b7036ad",
   "metadata": {
    "tags": []
   },
   "outputs": [],
   "source": [
    "# delta_accumulation_cmd = ['python',gdal_calc, '-A', NCALM_2008_open,'-B',NCALM_2008_all,'--NoDataValue','-9999',\n",
    "#  '--outfile', NCALM_delta_acc_raw, '--calc=\"(B-A)/A*100\"','--overwrite']\n",
    "# subprocess.run(delta_accumulation_cmd)\n",
    "\n",
    "delta_accumulation_cmd = ['python',gdal_calc, '-A', NCALM_2008_open,'-B',NCALM_2008_all,'--NoDataValue','-9999',\n",
    " '--outfile', NCALM_delta_acc_abs, '--calc=\"(B-A)\"','--overwrite']\n",
    "subprocess.run(delta_accumulation_cmd)\n",
    "\n",
    "\n",
    "# delta_accumulation_cmd = ['python',gdal_calc, '-A', ASO_0326_open,'-B',ASO_0326_all,'--NoDataValue','-9999',\n",
    "#  '--outfile', ASO_delta_acc_raw, '--calc=\"(B-A)/A*100\"','--overwrite']\n",
    "# subprocess.run(delta_accumulation_cmd)\n",
    "\n",
    "delta_accumulation_cmd = ['python',gdal_calc, '-A', ASO_0326_open,'-B',ASO_0326_all,'--NoDataValue','-9999',\n",
    " '--outfile', ASO_delta_acc_abs, '--calc=\"(B-A)\"','--overwrite']\n",
    "subprocess.run(delta_accumulation_cmd)\n"
   ]
  },
  {
   "cell_type": "code",
   "execution_count": null,
   "id": "fd3797e4-a90b-4a56-92e0-062f6b7c60e4",
   "metadata": {},
   "outputs": [],
   "source": [
    "# delta_accumulation_cmd = ['python',gdal_calc, '-A', NCALM_delta_acc_raw,'--NoDataValue','-9999',\n",
    "#  '--outfile', NCALM_delta_acc, '--calc=\"A*(A<100)\"','--overwrite']\n",
    "# subprocess.run(delta_accumulation_cmd)\n",
    "\n",
    "delta_accumulation_cmd = ['python',gdal_calc, '-A', ASO_delta_acc_raw,'--NoDataValue','-9999',\n",
    " '--outfile', ASO_delta_acc, '--calc=\"A*(A<100)\"','--overwrite']\n",
    "subprocess.run(delta_accumulation_cmd)"
   ]
  },
  {
   "cell_type": "code",
   "execution_count": null,
   "id": "6b1a7554-2828-47f6-9c2a-395261ff620d",
   "metadata": {},
   "outputs": [],
   "source": [
    "# load into array\n",
    "SWE_0326_arr = raster_to_array(ASO_0326_all, -9999)\n",
    "ASO_delta_acc_arr = raster_to_array(ASO_delta_acc, -9999)\n",
    "ASO_delta_acc_arr_tall = raster_to_array(ASO_delta_acc_tall, -9999)\n",
    "SWE_0326_open_arr = raster_to_array(ASO_0326_open, -9999)\n",
    "SWE_0326_tall_arr = raster_to_array(ASO_0326_tall, -9999)\n",
    "\n",
    "\n",
    "NCALM_delta_acc_arr = raster_to_array(NCALM_delta_acc, -9999)\n",
    "NCALM_2008_all_arr = raster_to_array(NCALM_2008_all, -9999)\n",
    "NCALM_delta_acc_arr_tall = raster_to_array(NCALM_delta_acc_tall, -9999)\n",
    "NCALM_2008_open_arr = raster_to_array(NCALM_2008_open, -9999)\n",
    "NCALM_2008_tall_arr = raster_to_array(NCALM_2008_tall, -9999)\n"
   ]
  },
  {
   "cell_type": "code",
   "execution_count": null,
   "id": "8c00982d-fecd-4d17-b701-5b6f75feb404",
   "metadata": {},
   "outputs": [],
   "source": [
    "acc_df = terain_veg_dict = pd.DataFrame({\n",
    "    \"elev\": DEM_arr,\n",
    "    \"nness\": nness_arr,\n",
    "    \"fVeg\": fVEG_arr,\n",
    "    \"DNC\": DNC_arr,\n",
    "    \"clump\": clump_arr,\n",
    "    'swe_160326': SWE_0326_arr,\n",
    "    'swe_080210': NCALM_2008_all_arr,\n",
    "    'delta_acc_ASO': ASO_delta_acc_arr,\n",
    "    'delta_acc_NCALM': NCALM_delta_acc_arr,\n",
    "    'delta_acc_tall_ASO': ASO_delta_acc_arr_tall,\n",
    "    'delta_acc_tall_NCALM': NCALM_delta_acc_arr_tall\n",
    "})\n",
    "acc_df['nness_bins'] = pd.cut(acc_df['nness'], bins=nness_bins_set, right = False,include_lowest= True)\n",
    "acc_df['elev_bins'] = pd.cut(acc_df['elev'], bins=elev_bins_set, right = False,include_lowest= True)\n",
    "acc_df['fVeg_bins'] = pd.cut(acc_df['fVeg'], bins=fVEG_bins_set, right = False,include_lowest= True)\n",
    "acc_df['DNC_bins'] = pd.cut(acc_df['DNC'], bins=DNC_bins_set, right = False,include_lowest= True)\n",
    "acc_df['clump_bins'] = pd.cut(acc_df['clump'], bins=clump_bins_set, right = False,include_lowest= True)\n",
    "\n",
    "elev_bins_arr = acc_df['elev_bins'].unique()\n",
    "elev_bins_arr_sort = [elev_bins_arr.categories[0],elev_bins_arr.categories[1], elev_bins_arr.categories[2],elev_bins_arr.categories[3],elev_bins_arr.categories[4],elev_bins_arr.categories[5]] # create a new list with sorted values"
   ]
  },
  {
   "cell_type": "markdown",
   "id": "0f797c62-c9bf-4d77-95b0-fb4dcf3c8c97",
   "metadata": {},
   "source": [
    "## Ablation"
   ]
  },
  {
   "cell_type": "markdown",
   "id": "555446b4-a8be-4f92-9773-eafd979b1a19",
   "metadata": {},
   "source": [
    "### Load Data"
   ]
  },
  {
   "cell_type": "code",
   "execution_count": 34,
   "id": "36775f29-e8cd-428c-b141-ef6bc3b348ee",
   "metadata": {},
   "outputs": [],
   "source": [
    "ASO_0326_open = 'SCB/Sagehen_lidar/ASO/ASO_SCB_20160326/SWE/ASO_SCB_20160326_SWE_open_buffered_30m.tif'\n",
    "ASO_0326 = 'SCB/Sagehen_lidar/ASO/ASO_SCB_20160326/SWE/ASO_SCB_20160326_SWE_30m.tif'\n",
    "ASO_0326_tall = 'SCB/Sagehen_lidar/ASO/ASO_SCB_20160326/SWE/ASO_SCB_20160326_SWE_tall_30m.tif'\n",
    "\n",
    "ASO_0326_open_GT0 = 'SCB/Sagehen_lidar/ASO/ASO_SCB_20160326/SWE/filtered_GT0/ASO_SCB_20160326_SWE_open_buffered_GT0_30m.tif'\n",
    "ASO_0326_GT0 = 'SCB/Sagehen_lidar/ASO/ASO_SCB_20160326/SWE/filtered_GT0/ASO_SCB_20160326_SWE_GT0_30m.tif'\n",
    "ASO_0326_tall_GT0 = 'SCB/Sagehen_lidar/ASO/ASO_SCB_20160326/SWE/filtered_GT0/ASO_SCB_20160326_SWE_tall_GT0_30m.tif'\n",
    "\n",
    "ASO_0417_open = 'SCB/Sagehen_lidar/ASO/ASO_SCB_20160417/SWE/ASO_SCB_20160417_SWE_open_buffered_30m.tif'\n",
    "ASO_0417 = 'SCB/Sagehen_lidar/ASO/ASO_SCB_20160417/SWE/ASO_SCB_20160417_SWE_30m.tif'\n",
    "ASO_0417_tall = 'SCB/Sagehen_lidar/ASO/ASO_SCB_20160417/SWE/ASO_SCB_20160417_SWE_tall_30m.tif'\n",
    "\n",
    "ASO_0417_open_GT0 = 'SCB/Sagehen_lidar/ASO/ASO_SCB_20160417/SWE/filtered_GT0/ASO_SCB_20160417_SWE_open_buffered_GT0_30m.tif'\n",
    "ASO_0417_GT0 = 'SCB/Sagehen_lidar/ASO/ASO_SCB_20160417/SWE/filtered_GT0/ASO_SCB_20160417_SWE_GT0_30m.tif'\n",
    "ASO_0417_tall_GT0 = 'SCB/Sagehen_lidar/ASO/ASO_SCB_20160417/SWE/filtered_GT0/ASO_SCB_20160417_SWE_tall_GT0_30m.tif'\n",
    "\n",
    "ASO_0518_open = 'SCB/Sagehen_lidar/ASO/ASO_SCB_20160518/SWE/ASO_SCB_20160518_SWE_open_buffered_30m.tif'\n",
    "ASO_0518 = 'SCB/Sagehen_lidar/ASO/ASO_SCB_20160518/SWE/ASO_SCB_20160518_SWE_30m.tif'\n",
    "ASO_0518_tall = 'SCB/Sagehen_lidar/ASO/ASO_SCB_20160518/SWE/ASO_SCB_20160518_SWE_tall_30m.tif'\n",
    "\n",
    "ASO_0518_open_GT0 = 'SCB/Sagehen_lidar/ASO/ASO_SCB_20160518/SWE/filtered_GT0/ASO_SCB_20160518_SWE_open_buffered_GT0_30m.tif'\n",
    "ASO_0518_GT0 = 'SCB/Sagehen_lidar/ASO/ASO_SCB_20160518/SWE/filtered_GT0/ASO_SCB_20160518_SWE_GT0_30m.tif'\n",
    "ASO_0518_tall_GT0 = 'SCB/Sagehen_lidar/ASO/ASO_SCB_20160518/SWE/filtered_GT0/ASO_SCB_20160518_SWE_tall_GT0_30m.tif'\n",
    "\n",
    "MarApr_NoAcc = 'SCB/stats/delta_ablation_rasters/filter/MarApr_GT0.tif'\n",
    "MarApr_NoAcc_open = 'SCB/stats/delta_ablation_rasters/filter/MarApr_open_GT0.tif'\n",
    "MarApr_NoAcc_tall = 'SCB/stats/delta_ablation_rasters/filter/MarApr_tall_GT0.tif'\n",
    "\n",
    "AprMay_NoAcc = 'SCB/stats/delta_ablation_rasters/filter/AprMay_GT0.tif'\n",
    "AprMay_NoAcc_open = 'SCB/stats/delta_ablation_rasters/filter/AprMay_open_GT0.tif'\n",
    "AprMay_NoAcc_tall = 'SCB/stats/delta_ablation_rasters/filter/AprMay_tall_GT0.tif'"
   ]
  },
  {
   "cell_type": "code",
   "execution_count": 35,
   "id": "e958baa7-ca2b-4ebc-a792-9030143d10f3",
   "metadata": {},
   "outputs": [],
   "source": [
    "ASO_abl_MarApr_open = 'SCB/stats/delta_ablation_rasters/ASO_abl_MarApr_open_30m.tif'\n",
    "ASO_abl_MarApr = 'SCB/stats/delta_ablation_rasters/ASO_abl_MarApr_30m.tif'\n",
    "ASO_delta_abl_MarApr = 'SCB/stats/delta_ablation_rasters/ASO_delta_abl_MarApr_30m.tif'\n",
    "\n",
    "ASO_abl_MarMay_open = 'SCB/stats/delta_ablation_rasters/ASO_abl_MarMay_open_30m.tif'\n",
    "ASO_abl_MarMay = 'SCB/stats/delta_ablation_rasters/ASO_abl_MarMay_30m.tif'\n",
    "ASO_delta_abl_MarMay = 'SCB/stats/delta_ablation_rasters/ASO_delta_abl_MarMay_30m.tif'\n",
    "\n",
    "ASO_abl_AprMay_open = 'SCB/stats/delta_ablation_rasters/ASO_abl_AprMay_open_30m.tif'\n",
    "ASO_abl_AprMay = 'SCB/stats/delta_ablation_rasters/ASO_abl_AprMay_30m.tif'\n",
    "ASO_delta_abl_AprMay = 'SCB/stats/delta_ablation_rasters/ASO_delta_abl_AprMay_30m.tif'"
   ]
  },
  {
   "cell_type": "markdown",
   "id": "9b075a95-3654-444c-a790-a54f4f9566c0",
   "metadata": {},
   "source": [
    "### Calculate Ablation Metrics"
   ]
  },
  {
   "cell_type": "markdown",
   "id": "b3cca940-84e6-4989-a00b-44148ef5a5b8",
   "metadata": {},
   "source": [
    "#### Filter"
   ]
  },
  {
   "cell_type": "markdown",
   "id": "7a567d34-6314-4b9f-8c35-7e51e1711abb",
   "metadata": {},
   "source": [
    "First we create filtered rasters\n",
    "We want to filter out<br> 1. pixels where the second date goes to 0 <br>\n",
    "2. pixels where there has been accumulation <br>\n",
    "by creating logical rasters with 1 representing pixels we want to keep\n"
   ]
  },
  {
   "cell_type": "code",
   "execution_count": 36,
   "id": "2119cff8-3da3-45e7-87c6-8e3d1a43dd12",
   "metadata": {},
   "outputs": [
    {
     "data": {
      "text/plain": [
       "CompletedProcess(args=['python', 'C:\\\\Users\\\\cpiske\\\\.conda\\\\envs\\\\lidar\\\\Lib\\\\site-packages\\\\osgeo_utils\\\\gdal_calc.py', '-A', 'SCB/Sagehen_lidar/ASO/ASO_SCB_20160518/SWE/ASO_SCB_20160518_SWE_tall_30m.tif', '--NoDataValue', '0', '--outfile', 'SCB/Sagehen_lidar/ASO/ASO_SCB_20160518/SWE/filtered_GT0/ASO_SCB_20160518_SWE_tall_GT0_30m.tif', '--calc=\"A>0\"', '--overwrite'], returncode=0)"
      ]
     },
     "execution_count": 36,
     "metadata": {},
     "output_type": "execute_result"
    }
   ],
   "source": [
    "# First we create filtered rasters\n",
    "# We want to filter 1. all locations where the second date goes to 0\n",
    "# 2. Any location where there has been accumulation\n",
    "\n",
    "SWE = ASO_0518; SWE_GT0 = ASO_0518_GT0\n",
    "SWE_open = ASO_0518_open; SWE_open_GT0 = ASO_0518_open_GT0\n",
    "SWE_tall = ASO_0518_tall; SWE_tall_GT0 = ASO_0518_tall_GT0\n",
    "\n",
    "snow_cmd = ['python',gdal_calc, '-A', SWE,'--NoDataValue','0',\n",
    " '--outfile', SWE_GT0, '--calc=\"A>0\"','--overwrite']\n",
    "subprocess.run(snow_cmd)\n",
    "\n",
    "snow_cmd = ['python',gdal_calc, '-A', SWE_open,'--NoDataValue','0',\n",
    " '--outfile', SWE_open_GT0, '--calc=\"A>0\"','--overwrite']\n",
    "subprocess.run(snow_cmd)\n",
    "\n",
    "snow_cmd = ['python',gdal_calc, '-A', SWE_tall,'--NoDataValue','0',\n",
    " '--outfile', SWE_tall_GT0, '--calc=\"A>0\"','--overwrite']\n",
    "subprocess.run(snow_cmd)"
   ]
  },
  {
   "cell_type": "code",
   "execution_count": 50,
   "id": "caa0afc7-fc83-4f16-8345-8b2e0047cd9d",
   "metadata": {},
   "outputs": [
    {
     "data": {
      "text/plain": [
       "CompletedProcess(args=['python', 'C:\\\\Users\\\\cpiske\\\\.conda\\\\envs\\\\lidar\\\\Lib\\\\site-packages\\\\osgeo_utils\\\\gdal_calc.py', '-A', 'SCB/Sagehen_lidar/ASO/ASO_SCB_20160417/SWE/ASO_SCB_20160417_SWE_tall_30m.tif', '-B', 'SCB/Sagehen_lidar/ASO/ASO_SCB_20160518/SWE/ASO_SCB_20160518_SWE_tall_30m.tif', '--NoDataValue', '0', '--outfile', 'SCB/stats/delta_ablation_rasters/filter/AprMay_tall_GT0.tif', '--calc=\"(A-B)>=5\"', '--overwrite'], returncode=0)"
      ]
     },
     "execution_count": 50,
     "metadata": {},
     "output_type": "execute_result"
    }
   ],
   "source": [
    "SWE_first = ASO_0417; SWE_second = ASO_0518\n",
    "SWE_open_first = ASO_0417_open; SWE_open_second = ASO_0518_open\n",
    "SWE_tall_first = ASO_0417_tall; SWE_tall_second = ASO_0518_tall\n",
    "\n",
    "output = AprMay_NoAcc\n",
    "output_open = AprMay_NoAcc_open\n",
    "output_tall = AprMay_NoAcc_tall\n",
    "\n",
    "snow_cmd = ['python',gdal_calc, '-A', SWE_first,'-B',SWE_second,'--NoDataValue','0',\n",
    " '--outfile', output, '--calc=\"(A-B)>=5\"','--overwrite']\n",
    "subprocess.run(snow_cmd)\n",
    "\n",
    "snow_cmd = ['python',gdal_calc, '-A', SWE_open_first,'-B',SWE_open_second,'--NoDataValue','0',\n",
    " '--outfile', output_open, '--calc=\"(A-B)>=5\"','--overwrite']\n",
    "subprocess.run(snow_cmd)\n",
    "\n",
    "snow_cmd = ['python',gdal_calc, '-A', SWE_tall_first,'-B',SWE_tall_second,'--NoDataValue','0',\n",
    " '--outfile', output_tall, '--calc=\"(A-B)>=5\"','--overwrite']\n",
    "subprocess.run(snow_cmd)\n"
   ]
  },
  {
   "cell_type": "markdown",
   "id": "e4bf89b0-e3e5-4cb0-a625-a58e5a76b928",
   "metadata": {},
   "source": [
    "#### Calculate Ablation"
   ]
  },
  {
   "cell_type": "markdown",
   "id": "ec3189f2-567c-463a-8b19-3c10ae618ec7",
   "metadata": {},
   "source": [
    "March to April"
   ]
  },
  {
   "cell_type": "code",
   "execution_count": 40,
   "id": "ecc4cce5-e77d-4182-a207-040045d6e107",
   "metadata": {
    "tags": []
   },
   "outputs": [
    {
     "data": {
      "text/plain": [
       "CompletedProcess(args=['python', 'C:\\\\Users\\\\cpiske\\\\.conda\\\\envs\\\\lidar\\\\Lib\\\\site-packages\\\\osgeo_utils\\\\gdal_calc.py', '-A', 'SCB/stats/delta_ablation_rasters/ASO_abl_MarApr_open_30m.tif', '-B', 'SCB/stats/delta_ablation_rasters/ASO_abl_MarApr_30m.tif', '--NoDataValue', '-9999', '--outfile', 'SCB/stats/delta_ablation_rasters/ASO_delta_abl_MarApr_30m.tif', '--calc=\"(B-A)/A*100\"', '--overwrite'], returncode=0)"
      ]
     },
     "execution_count": 40,
     "metadata": {},
     "output_type": "execute_result"
    }
   ],
   "source": [
    "snow_cmd = ['python',gdal_calc, '-A', ASO_0326,'-B',ASO_0417,'-C', ASO_0417_GT0,'-D', MarApr_NoAcc,'--NoDataValue','-9999',\n",
    " '--outfile', ASO_abl_MarApr, '--calc=\"C*D*(A-B)\"','--overwrite']\n",
    "subprocess.run(snow_cmd)\n",
    "\n",
    "snow_cmd = ['python',gdal_calc, '-A', ASO_0326_open,'-B',ASO_0417_open,'-C', ASO_0417_open_GT0, '-D', MarApr_NoAcc_open,'--NoDataValue','-9999',\n",
    " '--outfile', ASO_abl_MarApr_open, '--calc=\"C*D*(A-B)\"','--overwrite']\n",
    "subprocess.run(snow_cmd)\n",
    "\n",
    "snow_cmd = ['python',gdal_calc, '-A', ASO_abl_MarApr_open,'-B',ASO_abl_MarApr,'--NoDataValue','-9999',\n",
    " '--outfile', ASO_delta_abl_MarApr, '--calc=\"(B-A)/A*100\"','--overwrite']\n",
    "subprocess.run(snow_cmd)"
   ]
  },
  {
   "cell_type": "markdown",
   "id": "b299aca4-b029-407b-a3ed-93052abd0f99",
   "metadata": {},
   "source": [
    "April to May"
   ]
  },
  {
   "cell_type": "code",
   "execution_count": 51,
   "id": "a411587f-7c8c-499f-880d-57412aa1b6c9",
   "metadata": {},
   "outputs": [
    {
     "data": {
      "text/plain": [
       "CompletedProcess(args=['python', 'C:\\\\Users\\\\cpiske\\\\.conda\\\\envs\\\\lidar\\\\Lib\\\\site-packages\\\\osgeo_utils\\\\gdal_calc.py', '-A', 'SCB/stats/delta_ablation_rasters/ASO_abl_AprMay_open_30m.tif', '-B', 'SCB/stats/delta_ablation_rasters/ASO_abl_AprMay_30m.tif', '--NoDataValue', '-9999', '--outfile', 'SCB/stats/delta_ablation_rasters/ASO_delta_abl_AprMay_30m.tif', '--calc=\"(B-A)/A*100\"', '--overwrite'], returncode=0)"
      ]
     },
     "execution_count": 51,
     "metadata": {},
     "output_type": "execute_result"
    }
   ],
   "source": [
    "snow_cmd = ['python',gdal_calc, '-A', ASO_0417,'-B',ASO_0518,'-C', ASO_0518_GT0,'-D', AprMay_NoAcc,'--NoDataValue','-9999',\n",
    " '--outfile', ASO_abl_AprMay, '--calc=\"C*D*(A-B)\"','--overwrite']\n",
    "subprocess.run(snow_cmd)\n",
    "\n",
    "snow_cmd = ['python',gdal_calc, '-A', ASO_0417_open,'-B',ASO_0518_open,'-C', ASO_0518_open_GT0, '-D', AprMay_NoAcc_open,'--NoDataValue','-9999',\n",
    " '--outfile', ASO_abl_AprMay_open, '--calc=\"C*D*(A-B)\"','--overwrite']\n",
    "subprocess.run(snow_cmd)\n",
    "\n",
    "snow_cmd = ['python',gdal_calc, '-A', ASO_abl_AprMay_open,'-B',ASO_abl_AprMay,'--NoDataValue','-9999',\n",
    " '--outfile', ASO_delta_abl_AprMay, '--calc=\"(B-A)/A*100\"','--overwrite']\n",
    "subprocess.run(snow_cmd)"
   ]
  },
  {
   "cell_type": "markdown",
   "id": "ad0a8702-47fa-4128-88ff-14947676dbd9",
   "metadata": {},
   "source": [
    "March to May"
   ]
  },
  {
   "cell_type": "code",
   "execution_count": 53,
   "id": "a34464e6-45e6-496b-8b2b-cc62743a0cff",
   "metadata": {},
   "outputs": [
    {
     "data": {
      "text/plain": [
       "CompletedProcess(args=['python', 'C:\\\\Users\\\\cpiske\\\\.conda\\\\envs\\\\lidar\\\\Lib\\\\site-packages\\\\osgeo_utils\\\\gdal_calc.py', '-A', 'SCB/stats/delta_ablation_rasters/ASO_abl_MarMay_open_30m.tif', '-B', 'SCB/stats/delta_ablation_rasters/ASO_abl_MarMay_30m.tif', '--NoDataValue', '-9999', '--outfile', 'SCB/stats/delta_ablation_rasters/ASO_delta_abl_MarMay_30m.tif', '--calc=\"(B-A)/A*100\"', '--overwrite'], returncode=0)"
      ]
     },
     "execution_count": 53,
     "metadata": {},
     "output_type": "execute_result"
    }
   ],
   "source": [
    "snow_cmd = ['python',gdal_calc, '-A', ASO_0326,'-B',ASO_0518,'-C', ASO_0518_GT0,'-D', AprMay_NoAcc,'-E',MarApr_NoAcc,'--NoDataValue','-9999',\n",
    " '--outfile', ASO_abl_MarMay, '--calc=\"C*D*E*(A-B)\"','--overwrite']\n",
    "subprocess.run(snow_cmd)\n",
    "\n",
    "snow_cmd = ['python',gdal_calc, '-A', ASO_0326_open,'-B',ASO_0518_open,'-C', ASO_0518_open_GT0, '-D', AprMay_NoAcc_open,'-E',MarApr_NoAcc_open,'--NoDataValue','-9999',\n",
    " '--outfile', ASO_abl_MarMay_open, '--calc=\"C*D*E*(A-B)\"','--overwrite']\n",
    "subprocess.run(snow_cmd)\n",
    "\n",
    "snow_cmd = ['python',gdal_calc, '-A', ASO_abl_MarMay_open,'-B',ASO_abl_MarMay,'--NoDataValue','-9999',\n",
    " '--outfile', ASO_delta_abl_MarMay, '--calc=\"(B-A)/A*100\"','--overwrite']\n",
    "subprocess.run(snow_cmd)"
   ]
  },
  {
   "cell_type": "code",
   "execution_count": null,
   "id": "f32f9785-b8a6-4bfa-b168-3660cb2df241",
   "metadata": {},
   "outputs": [],
   "source": []
  },
  {
   "cell_type": "markdown",
   "id": "2ae913c8-8f46-41d3-a2b2-c7f3e6986170",
   "metadata": {},
   "source": [
    "### Create DataFrame"
   ]
  },
  {
   "cell_type": "code",
   "execution_count": null,
   "id": "503a494a-3269-4e09-bd1b-47573c1200a0",
   "metadata": {},
   "outputs": [],
   "source": [
    "ASO_delta_abl_MarApr_arr = raster_to_array(ASO_delta_abl_MarApr, -9999)\n",
    "ASO_delta_abl_MarMay_arr = raster_to_array(ASO_delta_abl_MarMay, -9999)\n",
    "ASO_delta_abl_AprMay_arr = raster_to_array(ASO_delta_abl_AprMay, -9999)\n",
    "ASO_abl_MarApr_arr = raster_to_array(ASO_abl_MarApr_all, -9999)\n",
    "ASO_abl_MarMay_arr = raster_to_array(ASO_abl_MarMay_all, -9999)\n",
    "ASO_abl_AprMay_arr = raster_to_array(ASO_abl_AprMay_all, -9999)\n",
    "\n",
    "ASO_abl_MarApr_open_arr = raster_to_array(ASO_abl_MarApr_open, -9999)\n",
    "ASO_abl_MarMay_open_arr = raster_to_array(ASO_abl_MarMay_open, -9999)\n",
    "ASO_abl_AprMay_open_arr = raster_to_array(ASO_abl_AprMay_open, -9999)\n",
    "\n",
    "SWE_0417_arr = raster_to_array(ASO_0417_all, -9999)\n",
    "SWE_0518_arr = raster_to_array(ASO_0518_all, -9999)\n",
    "\n",
    "ASO_abl_MarMay_arr = raster_to_array(ASO_abl_MarMay_all, -9999)\n",
    "\n"
   ]
  },
  {
   "cell_type": "code",
   "execution_count": null,
   "id": "415a30a1-a77a-48e6-abb3-a2bc8fd55510",
   "metadata": {},
   "outputs": [],
   "source": [
    "abl_df = pd.DataFrame({\n",
    "    \"elev\": DEM_arr,\n",
    "    \"nness\": nness_arr,\n",
    "    \"fVeg\": fVEG_arr,\n",
    "    \"DNC\": DNC_arr,\n",
    "    'swe_160326': SWE_0326_arr,\n",
    "    'swe_160417': SWE_0417_arr,\n",
    "    'swe_160518': SWE_0518_arr,\n",
    "    'abl_MarApr': ASO_abl_MarApr_arr,\n",
    "    'abl_MarMay': ASO_abl_MarMay_arr,\n",
    "    'abl_AprMay': ASO_abl_AprMay_arr,\n",
    "    'abl_MarApr_open': ASO_abl_MarApr_open_arr,\n",
    "    'abl_MarMay_open': ASO_abl_MarMay_open_arr,\n",
    "    'abl_AprMay_open': ASO_abl_AprMay_open_arr,\n",
    "    'delta_abl_MarApr': ASO_delta_abl_MarApr_arr,\n",
    "    'delta_abl_MarMay': ASO_delta_abl_MarMay_arr,\n",
    "    'delta_abl_AprMay': ASO_delta_abl_AprMay_arr,\n",
    "})\n",
    "abl_df['nness_bins'] = pd.cut(abl_df['nness'], bins=nness_bins_set, right = False,include_lowest= True)\n",
    "abl_df['elev_bins'] = pd.cut(abl_df['elev'], bins=elev_bins_set, right = False,include_lowest= True)\n",
    "abl_df['fVeg_bins'] = pd.cut(abl_df['fVeg'], bins=fVEG_bins_set, right = False,include_lowest= True)"
   ]
  },
  {
   "cell_type": "markdown",
   "id": "cec2d95a-d7f9-4c83-957c-4db66c9eec24",
   "metadata": {},
   "source": [
    "### Filter dataframe\n",
    "This should no longer be necessary with raw rasters filtered"
   ]
  },
  {
   "cell_type": "code",
   "execution_count": null,
   "id": "a8c9c5d6-bbf8-487d-a014-acf9a1f5449c",
   "metadata": {},
   "outputs": [],
   "source": [
    "# swe_160417_0 = abl_df['swe_160417'] == 0\n",
    "# abl_df.loc[swe_160417_0, 'abl_MarApr'] = np.nan; abl_df.loc[swe_160417_0, 'delta_abl_MarApr'] = np.nan\n",
    "# abl_df.loc[swe_160417_0, 'abl_MarMay'] = np.nan; abl_df.loc[swe_160417_0, 'delta_abl_MarMay'] = np.nan\n",
    "\n",
    "# swe_160518_0 = abl_df['swe_160518'] == 0\n",
    "# abl_df.loc[swe_160518_0, 'abl_AprMay'] = np.nan; abl_df.loc[swe_160518_0, 'delta_abl_AprMay'] = np.nan\n",
    "# abl_df.loc[swe_160518_0, 'abl_MarMay'] = np.nan; abl_df.loc[swe_160518_0, 'delta_abl_MarMay'] = np.nan\n",
    "\n",
    "# abl_MarApr_mask = abl_df['abl_MarApr'] < 5\n",
    "# abl_AprMay_mask = abl_df['abl_AprMay'] < 5\n",
    "# abl_MarMay_mask = abl_df['abl_MarMay'] < 5\n",
    "\n",
    "# abl_df.loc[abl_MarApr_mask, 'abl_MarApr'] = np.nan; abl_df.loc[abl_MarApr_mask, 'delta_abl_MarApr'] = np.nan\n",
    "# abl_df.loc[abl_AprMay_mask, 'abl_AprMay'] = np.nan; abl_df.loc[abl_AprMay_mask, 'delta_abl_AprMay'] = np.nan\n",
    "# abl_df.loc[abl_MarMay_mask, 'abl_MarMay'] = np.nan; abl_df.loc[abl_MarMay_mask, 'delta_abl_MarMay'] = np.nan\n",
    "\n",
    "# abl_df.loc[abl_MarApr_mask, 'abl_AprMay'] = np.nan; abl_df.loc[abl_MarApr_mask, 'delta_abl_AprMay'] = np.nan\n",
    "# abl_df.loc[abl_MarApr_mask, 'abl_MarMay'] = np.nan; abl_df.loc[abl_MarApr_mask, 'delta_abl_MarMay'] = np.nan\n",
    "# abl_df.loc[abl_AprMay_mask, 'abl_MarMay'] = np.nan; abl_df.loc[abl_AprMay_mask, 'delta_abl_MarMay'] = np.nan"
   ]
  },
  {
   "cell_type": "code",
   "execution_count": null,
   "id": "cc218dc4-1743-40c0-8599-30f5d22a4755",
   "metadata": {},
   "outputs": [],
   "source": [
    "# mm/day\n",
    "# difference between pixel and open area of pixel (absolute)\n",
    "abl_df['diff_abl_MarApr_mmd'] = (abl_df.abl_MarApr-abl_df.abl_MarApr_open)*10/23\n",
    "abl_df['diff_abl_AprMay_mmd'] = (abl_df.abl_AprMay-abl_df.abl_AprMay_open)*10/32\n",
    "abl_df['diff_abl_MarMay_mmd'] = (abl_df.abl_MarMay-abl_df.abl_MarMay_open)*10/54\n"
   ]
  },
  {
   "cell_type": "code",
   "execution_count": null,
   "id": "6d6b012b-a20f-439a-b023-ea85eb34c1f6",
   "metadata": {},
   "outputs": [],
   "source": [
    "abl_MarMay_bins_set = ([0,10,20,30,40,50,60,70,80,90,100,110,120])\n",
    "abl_MarApr_bins_set = ([0,10,20,30,40,50,60,70,80,90,100,110,120])\n",
    "abl_AprMay_bins_set = ([0,10,20,30,40,50,60,70,80,90,100,110,120])\n",
    "\n",
    "abl_df['abl_MarApr_bins'] = pd.cut(abl_df['abl_MarApr'], bins=abl_MarMay_bins_set, right = False,include_lowest= True)\n",
    "abl_df['abl_MarMay_bins'] = pd.cut(abl_df['abl_MarMay'], bins=abl_MarApr_bins_set, right = False,include_lowest= True)\n",
    "abl_df['abl_AprMay_bins'] = pd.cut(abl_df['abl_AprMay'], bins=abl_AprMay_bins_set, right = False,include_lowest= True)"
   ]
  },
  {
   "cell_type": "markdown",
   "id": "32f2e003-d2b1-4b04-8670-281b8e5166ac",
   "metadata": {},
   "source": [
    "# Plot"
   ]
  },
  {
   "cell_type": "markdown",
   "id": "90cb93dc-007e-4004-8dae-9219d583ee8e",
   "metadata": {},
   "source": [
    "#### Hist"
   ]
  },
  {
   "cell_type": "code",
   "execution_count": null,
   "id": "0bf8f624-81f1-4a89-83e0-5f6a8d193111",
   "metadata": {},
   "outputs": [],
   "source": [
    "acc_df.columns"
   ]
  },
  {
   "cell_type": "code",
   "execution_count": null,
   "id": "c3212d7d-2ee7-4d07-a4a4-b7c7cc0dabec",
   "metadata": {},
   "outputs": [],
   "source": [
    "# plot elevation vs. snow depth and fsca (mean)\n",
    "terrain_hist, axs = plt.subplots(2, 2, figsize =(15,4));\n",
    "axs[0,0].hist(acc_df['swe_160326']); axs[0,0].set_xlabel('SWE 03/26/2016 (cm)')\n",
    "axs[0,1].hist(acc_df['swe_080210']); axs[0,1].set_xlabel('SWE 02/10/2008 (cm)')\n",
    "#axs[1,0].hist(acc_df['delta_acc_ASO']); axs[1,0].set_xlabel('delta_SWE 03/26/2016 (cm)')\n",
    "#axs[1,1].hist(acc_df['delta_acc_NCALM']); axs[1,1].set_xlabel('delta_SWE 02/10/2008 (cm)')\n",
    "#terrain_hist.savefig('lidar_processing/python_scripts/snow_departure_project/figures/terrain_variable_histogram.png')"
   ]
  },
  {
   "cell_type": "code",
   "execution_count": null,
   "id": "87a140e3-006b-4e50-a081-0df8848f4cd0",
   "metadata": {},
   "outputs": [],
   "source": [
    "# import matplotlib.ticker as mticker\n",
    "# SWE_nness_elevBins_scatter, axes = plt.subplots(2,3,figsize=(25, 15), sharey=False, sharex=False) # create a figure axis\n",
    "# #nness_deltaFSCA_group_box.suptitle('orthness vs. Change in fSCA') # add title to entire figure\n",
    "# #palette_arr = ['darkorange','lightyellow','lightblue','royalblue']\n",
    "# for i in range(3):\n",
    "#     sns.scatterplot(ax=axes[0,i], y = (acc_df['swe_160326'][acc_df['elev_bins'] == elev_bins_arr_sort[i]]), x = (acc_df['nness'][acc_df['elev_bins'] == elev_bins_arr_sort[i]]))\n",
    "#     axes[0,i].set(xticklabels = [],title = ('Elevation = ' + str(elev_bins_arr_sort[i])), xlabel = '',ylabel = 'SWE (cm) 03/26/2016')\n",
    "\n",
    "#     sns.scatterplot(ax=axes[1,i], y = (acc_df['swe_160326'][acc_df['elev_bins'] == elev_bins_arr_sort[i+3]]), x = (acc_df['nness'][acc_df['elev_bins'] == elev_bins_arr_sort[i+3]]))\n",
    "#     axes[1,i].set(title = ('Elevation = ' + str(elev_bins_arr_sort[i+3])), xlabel = 'Northness',ylabel = 'SWE (cm) 03/26/2016')\n",
    "#     #axes[1,i].set_xticklabels(axes[1,i].get_xticklabels(),rotation = 30, size = 10)\n",
    "#     # ticks_loc = axes[1,i].get_xticks().tolist()\n",
    "#     # axes[1,i].xaxis.set_major_locator(mticker.FixedLocator(ticks_loc))\n",
    "#     # axes[1,i].set_xticklabels(axes[1,i].get_xticklabels(),rotation = 30, size = 10)\n",
    "# SWE_nness_elevBins_scatter.savefig('SCB/stats/figures/SWE_nness_elevBins_scatter.png')"
   ]
  },
  {
   "cell_type": "code",
   "execution_count": null,
   "id": "0dc172f3-af67-420e-a159-8a2b5d2ac535",
   "metadata": {},
   "outputs": [],
   "source": [
    "acc_df.columns"
   ]
  },
  {
   "cell_type": "code",
   "execution_count": null,
   "id": "b8675357-3158-4efc-932b-30bc260d8129",
   "metadata": {},
   "outputs": [],
   "source": [
    "sns.scatterplot(data=acc_df, x=\"fVeg\", y=\"swe_160326\")"
   ]
  },
  {
   "cell_type": "code",
   "execution_count": null,
   "id": "e57183e9-6781-4f3e-8e29-cf1950f95989",
   "metadata": {},
   "outputs": [],
   "source": [
    "sns.scatterplot(data=acc_df, x=\"fVeg\", y=\"delta_acc_tall_ASO\")"
   ]
  },
  {
   "cell_type": "code",
   "execution_count": null,
   "id": "257ce151-df72-4bfd-831e-72c12d5f9c9c",
   "metadata": {},
   "outputs": [],
   "source": [
    "abl_df.columns"
   ]
  },
  {
   "cell_type": "code",
   "execution_count": null,
   "id": "7610991e-2b0d-4f64-96f1-657aa64660b1",
   "metadata": {},
   "outputs": [],
   "source": [
    "sns.scatterplot(data=abl_df, x=\"elev\", y=\"abl_MarApr\")"
   ]
  },
  {
   "cell_type": "code",
   "execution_count": null,
   "id": "c795d6e3-85b7-4016-bbd4-017aa1c495e0",
   "metadata": {},
   "outputs": [],
   "source": [
    "acc_df.columns"
   ]
  },
  {
   "cell_type": "code",
   "execution_count": null,
   "id": "127afb26-e60e-45a1-bb5f-7ec23d16c2d3",
   "metadata": {},
   "outputs": [],
   "source": [
    "elev_SWE_box, axes = plt.subplots(1,1,figsize=(14, 6), sharey=False) # create a figure axis\n",
    "sns.boxplot(ax=axes, data=acc_df, x='elev_bins', y=\"swe_080210\",showfliers = False, hue = 'clump_bins', palette=\"Greens\")#,palette = 'Blues') #, hue = 'nness_bins'\n",
    "axes.set_title('Total SWE 02/10/2008 (cm)', fontsize = 20)\n",
    "axes.set_ylabel('SWE', fontsize = 16)\n",
    "axes.set_xlabel('Elevation', fontsize = 16)\n"
   ]
  },
  {
   "cell_type": "code",
   "execution_count": null,
   "id": "38c1db80-2814-478d-923c-6690ca886a38",
   "metadata": {},
   "outputs": [],
   "source": [
    "elev_SWE_box, axes = plt.subplots(1,1,figsize=(14, 6), sharey=False) # create a figure axis\n",
    "sns.boxplot(ax=axes, data=acc_df, x='elev_bins', y=\"swe_080210\",showfliers = False, hue = 'nness_bins', palette=\"Spectral\")#,palette = 'Blues') #, hue = 'nness_bins'\n",
    "axes.set_title('Total SWE 02/10/2008 (cm)', fontsize = 20)\n",
    "axes.set_ylabel('SWE', fontsize = 16)\n",
    "axes.set_xlabel('Elevation', fontsize = 16)\n"
   ]
  },
  {
   "cell_type": "code",
   "execution_count": null,
   "id": "bc7b7269-8a83-4ec8-9a45-84c574bd2c74",
   "metadata": {},
   "outputs": [],
   "source": [
    "acc_df['fVeg_avg'] = round(acc_df.fVeg,4)"
   ]
  },
  {
   "cell_type": "code",
   "execution_count": null,
   "id": "25e92df4-0f68-4d44-a611-d4e5b8aa1fab",
   "metadata": {},
   "outputs": [],
   "source": [
    "fVeg_avg_df = acc_df.groupby('fVeg_avg').mean()"
   ]
  },
  {
   "cell_type": "code",
   "execution_count": null,
   "id": "7097e8b1-39ee-45aa-93dc-2de5f6e47ce7",
   "metadata": {},
   "outputs": [],
   "source": [
    "fVeg_avg_df.columns"
   ]
  },
  {
   "cell_type": "code",
   "execution_count": null,
   "id": "ea921462-3126-4930-aee9-4c26b22c24cc",
   "metadata": {},
   "outputs": [],
   "source": []
  },
  {
   "cell_type": "code",
   "execution_count": null,
   "id": "3087e1ce-432a-4e21-a285-1f65228ff7d8",
   "metadata": {},
   "outputs": [],
   "source": [
    "fVeg_SWE_scatter, axes = plt.subplots(1,1,figsize=(15, 8), sharey=False) # create a figure axis\n",
    "\n",
    "sns.scatterplot(ax=axes, data=fVeg_avg_df, x='fVeg', y=\"delta_acc_tall_ASO\", hue='swe_160326',palette='Blues') #, hue = 'nness_bins'\n",
    "axes.set_title('fVeg vs. Change in Accumulation 03/26/2016', fontsize = 20)\n",
    "axes.set_xlabel('Fraction of Canopy', fontsize = 16)\n",
    "axes.set_ylabel('Change in Snow Accumulation (%)', fontsize = 16)\n",
    "axes.set(ylim=(-60, 40))\n",
    "\n",
    "#axes.set_xticklabels(axes.get_xticklabels(),rotation = 45, fontsize = 12);\n",
    "plt.legend(bbox_to_anchor=(1.02, 0.55), loc='upper left', borderaxespad=0, title= 'Total SWE (cm)');\n",
    "\n",
    "#fVeg_SWE_scatter.savefig('SCB/stats/figures/fVeg_NCALM_delta_SWE_scatter.png',transparent=True,bbox_inches='tight')"
   ]
  },
  {
   "cell_type": "code",
   "execution_count": null,
   "id": "63177b07-b628-4514-909a-f8c818722b76",
   "metadata": {},
   "outputs": [],
   "source": [
    "fVeg_SWE_scatter, axes = plt.subplots(1,1,figsize=(15, 8), sharey=False) # create a figure axis\n",
    "\n",
    "sns.scatterplot(ax=axes, data=fVeg_avg_df, x='fVeg', y=\"delta_acc_NCALM\", hue='swe_080210',palette='Blues') #, hue = 'nness_bins'\n",
    "axes.set_title('fVeg vs. Change in Accumulation 02/10/2008', fontsize = 20)\n",
    "axes.set_xlabel('Fraction of Canopy', fontsize = 16)\n",
    "axes.set_ylabel('Change in Snow Accumulation (%)', fontsize = 16)\n",
    "axes.set(ylim=(-60, 40))\n",
    "\n",
    "#axes.set_xticklabels(axes.get_xticklabels(),rotation = 45, fontsize = 12);\n",
    "plt.legend(bbox_to_anchor=(1.02, 0.55), loc='upper left', borderaxespad=0, title= 'Total SWE (cm)');\n",
    "\n",
    "#fVeg_SWE_scatter.savefig('SCB/stats/figures/fVeg_NCALM_delta_SWE_scatter.png',transparent=True,bbox_inches='tight')"
   ]
  },
  {
   "cell_type": "code",
   "execution_count": null,
   "id": "61c6912e-77be-481a-9482-36b3a38c1cc6",
   "metadata": {},
   "outputs": [],
   "source": [
    "fVeg_SWE_scatter, axes = plt.subplots(1,1,figsize=(15, 8), sharey=False) # create a figure axis\n",
    "\n",
    "sns.scatterplot(ax=axes, data=fVeg_avg_df, x='fVeg', y=\"swe_080210\", palette='Blues') #, hue = 'nness_bins'\n",
    "axes.set_title('fVeg vs. Total SWE 02/10/2008', fontsize = 20)\n",
    "axes.set_xlabel('Fraction of Canopy', fontsize = 16)\n",
    "axes.set_ylabel('Total SWE (cm)', fontsize = 16)\n",
    "#axes.set(ylim=(-60, 40))\n",
    "\n",
    "#axes.set_xticklabels(axes.get_xticklabels(),rotation = 45, fontsize = 12);\n",
    "#plt.legend(bbox_to_anchor=(1.02, 0.55), loc='upper left', borderaxespad=0, title= 'Total SWE (cm)');\n",
    "\n",
    "#fVeg_SWE_scatter.savefig('SCB/stats/figures/fVeg_NCALM_delta_SWE_scatter.png',transparent=True,bbox_inches='tight')"
   ]
  },
  {
   "cell_type": "code",
   "execution_count": null,
   "id": "c6d449a2-e8af-4184-a0fe-a74e0832065b",
   "metadata": {},
   "outputs": [],
   "source": [
    "fVeg_SWE_scatter, axes = plt.subplots(1,1,figsize=(15, 8), sharey=False) # create a figure axis\n",
    "\n",
    "sns.scatterplot(ax=axes, data=fVeg_avg_df, x='nness', y=\"delta_acc_NCALM\", hue='swe_080210',palette='Blues') #, hue = 'nness_bins'\n",
    "axes.set_title('Change in Accumulation 02/10/2008', fontsize = 20)\n",
    "axes.set_xlabel('Nness', fontsize = 16)\n",
    "axes.set_ylabel('Change in Snow Accumulation (%)', fontsize = 16)\n",
    "axes.set(ylim=(-60, 40))\n",
    "\n",
    "#axes.set_xticklabels(axes.get_xticklabels(),rotation = 45, fontsize = 12);\n",
    "plt.legend(bbox_to_anchor=(1.02, 0.55), loc='upper left', borderaxespad=0, title= 'Total SWE (cm)');\n",
    "\n",
    "#fVeg_SWE_scatter.savefig('SCB/stats/figures/fVeg_NCALM_delta_SWE_scatter.png',transparent=True,bbox_inches='tight')"
   ]
  },
  {
   "cell_type": "code",
   "execution_count": null,
   "id": "111f53f2-7376-4d68-834e-ade5dde6e4d1",
   "metadata": {},
   "outputs": [],
   "source": [
    "fVeg_SWE_scatter, axes = plt.subplots(1,1,figsize=(15, 8), sharey=False) # create a figure axis\n",
    "\n",
    "sns.scatterplot(ax=axes, data=fVeg_avg_df, x='nness', y=\"swe_080210\",palette='Blues') #, hue = 'nness_bins'\n",
    "axes.set_title('Total SWE 02/10/2008', fontsize = 20)\n",
    "axes.set_xlabel('Nness', fontsize = 16)\n",
    "axes.set_ylabel('Total SWE (cm)', fontsize = 16)\n",
    "#axes.set(ylim=(-60, 40))\n",
    "\n",
    "#axes.set_xticklabels(axes.get_xticklabels(),rotation = 45, fontsize = 12);\n",
    "#plt.legend(bbox_to_anchor=(1.02, 0.55), loc='upper left', borderaxespad=0, title= 'Total SWE (cm)');\n",
    "\n",
    "#fVeg_SWE_scatter.savefig('SCB/stats/figures/fVeg_NCALM_delta_SWE_scatter.png',transparent=True,bbox_inches='tight')"
   ]
  },
  {
   "cell_type": "markdown",
   "id": "9a63511e-e028-4223-9e76-21433d206205",
   "metadata": {},
   "source": [
    "# Final Plots"
   ]
  },
  {
   "cell_type": "code",
   "execution_count": null,
   "id": "229f1794-1f71-40c3-8d5e-c1ecbb56fd57",
   "metadata": {},
   "outputs": [],
   "source": [
    "acc_df.columns"
   ]
  },
  {
   "cell_type": "code",
   "execution_count": null,
   "id": "d5d13771-b0a1-46d6-bfa4-b59cca62e5fe",
   "metadata": {},
   "outputs": [],
   "source": [
    "fVeg_SWE_scatter, axes = plt.subplots(1,1,figsize=(15, 8), sharey=False) # create a figure axis\n",
    "\n",
    "sns.scatterplot(ax=axes, data=acc_df, x='fVeg', y=\"delta_acc_ASO\", hue='swe_160326',palette='Blues') #, hue = 'nness_bins'\n",
    "axes.set_title('fVeg vs. Change in Accumulation 03/26/2016', fontsize = 20)\n",
    "axes.set_xlabel('Fraction of Canopy', fontsize = 16)\n",
    "axes.set_ylabel('Change in Snow Accumulation (%)', fontsize = 16)\n",
    "axes.set(ylim=(-60, 40))\n",
    "\n",
    "#axes.set_xticklabels(axes.get_xticklabels(),rotation = 45, fontsize = 12);\n",
    "plt.legend(bbox_to_anchor=(1.02, 0.55), loc='upper left', borderaxespad=0, title= 'Total SWE (cm)');\n",
    "\n",
    "#fVeg_SWE_scatter.savefig('SCB/stats/figures/fVeg_ASO_delta_SWE_scatter.png',transparent=True,bbox_inches='tight')"
   ]
  },
  {
   "cell_type": "code",
   "execution_count": null,
   "id": "7359fa04-132b-4d91-b8c7-5aa24ecf307b",
   "metadata": {},
   "outputs": [],
   "source": [
    "fVeg_SWE_scatter, axes = plt.subplots(1,1,figsize=(15, 8), sharey=False) # create a figure axis\n",
    "\n",
    "sns.scatterplot(ax=axes, data=acc_df, x='fVeg', y=\"delta_acc_NCALM\", hue='swe_080210',palette='Blues') #, hue = 'nness_bins'\n",
    "axes.set_title('fVeg vs. Change in Accumulation 02/10/2008', fontsize = 20)\n",
    "axes.set_xlabel('Fraction of Canopy', fontsize = 16)\n",
    "axes.set_ylabel('Change in Snow Accumulation (%)', fontsize = 16)\n",
    "axes.set(ylim=(-60, 40))\n",
    "\n",
    "#axes.set_xticklabels(axes.get_xticklabels(),rotation = 45, fontsize = 12);\n",
    "plt.legend(bbox_to_anchor=(1.02, 0.55), loc='upper left', borderaxespad=0, title= 'Total SWE (cm)');\n",
    "\n",
    "#fVeg_SWE_scatter.savefig('SCB/stats/figures/fVeg_NCALM_delta_SWE_scatter.png',transparent=True,bbox_inches='tight')"
   ]
  },
  {
   "cell_type": "markdown",
   "id": "bc36192d-5fd2-4309-b1ea-04ecf86aed81",
   "metadata": {},
   "source": [
    "## Ablation"
   ]
  },
  {
   "cell_type": "code",
   "execution_count": null,
   "id": "30b2a966-0ccf-45b3-bc97-e502b12f898b",
   "metadata": {},
   "outputs": [],
   "source": [
    "abl_df.columns"
   ]
  },
  {
   "cell_type": "code",
   "execution_count": null,
   "id": "a07442e5-5163-4977-b6de-082f457558b9",
   "metadata": {},
   "outputs": [],
   "source": [
    "plot_fig, axes = plt.subplots(1,1,figsize=(15, 8), sharey=False) # create a figure axis\n",
    "\n",
    "sns.scatterplot(ax=axes, data=abl_df, x='fVeg', y=\"diff_abl_MarApr_mmd\" ,hue = 'abl_MarApr',marker = '.', palette = 'Blues') #, hue = 'nness_bins'\n",
    "axes.set_title('fVeg vs. Total-Open Ablation from March to April 2016', fontsize = 20)\n",
    "axes.set_xlabel('Fraction of Canopy', fontsize = 16)\n",
    "axes.set_ylabel('Ablation (mm/day)', fontsize = 16)\n",
    "axes.set(ylim=(-40, 20),xlim=(0,1))\n",
    "axes.axhline(0, color='k')\n",
    "\n",
    "#axes.set_xticklabels(axes.get_xticklabels(),rotation = 45, fontsize = 12);\n",
    "plt.legend(bbox_to_anchor=(1.02, 0.55), loc='upper left', borderaxespad=0, title= 'Total Ablation (cm)');\n",
    "\n",
    "#plot_fig.savefig('SCB/stats/figures/fVeg_ASO_delta_abl_MarMay_scatter.png',transparent=True,bbox_inches='tight')"
   ]
  },
  {
   "cell_type": "code",
   "execution_count": null,
   "id": "0ae3563d-60d2-476f-88e4-d01f2f80009b",
   "metadata": {},
   "outputs": [],
   "source": [
    "plot_fig, axes = plt.subplots(1,1,figsize=(15, 8), sharey=False) # create a figure axis\n",
    "\n",
    "sns.scatterplot(ax=axes, data=abl_df, x='fVeg', y=\"diff_abl_AprMay_mmd\" ,hue ='abl_AprMay',palette=\"Blues\", marker = '.') #, hue = 'nness_bins'\n",
    "axes.set_title('fVeg vs. Total-Open Ablation from April to May 2016', fontsize = 20)\n",
    "axes.set_xlabel('Fraction of Canopy', fontsize = 16)\n",
    "axes.set_ylabel('Ablation (mm/day)', fontsize = 16)\n",
    "axes.set(ylim=(-20, 15),xlim=(0,1))\n",
    "axes.axhline(0, color='k')\n",
    "\n",
    "\n",
    "#axes.set_xticklabels(axes.get_xticklabels(),rotation = 45, fontsize = 12);\n",
    "plt.legend(bbox_to_anchor=(1.02, 0.55), loc='upper left', borderaxespad=0, title= 'Total Ablation (cm)');\n",
    "\n",
    "#plot_fig.savefig('SCB/stats/figures/fVeg_ASO_delta_abl_MarMay_scatter.png',transparent=True,bbox_inches='tight')"
   ]
  },
  {
   "cell_type": "code",
   "execution_count": null,
   "id": "88ea8a97-94d9-4466-bbba-f819cca54c06",
   "metadata": {},
   "outputs": [],
   "source": [
    "plot_fig, axes = plt.subplots(1,1,figsize=(15, 8), sharey=False) # create a figure axis\n",
    "\n",
    "sns.scatterplot(ax=axes, data=abl_df, x='DNC', y=\"diff_abl_MarMay_mmd\" ,marker = '.', hue='abl_MarMay', palette='Blues') #, hue = 'nness_bins'\n",
    "axes.set_title('DNC vs. Total-Open Ablation from March to May 2016', fontsize = 20)\n",
    "axes.set_xlabel('Distance to Nearest Canopy', fontsize = 16)\n",
    "axes.set_ylabel('Ablation (mm/day)', fontsize = 16)\n",
    "axes.axhline(0, color='k')\n",
    "axes.set(ylim=(-10, 10),xlim=(0,10))\n",
    "plt.text(0.1, 7, \"Total Average > Open Average\", horizontalalignment='left', size='medium', color='red', weight='semibold')\n",
    "plt.text(0.1, -7, \"Total Average < Open Average\", horizontalalignment='left', size='medium', color='red', weight='semibold')\n",
    "\n",
    "#axes.set_xticklabels(axes.get_xticklabels(),rotation = 45, fontsize = 12);\n",
    "plt.legend(bbox_to_anchor=(1.02, 0.55), loc='upper left', borderaxespad=0, title= 'Total Ablation (cm)');\n",
    "\n",
    "#plot_fig.savefig('SCB/stats/figures/fVeg_ASO_delta_abl_MarMay_scatter.png',transparent=True,bbox_inches='tight')"
   ]
  },
  {
   "cell_type": "code",
   "execution_count": null,
   "id": "32fcb6ba-988c-4b93-bee0-7380145c9b9c",
   "metadata": {},
   "outputs": [],
   "source": [
    "plot_fig, axes = plt.subplots(1,1,figsize=(15, 8), sharey=False) # create a figure axis\n",
    "\n",
    "sns.scatterplot(ax=axes, data=abl_df, x='fVeg', y=\"delta_abl_MarMay\", hue = 'abl_MarMay', palette='Blues',marker = '.') #, hue = 'nness_bins'\n",
    "axes.set_title('fVeg vs. Change in Total-Open Ablation from March to May 2016', fontsize = 20)\n",
    "axes.set_xlabel('Fraction of Canopy', fontsize = 16)\n",
    "axes.set_ylabel('Change in Snow Ablation (%)', fontsize = 16)\n",
    "axes.set(ylim=(-120, 120),xlim=(0,1))\n",
    "\n",
    "#axes.set_xticklabels(axes.get_xticklabels(),rotation = 45, fontsize = 12);\n",
    "plt.legend(bbox_to_anchor=(1.02, 0.55), loc='upper left', borderaxespad=0, title= 'Total Ablation (cm)');\n",
    "\n",
    "#plot_fig.savefig('SCB/stats/figures/fVeg_ASO_delta_abl_MarMay_scatter.png',transparent=True,bbox_inches='tight')"
   ]
  },
  {
   "cell_type": "code",
   "execution_count": null,
   "id": "e6275015-206e-426d-9d1f-0faef282f47c",
   "metadata": {},
   "outputs": [],
   "source": [
    "abl_AprMay_bins_set"
   ]
  },
  {
   "cell_type": "code",
   "execution_count": null,
   "id": "df8ccab8-13c4-4830-b1c1-48754c398deb",
   "metadata": {},
   "outputs": [],
   "source": [
    "#sns.set(rc={'axes.facecolor':'cornflowerblue', 'figure.facecolor':'cornflowerblue'})\n",
    "plot_fig, axes = plt.subplots(1,1,figsize=(15, 8), sharey=False) # create a figure axis\n",
    "\n",
    "sns.scatterplot(ax=axes, data=abl_df, x='fVeg', y=\"delta_abl_AprMay\", hue = 'abl_AprMay_bins', palette='Blues') #, hue = 'nness_bins'\n",
    "axes.set_title('fVeg vs. Change in Ablation from April to May 2016', fontsize = 20)\n",
    "axes.set_xlabel('Fraction of Canopy', fontsize = 16)\n",
    "axes.set_ylabel('Change in Snow Ablation (%)', fontsize = 16)\n",
    "axes.set(ylim=(-120, 100),xlim=(0,1))\n",
    "sns.set_style(\"white\")\n",
    "\n",
    "#axes.set_xticklabels(axes.get_xticklabels(),rotation = 45, fontsize = 12);\n",
    "plt.legend(['0', '10', '20', '30', '40', '50', '60', '70', '80', '90', '100', '110', '120'],bbox_to_anchor=(1.02, 0.55), loc='upper left', borderaxespad=0, title= 'Total Ablation (cm)');\n",
    "\n",
    "#plot_fig.savefig('SCB/stats/figures/fVeg_ASO_delta_abl_AprMay_scatter.png',transparent=True,bbox_inches='tight')"
   ]
  },
  {
   "cell_type": "code",
   "execution_count": null,
   "id": "d6393423-0e54-42f9-a0e9-c20fd187ccf4",
   "metadata": {},
   "outputs": [],
   "source": [
    "plot_fig, axes = plt.subplots(1,1,figsize=(15, 8), sharey=False) # create a figure axis\n",
    "\n",
    "sns.scatterplot(ax=axes, data=abl_df, x='fVeg', y=\"delta_abl_AprMay\", hue = 'abl_AprMay', palette='Blues') #, hue = 'nness_bins'\n",
    "axes.set_title('fVeg vs. Change in Ablation from April to May 2016', fontsize = 20)\n",
    "axes.set_xlabel('Fraction of Canopy', fontsize = 16)\n",
    "axes.set_ylabel('Change in Snow Ablation (%)', fontsize = 16)\n",
    "axes.set(ylim=(-120, 100),xlim=(0,1))\n",
    "\n",
    "#axes.set_xticklabels(axes.get_xticklabels(),rotation = 45, fontsize = 12);\n",
    "plt.legend(bbox_to_anchor=(1.02, 0.55), loc='upper left', borderaxespad=0, title= 'Total Ablation (cm)');\n",
    "\n",
    "#plot_fig.savefig('SCB/stats/figures/fVeg_ASO_delta_abl_AprMay_scatter.png',transparent=True,bbox_inches='tight')"
   ]
  },
  {
   "cell_type": "code",
   "execution_count": null,
   "id": "669fa0e1-46f3-4ece-ab65-2064cf6bedec",
   "metadata": {},
   "outputs": [],
   "source": [
    "plot_fig, axes = plt.subplots(1,1,figsize=(15, 8), sharey=False) # create a figure axis\n",
    "\n",
    "sns.scatterplot(ax=axes, data=abl_df, x='fVeg', y=\"delta_abl_MarApr\", hue = 'abl_MarApr', palette='Blues') #, hue = 'nness_bins'\n",
    "axes.set_title('fVeg vs. Change in Ablation from March to April 2016', fontsize = 20)\n",
    "axes.set_xlabel('Fraction of Canopy', fontsize = 16)\n",
    "axes.set_ylabel('Change in Snow Ablation (%)', fontsize = 16)\n",
    "axes.set(ylim=(-120, 120),xlim=(0,1))\n",
    "\n",
    "#axes.set_xticklabels(axes.get_xticklabels(),rotation = 45, fontsize = 12);\n",
    "plt.legend(bbox_to_anchor=(1.02, 0.55), loc='upper left', borderaxespad=0, title= 'Total Ablation (cm)');\n",
    "\n",
    "#plot_fig.savefig('SCB/stats/figures/fVeg_ASO_delta_abl_MarApr_scatter.png',transparent=True,bbox_inches='tight')"
   ]
  },
  {
   "cell_type": "markdown",
   "id": "a60a8ee5-38de-44d7-b8cb-bd48b0061d3b",
   "metadata": {},
   "source": [
    "### Box"
   ]
  },
  {
   "cell_type": "code",
   "execution_count": null,
   "id": "c0a3da7b-eb9b-47f3-9172-3c459d6db7e5",
   "metadata": {},
   "outputs": [],
   "source": [
    "plot_fig, axes = plt.subplots(1,1,figsize=(15, 8), sharey=False) # create a figure axis\n",
    "\n",
    "sns.boxplot(ax=axes, data=abl_df, x='fVeg_bins', y=\"abl_MarMay_mmd\" ,showfliers = False) #, hue = 'nness_bins'\n",
    "axes.set_title('fVeg vs. Ablation from March to May 2016', fontsize = 20)\n",
    "axes.set_xlabel('Fraction of Canopy', fontsize = 16)\n",
    "axes.set_ylabel('Ablation (mm/day)', fontsize = 16)\n",
    "axes.set_xticklabels(axes.get_xticklabels(),rotation = 45, fontsize = 12);\n"
   ]
  },
  {
   "cell_type": "markdown",
   "id": "791fbaf9-ed61-4545-9262-5284cfd87e0c",
   "metadata": {},
   "source": [
    "## Terrain"
   ]
  },
  {
   "cell_type": "code",
   "execution_count": null,
   "id": "e7046e02-917f-483a-8dec-8d1df1f4f20b",
   "metadata": {
    "tags": []
   },
   "outputs": [],
   "source": [
    "elev_SWE_box, axes = plt.subplots(1,1,figsize=(15, 8), sharey=False) # create a figure axis\n",
    "\n",
    "sns.boxplot(ax=axes, data=acc_df, x='elev_bins', y=\"swe_0326\",showfliers = False,palette = 'Blues') #, hue = 'nness_bins'\n",
    "axes.set_title('Elevation vs. SWE', fontsize = 20)\n",
    "axes.set_xlabel('Elevation (m)', fontsize = 16)\n",
    "axes.set_ylabel('SWE (cm)', fontsize = 16)\n",
    "axes.set_xticklabels(axes.get_xticklabels(),rotation = 45, fontsize = 12);\n",
    "#plt.legend(bbox_to_anchor=(1.02, 0.55), loc='upper left', borderaxespad=0, title= 'Gap Size (m)');\n",
    "\n",
    "elev_SWE_box.savefig('SCB/stats/figures/elev_SWE_0326_box.png',transparent=True,bbox_inches='tight')"
   ]
  },
  {
   "cell_type": "code",
   "execution_count": null,
   "id": "e75a0650-9a1b-4f8f-a7ce-135cde508d79",
   "metadata": {
    "tags": []
   },
   "outputs": [],
   "source": [
    "elev_SWE_scatter, axes = plt.subplots(1,1,figsize=(15, 8), sharey=False) # create a figure axis\n",
    "\n",
    "sns.scatterplot(data=acc_df, x=\"elev\", y=\"swe_0326\", s=20, color=\".2\", marker=\".\")\n",
    "axes.set_title('Elevation vs. Sagehen Creek Basin SWE 03/26/2016', fontsize = 20)\n",
    "axes.set_xlabel('Elevation (m)', fontsize = 16)\n",
    "axes.set_ylabel('SWE (cm)', fontsize = 16)\n",
    "#axes.set_xticklabels(axes.get_xticklabels(),rotation = 45, fontsize = 16)\n",
    "#plt.legend(bbox_to_anchor=(1.02, 0.55), loc='upper left', borderaxespad=0, title= 'Gap Size (m)');\n",
    "\n",
    "elev_SWE_scatter.savefig('SCB/stats/figures/elev_SWE_0326_scatter.png',transparent=True,bbox_inches='tight')"
   ]
  },
  {
   "cell_type": "code",
   "execution_count": null,
   "id": "9572deff-05c7-4458-b579-42f7fce8af55",
   "metadata": {
    "tags": []
   },
   "outputs": [],
   "source": [
    "nness_SWE_scatter, axes = plt.subplots(1,1,figsize=(15, 8), sharey=False) # create a figure axis\n",
    "\n",
    "sns.scatterplot(data=acc_df, x=\"nness\", y=\"swe_0326\", s=20, color=\".2\", marker=\".\")\n",
    "axes.set_title('Northness vs. Sagehen Creek Basin SWE 03/26/2016', fontsize = 20)\n",
    "axes.set_xlabel('Northness', fontsize = 16)\n",
    "axes.set_ylabel('SWE (cm)', fontsize = 16)\n",
    "#axes.set_xticklabels(axes.get_xticklabels(),rotation = 45, fontsize = 16)\n",
    "#plt.legend(bbox_to_anchor=(1.02, 0.55), loc='upper left', borderaxespad=0, title= 'Gap Size (m)');\n",
    "\n",
    "nness_SWE_scatter.savefig('SCB/stats/figures/nness_SWE_0326_scatter.png',transparent=True,bbox_inches='tight')\n"
   ]
  },
  {
   "cell_type": "code",
   "execution_count": null,
   "id": "35a84e1a-844c-4f9a-94f1-08aeb25ea2aa",
   "metadata": {},
   "outputs": [],
   "source": [
    "elev_bins_arr = acc_df['elev_bins'].unique()\n",
    "elev_bins_arr_sort = [elev_bins_arr.categories[0],elev_bins_arr.categories[1], elev_bins_arr.categories[2],elev_bins_arr.categories[3],elev_bins_arr.categories[4],elev_bins_arr.categories[5]] # create a new list with sorted values"
   ]
  },
  {
   "cell_type": "code",
   "execution_count": null,
   "id": "483db06f-88a3-4517-b32b-0b17c31c035f",
   "metadata": {},
   "outputs": [],
   "source": [
    "acc_df.columns"
   ]
  },
  {
   "cell_type": "code",
   "execution_count": null,
   "id": "ba800d6c-193d-4364-b98d-1ac665889deb",
   "metadata": {},
   "outputs": [],
   "source": [
    "elev_SWE_box, axes = plt.subplots(1,1,figsize=(15, 8), sharey=False) # create a figure axis\n",
    "\n",
    "sns.boxplot(ax=axes, data=acc_df, x='fVeg_bins', y=\"delta_acc_ASO\",showfliers = False,palette = 'Blues') #, hue = 'nness_bins'\n",
    "axes.set_title('Elevation vs. SWE', fontsize = 20)\n",
    "axes.set_xlabel('Elevation (m)', fontsize = 16)\n",
    "axes.set_ylabel('SWE (cm)', fontsize = 16)\n",
    "axes.set_xticklabels(axes.get_xticklabels(),rotation = 45, fontsize = 12);\n",
    "#plt.legend(bbox_to_anchor=(1.02, 0.55), loc='upper left', borderaxespad=0, title= 'Gap Size (m)');\n",
    "\n",
    "elev_SWE_box.savefig('SCB/stats/figures/elev_SWE_0326_box.png',transparent=True,bbox_inches='tight')"
   ]
  },
  {
   "cell_type": "code",
   "execution_count": null,
   "id": "1c71698d-4d5f-4b12-9d2e-cabb7a3c4a22",
   "metadata": {},
   "outputs": [],
   "source": [
    "acc_df.columns"
   ]
  },
  {
   "cell_type": "code",
   "execution_count": null,
   "id": "2970c227-4059-49a4-931f-0a2d7489dc0e",
   "metadata": {},
   "outputs": [],
   "source": [
    "acc_df['elev_rnd'] = (round(acc_df.elev/100))*100"
   ]
  },
  {
   "cell_type": "code",
   "execution_count": null,
   "id": "6df3ed36-163a-4a1e-a814-9abf6dffa46a",
   "metadata": {},
   "outputs": [],
   "source": [
    "elev_SWE_line, axes = plt.subplots(1,1,figsize=(15, 8), sharey=False) # create a figure axis\n",
    "\n",
    "sns.lineplot(x=acc_df['elev_rnd'],y=acc_df['swe_080210'], hue=acc_df[\"nness_bins\"],style =acc_df[\"fVeg_bins\"],  linewidth=2.5,markers=True)\n",
    "axes.set_title('Elevation vs. SWE 02/10/2008', fontsize = 20)\n",
    "axes.set_xlabel('Elevation (m)', fontsize = 16)\n",
    "axes.set_ylabel('SWE (cm)', fontsize = 16)\n",
    "#axes.set_xticklabels(axes.get_xticklabels(),rotation = 45, fontsize = 12);\n",
    "plt.legend(bbox_to_anchor=(1.02, 0.55), loc='upper left', borderaxespad=0);\n",
    "\n",
    "#elev_SWE_line.savefig('SCB/stats/figures/elev_SWE_line_08_huenness.png',transparent=True,bbox_inches='tight')"
   ]
  },
  {
   "cell_type": "code",
   "execution_count": null,
   "id": "ec309b0b-af09-4f13-88b7-e7d943ac6a3b",
   "metadata": {},
   "outputs": [],
   "source": [
    "\n",
    "\n",
    "elev_SWE_line, axes = plt.subplots(1,1,figsize=(15, 8), sharey=False) # create a figure axis\n",
    "\n",
    "sns.lineplot(x=acc_df['elev_rnd'],y=acc_df['swe_080210'], hue=acc_df[\"nness_bins\"],style =acc_df[\"fVeg_bins\"],  linewidth=2.5,markers=True)\n",
    "axes.set_title('Elevation vs. SWE 02/10/2008', fontsize = 20)\n",
    "axes.set_xlabel('Elevation (m)', fontsize = 16)\n",
    "axes.set_ylabel('SWE (cm)', fontsize = 16)\n",
    "#axes.set_xticklabels(axes.get_xticklabels(),rotation = 45, fontsize = 12);\n",
    "plt.legend(bbox_to_anchor=(1.02, 0.55), loc='upper left', borderaxespad=0);\n",
    "\n",
    "#elev_SWE_line.savefig('SCB/stats/figures/elev_SWE_line_08_huenness.png',transparent=True,bbox_inches='tight')"
   ]
  },
  {
   "cell_type": "markdown",
   "id": "005c1f61-7e98-4f9a-ab1b-f759aefc4522",
   "metadata": {},
   "source": [
    "# Regressions"
   ]
  },
  {
   "cell_type": "code",
   "execution_count": null,
   "id": "17541520-f685-4fc8-a5fb-11ede63553df",
   "metadata": {},
   "outputs": [],
   "source": [
    "# with sklearn, run single variable regression\n",
    "# a downside of this approach is that the input dataframe contains unnecessary data. For now, that's okay\n",
    "# input: dataframe - pandas dataframe with ind and dep variables\n",
    "# input: var1 & var2 - independent and dependent variable names (str)\n",
    "# output: regr_model - sklearn LinearRegreassion()\n",
    "# output: regression_df - dataframe with residual value\n",
    "def sing_var_regress(dataframe, var1, var2):\n",
    "    # establish ind. and dep. variables\n",
    "    regression_df = dataframe[[var1,var2]].dropna(subset=[var1,var2])\n",
    "    ind_df = regression_df[[var1]]\n",
    "    dep_df = regression_df[[var2]]\n",
    "    # run regression model \n",
    "    regr_model = linear_model.LinearRegression()\n",
    "    regr_model.fit(ind_df,dep_df)\n",
    "    # calculate residuals\n",
    "    residual_var = dep_df.values - regr_model.predict(ind_df)\n",
    "    predicted_var = regr_model.predict(ind_df)\n",
    "    regression_df.insert(len(regression_df.columns), \"residual_var\", residual_var, True)\n",
    "    regression_df.insert(len(regression_df.columns), \"predicted_var\", predicted_var, True)\n",
    "\n",
    "    return regr_model, regression_df"
   ]
  },
  {
   "cell_type": "code",
   "execution_count": null,
   "id": "eb5731a1-9320-4385-8fff-fc4149b9b57a",
   "metadata": {},
   "outputs": [],
   "source": [
    "acc_df.columns"
   ]
  },
  {
   "cell_type": "code",
   "execution_count": null,
   "id": "4901c660-87c7-488c-8647-030fa6ce7994",
   "metadata": {},
   "outputs": [],
   "source": [
    "abl_df.columns"
   ]
  },
  {
   "cell_type": "code",
   "execution_count": null,
   "id": "e45be5e0-6329-4ed8-87c7-0b5b6b6543ef",
   "metadata": {},
   "outputs": [],
   "source": [
    "regr_model, regression_df = sing_var_regress(abl_df, 'elev', 'abl_AprMay')\n",
    "print('r-squared: \\n',r2_score(regression_df['abl_AprMay'],regr_model.predict(regression_df[['elev']])))"
   ]
  },
  {
   "cell_type": "code",
   "execution_count": null,
   "id": "acd22c71-7ea9-4a00-b85f-7c9f5ac0a682",
   "metadata": {},
   "outputs": [],
   "source": [
    "#sns.scatterplot(data=regression_df, x=\"elev\", y=\"residual_var\")"
   ]
  },
  {
   "cell_type": "code",
   "execution_count": null,
   "id": "65da4717-2618-4370-9399-e8b097c439d4",
   "metadata": {},
   "outputs": [],
   "source": [
    "acc_df"
   ]
  },
  {
   "cell_type": "code",
   "execution_count": null,
   "id": "77cecaa2-77f8-42ef-b0af-f200c425328c",
   "metadata": {},
   "outputs": [],
   "source": [
    "regression_df.columns"
   ]
  },
  {
   "cell_type": "code",
   "execution_count": null,
   "id": "3729209e-36e8-4b4f-8cf2-4b9426823ae0",
   "metadata": {},
   "outputs": [],
   "source": [
    "# using statsmodel\n",
    "regression_df = acc_df[[\"elev\",\"nness\",\"fVeg\",\"DNC\",\"clump\", \"swe_080210\",\"delta_acc_NCALM\"]].dropna(subset=[\"elev\",\"nness\",\"fVeg\",\"DNC\",\"clump\", \"swe_080210\",\"delta_acc_NCALM\"])\n",
    "Y = regression_df['delta_acc_NCALM']\n",
    "X = regression_df[[\"elev\",\"nness\",\"fVeg\",\"DNC\",\"clump\"]]\n",
    "X = sm.add_constant(X) # adding a constant\n",
    "\n",
    "model = sm.OLS(Y, X).fit()\n",
    "predictions = model.predict(X)\n",
    "\n",
    "print_model = model.summary()\n",
    "print(print_model)"
   ]
  },
  {
   "cell_type": "markdown",
   "id": "4cecb96a-cfdd-4ad2-b211-4f42a154839d",
   "metadata": {},
   "source": [
    "# Varhola comp test w/ snowpalm"
   ]
  },
  {
   "cell_type": "code",
   "execution_count": null,
   "id": "09786c54-0cd0-44c3-8c64-f0a98bd659a0",
   "metadata": {},
   "outputs": [],
   "source": [
    "snowpalm_df"
   ]
  },
  {
   "cell_type": "code",
   "execution_count": null,
   "id": "798284b8-3c5a-4731-b2f6-89450157b774",
   "metadata": {},
   "outputs": [],
   "source": [
    "# load into array\n",
    "ASO_0326_open_arr = raster_to_array(ASO_0326_open, -9999)\n",
    "ASO_0326_tall_arr = raster_to_array(ASO_0326_tall, -9999)\n",
    "ASO_0326_all_arr = raster_to_array(ASO_0326_all, -9999)\n",
    "ASO_delta_acc_arr = raster_to_array(ASO_delta_acc, -9999)\n",
    "ASO_delta_acc_tall_arr = raster_to_array(ASO_delta_acc_tall, -9999)\n"
   ]
  },
  {
   "cell_type": "code",
   "execution_count": null,
   "id": "46bc8a44-92bc-4743-ab42-5c50a195ccea",
   "metadata": {},
   "outputs": [],
   "source": [
    "test_df = pd.DataFrame({\n",
    "    \"elev\": DEM_arr,\n",
    "    \"nness\": nness_arr,\n",
    "    \"slope\": slope_arr,\n",
    "    \"fVeg\": fVEG_arr,\n",
    "    \"ASO_0326_open\":ASO_0326_open_arr,\n",
    "    \"ASO_0326_tall\":ASO_0326_tall_arr,\n",
    "    \"ASO_0326_all\":ASO_0326_all_arr,\n",
    "    \"ASO_delta_acc\":ASO_delta_acc_arr,\n",
    "    \"ASO_delta_acc_tall\":ASO_delta_acc_tall_arr\n",
    "})\n",
    "elev_bins_set = ([1800,2000,2100,2200,2300,2400,2800])\n",
    "nness_bins_set = ([-0.6,-0.3,0,0.3,0.6])\n",
    "fVEG_bins_set = ([0,0.25,0.5, 0.75, 1.0])\n",
    "DNC_bins_set = ([0,5,10,15,20])\n",
    "clump_bins_set = ([0, 0.5, 1, 1.5, 2])\n",
    "\n",
    "\n",
    "test_df['nness_bins'] = pd.cut(test_df['nness'], bins=nness_bins_set, right = False,include_lowest= True)\n",
    "test_df['elev_bins'] = pd.cut(test_df['elev'], bins=elev_bins_set, right = False,include_lowest= True)\n",
    "test_df['fVeg_bins'] = pd.cut(test_df['fVeg'], bins=fVEG_bins_set, right = False,include_lowest= True)\n",
    "elev_bins_arr = acc_df['elev_bins'].unique()\n",
    "nness_bins_arr = acc_df['nness_bins'].unique()"
   ]
  },
  {
   "cell_type": "code",
   "execution_count": null,
   "id": "544ca8da-c159-4c0f-a580-38bca7d298b1",
   "metadata": {},
   "outputs": [],
   "source": [
    "test_df['tall_ref'] = np.nan\n",
    "for i in range(6):\n",
    "    for j in range(5):\n",
    "        tall_all = test_df.ASO_0326_tall[(test_df['elev_bins']==elev_bins_arr[i]) & (test_df['nness_bins']==nness_bins_arr[j])]\n",
    "        tall_avg = np.nanmean(tall_all)\n",
    "        test_df.tall_ref[(test_df['elev_bins']==elev_bins_arr[i]) & (test_df['nness_bins']==nness_bins_arr[j])] = tall_avg"
   ]
  },
  {
   "cell_type": "code",
   "execution_count": null,
   "id": "bcdfc0dc-d7c5-4f30-9fca-87212eb32b03",
   "metadata": {},
   "outputs": [],
   "source": [
    "test_df['delta_acc_tallRef'] = (test_df['ASO_0326_all'] -  test_df['tall_ref'])/test_df['tall_ref']*100\n",
    "test_df['fVeg'] = -(1-test_df['fVeg'])*100"
   ]
  },
  {
   "cell_type": "code",
   "execution_count": null,
   "id": "27e9312f-ba65-4b0d-abf6-095371320b5f",
   "metadata": {},
   "outputs": [],
   "source": [
    "fVeg_SWE_scatter, axes = plt.subplots(1,1,figsize=(15, 8), sharey=False) # create a figure axis\n",
    "\n",
    "sns.scatterplot(ax=axes, data=test_df, x='fVeg', y=\"delta_acc_tallRef\", hue='ASO_0326_all',palette='Blues') #, hue = 'nness_bins'\n",
    "axes.set_title('fVeg vs. Change in Accumulation 03/26/2016', fontsize = 20)\n",
    "axes.set_xlabel('Change in Canopy', fontsize = 16)\n",
    "axes.set_ylabel('Change in Snow Accumulation (%)', fontsize = 16)\n",
    "#axes.set(ylim=(-60, 40))\n",
    "sns.lineplot(ax=axes, data=snowpalm_df, x='fVeg', y=\"delta_acc_2016\", color='k') #, hue = 'nness_bins'\n",
    "\n",
    "#axes.set_xticklabels(axes.get_xticklabels(),rotation = 45, fontsize = 12);\n",
    "plt.legend(bbox_to_anchor=(1.02, 0.55), loc='upper left', borderaxespad=0, title= 'Total SWE (cm)');\n",
    "\n",
    "#fVeg_SWE_scatter.savefig('SCB/stats/figures/fVeg_ASO_delta_SWE_scatter.png',transparent=True,bbox_inches='tight')"
   ]
  },
  {
   "cell_type": "code",
   "execution_count": null,
   "id": "aa8bc465-949e-4797-b3f2-61181a91f994",
   "metadata": {},
   "outputs": [],
   "source": [
    "test_df['fVeg_avg'] = round(test_df.fVeg,2)"
   ]
  },
  {
   "cell_type": "code",
   "execution_count": null,
   "id": "e4d3a5a2-50a4-48aa-a746-f12632ab81be",
   "metadata": {},
   "outputs": [],
   "source": [
    "test_avg_df = test_df.groupby('fVeg_avg').mean()"
   ]
  },
  {
   "cell_type": "code",
   "execution_count": null,
   "id": "d12df66b-4362-4c48-a021-d320b934faae",
   "metadata": {},
   "outputs": [],
   "source": [
    "fVeg_SWE_scatter, axes = plt.subplots(1,1,figsize=(15, 8), sharey=False) # create a figure axis\n",
    "\n",
    "sns.scatterplot(ax=axes, data=test_avg_df, x='fVeg', y=\"delta_acc_tallRef\", hue='ASO_0326_all',palette='Blues') #, hue = 'nness_bins'\n",
    "axes.set_title('fVeg vs. Change in Accumulation 03/26/2016', fontsize = 20)\n",
    "axes.set_xlabel('Change in Canopy', fontsize = 16)\n",
    "axes.set_ylabel('Change in Snow Accumulation (%)', fontsize = 16)\n",
    "#axes.set(ylim=(-60, 40))\n",
    "sns.lineplot(ax=axes, data=snowpalm_df, x='fVeg', y=\"delta_acc_2016\", color='k') #, hue = 'nness_bins'\n",
    "\n",
    "#axes.set_xticklabels(axes.get_xticklabels(),rotation = 45, fontsize = 12);\n",
    "plt.legend(bbox_to_anchor=(1.02, 0.55), loc='upper left', borderaxespad=0, title= 'Total SWE (cm)');\n",
    "\n",
    "#fVeg_SWE_scatter.savefig('SCB/stats/figures/fVeg_ASO_delta_SWE_scatter.png',transparent=True,bbox_inches='tight')"
   ]
  },
  {
   "cell_type": "code",
   "execution_count": null,
   "id": "967d82a1-1571-40fb-a989-10066b4fde02",
   "metadata": {},
   "outputs": [],
   "source": []
  }
 ],
 "metadata": {
  "kernelspec": {
   "display_name": "Python 3 (ipykernel)",
   "language": "python",
   "name": "python3"
  },
  "language_info": {
   "codemirror_mode": {
    "name": "ipython",
    "version": 3
   },
   "file_extension": ".py",
   "mimetype": "text/x-python",
   "name": "python",
   "nbconvert_exporter": "python",
   "pygments_lexer": "ipython3",
   "version": "3.9.7"
  }
 },
 "nbformat": 4,
 "nbformat_minor": 5
}
