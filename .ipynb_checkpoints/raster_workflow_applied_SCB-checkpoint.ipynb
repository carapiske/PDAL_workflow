{
 "cells": [
  {
   "cell_type": "markdown",
   "id": "6c02ac40-bcd0-4a7d-ab54-887f67ec64de",
   "metadata": {},
   "source": [
    "# Raster Processing Workflow\n",
    "**Cara Piske, Graduate Program of Hydrologic Sciences, 2022; Advisor: Dr. Adrian Harpold**<br>\n",
    "<p>This code processes rasterized LAS files. <br>\n",
    "Lidar data were provided by the Airborne Snow Observatory (ASO), the National Center for Airborne Laser Mapping (NCALM), and Watershed Sciences Inc. (WSI). <br>\n",
    "\n",
    "The goal of this project is to process snow depth to the one-meter spatial scale while maintaining conservative under-canopy estimates. Therefore, little interpolation occurs under-canopy. We follow these protocols in order to obtain a 1-m rasterized product (as opposed to the 3-m rasterized product provided by ASO on the NSIDC data portal). NCALM and WSI flights were obtained through OpenTopography."
   ]
  },
  {
   "cell_type": "code",
   "execution_count": 8,
   "id": "097a3023-fb59-475e-8a2a-48874bb93620",
   "metadata": {},
   "outputs": [],
   "source": [
    "\n",
    "# import necessary packages \n",
    "from osgeo import gdal, ogr, osr\n",
    "import csv\n",
    "import os\n",
    "import subprocess\n",
    "import sys\n",
    "import pdal\n",
    "import matplotlib.pyplot as plt\n",
    "import numpy as np\n",
    "import json\n",
    "import glob\n",
    "import time\n",
    "import pandas as pd\n",
    "import seaborn as sns\n",
    "from sklearn import linear_model\n",
    "from sklearn.metrics import mean_squared_error, r2_score\n",
    "import subprocess\n",
    "import statsmodels.api as sm\n",
    "\n",
    "# competing paths on our PC \n",
    "gdal_merge = os.path.join('C:\\\\','Users','cpiske','.conda','envs','lidar','Lib','site-packages','osgeo_utils','gdal_merge.py')\n",
    "gdal_calc = os.path.join('C:\\\\','Users','cpiske','.conda','envs','lidar','Lib','site-packages','osgeo_utils','gdal_calc.py')\n",
    "gdal_warp = os.path.join('C:\\\\','Users','cpiske','.conda','envs','lidar','Lib','site-packages','osgeo_utils','gdal_warp.py')\n",
    "gdal_edit = os.path.join('C:\\\\','Users','cpiske','.conda','envs','lidar','Lib','site-packages','osgeo_utils','gdal_edit.py')\n",
    "gdal_polygonize = os.path.join('C:\\\\','Users','cpiske','.conda','envs','lidar','Lib','site-packages','osgeo_utils','gdal_polygonize.py')\n",
    "gdal_proximity = os.path.join('C:\\\\','Users','cpiske','.conda','envs','lidar','Lib','site-packages','osgeo_utils','gdal_proximity.py')"
   ]
  },
  {
   "cell_type": "code",
   "execution_count": 9,
   "id": "41496622-3e24-43d8-a372-2d2c70156f6c",
   "metadata": {},
   "outputs": [
    {
     "name": "stdout",
     "output_type": "stream",
     "text": [
      "G:\\\n"
     ]
    }
   ],
   "source": [
    "#make sure we're in the right working directory\n",
    "os.chdir('/')\n",
    "print(os.getcwd())"
   ]
  },
  {
   "cell_type": "code",
   "execution_count": 10,
   "id": "2bb793db-ae3b-4942-8e95-32ef83e377ea",
   "metadata": {},
   "outputs": [],
   "source": [
    "writers_bounds = ['730235.96', '4364741.66', '738826.9599999999627471', '4372273.16']"
   ]
  },
  {
   "cell_type": "markdown",
   "id": "0653e6f5-8d3e-4bfa-884e-19b51db23a72",
   "metadata": {},
   "source": [
    "## Classify DEM"
   ]
  },
  {
   "cell_type": "markdown",
   "id": "ca4fe84e-dbd4-45fa-8e68-49dbb8cc1166",
   "metadata": {},
   "source": [
    "### Slope and Aspect"
   ]
  },
  {
   "cell_type": "code",
   "execution_count": 8,
   "id": "fd7e7631-c4a4-4b5b-aebf-fb97d3b26339",
   "metadata": {},
   "outputs": [
    {
     "data": {
      "text/plain": [
       "CompletedProcess(args=['gdaldem', 'aspect', 'SCB/Sagehen_lidar/NCALM/NCALM_SCB_2014/DEM/SCB/NCALM_2014_BE.tif', 'SCB/Sagehen_lidar/NCALM/NCALM_SCB_2014/DEM/SCB/NCALM_2014_aspect.tif'], returncode=0)"
      ]
     },
     "execution_count": 8,
     "metadata": {},
     "output_type": "execute_result"
    }
   ],
   "source": [
    "DEM = 'SCB/Sagehen_lidar/NCALM/NCALM_SCB_2014/DEM/SCB/NCALM_2014_BE.tif'\n",
    "slope = 'SCB/Sagehen_lidar/NCALM/NCALM_SCB_2014/DEM/SCB/NCALM_2014_slope.tif'\n",
    "aspect = 'SCB/Sagehen_lidar/NCALM/NCALM_SCB_2014/DEM/SCB/NCALM_2014_aspect.tif'\n",
    "# gdal_terrain_cmd = ['gdaldem', 'slope', DEM, slope]\n",
    "# subprocess.run(gdal_terrain_cmd)\n",
    "# gdal_terrain_cmd = ['gdaldem', 'aspect', DEM, aspect]\n",
    "# subprocess.run(gdal_terrain_cmd)"
   ]
  },
  {
   "cell_type": "markdown",
   "id": "28d60b0a-3194-46ac-a931-c37eabd73068",
   "metadata": {},
   "source": [
    "### Northness / Eastness"
   ]
  },
  {
   "cell_type": "code",
   "execution_count": 9,
   "id": "ef713559-ccc4-4ef4-ab4e-2efbe42ea98e",
   "metadata": {},
   "outputs": [],
   "source": [
    "nness = 'SCB/Sagehen_lidar/NCALM/NCALM_SCB_2014/DEM/SCB/NCALM_2014_Nness.tif'\n",
    "eness = 'SCB/Sagehen_lidar/NCALM/NCALM_SCB_2014/DEM/SCB/NCALM_2014_Eness.tif'"
   ]
  },
  {
   "cell_type": "code",
   "execution_count": 10,
   "id": "b4470350-cf1d-4413-ab56-d8e26960fa28",
   "metadata": {},
   "outputs": [],
   "source": [
    "# open slope and aspect as arrays\n",
    "slope_ras = gdal.Open(slope) # open the file \n",
    "aspect_ras = gdal.Open(aspect) # open the file \n",
    "# save spatial data\n",
    "gt = slope_ras.GetGeoTransform()\n",
    "proj = slope_ras.GetProjection()\n",
    "\n",
    "slope_arr = slope_ras.GetRasterBand(1).ReadAsArray() #read the first raster band (in this case we know we are only working with single bands) and read to a 2D array\n",
    "aspect_arr = aspect_ras.GetRasterBand(1).ReadAsArray() #read the first raster band (in this case we know we are only working with single bands) and read to a 2D array\n",
    "\n",
    "slope_ras = aspect_ras = None # close rasters"
   ]
  },
  {
   "cell_type": "code",
   "execution_count": 367,
   "id": "efd46c64-d8fa-47dc-8ace-f31eeffa5d1f",
   "metadata": {},
   "outputs": [],
   "source": [
    "# Manipulate rasters and run raster calculations\n",
    "slope_arr[slope_arr == -9999] = np.nan # assign nans \n",
    "aspect_arr[aspect_arr == -9999] = np.nan\n",
    "\n",
    "slope_rad = np.radians(slope_arr) # convert degrees to radians\n",
    "aspect_rad = np.radians(aspect_arr)\n",
    "\n",
    "# see Tennant et al.(cos(aspect)*slope), 2017; Kirchner et al., 2014 (cos(aspect)*sin(slope)); Safa et al. (cos(aspect)*sin(slope), 2020; Molotch et al., 2004 (cos(aspect)*sin(slope)); Broxton et al, (calculated differently)\n",
    "northness_arr = np.cos(aspect_rad)*np.sin(slope_rad) # calculate northness\n",
    "eastness_arr = np.sin(aspect_rad)*np.sin(slope_rad) # calculate northness"
   ]
  },
  {
   "cell_type": "code",
   "execution_count": 12,
   "id": "41fdf2a8-24c7-49c8-a626-8d61ba045e19",
   "metadata": {},
   "outputs": [],
   "source": [
    "# plot\n",
    "cos_aspect = np.cos(aspect_rad)\n",
    "aspect_slope_df = pd.DataFrame({'aspect_cos':cos_aspect.flatten(),'aspect':aspect_arr.flatten(), 'slope':slope_arr.flatten(),'nness':northness_arr.flatten()})\n",
    "aspect_slope_df = aspect_slope_df.dropna()\n",
    "aspect_slope_df.slope = round(aspect_slope_df.slope)\n",
    "aspect_slope_df_group = aspect_slope_df.groupby(['slope']).mean()"
   ]
  },
  {
   "cell_type": "code",
   "execution_count": null,
   "id": "c4d70ac2-9bf5-4847-9b54-fba8601bcc6c",
   "metadata": {},
   "outputs": [],
   "source": [
    "# g = sns.scatterplot(data=aspect_slope_df, x='aspect_cos',y='nness')\n",
    "# #g.set(xlim=(0, 30))\n"
   ]
  },
  {
   "cell_type": "code",
   "execution_count": 369,
   "id": "f8df3411-0a1c-48ae-bfa8-ce195de6715a",
   "metadata": {},
   "outputs": [],
   "source": [
    "# save to raster\n",
    "# export\n",
    "driver = gdal.GetDriverByName(\"GTiff\")\n",
    "driver.Register()\n",
    "outds = driver.Create(nness, xsize = northness_arr.shape[1],\n",
    "                      ysize = northness_arr.shape[0], bands = 1, \n",
    "                      eType = gdal.GDT_Float32)\n",
    "outds.SetGeoTransform(gt)\n",
    "outds.SetProjection(proj)\n",
    "outband = outds.GetRasterBand(1)\n",
    "outband.WriteArray(northness_arr)\n",
    "outband.SetNoDataValue(np.nan)\n",
    "outband.FlushCache()\n",
    "\n",
    "# close your datasets and bands!!!\n",
    "outband = None\n",
    "outds = None"
   ]
  },
  {
   "cell_type": "markdown",
   "id": "a199e4d2-8a15-401c-a6df-46aa80d9fb41",
   "metadata": {},
   "source": [
    "### Crop and Filter"
   ]
  },
  {
   "cell_type": "code",
   "execution_count": 356,
   "id": "eb6d5e43-e50c-4ca9-bb3d-edd2e89e6653",
   "metadata": {},
   "outputs": [],
   "source": [
    "DEM_30 = 'SCB/Sagehen_lidar/NCALM/NCALM_SCB_2014/DEM/SCB/NCALM_2014_BE_30m.tif'\n",
    "nness_30 = 'SCB/Sagehen_lidar/NCALM/NCALM_SCB_2014/DEM/SCB/NCALM_2014_Nness_30m.tif'\n",
    "slope_30 = 'SCB/Sagehen_lidar/NCALM/NCALM_SCB_2014/DEM/SCB/NCALM_2014_slope_30m.tif'\n",
    "aspect_30 = 'SCB/Sagehen_lidar/NCALM/NCALM_SCB_2014/DEM/SCB/NCALM_2014_aspect_30m.tif'\n",
    "eness_30 = 'SCB/Sagehen_lidar/NCALM/NCALM_SCB_2014/DEM/SCB/NCALM_2014_Eness_30m.tif'\n",
    "\n",
    "DEM_SCB = 'SCB/Sagehen_lidar/NCALM/NCALM_SCB_2014/DEM/SCB/NCALM_2014_BE.tif'\n",
    "nness_SCB = 'SCB/Sagehen_lidar/NCALM/NCALM_SCB_2014/DEM/SCB/NCALM_2014_Nness.tif'\n",
    "slope_SCB = 'SCB/Sagehen_lidar/NCALM/NCALM_SCB_2014/DEM/SCB/NCALM_2014_slope.tif'\n",
    "aspect_SCB = 'SCB/Sagehen_lidar/NCALM/NCALM_SCB_2014/DEM/SCB/NCALM_2014_aspect.tif'\n",
    "eness_SCB = 'SCB/Sagehen_lidar/NCALM/NCALM_SCB_2014/DEM/SCB/NCALM_2014_Eness.tif'\n",
    "\n",
    "slope_LT30 = 'SCB/Sagehen_lidar/NCALM/NCALM_SCB_2014/DEM/SCB/NCALM_2014_slope_LT30.tif'"
   ]
  },
  {
   "cell_type": "code",
   "execution_count": 358,
   "id": "f77a961e-8e23-41bf-a9b6-b78897221907",
   "metadata": {},
   "outputs": [
    {
     "data": {
      "text/plain": [
       "'SCB/Sagehen_lidar/NCALM/NCALM_SCB_2014/DEM/SCB/NCALM_2014_slope.tif'"
      ]
     },
     "execution_count": 358,
     "metadata": {},
     "output_type": "execute_result"
    }
   ],
   "source": [
    "slope"
   ]
  },
  {
   "cell_type": "code",
   "execution_count": 359,
   "id": "0286c418-bd1b-4e30-92e1-cb821bc5782d",
   "metadata": {},
   "outputs": [
    {
     "data": {
      "text/plain": [
       "CompletedProcess(args=['python', 'C:\\\\Users\\\\cpiske\\\\.conda\\\\envs\\\\lidar\\\\Lib\\\\site-packages\\\\osgeo_utils\\\\gdal_calc.py', '-A', 'SCB/Sagehen_lidar/NCALM/NCALM_SCB_2014/DEM/SCB/NCALM_2014_slope.tif', '--NoDataValue', '0', '--outfile', 'SCB/Sagehen_lidar/NCALM/NCALM_SCB_2014/DEM/SCB/NCALM_2014_slope_LT30.tif', '--calc=\"A<=30\"', '--overwrite'], returncode=0)"
      ]
     },
     "execution_count": 359,
     "metadata": {},
     "output_type": "execute_result"
    }
   ],
   "source": [
    "# filter slopes < 30, important in this case that nodata = 0 because we later multiply by snow depth\n",
    "slope_cmd = ['python', gdal_calc, '-A', slope, '--NoDataValue','0',\n",
    " '--outfile', slope_LT30, '--calc=\"A<=30\"','--overwrite']\n",
    "subprocess.run(slope_cmd)"
   ]
  },
  {
   "cell_type": "code",
   "execution_count": 354,
   "id": "1e909a9e-28a6-439e-be0b-869fdd43f326",
   "metadata": {},
   "outputs": [],
   "source": [
    "input_list = [DEM, nness, slope, aspect, eness]"
   ]
  },
  {
   "cell_type": "code",
   "execution_count": 365,
   "id": "a5c69e04-b46a-41f2-be38-b71867330508",
   "metadata": {},
   "outputs": [
    {
     "data": {
      "text/plain": [
       "['SCB/Sagehen_lidar/NCALM/NCALM_SCB_2014/DEM/SCB/NCALM_2014_BE_30m.tif',\n",
       " 'SCB/Sagehen_lidar/NCALM/NCALM_SCB_2014/DEM/SCB/NCALM_2014_Nness_30m.tif',\n",
       " 'SCB/Sagehen_lidar/NCALM/NCALM_SCB_2014/DEM/SCB/NCALM_2014_slope_30m.tif',\n",
       " 'SCB/Sagehen_lidar/NCALM/NCALM_SCB_2014/DEM/SCB/NCALM_2014_aspect_30m.tif',\n",
       " 'SCB/Sagehen_lidar/NCALM/NCALM_SCB_2014/DEM/SCB/NCALM_2014_Eness_30m.tif']"
      ]
     },
     "execution_count": 365,
     "metadata": {},
     "output_type": "execute_result"
    }
   ],
   "source": [
    "resamp_list"
   ]
  },
  {
   "cell_type": "code",
   "execution_count": 370,
   "id": "d6c590cf-0bae-4917-b567-f69bac4d7ece",
   "metadata": {},
   "outputs": [],
   "source": [
    "# # if tifs don't need to be cropped\n",
    "# now filter out water bodies\n",
    "input_list = [DEM_SCB, nness_SCB, slope_SCB, aspect_SCB, eness_SCB]\n",
    "resamp_list = [DEM_30, nness_30, slope_30, aspect_30, eness_30, ]\n",
    "\n",
    "for i in range(len(input_list)):\n",
    "    # filter out water bodies\n",
    "    input_shp = 'SCB/supporting_files/masks/NHDWaterbody_2018_EPSG6339.shp'\n",
    "    burn_command = ['gdal_rasterize', '-b', '1', '-burn', '-9999', input_shp, input_list[i]]\n",
    "    subprocess.call(burn_command)\n",
    "    # crop to SCB\n",
    "    # warp_cmd = [\"gdalwarp\",\"-overwrite\", input_list[i], crop_list[i], \"-te\", '730235.96', '4364741.66', '738826.9599999999627471', '4372273.16', '-tr','1','1','-dstnodata','-9999']\n",
    "    # subprocess.call(warp_cmd)\n",
    "    # resample cropped rasters\n",
    "    warp_cmd = [\"gdalwarp\",\"-overwrite\", input_list[i], resamp_list[i], \"-te\", '730235.96', '4364741.66', '738826.9599999999627471', '4372273.16', '-tr','30','30','-dstnodata','-9999']\n",
    "    subprocess.call(warp_cmd)"
   ]
  },
  {
   "cell_type": "code",
   "execution_count": null,
   "id": "f93c37e7-f2d3-49f5-b352-590ca90471ad",
   "metadata": {},
   "outputs": [],
   "source": [
    "# # if tifs need to be cropped\n",
    "# now filter out water bodies\n",
    "input_list = [DEM, nness, slope, aspect, eness]\n",
    "crop_list = [DEM_SCB, nness_SCB, slope_SCB, aspect_SCB, eness_SCB]\n",
    "resamp_list = [DEM_30, nness_30, slope_30, aspect_30, eness_30, ]\n",
    "\n",
    "for i in range(len(input_list)):\n",
    "    # filter out water bodies\n",
    "    input_shp = 'SCB/supporting_files/masks/NHDWaterbody_2018_EPSG6339.shp'\n",
    "    burn_command = ['gdal_rasterize', '-b', '1', '-burn', '-9999', input_shp, input_list[i]]\n",
    "    subprocess.call(burn_command)\n",
    "    # crop to SCB\n",
    "    warp_cmd = [\"gdalwarp\",\"-overwrite\", input_list[i], crop_list[i], \"-te\", '730235.96', '4364741.66', '738826.9599999999627471', '4372273.16', '-tr','1','1','-dstnodata','-9999']\n",
    "    subprocess.call(warp_cmd)\n",
    "    # resample cropped rasters\n",
    "    warp_cmd = [\"gdalwarp\",\"-overwrite\", crop_list[i], resamp_list[i], \"-te\", '730235.96', '4364741.66', '738826.9599999999627471', '4372273.16', '-tr','30','30','-dstnodata','-9999']\n",
    "    subprocess.call(warp_cmd)"
   ]
  },
  {
   "cell_type": "code",
   "execution_count": null,
   "id": "280b0164-2238-4e78-903b-e983e678d41c",
   "metadata": {},
   "outputs": [],
   "source": [
    "# # now filter out water bodies\n",
    "# input_shp = 'SCB/supporting_files/masks/NHDWaterbody_2018_EPSG6339.shp'\n",
    "# burn_command = ['gdal_rasterize', '-b', '1', '-burn', '-9999', input_shp, output_tif]\n",
    "# subprocess.call(burn_command)"
   ]
  },
  {
   "cell_type": "markdown",
   "id": "8fe0d24c-08e0-4ab9-90bd-11b4f1dd7aaf",
   "metadata": {
    "tags": []
   },
   "source": [
    "## Classify Vegetation\n",
    "We use vegetation classifications based on specific strata. See: https://docs.google.com/document/d/1-HndVgydwBWQGCzLMCvowkY_Idll0IDog-vd3OrTiio/edit?usp=sharing"
   ]
  },
  {
   "cell_type": "code",
   "execution_count": 112,
   "id": "69985d36-a987-48b0-bc34-8c84a19e8ae7",
   "metadata": {
    "tags": []
   },
   "outputs": [],
   "source": [
    "# Number of Returns in each HAG strata\n",
    "strata_neg0pt15_0pt15 = 'SCB/Sagehen_lidar/NCALM/NCALM_SCB_2014/canopy_metrics/veg_height_strata/vegStrata_neg0pt15_0pt15.tif'\n",
    "strata_0pt15_1pt5 = 'SCB/Sagehen_lidar/NCALM/NCALM_SCB_2014/canopy_metrics/veg_height_strata/vegStrata_0pt15_1pt5.tif'\n",
    "strata_1pt5_3 = 'SCB/Sagehen_lidar/NCALM/NCALM_SCB_2014/canopy_metrics/veg_height_strata/vegStrata_1pt5_3.tif'\n",
    "strata_3 = 'SCB/Sagehen_lidar/NCALM/NCALM_SCB_2014/canopy_metrics/veg_height_strata/vegStrata_3.tif'\n",
    "# Filter based off criteria for vegetation classes, files are binary\n",
    "counts_filtered_path = 'SCB/Sagehen_lidar/NCALM/NCALM_SCB_2014/canopy_metrics/veg_height_strata/counts_filtered/'\n",
    "strata_neg0pt15_0pt15_GT0 = counts_filtered_path + 'strata_neg0pt15_0pt15_GT0.tif'\n",
    "strata_neg0pt15_0pt15_GTET0 = counts_filtered_path + 'strata_neg0pt15_0pt15_GTET0.tif'\n",
    "strata_0pt15_1pt5_GT0 = counts_filtered_path + 'strata_0pt15_1pt5_GT0.tif'\n",
    "strata_0pt15_1pt5_ET0 = counts_filtered_path + 'strata_0pt15_1pt5_ET0.tif'\n",
    "strata_1pt5_3_ET0 = counts_filtered_path + 'strata_1pt5_3_ET0.tif'\n",
    "strata_3_GT0 = counts_filtered_path + 'strata_3_GT0.tif'\n",
    "strata_3_ET0 = counts_filtered_path + 'strata_3_ET0.tif'\n",
    "\n",
    "# Vegetation Classes, files are binary\n",
    "ncalm_open = 'SCB/Sagehen_lidar/NCALM/NCALM_SCB_2014/canopy_metrics/veg_classes/NCALM_SCB_2014_open.tif'\n",
    "ncalm_tall = 'SCB/Sagehen_lidar/NCALM/NCALM_SCB_2014/canopy_metrics/veg_classes/NCALM_SCB_2014_tall.tif'\n",
    "ncalm_short = 'SCB/Sagehen_lidar/NCALM/NCALM_SCB_2014/canopy_metrics/veg_classes/NCALM_SCB_2014_short.tif'\n",
    "ncalm_understory = 'SCB/Sagehen_lidar/NCALM/NCALM_SCB_2014/canopy_metrics/veg_classes/NCALM_SCB_2014_understory.tif'\n",
    "\n",
    "# ncalm_open_nan9999 = 'SCB/Sagehen_lidar/NCALM/NCALM_SCB_2014/canopy_metrics/veg_classes/nodata_9999/NCALM_SCB_2014_open.tif'\n",
    "# ncalm_tall_nan9999 = 'SCB/Sagehen_lidar/NCALM/NCALM_SCB_2014/canopy_metrics/veg_classes/nodata_9999/NCALM_SCB_2014_tall.tif'\n",
    "# ncalm_short_nan9999 = 'SCB/Sagehen_lidar/NCALM/NCALM_SCB_2014/canopy_metrics/veg_classes/nodata_9999/NCALM_SCB_2014_short.tif'\n",
    "# ncalm_understory_nan9999 = 'SCB/Sagehen_lidar/NCALM/NCALM_SCB_2014/canopy_metrics/veg_classes/nodata_9999/NCALM_SCB_2014_understory.tif'\n",
    "\n",
    "ncalm_short_HAG = 'SCB/Sagehen_lidar/NCALM/NCALM_SCB_2014/canopy_metrics/veg_classes/NCALM_SCB_2014_short_HAG.tif'\n",
    "ncalm_understory_HAG = 'SCB/Sagehen_lidar/NCALM/NCALM_SCB_2014/canopy_metrics/veg_classes/NCALM_SCB_2014_understory_HAG.tif'\n",
    "\n",
    "CHM_LT1pt5 = 'SCB/Sagehen_lidar/NCALM/NCALM_SCB_2014/canopy_metrics/veg_structure/CHM/NCALM_2014_CHM_LT1pt5.tif'\n",
    "CHM = 'SCB/Sagehen_lidar/NCALM/NCALM_SCB_2014/canopy_metrics/veg_structure/CHM/NCALM_2014_CHM_max.tif'\n",
    "\n",
    "# veg_OpenTall = 'SCB/Sagehen_lidar/NCALM/NCALM_SCB_2014/veg_strata/NCALM_SCB_2014_tallORopen.tif'\n",
    "# veg_total = 'SCB/Sagehen_lidar/NCALM/NCALM_SCB_2014/veg_strata/NCALM_SCB_2014_shortORtallORopen.tif'\n",
    "ncalm_tallORunderstory = 'SCB/Sagehen_lidar/NCALM/NCALM_SCB_2014/canopy_metrics/veg_classes/NCALM_SCB_2014_tallORunderstory.tif'\n",
    "ncalm_openORshort = 'SCB/Sagehen_lidar/NCALM/NCALM_SCB_2014/canopy_metrics/veg_classes/NCALM_SCB_2014_openORshort.tif'\n",
    "\n",
    "veg_classified = 'SCB/Sagehen_lidar/NCALM/NCALM_SCB_2014/canopy_metrics/veg_classes/NCALM_SCB_2014_vegClassified.tif'"
   ]
  },
  {
   "cell_type": "markdown",
   "id": "dc567f29-51ed-41c3-899d-fd7b288de314",
   "metadata": {},
   "source": [
    "We'll start off by looking at the number of returns in each height strata and filtering based off of our criteria. <br>"
   ]
  },
  {
   "cell_type": "code",
   "execution_count": null,
   "id": "c946dbca-77ee-4559-9616-3106ed909cf4",
   "metadata": {},
   "outputs": [],
   "source": [
    "# nor_filtered_cmd_a = ['python', gdal_calc, '-A', strata_neg0pt15_0pt15, '--outfile', strata_neg0pt15_0pt15_GT0, '--calc=\"A>0\"','--overwrite']\n",
    "# nor_filtered_cmd_b = ['python', gdal_calc, '-A', strata_neg0pt15_0pt15, '--outfile', strata_neg0pt15_0pt15_GTET0, '--calc=\"A>=0\"','--overwrite']\n",
    "# nor_filtered_cmd_c = ['python', gdal_calc, '-A', strata_0pt15_1pt5, '--outfile', strata_0pt15_1pt5_GT0, '--calc=\"A>0\"','--overwrite']\n",
    "# nor_filtered_cmd_d = ['python', gdal_calc, '-A', strata_0pt15_1pt5, '--outfile', strata_0pt15_1pt5_ET0, '--calc=\"A==0\"','--overwrite']\n",
    "# nor_filtered_cmd_e = ['python', gdal_calc, '-A', strata_1pt5_3, '--outfile', strata_1pt5_3_ET0, '--calc=\"A==0\"','--overwrite']\n",
    "# nor_filtered_cmd_f = ['python', gdal_calc, '-A', strata_3, '--outfile', strata_3_ET0, '--calc=\"A==0\"','--overwrite']\n",
    "# nor_filtered_cmd_g = ['python', gdal_calc, '-A', strata_3, '--outfile', strata_3_GT0, '--calc=\"A>0\"','--overwrite']\n",
    "\n",
    "# subprocess.run(nor_filtered_cmd_e)\n",
    "# subprocess.run(nor_filtered_cmd_f)\n",
    "# subprocess.run(nor_filtered_cmd_g)"
   ]
  },
  {
   "cell_type": "markdown",
   "id": "7b750455-c1ca-4970-ab8b-304031b57304",
   "metadata": {},
   "source": [
    "### Open, Tall, Short Veg, Understory\n",
    "After filtering based of strata criteria, we can classify the snow-off flight into vegetation classifications. <br> \n"
   ]
  },
  {
   "cell_type": "code",
   "execution_count": 113,
   "id": "2f121da8-d782-4585-ab71-e39df96b4b9d",
   "metadata": {},
   "outputs": [
    {
     "data": {
      "text/plain": [
       "CompletedProcess(args=['python', 'C:\\\\Users\\\\cpiske\\\\.conda\\\\envs\\\\lidar\\\\Lib\\\\site-packages\\\\osgeo_utils\\\\gdal_calc.py', '-A', 'SCB/Sagehen_lidar/NCALM/NCALM_SCB_2014/canopy_metrics/veg_height_strata/counts_filtered/strata_neg0pt15_0pt15_GTET0.tif', '-B', 'SCB/Sagehen_lidar/NCALM/NCALM_SCB_2014/canopy_metrics/veg_height_strata/counts_filtered/strata_0pt15_1pt5_GT0.tif', '-C', 'SCB/Sagehen_lidar/NCALM/NCALM_SCB_2014/canopy_metrics/veg_height_strata/counts_filtered/strata_1pt5_3_ET0.tif', '-D', 'SCB/Sagehen_lidar/NCALM/NCALM_SCB_2014/canopy_metrics/veg_height_strata/counts_filtered/strata_3_GT0.tif', '--NoDataValue', '0', '--outfile', 'SCB/Sagehen_lidar/NCALM/NCALM_SCB_2014/canopy_metrics/veg_classes/NCALM_SCB_2014_understory.tif', '--calc=\"A*B*C*D\"', '--overwrite'], returncode=0)"
      ]
     },
     "execution_count": 113,
     "metadata": {},
     "output_type": "execute_result"
    }
   ],
   "source": [
    "# it's necessary for the NaN to be 0 here because we eventually multiply these rasters by snow rasters and \n",
    "# we don't want artificial 0's\n",
    "open_cmd = ['python', gdal_calc, '-A', strata_neg0pt15_0pt15_GT0, '-B', strata_0pt15_1pt5_ET0,'-C',strata_1pt5_3_ET0,'-D',strata_3_ET0,'--NoDataValue','0',\n",
    " '--outfile', ncalm_open, '--calc=\"A*B*C*D\"','--overwrite']\n",
    "subprocess.run(open_cmd)\n",
    "\n",
    "tall_cmd = ['python', gdal_calc, '-A', strata_neg0pt15_0pt15_GTET0, '-B', strata_0pt15_1pt5_ET0,'-C',strata_1pt5_3_ET0,'-D',strata_3_GT0,'--NoDataValue','0',\n",
    " '--outfile', ncalm_tall, '--calc=\"A*B*C*D\"','--overwrite']\n",
    "subprocess.run(tall_cmd)\n",
    "\n",
    "short_cmd = ['python', gdal_calc, '-A', strata_neg0pt15_0pt15_GTET0, '-B', strata_0pt15_1pt5_GT0,'-C',strata_1pt5_3_ET0,'-D',strata_3_ET0,'--NoDataValue','0',\n",
    " '--outfile', ncalm_short, '--calc=\"A*B*C*D\"','--overwrite']\n",
    "subprocess.run(short_cmd)\n",
    "\n",
    "understory_cmd = ['python', gdal_calc, '-A', strata_neg0pt15_0pt15_GTET0, '-B', strata_0pt15_1pt5_GT0,'-C',strata_1pt5_3_ET0,'-D',strata_3_GT0,'--NoDataValue','0',\n",
    " '--outfile', ncalm_understory, '--calc=\"A*B*C*D\"','--overwrite']\n",
    "subprocess.run(understory_cmd)"
   ]
  },
  {
   "cell_type": "code",
   "execution_count": null,
   "id": "3245ef57-c58a-42dd-98eb-56ed76c6ad62",
   "metadata": {},
   "outputs": [],
   "source": [
    "# # Not necessary\n",
    "# # now we want nan to be -9999\n",
    "# open_cmd = ['python', gdal_calc, '-A', strata_neg0pt15_0pt15_GT0, '-B', strata_0pt15_1pt5_ET0,'-C',strata_1pt5_3_ET0,'-D',strata_3_ET0,'--NoDataValue','-9999',\n",
    "#  '--outfile', ncalm_open_nan9999, '--calc=\"A*B*C*D\"','--overwrite']\n",
    "# subprocess.run(open_cmd)\n",
    "\n",
    "# tall_cmd = ['python', gdal_calc, '-A', strata_neg0pt15_0pt15_GTET0, '-B', strata_0pt15_1pt5_ET0,'-C',strata_1pt5_3_ET0,'-D',strata_3_GT0,'--NoDataValue','-9999',\n",
    "#  '--outfile', ncalm_tall_nan9999, '--calc=\"A*B*C*D\"','--overwrite']\n",
    "# subprocess.run(tall_cmd)\n",
    "\n",
    "# short_cmd = ['python', gdal_calc, '-A', strata_neg0pt15_0pt15_GTET0, '-B', strata_0pt15_1pt5_GT0,'-C',strata_1pt5_3_ET0,'-D',strata_3_ET0,'--NoDataValue','-9999',\n",
    "#  '--outfile', ncalm_short_nan9999, '--calc=\"A*B*C*D\"','--overwrite']\n",
    "# subprocess.run(short_cmd)\n",
    "\n",
    "# understory_cmd = ['python', gdal_calc, '-A', strata_neg0pt15_0pt15_GTET0, '-B', strata_0pt15_1pt5_GT0,'-C',strata_1pt5_3_ET0,'-D',strata_3_GT0,'--NoDataValue','-9999',\n",
    "#  '--outfile', ncalm_understory_nan9999, '--calc=\"A*B*C*D\"','--overwrite']\n",
    "# subprocess.run(understory_cmd)"
   ]
  },
  {
   "cell_type": "markdown",
   "id": "669673eb-2783-4cd6-ac83-cb4e162fd81a",
   "metadata": {},
   "source": [
    "Now let's extract the HAG values at potential short/understory locations"
   ]
  },
  {
   "cell_type": "code",
   "execution_count": 114,
   "id": "4488fcfb-5f05-428d-aed6-6ae914ab8ea2",
   "metadata": {},
   "outputs": [
    {
     "data": {
      "text/plain": [
       "CompletedProcess(args=['python', 'C:\\\\Users\\\\cpiske\\\\.conda\\\\envs\\\\lidar\\\\Lib\\\\site-packages\\\\osgeo_utils\\\\gdal_calc.py', '-A', 'SCB/Sagehen_lidar/NCALM/NCALM_SCB_2014/canopy_metrics/veg_classes/NCALM_SCB_2014_understory.tif', '-B', 'SCB/Sagehen_lidar/NCALM/NCALM_SCB_2014/canopy_metrics/veg_structure/CHM/NCALM_2014_CHM_LT1pt5.tif', '--NoDataValue', '-9999', '--outfile', 'SCB/Sagehen_lidar/NCALM/NCALM_SCB_2014/canopy_metrics/veg_classes/NCALM_SCB_2014_understory_HAG.tif', '--calc=\"B*A\"', '--overwrite'], returncode=0)"
      ]
     },
     "execution_count": 114,
     "metadata": {},
     "output_type": "execute_result"
    }
   ],
   "source": [
    "short_cmd = ['python', gdal_calc, '-A', ncalm_short, '-B', CHM_LT1pt5,\n",
    " '--outfile', ncalm_short_HAG, '--calc=\"B*A\"','--overwrite','--NoDataValue','-9999']\n",
    "subprocess.run(short_cmd)\n",
    "\n",
    "understory_cmd = ['python', gdal_calc, '-A', ncalm_understory, '-B', CHM_LT1pt5,'--NoDataValue','-9999',\n",
    " '--outfile', ncalm_understory_HAG, '--calc=\"B*A\"','--overwrite']\n",
    "subprocess.run(understory_cmd)"
   ]
  },
  {
   "cell_type": "code",
   "execution_count": 115,
   "id": "cd58c642-6e98-4c58-bbb1-24c520dc4857",
   "metadata": {
    "tags": []
   },
   "outputs": [
    {
     "data": {
      "text/plain": [
       "CompletedProcess(args=['python', 'C:\\\\Users\\\\cpiske\\\\.conda\\\\envs\\\\lidar\\\\Lib\\\\site-packages\\\\osgeo_utils\\\\gdal_calc.py', '-A', 'SCB/Sagehen_lidar/NCALM/NCALM_SCB_2014/canopy_metrics/veg_classes/NCALM_SCB_2014_tall.tif', '-B', 'SCB/Sagehen_lidar/NCALM/NCALM_SCB_2014/canopy_metrics/veg_classes/NCALM_SCB_2014_understory.tif', '--outfile', 'SCB/Sagehen_lidar/NCALM/NCALM_SCB_2014/canopy_metrics/veg_classes/NCALM_SCB_2014_tallORunderstory.tif', '--calc=\"B+A\"', '--overwrite', '--hideNoData', '--NoDataValue', '0'], returncode=0)"
      ]
     },
     "execution_count": 115,
     "metadata": {},
     "output_type": "execute_result"
    }
   ],
   "source": [
    "# tall or understory\n",
    "ncalm_tallORunderstory = 'SCB/Sagehen_lidar/NCALM/NCALM_SCB_2014/canopy_metrics/veg_classes/NCALM_SCB_2014_tallORunderstory.tif'\n",
    "tall_cmd = ['python', gdal_calc, '-A', ncalm_tall, '-B', ncalm_understory,\n",
    " '--outfile', ncalm_tallORunderstory, '--calc=\"B+A\"','--overwrite','--hideNoData','--NoDataValue','0']\n",
    "subprocess.run(tall_cmd)"
   ]
  },
  {
   "cell_type": "code",
   "execution_count": 116,
   "id": "8311feed-2da5-49b8-a83c-b936d835b282",
   "metadata": {},
   "outputs": [
    {
     "data": {
      "text/plain": [
       "CompletedProcess(args=['python', 'C:\\\\Users\\\\cpiske\\\\.conda\\\\envs\\\\lidar\\\\Lib\\\\site-packages\\\\osgeo_utils\\\\gdal_calc.py', '-A', 'SCB/Sagehen_lidar/NCALM/NCALM_SCB_2014/canopy_metrics/veg_classes/NCALM_SCB_2014_open.tif', '-B', 'SCB/Sagehen_lidar/NCALM/NCALM_SCB_2014/canopy_metrics/veg_classes/NCALM_SCB_2014_short.tif', '--outfile', 'SCB/Sagehen_lidar/NCALM/NCALM_SCB_2014/canopy_metrics/veg_classes/NCALM_SCB_2014_openORshort.tif', '--calc=\"B+A\"', '--overwrite', '--hideNoData', '--NoDataValue', '0'], returncode=0)"
      ]
     },
     "execution_count": 116,
     "metadata": {},
     "output_type": "execute_result"
    }
   ],
   "source": [
    "# short or open\n",
    "ncalm_openORshort = 'SCB/Sagehen_lidar/NCALM/NCALM_SCB_2014/canopy_metrics/veg_classes/NCALM_SCB_2014_openORshort.tif'\n",
    "veg_cmd = ['python', gdal_calc, '-A', ncalm_open, '-B', ncalm_short,\n",
    " '--outfile', ncalm_openORshort, '--calc=\"B+A\"','--overwrite','--hideNoData','--NoDataValue','0']\n",
    "subprocess.run(veg_cmd)"
   ]
  },
  {
   "cell_type": "code",
   "execution_count": 117,
   "id": "0206cca6-5e8d-47ce-b277-2e1ad3aceb93",
   "metadata": {},
   "outputs": [
    {
     "data": {
      "text/plain": [
       "CompletedProcess(args=['python', 'C:\\\\Users\\\\cpiske\\\\.conda\\\\envs\\\\lidar\\\\Lib\\\\site-packages\\\\osgeo_utils\\\\gdal_calc.py', '-A', 'SCB/Sagehen_lidar/NCALM/NCALM_SCB_2014/canopy_metrics/veg_classes/NCALM_SCB_2014_open.tif', '-B', 'SCB/Sagehen_lidar/NCALM/NCALM_SCB_2014/canopy_metrics/veg_classes/NCALM_SCB_2014_short.tif', '-C', 'SCB/Sagehen_lidar/NCALM/NCALM_SCB_2014/canopy_metrics/veg_classes/NCALM_SCB_2014_understory.tif', '-D', 'SCB/Sagehen_lidar/NCALM/NCALM_SCB_2014/canopy_metrics/veg_classes/NCALM_SCB_2014_tall.tif', '--outfile', 'SCB/Sagehen_lidar/NCALM/NCALM_SCB_2014/canopy_metrics/veg_classes/NCALM_SCB_2014_vegClassified.tif', '--calc=\"A+(2*B)+(3*C)+(4*D)\"', '--overwrite', '--hideNoData', '--NoDataValue', '-9999'], returncode=0)"
      ]
     },
     "execution_count": 117,
     "metadata": {},
     "output_type": "execute_result"
    }
   ],
   "source": [
    "# classify all veg\n",
    "\n",
    "veg_cmd = ['python', gdal_calc, '-A', ncalm_open, '-B', ncalm_short, '-C', ncalm_understory, '-D', ncalm_tall,\n",
    " '--outfile', veg_classified, '--calc=\"A+(2*B)+(3*C)+(4*D)\"','--overwrite', '--hideNoData','--NoDataValue','-9999']\n",
    "subprocess.run(veg_cmd)"
   ]
  },
  {
   "cell_type": "markdown",
   "id": "c397f5d9-6e7a-4425-ab4b-9852799bb074",
   "metadata": {},
   "source": [
    "#### Filter"
   ]
  },
  {
   "cell_type": "code",
   "execution_count": 118,
   "id": "7860dc60-5298-48cd-9525-e5981df5d9d0",
   "metadata": {},
   "outputs": [],
   "source": [
    "input_shp = 'SCB/supporting_files/masks/NHDWaterbody_2018_EPSG6339.shp'\n",
    "input_list = [ncalm_open, ncalm_tall, ncalm_short, ncalm_understory, ncalm_tallORunderstory, ncalm_openORshort]\n",
    "for input_tif in input_list:\n",
    "    burn_command = ['gdal_rasterize', '-b', '1', '-burn', '0', input_shp, input_tif]\n",
    "    subprocess.call(burn_command)\n",
    "\n",
    "input_listb = [ncalm_short_HAG, ncalm_understory_HAG, veg_classified]\n",
    "for input_tif in input_listb:\n",
    "    burn_command = ['gdal_rasterize', '-b', '1', '-burn', '-9999', input_shp, input_tif]\n",
    "    subprocess.call(burn_command)"
   ]
  },
  {
   "cell_type": "markdown",
   "id": "a744e545-1d1e-4646-99a5-6dd2b4ff38ca",
   "metadata": {},
   "source": [
    "### Characterize Veg"
   ]
  },
  {
   "cell_type": "code",
   "execution_count": 119,
   "id": "f6af6d50-fbed-4df8-9fa1-c2b577632543",
   "metadata": {},
   "outputs": [],
   "source": [
    "# Filter out all water bodies\n",
    "input_shp = 'SCB/supporting_files/masks/NHDWaterbody_2018_EPSG6339.shp'"
   ]
  },
  {
   "cell_type": "code",
   "execution_count": 120,
   "id": "85300aa4-162c-42c9-b996-99a16c2e060a",
   "metadata": {},
   "outputs": [],
   "source": [
    "#ncalm_tallORunderstory = 'SCB/Sagehen_lidar/NCALM/NCALM_SCB_2014/canopy_metrics/NCALM_SCB_2014_tallORunderstory.tif'\n",
    "dist_to_nearest_canopy = 'SCB/Sagehen_lidar/NCALM/NCALM_SCB_2014/canopy_metrics/veg_structure/NCALM_SCB_2014_DNC.tif'\n",
    "dist_to_nearest_canopy_30 = 'SCB/Sagehen_lidar/NCALM/NCALM_SCB_2014/canopy_metrics/veg_structure/NCALM_SCB_2014_DNC_30m.tif'\n",
    "dist_to_nearest_canopy_10m = 'SCB/Sagehen_lidar/NCALM/NCALM_SCB_2014/canopy_metrics/veg_structure/NCALM_SCB_2014_DNC_10m.tif'\n",
    "\n",
    "clump_size = 'SCB/Sagehen_lidar/NCALM/NCALM_SCB_2014/canopy_metrics/veg_structure/NCALM_SCB_2014_clumpSize.tif'\n",
    "clump_size_30 = 'SCB/Sagehen_lidar/NCALM/NCALM_SCB_2014/canopy_metrics/veg_structure/NCALM_SCB_2014_clumpSize_30m.tif'\n",
    "clump_size_10 = 'SCB/Sagehen_lidar/NCALM/NCALM_SCB_2014/canopy_metrics/veg_structure/NCALM_SCB_2014_clumpSize_10m.tif'"
   ]
  },
  {
   "cell_type": "markdown",
   "id": "edd3bc83-7050-41e5-9fb3-bdffa30046d6",
   "metadata": {},
   "source": [
    "#### DNC"
   ]
  },
  {
   "cell_type": "code",
   "execution_count": 121,
   "id": "16987d75-4dc9-4a16-a42e-b5573313edad",
   "metadata": {},
   "outputs": [
    {
     "data": {
      "text/plain": [
       "CompletedProcess(args=['python', 'C:\\\\Users\\\\cpiske\\\\.conda\\\\envs\\\\lidar\\\\Lib\\\\site-packages\\\\osgeo_utils\\\\gdal_proximity.py', 'SCB/Sagehen_lidar/NCALM/NCALM_SCB_2014/canopy_metrics/veg_classes/NCALM_SCB_2014_tallORunderstory.tif', 'SCB/Sagehen_lidar/NCALM/NCALM_SCB_2014/canopy_metrics/veg_structure/NCALM_SCB_2014_DNC.tif', '-values', '1', '-nodata', '-9999'], returncode=0)"
      ]
     },
     "execution_count": 121,
     "metadata": {},
     "output_type": "execute_result"
    }
   ],
   "source": [
    "# extract vegetation cover (average height and density) across the watershed\n",
    "proximity_cmd = ['python',gdal_proximity, ncalm_tallORunderstory, dist_to_nearest_canopy,'-values','1','-nodata','-9999']\n",
    "subprocess.run(proximity_cmd)"
   ]
  },
  {
   "cell_type": "code",
   "execution_count": 122,
   "id": "827dd032-7a23-4255-8a90-0064b8d80c38",
   "metadata": {},
   "outputs": [
    {
     "data": {
      "text/plain": [
       "1"
      ]
     },
     "execution_count": 122,
     "metadata": {},
     "output_type": "execute_result"
    }
   ],
   "source": [
    "burn_command = ['gdal_rasterize', '-b', '1', '-burn', '-9999', input_shp, dist_to_nearest_canopy]\n",
    "subprocess.call(burn_command)"
   ]
  },
  {
   "cell_type": "code",
   "execution_count": 123,
   "id": "0b4b5c99-62a6-4ff7-bd07-db6aec28ebf8",
   "metadata": {},
   "outputs": [
    {
     "data": {
      "text/plain": [
       "1"
      ]
     },
     "execution_count": 123,
     "metadata": {},
     "output_type": "execute_result"
    }
   ],
   "source": [
    "# extract vegetation cover (average height and density) across the watershed\n",
    "# 'python',gdal_proximity\n",
    "proximity_cmd = ['python',gdal_proximity, strata_3, clump_size,'-values','0','-nodata','-9999']\n",
    "subprocess.run(proximity_cmd)\n",
    "burn_command = ['gdal_rasterize', '-b', '1', '-burn', '-9999', input_shp, clump_size]\n",
    "subprocess.call(burn_command)"
   ]
  },
  {
   "cell_type": "code",
   "execution_count": 124,
   "id": "72f6448c-e0e7-4901-b125-1f5e22fdefeb",
   "metadata": {},
   "outputs": [
    {
     "data": {
      "text/plain": [
       "0"
      ]
     },
     "execution_count": 124,
     "metadata": {},
     "output_type": "execute_result"
    }
   ],
   "source": [
    "warp_cmd = [\"gdalwarp\",\"-overwrite\", clump_size, clump_size_30, \"-tr\", str(30),str(30),'-srcnodata','-9999','-r','average','-dstnodata','-9999']\n",
    "subprocess.call(warp_cmd)"
   ]
  },
  {
   "cell_type": "code",
   "execution_count": 125,
   "id": "214cb162-3e49-45ab-a06b-2ce690e30cbd",
   "metadata": {},
   "outputs": [
    {
     "data": {
      "text/plain": [
       "0"
      ]
     },
     "execution_count": 125,
     "metadata": {},
     "output_type": "execute_result"
    }
   ],
   "source": [
    "warp_cmd = [\"gdalwarp\",\"-overwrite\", dist_to_nearest_canopy, dist_to_nearest_canopy_30, \"-tr\", str(30),str(30),'-srcnodata','-9999','-r','average','-dstnodata','-9999']\n",
    "subprocess.call(warp_cmd)"
   ]
  },
  {
   "cell_type": "markdown",
   "id": "cf0fb7e7-7d91-45df-b70a-2aac8beac32d",
   "metadata": {},
   "source": [
    "#### fVeg and canopy density"
   ]
  },
  {
   "cell_type": "code",
   "execution_count": 126,
   "id": "9925f160-7a75-492b-9cdb-af7240320f77",
   "metadata": {},
   "outputs": [],
   "source": [
    "ncalm_fVEG_30m = 'SCB/Sagehen_lidar/NCALM/NCALM_SCB_2014/canopy_metrics/veg_structure/fVeg/NCALM_SCB_2014_fVEG_30m.tif'\n",
    "ncalm_CHM = 'SCB/Sagehen_lidar/NCALM/NCALM_SCB_2014/canopy_metrics/veg_structure/CHM/NCALM_2014_CHM_max.tif'\n",
    "ncalm_CHM_gt3 = 'SCB/Sagehen_lidar/NCALM/NCALM_SCB_2014/canopy_metrics/veg_structure/CHM/NCALM_2014_CHM_gt3_binary.tif'\n",
    "ncalm_CHM_gt3_sum_30m = 'SCB/Sagehen_lidar/NCALM/NCALM_SCB_2014/canopy_metrics/veg_structure/CHM/NCALM_2014_CHM_gt3_sum_30m.tif'\n",
    "\n",
    "ncalm_canopy_density_30m = 'SCB/Sagehen_lidar/NCALM/NCALM_SCB_2014/canopy_metrics/veg_structure/fVeg/NCALM_SCB_2014_canopy_density_30m.tif'\n",
    "ncalm_canopy_density = 'SCB/Sagehen_lidar/NCALM/NCALM_SCB_2014/canopy_metrics/veg_structure/fVeg/NCALM_SCB_2014_canopy_density.tif'\n",
    "strata_3_30m = 'SCB/Sagehen_lidar/NCALM/NCALM_SCB_2014/canopy_metrics/veg_height_strata/vegStrata_3_30m.tif'\n",
    "counts_total = 'SCB/Sagehen_lidar/NCALM/NCALM_SCB_2014/counts/NCALM_SCB_2014_hag_count.tif'\n",
    "counts_total_30 = 'SCB/Sagehen_lidar/NCALM/NCALM_SCB_2014/counts/NCALM_SCB_2014_hag_count_30.tif'"
   ]
  },
  {
   "cell_type": "code",
   "execution_count": 127,
   "id": "fbfa1692-86ae-4605-9766-b753c0808112",
   "metadata": {},
   "outputs": [
    {
     "data": {
      "text/plain": [
       "CompletedProcess(args=['python', 'C:\\\\Users\\\\cpiske\\\\.conda\\\\envs\\\\lidar\\\\Lib\\\\site-packages\\\\osgeo_utils\\\\gdal_calc.py', '-A', 'SCB/Sagehen_lidar/NCALM/NCALM_SCB_2014/counts/NCALM_SCB_2014_hag_count.tif', '-B', 'SCB/Sagehen_lidar/NCALM/NCALM_SCB_2014/canopy_metrics/veg_height_strata/vegStrata_3.tif', '--NoDataValue', '-9999', '--outfile', 'SCB/Sagehen_lidar/NCALM/NCALM_SCB_2014/canopy_metrics/veg_structure/fVeg/NCALM_SCB_2014_canopy_density.tif', '--calc=\"B/A\"', '--overwrite'], returncode=0)"
      ]
     },
     "execution_count": 127,
     "metadata": {},
     "output_type": "execute_result"
    }
   ],
   "source": [
    "# calculate fVeg\n",
    "# start by adding the number of returns >3 or between 0.15-1.5\n",
    "fVeg_cmd = ['python',gdal_calc, '-A', counts_total, '-B', strata_3,'--NoDataValue','-9999',\n",
    " '--outfile', ncalm_canopy_density, '--calc=\"B/A\"','--overwrite']\n",
    "subprocess.run(fVeg_cmd)"
   ]
  },
  {
   "cell_type": "code",
   "execution_count": 128,
   "id": "e4491229-2b4d-4d51-a789-20fcd3d34420",
   "metadata": {},
   "outputs": [
    {
     "data": {
      "text/plain": [
       "0"
      ]
     },
     "execution_count": 128,
     "metadata": {},
     "output_type": "execute_result"
    }
   ],
   "source": [
    "# # use ts to specify the x and y extents of bounding box (default 1000)\n",
    "warp_cmd = [\"gdalwarp\",\"-overwrite\", counts_total, counts_total_30, \"-tr\", str(30),str(30),'-srcnodata','-9999','-r','sum','-dstnodata','-9999']\n",
    "subprocess.call(warp_cmd)"
   ]
  },
  {
   "cell_type": "code",
   "execution_count": 129,
   "id": "6a5b1773-26ba-4356-8ad7-fd82627ac9e2",
   "metadata": {},
   "outputs": [
    {
     "data": {
      "text/plain": [
       "0"
      ]
     },
     "execution_count": 129,
     "metadata": {},
     "output_type": "execute_result"
    }
   ],
   "source": [
    "# # use ts to specify the x and y extents of bounding box (default 1000)\n",
    "warp_cmd = [\"gdalwarp\",\"-overwrite\", strata_3, strata_3_30m, \"-tr\", str(30),str(30),'-srcnodata','-9999','-r','sum','-dstnodata','-9999']\n",
    "subprocess.call(warp_cmd)"
   ]
  },
  {
   "cell_type": "code",
   "execution_count": 130,
   "id": "73eeb1af-d44b-4aa3-9b16-bdde9a2c14c5",
   "metadata": {},
   "outputs": [
    {
     "data": {
      "text/plain": [
       "CompletedProcess(args=['python', 'C:\\\\Users\\\\cpiske\\\\.conda\\\\envs\\\\lidar\\\\Lib\\\\site-packages\\\\osgeo_utils\\\\gdal_calc.py', '-A', 'SCB/Sagehen_lidar/NCALM/NCALM_SCB_2014/counts/NCALM_SCB_2014_hag_count_30.tif', '-B', 'SCB/Sagehen_lidar/NCALM/NCALM_SCB_2014/canopy_metrics/veg_height_strata/vegStrata_3_30m.tif', '--NoDataValue', '-9999', '--outfile', 'SCB/Sagehen_lidar/NCALM/NCALM_SCB_2014/canopy_metrics/veg_structure/fVeg/NCALM_SCB_2014_canopy_density_30m.tif', '--calc=\"B/A\"', '--overwrite'], returncode=0)"
      ]
     },
     "execution_count": 130,
     "metadata": {},
     "output_type": "execute_result"
    }
   ],
   "source": [
    "# calculate fVeg\n",
    "# start by adding the number of returns >3 or between 0.15-1.5\n",
    "fVeg_cmd = ['python',gdal_calc, '-A', counts_total_30, '-B', strata_3_30m,'--NoDataValue','-9999',\n",
    " '--outfile', ncalm_canopy_density_30m, '--calc=\"B/A\"','--overwrite']\n",
    "subprocess.run(fVeg_cmd)"
   ]
  },
  {
   "cell_type": "markdown",
   "id": "cf415449-5eae-4c32-b737-7c5638913078",
   "metadata": {},
   "source": [
    "**fVEG**"
   ]
  },
  {
   "cell_type": "code",
   "execution_count": 131,
   "id": "fe1ccd5d-7d88-4fdd-b5c1-4db7a3998fe7",
   "metadata": {},
   "outputs": [
    {
     "data": {
      "text/plain": [
       "CompletedProcess(args=['python', 'C:\\\\Users\\\\cpiske\\\\.conda\\\\envs\\\\lidar\\\\Lib\\\\site-packages\\\\osgeo_utils\\\\gdal_calc.py', '-A', 'SCB/Sagehen_lidar/NCALM/NCALM_SCB_2014/canopy_metrics/veg_structure/CHM/NCALM_2014_CHM_max.tif', '--NoDataValue', '-9999', '--outfile', 'SCB/Sagehen_lidar/NCALM/NCALM_SCB_2014/canopy_metrics/veg_structure/CHM/NCALM_2014_CHM_gt3_binary.tif', '--calc=\"A>=3\"', '--overwrite'], returncode=0)"
      ]
     },
     "execution_count": 131,
     "metadata": {},
     "output_type": "execute_result"
    }
   ],
   "source": [
    "fVeg_cmd = ['python',gdal_calc, '-A', ncalm_CHM, '--NoDataValue','-9999',\n",
    " '--outfile', ncalm_CHM_gt3, '--calc=\"A>=3\"','--overwrite']\n",
    "subprocess.run(fVeg_cmd)"
   ]
  },
  {
   "cell_type": "code",
   "execution_count": 132,
   "id": "cf42d632-334b-4642-8385-222625f6e7a1",
   "metadata": {},
   "outputs": [
    {
     "data": {
      "text/plain": [
       "0"
      ]
     },
     "execution_count": 132,
     "metadata": {},
     "output_type": "execute_result"
    }
   ],
   "source": [
    "# # use ts to specify the x and y extents of bounding box (default 1000)\n",
    "# warp_cmd = [\"gdalwarp\",\"-overwrite\", clump_size, clump_size_30, \"-tr\", str(30),str(30),'-srcnodata','-9999','-r','average','-dstnodata','-9999']\n",
    "warp_cmd = [\"gdalwarp\",\"-overwrite\", ncalm_CHM_gt3, ncalm_CHM_gt3_sum_30m, \"-tr\", str(30),str(30),'-srcnodata','-9999','-r','sum','-dstnodata','-9999']\n",
    "\n",
    "subprocess.call(warp_cmd)"
   ]
  },
  {
   "cell_type": "code",
   "execution_count": 133,
   "id": "2af1de98-261f-4bc6-8017-ae664caaddf2",
   "metadata": {},
   "outputs": [
    {
     "data": {
      "text/plain": [
       "CompletedProcess(args=['python', 'C:\\\\Users\\\\cpiske\\\\.conda\\\\envs\\\\lidar\\\\Lib\\\\site-packages\\\\osgeo_utils\\\\gdal_calc.py', '-A', 'SCB/Sagehen_lidar/NCALM/NCALM_SCB_2014/canopy_metrics/veg_structure/CHM/NCALM_2014_CHM_gt3_sum_30m.tif', '--NoDataValue', '-9999', '--outfile', 'SCB/Sagehen_lidar/NCALM/NCALM_SCB_2014/canopy_metrics/veg_structure/fVeg/NCALM_SCB_2014_fVEG_30m.tif', '--calc=\"A/(30*30)\"', '--overwrite'], returncode=0)"
      ]
     },
     "execution_count": 133,
     "metadata": {},
     "output_type": "execute_result"
    }
   ],
   "source": [
    "# # use ts to specify the x and y extents of bounding box (default 1000)\n",
    "# warp_cmd = [\"gdalwarp\",\"-overwrite\", dist_to_nearest_canopy, dist_to_nearest_canopy_30m, \"-tr\", str(30),str(30),'-srcnodata','-9999','-r','average','-dstnodata','-9999']\n",
    "fVeg_cmd = ['python',gdal_calc, '-A', ncalm_CHM_gt3_sum_30m, '--NoDataValue','-9999',\n",
    " '--outfile', ncalm_fVEG_30m, '--calc=\"A/(30*30)\"','--overwrite']\n",
    "subprocess.run(fVeg_cmd)\n"
   ]
  },
  {
   "cell_type": "markdown",
   "id": "5c821649-eb82-47d3-8631-1b63ee5fc813",
   "metadata": {},
   "source": [
    "#### TAO"
   ]
  },
  {
   "cell_type": "markdown",
   "id": "f1062247-dd8f-4d16-a4c6-6c13812a7756",
   "metadata": {},
   "source": [
    "See: produce_canopy_metrics.Rmd for TAO delineation <br>\n",
    "Right now, this workflow uses QGIS to convert the TAO delineation from a csv-shp-tif, this could be done here as well (see: https://geopandas.org/en/stable/docs/user_guide/io.html) <br>\n",
    "\n",
    "There are multiple metrics we derive from this product, one is average height/30m pixel, the other is canopy density/30m pixel"
   ]
  },
  {
   "cell_type": "code",
   "execution_count": 134,
   "id": "91865bcb-c600-4f0c-9c0c-1a579a662a54",
   "metadata": {},
   "outputs": [],
   "source": [
    "TAO_ras = 'SCB/Sagehen_lidar/NCALM/NCALM_SCB_2014/canopy_metrics/veg_structure/TAO/NCALM_SCB_2014_TAO.tif' \n",
    "counts_ras = 'SCB/Sagehen_lidar/NCALM/NCALM_SCB_2014/canopy_metrics/veg_structure/TAO/NCALM_SCB_2014_TAO_counts_30m.tif' \n",
    "avg_height_ras = 'SCB/Sagehen_lidar/NCALM/NCALM_SCB_2014/canopy_metrics/veg_structure/TAO/NCALM_SCB_2014_avg_TOA_height_30m.tif'\n",
    "max_height_ras = 'SCB/Sagehen_lidar/NCALM/NCALM_SCB_2014/canopy_metrics/veg_structure/TAO/NCALM_SCB_2014_max_TOA_height_30m.tif'\n",
    "\n",
    "TAO_ras_binary = 'SCB/Sagehen_lidar/NCALM/NCALM_SCB_2014/canopy_metrics/veg_structure/TAO/NCALM_SCB_2014_TAO_binary.tif'\n",
    "TAO_density = 'SCB/Sagehen_lidar/NCALM/NCALM_SCB_2014/canopy_metrics/veg_structure/TAO/NCALM_SCB_2014_TAO_density_30m.tif'\n",
    "\n",
    "LAI = 'SCB/Sagehen_lidar/NCALM/NCALM_SCB_2014/canopy_metrics/veg_structure/NCALM_SCB_2014_LAI_index.tif'\n"
   ]
  },
  {
   "cell_type": "code",
   "execution_count": 145,
   "id": "cd28c303-37bb-4b85-9556-ac6696374d38",
   "metadata": {},
   "outputs": [
    {
     "data": {
      "text/plain": [
       "CompletedProcess(args=['python', 'C:\\\\Users\\\\cpiske\\\\.conda\\\\envs\\\\lidar\\\\Lib\\\\site-packages\\\\osgeo_utils\\\\gdal_calc.py', '-A', 'SCB/Sagehen_lidar/NCALM/NCALM_SCB_2014/canopy_metrics/veg_structure/TAO/NCALM_SCB_2014_TAO.tif', '--NoDataValue', '-9999', '--outfile', 'SCB/Sagehen_lidar/NCALM/NCALM_SCB_2014/canopy_metrics/veg_structure/TAO/NCALM_SCB_2014_TAO_binary.tif', '--calc=\"1*A>0\"', '--overwrite'], returncode=0)"
      ]
     },
     "execution_count": 145,
     "metadata": {},
     "output_type": "execute_result"
    }
   ],
   "source": [
    "fVeg_cmd = ['python',gdal_calc, '-A', TAO_ras, '--NoDataValue','-9999',\n",
    " '--outfile', TAO_ras_binary, '--calc=\"1*A>0\"','--overwrite']\n",
    "subprocess.run(fVeg_cmd)"
   ]
  },
  {
   "cell_type": "code",
   "execution_count": 146,
   "id": "062a31c9-9847-4e41-90cd-1e3a33e9c16f",
   "metadata": {},
   "outputs": [
    {
     "data": {
      "text/plain": [
       "0"
      ]
     },
     "execution_count": 146,
     "metadata": {},
     "output_type": "execute_result"
    }
   ],
   "source": [
    "warp_cmd = [\"gdalwarp\",\"-overwrite\", TAO_ras_binary, counts_ras, \"-tr\", str(30),str(30),'-srcnodata','-9999','-dstnodata','-9999','-r','sum','-t_srs','+proj=utm +zone=10 +ellps=GRS80 +units=m +no_defs ']\n",
    "subprocess.call(warp_cmd)"
   ]
  },
  {
   "cell_type": "code",
   "execution_count": 147,
   "id": "ab4d4784-a139-4895-b837-2559e38b27c0",
   "metadata": {},
   "outputs": [
    {
     "data": {
      "text/plain": [
       "0"
      ]
     },
     "execution_count": 147,
     "metadata": {},
     "output_type": "execute_result"
    }
   ],
   "source": [
    "warp_cmd = [\"gdalwarp\",\"-overwrite\", TAO_ras, avg_height_ras, \"-tr\", str(30),str(30),'-srcnodata','-9999','-dstnodata','-9999','-r','average','-t_srs','EPSG:6339']\n",
    "subprocess.call(warp_cmd)"
   ]
  },
  {
   "cell_type": "code",
   "execution_count": 148,
   "id": "861960f4-c2fa-4464-981a-e129b0378c0f",
   "metadata": {},
   "outputs": [
    {
     "data": {
      "text/plain": [
       "0"
      ]
     },
     "execution_count": 148,
     "metadata": {},
     "output_type": "execute_result"
    }
   ],
   "source": [
    "warp_cmd = [\"gdalwarp\",\"-overwrite\", TAO_ras, max_height_ras, \"-tr\", str(30),str(30),'-srcnodata','-9999','-dstnodata','-9999','-r','max','-t_srs','EPSG:6339']\n",
    "subprocess.call(warp_cmd)"
   ]
  },
  {
   "cell_type": "code",
   "execution_count": 149,
   "id": "bef5936b-b667-4c64-b452-b90758f626b1",
   "metadata": {},
   "outputs": [
    {
     "data": {
      "text/plain": [
       "CompletedProcess(args=['python', 'C:\\\\Users\\\\cpiske\\\\.conda\\\\envs\\\\lidar\\\\Lib\\\\site-packages\\\\osgeo_utils\\\\gdal_calc.py', '-A', 'SCB/Sagehen_lidar/NCALM/NCALM_SCB_2014/canopy_metrics/veg_structure/TAO/NCALM_SCB_2014_TAO_counts_30m.tif', '--NoDataValue', '-9999', '--outfile', 'SCB/Sagehen_lidar/NCALM/NCALM_SCB_2014/canopy_metrics/veg_structure/TAO/NCALM_SCB_2014_TAO_density_30m.tif', '--calc=\"A/(30*30)\"', '--overwrite'], returncode=0)"
      ]
     },
     "execution_count": 149,
     "metadata": {},
     "output_type": "execute_result"
    }
   ],
   "source": [
    "fVeg_cmd = ['python',gdal_calc, '-A', counts_ras, '--NoDataValue','-9999', '--outfile', TAO_density, '--calc=\"A/(30*30)\"','--overwrite']\n",
    "subprocess.run(fVeg_cmd)"
   ]
  },
  {
   "cell_type": "markdown",
   "id": "fc444dea-2e1b-4a2d-a2bf-6391ff213669",
   "metadata": {
    "tags": []
   },
   "source": [
    "#### Openness\n",
    "\n",
    "Normalize open index by number of trees"
   ]
  },
  {
   "cell_type": "code",
   "execution_count": 151,
   "id": "62758643-ee89-4132-9e8d-cdbfa2496e46",
   "metadata": {},
   "outputs": [],
   "source": [
    "openness_ind = 'SCB/Sagehen_lidar/NCALM/NCALM_SCB_2014/canopy_metrics/veg_structure/NCALM_SCB_2014_DNC_avgTAOheight_30m.tif'\n",
    "DNC_30m = 'SCB/Sagehen_lidar/NCALM/NCALM_SCB_2014/canopy_metrics/veg_structure/NCALM_SCB_2014_DNC_30m.tif'\n",
    "avg_TAO_height = 'SCB/Sagehen_lidar/NCALM/NCALM_SCB_2014/canopy_metrics/veg_structure/TAO/NCALM_SCB_2014_avg_TOA_height_30m.tif'"
   ]
  },
  {
   "cell_type": "code",
   "execution_count": 152,
   "id": "3b13e49c-2f02-4fe5-84cd-7f010459c60d",
   "metadata": {},
   "outputs": [
    {
     "data": {
      "text/plain": [
       "CompletedProcess(args=['python', 'C:\\\\Users\\\\cpiske\\\\.conda\\\\envs\\\\lidar\\\\Lib\\\\site-packages\\\\osgeo_utils\\\\gdal_calc.py', '-A', 'SCB/Sagehen_lidar/NCALM/NCALM_SCB_2014/canopy_metrics/veg_structure/NCALM_SCB_2014_DNC_30m.tif', '-B', 'SCB/Sagehen_lidar/NCALM/NCALM_SCB_2014/canopy_metrics/veg_structure/TAO/NCALM_SCB_2014_avg_TOA_height_30m.tif', '--NoDataValue', '-9999', '--outfile', 'SCB/Sagehen_lidar/NCALM/NCALM_SCB_2014/canopy_metrics/veg_structure/NCALM_SCB_2014_DNC_avgTAOheight_30m.tif', '--calc=\"A*2/B\"', '--overwrite'], returncode=0)"
      ]
     },
     "execution_count": 152,
     "metadata": {},
     "output_type": "execute_result"
    }
   ],
   "source": [
    "veg_cmd = ['python', gdal_calc, '-A', DNC_30m,'-B', avg_TAO_height, '--NoDataValue','-9999',\n",
    " '--outfile', openness_ind, '--calc=\"A*2/B\"','--overwrite']\n",
    "subprocess.run(veg_cmd)"
   ]
  },
  {
   "cell_type": "markdown",
   "id": "21c87808-085d-4158-b3f6-fe1c8b100d39",
   "metadata": {},
   "source": [
    "#### LAI'"
   ]
  },
  {
   "cell_type": "code",
   "execution_count": 153,
   "id": "a6326872-87a9-4420-8f45-809e433b9575",
   "metadata": {},
   "outputs": [],
   "source": [
    "LAI = 'SCB/Sagehen_lidar/NCALM/NCALM_SCB_2014/canopy_metrics/veg_structure/NCALM_SCB_2014_LAI_prime.tif'\n",
    "LAI_30 = 'SCB/Sagehen_lidar/NCALM/NCALM_SCB_2014/canopy_metrics/veg_structure/NCALM_SCB_2014_LAI_prime_30m.tif'"
   ]
  },
  {
   "cell_type": "code",
   "execution_count": 154,
   "id": "76563a19-97ef-4b7c-afe3-8286c374ab4b",
   "metadata": {},
   "outputs": [],
   "source": [
    "# dertmine which value to use to scale for max veg height\n",
    "ncalm_CHM = 'SCB/Sagehen_lidar/NCALM/NCALM_SCB_2014/canopy_metrics/veg_structure/CHM/NCALM_2014_CHM_max.tif'\n",
    "CHM_ras = gdal.Open(ncalm_CHM) # open the file \n",
    "CHM_arr = CHM_ras.GetRasterBand(1).ReadAsArray() #read the first raster band (in this case we know we are only working with single bands) and read to a 2D array\n",
    "CHM_ras = None # close rasters"
   ]
  },
  {
   "cell_type": "code",
   "execution_count": 155,
   "id": "1959951c-f1e4-4c96-b553-8d886264d984",
   "metadata": {},
   "outputs": [
    {
     "name": "stdout",
     "output_type": "stream",
     "text": [
      "30.84\n"
     ]
    }
   ],
   "source": [
    "print(np.percentile(CHM_arr,99))"
   ]
  },
  {
   "cell_type": "code",
   "execution_count": 156,
   "id": "01bcb268-dec7-4a2d-b65e-3ee70dd5599c",
   "metadata": {},
   "outputs": [
    {
     "data": {
      "text/plain": [
       "CompletedProcess(args=['python', 'C:\\\\Users\\\\cpiske\\\\.conda\\\\envs\\\\lidar\\\\Lib\\\\site-packages\\\\osgeo_utils\\\\gdal_calc.py', '-A', 'SCB/Sagehen_lidar/NCALM/NCALM_SCB_2014/canopy_metrics/veg_structure/fVeg/NCALM_SCB_2014_canopy_density.tif', '-B', 'SCB/Sagehen_lidar/NCALM/NCALM_SCB_2014/canopy_metrics/veg_structure/CHM/NCALM_2014_CHM_max.tif', '--NoDataValue', '-9999', '--outfile', 'SCB/Sagehen_lidar/NCALM/NCALM_SCB_2014/canopy_metrics/veg_structure/NCALM_SCB_2014_LAI_prime.tif', '--calc=\"A*(B/30.84)\"', '--overwrite'], returncode=0)"
      ]
     },
     "execution_count": 156,
     "metadata": {},
     "output_type": "execute_result"
    }
   ],
   "source": [
    "veg_cmd = ['python',gdal_calc, '-A', ncalm_canopy_density,'-B',ncalm_CHM, '--NoDataValue','-9999',\n",
    " '--outfile', LAI, '--calc=\"A*(B/30.84)\"','--overwrite']\n",
    "subprocess.run(veg_cmd)"
   ]
  },
  {
   "cell_type": "code",
   "execution_count": 157,
   "id": "b068c366-03ff-4dbc-a499-6833f9ed52b6",
   "metadata": {},
   "outputs": [
    {
     "data": {
      "text/plain": [
       "0"
      ]
     },
     "execution_count": 157,
     "metadata": {},
     "output_type": "execute_result"
    }
   ],
   "source": [
    "warp_cmd = [\"gdalwarp\",\"-overwrite\", LAI, LAI_30, \"-tr\", str(30),str(30),'-srcnodata','-9999','-dstnodata','-9999','-r','average','-t_srs','EPSG:6339']\n",
    "subprocess.call(warp_cmd)"
   ]
  },
  {
   "cell_type": "markdown",
   "id": "dc84c937-20e5-42be-8d9a-fe9a3df6368a",
   "metadata": {},
   "source": [
    "#### Vegetation Buffer\n",
    "Create universal buffer"
   ]
  },
  {
   "cell_type": "code",
   "execution_count": 36,
   "id": "bdfcd308-3756-4599-890c-118c73dc4d5a",
   "metadata": {
    "tags": []
   },
   "outputs": [],
   "source": [
    "ncalm_tall = 'SCB/Sagehen_lidar/NCALM/NCALM_SCB_2014/canopy_metrics/veg_classes/NCALM_SCB_2014_tall.tif'\n",
    "ncalm_buffer_tall_2014 = 'SCB/Sagehen_lidar/NCALM/NCALM_SCB_2014/canopy_metrics/veg_classes/NCALM_SCB_2014_tall_buffered.tif'\n",
    "\n",
    "buffer_open_2014 = 'SCB/Sagehen_lidar/NCALM/NCALM_SCB_2014/canopy_metrics/veg_classes/NCALM_SCB_2014_open_buffered.tif'\n",
    "buffer_open_2014_30_sum = 'SCB/Sagehen_lidar/NCALM/NCALM_SCB_2014/canopy_metrics/veg_classes/NCALM_SCB_2014_open_buffered_sum_30m.tif'"
   ]
  },
  {
   "cell_type": "code",
   "execution_count": 159,
   "id": "25a90810-c9e4-454b-8deb-43f2fa3846af",
   "metadata": {
    "tags": []
   },
   "outputs": [
    {
     "data": {
      "text/plain": [
       "CompletedProcess(args=['python', 'C:\\\\Users\\\\cpiske\\\\.conda\\\\envs\\\\lidar\\\\Lib\\\\site-packages\\\\osgeo_utils\\\\gdal_proximity.py', 'SCB/Sagehen_lidar/NCALM/NCALM_SCB_2014/canopy_metrics/veg_classes/NCALM_SCB_2014_tall.tif', 'SCB/Sagehen_lidar/NCALM/NCALM_SCB_2014/canopy_metrics/veg_classes/NCALM_SCB_2014_tall_buffered.tif', '-values', '1', '-maxdist', '1', '-nodata', '1', '-fixed-buf-val', '0'], returncode=0)"
      ]
     },
     "execution_count": 159,
     "metadata": {},
     "output_type": "execute_result"
    }
   ],
   "source": [
    "proximity_cmd = ['python',gdal_proximity, ncalm_tall, ncalm_buffer_tall_2014,'-values','1','-maxdist','1','-nodata','1','-fixed-buf-val','0']\n",
    "subprocess.run(proximity_cmd)"
   ]
  },
  {
   "cell_type": "code",
   "execution_count": 160,
   "id": "a43a2bf4-f7aa-46db-8ad1-5e11243f25f7",
   "metadata": {
    "tags": []
   },
   "outputs": [
    {
     "data": {
      "text/plain": [
       "CompletedProcess(args=['python', 'C:\\\\Users\\\\cpiske\\\\.conda\\\\envs\\\\lidar\\\\Lib\\\\site-packages\\\\osgeo_utils\\\\gdal_calc.py', '-A', 'SCB/Sagehen_lidar/NCALM/NCALM_SCB_2014/canopy_metrics/veg_classes/NCALM_SCB_2014_openORshort.tif', '-B', 'SCB/Sagehen_lidar/NCALM/NCALM_SCB_2014/canopy_metrics/veg_classes/NCALM_SCB_2014_tall_buffered.tif', '--NoDataValue', '0', '--outfile', 'SCB/Sagehen_lidar/NCALM/NCALM_SCB_2014/canopy_metrics/veg_classes/NCALM_SCB_2014_open_buffered.tif', '--calc=\"A*B\"', '--overwrite'], returncode=0)"
      ]
     },
     "execution_count": 160,
     "metadata": {},
     "output_type": "execute_result"
    }
   ],
   "source": [
    "buffer_cmd = ['python',gdal_calc, '-A', ncalm_openORshort,'-B',ncalm_buffer_tall_2014,'--NoDataValue','0',\n",
    " '--outfile', buffer_open_2014, '--calc=\"A*B\"','--overwrite']\n",
    "subprocess.run(buffer_cmd)"
   ]
  },
  {
   "cell_type": "code",
   "execution_count": 161,
   "id": "8e606056-becc-4d07-85de-8cd7544987ac",
   "metadata": {},
   "outputs": [
    {
     "data": {
      "text/plain": [
       "0"
      ]
     },
     "execution_count": 161,
     "metadata": {},
     "output_type": "execute_result"
    }
   ],
   "source": [
    "warp_cmd = [\"gdalwarp\",\"-overwrite\", buffer_open_2014, buffer_open_2014_30_sum, \"-te\", '730235.96', '4364741.66', '738826.9599999999627471', '4372273.16', '-tr','30','30','-dstnodata','-9999','-r','sum']\n",
    "subprocess.call(warp_cmd)"
   ]
  },
  {
   "cell_type": "code",
   "execution_count": null,
   "id": "82d6a1bf-80c4-42ff-9c3a-6bba4e581600",
   "metadata": {},
   "outputs": [],
   "source": []
  },
  {
   "cell_type": "code",
   "execution_count": null,
   "id": "83b0d838-69a6-4b18-aec8-a07c58bbf1a7",
   "metadata": {},
   "outputs": [],
   "source": []
  },
  {
   "cell_type": "markdown",
   "id": "08468d65-2615-4f9a-8426-8fd21732e78a",
   "metadata": {},
   "source": [
    "## Calculate Snow Depth"
   ]
  },
  {
   "cell_type": "markdown",
   "id": "48b0cb74-973f-4f9a-899d-223d761b7b53",
   "metadata": {},
   "source": [
    "Time to bring the snow in... <br>\n",
    "For each flight, we have two snow depths, filtered at 3 meters and 5 meters to use for open vs. under canopy <br>\n",
    "We use the general open/short/tall/understory classifications above but refine for each flight"
   ]
  },
  {
   "cell_type": "code",
   "execution_count": 122,
   "id": "a900ffbb-54dc-46b0-b0c0-0a2e56b4e32a",
   "metadata": {},
   "outputs": [],
   "source": [
    "tic = time.perf_counter()"
   ]
  },
  {
   "cell_type": "markdown",
   "id": "c625b417-61d3-4363-962b-db885e050b34",
   "metadata": {},
   "source": [
    "### Define flight/date\n",
    "We're not quite at the level where we want to create a large all-encompassing function, but adjusting consistent file-naming practices so that we can run processes without having to change whole paths is really helpful."
   ]
  },
  {
   "cell_type": "code",
   "execution_count": 1,
   "id": "25b8d303-f627-4cb1-b4c3-954a445c4f03",
   "metadata": {},
   "outputs": [],
   "source": [
    "flight = 'ASO'\n",
    "date = '20160326'"
   ]
  },
  {
   "cell_type": "markdown",
   "id": "b7e189ad-e44a-4a85-9bee-5be07882e930",
   "metadata": {
    "tags": []
   },
   "source": [
    "### Filter Data\n",
    "No we filter the snow depths in two critical ways.<br> From Kostadinov et al, 2019 \"by excluding areas\n",
    "and improving the accuracy of the lidar-derived elevation datasets. Slopes greater than 30o and lake/pond water bodies as delineated by the National Hydrography Dataset (high resolution) (https://nhd.usgs.gov/) were excluded from the analysis. We used this slope threshold because the uncertainty in elevation increases dramatically above 30 degrees slope (Takahashi et al., 2005; Tinkham et al., 2012).\""
   ]
  },
  {
   "cell_type": "markdown",
   "id": "ca59f149-630c-4f7c-addb-527ffc8ef185",
   "metadata": {},
   "source": [
    "#### Slope and Water Bodies"
   ]
  },
  {
   "cell_type": "code",
   "execution_count": 38,
   "id": "df34702f-9e04-4aa2-b769-0feeba2414e5",
   "metadata": {
    "tags": []
   },
   "outputs": [],
   "source": [
    "# Filter out all water bodies and slopes >30 degrees\n",
    "input_shp = 'SCB/supporting_files/masks/NHDWaterbody_2018_EPSG6339_clip2SCB.shp'\n",
    "slope_30 = 'SCB/Sagehen_lidar/NCALM/NCALM_SCB_2014/DEM/SCB/NCALM_2014_slope_LT30.tif'"
   ]
  },
  {
   "cell_type": "code",
   "execution_count": 412,
   "id": "8957891e-433f-4033-8b76-4f86f94c300e",
   "metadata": {
    "tags": []
   },
   "outputs": [],
   "source": [
    "base_name = flight+'_SCB_'+date\n",
    "snow_depth_LTET3 = 'SCB/Sagehen_lidar/'+flight+'/'+base_name+'/corrected_tif/'+base_name+'_vbc_3.tif'\n",
    "snow_depth_LTET3_fil = 'SCB/Sagehen_lidar/'+flight+'/'+base_name+'/corrected_tif/'+base_name+'_vbc_3_fil.tif'\n",
    "snow_depth_LTET5 = 'SCB/Sagehen_lidar/'+flight+'/'+base_name+'/corrected_tif/'+base_name+'_vbc_5.tif'\n",
    "snow_depth_LTET5_fil = 'SCB/Sagehen_lidar/'+flight+'/'+base_name+'/corrected_tif/'+base_name+'_vbc_5_fil.tif'"
   ]
  },
  {
   "cell_type": "code",
   "execution_count": 413,
   "id": "53224752-49a6-46d9-938e-bc55966cd636",
   "metadata": {},
   "outputs": [
    {
     "data": {
      "text/plain": [
       "'SCB/Sagehen_lidar/NCALM/NCALM_SCB_20080210/corrected_tif/NCALM_SCB_20080210_vbc_3.tif'"
      ]
     },
     "execution_count": 413,
     "metadata": {},
     "output_type": "execute_result"
    }
   ],
   "source": [
    "snow_depth_LTET3"
   ]
  },
  {
   "cell_type": "code",
   "execution_count": 414,
   "id": "698bf6aa-416a-403b-b33b-e73036487e3c",
   "metadata": {
    "tags": []
   },
   "outputs": [],
   "source": [
    "input_tif = snow_depth_LTET3\n",
    "input_tif_b = snow_depth_LTET5"
   ]
  },
  {
   "cell_type": "code",
   "execution_count": 415,
   "id": "e7d6ca15-1e87-41c6-9578-04088196988f",
   "metadata": {},
   "outputs": [
    {
     "data": {
      "text/plain": [
       "'SCB/supporting_files/masks/NHDWaterbody_2018_EPSG6339_clip2SCB.shp'"
      ]
     },
     "execution_count": 415,
     "metadata": {},
     "output_type": "execute_result"
    }
   ],
   "source": [
    "input_shp"
   ]
  },
  {
   "cell_type": "code",
   "execution_count": 416,
   "id": "b6e98076-aee6-4949-aebf-047b94ee01d4",
   "metadata": {
    "tags": []
   },
   "outputs": [
    {
     "data": {
      "text/plain": [
       "0"
      ]
     },
     "execution_count": 416,
     "metadata": {},
     "output_type": "execute_result"
    }
   ],
   "source": [
    "burn_command = ['gdal_rasterize', '-b', '1', '-burn', '-9999', input_shp, input_tif]\n",
    "subprocess.call(burn_command)"
   ]
  },
  {
   "cell_type": "code",
   "execution_count": 417,
   "id": "873a97cb-a8a7-4b80-9740-9a0637d44556",
   "metadata": {
    "tags": []
   },
   "outputs": [
    {
     "data": {
      "text/plain": [
       "0"
      ]
     },
     "execution_count": 417,
     "metadata": {},
     "output_type": "execute_result"
    }
   ],
   "source": [
    "burn_command = ['gdal_rasterize', '-b', '1', '-burn', '-9999', input_shp, input_tif_b]\n",
    "subprocess.call(burn_command)"
   ]
  },
  {
   "cell_type": "code",
   "execution_count": 418,
   "id": "f71798b7-80d6-4bb0-8747-85e365eaedb4",
   "metadata": {
    "tags": []
   },
   "outputs": [
    {
     "data": {
      "text/plain": [
       "CompletedProcess(args=['python', 'C:\\\\Users\\\\cpiske\\\\.conda\\\\envs\\\\lidar\\\\Lib\\\\site-packages\\\\osgeo_utils\\\\gdal_calc.py', '-A', 'SCB/Sagehen_lidar/NCALM/NCALM_SCB_20080210/corrected_tif/NCALM_SCB_20080210_vbc_5.tif', '-B', 'SCB/Sagehen_lidar/NCALM/NCALM_SCB_2014/DEM/SCB/NCALM_2014_slope_LT30.tif', '--NoDataValue', '-9999', '--outfile', 'SCB/Sagehen_lidar/NCALM/NCALM_SCB_20080210/corrected_tif/NCALM_SCB_20080210_vbc_5_fil.tif', '--calc=\"A*B*(A>=0.15)\"', '--overwrite'], returncode=0)"
      ]
     },
     "execution_count": 418,
     "metadata": {},
     "output_type": "execute_result"
    }
   ],
   "source": [
    "# in this case it's okay that the logical will output a value of 0 for each point <.15 because\n",
    "# the assumption is that those points are 0 and NAns are not included in the calculations\n",
    "sd_filter_cmd = ['python',gdal_calc, '-A', snow_depth_LTET3,'-B',slope_30,'--NoDataValue','-9999',\n",
    " '--outfile', snow_depth_LTET3_fil, '--calc=\"A*B*(A>=0.15)\"','--overwrite']\n",
    "subprocess.run(sd_filter_cmd)\n",
    "\n",
    "sd_filter_cmd = ['python',gdal_calc, '-A', snow_depth_LTET5,'-B',slope_30,'--NoDataValue','-9999',\n",
    " '--outfile', snow_depth_LTET5_fil, '--calc=\"A*B*(A>=0.15)\"','--overwrite']\n",
    "subprocess.run(sd_filter_cmd)"
   ]
  },
  {
   "cell_type": "markdown",
   "id": "1e6e7f46-06ae-4b30-9c5f-1e00c94cd801",
   "metadata": {},
   "source": [
    "### Refine Vegetation Classes"
   ]
  },
  {
   "cell_type": "code",
   "execution_count": 4,
   "id": "f498ae6d-06b8-4fd8-8085-9c10fce76c98",
   "metadata": {
    "tags": []
   },
   "outputs": [],
   "source": [
    "base_name = flight+'_SCB_'+date\n",
    "\n",
    "snow_depth_LTET3_fil = 'SCB/Sagehen_lidar/'+flight+'/'+base_name+'/corrected_tif/'+base_name+'_vbc_3_fil.tif'\n",
    "snow_depth_LTET5_fil = 'SCB/Sagehen_lidar/'+flight+'/'+base_name+'/corrected_tif/'+base_name+'_vbc_5_fil.tif'\n",
    "flight_spec_short = 'SCB/Sagehen_lidar/'+flight+'/'+base_name+'/veg_classes/'+base_name+'_short.tif'\n",
    "flight_spec_open = 'SCB/Sagehen_lidar/'+flight+'/'+base_name+'/veg_classes/'+base_name+'_open.tif'\n",
    "flight_spec_understory = 'SCB/Sagehen_lidar/'+flight+'/'+base_name+'/veg_classes/'+base_name+'_understory.tif'\n",
    "flight_spec_tall = 'SCB/Sagehen_lidar/'+flight+'/'+base_name+'/veg_classes/'+base_name+'_tall.tif'"
   ]
  },
  {
   "cell_type": "markdown",
   "id": "f826cddd-fe1e-449c-8ac3-530781d7bd88",
   "metadata": {},
   "source": [
    "Refine vegetation classifications based on snow-on flights. We set a threshold of 30 cm so that if the snow-on flight is <30 cm greater than the snow-off flight, we do not keep that short/understory pixel. "
   ]
  },
  {
   "cell_type": "code",
   "execution_count": 420,
   "id": "b8eaac95-5b1e-45ff-8f95-bc3b307e99fe",
   "metadata": {
    "tags": []
   },
   "outputs": [
    {
     "data": {
      "text/plain": [
       "CompletedProcess(args=['python', 'C:\\\\Users\\\\cpiske\\\\.conda\\\\envs\\\\lidar\\\\Lib\\\\site-packages\\\\osgeo_utils\\\\gdal_calc.py', '-A', 'SCB/Sagehen_lidar/NCALM/NCALM_SCB_20080210/veg_classes/NCALM_SCB_20080210_understory.tif', '-B', 'SCB/Sagehen_lidar/NCALM/NCALM_SCB_2014/canopy_metrics/veg_classes/NCALM_SCB_2014_tall.tif', '--hideNoData', '--NoDataValue', '0', '--outfile', 'SCB/Sagehen_lidar/NCALM/NCALM_SCB_20080210/veg_classes/NCALM_SCB_20080210_tall.tif', '--calc=\"1*logical_or(A>0, B>0)\"', '--overwrite'], returncode=0)"
      ]
     },
     "execution_count": 420,
     "metadata": {},
     "output_type": "execute_result"
    }
   ],
   "source": [
    "# nodata has to be -9999 because of the multiplying step below\n",
    "SD_open_cmd = ['python',gdal_calc, '-A', snow_depth_LTET5_fil, '-B', ncalm_short,'-C', CHM_LT1pt5,'--NoDataValue','0',\n",
    " '--outfile', flight_spec_short, '--calc=\"((A-C)>0.3)*B\"','--overwrite']\n",
    "subprocess.run(SD_open_cmd)\n",
    "\n",
    "SD_open_cmd = ['python',gdal_calc, '-A', flight_spec_short, '-B', ncalm_open,'--hideNoData','--NoDataValue','0',\n",
    "    '--outfile', flight_spec_open, '--calc=\"1*logical_or(A>0, B>0)\"','--overwrite']\n",
    "subprocess.run(SD_open_cmd)\n",
    "\n",
    "SD_tall_cmd = ['python',gdal_calc, '-A', snow_depth_LTET3_fil, '-B', ncalm_understory,'-C', CHM_LT1pt5,'--NoDataValue','0',\n",
    " '--outfile', flight_spec_understory, '--calc=\"((A-C)>0.3)*B\"','--overwrite']\n",
    "subprocess.run(SD_tall_cmd)\n",
    "\n",
    "SD_tall_cmd = ['python',gdal_calc, '-A', flight_spec_understory, '-B', ncalm_tall,'--hideNoData','--NoDataValue','0',\n",
    " '--outfile', flight_spec_tall, '--calc=\"1*logical_or(A>0, B>0)\"','--overwrite']\n",
    "subprocess.run(SD_tall_cmd)"
   ]
  },
  {
   "cell_type": "markdown",
   "id": "26fab49d-eb59-4015-bc43-32b740003526",
   "metadata": {},
   "source": [
    "### Calculate Snow Depth"
   ]
  },
  {
   "cell_type": "code",
   "execution_count": 421,
   "id": "95c175b8-b1e7-4c18-816c-3700fca7763e",
   "metadata": {},
   "outputs": [],
   "source": [
    "# # do not use this cell\n",
    "# snow_depth_all_pts = 'SCB/Sagehen_lidar/ASO/ASO_SCB_20160326/snow_depth/ASO_SCB_20160326_SD.tif'\n",
    "# snow_depth_refined = 'SCB/Sagehen_lidar/ASO/ASO_SCB_20160326/snow_depth/ASO_SCB_20160326_SD.tif'\n",
    "# snow_depth_refined_binary = 'SCB/Sagehen_lidar/ASO/ASO_SCB_20160326/snow_depth/ASO_SCB_20160326_SD_binary.tif'\n",
    "# snow_depth_refined_binary_30 = 'SCB/Sagehen_lidar/ASO/ASO_SCB_20160326/snow_depth/ASO_SCB_20160326_SD_binary_30m.tif'"
   ]
  },
  {
   "cell_type": "code",
   "execution_count": 5,
   "id": "c3f2a51b-9901-4216-9a5e-12226f1a2844",
   "metadata": {
    "tags": []
   },
   "outputs": [],
   "source": [
    "\n",
    "base_name = flight+\"_SCB_\"+date\n",
    "snow_depth_all_pts = 'SCB/Sagehen_lidar/'+flight+'/'+base_name+'/snow_depth/'+base_name+'_SD.tif'\n",
    "snow_depth = 'SCB/Sagehen_lidar/'+flight+'/'+base_name+'/snow_depth/'+base_name+'_SD.tif'\n",
    "snow_depth_open = 'SCB/Sagehen_lidar/'+flight+'/'+base_name+'/snow_depth/'+base_name+'_SD_open.tif'\n",
    "snow_depth_tall = 'SCB/Sagehen_lidar/'+flight+'/'+base_name+'/snow_depth/'+base_name+'_SD_tall.tif'\n",
    "\n",
    "snow_depth_binary = 'SCB/Sagehen_lidar/'+flight+'/'+base_name+'/snow_depth/'+base_name+'_SD_binary.tif'\n",
    "snow_depth_binary_30 = 'SCB/Sagehen_lidar/'+flight+'/'+base_name+'/snow_depth/'+base_name+'_SD_binarySum_30m.tif'\n",
    "snow_depth_binary_open_30 = 'SCB/Sagehen_lidar/'+flight+'/'+base_name+'/snow_depth/'+base_name+'_SD_open_binarySum_30m.tif'\n",
    "snow_depth_binary_tall_30 = 'SCB/Sagehen_lidar/'+flight+'/'+base_name+'/snow_depth/'+base_name+'_SD_tall_binarySum_30m.tif'\n",
    "snow_depth_binary_open_tall_30 = 'SCB/Sagehen_lidar/'+flight+'/'+base_name+'/snow_depth/'+base_name+'_SD_open_tall_binarySum_30m.tif'\n",
    "\n",
    "snow_depth_binaryDen_30 = 'SCB/Sagehen_lidar/'+flight+'/'+base_name+'/snow_depth/'+base_name+'_SD_binaryDen_30m.tif'\n"
   ]
  },
  {
   "cell_type": "code",
   "execution_count": 6,
   "id": "278bef9e-6700-467d-91b4-6ac5304a309f",
   "metadata": {},
   "outputs": [
    {
     "data": {
      "text/plain": [
       "'SCB/Sagehen_lidar/ASO/ASO_SCB_20160326/veg_classes/ASO_SCB_20160326_open.tif'"
      ]
     },
     "execution_count": 6,
     "metadata": {},
     "output_type": "execute_result"
    }
   ],
   "source": [
    "flight_spec_open"
   ]
  },
  {
   "cell_type": "code",
   "execution_count": 11,
   "id": "c71b24d1-4997-47cf-bade-5b495d422400",
   "metadata": {
    "tags": []
   },
   "outputs": [
    {
     "data": {
      "text/plain": [
       "CompletedProcess(args=['python', 'C:\\\\Users\\\\cpiske\\\\.conda\\\\envs\\\\lidar\\\\Lib\\\\site-packages\\\\osgeo_utils\\\\gdal_calc.py', '-A', 'SCB/Sagehen_lidar/ASO/ASO_SCB_20160326/corrected_tif/ASO_SCB_20160326_vbc_5_fil.tif', '-B', 'SCB/Sagehen_lidar/ASO/ASO_SCB_20160326/veg_classes/ASO_SCB_20160326_open.tif', '--NoDataValue', '-9999', '--outfile', 'SCB/Sagehen_lidar/ASO/ASO_SCB_20160326/snow_depth/ASO_SCB_20160326_SD_open.tif', '--calc=\"A*B*(A>0.15)\"', '--overwrite'], returncode=0)"
      ]
     },
     "execution_count": 11,
     "metadata": {},
     "output_type": "execute_result"
    }
   ],
   "source": [
    "SD_open_cmd = ['python', gdal_calc, '-A', snow_depth_LTET5_fil, '-B', flight_spec_open,'--NoDataValue','-9999',\n",
    " '--outfile', snow_depth_open, '--calc=\"A*B*(A>0.15)\"','--overwrite']\n",
    "subprocess.run(SD_open_cmd)"
   ]
  },
  {
   "cell_type": "code",
   "execution_count": 12,
   "id": "0e4dcd66-335a-497d-bd83-e42f39b94efe",
   "metadata": {
    "tags": []
   },
   "outputs": [
    {
     "data": {
      "text/plain": [
       "CompletedProcess(args=['python', 'C:\\\\Users\\\\cpiske\\\\.conda\\\\envs\\\\lidar\\\\Lib\\\\site-packages\\\\osgeo_utils\\\\gdal_calc.py', '-A', 'SCB/Sagehen_lidar/ASO/ASO_SCB_20160326/corrected_tif/ASO_SCB_20160326_vbc_3_fil.tif', '-B', 'SCB/Sagehen_lidar/ASO/ASO_SCB_20160326/veg_classes/ASO_SCB_20160326_tall.tif', '--NoDataValue', '-9999', '--outfile', 'SCB/Sagehen_lidar/ASO/ASO_SCB_20160326/snow_depth/ASO_SCB_20160326_SD_tall.tif', '--calc=\"A*B*(A>0.15)\"', '--overwrite'], returncode=0)"
      ]
     },
     "execution_count": 12,
     "metadata": {},
     "output_type": "execute_result"
    }
   ],
   "source": [
    "SD_tall_cmd = ['python', gdal_calc, '-A', snow_depth_LTET3_fil, '-B', flight_spec_tall,'--NoDataValue','-9999',\n",
    " '--outfile', snow_depth_tall, '--calc=\"A*B*(A>0.15)\"','--overwrite']\n",
    "subprocess.run(SD_tall_cmd)"
   ]
  },
  {
   "cell_type": "code",
   "execution_count": 13,
   "id": "26238bb9-a028-4f44-b252-01feb5cf779c",
   "metadata": {
    "tags": []
   },
   "outputs": [
    {
     "data": {
      "text/plain": [
       "0"
      ]
     },
     "execution_count": 13,
     "metadata": {},
     "output_type": "execute_result"
    }
   ],
   "source": [
    "merge_command = [\"python\", gdal_merge, \"-o\", snow_depth_all_pts, snow_depth_open, snow_depth_tall,'-n','-9999','-a_nodata','-9999']\n",
    "subprocess.call(merge_command)"
   ]
  },
  {
   "cell_type": "code",
   "execution_count": null,
   "id": "5eaab3a9-4669-4682-b852-f81aca970daf",
   "metadata": {},
   "outputs": [],
   "source": []
  },
  {
   "cell_type": "code",
   "execution_count": 14,
   "id": "9a8b9d2e-923e-460e-abf3-2c6e4a55ac80",
   "metadata": {
    "tags": []
   },
   "outputs": [
    {
     "data": {
      "text/plain": [
       "CompletedProcess(args=['python', 'C:\\\\Users\\\\cpiske\\\\.conda\\\\envs\\\\lidar\\\\Lib\\\\site-packages\\\\osgeo_utils\\\\gdal_calc.py', '-A', 'SCB/Sagehen_lidar/ASO/ASO_SCB_20160326/snow_depth/ASO_SCB_20160326_SD.tif', '--NoDataValue', '0', '--outfile', 'SCB/Sagehen_lidar/ASO/ASO_SCB_20160326/snow_depth/ASO_SCB_20160326_SD_binary.tif', '--calc=\"A>0\"', '--overwrite'], returncode=0)"
      ]
     },
     "execution_count": 14,
     "metadata": {},
     "output_type": "execute_result"
    }
   ],
   "source": [
    "# Create a binary file (snow=1, no snow=0)\n",
    "sd_filter_cmd = ['python',gdal_calc, '-A', snow_depth_all_pts,'--NoDataValue','0',\n",
    " '--outfile', snow_depth_binary, '--calc=\"A>0\"','--overwrite']\n",
    "subprocess.run(sd_filter_cmd)"
   ]
  },
  {
   "cell_type": "code",
   "execution_count": 15,
   "id": "f0c817aa-6f20-4d8f-a1c4-60574ced8af6",
   "metadata": {
    "tags": []
   },
   "outputs": [
    {
     "data": {
      "text/plain": [
       "0"
      ]
     },
     "execution_count": 15,
     "metadata": {},
     "output_type": "execute_result"
    }
   ],
   "source": [
    "# resample\n",
    "warp_cmd = [\"gdalwarp\",\"-overwrite\", snow_depth_binary, snow_depth_binary_30, \"-te\", '730235.96', '4364741.66', '738826.9599999999627471', '4372273.16', '-tr','30','30','-srcnodata','0','-dstnodata','-9999','-r','sum']\n",
    "subprocess.call(warp_cmd)"
   ]
  },
  {
   "cell_type": "code",
   "execution_count": 16,
   "id": "d68ab8f4-750e-455b-b940-8e2d29e9e534",
   "metadata": {},
   "outputs": [
    {
     "data": {
      "text/plain": [
       "0"
      ]
     },
     "execution_count": 16,
     "metadata": {},
     "output_type": "execute_result"
    }
   ],
   "source": [
    "# resample\n",
    "warp_cmd = [\"gdalwarp\",\"-overwrite\", flight_spec_tall, snow_depth_binary_tall_30, \"-te\", '730235.96', '4364741.66', '738826.9599999999627471', '4372273.16', '-tr','30','30','-srcnodata','0','-dstnodata','-9999','-r','sum']\n",
    "subprocess.call(warp_cmd)"
   ]
  },
  {
   "cell_type": "code",
   "execution_count": 17,
   "id": "a319887c-a6f7-41f3-82d4-2cfafee31136",
   "metadata": {},
   "outputs": [
    {
     "data": {
      "text/plain": [
       "0"
      ]
     },
     "execution_count": 17,
     "metadata": {},
     "output_type": "execute_result"
    }
   ],
   "source": [
    "warp_cmd = [\"gdalwarp\",\"-overwrite\", flight_spec_open, snow_depth_binary_open_30, \"-te\", '730235.96', '4364741.66', '738826.9599999999627471', '4372273.16', '-tr','30','30','-srcnodata','0','-dstnodata','-9999','-r','sum']\n",
    "subprocess.call(warp_cmd)"
   ]
  },
  {
   "cell_type": "code",
   "execution_count": 18,
   "id": "81be8a1d-23f5-4c93-b5df-01f904117288",
   "metadata": {},
   "outputs": [
    {
     "data": {
      "text/plain": [
       "CompletedProcess(args=['python', 'C:\\\\Users\\\\cpiske\\\\.conda\\\\envs\\\\lidar\\\\Lib\\\\site-packages\\\\osgeo_utils\\\\gdal_calc.py', '-A', 'SCB/Sagehen_lidar/ASO/ASO_SCB_20160326/snow_depth/ASO_SCB_20160326_SD_open_binarySum_30m.tif', '-B', 'SCB/Sagehen_lidar/ASO/ASO_SCB_20160326/snow_depth/ASO_SCB_20160326_SD_tall_binarySum_30m.tif', '--NoDataValue', '-9999', '--outfile', 'SCB/Sagehen_lidar/ASO/ASO_SCB_20160326/snow_depth/ASO_SCB_20160326_SD_open_tall_binarySum_30m.tif', '--calc=\"A-B\"', '--overwrite'], returncode=0)"
      ]
     },
     "execution_count": 18,
     "metadata": {},
     "output_type": "execute_result"
    }
   ],
   "source": [
    "snow_cmd = ['python', gdal_calc, '-A', snow_depth_binary_open_30, '-B', snow_depth_binary_tall_30,'--NoDataValue','-9999',\n",
    " '--outfile', snow_depth_binary_open_tall_30, '--calc=\"A-B\"','--overwrite']\n",
    "subprocess.run(snow_cmd)"
   ]
  },
  {
   "cell_type": "code",
   "execution_count": 19,
   "id": "c4f9303c-dfb4-42ff-80e0-8e91ed619ecd",
   "metadata": {
    "tags": []
   },
   "outputs": [
    {
     "data": {
      "text/plain": [
       "CompletedProcess(args=['python', 'C:\\\\Users\\\\cpiske\\\\.conda\\\\envs\\\\lidar\\\\Lib\\\\site-packages\\\\osgeo_utils\\\\gdal_calc.py', '-A', 'SCB/Sagehen_lidar/ASO/ASO_SCB_20160326/snow_depth/ASO_SCB_20160326_SD_binarySum_30m.tif', '--NoDataValue', '-9999', '--outfile', 'SCB/Sagehen_lidar/ASO/ASO_SCB_20160326/snow_depth/ASO_SCB_20160326_SD_binaryDen_30m.tif', '--calc=\"A/900\"', '--overwrite'], returncode=0)"
      ]
     },
     "execution_count": 19,
     "metadata": {},
     "output_type": "execute_result"
    }
   ],
   "source": [
    "binary_cmd = ['python',gdal_calc, '-A', snow_depth_binary_30,'--NoDataValue','-9999',\n",
    " '--outfile', snow_depth_binaryDen_30, '--calc=\"A/900\"','--overwrite']\n",
    "subprocess.run(binary_cmd)"
   ]
  },
  {
   "cell_type": "markdown",
   "id": "ddffb195-d173-4615-8920-c5539ec42de9",
   "metadata": {},
   "source": [
    "### Create Vegetation Buffer\n",
    "for statistical analysis later <br>\n",
    "We start with a tall buffer. Starting with the fligth specific tall/open classifications. Search for the values of 1 in the tall raster and classify each value according to it's proximity to the neaerest 1 - however, in this case, the max distance is 1 (creating a 1m buffer around each tree) and values within 1m are assigedn a value of 0. All other pixels are given a value of 1. <br>\n",
    "This let's us create an \"open buffered\" raster by multiplying our open raster with the new tall buffer. i.e. anywhere the pixel is open (==1) and the tall buffer indicates an open area (==1)"
   ]
  },
  {
   "cell_type": "code",
   "execution_count": 20,
   "id": "dc00ca09-f0ea-487e-85c7-61923e5017db",
   "metadata": {
    "tags": []
   },
   "outputs": [],
   "source": [
    "src_tall = 'SCB/Sagehen_lidar/'+flight+'/'+base_name+'/veg_classes/'+base_name+'_tall.tif'\n",
    "buffer_tall = 'SCB/Sagehen_lidar/'+flight+'/'+base_name+'/veg_classes/'+base_name+'_tall_buffered.tif'\n",
    "\n",
    "src_open = 'SCB/Sagehen_lidar/'+flight+'/'+base_name+'/veg_classes/'+base_name+'_open.tif'\n",
    "buffer_open = 'SCB/Sagehen_lidar/'+flight+'/'+base_name+'/veg_classes/'+base_name+'_open_buffered.tif'\n",
    "buffer_open_30 = 'SCB/Sagehen_lidar/'+flight+'/'+base_name+'/veg_classes/'+base_name+'_open_buffered_sum_30m.tif'"
   ]
  },
  {
   "cell_type": "code",
   "execution_count": 21,
   "id": "9f27ec24-7be8-415b-b193-d603c5dc37de",
   "metadata": {
    "tags": []
   },
   "outputs": [
    {
     "data": {
      "text/plain": [
       "CompletedProcess(args=['python', 'C:\\\\Users\\\\cpiske\\\\.conda\\\\envs\\\\lidar\\\\Lib\\\\site-packages\\\\osgeo_utils\\\\gdal_proximity.py', 'SCB/Sagehen_lidar/ASO/ASO_SCB_20160326/veg_classes/ASO_SCB_20160326_tall.tif', 'SCB/Sagehen_lidar/ASO/ASO_SCB_20160326/veg_classes/ASO_SCB_20160326_tall_buffered.tif', '-values', '1', '-maxdist', '1', '-nodata', '1', '-fixed-buf-val', '0'], returncode=0)"
      ]
     },
     "execution_count": 21,
     "metadata": {},
     "output_type": "execute_result"
    }
   ],
   "source": [
    "proximity_cmd = ['python',gdal_proximity, src_tall, buffer_tall,'-values','1','-maxdist','1','-nodata','1','-fixed-buf-val','0']\n",
    "subprocess.run(proximity_cmd)"
   ]
  },
  {
   "cell_type": "code",
   "execution_count": 22,
   "id": "4f4e5e28-c882-4402-87f2-4e2a7212d6a2",
   "metadata": {
    "tags": []
   },
   "outputs": [
    {
     "data": {
      "text/plain": [
       "CompletedProcess(args=['python', 'C:\\\\Users\\\\cpiske\\\\.conda\\\\envs\\\\lidar\\\\Lib\\\\site-packages\\\\osgeo_utils\\\\gdal_calc.py', '-A', 'SCB/Sagehen_lidar/ASO/ASO_SCB_20160326/veg_classes/ASO_SCB_20160326_open.tif', '-B', 'SCB/Sagehen_lidar/ASO/ASO_SCB_20160326/veg_classes/ASO_SCB_20160326_tall_buffered.tif', '--NoDataValue', '0', '--outfile', 'SCB/Sagehen_lidar/ASO/ASO_SCB_20160326/veg_classes/ASO_SCB_20160326_open_buffered.tif', '--calc=\"A*B\"', '--overwrite'], returncode=0)"
      ]
     },
     "execution_count": 22,
     "metadata": {},
     "output_type": "execute_result"
    }
   ],
   "source": [
    "buffer_cmd = ['python',gdal_calc, '-A', src_open,'-B',buffer_tall,'--NoDataValue','0',\n",
    " '--outfile', buffer_open, '--calc=\"A*B\"','--overwrite']\n",
    "subprocess.run(buffer_cmd)"
   ]
  },
  {
   "cell_type": "code",
   "execution_count": 23,
   "id": "17efc226-78d2-4b1e-89c0-f77163c1c267",
   "metadata": {},
   "outputs": [
    {
     "data": {
      "text/plain": [
       "0"
      ]
     },
     "execution_count": 23,
     "metadata": {},
     "output_type": "execute_result"
    }
   ],
   "source": [
    "warp_cmd = [\"gdalwarp\",\"-overwrite\", buffer_open, buffer_open_30, \"-te\", '730235.96', '4364741.66', '738826.9599999999627471', '4372273.16', '-tr','30','30','-dstnodata','-9999','-r','sum']\n",
    "subprocess.call(warp_cmd)"
   ]
  },
  {
   "cell_type": "code",
   "execution_count": null,
   "id": "bf62f317-3aec-4a1f-a0ad-d8a9cb6dd145",
   "metadata": {},
   "outputs": [],
   "source": []
  },
  {
   "cell_type": "markdown",
   "id": "c1fea5d1-71d6-45aa-85a1-799d67077a4e",
   "metadata": {},
   "source": [
    "## Calculate SWE"
   ]
  },
  {
   "cell_type": "markdown",
   "id": "94fd2f2f-78fc-4093-9b6b-b17d46e2b393",
   "metadata": {},
   "source": [
    "Start by making sure our density rasters align with snow depth rasters <br>\n",
    "from the Lidar Processing workflow we can extract our bounds: '730235.96, 738826.45,4364741.66,4372273.16'"
   ]
  },
  {
   "cell_type": "markdown",
   "id": "51b967d4-3083-4cae-995b-d85fc9f39ce2",
   "metadata": {},
   "source": [
    "### Align Rasters"
   ]
  },
  {
   "cell_type": "code",
   "execution_count": 24,
   "id": "8ec48284-fdac-4b5c-8e09-fbab41d88fe8",
   "metadata": {
    "tags": []
   },
   "outputs": [],
   "source": [
    "\n",
    "base_name = flight+'_SCB_'+date\n",
    "input_density = 'SCB/Sagehen_lidar/'+flight+'/'+base_name+'/snow_density/'+'snowPALM_SCB_'+date+'_snowDensity_epsg6339.tif'\n",
    "output_density = 'SCB/Sagehen_lidar/'+flight+'/'+base_name+'/snow_density/'+'snowPALM_SCB_'+date+'_snowDensity_warp.tif'"
   ]
  },
  {
   "cell_type": "code",
   "execution_count": 25,
   "id": "8f9ef0f5-8857-43dd-88c0-20262bfa4814",
   "metadata": {
    "tags": []
   },
   "outputs": [
    {
     "data": {
      "text/plain": [
       "0"
      ]
     },
     "execution_count": 25,
     "metadata": {},
     "output_type": "execute_result"
    }
   ],
   "source": [
    "# nodata is 0 to account for strange model outputs (i.e. we don't want SWE=0 where density =0)\n",
    "warp_cmd = [\"gdalwarp\",\"-overwrite\", input_density, output_density, \"-te\", '730235.96', '4364741.66', '738826.9599999999627471', '4372273.16', '-tr','1','1','-dstnodata','0']\n",
    "subprocess.call(warp_cmd)"
   ]
  },
  {
   "cell_type": "markdown",
   "id": "aecb947b-6d35-4b9f-a2c1-4c1f28c34eaf",
   "metadata": {},
   "source": [
    "### Calculate SWE"
   ]
  },
  {
   "cell_type": "code",
   "execution_count": 26,
   "id": "c3965366-e8e3-4a89-a7ca-80cd11363e72",
   "metadata": {
    "tags": []
   },
   "outputs": [],
   "source": [
    "base_name = flight+'_SCB_'+date\n",
    "res = '30'\n",
    "input_snow_depth = 'SCB/Sagehen_lidar/'+flight+'/'+base_name+'/snow_depth/'+base_name+'_SD.tif'\n",
    "input_snow_depth_open = 'SCB/Sagehen_lidar/'+flight+'/'+base_name+'/snow_depth/'+base_name+'_SD_open.tif'\n",
    "input_snow_depth_tall = 'SCB/Sagehen_lidar/'+flight+'/'+base_name+'/snow_depth/'+base_name+'_SD_tall.tif'\n",
    "\n",
    "input_snow_density = 'SCB/Sagehen_lidar/'+flight+'/'+base_name+'/snow_density/'+'snowPALM_SCB_'+date+'_snowDensity_warp.tif'\n",
    "\n",
    "output_SWE =  'SCB/Sagehen_lidar/'+flight+'/'+base_name+'/SWE/'+base_name+'_SWE.tif'\n",
    "output_SWE_30 =  'SCB/Sagehen_lidar/'+flight+'/'+base_name+'/SWE/'+base_name+'_SWE_30m.tif'\n",
    "output_SWE_open =  'SCB/Sagehen_lidar/'+flight+'/'+base_name+'/SWE/'+base_name+'_SWE_open.tif'\n",
    "output_SWE_open_30 =  'SCB/Sagehen_lidar/'+flight+'/'+base_name+'/SWE/'+base_name+'_SWE_open_30m.tif'\n",
    "output_SWE_tall =  'SCB/Sagehen_lidar/'+flight+'/'+base_name+'/SWE/'+base_name+'_SWE_tall.tif'\n",
    "output_SWE_tall_30 =  'SCB/Sagehen_lidar/'+flight+'/'+base_name+'/SWE/'+base_name+'_SWE_tall_30m.tif'"
   ]
  },
  {
   "cell_type": "code",
   "execution_count": 27,
   "id": "8e27f99e-876d-4c41-819c-ed8d5aa919aa",
   "metadata": {
    "tags": []
   },
   "outputs": [
    {
     "data": {
      "text/plain": [
       "CompletedProcess(args=['python', 'C:\\\\Users\\\\cpiske\\\\.conda\\\\envs\\\\lidar\\\\Lib\\\\site-packages\\\\osgeo_utils\\\\gdal_calc.py', '-A', 'SCB/Sagehen_lidar/ASO/ASO_SCB_20160326/snow_depth/ASO_SCB_20160326_SD_tall.tif', '-B', 'SCB/Sagehen_lidar/ASO/ASO_SCB_20160326/snow_density/snowPALM_SCB_20160326_snowDensity_warp.tif', '--NoDataValue', '-9999', '--outfile', 'SCB/Sagehen_lidar/ASO/ASO_SCB_20160326/SWE/ASO_SCB_20160326_SWE_tall.tif', '--calc=\"A*B*100\"', '--overwrite'], returncode=0)"
      ]
     },
     "execution_count": 27,
     "metadata": {},
     "output_type": "execute_result"
    }
   ],
   "source": [
    "swe_cmd = ['python',gdal_calc, '-A', input_snow_depth,'-B',input_snow_density,'--NoDataValue','-9999',\n",
    " '--outfile', output_SWE, '--calc=\"A*B*100\"','--overwrite']\n",
    "subprocess.run(swe_cmd)\n",
    "\n",
    "swe_open_cmd = ['python',gdal_calc, '-A', input_snow_depth_open,'-B',input_snow_density,'--NoDataValue','-9999',\n",
    " '--outfile', output_SWE_open, '--calc=\"A*B*100\"','--overwrite']\n",
    "subprocess.run(swe_open_cmd)\n",
    "\n",
    "swe_tall_cmd = ['python',gdal_calc, '-A', input_snow_depth_tall,'-B',input_snow_density,'--NoDataValue','-9999',\n",
    " '--outfile', output_SWE_tall, '--calc=\"A*B*100\"','--overwrite']\n",
    "subprocess.run(swe_tall_cmd)"
   ]
  },
  {
   "cell_type": "code",
   "execution_count": 28,
   "id": "d4dd2ebc-f5fc-491c-afcb-404e90c9c69c",
   "metadata": {},
   "outputs": [
    {
     "data": {
      "text/plain": [
       "0"
      ]
     },
     "execution_count": 28,
     "metadata": {},
     "output_type": "execute_result"
    }
   ],
   "source": [
    "warp_cmd = [\"gdalwarp\",\"-overwrite\", output_SWE, output_SWE_30, \"-te\", '730235.96', '4364741.66', '738826.9599999999627471', '4372273.16', '-tr',res,res,'-dstnodata','-9999','-r','average']\n",
    "subprocess.call(warp_cmd)"
   ]
  },
  {
   "cell_type": "code",
   "execution_count": 29,
   "id": "eaad2de2-6e47-4840-b525-ed209158ab2a",
   "metadata": {},
   "outputs": [
    {
     "data": {
      "text/plain": [
       "0"
      ]
     },
     "execution_count": 29,
     "metadata": {},
     "output_type": "execute_result"
    }
   ],
   "source": [
    "warp_cmd = [\"gdalwarp\",\"-overwrite\", output_SWE_tall, output_SWE_tall_30, \"-te\", '730235.96', '4364741.66', '738826.9599999999627471', '4372273.16', '-tr',res,res,'-dstnodata','-9999','-r','average']\n",
    "subprocess.call(warp_cmd)"
   ]
  },
  {
   "cell_type": "code",
   "execution_count": 30,
   "id": "cca3c866-d21e-4da7-b8db-b9dfbcad0d5a",
   "metadata": {},
   "outputs": [
    {
     "data": {
      "text/plain": [
       "0"
      ]
     },
     "execution_count": 30,
     "metadata": {},
     "output_type": "execute_result"
    }
   ],
   "source": [
    "warp_cmd = [\"gdalwarp\",\"-overwrite\", output_SWE_tall, output_SWE_tall_30, \"-te\", '730235.96', '4364741.66', '738826.9599999999627471', '4372273.16', '-tr',res,res,'-dstnodata','-9999','-r','average']\n",
    "subprocess.call(warp_cmd)"
   ]
  },
  {
   "cell_type": "markdown",
   "id": "88251533-3525-443a-9d7c-369582bd655d",
   "metadata": {},
   "source": [
    "#### Apply Buffer Zones"
   ]
  },
  {
   "cell_type": "code",
   "execution_count": 31,
   "id": "ffde070e-4f15-4b6b-afbd-eeb0d7bb74a0",
   "metadata": {
    "tags": []
   },
   "outputs": [],
   "source": [
    "base_name = flight + '_SCB_' + date\n",
    "res = '30'\n",
    "input_SWE = 'SCB/Sagehen_lidar/'+flight+'/'+base_name+'/SWE/'+base_name+'_SWE.tif'\n",
    "buffer_open = 'SCB/Sagehen_lidar/'+flight+'/'+base_name+'/veg_classes/'+base_name+'_open_buffered.tif'\n",
    "SWE_open_buffered =  'SCB/Sagehen_lidar/'+flight+'/'+base_name+'/SWE/'+base_name+'_SWE_open_buffered.tif'\n",
    "SWE_open_buffered_30 =  'SCB/Sagehen_lidar/'+flight+'/'+base_name+'/SWE/'+base_name+'_SWE_open_buffered_30m.tif'\n",
    "SWE_open_weights =  'SCB/Sagehen_lidar/'+flight+'/'+base_name+'/veg_classes/'+base_name+'_weights.tif'"
   ]
  },
  {
   "cell_type": "code",
   "execution_count": 32,
   "id": "2350b334-845d-4d02-a56d-39a1f471c1df",
   "metadata": {
    "tags": []
   },
   "outputs": [
    {
     "data": {
      "text/plain": [
       "CompletedProcess(args=['python', 'C:\\\\Users\\\\cpiske\\\\.conda\\\\envs\\\\lidar\\\\Lib\\\\site-packages\\\\osgeo_utils\\\\gdal_calc.py', '-A', 'SCB/Sagehen_lidar/ASO/ASO_SCB_20160326/SWE/ASO_SCB_20160326_SWE.tif', '-B', 'SCB/Sagehen_lidar/ASO/ASO_SCB_20160326/veg_classes/ASO_SCB_20160326_open_buffered.tif', '--NoDataValue', '-9999', '--outfile', 'SCB/Sagehen_lidar/ASO/ASO_SCB_20160326/SWE/ASO_SCB_20160326_SWE_open_buffered.tif', '--calc=\"A*B\"', '--overwrite'], returncode=0)"
      ]
     },
     "execution_count": 32,
     "metadata": {},
     "output_type": "execute_result"
    }
   ],
   "source": [
    "swe_open_cmd = ['python',gdal_calc, '-A', input_SWE,'-B',buffer_open,'--NoDataValue','-9999',\n",
    " '--outfile', SWE_open_buffered, '--calc=\"A*B\"','--overwrite']\n",
    "subprocess.run(swe_open_cmd)"
   ]
  },
  {
   "cell_type": "code",
   "execution_count": 33,
   "id": "b1076f6a-64f0-4123-9f6c-b26f5c294c20",
   "metadata": {
    "tags": []
   },
   "outputs": [
    {
     "data": {
      "text/plain": [
       "0"
      ]
     },
     "execution_count": 33,
     "metadata": {},
     "output_type": "execute_result"
    }
   ],
   "source": [
    "warp_cmd = [\"gdalwarp\",\"-overwrite\", SWE_open_buffered, SWE_open_buffered_30, \"-te\", '730235.96', '4364741.66', '738826.9599999999627471', '4372273.16', '-tr',res,res,'-dstnodata','-9999','-r','average']\n",
    "subprocess.call(warp_cmd)"
   ]
  },
  {
   "cell_type": "code",
   "execution_count": 34,
   "id": "0cfcd250-61e4-4dd7-9d02-92a68cb4c2c3",
   "metadata": {},
   "outputs": [
    {
     "data": {
      "text/plain": [
       "'SCB/Sagehen_lidar/ASO/ASO_SCB_20160326/veg_classes/ASO_SCB_20160326_weights.tif'"
      ]
     },
     "execution_count": 34,
     "metadata": {},
     "output_type": "execute_result"
    }
   ],
   "source": [
    "SWE_open_weights"
   ]
  },
  {
   "cell_type": "code",
   "execution_count": 39,
   "id": "99d15e36-0dff-40a3-86c1-e02258a57b6f",
   "metadata": {},
   "outputs": [
    {
     "data": {
      "text/plain": [
       "0"
      ]
     },
     "execution_count": 39,
     "metadata": {},
     "output_type": "execute_result"
    }
   ],
   "source": [
    "# Now calculate the weights raster\n",
    "swe_open_cmd = ['python',gdal_calc, '-A', buffer_open_2014_30_sum,'-B', buffer_open_30,'--NoDataValue','-9999',\n",
    " '--outfile', SWE_open_weights, '--calc=\"B/A\"','--overwrite']\n",
    "subprocess.run(swe_open_cmd)\n",
    "burn_command = ['gdal_rasterize', '-b', '1', '-burn', '-9999', input_shp, SWE_open_weights]\n",
    "subprocess.call(burn_command)"
   ]
  },
  {
   "cell_type": "code",
   "execution_count": null,
   "id": "a6011bf4-58a9-4c8c-990e-c546aecefb9f",
   "metadata": {},
   "outputs": [],
   "source": []
  },
  {
   "cell_type": "code",
   "execution_count": null,
   "id": "ef556fe4-19f6-4dcf-a1b6-d1544adb9c75",
   "metadata": {},
   "outputs": [],
   "source": []
  },
  {
   "cell_type": "markdown",
   "id": "b48c7f4f-2e9c-4fc2-be3a-562d1e750747",
   "metadata": {},
   "source": [
    "### Resample"
   ]
  },
  {
   "cell_type": "code",
   "execution_count": 336,
   "id": "79f3fbd2-9366-435b-9b10-7b64adb57eee",
   "metadata": {},
   "outputs": [],
   "source": [
    "# flight = 'ASO'\n",
    "# date = '20160326'\n",
    "# res = '30'\n",
    "# # input_tif = 'SCB/Sagehen_lidar/ASO/ASO_SCB_20160518/SWE/ASO_SCB_20160518_SWE_open_buffered.tif'\n",
    "# # output_tif = 'SCB/Sagehen_lidar/ASO/ASO_SCB_20160518/SWE/ASO_SCB_20160518_SWE_open_buffered_30m.tif'\n",
    "# input_tree_tif = 'SCB/Sagehen_lidar/'+flight+'/'+flight+'_SCB'+date+'/SWE/'+flight+'_SCB'+date+'_SWE_tall.tif'\n",
    "# output_tree_tif = 'SCB/Sagehen_lidar/'+flight+'/'+flight+'_SCB'+date+'/SWE/'+flight+'_SCB'+date+'_SWE_tall_30m.tif'"
   ]
  },
  {
   "cell_type": "code",
   "execution_count": 347,
   "id": "53caee04-1aa2-4cb9-a8b3-ce38cd04e38c",
   "metadata": {},
   "outputs": [],
   "source": [
    "# warp_cmd = [\"gdalwarp\",\"-overwrite\", input_tif, output_tif, \"-te\", '730235.96', '4364741.66', '738826.9599999999627471', '4372273.16', '-tr',res,res,'-dstnodata','-9999']\n",
    "# subprocess.call(warp_cmd)"
   ]
  },
  {
   "cell_type": "markdown",
   "id": "07f2c723-1550-4e4d-9a04-869fede5c86d",
   "metadata": {},
   "source": [
    "Terrain"
   ]
  },
  {
   "cell_type": "code",
   "execution_count": 338,
   "id": "c2470247-7f3a-4dfe-8f92-3a99c80ee632",
   "metadata": {},
   "outputs": [],
   "source": [
    "# input_tif = 'SCB/Sagehen_lidar/NCALM/NCALM_SCB_2014/DEM/NCALM_2014_BE.tif'\n",
    "# output_tif = 'SCB/Sagehen_lidar/NCALM/NCALM_SCB_2014/DEM/SCB/NCALM_2014_BE_30m.tif'\n",
    "\n",
    "# input_tif = 'SCB/Sagehen_lidar/NCALM/NCALM_SCB_2014/DEM/NCALM_2014_Nness.tif'\n",
    "# output_tif = 'SCB/Sagehen_lidar/NCALM/NCALM_SCB_2014/DEM/SCB/NCALM_2014_Nness_30m.tif'\n",
    "\n",
    "# input_tif = 'SCB/Sagehen_lidar/NCALM/NCALM_SCB_2014/DEM/NCALM_2014_slope.tif'\n",
    "# output_tif = 'SCB/Sagehen_lidar/NCALM/NCALM_SCB_2014/DEM/SCB/NCALM_2014_slope_30m.tif'\n",
    "\n",
    "# input_tif = 'SCB/Sagehen_lidar/NCALM/NCALM_SCB_2014/DEM/NCALM_2014_aspect.tif'\n",
    "# output_tif = 'SCB/Sagehen_lidar/NCALM/NCALM_SCB_2014/DEM/SCB/NCALM_2014_aspect_30m.tif'\n",
    "\n",
    "# input_tif = 'SCB/Sagehen_lidar/NCALM/NCALM_SCB_2014/DEM/NCALM_2014_Eness.tif'\n",
    "# output_tif = 'SCB/Sagehen_lidar/NCALM/NCALM_SCB_2014/DEM/SCB/NCALM_2014_Eness_30m.tif'\n",
    "# input_tif = 'SCB/Sagehen_lidar/NCALM/NCALM_SCB_2014/canopy_metrics/veg_structure/CHM/NCALM_2014_CHM_max.tif'\n",
    "# output_tif = 'SCB/Sagehen_lidar/NCALM/NCALM_SCB_2014/canopy_metrics/veg_structure/NCALM_2014_CHM_30m.tif'\n",
    "\n",
    "# input_tif ='SCB/Sagehen_lidar/NCALM/NCALM_SCB_2014/canopy_metrics/veg_structure/fVeg/NCALM_SCB_2014_fVEG_0pt15.tif'\n",
    "# output_tif ='SCB/Sagehen_lidar/NCALM/NCALM_SCB_2014/canopy_metrics/veg_structure/fVeg/NCALM_SCB_2014_fVEG_0pt15_30m.tif'\n",
    "\n",
    "# input_tif ='SCB/Sagehen_lidar/NCALM/NCALM_SCB_2014/canopy_metrics/veg_structure/fVeg/NCALM_SCB_2014_fVEG_3.tif'\n",
    "# output_tif ='SCB/Sagehen_lidar/NCALM/NCALM_SCB_2014/canopy_metrics/veg_structure/fVeg/NCALM_SCB_2014_fVEG_3_30m.tif'\n",
    "\n",
    "# input_tif ='SCB/Sagehen_lidar/NCALM/NCALM_SCB_2014/canopy_metrics/veg_structure/NCALM_SCB_2014_clumpSize.tif'\n",
    "# output_tif ='SCB/Sagehen_lidar/NCALM/NCALM_SCB_2014/canopy_metrics/veg_structure/NCALM_SCB_2014_clumpSize_10.tif'"
   ]
  },
  {
   "cell_type": "code",
   "execution_count": 339,
   "id": "7252502a-210e-440b-a2b1-71ea55a3ac31",
   "metadata": {},
   "outputs": [],
   "source": [
    "# # if tifs need to be cropped\n",
    "# warp_cmd = [\"gdalwarp\",\"-overwrite\", input_tif, output_tif, \"-te\", '730235.96', '4364741.66', '738826.9599999999627471', '4372273.16', '-tr','30','30','-dstnodata','-9999']\n",
    "# subprocess.call(warp_cmd)"
   ]
  },
  {
   "cell_type": "code",
   "execution_count": null,
   "id": "a74289ce-7a46-4dc5-9b3a-4a3f35752224",
   "metadata": {},
   "outputs": [],
   "source": []
  },
  {
   "cell_type": "code",
   "execution_count": 349,
   "id": "e580f5fe-71da-468c-911d-f5f4d6fe6277",
   "metadata": {},
   "outputs": [],
   "source": [
    "# warp_cmd = [\"gdalwarp\",\"-overwrite\", input_tif, output_tif, \"-te\", '730235.96', '4364741.66', '738826.9599999999627471', '4372273.16', '-tr','30','30','-dstnodata','-9999']\n",
    "# subprocess.call(warp_cmd)\n"
   ]
  },
  {
   "cell_type": "code",
   "execution_count": null,
   "id": "73781e60-815c-4c23-ba0e-47079b904c74",
   "metadata": {},
   "outputs": [],
   "source": []
  },
  {
   "cell_type": "code",
   "execution_count": 350,
   "id": "3cc2cec5-e652-476b-b93f-beba6c40b3df",
   "metadata": {},
   "outputs": [],
   "source": [
    "# warp_cmd = [\"gdalwarp\",\"-overwrite\", input_tif, output_tif, \"-tr\", str(1),str(1),'-srcnodata','-9999','-dstnodata','-9999','-r','average']\n",
    "# subprocess.call(warp_cmd)"
   ]
  },
  {
   "cell_type": "code",
   "execution_count": 351,
   "id": "05d2e0c3-9ac6-47e1-8a76-aabd4b1c2cbc",
   "metadata": {},
   "outputs": [],
   "source": [
    "# warp_cmd = [\"gdalwarp\",\"-overwrite\", input_tif, output_tif, \"-tr\", str(10),str(10),'-srcnodata','-9999','-dstnodata','-9999','-r','average']\n",
    "# subprocess.call(warp_cmd)"
   ]
  },
  {
   "cell_type": "markdown",
   "id": "c79e72f7-9bd8-456f-976a-d5ebfef43221",
   "metadata": {},
   "source": [
    "## Assign Projection"
   ]
  },
  {
   "cell_type": "code",
   "execution_count": 352,
   "id": "03a055ff-28b5-44aa-b234-f980f3d010c0",
   "metadata": {},
   "outputs": [],
   "source": [
    "# path = 'SCB/Sagehen_lidar/NCALM/NCALM_SCB_2014/canopy_metrics/veg_classes/'\n",
    "# #files = glob.glob(path)"
   ]
  },
  {
   "cell_type": "code",
   "execution_count": 353,
   "id": "854ff67c-97ea-45fd-a415-a73469b97a02",
   "metadata": {},
   "outputs": [],
   "source": [
    "# for file in os.listdir(path):\n",
    "#     if file.endswith(\".tif\"):\n",
    "#         input_tif = os.path.join(path, file)\n",
    "#         cmd = ['python', gdal_edit, '-a_srs', 'EPSG:6339', input_tif]\n",
    "#         subprocess.run(cmd)"
   ]
  }
 ],
 "metadata": {
  "kernelspec": {
   "display_name": "Python 3 (ipykernel)",
   "language": "python",
   "name": "python3"
  },
  "language_info": {
   "codemirror_mode": {
    "name": "ipython",
    "version": 3
   },
   "file_extension": ".py",
   "mimetype": "text/x-python",
   "name": "python",
   "nbconvert_exporter": "python",
   "pygments_lexer": "ipython3",
   "version": "3.9.7"
  }
 },
 "nbformat": 4,
 "nbformat_minor": 5
}
